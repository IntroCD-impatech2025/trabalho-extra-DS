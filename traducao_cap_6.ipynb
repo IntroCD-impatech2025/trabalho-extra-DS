{
 "cells": [
  {
   "cell_type": "markdown",
   "id": "0f9972de-9c72-45af-9007-3f1b7ab5efc5",
   "metadata": {},
   "source": [
    "## 6.3. Consultas Dinâmicas"
   ]
  },
  {
   "cell_type": "markdown",
   "id": "3b4becb2-420a-4aad-abe0-57f284b70066",
   "metadata": {},
   "source": [
    "_Consultas dinâmicas_ permitem a exploração rápida e reversível de dados para isolar padrões de interesse. Conforme definido por [Ahlberg, Williamson, &amp; Shneiderman](https://www.cs.umd.edu/~ben/papers/Ahlberg1992Dynamic.pdf) uma consulta dinâmica:\n",
    "\n",
    "- representa uma consulta graficamente,\n",
    "- fornece limites visíveis no intervalo de consulta,\n",
    "- fornece uma representação gráfica dos dados e do resultado da consulta,\n",
    "- fornece feedback imediato do resultado após cada ajuste da consulta,\n",
    "- e permite que usuários novatos comecem a trabalhar com pouco treinamento.\n",
    "\n",
    "Uma abordagem comum é manipular parâmetros de consulta usando `widgets` de interface de usuário padrão, como controles deslizantes, botões de opção e menus suspensos. Para gerar widgets de consulta dinâmica, podemos aplicar uma operação `bind (vincular)` de seleção a um ou mais campos de dados que desejamos consultar.\n",
    "\n",
    "Vamos construir um gráfico de dispersão interativo que usa uma consulta dinâmica para filtrar a exibição. Dado um gráfico de dispersão de classificações de filmes (do Rotten Tomates e IMDB), podemos adicionar uma seleção no campo `Major_Genre` para permitir a filtragem interativa por gênero de filme.\n",
    "\n",
    "Para começar, vamos extrair os gêneros únicos (não nulos) dos dados de `movies (filmes)`:"
   ]
  },
  {
   "cell_type": "code",
   "execution_count": 25,
   "id": "e966d633-998e-4605-8f22-09aa6bad3fd5",
   "metadata": {},
   "outputs": [],
   "source": [
    "df = pd.read_json(movies) # carrega dados do filme\n",
    "genres = df['Major_Genre'].unique() # obtém valores de campo exclusivos\n",
    "genres = list(filter(lambda d: d is not None, genres)) # filtrar valores Nenhum\n",
    "genres.sort() # classificar em ordem alfabética"
   ]
  },
  {
   "cell_type": "markdown",
   "id": "6e97deb9-f05f-4cea-83d5-1e0168a792cb",
   "metadata": {},
   "source": [
    "Para uso posterior, vamos também definir uma lista de valores `MPAA_Rating` exclusivos:"
   ]
  },
  {
   "cell_type": "code",
   "execution_count": 26,
   "id": "63320d1c-328c-410e-a07a-b667b86f5ac0",
   "metadata": {},
   "outputs": [],
   "source": [
    "mpaa = ['G', 'PG', 'PG-13', 'R', 'NC-17', 'Not Rated']"
   ]
  },
  {
   "cell_type": "markdown",
   "id": "06073614-87e3-4362-aca4-1d06e67ffeb8",
   "metadata": {},
   "source": [
    "Agora vamos criar uma seleção `single (única)` vinculada a um menu suspenso.\n",
    "\n",
    "*Use o menu de consulta dinâmica abaixo para explorar os dados. Como as classificações variam por gênero? Como você revisaria o código para filtrar `MPAA_Rating` (G, PG, PG-13, etc.) em vez de `Major_Genre`?*"
   ]
  },
  {
   "cell_type": "code",
   "execution_count": null,
   "id": "b5304db6-43ac-4d8d-97d9-f8a9e20f0473",
   "metadata": {},
   "outputs": [],
   "source": [
    "selectGenre = alt.selection_single(\n",
    "    name='Select', # name the selection 'Select'\n",
    "    fields=['Major_Genre'], # limit selection to the Major_Genre field\n",
    "    init={'Major_Genre': genres[0]}, # use first genre entry as initial value\n",
    "    bind=alt.binding_select(options=genres) # bind to a menu of unique genre values\n",
    ")\n",
    "\n",
    "alt.Chart(movies).mark_circle().add_selection(\n",
    "    selectGenre\n",
    ").encode(\n",
    "    x='Rotten_Tomatoes_Rating:Q',\n",
    "    y='IMDB_Rating:Q',\n",
    "    tooltip='Title:N',\n",
    "    opacity=alt.condition(selectGenre, alt.value(0.75), alt.value(0.05))\n",
    ")"
   ]
  },
  {
   "cell_type": "markdown",
   "id": "7aa43846-1ae1-45d3-8cb5-d14ee3d163ae",
   "metadata": {},
   "source": [
    "Nossa construção acima aproveita vários aspectos das seleções:\n",
    "\n",
    "- Damos um nome à seleção (`'Select'`). Este nome não é obrigatório, mas permite influenciar o texto do rótulo do menu de consulta dinâmica gerado. (_O que acontece se você remover o nome? Experimente!_)\n",
    "- Restringimos a seleção a um campo de dados específico (`Major_Genre`). Anteriormente, quando usávamos uma seleção `single (única)`, a seleção era mapeada para pontos de dados individuais. Ao limitar a seleção a um campo específico, podemos selecionar _all (todos)_ os pontos de dados cujo valor do campo `Major_Genre` corresponde ao único valor selecionado.\n",
    "- Inicializamos `init=...` a seleção com um valor inicial.\n",
    "- Nós `bind (vinculamos)` a seleção a um widget de interface, neste caso um menu suspenso via `binding_select`.\n",
    "- Como antes, usamos uma codificação condicional para controlar a opacidade do canal.\n",
    "\n",
    "\n",
    "\n"
   ]
  },
  {
   "cell_type": "markdown",
   "id": "2ba360c4-593e-420d-9db6-8b7bde849d32",
   "metadata": {},
   "source": [
    "### 6.3.1. Vinculando seleções a múltiplas entradas\n",
    "\n",
    "Uma instância de seleção pode ser vinculada a _múltiplos_ widgets de consulta dinâmica. Vamos modificar o exemplo acima para fornecer filtros para _ambos_ `Major_Genre` e `MPAA_Rating`, usando botões de opção em vez de um menu. Nossa seleção `single (única)` agora é definida em um único _par_ de gênero e valores de classificação MPAA\n",
    "\n",
    "_Procure conjunções surpreendentes de gênero e classificação. Existe algum filme de terror com classificação G ou PG?_\n",
    "\n",
    "\n",
    "\n"
   ]
  },
  {
   "cell_type": "code",
   "execution_count": null,
   "id": "f6a91ed6-325b-4ac6-ab72-2d402af90dbe",
   "metadata": {},
   "outputs": [],
   "source": [
    "# seleção de valor único em pares [Major_Genre, MPAA_Rating]\n",
    "# usa valores específicos conectados como valores iniciais selecionados\n",
    "selection = alt.selection_single(\n",
    "    name='Select',\n",
    "    fields=['Major_Genre', 'MPAA_Rating'],\n",
    "    init={'Major_Genre': 'Drama', 'MPAA_Rating': 'R'},\n",
    "    bind={'Major_Genre': alt.binding_select(options=genres), 'MPAA_Rating': alt.binding_radio(options=mpaa)}\n",
    ")\n",
    "  \n",
    "# gráfico de dispersão, modifique a opacidade com base na seleção\n",
    "alt.Chart(movies).mark_circle().add_selection(\n",
    "    selection\n",
    ").encode(\n",
    "    x='Rotten_Tomatoes_Rating:Q',\n",
    "    y='IMDB_Rating:Q',\n",
    "    tooltip='Title:N',\n",
    "    opacity=alt.condition(selection, alt.value(0.75), alt.value(0.05))\n",
    ")"
   ]
  },
  {
   "cell_type": "markdown",
   "id": "6d145711-72fc-4853-9b36-b82dd6044512",
   "metadata": {},
   "source": [
    "_Curiosidades: a classificação PG-13 não existia quando os filmes [Jaws](https://www.imdb.com/title/tt0073195/) e [Jaws 2](https://www.imdb.com/title/tt0077766/) foram liberados. O primeiro filme a receber classificação PG-13 foi de 1984 [Red Dawn](https://www.imdb.com/title/tt0087985/)._"
   ]
  },
  {
   "cell_type": "markdown",
   "id": "6247fd6e-41d2-4c7d-813d-98fe3424a9a0",
   "metadata": {},
   "source": [
    "### 6.3.2. Usando visualizações como consultas dinâmicas\n",
    "\n",
    "Embora os widgets de interface padrão mostrem os _possíveis_ valores dos parâmetros de consulta, eles não visualizam a _distribuição_ desses valores. Também podemos querer usar interações mais ricas, como seleções de múltiplos valores ou intervalos, em vez de widgets de entrada que selecionam apenas um único valor por vez.\n",
    "\n",
    "Para resolver esses problemas, podemos criar gráficos adicionais para visualizar dados e oferecer suporte a consultas dinâmicas. Vamos adicionar um histograma da contagem de filmes por ano e usar uma seleção de intervalo para destacar dinamicamente os filmes em períodos de tempo selecionados.\n",
    "\n",
    "*Interaja com o histograma anual para explorar filmes de diferentes períodos. Você viu alguma evidência de [viés de amostragem](https://en.wikipedia.org/wiki/Sampling_bias) ao longo dos anos? (Como as avaliações do ano e dos críticos se relacionam?)*\n",
    "\n",
    "_Os anos vão de 1930 a 2040! Os filmes futuros estão em pré-produção ou existem erros de “um século”? Além disso, dependendo do fuso horário em que você está, você poderá ver um pequeno aumento em 1969 ou 1970. Por que isso aconteceria? (Veja o final do caderno para explicação!)_\n",
    "\n",
    "\n"
   ]
  },
  {
   "cell_type": "code",
   "execution_count": null,
   "id": "8a282b39-d0de-4ff8-8c97-d6de9bbaab42",
   "metadata": {},
   "outputs": [],
   "source": [
    "brush = alt.selection_interval(\n",
    "    encodings=['x'] # limita a seleção aos valores do eixo x (ano)\n",
    ")\n",
    "\n",
    "# histograma de consulta dinâmica\n",
    "years = alt.Chart(movies).mark_bar().add_selection(\n",
    "    brush\n",
    ").encode(\n",
    "    alt.X('year(Release_Date):T', title='Films by Release Year'),\n",
    "    alt.Y('count():Q', title=None)\n",
    ").properties(\n",
    "    width=650,\n",
    "    height=50\n",
    ")\n",
    "\n",
    "# gráfico de dispersão, modifique a opacidade com base na seleção\n",
    "ratings = alt.Chart(movies).mark_circle().encode(\n",
    "    x='Rotten_Tomatoes_Rating:Q',\n",
    "    y='IMDB_Rating:Q',\n",
    "    tooltip='Title:N',\n",
    "    opacity=alt.condition(brush, alt.value(0.75), alt.value(0.05))\n",
    ").properties(\n",
    "    width=650,\n",
    "    height=400\n",
    ")\n",
    "\n",
    "alt.vconcat(years, ratings).properties(spacing=5)"
   ]
  },
  {
   "cell_type": "markdown",
   "id": "5579d08e-cfec-483f-9e3a-124f28f1b62b",
   "metadata": {},
   "source": [
    "O exemplo acima fornece consultas dinâmicas usando uma _seleção vinculada_ entre gráficos:\n",
    "\n",
    "- Criamos uma seleção de `intervalo` (`brush`) e definimos `encodings=['x']` para limitar a seleção apenas ao eixo x, resultando em um intervalo de seleção unidimensional.\n",
    "- Registramos `brush` com nosso histograma de filmes por ano via `.add_selection(brush)`.\n",
    "- Usamos `brush` em uma codificação condicional para ajustar a `opacidade` do gráfico de dispersão.\n",
    "\n",
    "Esta técnica de interação de selecionar elementos em um gráfico e ver destaques vinculados em um ou mais gráficos é conhecida como [_brushing &amp; linking_](https://en.wikipedia.org/wiki/Brushing_and_linking).\n",
    "\n"
   ]
  },
  {
   "cell_type": "code",
   "execution_count": null,
   "id": "07eb0366-a7bd-42e7-b0d7-daafc23857b6",
   "metadata": {},
   "outputs": [],
   "source": []
  }
 ],
 "metadata": {
  "kernelspec": {
   "display_name": "Python 3 (ipykernel)",
   "language": "python",
   "name": "python3"
  },
  "language_info": {
   "codemirror_mode": {
    "name": "ipython",
    "version": 3
   },
   "file_extension": ".py",
   "mimetype": "text/x-python",
   "name": "python",
   "nbconvert_exporter": "python",
   "pygments_lexer": "ipython3",
   "version": "3.11.7"
  }
 },
 "nbformat": 4,
 "nbformat_minor": 5
}
