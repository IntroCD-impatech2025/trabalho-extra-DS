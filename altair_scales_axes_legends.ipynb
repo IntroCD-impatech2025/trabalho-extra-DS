{
 "cells": [
  {
   "cell_type": "markdown",
   "metadata": {
    "colab_type": "text",
    "id": "s-_LXMfxPYNn"
   },
   "source": [
    "# 4. Escalas, Eixos e Legendas\n",
    "\n",
    "Codificação visual &ndash; mapear dados para variáveis visuais como posição, tamanho, forma ou cor &ndash; é o coração pulsante da visualização de dados. O mecanismo que realiza esse mapeamento é o *scale* (escala): uma função que recebe um valor de dado como input (o *domain* \\[domínio\\] da escala) e retorna um valor visual, como a posição de um píxel ou uma cor RGB, como output (o *range* \\[intervalo\\] da escala). Obviamente, uma visualização é inútil se ninguém for capaz de compreender o que ela transmite! Além dos elementos gráficos principais, um gráfico precisa de elementos de referência, ou *guides* (guias), que permitem aos leitores decodificar a representação. Guias como *axes* (eixos, que visualizam escalas com intervalos espaciais) e *legends* (legendas, que visualizam escalas com intervalos de cor, tamanho ou forma), são componentes essenciais para uma visualização eficaz de dados!\n",
    "\n",
    "Nesse notebook, exploraremos as opções que o Altair oferece para suportar designs personalizados de mapeamentos de escala, eixos e legendas, utilizando um exemplo sobre a eficácia de remédios antibióticos.\n",
    "\n",
    "\n",
    "_Esse notebook é parte de [_data visualization curriculum_](https://github.com/uwdata/visualization-curriculum) (currículo de visualização de dados)._"
   ]
  },
  {
   "cell_type": "code",
   "execution_count": 3,
   "metadata": {
    "colab": {},
    "colab_type": "code",
    "id": "9-iDk57UO3ij"
   },
   "outputs": [],
   "source": [
    "import pandas as pd\n",
    "import altair as alt"
   ]
  },
  {
   "cell_type": "markdown",
   "metadata": {
    "colab_type": "text",
    "id": "2bgy9xz4J2vb"
   },
   "source": [
    "## 4.1. Dados de Antibióticos"
   ]
  },
  {
   "cell_type": "markdown",
   "metadata": {
    "colab_type": "text",
    "id": "cXYJkW_p6zGN"
   },
   "source": [
    "Após a segunda guerra mundial, antibióticos foram considerados \"medicações milagrosas\", uma vez que eram um remédio fácil para doenças antes consideradas incuráveis. Para identificar qual antibiótico era mais eficaz contra cada infecção bacteriana, foi coletado o desempenho dos três antibióticos mais populares em 16 espécies de bactérias."
   ]
  },
  {
   "cell_type": "markdown",
   "metadata": {
    "colab_type": "text",
    "id": "YRXEnlzG8Cpt"
   },
   "source": [
    "Usaremos a base de dados de antibióticos da [_coleção vega-datasets_](https://github.com/vega/vega-datasets). Nos exemplos abaixo, passaremos o URL diretamente para o Altair:"
   ]
  },
  {
   "cell_type": "code",
   "execution_count": 4,
   "metadata": {
    "colab": {},
    "colab_type": "code",
    "id": "jbtcg3fmJ5_A"
   },
   "outputs": [],
   "source": [
    "antibiotics = 'https://cdn.jsdelivr.net/npm/vega-datasets@1/data/burtin.json'"
   ]
  },
  {
   "cell_type": "markdown",
   "metadata": {
    "colab_type": "text",
    "id": "MGHC8Fft8L2E"
   },
   "source": [
    "Primeiro, podemos carregar os dados com o Pandas para visualizar o _dataset_ na íntegra e nos familiarizar com os campos disponíveis:"
   ]
  },
  {
   "cell_type": "code",
   "execution_count": 5,
   "metadata": {
    "colab": {
     "base_uri": "https://localhost:8080/",
     "height": 545
    },
    "colab_type": "code",
    "id": "WoMzr0HE6ipZ",
    "outputId": "fa9edadf-8744-4514-d8ba-5401b7f66bed"
   },
   "outputs": [
    {
     "data": {
      "text/html": [
       "<div>\n",
       "<style scoped>\n",
       "    .dataframe tbody tr th:only-of-type {\n",
       "        vertical-align: middle;\n",
       "    }\n",
       "\n",
       "    .dataframe tbody tr th {\n",
       "        vertical-align: top;\n",
       "    }\n",
       "\n",
       "    .dataframe thead th {\n",
       "        text-align: right;\n",
       "    }\n",
       "</style>\n",
       "<table border=\"1\" class=\"dataframe\">\n",
       "  <thead>\n",
       "    <tr style=\"text-align: right;\">\n",
       "      <th></th>\n",
       "      <th>Bacteria</th>\n",
       "      <th>Penicillin</th>\n",
       "      <th>Streptomycin</th>\n",
       "      <th>Neomycin</th>\n",
       "      <th>Gram_Staining</th>\n",
       "      <th>Genus</th>\n",
       "    </tr>\n",
       "  </thead>\n",
       "  <tbody>\n",
       "    <tr>\n",
       "      <th>0</th>\n",
       "      <td>Aerobacter aerogenes</td>\n",
       "      <td>870.000</td>\n",
       "      <td>1.00</td>\n",
       "      <td>1.600</td>\n",
       "      <td>negative</td>\n",
       "      <td>other</td>\n",
       "    </tr>\n",
       "    <tr>\n",
       "      <th>1</th>\n",
       "      <td>Bacillus anthracis</td>\n",
       "      <td>0.001</td>\n",
       "      <td>0.01</td>\n",
       "      <td>0.007</td>\n",
       "      <td>positive</td>\n",
       "      <td>other</td>\n",
       "    </tr>\n",
       "    <tr>\n",
       "      <th>2</th>\n",
       "      <td>Brucella abortus</td>\n",
       "      <td>1.000</td>\n",
       "      <td>2.00</td>\n",
       "      <td>0.020</td>\n",
       "      <td>negative</td>\n",
       "      <td>other</td>\n",
       "    </tr>\n",
       "    <tr>\n",
       "      <th>3</th>\n",
       "      <td>Diplococcus pneumoniae</td>\n",
       "      <td>0.005</td>\n",
       "      <td>11.00</td>\n",
       "      <td>10.000</td>\n",
       "      <td>positive</td>\n",
       "      <td>other</td>\n",
       "    </tr>\n",
       "    <tr>\n",
       "      <th>4</th>\n",
       "      <td>Escherichia coli</td>\n",
       "      <td>100.000</td>\n",
       "      <td>0.40</td>\n",
       "      <td>0.100</td>\n",
       "      <td>negative</td>\n",
       "      <td>other</td>\n",
       "    </tr>\n",
       "    <tr>\n",
       "      <th>5</th>\n",
       "      <td>Klebsiella pneumoniae</td>\n",
       "      <td>850.000</td>\n",
       "      <td>1.20</td>\n",
       "      <td>1.000</td>\n",
       "      <td>negative</td>\n",
       "      <td>other</td>\n",
       "    </tr>\n",
       "    <tr>\n",
       "      <th>6</th>\n",
       "      <td>Mycobacterium tuberculosis</td>\n",
       "      <td>800.000</td>\n",
       "      <td>5.00</td>\n",
       "      <td>2.000</td>\n",
       "      <td>negative</td>\n",
       "      <td>other</td>\n",
       "    </tr>\n",
       "    <tr>\n",
       "      <th>7</th>\n",
       "      <td>Proteus vulgaris</td>\n",
       "      <td>3.000</td>\n",
       "      <td>0.10</td>\n",
       "      <td>0.100</td>\n",
       "      <td>negative</td>\n",
       "      <td>other</td>\n",
       "    </tr>\n",
       "    <tr>\n",
       "      <th>8</th>\n",
       "      <td>Pseudomonas aeruginosa</td>\n",
       "      <td>850.000</td>\n",
       "      <td>2.00</td>\n",
       "      <td>0.400</td>\n",
       "      <td>negative</td>\n",
       "      <td>other</td>\n",
       "    </tr>\n",
       "    <tr>\n",
       "      <th>9</th>\n",
       "      <td>Salmonella (Eberthella) typhosa</td>\n",
       "      <td>1.000</td>\n",
       "      <td>0.40</td>\n",
       "      <td>0.008</td>\n",
       "      <td>negative</td>\n",
       "      <td>Salmonella</td>\n",
       "    </tr>\n",
       "    <tr>\n",
       "      <th>10</th>\n",
       "      <td>Salmonella schottmuelleri</td>\n",
       "      <td>10.000</td>\n",
       "      <td>0.80</td>\n",
       "      <td>0.090</td>\n",
       "      <td>negative</td>\n",
       "      <td>Salmonella</td>\n",
       "    </tr>\n",
       "    <tr>\n",
       "      <th>11</th>\n",
       "      <td>Staphylococcus albus</td>\n",
       "      <td>0.007</td>\n",
       "      <td>0.10</td>\n",
       "      <td>0.001</td>\n",
       "      <td>positive</td>\n",
       "      <td>Staphylococcus</td>\n",
       "    </tr>\n",
       "    <tr>\n",
       "      <th>12</th>\n",
       "      <td>Staphylococcus aureus</td>\n",
       "      <td>0.030</td>\n",
       "      <td>0.03</td>\n",
       "      <td>0.001</td>\n",
       "      <td>positive</td>\n",
       "      <td>Staphylococcus</td>\n",
       "    </tr>\n",
       "    <tr>\n",
       "      <th>13</th>\n",
       "      <td>Streptococcus fecalis</td>\n",
       "      <td>1.000</td>\n",
       "      <td>1.00</td>\n",
       "      <td>0.100</td>\n",
       "      <td>positive</td>\n",
       "      <td>Streptococcus</td>\n",
       "    </tr>\n",
       "    <tr>\n",
       "      <th>14</th>\n",
       "      <td>Streptococcus hemolyticus</td>\n",
       "      <td>0.001</td>\n",
       "      <td>14.00</td>\n",
       "      <td>10.000</td>\n",
       "      <td>positive</td>\n",
       "      <td>Streptococcus</td>\n",
       "    </tr>\n",
       "    <tr>\n",
       "      <th>15</th>\n",
       "      <td>Streptococcus viridans</td>\n",
       "      <td>0.005</td>\n",
       "      <td>10.00</td>\n",
       "      <td>40.000</td>\n",
       "      <td>positive</td>\n",
       "      <td>Streptococcus</td>\n",
       "    </tr>\n",
       "  </tbody>\n",
       "</table>\n",
       "</div>"
      ],
      "text/plain": [
       "                           Bacteria  Penicillin  Streptomycin  Neomycin  \\\n",
       "0              Aerobacter aerogenes     870.000          1.00     1.600   \n",
       "1                Bacillus anthracis       0.001          0.01     0.007   \n",
       "2                  Brucella abortus       1.000          2.00     0.020   \n",
       "3            Diplococcus pneumoniae       0.005         11.00    10.000   \n",
       "4                  Escherichia coli     100.000          0.40     0.100   \n",
       "5             Klebsiella pneumoniae     850.000          1.20     1.000   \n",
       "6        Mycobacterium tuberculosis     800.000          5.00     2.000   \n",
       "7                  Proteus vulgaris       3.000          0.10     0.100   \n",
       "8            Pseudomonas aeruginosa     850.000          2.00     0.400   \n",
       "9   Salmonella (Eberthella) typhosa       1.000          0.40     0.008   \n",
       "10        Salmonella schottmuelleri      10.000          0.80     0.090   \n",
       "11             Staphylococcus albus       0.007          0.10     0.001   \n",
       "12            Staphylococcus aureus       0.030          0.03     0.001   \n",
       "13            Streptococcus fecalis       1.000          1.00     0.100   \n",
       "14        Streptococcus hemolyticus       0.001         14.00    10.000   \n",
       "15           Streptococcus viridans       0.005         10.00    40.000   \n",
       "\n",
       "   Gram_Staining           Genus  \n",
       "0       negative           other  \n",
       "1       positive           other  \n",
       "2       negative           other  \n",
       "3       positive           other  \n",
       "4       negative           other  \n",
       "5       negative           other  \n",
       "6       negative           other  \n",
       "7       negative           other  \n",
       "8       negative           other  \n",
       "9       negative      Salmonella  \n",
       "10      negative      Salmonella  \n",
       "11      positive  Staphylococcus  \n",
       "12      positive  Staphylococcus  \n",
       "13      positive   Streptococcus  \n",
       "14      positive   Streptococcus  \n",
       "15      positive   Streptococcus  "
      ]
     },
     "execution_count": 5,
     "metadata": {},
     "output_type": "execute_result"
    }
   ],
   "source": [
    "pd.read_json(antibiotics)"
   ]
  },
  {
   "cell_type": "markdown",
   "metadata": {
    "colab_type": "text",
    "id": "els3ZQOv7K_9"
   },
   "source": [
    "Os valores numéricos na tabela indicam a [concentração inibitória mínima (CIM)](https://en.wikipedia.org/wiki/Minimum_inhibitory_concentration), uma medida da eficácia do antibiótico, que representa a concentração de antibiótico (em microgramas por mililitro) necessária para prevenir o crescimento _in vitro_. A reação das bactérias a um procedimento chamado [coloração de Gram](https://en.wikipedia.org/wiki/Gram_stain) é descrita pelo campo nominal `Gram_Staining`. Bactérias que ficam azuis escuras ou violetas são Gram-positivas. Caso contrário, são Gram-negativas.\n",
    "\n",
    "À medida que examinamos diferentes visualizações deste _dataset_, pergunte a si mesmo: O que podemos aprender sobre a eficácia relativa dos antibióticos? O que podemos aprender sobre as espécies bacterianas com base em suas respostas aos antibióticos?"
   ]
  },
  {
   "cell_type": "markdown",
   "metadata": {},
   "source": [
    "## 4.2 Configurando Eixos e Escalas\n",
    "\n",
    "### 4.2.1 Plotando Resistência Antibiótica: Ajustando o Tipo de Escala\n",
    "\n",
    "Vamos começar observando um gráfico de pontos simples da CIM (Concentração Inibitória Mínima) para a Neomicina."
   ]
  },
  {
   "cell_type": "code",
   "execution_count": 6,
   "metadata": {},
   "outputs": [
    {
     "data": {
      "text/html": [
       "\n",
       "<style>\n",
       "  #altair-viz-573a4ff1016146459fde40562112eb7a.vega-embed {\n",
       "    width: 100%;\n",
       "    display: flex;\n",
       "  }\n",
       "\n",
       "  #altair-viz-573a4ff1016146459fde40562112eb7a.vega-embed details,\n",
       "  #altair-viz-573a4ff1016146459fde40562112eb7a.vega-embed details summary {\n",
       "    position: relative;\n",
       "  }\n",
       "</style>\n",
       "<div id=\"altair-viz-573a4ff1016146459fde40562112eb7a\"></div>\n",
       "<script type=\"text/javascript\">\n",
       "  var VEGA_DEBUG = (typeof VEGA_DEBUG == \"undefined\") ? {} : VEGA_DEBUG;\n",
       "  (function(spec, embedOpt){\n",
       "    let outputDiv = document.currentScript.previousElementSibling;\n",
       "    if (outputDiv.id !== \"altair-viz-573a4ff1016146459fde40562112eb7a\") {\n",
       "      outputDiv = document.getElementById(\"altair-viz-573a4ff1016146459fde40562112eb7a\");\n",
       "    }\n",
       "\n",
       "    const paths = {\n",
       "      \"vega\": \"https://cdn.jsdelivr.net/npm/vega@5?noext\",\n",
       "      \"vega-lib\": \"https://cdn.jsdelivr.net/npm/vega-lib?noext\",\n",
       "      \"vega-lite\": \"https://cdn.jsdelivr.net/npm/vega-lite@5.20.1?noext\",\n",
       "      \"vega-embed\": \"https://cdn.jsdelivr.net/npm/vega-embed@6?noext\",\n",
       "    };\n",
       "\n",
       "    function maybeLoadScript(lib, version) {\n",
       "      var key = `${lib.replace(\"-\", \"\")}_version`;\n",
       "      return (VEGA_DEBUG[key] == version) ?\n",
       "        Promise.resolve(paths[lib]) :\n",
       "        new Promise(function(resolve, reject) {\n",
       "          var s = document.createElement('script');\n",
       "          document.getElementsByTagName(\"head\")[0].appendChild(s);\n",
       "          s.async = true;\n",
       "          s.onload = () => {\n",
       "            VEGA_DEBUG[key] = version;\n",
       "            return resolve(paths[lib]);\n",
       "          };\n",
       "          s.onerror = () => reject(`Error loading script: ${paths[lib]}`);\n",
       "          s.src = paths[lib];\n",
       "        });\n",
       "    }\n",
       "\n",
       "    function showError(err) {\n",
       "      outputDiv.innerHTML = `<div class=\"error\" style=\"color:red;\">${err}</div>`;\n",
       "      throw err;\n",
       "    }\n",
       "\n",
       "    function displayChart(vegaEmbed) {\n",
       "      vegaEmbed(outputDiv, spec, embedOpt)\n",
       "        .catch(err => showError(`Javascript Error: ${err.message}<br>This usually means there's a typo in your chart specification. See the javascript console for the full traceback.`));\n",
       "    }\n",
       "\n",
       "    if(typeof define === \"function\" && define.amd) {\n",
       "      requirejs.config({paths});\n",
       "      let deps = [\"vega-embed\"];\n",
       "      require(deps, displayChart, err => showError(`Error loading script: ${err.message}`));\n",
       "    } else {\n",
       "      maybeLoadScript(\"vega\", \"5\")\n",
       "        .then(() => maybeLoadScript(\"vega-lite\", \"5.20.1\"))\n",
       "        .then(() => maybeLoadScript(\"vega-embed\", \"6\"))\n",
       "        .catch(showError)\n",
       "        .then(() => displayChart(vegaEmbed));\n",
       "    }\n",
       "  })({\"config\": {\"view\": {\"continuousWidth\": 300, \"continuousHeight\": 300}}, \"data\": {\"url\": \"https://cdn.jsdelivr.net/npm/vega-datasets@1/data/burtin.json\"}, \"mark\": {\"type\": \"circle\"}, \"encoding\": {\"x\": {\"field\": \"Neomycin\", \"type\": \"quantitative\"}}, \"$schema\": \"https://vega.github.io/schema/vega-lite/v5.20.1.json\"}, {\"mode\": \"vega-lite\"});\n",
       "</script>"
      ],
      "text/plain": [
       "alt.Chart(...)"
      ]
     },
     "execution_count": 6,
     "metadata": {},
     "output_type": "execute_result"
    }
   ],
   "source": [
    "alt.Chart(antibiotics).mark_circle().encode(\n",
    "    alt.X('Neomycin:Q')\n",
    ")"
   ]
  },
  {
   "cell_type": "markdown",
   "metadata": {},
   "source": [
    "_Podemos observar que os valores de CIM abrangem ordens de magnitude: a maioria dos pontos se agrupa à esquerda, com alguns outliers grandes à direita._\n",
    "\n",
    "Por padrão, o Altair usa um mapeamento `linear` entre os valores do domínio (domain, CIM) e do intervalo (range, pixels). Para obter uma visão geral melhor dos dados, podemos aplicar uma transformação de escala diferente."
   ]
  },
  {
   "cell_type": "markdown",
   "metadata": {},
   "source": [
    "Para alterar o tipo de escala, definiremos o atributo `scale`, usando o método `alt.Scale` e o parâmetro `type`.\n",
    "\n",
    "Aqui está o resultado ao usar um tipo de escala de raiz quadrada (`sqrt`). Agora, as distâncias na escala de pixels correspondem à raiz quadrada das distâncias no domínio dos dados."
   ]
  },
  {
   "cell_type": "code",
   "execution_count": 7,
   "metadata": {},
   "outputs": [
    {
     "data": {
      "text/html": [
       "\n",
       "<style>\n",
       "  #altair-viz-39bcd953c04f4f8d83637578af182d81.vega-embed {\n",
       "    width: 100%;\n",
       "    display: flex;\n",
       "  }\n",
       "\n",
       "  #altair-viz-39bcd953c04f4f8d83637578af182d81.vega-embed details,\n",
       "  #altair-viz-39bcd953c04f4f8d83637578af182d81.vega-embed details summary {\n",
       "    position: relative;\n",
       "  }\n",
       "</style>\n",
       "<div id=\"altair-viz-39bcd953c04f4f8d83637578af182d81\"></div>\n",
       "<script type=\"text/javascript\">\n",
       "  var VEGA_DEBUG = (typeof VEGA_DEBUG == \"undefined\") ? {} : VEGA_DEBUG;\n",
       "  (function(spec, embedOpt){\n",
       "    let outputDiv = document.currentScript.previousElementSibling;\n",
       "    if (outputDiv.id !== \"altair-viz-39bcd953c04f4f8d83637578af182d81\") {\n",
       "      outputDiv = document.getElementById(\"altair-viz-39bcd953c04f4f8d83637578af182d81\");\n",
       "    }\n",
       "\n",
       "    const paths = {\n",
       "      \"vega\": \"https://cdn.jsdelivr.net/npm/vega@5?noext\",\n",
       "      \"vega-lib\": \"https://cdn.jsdelivr.net/npm/vega-lib?noext\",\n",
       "      \"vega-lite\": \"https://cdn.jsdelivr.net/npm/vega-lite@5.20.1?noext\",\n",
       "      \"vega-embed\": \"https://cdn.jsdelivr.net/npm/vega-embed@6?noext\",\n",
       "    };\n",
       "\n",
       "    function maybeLoadScript(lib, version) {\n",
       "      var key = `${lib.replace(\"-\", \"\")}_version`;\n",
       "      return (VEGA_DEBUG[key] == version) ?\n",
       "        Promise.resolve(paths[lib]) :\n",
       "        new Promise(function(resolve, reject) {\n",
       "          var s = document.createElement('script');\n",
       "          document.getElementsByTagName(\"head\")[0].appendChild(s);\n",
       "          s.async = true;\n",
       "          s.onload = () => {\n",
       "            VEGA_DEBUG[key] = version;\n",
       "            return resolve(paths[lib]);\n",
       "          };\n",
       "          s.onerror = () => reject(`Error loading script: ${paths[lib]}`);\n",
       "          s.src = paths[lib];\n",
       "        });\n",
       "    }\n",
       "\n",
       "    function showError(err) {\n",
       "      outputDiv.innerHTML = `<div class=\"error\" style=\"color:red;\">${err}</div>`;\n",
       "      throw err;\n",
       "    }\n",
       "\n",
       "    function displayChart(vegaEmbed) {\n",
       "      vegaEmbed(outputDiv, spec, embedOpt)\n",
       "        .catch(err => showError(`Javascript Error: ${err.message}<br>This usually means there's a typo in your chart specification. See the javascript console for the full traceback.`));\n",
       "    }\n",
       "\n",
       "    if(typeof define === \"function\" && define.amd) {\n",
       "      requirejs.config({paths});\n",
       "      let deps = [\"vega-embed\"];\n",
       "      require(deps, displayChart, err => showError(`Error loading script: ${err.message}`));\n",
       "    } else {\n",
       "      maybeLoadScript(\"vega\", \"5\")\n",
       "        .then(() => maybeLoadScript(\"vega-lite\", \"5.20.1\"))\n",
       "        .then(() => maybeLoadScript(\"vega-embed\", \"6\"))\n",
       "        .catch(showError)\n",
       "        .then(() => displayChart(vegaEmbed));\n",
       "    }\n",
       "  })({\"config\": {\"view\": {\"continuousWidth\": 300, \"continuousHeight\": 300}}, \"data\": {\"url\": \"https://cdn.jsdelivr.net/npm/vega-datasets@1/data/burtin.json\"}, \"mark\": {\"type\": \"circle\"}, \"encoding\": {\"x\": {\"field\": \"Neomycin\", \"scale\": {\"type\": \"sqrt\"}, \"type\": \"quantitative\"}}, \"$schema\": \"https://vega.github.io/schema/vega-lite/v5.20.1.json\"}, {\"mode\": \"vega-lite\"});\n",
       "</script>"
      ],
      "text/plain": [
       "alt.Chart(...)"
      ]
     },
     "execution_count": 7,
     "metadata": {},
     "output_type": "execute_result"
    }
   ],
   "source": [
    "alt.Chart(antibiotics).mark_circle().encode(\n",
    "    alt.X('Neomycin:Q',\n",
    "          scale=alt.Scale(type='sqrt'))\n",
    ")"
   ]
  },
  {
   "cell_type": "markdown",
   "metadata": {},
   "source": [
    "Os pontos à esquerda agora estão melhor diferenciados, mas ainda observamos uma forte distorção.\n",
    "\n",
    "Vamos tentar usar uma [escala logarítmica](https://en.wikipedia.org/wiki/Logarithmic_scale)(`log`) em vez disso:"
   ]
  },
  {
   "cell_type": "code",
   "execution_count": 8,
   "metadata": {},
   "outputs": [
    {
     "data": {
      "text/html": [
       "\n",
       "<style>\n",
       "  #altair-viz-23baaa9944904e73a633ff5d3777baf5.vega-embed {\n",
       "    width: 100%;\n",
       "    display: flex;\n",
       "  }\n",
       "\n",
       "  #altair-viz-23baaa9944904e73a633ff5d3777baf5.vega-embed details,\n",
       "  #altair-viz-23baaa9944904e73a633ff5d3777baf5.vega-embed details summary {\n",
       "    position: relative;\n",
       "  }\n",
       "</style>\n",
       "<div id=\"altair-viz-23baaa9944904e73a633ff5d3777baf5\"></div>\n",
       "<script type=\"text/javascript\">\n",
       "  var VEGA_DEBUG = (typeof VEGA_DEBUG == \"undefined\") ? {} : VEGA_DEBUG;\n",
       "  (function(spec, embedOpt){\n",
       "    let outputDiv = document.currentScript.previousElementSibling;\n",
       "    if (outputDiv.id !== \"altair-viz-23baaa9944904e73a633ff5d3777baf5\") {\n",
       "      outputDiv = document.getElementById(\"altair-viz-23baaa9944904e73a633ff5d3777baf5\");\n",
       "    }\n",
       "\n",
       "    const paths = {\n",
       "      \"vega\": \"https://cdn.jsdelivr.net/npm/vega@5?noext\",\n",
       "      \"vega-lib\": \"https://cdn.jsdelivr.net/npm/vega-lib?noext\",\n",
       "      \"vega-lite\": \"https://cdn.jsdelivr.net/npm/vega-lite@5.20.1?noext\",\n",
       "      \"vega-embed\": \"https://cdn.jsdelivr.net/npm/vega-embed@6?noext\",\n",
       "    };\n",
       "\n",
       "    function maybeLoadScript(lib, version) {\n",
       "      var key = `${lib.replace(\"-\", \"\")}_version`;\n",
       "      return (VEGA_DEBUG[key] == version) ?\n",
       "        Promise.resolve(paths[lib]) :\n",
       "        new Promise(function(resolve, reject) {\n",
       "          var s = document.createElement('script');\n",
       "          document.getElementsByTagName(\"head\")[0].appendChild(s);\n",
       "          s.async = true;\n",
       "          s.onload = () => {\n",
       "            VEGA_DEBUG[key] = version;\n",
       "            return resolve(paths[lib]);\n",
       "          };\n",
       "          s.onerror = () => reject(`Error loading script: ${paths[lib]}`);\n",
       "          s.src = paths[lib];\n",
       "        });\n",
       "    }\n",
       "\n",
       "    function showError(err) {\n",
       "      outputDiv.innerHTML = `<div class=\"error\" style=\"color:red;\">${err}</div>`;\n",
       "      throw err;\n",
       "    }\n",
       "\n",
       "    function displayChart(vegaEmbed) {\n",
       "      vegaEmbed(outputDiv, spec, embedOpt)\n",
       "        .catch(err => showError(`Javascript Error: ${err.message}<br>This usually means there's a typo in your chart specification. See the javascript console for the full traceback.`));\n",
       "    }\n",
       "\n",
       "    if(typeof define === \"function\" && define.amd) {\n",
       "      requirejs.config({paths});\n",
       "      let deps = [\"vega-embed\"];\n",
       "      require(deps, displayChart, err => showError(`Error loading script: ${err.message}`));\n",
       "    } else {\n",
       "      maybeLoadScript(\"vega\", \"5\")\n",
       "        .then(() => maybeLoadScript(\"vega-lite\", \"5.20.1\"))\n",
       "        .then(() => maybeLoadScript(\"vega-embed\", \"6\"))\n",
       "        .catch(showError)\n",
       "        .then(() => displayChart(vegaEmbed));\n",
       "    }\n",
       "  })({\"config\": {\"view\": {\"continuousWidth\": 300, \"continuousHeight\": 300}}, \"data\": {\"url\": \"https://cdn.jsdelivr.net/npm/vega-datasets@1/data/burtin.json\"}, \"mark\": {\"type\": \"circle\"}, \"encoding\": {\"x\": {\"field\": \"Neomycin\", \"scale\": {\"type\": \"log\"}, \"type\": \"quantitative\"}}, \"$schema\": \"https://vega.github.io/schema/vega-lite/v5.20.1.json\"}, {\"mode\": \"vega-lite\"});\n",
       "</script>"
      ],
      "text/plain": [
       "alt.Chart(...)"
      ]
     },
     "execution_count": 8,
     "metadata": {},
     "output_type": "execute_result"
    }
   ],
   "source": [
    "alt.Chart(antibiotics).mark_circle().encode(\n",
    "    alt.X('Neomycin:Q',\n",
    "          scale=alt.Scale(type='log'))\n",
    ")"
   ]
  },
  {
   "cell_type": "markdown",
   "metadata": {},
   "source": [
    "_Agora os dados estão muito mais distribuídos uniformemente, e podemos ver as grandes diferenças nas concentrações necessárias para diferentes bactérias._\n",
    "\n",
    "Em uma escala linear padrão, uma distância visual (em pixels) de 10 unidades pode corresponder a uma *adição* de 10 unidades no domínio dos dados. Uma transformação logarítmica mapeia entre multiplicação e adição, de forma que `log(u) + log(v) = log(u*v)`. Como resultado, em uma escala logarítmica, uma distância visual de 10 unidades corresponde a uma *multiplicação* por 10 unidades no domínio dos dados, assumindo uma base logarítmica de 10. A escala `log` acima usa, por padrão, o logaritmo de base 10, mas podemos ajustar isso fornecendo um parâmetro `base` à escala."
   ]
  },
  {
   "cell_type": "markdown",
   "metadata": {},
   "source": [
    "### 4.2.2 Estilizando de Eixo"
   ]
  },
  {
   "cell_type": "markdown",
   "metadata": {},
   "source": [
    "Dosagens mais baixas indicam maior eficácia. No entanto, algumas pessoas podem esperar que valores \"melhores\" estejam \"acima e à direita\" em um gráfico. Se quisermos atender a essa convenção, podemos inverter o eixo para codificar a \"efetividade\" como uma escala de CIM invertida.\n",
    "\n",
    "Para fazer isso, podemos definir a propriedade `sort` do encoding como `'descending'`:"
   ]
  },
  {
   "cell_type": "code",
   "execution_count": 9,
   "metadata": {},
   "outputs": [
    {
     "data": {
      "text/html": [
       "\n",
       "<style>\n",
       "  #altair-viz-08dd99e37b5447158fe6f523d5e39797.vega-embed {\n",
       "    width: 100%;\n",
       "    display: flex;\n",
       "  }\n",
       "\n",
       "  #altair-viz-08dd99e37b5447158fe6f523d5e39797.vega-embed details,\n",
       "  #altair-viz-08dd99e37b5447158fe6f523d5e39797.vega-embed details summary {\n",
       "    position: relative;\n",
       "  }\n",
       "</style>\n",
       "<div id=\"altair-viz-08dd99e37b5447158fe6f523d5e39797\"></div>\n",
       "<script type=\"text/javascript\">\n",
       "  var VEGA_DEBUG = (typeof VEGA_DEBUG == \"undefined\") ? {} : VEGA_DEBUG;\n",
       "  (function(spec, embedOpt){\n",
       "    let outputDiv = document.currentScript.previousElementSibling;\n",
       "    if (outputDiv.id !== \"altair-viz-08dd99e37b5447158fe6f523d5e39797\") {\n",
       "      outputDiv = document.getElementById(\"altair-viz-08dd99e37b5447158fe6f523d5e39797\");\n",
       "    }\n",
       "\n",
       "    const paths = {\n",
       "      \"vega\": \"https://cdn.jsdelivr.net/npm/vega@5?noext\",\n",
       "      \"vega-lib\": \"https://cdn.jsdelivr.net/npm/vega-lib?noext\",\n",
       "      \"vega-lite\": \"https://cdn.jsdelivr.net/npm/vega-lite@5.20.1?noext\",\n",
       "      \"vega-embed\": \"https://cdn.jsdelivr.net/npm/vega-embed@6?noext\",\n",
       "    };\n",
       "\n",
       "    function maybeLoadScript(lib, version) {\n",
       "      var key = `${lib.replace(\"-\", \"\")}_version`;\n",
       "      return (VEGA_DEBUG[key] == version) ?\n",
       "        Promise.resolve(paths[lib]) :\n",
       "        new Promise(function(resolve, reject) {\n",
       "          var s = document.createElement('script');\n",
       "          document.getElementsByTagName(\"head\")[0].appendChild(s);\n",
       "          s.async = true;\n",
       "          s.onload = () => {\n",
       "            VEGA_DEBUG[key] = version;\n",
       "            return resolve(paths[lib]);\n",
       "          };\n",
       "          s.onerror = () => reject(`Error loading script: ${paths[lib]}`);\n",
       "          s.src = paths[lib];\n",
       "        });\n",
       "    }\n",
       "\n",
       "    function showError(err) {\n",
       "      outputDiv.innerHTML = `<div class=\"error\" style=\"color:red;\">${err}</div>`;\n",
       "      throw err;\n",
       "    }\n",
       "\n",
       "    function displayChart(vegaEmbed) {\n",
       "      vegaEmbed(outputDiv, spec, embedOpt)\n",
       "        .catch(err => showError(`Javascript Error: ${err.message}<br>This usually means there's a typo in your chart specification. See the javascript console for the full traceback.`));\n",
       "    }\n",
       "\n",
       "    if(typeof define === \"function\" && define.amd) {\n",
       "      requirejs.config({paths});\n",
       "      let deps = [\"vega-embed\"];\n",
       "      require(deps, displayChart, err => showError(`Error loading script: ${err.message}`));\n",
       "    } else {\n",
       "      maybeLoadScript(\"vega\", \"5\")\n",
       "        .then(() => maybeLoadScript(\"vega-lite\", \"5.20.1\"))\n",
       "        .then(() => maybeLoadScript(\"vega-embed\", \"6\"))\n",
       "        .catch(showError)\n",
       "        .then(() => displayChart(vegaEmbed));\n",
       "    }\n",
       "  })({\"config\": {\"view\": {\"continuousWidth\": 300, \"continuousHeight\": 300}}, \"data\": {\"url\": \"https://cdn.jsdelivr.net/npm/vega-datasets@1/data/burtin.json\"}, \"mark\": {\"type\": \"circle\"}, \"encoding\": {\"x\": {\"field\": \"Neomycin\", \"scale\": {\"type\": \"log\"}, \"sort\": \"descending\", \"type\": \"quantitative\"}}, \"$schema\": \"https://vega.github.io/schema/vega-lite/v5.20.1.json\"}, {\"mode\": \"vega-lite\"});\n",
       "</script>"
      ],
      "text/plain": [
       "alt.Chart(...)"
      ]
     },
     "execution_count": 9,
     "metadata": {},
     "output_type": "execute_result"
    }
   ],
   "source": [
    "alt.Chart(antibiotics).mark_circle().encode(\n",
    "    alt.X('Neomycin:Q',\n",
    "          sort='descending',\n",
    "          scale=alt.Scale(type='log'))\n",
    ")"
   ]
  },
  {
   "cell_type": "markdown",
   "metadata": {},
   "source": [
    "*Infelizmente, o eixo está começando a ficar um pouco confuso: estamos plotando os dados em uma escala logarítmica, na direção inversa e sem uma indicação clara de quais são as nossas unidades!*\n",
    "\n",
    "Vamos adicionar um título de eixo mais informativo: usaremos a propriedade `title` do encoding para fornecer o texto do título desejado:"
   ]
  },
  {
   "cell_type": "code",
   "execution_count": 10,
   "metadata": {},
   "outputs": [
    {
     "data": {
      "text/html": [
       "\n",
       "<style>\n",
       "  #altair-viz-51c025b082ac487fad9a1ad014a66ba1.vega-embed {\n",
       "    width: 100%;\n",
       "    display: flex;\n",
       "  }\n",
       "\n",
       "  #altair-viz-51c025b082ac487fad9a1ad014a66ba1.vega-embed details,\n",
       "  #altair-viz-51c025b082ac487fad9a1ad014a66ba1.vega-embed details summary {\n",
       "    position: relative;\n",
       "  }\n",
       "</style>\n",
       "<div id=\"altair-viz-51c025b082ac487fad9a1ad014a66ba1\"></div>\n",
       "<script type=\"text/javascript\">\n",
       "  var VEGA_DEBUG = (typeof VEGA_DEBUG == \"undefined\") ? {} : VEGA_DEBUG;\n",
       "  (function(spec, embedOpt){\n",
       "    let outputDiv = document.currentScript.previousElementSibling;\n",
       "    if (outputDiv.id !== \"altair-viz-51c025b082ac487fad9a1ad014a66ba1\") {\n",
       "      outputDiv = document.getElementById(\"altair-viz-51c025b082ac487fad9a1ad014a66ba1\");\n",
       "    }\n",
       "\n",
       "    const paths = {\n",
       "      \"vega\": \"https://cdn.jsdelivr.net/npm/vega@5?noext\",\n",
       "      \"vega-lib\": \"https://cdn.jsdelivr.net/npm/vega-lib?noext\",\n",
       "      \"vega-lite\": \"https://cdn.jsdelivr.net/npm/vega-lite@5.20.1?noext\",\n",
       "      \"vega-embed\": \"https://cdn.jsdelivr.net/npm/vega-embed@6?noext\",\n",
       "    };\n",
       "\n",
       "    function maybeLoadScript(lib, version) {\n",
       "      var key = `${lib.replace(\"-\", \"\")}_version`;\n",
       "      return (VEGA_DEBUG[key] == version) ?\n",
       "        Promise.resolve(paths[lib]) :\n",
       "        new Promise(function(resolve, reject) {\n",
       "          var s = document.createElement('script');\n",
       "          document.getElementsByTagName(\"head\")[0].appendChild(s);\n",
       "          s.async = true;\n",
       "          s.onload = () => {\n",
       "            VEGA_DEBUG[key] = version;\n",
       "            return resolve(paths[lib]);\n",
       "          };\n",
       "          s.onerror = () => reject(`Error loading script: ${paths[lib]}`);\n",
       "          s.src = paths[lib];\n",
       "        });\n",
       "    }\n",
       "\n",
       "    function showError(err) {\n",
       "      outputDiv.innerHTML = `<div class=\"error\" style=\"color:red;\">${err}</div>`;\n",
       "      throw err;\n",
       "    }\n",
       "\n",
       "    function displayChart(vegaEmbed) {\n",
       "      vegaEmbed(outputDiv, spec, embedOpt)\n",
       "        .catch(err => showError(`Javascript Error: ${err.message}<br>This usually means there's a typo in your chart specification. See the javascript console for the full traceback.`));\n",
       "    }\n",
       "\n",
       "    if(typeof define === \"function\" && define.amd) {\n",
       "      requirejs.config({paths});\n",
       "      let deps = [\"vega-embed\"];\n",
       "      require(deps, displayChart, err => showError(`Error loading script: ${err.message}`));\n",
       "    } else {\n",
       "      maybeLoadScript(\"vega\", \"5\")\n",
       "        .then(() => maybeLoadScript(\"vega-lite\", \"5.20.1\"))\n",
       "        .then(() => maybeLoadScript(\"vega-embed\", \"6\"))\n",
       "        .catch(showError)\n",
       "        .then(() => displayChart(vegaEmbed));\n",
       "    }\n",
       "  })({\"config\": {\"view\": {\"continuousWidth\": 300, \"continuousHeight\": 300}}, \"data\": {\"url\": \"https://cdn.jsdelivr.net/npm/vega-datasets@1/data/burtin.json\"}, \"mark\": {\"type\": \"circle\"}, \"encoding\": {\"x\": {\"field\": \"Neomycin\", \"scale\": {\"type\": \"log\"}, \"sort\": \"descending\", \"title\": \"Neomicina CIM(\\u03bcg/ml, escala logar\\u00edtmica invertida)\", \"type\": \"quantitative\"}}, \"$schema\": \"https://vega.github.io/schema/vega-lite/v5.20.1.json\"}, {\"mode\": \"vega-lite\"});\n",
       "</script>"
      ],
      "text/plain": [
       "alt.Chart(...)"
      ]
     },
     "execution_count": 10,
     "metadata": {},
     "output_type": "execute_result"
    }
   ],
   "source": [
    "alt.Chart(antibiotics).mark_circle().encode(\n",
    "    alt.X('Neomycin:Q',\n",
    "          sort='descending',\n",
    "          scale=alt.Scale(type='log'),\n",
    "          title='Neomicina CIM(μg/ml, escala logarítmica invertida)')\n",
    ")"
   ]
  },
  {
   "cell_type": "markdown",
   "metadata": {},
   "source": [
    "Muito melhor!\n",
    "\n",
    "Por padrão, o Altair posiciona o eixo x na parte inferior do gráfico. Para alterar esses padrões, podemos adicionar um atributo `axis` com `orient='top'`:"
   ]
  },
  {
   "cell_type": "code",
   "execution_count": 11,
   "metadata": {},
   "outputs": [
    {
     "data": {
      "text/html": [
       "\n",
       "<style>\n",
       "  #altair-viz-97af0c536b934409b7d72fe07cfb6efa.vega-embed {\n",
       "    width: 100%;\n",
       "    display: flex;\n",
       "  }\n",
       "\n",
       "  #altair-viz-97af0c536b934409b7d72fe07cfb6efa.vega-embed details,\n",
       "  #altair-viz-97af0c536b934409b7d72fe07cfb6efa.vega-embed details summary {\n",
       "    position: relative;\n",
       "  }\n",
       "</style>\n",
       "<div id=\"altair-viz-97af0c536b934409b7d72fe07cfb6efa\"></div>\n",
       "<script type=\"text/javascript\">\n",
       "  var VEGA_DEBUG = (typeof VEGA_DEBUG == \"undefined\") ? {} : VEGA_DEBUG;\n",
       "  (function(spec, embedOpt){\n",
       "    let outputDiv = document.currentScript.previousElementSibling;\n",
       "    if (outputDiv.id !== \"altair-viz-97af0c536b934409b7d72fe07cfb6efa\") {\n",
       "      outputDiv = document.getElementById(\"altair-viz-97af0c536b934409b7d72fe07cfb6efa\");\n",
       "    }\n",
       "\n",
       "    const paths = {\n",
       "      \"vega\": \"https://cdn.jsdelivr.net/npm/vega@5?noext\",\n",
       "      \"vega-lib\": \"https://cdn.jsdelivr.net/npm/vega-lib?noext\",\n",
       "      \"vega-lite\": \"https://cdn.jsdelivr.net/npm/vega-lite@5.20.1?noext\",\n",
       "      \"vega-embed\": \"https://cdn.jsdelivr.net/npm/vega-embed@6?noext\",\n",
       "    };\n",
       "\n",
       "    function maybeLoadScript(lib, version) {\n",
       "      var key = `${lib.replace(\"-\", \"\")}_version`;\n",
       "      return (VEGA_DEBUG[key] == version) ?\n",
       "        Promise.resolve(paths[lib]) :\n",
       "        new Promise(function(resolve, reject) {\n",
       "          var s = document.createElement('script');\n",
       "          document.getElementsByTagName(\"head\")[0].appendChild(s);\n",
       "          s.async = true;\n",
       "          s.onload = () => {\n",
       "            VEGA_DEBUG[key] = version;\n",
       "            return resolve(paths[lib]);\n",
       "          };\n",
       "          s.onerror = () => reject(`Error loading script: ${paths[lib]}`);\n",
       "          s.src = paths[lib];\n",
       "        });\n",
       "    }\n",
       "\n",
       "    function showError(err) {\n",
       "      outputDiv.innerHTML = `<div class=\"error\" style=\"color:red;\">${err}</div>`;\n",
       "      throw err;\n",
       "    }\n",
       "\n",
       "    function displayChart(vegaEmbed) {\n",
       "      vegaEmbed(outputDiv, spec, embedOpt)\n",
       "        .catch(err => showError(`Javascript Error: ${err.message}<br>This usually means there's a typo in your chart specification. See the javascript console for the full traceback.`));\n",
       "    }\n",
       "\n",
       "    if(typeof define === \"function\" && define.amd) {\n",
       "      requirejs.config({paths});\n",
       "      let deps = [\"vega-embed\"];\n",
       "      require(deps, displayChart, err => showError(`Error loading script: ${err.message}`));\n",
       "    } else {\n",
       "      maybeLoadScript(\"vega\", \"5\")\n",
       "        .then(() => maybeLoadScript(\"vega-lite\", \"5.20.1\"))\n",
       "        .then(() => maybeLoadScript(\"vega-embed\", \"6\"))\n",
       "        .catch(showError)\n",
       "        .then(() => displayChart(vegaEmbed));\n",
       "    }\n",
       "  })({\"config\": {\"view\": {\"continuousWidth\": 300, \"continuousHeight\": 300}}, \"data\": {\"url\": \"https://cdn.jsdelivr.net/npm/vega-datasets@1/data/burtin.json\"}, \"mark\": {\"type\": \"circle\"}, \"encoding\": {\"x\": {\"axis\": {\"orient\": \"top\"}, \"field\": \"Neomycin\", \"scale\": {\"type\": \"log\"}, \"sort\": \"descending\", \"title\": \"Neomicina CIM(\\u03bcg/ml, escala logar\\u00edtmica invertida)\", \"type\": \"quantitative\"}}, \"$schema\": \"https://vega.github.io/schema/vega-lite/v5.20.1.json\"}, {\"mode\": \"vega-lite\"});\n",
       "</script>"
      ],
      "text/plain": [
       "alt.Chart(...)"
      ]
     },
     "execution_count": 11,
     "metadata": {},
     "output_type": "execute_result"
    }
   ],
   "source": [
    "alt.Chart(antibiotics).mark_circle().encode(\n",
    "    alt.X('Neomycin:Q',\n",
    "          sort='descending',\n",
    "          scale=alt.Scale(type='log'),\n",
    "          axis=alt.Axis(orient='top'),\n",
    "          title='Neomicina CIM(μg/ml, escala logarítmica invertida)')\n",
    ")"
   ]
  },
  {
   "cell_type": "markdown",
   "metadata": {},
   "source": [
    "Da mesma forma, o eixo y tem, por padrão, uma orientação à esquerda (`'left'`), mas pode ser configurado para a direita (`'right'`).\n",
    "\n"
   ]
  },
  {
   "cell_type": "markdown",
   "metadata": {
    "colab_type": "text",
    "id": "l1WXNzJC9hxi"
   },
   "source": [
    "### 4.2.3 Comparando Antibióticos: Ajustando Linhas de Grade, Contagem de Marcas e Dimensionamento\n",
    "\n",
    "_Como a neomicina se compara a outros antibióticos, como a estreptomicina e a penicilina?_\n",
    "\n",
    "Para começar a responder essa pergunta, podemos criar gráficos de dispersão, adicionando uma codificação no eixo y para outro antibiótico que espelhe o design do nosso eixo x para a neomicina."
   ]
  },
  {
   "cell_type": "code",
   "execution_count": 12,
   "metadata": {
    "colab": {
     "base_uri": "https://localhost:8080/",
     "height": 372
    },
    "colab_type": "code",
    "id": "CjDce4pG_SXP",
    "outputId": "9459f0fb-088e-4e60-92f3-5f7992b3509d"
   },
   "outputs": [
    {
     "data": {
      "text/html": [
       "\n",
       "<style>\n",
       "  #altair-viz-11e7a88268104268ae0a9ca1e82310ed.vega-embed {\n",
       "    width: 100%;\n",
       "    display: flex;\n",
       "  }\n",
       "\n",
       "  #altair-viz-11e7a88268104268ae0a9ca1e82310ed.vega-embed details,\n",
       "  #altair-viz-11e7a88268104268ae0a9ca1e82310ed.vega-embed details summary {\n",
       "    position: relative;\n",
       "  }\n",
       "</style>\n",
       "<div id=\"altair-viz-11e7a88268104268ae0a9ca1e82310ed\"></div>\n",
       "<script type=\"text/javascript\">\n",
       "  var VEGA_DEBUG = (typeof VEGA_DEBUG == \"undefined\") ? {} : VEGA_DEBUG;\n",
       "  (function(spec, embedOpt){\n",
       "    let outputDiv = document.currentScript.previousElementSibling;\n",
       "    if (outputDiv.id !== \"altair-viz-11e7a88268104268ae0a9ca1e82310ed\") {\n",
       "      outputDiv = document.getElementById(\"altair-viz-11e7a88268104268ae0a9ca1e82310ed\");\n",
       "    }\n",
       "\n",
       "    const paths = {\n",
       "      \"vega\": \"https://cdn.jsdelivr.net/npm/vega@5?noext\",\n",
       "      \"vega-lib\": \"https://cdn.jsdelivr.net/npm/vega-lib?noext\",\n",
       "      \"vega-lite\": \"https://cdn.jsdelivr.net/npm/vega-lite@5.20.1?noext\",\n",
       "      \"vega-embed\": \"https://cdn.jsdelivr.net/npm/vega-embed@6?noext\",\n",
       "    };\n",
       "\n",
       "    function maybeLoadScript(lib, version) {\n",
       "      var key = `${lib.replace(\"-\", \"\")}_version`;\n",
       "      return (VEGA_DEBUG[key] == version) ?\n",
       "        Promise.resolve(paths[lib]) :\n",
       "        new Promise(function(resolve, reject) {\n",
       "          var s = document.createElement('script');\n",
       "          document.getElementsByTagName(\"head\")[0].appendChild(s);\n",
       "          s.async = true;\n",
       "          s.onload = () => {\n",
       "            VEGA_DEBUG[key] = version;\n",
       "            return resolve(paths[lib]);\n",
       "          };\n",
       "          s.onerror = () => reject(`Error loading script: ${paths[lib]}`);\n",
       "          s.src = paths[lib];\n",
       "        });\n",
       "    }\n",
       "\n",
       "    function showError(err) {\n",
       "      outputDiv.innerHTML = `<div class=\"error\" style=\"color:red;\">${err}</div>`;\n",
       "      throw err;\n",
       "    }\n",
       "\n",
       "    function displayChart(vegaEmbed) {\n",
       "      vegaEmbed(outputDiv, spec, embedOpt)\n",
       "        .catch(err => showError(`Javascript Error: ${err.message}<br>This usually means there's a typo in your chart specification. See the javascript console for the full traceback.`));\n",
       "    }\n",
       "\n",
       "    if(typeof define === \"function\" && define.amd) {\n",
       "      requirejs.config({paths});\n",
       "      let deps = [\"vega-embed\"];\n",
       "      require(deps, displayChart, err => showError(`Error loading script: ${err.message}`));\n",
       "    } else {\n",
       "      maybeLoadScript(\"vega\", \"5\")\n",
       "        .then(() => maybeLoadScript(\"vega-lite\", \"5.20.1\"))\n",
       "        .then(() => maybeLoadScript(\"vega-embed\", \"6\"))\n",
       "        .catch(showError)\n",
       "        .then(() => displayChart(vegaEmbed));\n",
       "    }\n",
       "  })({\"config\": {\"view\": {\"continuousWidth\": 300, \"continuousHeight\": 300}}, \"data\": {\"url\": \"https://cdn.jsdelivr.net/npm/vega-datasets@1/data/burtin.json\"}, \"mark\": {\"type\": \"circle\"}, \"encoding\": {\"x\": {\"field\": \"Neomycin\", \"scale\": {\"type\": \"log\"}, \"sort\": \"descending\", \"title\": \"Neomycin MIC (\\u03bcg/ml, reverse log scale)\", \"type\": \"quantitative\"}, \"y\": {\"field\": \"Streptomycin\", \"scale\": {\"type\": \"log\"}, \"sort\": \"descending\", \"title\": \"Streptomycin MIC (\\u03bcg/ml, reverse log scale)\", \"type\": \"quantitative\"}}, \"$schema\": \"https://vega.github.io/schema/vega-lite/v5.20.1.json\"}, {\"mode\": \"vega-lite\"});\n",
       "</script>"
      ],
      "text/plain": [
       "alt.Chart(...)"
      ]
     },
     "execution_count": 12,
     "metadata": {},
     "output_type": "execute_result"
    }
   ],
   "source": [
    "alt.Chart(antibiotics).mark_circle().encode(\n",
    "    alt.X('Neomycin:Q',\n",
    "          sort='descending',\n",
    "          scale=alt.Scale(type='log'),\n",
    "          title='Neomycin MIC (μg/ml, reverse log scale)'),\n",
    "    alt.Y('Streptomycin:Q',\n",
    "          sort='descending',\n",
    "          scale=alt.Scale(type='log'),\n",
    "          title='Streptomycin MIC (μg/ml, reverse log scale)')\n",
    ")"
   ]
  },
  {
   "cell_type": "markdown",
   "metadata": {
    "colab_type": "text",
    "id": "DnfjvOKo_VI2"
   },
   "source": [
    "_Podemos ver que a neomicina e a estreptomicina parecem altamente correlacionadas, pois as cepas bacterianas respondem de forma semelhante a ambos os antibióticos._\n",
    "\n",
    "Vamos prosseguir e comparar a neomicina com a penicilina:"
   ]
  },
  {
   "cell_type": "code",
   "execution_count": 13,
   "metadata": {
    "colab": {
     "base_uri": "https://localhost:8080/",
     "height": 372
    },
    "colab_type": "code",
    "id": "hqc6DFgvNHAT",
    "outputId": "6713ba6b-8879-43be-e7ed-4340974b2c20"
   },
   "outputs": [
    {
     "data": {
      "text/html": [
       "\n",
       "<style>\n",
       "  #altair-viz-c0194389db204f7fa1321056435eb380.vega-embed {\n",
       "    width: 100%;\n",
       "    display: flex;\n",
       "  }\n",
       "\n",
       "  #altair-viz-c0194389db204f7fa1321056435eb380.vega-embed details,\n",
       "  #altair-viz-c0194389db204f7fa1321056435eb380.vega-embed details summary {\n",
       "    position: relative;\n",
       "  }\n",
       "</style>\n",
       "<div id=\"altair-viz-c0194389db204f7fa1321056435eb380\"></div>\n",
       "<script type=\"text/javascript\">\n",
       "  var VEGA_DEBUG = (typeof VEGA_DEBUG == \"undefined\") ? {} : VEGA_DEBUG;\n",
       "  (function(spec, embedOpt){\n",
       "    let outputDiv = document.currentScript.previousElementSibling;\n",
       "    if (outputDiv.id !== \"altair-viz-c0194389db204f7fa1321056435eb380\") {\n",
       "      outputDiv = document.getElementById(\"altair-viz-c0194389db204f7fa1321056435eb380\");\n",
       "    }\n",
       "\n",
       "    const paths = {\n",
       "      \"vega\": \"https://cdn.jsdelivr.net/npm/vega@5?noext\",\n",
       "      \"vega-lib\": \"https://cdn.jsdelivr.net/npm/vega-lib?noext\",\n",
       "      \"vega-lite\": \"https://cdn.jsdelivr.net/npm/vega-lite@5.20.1?noext\",\n",
       "      \"vega-embed\": \"https://cdn.jsdelivr.net/npm/vega-embed@6?noext\",\n",
       "    };\n",
       "\n",
       "    function maybeLoadScript(lib, version) {\n",
       "      var key = `${lib.replace(\"-\", \"\")}_version`;\n",
       "      return (VEGA_DEBUG[key] == version) ?\n",
       "        Promise.resolve(paths[lib]) :\n",
       "        new Promise(function(resolve, reject) {\n",
       "          var s = document.createElement('script');\n",
       "          document.getElementsByTagName(\"head\")[0].appendChild(s);\n",
       "          s.async = true;\n",
       "          s.onload = () => {\n",
       "            VEGA_DEBUG[key] = version;\n",
       "            return resolve(paths[lib]);\n",
       "          };\n",
       "          s.onerror = () => reject(`Error loading script: ${paths[lib]}`);\n",
       "          s.src = paths[lib];\n",
       "        });\n",
       "    }\n",
       "\n",
       "    function showError(err) {\n",
       "      outputDiv.innerHTML = `<div class=\"error\" style=\"color:red;\">${err}</div>`;\n",
       "      throw err;\n",
       "    }\n",
       "\n",
       "    function displayChart(vegaEmbed) {\n",
       "      vegaEmbed(outputDiv, spec, embedOpt)\n",
       "        .catch(err => showError(`Javascript Error: ${err.message}<br>This usually means there's a typo in your chart specification. See the javascript console for the full traceback.`));\n",
       "    }\n",
       "\n",
       "    if(typeof define === \"function\" && define.amd) {\n",
       "      requirejs.config({paths});\n",
       "      let deps = [\"vega-embed\"];\n",
       "      require(deps, displayChart, err => showError(`Error loading script: ${err.message}`));\n",
       "    } else {\n",
       "      maybeLoadScript(\"vega\", \"5\")\n",
       "        .then(() => maybeLoadScript(\"vega-lite\", \"5.20.1\"))\n",
       "        .then(() => maybeLoadScript(\"vega-embed\", \"6\"))\n",
       "        .catch(showError)\n",
       "        .then(() => displayChart(vegaEmbed));\n",
       "    }\n",
       "  })({\"config\": {\"view\": {\"continuousWidth\": 300, \"continuousHeight\": 300}}, \"data\": {\"url\": \"https://cdn.jsdelivr.net/npm/vega-datasets@1/data/burtin.json\"}, \"mark\": {\"type\": \"circle\"}, \"encoding\": {\"x\": {\"field\": \"Neomycin\", \"scale\": {\"type\": \"log\"}, \"sort\": \"descending\", \"title\": \"Neomycin MIC (\\u03bcg/ml, reverse log scale)\", \"type\": \"quantitative\"}, \"y\": {\"field\": \"Penicillin\", \"scale\": {\"type\": \"log\"}, \"sort\": \"descending\", \"title\": \"Penicillin MIC (\\u03bcg/ml, reverse log scale)\", \"type\": \"quantitative\"}}, \"$schema\": \"https://vega.github.io/schema/vega-lite/v5.20.1.json\"}, {\"mode\": \"vega-lite\"});\n",
       "</script>"
      ],
      "text/plain": [
       "alt.Chart(...)"
      ]
     },
     "execution_count": 13,
     "metadata": {},
     "output_type": "execute_result"
    }
   ],
   "source": [
    "alt.Chart(antibiotics).mark_circle().encode(\n",
    "    alt.X('Neomycin:Q',\n",
    "          sort='descending',\n",
    "          scale=alt.Scale(type='log'),\n",
    "          title='Neomycin MIC (μg/ml, reverse log scale)'),\n",
    "    alt.Y('Penicillin:Q',\n",
    "          sort='descending',\n",
    "          scale=alt.Scale(type='log'),\n",
    "          title='Penicillin MIC (μg/ml, reverse log scale)')\n",
    ")"
   ]
  },
  {
   "cell_type": "markdown",
   "metadata": {
    "colab_type": "text",
    "id": "fSdm-7VjYjij"
   },
   "source": [
    "_Agora vemos uma resposta mais diferenciada: algumas bactérias respondem bem à neomicina, mas não à penicilina, e vice-versa!_\n",
    "\n",
    "Embora esse gráfico seja útil, podemos melhorá-lo. Os eixos x e y usam as mesmas unidades, mas possuem extensões diferentes (a largura do gráfico é maior que a altura) e domínios distintos (0,001 a 100 para o eixo x e 0,001 a 1.000 para o eixo y).\n",
    "\n",
    "Vamos equalizar os eixos: podemos adicionar configurações explícitas de `width` e `height` para o gráfico e especificar domínios correspondentes usando a propriedade de escala `domain`."
   ]
  },
  {
   "cell_type": "code",
   "execution_count": 14,
   "metadata": {
    "colab": {
     "base_uri": "https://localhost:8080/",
     "height": 322
    },
    "colab_type": "code",
    "id": "8HdsAzWBNVoB",
    "outputId": "2701bbff-a789-4eb0-f6bd-3f66565be916"
   },
   "outputs": [
    {
     "data": {
      "text/html": [
       "\n",
       "<style>\n",
       "  #altair-viz-d50c4bfa854e4b948fe4b84f2dacf619.vega-embed {\n",
       "    width: 100%;\n",
       "    display: flex;\n",
       "  }\n",
       "\n",
       "  #altair-viz-d50c4bfa854e4b948fe4b84f2dacf619.vega-embed details,\n",
       "  #altair-viz-d50c4bfa854e4b948fe4b84f2dacf619.vega-embed details summary {\n",
       "    position: relative;\n",
       "  }\n",
       "</style>\n",
       "<div id=\"altair-viz-d50c4bfa854e4b948fe4b84f2dacf619\"></div>\n",
       "<script type=\"text/javascript\">\n",
       "  var VEGA_DEBUG = (typeof VEGA_DEBUG == \"undefined\") ? {} : VEGA_DEBUG;\n",
       "  (function(spec, embedOpt){\n",
       "    let outputDiv = document.currentScript.previousElementSibling;\n",
       "    if (outputDiv.id !== \"altair-viz-d50c4bfa854e4b948fe4b84f2dacf619\") {\n",
       "      outputDiv = document.getElementById(\"altair-viz-d50c4bfa854e4b948fe4b84f2dacf619\");\n",
       "    }\n",
       "\n",
       "    const paths = {\n",
       "      \"vega\": \"https://cdn.jsdelivr.net/npm/vega@5?noext\",\n",
       "      \"vega-lib\": \"https://cdn.jsdelivr.net/npm/vega-lib?noext\",\n",
       "      \"vega-lite\": \"https://cdn.jsdelivr.net/npm/vega-lite@5.20.1?noext\",\n",
       "      \"vega-embed\": \"https://cdn.jsdelivr.net/npm/vega-embed@6?noext\",\n",
       "    };\n",
       "\n",
       "    function maybeLoadScript(lib, version) {\n",
       "      var key = `${lib.replace(\"-\", \"\")}_version`;\n",
       "      return (VEGA_DEBUG[key] == version) ?\n",
       "        Promise.resolve(paths[lib]) :\n",
       "        new Promise(function(resolve, reject) {\n",
       "          var s = document.createElement('script');\n",
       "          document.getElementsByTagName(\"head\")[0].appendChild(s);\n",
       "          s.async = true;\n",
       "          s.onload = () => {\n",
       "            VEGA_DEBUG[key] = version;\n",
       "            return resolve(paths[lib]);\n",
       "          };\n",
       "          s.onerror = () => reject(`Error loading script: ${paths[lib]}`);\n",
       "          s.src = paths[lib];\n",
       "        });\n",
       "    }\n",
       "\n",
       "    function showError(err) {\n",
       "      outputDiv.innerHTML = `<div class=\"error\" style=\"color:red;\">${err}</div>`;\n",
       "      throw err;\n",
       "    }\n",
       "\n",
       "    function displayChart(vegaEmbed) {\n",
       "      vegaEmbed(outputDiv, spec, embedOpt)\n",
       "        .catch(err => showError(`Javascript Error: ${err.message}<br>This usually means there's a typo in your chart specification. See the javascript console for the full traceback.`));\n",
       "    }\n",
       "\n",
       "    if(typeof define === \"function\" && define.amd) {\n",
       "      requirejs.config({paths});\n",
       "      let deps = [\"vega-embed\"];\n",
       "      require(deps, displayChart, err => showError(`Error loading script: ${err.message}`));\n",
       "    } else {\n",
       "      maybeLoadScript(\"vega\", \"5\")\n",
       "        .then(() => maybeLoadScript(\"vega-lite\", \"5.20.1\"))\n",
       "        .then(() => maybeLoadScript(\"vega-embed\", \"6\"))\n",
       "        .catch(showError)\n",
       "        .then(() => displayChart(vegaEmbed));\n",
       "    }\n",
       "  })({\"config\": {\"view\": {\"continuousWidth\": 300, \"continuousHeight\": 300}}, \"data\": {\"url\": \"https://cdn.jsdelivr.net/npm/vega-datasets@1/data/burtin.json\"}, \"mark\": {\"type\": \"circle\"}, \"encoding\": {\"x\": {\"field\": \"Neomycin\", \"scale\": {\"domain\": [0.001, 1000], \"type\": \"log\"}, \"sort\": \"descending\", \"title\": \"Neomycin MIC (\\u03bcg/ml, reverse log scale)\", \"type\": \"quantitative\"}, \"y\": {\"field\": \"Penicillin\", \"scale\": {\"domain\": [0.001, 1000], \"type\": \"log\"}, \"sort\": \"descending\", \"title\": \"Penicillin MIC (\\u03bcg/ml, reverse log scale)\", \"type\": \"quantitative\"}}, \"height\": 250, \"width\": 250, \"$schema\": \"https://vega.github.io/schema/vega-lite/v5.20.1.json\"}, {\"mode\": \"vega-lite\"});\n",
       "</script>"
      ],
      "text/plain": [
       "alt.Chart(...)"
      ]
     },
     "execution_count": 14,
     "metadata": {},
     "output_type": "execute_result"
    }
   ],
   "source": [
    "alt.Chart(antibiotics).mark_circle().encode(\n",
    "    alt.X('Neomycin:Q',\n",
    "          sort='descending',\n",
    "          scale=alt.Scale(type='log', domain=[0.001, 1000]),\n",
    "          title='Neomycin MIC (μg/ml, reverse log scale)'),\n",
    "    alt.Y('Penicillin:Q',\n",
    "          sort='descending',\n",
    "          scale=alt.Scale(type='log', domain=[0.001, 1000]),\n",
    "          title='Penicillin MIC (μg/ml, reverse log scale)')\n",
    ").properties(width=250, height=250)"
   ]
  },
  {
   "cell_type": "markdown",
   "metadata": {
    "colab_type": "text",
    "id": "oknzZZ-lZYaH"
   },
   "source": [
    "_O gráfico resultante está mais equilibrado e menos propenso a sutis interpretações errôneas!_\n",
    "\n",
    "No entanto, as linhas de grade agora estão bastante densas. Se quisermos removê-las completamente, podemos adicionar `grid=False` ao atributo `axis`. Mas e se, em vez disso, quisermos reduzir o número de marcas de escala, por exemplo, incluindo linhas de grade apenas para cada ordem de magnitude?\n",
    "\n",
    "Para alterar o número de marcas, podemos especificar a propriedade `tickCount` como um valor alvo para um objeto `Axis`. O `tickCount` é tratado como uma *sugestão* pelo Altair, considerando outros fatores, como o uso de intervalos bem distribuídos e fáceis de interpretar. Podemos não obter *exatamente* o número de marcas solicitado, mas teremos algo próximo."
   ]
  },
  {
   "cell_type": "code",
   "execution_count": 15,
   "metadata": {
    "colab": {
     "base_uri": "https://localhost:8080/",
     "height": 322
    },
    "colab_type": "code",
    "id": "v4Awwd_kN_bf",
    "outputId": "b047adfe-6491-44f4-d84b-8e22836ad923"
   },
   "outputs": [
    {
     "data": {
      "text/html": [
       "\n",
       "<style>\n",
       "  #altair-viz-97ad7c481fb046b2a7a5bd8f2ea9e98e.vega-embed {\n",
       "    width: 100%;\n",
       "    display: flex;\n",
       "  }\n",
       "\n",
       "  #altair-viz-97ad7c481fb046b2a7a5bd8f2ea9e98e.vega-embed details,\n",
       "  #altair-viz-97ad7c481fb046b2a7a5bd8f2ea9e98e.vega-embed details summary {\n",
       "    position: relative;\n",
       "  }\n",
       "</style>\n",
       "<div id=\"altair-viz-97ad7c481fb046b2a7a5bd8f2ea9e98e\"></div>\n",
       "<script type=\"text/javascript\">\n",
       "  var VEGA_DEBUG = (typeof VEGA_DEBUG == \"undefined\") ? {} : VEGA_DEBUG;\n",
       "  (function(spec, embedOpt){\n",
       "    let outputDiv = document.currentScript.previousElementSibling;\n",
       "    if (outputDiv.id !== \"altair-viz-97ad7c481fb046b2a7a5bd8f2ea9e98e\") {\n",
       "      outputDiv = document.getElementById(\"altair-viz-97ad7c481fb046b2a7a5bd8f2ea9e98e\");\n",
       "    }\n",
       "\n",
       "    const paths = {\n",
       "      \"vega\": \"https://cdn.jsdelivr.net/npm/vega@5?noext\",\n",
       "      \"vega-lib\": \"https://cdn.jsdelivr.net/npm/vega-lib?noext\",\n",
       "      \"vega-lite\": \"https://cdn.jsdelivr.net/npm/vega-lite@5.20.1?noext\",\n",
       "      \"vega-embed\": \"https://cdn.jsdelivr.net/npm/vega-embed@6?noext\",\n",
       "    };\n",
       "\n",
       "    function maybeLoadScript(lib, version) {\n",
       "      var key = `${lib.replace(\"-\", \"\")}_version`;\n",
       "      return (VEGA_DEBUG[key] == version) ?\n",
       "        Promise.resolve(paths[lib]) :\n",
       "        new Promise(function(resolve, reject) {\n",
       "          var s = document.createElement('script');\n",
       "          document.getElementsByTagName(\"head\")[0].appendChild(s);\n",
       "          s.async = true;\n",
       "          s.onload = () => {\n",
       "            VEGA_DEBUG[key] = version;\n",
       "            return resolve(paths[lib]);\n",
       "          };\n",
       "          s.onerror = () => reject(`Error loading script: ${paths[lib]}`);\n",
       "          s.src = paths[lib];\n",
       "        });\n",
       "    }\n",
       "\n",
       "    function showError(err) {\n",
       "      outputDiv.innerHTML = `<div class=\"error\" style=\"color:red;\">${err}</div>`;\n",
       "      throw err;\n",
       "    }\n",
       "\n",
       "    function displayChart(vegaEmbed) {\n",
       "      vegaEmbed(outputDiv, spec, embedOpt)\n",
       "        .catch(err => showError(`Javascript Error: ${err.message}<br>This usually means there's a typo in your chart specification. See the javascript console for the full traceback.`));\n",
       "    }\n",
       "\n",
       "    if(typeof define === \"function\" && define.amd) {\n",
       "      requirejs.config({paths});\n",
       "      let deps = [\"vega-embed\"];\n",
       "      require(deps, displayChart, err => showError(`Error loading script: ${err.message}`));\n",
       "    } else {\n",
       "      maybeLoadScript(\"vega\", \"5\")\n",
       "        .then(() => maybeLoadScript(\"vega-lite\", \"5.20.1\"))\n",
       "        .then(() => maybeLoadScript(\"vega-embed\", \"6\"))\n",
       "        .catch(showError)\n",
       "        .then(() => displayChart(vegaEmbed));\n",
       "    }\n",
       "  })({\"config\": {\"view\": {\"continuousWidth\": 300, \"continuousHeight\": 300}}, \"data\": {\"url\": \"https://cdn.jsdelivr.net/npm/vega-datasets@1/data/burtin.json\"}, \"mark\": {\"type\": \"circle\"}, \"encoding\": {\"x\": {\"axis\": {\"tickCount\": 5}, \"field\": \"Neomycin\", \"scale\": {\"domain\": [0.001, 1000], \"type\": \"log\"}, \"sort\": \"descending\", \"title\": \"Neomycin MIC (\\u03bcg/ml, reverse log scale)\", \"type\": \"quantitative\"}, \"y\": {\"axis\": {\"tickCount\": 5}, \"field\": \"Penicillin\", \"scale\": {\"domain\": [0.001, 1000], \"type\": \"log\"}, \"sort\": \"descending\", \"title\": \"Penicillin MIC (\\u03bcg/ml, reverse log scale)\", \"type\": \"quantitative\"}}, \"height\": 250, \"width\": 250, \"$schema\": \"https://vega.github.io/schema/vega-lite/v5.20.1.json\"}, {\"mode\": \"vega-lite\"});\n",
       "</script>"
      ],
      "text/plain": [
       "alt.Chart(...)"
      ]
     },
     "execution_count": 15,
     "metadata": {},
     "output_type": "execute_result"
    }
   ],
   "source": [
    "alt.Chart(antibiotics).mark_circle().encode(\n",
    "    alt.X('Neomycin:Q',\n",
    "          sort='descending',\n",
    "          scale=alt.Scale(type='log', domain=[0.001, 1000]),\n",
    "          axis=alt.Axis(tickCount=5),\n",
    "          title='Neomycin MIC (μg/ml, reverse log scale)'),\n",
    "    alt.Y('Penicillin:Q',\n",
    "          sort='descending',\n",
    "          scale=alt.Scale(type='log', domain=[0.001, 1000]),\n",
    "          axis=alt.Axis(tickCount=5),\n",
    "          title='Penicillin MIC (μg/ml, reverse log scale)')\n",
    ").properties(width=250, height=250)"
   ]
  },
  {
   "cell_type": "markdown",
   "metadata": {
    "colab_type": "text",
    "id": "upaCzdH7aIvu"
   },
   "source": [
    "Ao definir `tickCount` como 5, conseguimos o efeito desejado.\n",
    "\n",
    "Os pontos do nosso gráfico de dispersão parecem um pouco pequenos. Vamos alterar o tamanho padrão ajustando a propriedade `size` da marca de círculo. Esse valor de size representa a área da marca em pixels."
   ]
  },
  {
   "cell_type": "code",
   "execution_count": 16,
   "metadata": {
    "colab": {
     "base_uri": "https://localhost:8080/",
     "height": 322
    },
    "colab_type": "code",
    "id": "aERDKc0KOhco",
    "outputId": "e3257bc3-40aa-4539-edea-a923c0329675"
   },
   "outputs": [
    {
     "data": {
      "text/html": [
       "\n",
       "<style>\n",
       "  #altair-viz-ff23ea79f52f4033b173820222c07555.vega-embed {\n",
       "    width: 100%;\n",
       "    display: flex;\n",
       "  }\n",
       "\n",
       "  #altair-viz-ff23ea79f52f4033b173820222c07555.vega-embed details,\n",
       "  #altair-viz-ff23ea79f52f4033b173820222c07555.vega-embed details summary {\n",
       "    position: relative;\n",
       "  }\n",
       "</style>\n",
       "<div id=\"altair-viz-ff23ea79f52f4033b173820222c07555\"></div>\n",
       "<script type=\"text/javascript\">\n",
       "  var VEGA_DEBUG = (typeof VEGA_DEBUG == \"undefined\") ? {} : VEGA_DEBUG;\n",
       "  (function(spec, embedOpt){\n",
       "    let outputDiv = document.currentScript.previousElementSibling;\n",
       "    if (outputDiv.id !== \"altair-viz-ff23ea79f52f4033b173820222c07555\") {\n",
       "      outputDiv = document.getElementById(\"altair-viz-ff23ea79f52f4033b173820222c07555\");\n",
       "    }\n",
       "\n",
       "    const paths = {\n",
       "      \"vega\": \"https://cdn.jsdelivr.net/npm/vega@5?noext\",\n",
       "      \"vega-lib\": \"https://cdn.jsdelivr.net/npm/vega-lib?noext\",\n",
       "      \"vega-lite\": \"https://cdn.jsdelivr.net/npm/vega-lite@5.20.1?noext\",\n",
       "      \"vega-embed\": \"https://cdn.jsdelivr.net/npm/vega-embed@6?noext\",\n",
       "    };\n",
       "\n",
       "    function maybeLoadScript(lib, version) {\n",
       "      var key = `${lib.replace(\"-\", \"\")}_version`;\n",
       "      return (VEGA_DEBUG[key] == version) ?\n",
       "        Promise.resolve(paths[lib]) :\n",
       "        new Promise(function(resolve, reject) {\n",
       "          var s = document.createElement('script');\n",
       "          document.getElementsByTagName(\"head\")[0].appendChild(s);\n",
       "          s.async = true;\n",
       "          s.onload = () => {\n",
       "            VEGA_DEBUG[key] = version;\n",
       "            return resolve(paths[lib]);\n",
       "          };\n",
       "          s.onerror = () => reject(`Error loading script: ${paths[lib]}`);\n",
       "          s.src = paths[lib];\n",
       "        });\n",
       "    }\n",
       "\n",
       "    function showError(err) {\n",
       "      outputDiv.innerHTML = `<div class=\"error\" style=\"color:red;\">${err}</div>`;\n",
       "      throw err;\n",
       "    }\n",
       "\n",
       "    function displayChart(vegaEmbed) {\n",
       "      vegaEmbed(outputDiv, spec, embedOpt)\n",
       "        .catch(err => showError(`Javascript Error: ${err.message}<br>This usually means there's a typo in your chart specification. See the javascript console for the full traceback.`));\n",
       "    }\n",
       "\n",
       "    if(typeof define === \"function\" && define.amd) {\n",
       "      requirejs.config({paths});\n",
       "      let deps = [\"vega-embed\"];\n",
       "      require(deps, displayChart, err => showError(`Error loading script: ${err.message}`));\n",
       "    } else {\n",
       "      maybeLoadScript(\"vega\", \"5\")\n",
       "        .then(() => maybeLoadScript(\"vega-lite\", \"5.20.1\"))\n",
       "        .then(() => maybeLoadScript(\"vega-embed\", \"6\"))\n",
       "        .catch(showError)\n",
       "        .then(() => displayChart(vegaEmbed));\n",
       "    }\n",
       "  })({\"config\": {\"view\": {\"continuousWidth\": 300, \"continuousHeight\": 300}}, \"data\": {\"url\": \"https://cdn.jsdelivr.net/npm/vega-datasets@1/data/burtin.json\"}, \"mark\": {\"type\": \"circle\", \"size\": 80}, \"encoding\": {\"x\": {\"axis\": {\"tickCount\": 5}, \"field\": \"Neomycin\", \"scale\": {\"domain\": [0.001, 1000], \"type\": \"log\"}, \"sort\": \"descending\", \"title\": \"Neomycin MIC (\\u03bcg/ml, reverse log scale)\", \"type\": \"quantitative\"}, \"y\": {\"axis\": {\"tickCount\": 5}, \"field\": \"Penicillin\", \"scale\": {\"domain\": [0.001, 1000], \"type\": \"log\"}, \"sort\": \"descending\", \"title\": \"Penicillin MIC (\\u03bcg/ml, reverse log scale)\", \"type\": \"quantitative\"}}, \"height\": 250, \"width\": 250, \"$schema\": \"https://vega.github.io/schema/vega-lite/v5.20.1.json\"}, {\"mode\": \"vega-lite\"});\n",
       "</script>"
      ],
      "text/plain": [
       "alt.Chart(...)"
      ]
     },
     "execution_count": 16,
     "metadata": {},
     "output_type": "execute_result"
    }
   ],
   "source": [
    "alt.Chart(antibiotics).mark_circle(size=80).encode(\n",
    "    alt.X('Neomycin:Q',\n",
    "          sort='descending',\n",
    "          scale=alt.Scale(type='log', domain=[0.001, 1000]),\n",
    "          axis=alt.Axis(tickCount=5),\n",
    "          title='Neomycin MIC (μg/ml, reverse log scale)'),\n",
    "    alt.Y('Penicillin:Q',\n",
    "          sort='descending',\n",
    "          scale=alt.Scale(type='log', domain=[0.001, 1000]),\n",
    "          axis=alt.Axis(tickCount=5),\n",
    "          title='Penicillin MIC (μg/ml, reverse log scale)'), \n",
    ").properties(width=250, height=250)"
   ]
  },
  {
   "cell_type": "markdown",
   "metadata": {
    "colab_type": "text",
    "id": "I-0rEs3lapPh"
   },
   "source": [
    "Aqui, definimos a área da marca de círculo para 80 pixels. _Ajuste esse valor conforme necessário!_"
   ]
  },
  {
   "cell_type": "markdown",
   "metadata": {
    "colab_type": "text",
    "id": "AJ8dwejXO9cc"
   },
   "source": [
    "## 4.3 Configurando Legendas de Cores"
   ]
  },
  {
   "cell_type": "markdown",
   "metadata": {
    "colab_type": "text",
    "id": "obwIbbZa_KNd"
   },
   "source": [
    "### 4.3.1 Cor por Coloração de Gram\n",
    "\n",
    "_Acima, vimos que a neomicina é mais eficaz para algumas bactérias, enquanto a penicilina funciona melhor para outras. Mas como podemos saber qual antibiótico usar se não conhecemos a espécie específica da bactéria? A coloração de Gram serve como um diagnóstico para diferenciar classes de bactérias!_\n",
    "\n",
    "Vamos codificar `Gram_Staining` no canal `color` como um tipo de dado nominal:"
   ]
  },
  {
   "cell_type": "code",
   "execution_count": 17,
   "metadata": {
    "colab": {
     "base_uri": "https://localhost:8080/",
     "height": 322
    },
    "colab_type": "code",
    "id": "pkSc_PXyAuGg",
    "outputId": "01446cfb-f968-4dfb-c695-4372f55bd5f1"
   },
   "outputs": [
    {
     "data": {
      "text/html": [
       "\n",
       "<style>\n",
       "  #altair-viz-bd171c528f704e0ea5891beacb1b2e82.vega-embed {\n",
       "    width: 100%;\n",
       "    display: flex;\n",
       "  }\n",
       "\n",
       "  #altair-viz-bd171c528f704e0ea5891beacb1b2e82.vega-embed details,\n",
       "  #altair-viz-bd171c528f704e0ea5891beacb1b2e82.vega-embed details summary {\n",
       "    position: relative;\n",
       "  }\n",
       "</style>\n",
       "<div id=\"altair-viz-bd171c528f704e0ea5891beacb1b2e82\"></div>\n",
       "<script type=\"text/javascript\">\n",
       "  var VEGA_DEBUG = (typeof VEGA_DEBUG == \"undefined\") ? {} : VEGA_DEBUG;\n",
       "  (function(spec, embedOpt){\n",
       "    let outputDiv = document.currentScript.previousElementSibling;\n",
       "    if (outputDiv.id !== \"altair-viz-bd171c528f704e0ea5891beacb1b2e82\") {\n",
       "      outputDiv = document.getElementById(\"altair-viz-bd171c528f704e0ea5891beacb1b2e82\");\n",
       "    }\n",
       "\n",
       "    const paths = {\n",
       "      \"vega\": \"https://cdn.jsdelivr.net/npm/vega@5?noext\",\n",
       "      \"vega-lib\": \"https://cdn.jsdelivr.net/npm/vega-lib?noext\",\n",
       "      \"vega-lite\": \"https://cdn.jsdelivr.net/npm/vega-lite@5.20.1?noext\",\n",
       "      \"vega-embed\": \"https://cdn.jsdelivr.net/npm/vega-embed@6?noext\",\n",
       "    };\n",
       "\n",
       "    function maybeLoadScript(lib, version) {\n",
       "      var key = `${lib.replace(\"-\", \"\")}_version`;\n",
       "      return (VEGA_DEBUG[key] == version) ?\n",
       "        Promise.resolve(paths[lib]) :\n",
       "        new Promise(function(resolve, reject) {\n",
       "          var s = document.createElement('script');\n",
       "          document.getElementsByTagName(\"head\")[0].appendChild(s);\n",
       "          s.async = true;\n",
       "          s.onload = () => {\n",
       "            VEGA_DEBUG[key] = version;\n",
       "            return resolve(paths[lib]);\n",
       "          };\n",
       "          s.onerror = () => reject(`Error loading script: ${paths[lib]}`);\n",
       "          s.src = paths[lib];\n",
       "        });\n",
       "    }\n",
       "\n",
       "    function showError(err) {\n",
       "      outputDiv.innerHTML = `<div class=\"error\" style=\"color:red;\">${err}</div>`;\n",
       "      throw err;\n",
       "    }\n",
       "\n",
       "    function displayChart(vegaEmbed) {\n",
       "      vegaEmbed(outputDiv, spec, embedOpt)\n",
       "        .catch(err => showError(`Javascript Error: ${err.message}<br>This usually means there's a typo in your chart specification. See the javascript console for the full traceback.`));\n",
       "    }\n",
       "\n",
       "    if(typeof define === \"function\" && define.amd) {\n",
       "      requirejs.config({paths});\n",
       "      let deps = [\"vega-embed\"];\n",
       "      require(deps, displayChart, err => showError(`Error loading script: ${err.message}`));\n",
       "    } else {\n",
       "      maybeLoadScript(\"vega\", \"5\")\n",
       "        .then(() => maybeLoadScript(\"vega-lite\", \"5.20.1\"))\n",
       "        .then(() => maybeLoadScript(\"vega-embed\", \"6\"))\n",
       "        .catch(showError)\n",
       "        .then(() => displayChart(vegaEmbed));\n",
       "    }\n",
       "  })({\"config\": {\"view\": {\"continuousWidth\": 300, \"continuousHeight\": 300}}, \"data\": {\"url\": \"https://cdn.jsdelivr.net/npm/vega-datasets@1/data/burtin.json\"}, \"mark\": {\"type\": \"circle\", \"size\": 80}, \"encoding\": {\"color\": {\"field\": \"Gram_Staining\", \"type\": \"nominal\"}, \"x\": {\"axis\": {\"tickCount\": 5}, \"field\": \"Neomycin\", \"scale\": {\"domain\": [0.001, 1000], \"type\": \"log\"}, \"sort\": \"descending\", \"title\": \"Neomycin MIC (\\u03bcg/ml, reverse log scale)\", \"type\": \"quantitative\"}, \"y\": {\"axis\": {\"tickCount\": 5}, \"field\": \"Penicillin\", \"scale\": {\"domain\": [0.001, 1000], \"type\": \"log\"}, \"sort\": \"descending\", \"title\": \"Penicillin MIC (\\u03bcg/ml, reverse log scale)\", \"type\": \"quantitative\"}}, \"height\": 250, \"width\": 250, \"$schema\": \"https://vega.github.io/schema/vega-lite/v5.20.1.json\"}, {\"mode\": \"vega-lite\"});\n",
       "</script>"
      ],
      "text/plain": [
       "alt.Chart(...)"
      ]
     },
     "execution_count": 17,
     "metadata": {},
     "output_type": "execute_result"
    }
   ],
   "source": [
    "alt.Chart(antibiotics).mark_circle(size=80).encode(\n",
    "    alt.X('Neomycin:Q',\n",
    "          sort='descending',\n",
    "          scale=alt.Scale(type='log', domain=[0.001, 1000]),\n",
    "          axis=alt.Axis(tickCount=5),\n",
    "          title='Neomycin MIC (μg/ml, reverse log scale)'),\n",
    "    alt.Y('Penicillin:Q',\n",
    "          sort='descending',\n",
    "          scale=alt.Scale(type='log', domain=[0.001, 1000]),\n",
    "          axis=alt.Axis(tickCount=5),\n",
    "          title='Penicillin MIC (μg/ml, reverse log scale)'),\n",
    "    alt.Color('Gram_Staining:N')\n",
    ").properties(width=250, height=250)"
   ]
  },
  {
   "cell_type": "markdown",
   "metadata": {
    "colab_type": "text",
    "id": "a1Ec7fCUBQJn"
   },
   "source": [
    "_Podemos ver que as bactérias Gram-positivas parecem ser mais suscetíveis à penicilina, enquanto a neomicina é mais eficaz contra bactérias Gram-negativas!_\n",
    "\n",
    "O esquema de cores acima foi escolhido automaticamente para fornecer cores perceptualmente distintas para comparações nominais (igual ou diferente). No entanto, podemos querer personalizar as cores utilizadas. Nesse caso, a coloração de Gram resulta em [cores físicas características: rosa para Gram-negativas e roxo para Gram-positivas](https://en.wikipedia.org/wiki/Gram_stain#/media/File:Gram_stain_01.jpg).\n",
    "\n",
    "Vamos usar essas cores especificando um mapeamento explícito da escala do domínio (`domain`) dos dados para o intervalo de `color`:"
   ]
  },
  {
   "cell_type": "code",
   "execution_count": 18,
   "metadata": {
    "colab": {
     "base_uri": "https://localhost:8080/",
     "height": 322
    },
    "colab_type": "code",
    "id": "XA4UUWriCEox",
    "outputId": "f2ada6d0-d969-4927-a268-6f842c1b65ad"
   },
   "outputs": [
    {
     "data": {
      "text/html": [
       "\n",
       "<style>\n",
       "  #altair-viz-395bc44ad1e34c9d82133af6871767b8.vega-embed {\n",
       "    width: 100%;\n",
       "    display: flex;\n",
       "  }\n",
       "\n",
       "  #altair-viz-395bc44ad1e34c9d82133af6871767b8.vega-embed details,\n",
       "  #altair-viz-395bc44ad1e34c9d82133af6871767b8.vega-embed details summary {\n",
       "    position: relative;\n",
       "  }\n",
       "</style>\n",
       "<div id=\"altair-viz-395bc44ad1e34c9d82133af6871767b8\"></div>\n",
       "<script type=\"text/javascript\">\n",
       "  var VEGA_DEBUG = (typeof VEGA_DEBUG == \"undefined\") ? {} : VEGA_DEBUG;\n",
       "  (function(spec, embedOpt){\n",
       "    let outputDiv = document.currentScript.previousElementSibling;\n",
       "    if (outputDiv.id !== \"altair-viz-395bc44ad1e34c9d82133af6871767b8\") {\n",
       "      outputDiv = document.getElementById(\"altair-viz-395bc44ad1e34c9d82133af6871767b8\");\n",
       "    }\n",
       "\n",
       "    const paths = {\n",
       "      \"vega\": \"https://cdn.jsdelivr.net/npm/vega@5?noext\",\n",
       "      \"vega-lib\": \"https://cdn.jsdelivr.net/npm/vega-lib?noext\",\n",
       "      \"vega-lite\": \"https://cdn.jsdelivr.net/npm/vega-lite@5.20.1?noext\",\n",
       "      \"vega-embed\": \"https://cdn.jsdelivr.net/npm/vega-embed@6?noext\",\n",
       "    };\n",
       "\n",
       "    function maybeLoadScript(lib, version) {\n",
       "      var key = `${lib.replace(\"-\", \"\")}_version`;\n",
       "      return (VEGA_DEBUG[key] == version) ?\n",
       "        Promise.resolve(paths[lib]) :\n",
       "        new Promise(function(resolve, reject) {\n",
       "          var s = document.createElement('script');\n",
       "          document.getElementsByTagName(\"head\")[0].appendChild(s);\n",
       "          s.async = true;\n",
       "          s.onload = () => {\n",
       "            VEGA_DEBUG[key] = version;\n",
       "            return resolve(paths[lib]);\n",
       "          };\n",
       "          s.onerror = () => reject(`Error loading script: ${paths[lib]}`);\n",
       "          s.src = paths[lib];\n",
       "        });\n",
       "    }\n",
       "\n",
       "    function showError(err) {\n",
       "      outputDiv.innerHTML = `<div class=\"error\" style=\"color:red;\">${err}</div>`;\n",
       "      throw err;\n",
       "    }\n",
       "\n",
       "    function displayChart(vegaEmbed) {\n",
       "      vegaEmbed(outputDiv, spec, embedOpt)\n",
       "        .catch(err => showError(`Javascript Error: ${err.message}<br>This usually means there's a typo in your chart specification. See the javascript console for the full traceback.`));\n",
       "    }\n",
       "\n",
       "    if(typeof define === \"function\" && define.amd) {\n",
       "      requirejs.config({paths});\n",
       "      let deps = [\"vega-embed\"];\n",
       "      require(deps, displayChart, err => showError(`Error loading script: ${err.message}`));\n",
       "    } else {\n",
       "      maybeLoadScript(\"vega\", \"5\")\n",
       "        .then(() => maybeLoadScript(\"vega-lite\", \"5.20.1\"))\n",
       "        .then(() => maybeLoadScript(\"vega-embed\", \"6\"))\n",
       "        .catch(showError)\n",
       "        .then(() => displayChart(vegaEmbed));\n",
       "    }\n",
       "  })({\"config\": {\"view\": {\"continuousWidth\": 300, \"continuousHeight\": 300}}, \"data\": {\"url\": \"https://cdn.jsdelivr.net/npm/vega-datasets@1/data/burtin.json\"}, \"mark\": {\"type\": \"circle\", \"size\": 80}, \"encoding\": {\"color\": {\"field\": \"Gram_Staining\", \"scale\": {\"domain\": [\"negative\", \"positive\"], \"range\": [\"hotpink\", \"purple\"]}, \"type\": \"nominal\"}, \"x\": {\"axis\": {\"tickCount\": 5}, \"field\": \"Neomycin\", \"scale\": {\"domain\": [0.001, 1000], \"type\": \"log\"}, \"sort\": \"descending\", \"title\": \"Neomycin MIC (\\u03bcg/ml, reverse log scale)\", \"type\": \"quantitative\"}, \"y\": {\"axis\": {\"tickCount\": 5}, \"field\": \"Penicillin\", \"scale\": {\"domain\": [0.001, 1000], \"type\": \"log\"}, \"sort\": \"descending\", \"title\": \"Penicillin MIC (\\u03bcg/ml, reverse log scale)\", \"type\": \"quantitative\"}}, \"height\": 250, \"width\": 250, \"$schema\": \"https://vega.github.io/schema/vega-lite/v5.20.1.json\"}, {\"mode\": \"vega-lite\"});\n",
       "</script>"
      ],
      "text/plain": [
       "alt.Chart(...)"
      ]
     },
     "execution_count": 18,
     "metadata": {},
     "output_type": "execute_result"
    }
   ],
   "source": [
    "alt.Chart(antibiotics).mark_circle(size=80).encode(\n",
    "    alt.X('Neomycin:Q',\n",
    "          sort='descending',\n",
    "          scale=alt.Scale(type='log', domain=[0.001, 1000]),\n",
    "          axis=alt.Axis(tickCount=5),\n",
    "          title='Neomycin MIC (μg/ml, reverse log scale)'),\n",
    "    alt.Y('Penicillin:Q',\n",
    "          sort='descending',\n",
    "          scale=alt.Scale(type='log', domain=[0.001, 1000]),\n",
    "          axis=alt.Axis(tickCount=5),\n",
    "          title='Penicillin MIC (μg/ml, reverse log scale)'),\n",
    "    alt.Color('Gram_Staining:N',\n",
    "          scale=alt.Scale(domain=['negative', 'positive'], range=['hotpink', 'purple'])\n",
    "    )\n",
    ").properties(width=250, height=250)"
   ]
  },
  {
   "cell_type": "markdown",
   "metadata": {
    "colab_type": "text",
    "id": "cfgvdp8cBHmZ"
   },
   "source": [
    "Por padrão, as legendas são posicionadas no lado direito do gráfico. Assim como nos eixos, podemos alterar a orientação da legenda usando o parâmetro `orient`:"
   ]
  },
  {
   "cell_type": "code",
   "execution_count": 19,
   "metadata": {
    "colab": {
     "base_uri": "https://localhost:8080/",
     "height": 322
    },
    "colab_type": "code",
    "id": "wlb7-9SNBUdZ",
    "outputId": "32b3e78c-7860-4ef4-850f-9af24cb58edd"
   },
   "outputs": [
    {
     "data": {
      "text/html": [
       "\n",
       "<style>\n",
       "  #altair-viz-85d3e113b3dd4a6c9da096330d6564e8.vega-embed {\n",
       "    width: 100%;\n",
       "    display: flex;\n",
       "  }\n",
       "\n",
       "  #altair-viz-85d3e113b3dd4a6c9da096330d6564e8.vega-embed details,\n",
       "  #altair-viz-85d3e113b3dd4a6c9da096330d6564e8.vega-embed details summary {\n",
       "    position: relative;\n",
       "  }\n",
       "</style>\n",
       "<div id=\"altair-viz-85d3e113b3dd4a6c9da096330d6564e8\"></div>\n",
       "<script type=\"text/javascript\">\n",
       "  var VEGA_DEBUG = (typeof VEGA_DEBUG == \"undefined\") ? {} : VEGA_DEBUG;\n",
       "  (function(spec, embedOpt){\n",
       "    let outputDiv = document.currentScript.previousElementSibling;\n",
       "    if (outputDiv.id !== \"altair-viz-85d3e113b3dd4a6c9da096330d6564e8\") {\n",
       "      outputDiv = document.getElementById(\"altair-viz-85d3e113b3dd4a6c9da096330d6564e8\");\n",
       "    }\n",
       "\n",
       "    const paths = {\n",
       "      \"vega\": \"https://cdn.jsdelivr.net/npm/vega@5?noext\",\n",
       "      \"vega-lib\": \"https://cdn.jsdelivr.net/npm/vega-lib?noext\",\n",
       "      \"vega-lite\": \"https://cdn.jsdelivr.net/npm/vega-lite@5.20.1?noext\",\n",
       "      \"vega-embed\": \"https://cdn.jsdelivr.net/npm/vega-embed@6?noext\",\n",
       "    };\n",
       "\n",
       "    function maybeLoadScript(lib, version) {\n",
       "      var key = `${lib.replace(\"-\", \"\")}_version`;\n",
       "      return (VEGA_DEBUG[key] == version) ?\n",
       "        Promise.resolve(paths[lib]) :\n",
       "        new Promise(function(resolve, reject) {\n",
       "          var s = document.createElement('script');\n",
       "          document.getElementsByTagName(\"head\")[0].appendChild(s);\n",
       "          s.async = true;\n",
       "          s.onload = () => {\n",
       "            VEGA_DEBUG[key] = version;\n",
       "            return resolve(paths[lib]);\n",
       "          };\n",
       "          s.onerror = () => reject(`Error loading script: ${paths[lib]}`);\n",
       "          s.src = paths[lib];\n",
       "        });\n",
       "    }\n",
       "\n",
       "    function showError(err) {\n",
       "      outputDiv.innerHTML = `<div class=\"error\" style=\"color:red;\">${err}</div>`;\n",
       "      throw err;\n",
       "    }\n",
       "\n",
       "    function displayChart(vegaEmbed) {\n",
       "      vegaEmbed(outputDiv, spec, embedOpt)\n",
       "        .catch(err => showError(`Javascript Error: ${err.message}<br>This usually means there's a typo in your chart specification. See the javascript console for the full traceback.`));\n",
       "    }\n",
       "\n",
       "    if(typeof define === \"function\" && define.amd) {\n",
       "      requirejs.config({paths});\n",
       "      let deps = [\"vega-embed\"];\n",
       "      require(deps, displayChart, err => showError(`Error loading script: ${err.message}`));\n",
       "    } else {\n",
       "      maybeLoadScript(\"vega\", \"5\")\n",
       "        .then(() => maybeLoadScript(\"vega-lite\", \"5.20.1\"))\n",
       "        .then(() => maybeLoadScript(\"vega-embed\", \"6\"))\n",
       "        .catch(showError)\n",
       "        .then(() => displayChart(vegaEmbed));\n",
       "    }\n",
       "  })({\"config\": {\"view\": {\"continuousWidth\": 300, \"continuousHeight\": 300}}, \"data\": {\"url\": \"https://cdn.jsdelivr.net/npm/vega-datasets@1/data/burtin.json\"}, \"mark\": {\"type\": \"circle\", \"size\": 80}, \"encoding\": {\"color\": {\"field\": \"Gram_Staining\", \"legend\": {\"orient\": \"left\"}, \"scale\": {\"domain\": [\"negative\", \"positive\"], \"range\": [\"hotpink\", \"purple\"]}, \"type\": \"nominal\"}, \"x\": {\"axis\": {\"tickCount\": 5}, \"field\": \"Neomycin\", \"scale\": {\"domain\": [0.001, 1000], \"type\": \"log\"}, \"sort\": \"descending\", \"title\": \"Neomycin MIC (\\u03bcg/ml, reverse log scale)\", \"type\": \"quantitative\"}, \"y\": {\"axis\": {\"tickCount\": 5}, \"field\": \"Penicillin\", \"scale\": {\"domain\": [0.001, 1000], \"type\": \"log\"}, \"sort\": \"descending\", \"title\": \"Penicillin MIC (\\u03bcg/ml, reverse log scale)\", \"type\": \"quantitative\"}}, \"height\": 250, \"width\": 250, \"$schema\": \"https://vega.github.io/schema/vega-lite/v5.20.1.json\"}, {\"mode\": \"vega-lite\"});\n",
       "</script>"
      ],
      "text/plain": [
       "alt.Chart(...)"
      ]
     },
     "execution_count": 19,
     "metadata": {},
     "output_type": "execute_result"
    }
   ],
   "source": [
    "alt.Chart(antibiotics).mark_circle(size=80).encode(\n",
    "    alt.X('Neomycin:Q',\n",
    "          sort='descending',\n",
    "          scale=alt.Scale(type='log', domain=[0.001, 1000]),\n",
    "          axis=alt.Axis(tickCount=5),\n",
    "          title='Neomycin MIC (μg/ml, reverse log scale)'),\n",
    "    alt.Y('Penicillin:Q',\n",
    "          sort='descending',\n",
    "          scale=alt.Scale(type='log', domain=[0.001, 1000]),\n",
    "          axis=alt.Axis(tickCount=5),\n",
    "          title='Penicillin MIC (μg/ml, reverse log scale)'),\n",
    "    alt.Color('Gram_Staining:N',\n",
    "          scale=alt.Scale(domain=['negative', 'positive'], range=['hotpink', 'purple']),\n",
    "          legend=alt.Legend(orient='left')\n",
    "    )\n",
    ").properties(width=250, height=250)"
   ]
  },
  {
   "cell_type": "markdown",
   "metadata": {
    "colab_type": "text",
    "id": "nwoOrGb6BtrF"
   },
   "source": [
    "Também podemos remover completamente a legenda especificando `legend=None`:"
   ]
  },
  {
   "cell_type": "code",
   "execution_count": 20,
   "metadata": {
    "colab": {
     "base_uri": "https://localhost:8080/",
     "height": 322
    },
    "colab_type": "code",
    "id": "YEcweSOABxss",
    "outputId": "a6e539ce-1b2c-4b6f-c504-edbeb659b5d4"
   },
   "outputs": [
    {
     "data": {
      "text/html": [
       "\n",
       "<style>\n",
       "  #altair-viz-269cbe98bc2240e088519e4e41d460cc.vega-embed {\n",
       "    width: 100%;\n",
       "    display: flex;\n",
       "  }\n",
       "\n",
       "  #altair-viz-269cbe98bc2240e088519e4e41d460cc.vega-embed details,\n",
       "  #altair-viz-269cbe98bc2240e088519e4e41d460cc.vega-embed details summary {\n",
       "    position: relative;\n",
       "  }\n",
       "</style>\n",
       "<div id=\"altair-viz-269cbe98bc2240e088519e4e41d460cc\"></div>\n",
       "<script type=\"text/javascript\">\n",
       "  var VEGA_DEBUG = (typeof VEGA_DEBUG == \"undefined\") ? {} : VEGA_DEBUG;\n",
       "  (function(spec, embedOpt){\n",
       "    let outputDiv = document.currentScript.previousElementSibling;\n",
       "    if (outputDiv.id !== \"altair-viz-269cbe98bc2240e088519e4e41d460cc\") {\n",
       "      outputDiv = document.getElementById(\"altair-viz-269cbe98bc2240e088519e4e41d460cc\");\n",
       "    }\n",
       "\n",
       "    const paths = {\n",
       "      \"vega\": \"https://cdn.jsdelivr.net/npm/vega@5?noext\",\n",
       "      \"vega-lib\": \"https://cdn.jsdelivr.net/npm/vega-lib?noext\",\n",
       "      \"vega-lite\": \"https://cdn.jsdelivr.net/npm/vega-lite@5.20.1?noext\",\n",
       "      \"vega-embed\": \"https://cdn.jsdelivr.net/npm/vega-embed@6?noext\",\n",
       "    };\n",
       "\n",
       "    function maybeLoadScript(lib, version) {\n",
       "      var key = `${lib.replace(\"-\", \"\")}_version`;\n",
       "      return (VEGA_DEBUG[key] == version) ?\n",
       "        Promise.resolve(paths[lib]) :\n",
       "        new Promise(function(resolve, reject) {\n",
       "          var s = document.createElement('script');\n",
       "          document.getElementsByTagName(\"head\")[0].appendChild(s);\n",
       "          s.async = true;\n",
       "          s.onload = () => {\n",
       "            VEGA_DEBUG[key] = version;\n",
       "            return resolve(paths[lib]);\n",
       "          };\n",
       "          s.onerror = () => reject(`Error loading script: ${paths[lib]}`);\n",
       "          s.src = paths[lib];\n",
       "        });\n",
       "    }\n",
       "\n",
       "    function showError(err) {\n",
       "      outputDiv.innerHTML = `<div class=\"error\" style=\"color:red;\">${err}</div>`;\n",
       "      throw err;\n",
       "    }\n",
       "\n",
       "    function displayChart(vegaEmbed) {\n",
       "      vegaEmbed(outputDiv, spec, embedOpt)\n",
       "        .catch(err => showError(`Javascript Error: ${err.message}<br>This usually means there's a typo in your chart specification. See the javascript console for the full traceback.`));\n",
       "    }\n",
       "\n",
       "    if(typeof define === \"function\" && define.amd) {\n",
       "      requirejs.config({paths});\n",
       "      let deps = [\"vega-embed\"];\n",
       "      require(deps, displayChart, err => showError(`Error loading script: ${err.message}`));\n",
       "    } else {\n",
       "      maybeLoadScript(\"vega\", \"5\")\n",
       "        .then(() => maybeLoadScript(\"vega-lite\", \"5.20.1\"))\n",
       "        .then(() => maybeLoadScript(\"vega-embed\", \"6\"))\n",
       "        .catch(showError)\n",
       "        .then(() => displayChart(vegaEmbed));\n",
       "    }\n",
       "  })({\"config\": {\"view\": {\"continuousWidth\": 300, \"continuousHeight\": 300}}, \"data\": {\"url\": \"https://cdn.jsdelivr.net/npm/vega-datasets@1/data/burtin.json\"}, \"mark\": {\"type\": \"circle\", \"size\": 80}, \"encoding\": {\"color\": {\"field\": \"Gram_Staining\", \"legend\": null, \"scale\": {\"domain\": [\"negative\", \"positive\"], \"range\": [\"hotpink\", \"purple\"]}, \"type\": \"nominal\"}, \"x\": {\"axis\": {\"tickCount\": 5}, \"field\": \"Neomycin\", \"scale\": {\"domain\": [0.001, 1000], \"type\": \"log\"}, \"sort\": \"descending\", \"title\": \"Neomycin MIC (\\u03bcg/ml, reverse log scale)\", \"type\": \"quantitative\"}, \"y\": {\"axis\": {\"tickCount\": 5}, \"field\": \"Penicillin\", \"scale\": {\"domain\": [0.001, 1000], \"type\": \"log\"}, \"sort\": \"descending\", \"title\": \"Penicillin MIC (\\u03bcg/ml, reverse log scale)\", \"type\": \"quantitative\"}}, \"height\": 250, \"width\": 250, \"$schema\": \"https://vega.github.io/schema/vega-lite/v5.20.1.json\"}, {\"mode\": \"vega-lite\"});\n",
       "</script>"
      ],
      "text/plain": [
       "alt.Chart(...)"
      ]
     },
     "execution_count": 20,
     "metadata": {},
     "output_type": "execute_result"
    }
   ],
   "source": [
    "\n",
    "alt.Chart(antibiotics).mark_circle(size=80).encode(\n",
    "    alt.X('Neomycin:Q',\n",
    "          sort='descending',\n",
    "          scale=alt.Scale(type='log', domain=[0.001, 1000]),\n",
    "          axis=alt.Axis(tickCount=5),\n",
    "          title='Neomycin MIC (μg/ml, reverse log scale)'),\n",
    "    alt.Y('Penicillin:Q',\n",
    "          sort='descending',\n",
    "          scale=alt.Scale(type='log', domain=[0.001, 1000]),\n",
    "          axis=alt.Axis(tickCount=5),\n",
    "          title='Penicillin MIC (μg/ml, reverse log scale)'),\n",
    "    alt.Color('Gram_Staining:N',\n",
    "          scale=alt.Scale(domain=['negative', 'positive'], range=['hotpink', 'purple']),\n",
    "          legend=None\n",
    "    )\n",
    ").properties(width=250, height=250)"
   ]
  },
  {
   "cell_type": "markdown",
   "metadata": {
    "colab_type": "text",
    "id": "M64uVeFHDIlT"
   },
   "source": [
    "### 4.3.2 Cor por Espécie\n",
    "\n",
    "_Até agora, consideramos a eficácia dos antibióticos. Mudemos de perspectiva e façamos uma pergunta diferente: o que a resposta aos antibióticos pode nos ensinar sobre as diferentes espécies de bactérias?_\n",
    "\n",
    "Para começar, vamos codificar `Bacteria` (um campo de dados nominal) usando o canal `color`:"
   ]
  },
  {
   "cell_type": "code",
   "execution_count": 21,
   "metadata": {
    "colab": {
     "base_uri": "https://localhost:8080/",
     "height": 322
    },
    "colab_type": "code",
    "id": "di1mU7ynOq0u",
    "outputId": "4d7a1300-79ea-429c-9a6a-4de170eabddf"
   },
   "outputs": [
    {
     "data": {
      "text/html": [
       "\n",
       "<style>\n",
       "  #altair-viz-0011c0f8ed664a249a3b07c47059e3dc.vega-embed {\n",
       "    width: 100%;\n",
       "    display: flex;\n",
       "  }\n",
       "\n",
       "  #altair-viz-0011c0f8ed664a249a3b07c47059e3dc.vega-embed details,\n",
       "  #altair-viz-0011c0f8ed664a249a3b07c47059e3dc.vega-embed details summary {\n",
       "    position: relative;\n",
       "  }\n",
       "</style>\n",
       "<div id=\"altair-viz-0011c0f8ed664a249a3b07c47059e3dc\"></div>\n",
       "<script type=\"text/javascript\">\n",
       "  var VEGA_DEBUG = (typeof VEGA_DEBUG == \"undefined\") ? {} : VEGA_DEBUG;\n",
       "  (function(spec, embedOpt){\n",
       "    let outputDiv = document.currentScript.previousElementSibling;\n",
       "    if (outputDiv.id !== \"altair-viz-0011c0f8ed664a249a3b07c47059e3dc\") {\n",
       "      outputDiv = document.getElementById(\"altair-viz-0011c0f8ed664a249a3b07c47059e3dc\");\n",
       "    }\n",
       "\n",
       "    const paths = {\n",
       "      \"vega\": \"https://cdn.jsdelivr.net/npm/vega@5?noext\",\n",
       "      \"vega-lib\": \"https://cdn.jsdelivr.net/npm/vega-lib?noext\",\n",
       "      \"vega-lite\": \"https://cdn.jsdelivr.net/npm/vega-lite@5.20.1?noext\",\n",
       "      \"vega-embed\": \"https://cdn.jsdelivr.net/npm/vega-embed@6?noext\",\n",
       "    };\n",
       "\n",
       "    function maybeLoadScript(lib, version) {\n",
       "      var key = `${lib.replace(\"-\", \"\")}_version`;\n",
       "      return (VEGA_DEBUG[key] == version) ?\n",
       "        Promise.resolve(paths[lib]) :\n",
       "        new Promise(function(resolve, reject) {\n",
       "          var s = document.createElement('script');\n",
       "          document.getElementsByTagName(\"head\")[0].appendChild(s);\n",
       "          s.async = true;\n",
       "          s.onload = () => {\n",
       "            VEGA_DEBUG[key] = version;\n",
       "            return resolve(paths[lib]);\n",
       "          };\n",
       "          s.onerror = () => reject(`Error loading script: ${paths[lib]}`);\n",
       "          s.src = paths[lib];\n",
       "        });\n",
       "    }\n",
       "\n",
       "    function showError(err) {\n",
       "      outputDiv.innerHTML = `<div class=\"error\" style=\"color:red;\">${err}</div>`;\n",
       "      throw err;\n",
       "    }\n",
       "\n",
       "    function displayChart(vegaEmbed) {\n",
       "      vegaEmbed(outputDiv, spec, embedOpt)\n",
       "        .catch(err => showError(`Javascript Error: ${err.message}<br>This usually means there's a typo in your chart specification. See the javascript console for the full traceback.`));\n",
       "    }\n",
       "\n",
       "    if(typeof define === \"function\" && define.amd) {\n",
       "      requirejs.config({paths});\n",
       "      let deps = [\"vega-embed\"];\n",
       "      require(deps, displayChart, err => showError(`Error loading script: ${err.message}`));\n",
       "    } else {\n",
       "      maybeLoadScript(\"vega\", \"5\")\n",
       "        .then(() => maybeLoadScript(\"vega-lite\", \"5.20.1\"))\n",
       "        .then(() => maybeLoadScript(\"vega-embed\", \"6\"))\n",
       "        .catch(showError)\n",
       "        .then(() => displayChart(vegaEmbed));\n",
       "    }\n",
       "  })({\"config\": {\"view\": {\"continuousWidth\": 300, \"continuousHeight\": 300}}, \"data\": {\"url\": \"https://cdn.jsdelivr.net/npm/vega-datasets@1/data/burtin.json\"}, \"mark\": {\"type\": \"circle\", \"size\": 80}, \"encoding\": {\"color\": {\"field\": \"Bacteria\", \"type\": \"nominal\"}, \"x\": {\"axis\": {\"tickCount\": 5}, \"field\": \"Neomycin\", \"scale\": {\"domain\": [0.001, 1000], \"type\": \"log\"}, \"sort\": \"descending\", \"title\": \"Neomycin MIC (\\u03bcg/ml, reverse log scale)\", \"type\": \"quantitative\"}, \"y\": {\"axis\": {\"tickCount\": 5}, \"field\": \"Penicillin\", \"scale\": {\"domain\": [0.001, 1000], \"type\": \"log\"}, \"sort\": \"descending\", \"title\": \"Penicillin MIC (\\u03bcg/ml, reverse log scale)\", \"type\": \"quantitative\"}}, \"height\": 250, \"width\": 250, \"$schema\": \"https://vega.github.io/schema/vega-lite/v5.20.1.json\"}, {\"mode\": \"vega-lite\"});\n",
       "</script>"
      ],
      "text/plain": [
       "alt.Chart(...)"
      ]
     },
     "execution_count": 21,
     "metadata": {},
     "output_type": "execute_result"
    }
   ],
   "source": [
    "alt.Chart(antibiotics).mark_circle(size=80).encode(\n",
    "    alt.X('Neomycin:Q',\n",
    "          sort='descending',\n",
    "          scale=alt.Scale(type='log', domain=[0.001, 1000]),\n",
    "          axis=alt.Axis(tickCount=5),\n",
    "          title='Neomycin MIC (μg/ml, reverse log scale)'),\n",
    "    alt.Y('Penicillin:Q',\n",
    "          sort='descending',\n",
    "          scale=alt.Scale(type='log', domain=[0.001, 1000]),\n",
    "          axis=alt.Axis(tickCount=5),\n",
    "          title='Penicillin MIC (μg/ml, reverse log scale)'),\n",
    "    alt.Color('Bacteria:N')\n",
    ").properties(width=250, height=250)"
   ]
  },
  {
   "cell_type": "markdown",
   "metadata": {
    "colab_type": "text",
    "id": "8Z02YhSRa6aw"
   },
   "source": [
    "_O resultado é de certa forma uma bagunça!_ Há tantas bactérias únicas que o Altair começa a repetir cores de sua paleta padrão de 10 cores para valores nominais.\n",
    "\n",
    "Para usar cores personalizadas, podemos atualizar a propriedade `scale` da codificação de cor. Uma opção é fornecer valores de escala explícitos para `domain` e `range`, indicando mapeamentos de cores precisos por valor, como fizemos anteriormente para a coloração de Gram. Outra opção é usar um esquema de cores alternativo. O Altair inclui uma variedade de esquemas de cores integrados. Para uma lista completa, consulte [documentação de esquemas de cores do Vega](https://vega.github.io/vega/docs/schemes/#reference).\n",
    "\n",
    "Vamos experimentar mudar para um esquema de 20 cores embutido, `tableau20`, e configurá-lo usando a propriedade `scheme` de escala."
   ]
  },
  {
   "cell_type": "code",
   "execution_count": 22,
   "metadata": {
    "colab": {
     "base_uri": "https://localhost:8080/",
     "height": 322
    },
    "colab_type": "code",
    "id": "wkt58FGQPCU2",
    "outputId": "365fc89f-4ab4-47aa-fe40-70f175c2c58d"
   },
   "outputs": [
    {
     "data": {
      "text/html": [
       "\n",
       "<style>\n",
       "  #altair-viz-776b637fc4c74b28aa2e6c5e805dc0d8.vega-embed {\n",
       "    width: 100%;\n",
       "    display: flex;\n",
       "  }\n",
       "\n",
       "  #altair-viz-776b637fc4c74b28aa2e6c5e805dc0d8.vega-embed details,\n",
       "  #altair-viz-776b637fc4c74b28aa2e6c5e805dc0d8.vega-embed details summary {\n",
       "    position: relative;\n",
       "  }\n",
       "</style>\n",
       "<div id=\"altair-viz-776b637fc4c74b28aa2e6c5e805dc0d8\"></div>\n",
       "<script type=\"text/javascript\">\n",
       "  var VEGA_DEBUG = (typeof VEGA_DEBUG == \"undefined\") ? {} : VEGA_DEBUG;\n",
       "  (function(spec, embedOpt){\n",
       "    let outputDiv = document.currentScript.previousElementSibling;\n",
       "    if (outputDiv.id !== \"altair-viz-776b637fc4c74b28aa2e6c5e805dc0d8\") {\n",
       "      outputDiv = document.getElementById(\"altair-viz-776b637fc4c74b28aa2e6c5e805dc0d8\");\n",
       "    }\n",
       "\n",
       "    const paths = {\n",
       "      \"vega\": \"https://cdn.jsdelivr.net/npm/vega@5?noext\",\n",
       "      \"vega-lib\": \"https://cdn.jsdelivr.net/npm/vega-lib?noext\",\n",
       "      \"vega-lite\": \"https://cdn.jsdelivr.net/npm/vega-lite@5.20.1?noext\",\n",
       "      \"vega-embed\": \"https://cdn.jsdelivr.net/npm/vega-embed@6?noext\",\n",
       "    };\n",
       "\n",
       "    function maybeLoadScript(lib, version) {\n",
       "      var key = `${lib.replace(\"-\", \"\")}_version`;\n",
       "      return (VEGA_DEBUG[key] == version) ?\n",
       "        Promise.resolve(paths[lib]) :\n",
       "        new Promise(function(resolve, reject) {\n",
       "          var s = document.createElement('script');\n",
       "          document.getElementsByTagName(\"head\")[0].appendChild(s);\n",
       "          s.async = true;\n",
       "          s.onload = () => {\n",
       "            VEGA_DEBUG[key] = version;\n",
       "            return resolve(paths[lib]);\n",
       "          };\n",
       "          s.onerror = () => reject(`Error loading script: ${paths[lib]}`);\n",
       "          s.src = paths[lib];\n",
       "        });\n",
       "    }\n",
       "\n",
       "    function showError(err) {\n",
       "      outputDiv.innerHTML = `<div class=\"error\" style=\"color:red;\">${err}</div>`;\n",
       "      throw err;\n",
       "    }\n",
       "\n",
       "    function displayChart(vegaEmbed) {\n",
       "      vegaEmbed(outputDiv, spec, embedOpt)\n",
       "        .catch(err => showError(`Javascript Error: ${err.message}<br>This usually means there's a typo in your chart specification. See the javascript console for the full traceback.`));\n",
       "    }\n",
       "\n",
       "    if(typeof define === \"function\" && define.amd) {\n",
       "      requirejs.config({paths});\n",
       "      let deps = [\"vega-embed\"];\n",
       "      require(deps, displayChart, err => showError(`Error loading script: ${err.message}`));\n",
       "    } else {\n",
       "      maybeLoadScript(\"vega\", \"5\")\n",
       "        .then(() => maybeLoadScript(\"vega-lite\", \"5.20.1\"))\n",
       "        .then(() => maybeLoadScript(\"vega-embed\", \"6\"))\n",
       "        .catch(showError)\n",
       "        .then(() => displayChart(vegaEmbed));\n",
       "    }\n",
       "  })({\"config\": {\"view\": {\"continuousWidth\": 300, \"continuousHeight\": 300}}, \"data\": {\"url\": \"https://cdn.jsdelivr.net/npm/vega-datasets@1/data/burtin.json\"}, \"mark\": {\"type\": \"circle\", \"size\": 80}, \"encoding\": {\"color\": {\"field\": \"Bacteria\", \"scale\": {\"scheme\": \"tableau20\"}, \"type\": \"nominal\"}, \"x\": {\"axis\": {\"tickCount\": 5}, \"field\": \"Neomycin\", \"scale\": {\"domain\": [0.001, 1000], \"type\": \"log\"}, \"sort\": \"descending\", \"title\": \"Neomycin MIC (\\u03bcg/ml, reverse log scale)\", \"type\": \"quantitative\"}, \"y\": {\"axis\": {\"tickCount\": 5}, \"field\": \"Penicillin\", \"scale\": {\"domain\": [0.001, 1000], \"type\": \"log\"}, \"sort\": \"descending\", \"title\": \"Penicillin MIC (\\u03bcg/ml, reverse log scale)\", \"type\": \"quantitative\"}}, \"height\": 250, \"width\": 250, \"$schema\": \"https://vega.github.io/schema/vega-lite/v5.20.1.json\"}, {\"mode\": \"vega-lite\"});\n",
       "</script>"
      ],
      "text/plain": [
       "alt.Chart(...)"
      ]
     },
     "execution_count": 22,
     "metadata": {},
     "output_type": "execute_result"
    }
   ],
   "source": [
    "alt.Chart(antibiotics).mark_circle(size=80).encode(\n",
    "    alt.X('Neomycin:Q',\n",
    "          sort='descending',\n",
    "          scale=alt.Scale(type='log', domain=[0.001, 1000]),\n",
    "          axis=alt.Axis(tickCount=5),\n",
    "          title='Neomycin MIC (μg/ml, reverse log scale)'),\n",
    "    alt.Y('Penicillin:Q',\n",
    "          sort='descending',\n",
    "          scale=alt.Scale(type='log', domain=[0.001, 1000]),\n",
    "          axis=alt.Axis(tickCount=5),\n",
    "          title='Penicillin MIC (μg/ml, reverse log scale)'),\n",
    "    alt.Color('Bacteria:N',\n",
    "          scale=alt.Scale(scheme='tableau20'))\n",
    ").properties(width=250, height=250)"
   ]
  },
  {
   "cell_type": "markdown",
   "metadata": {
    "colab_type": "text",
    "id": "28Hr54iIbwE4"
   },
   "source": [
    "_Agora temos uma cor única para cada bactéria, mas o gráfico ainda está confuso. Entre outros problemas, a codificação não leva em conta bactérias que pertencem ao mesmo gênero. No gráfico acima, as duas cepas diferentes de Salmonella possuem matizes muito distintas (verde-azulado e rosa), apesar de serem parentes biológicos._\n",
    "\n",
    "Para tentar um esquema diferente, também podemos alterar o data type (tipo de dado) de nominal para ordinal. O esquema ordinal padrão usa tons de azul, variando de claro a escuro:"
   ]
  },
  {
   "cell_type": "code",
   "execution_count": 23,
   "metadata": {
    "colab": {
     "base_uri": "https://localhost:8080/",
     "height": 322
    },
    "colab_type": "code",
    "id": "L3XSjQqePa-z",
    "outputId": "dd1dad11-c74e-4339-9533-4cd195af12a2"
   },
   "outputs": [
    {
     "data": {
      "text/html": [
       "\n",
       "<style>\n",
       "  #altair-viz-9918d3529f504f2db6cd587fe1a2e586.vega-embed {\n",
       "    width: 100%;\n",
       "    display: flex;\n",
       "  }\n",
       "\n",
       "  #altair-viz-9918d3529f504f2db6cd587fe1a2e586.vega-embed details,\n",
       "  #altair-viz-9918d3529f504f2db6cd587fe1a2e586.vega-embed details summary {\n",
       "    position: relative;\n",
       "  }\n",
       "</style>\n",
       "<div id=\"altair-viz-9918d3529f504f2db6cd587fe1a2e586\"></div>\n",
       "<script type=\"text/javascript\">\n",
       "  var VEGA_DEBUG = (typeof VEGA_DEBUG == \"undefined\") ? {} : VEGA_DEBUG;\n",
       "  (function(spec, embedOpt){\n",
       "    let outputDiv = document.currentScript.previousElementSibling;\n",
       "    if (outputDiv.id !== \"altair-viz-9918d3529f504f2db6cd587fe1a2e586\") {\n",
       "      outputDiv = document.getElementById(\"altair-viz-9918d3529f504f2db6cd587fe1a2e586\");\n",
       "    }\n",
       "\n",
       "    const paths = {\n",
       "      \"vega\": \"https://cdn.jsdelivr.net/npm/vega@5?noext\",\n",
       "      \"vega-lib\": \"https://cdn.jsdelivr.net/npm/vega-lib?noext\",\n",
       "      \"vega-lite\": \"https://cdn.jsdelivr.net/npm/vega-lite@5.20.1?noext\",\n",
       "      \"vega-embed\": \"https://cdn.jsdelivr.net/npm/vega-embed@6?noext\",\n",
       "    };\n",
       "\n",
       "    function maybeLoadScript(lib, version) {\n",
       "      var key = `${lib.replace(\"-\", \"\")}_version`;\n",
       "      return (VEGA_DEBUG[key] == version) ?\n",
       "        Promise.resolve(paths[lib]) :\n",
       "        new Promise(function(resolve, reject) {\n",
       "          var s = document.createElement('script');\n",
       "          document.getElementsByTagName(\"head\")[0].appendChild(s);\n",
       "          s.async = true;\n",
       "          s.onload = () => {\n",
       "            VEGA_DEBUG[key] = version;\n",
       "            return resolve(paths[lib]);\n",
       "          };\n",
       "          s.onerror = () => reject(`Error loading script: ${paths[lib]}`);\n",
       "          s.src = paths[lib];\n",
       "        });\n",
       "    }\n",
       "\n",
       "    function showError(err) {\n",
       "      outputDiv.innerHTML = `<div class=\"error\" style=\"color:red;\">${err}</div>`;\n",
       "      throw err;\n",
       "    }\n",
       "\n",
       "    function displayChart(vegaEmbed) {\n",
       "      vegaEmbed(outputDiv, spec, embedOpt)\n",
       "        .catch(err => showError(`Javascript Error: ${err.message}<br>This usually means there's a typo in your chart specification. See the javascript console for the full traceback.`));\n",
       "    }\n",
       "\n",
       "    if(typeof define === \"function\" && define.amd) {\n",
       "      requirejs.config({paths});\n",
       "      let deps = [\"vega-embed\"];\n",
       "      require(deps, displayChart, err => showError(`Error loading script: ${err.message}`));\n",
       "    } else {\n",
       "      maybeLoadScript(\"vega\", \"5\")\n",
       "        .then(() => maybeLoadScript(\"vega-lite\", \"5.20.1\"))\n",
       "        .then(() => maybeLoadScript(\"vega-embed\", \"6\"))\n",
       "        .catch(showError)\n",
       "        .then(() => displayChart(vegaEmbed));\n",
       "    }\n",
       "  })({\"config\": {\"view\": {\"continuousWidth\": 300, \"continuousHeight\": 300}}, \"data\": {\"url\": \"https://cdn.jsdelivr.net/npm/vega-datasets@1/data/burtin.json\"}, \"mark\": {\"type\": \"circle\", \"size\": 80}, \"encoding\": {\"color\": {\"field\": \"Bacteria\", \"type\": \"ordinal\"}, \"x\": {\"axis\": {\"tickCount\": 5}, \"field\": \"Neomycin\", \"scale\": {\"domain\": [0.001, 1000], \"type\": \"log\"}, \"sort\": \"descending\", \"title\": \"Neomycin MIC (\\u03bcg/ml, reverse log scale)\", \"type\": \"quantitative\"}, \"y\": {\"axis\": {\"tickCount\": 5}, \"field\": \"Penicillin\", \"scale\": {\"domain\": [0.001, 1000], \"type\": \"log\"}, \"sort\": \"descending\", \"title\": \"Penicillin MIC (\\u03bcg/ml, reverse log scale)\", \"type\": \"quantitative\"}}, \"height\": 250, \"width\": 250, \"$schema\": \"https://vega.github.io/schema/vega-lite/v5.20.1.json\"}, {\"mode\": \"vega-lite\"});\n",
       "</script>"
      ],
      "text/plain": [
       "alt.Chart(...)"
      ]
     },
     "execution_count": 23,
     "metadata": {},
     "output_type": "execute_result"
    }
   ],
   "source": [
    "alt.Chart(antibiotics).mark_circle(size=80).encode(\n",
    "    alt.X('Neomycin:Q',\n",
    "          sort='descending',\n",
    "          scale=alt.Scale(type='log', domain=[0.001, 1000]),\n",
    "          axis=alt.Axis(tickCount=5),\n",
    "          title='Neomycin MIC (μg/ml, reverse log scale)'),\n",
    "    alt.Y('Penicillin:Q',\n",
    "          sort='descending',\n",
    "          scale=alt.Scale(type='log', domain=[0.001, 1000]),\n",
    "          axis=alt.Axis(tickCount=5),\n",
    "          title='Penicillin MIC (μg/ml, reverse log scale)'),\n",
    "    alt.Color('Bacteria:O')\n",
    ").properties(width=250, height=250)"
   ]
  },
  {
   "cell_type": "markdown",
   "metadata": {
    "colab_type": "text",
    "id": "Me8FkMJlErIi"
   },
   "source": [
    "_Alguns desses tons de azul podem ser difíceis de distinguir._\n",
    "\n",
    "Para obter cores mais diferenciadas, podemos experimentar alternativas ao esquema de cores padrão `blues`. O esquema `viridis` varia tanto em matiz quanto em luminância:"
   ]
  },
  {
   "cell_type": "code",
   "execution_count": 24,
   "metadata": {
    "colab": {
     "base_uri": "https://localhost:8080/",
     "height": 322
    },
    "colab_type": "code",
    "id": "r7Jb5izEE1b4",
    "outputId": "3927106a-dd42-43c5-847a-4f030b467c4c"
   },
   "outputs": [
    {
     "data": {
      "text/html": [
       "\n",
       "<style>\n",
       "  #altair-viz-1199e25210314baab8b72e44d697494b.vega-embed {\n",
       "    width: 100%;\n",
       "    display: flex;\n",
       "  }\n",
       "\n",
       "  #altair-viz-1199e25210314baab8b72e44d697494b.vega-embed details,\n",
       "  #altair-viz-1199e25210314baab8b72e44d697494b.vega-embed details summary {\n",
       "    position: relative;\n",
       "  }\n",
       "</style>\n",
       "<div id=\"altair-viz-1199e25210314baab8b72e44d697494b\"></div>\n",
       "<script type=\"text/javascript\">\n",
       "  var VEGA_DEBUG = (typeof VEGA_DEBUG == \"undefined\") ? {} : VEGA_DEBUG;\n",
       "  (function(spec, embedOpt){\n",
       "    let outputDiv = document.currentScript.previousElementSibling;\n",
       "    if (outputDiv.id !== \"altair-viz-1199e25210314baab8b72e44d697494b\") {\n",
       "      outputDiv = document.getElementById(\"altair-viz-1199e25210314baab8b72e44d697494b\");\n",
       "    }\n",
       "\n",
       "    const paths = {\n",
       "      \"vega\": \"https://cdn.jsdelivr.net/npm/vega@5?noext\",\n",
       "      \"vega-lib\": \"https://cdn.jsdelivr.net/npm/vega-lib?noext\",\n",
       "      \"vega-lite\": \"https://cdn.jsdelivr.net/npm/vega-lite@5.20.1?noext\",\n",
       "      \"vega-embed\": \"https://cdn.jsdelivr.net/npm/vega-embed@6?noext\",\n",
       "    };\n",
       "\n",
       "    function maybeLoadScript(lib, version) {\n",
       "      var key = `${lib.replace(\"-\", \"\")}_version`;\n",
       "      return (VEGA_DEBUG[key] == version) ?\n",
       "        Promise.resolve(paths[lib]) :\n",
       "        new Promise(function(resolve, reject) {\n",
       "          var s = document.createElement('script');\n",
       "          document.getElementsByTagName(\"head\")[0].appendChild(s);\n",
       "          s.async = true;\n",
       "          s.onload = () => {\n",
       "            VEGA_DEBUG[key] = version;\n",
       "            return resolve(paths[lib]);\n",
       "          };\n",
       "          s.onerror = () => reject(`Error loading script: ${paths[lib]}`);\n",
       "          s.src = paths[lib];\n",
       "        });\n",
       "    }\n",
       "\n",
       "    function showError(err) {\n",
       "      outputDiv.innerHTML = `<div class=\"error\" style=\"color:red;\">${err}</div>`;\n",
       "      throw err;\n",
       "    }\n",
       "\n",
       "    function displayChart(vegaEmbed) {\n",
       "      vegaEmbed(outputDiv, spec, embedOpt)\n",
       "        .catch(err => showError(`Javascript Error: ${err.message}<br>This usually means there's a typo in your chart specification. See the javascript console for the full traceback.`));\n",
       "    }\n",
       "\n",
       "    if(typeof define === \"function\" && define.amd) {\n",
       "      requirejs.config({paths});\n",
       "      let deps = [\"vega-embed\"];\n",
       "      require(deps, displayChart, err => showError(`Error loading script: ${err.message}`));\n",
       "    } else {\n",
       "      maybeLoadScript(\"vega\", \"5\")\n",
       "        .then(() => maybeLoadScript(\"vega-lite\", \"5.20.1\"))\n",
       "        .then(() => maybeLoadScript(\"vega-embed\", \"6\"))\n",
       "        .catch(showError)\n",
       "        .then(() => displayChart(vegaEmbed));\n",
       "    }\n",
       "  })({\"config\": {\"view\": {\"continuousWidth\": 300, \"continuousHeight\": 300}}, \"data\": {\"url\": \"https://cdn.jsdelivr.net/npm/vega-datasets@1/data/burtin.json\"}, \"mark\": {\"type\": \"circle\", \"size\": 80}, \"encoding\": {\"color\": {\"field\": \"Bacteria\", \"scale\": {\"scheme\": \"viridis\"}, \"type\": \"ordinal\"}, \"x\": {\"axis\": {\"tickCount\": 5}, \"field\": \"Neomycin\", \"scale\": {\"domain\": [0.001, 1000], \"type\": \"log\"}, \"sort\": \"descending\", \"title\": \"Neomycin MIC (\\u03bcg/ml, reverse log scale)\", \"type\": \"quantitative\"}, \"y\": {\"axis\": {\"tickCount\": 5}, \"field\": \"Penicillin\", \"scale\": {\"domain\": [0.001, 1000], \"type\": \"log\"}, \"sort\": \"descending\", \"title\": \"Penicillin MIC (\\u03bcg/ml, reverse log scale)\", \"type\": \"quantitative\"}}, \"height\": 250, \"width\": 250, \"$schema\": \"https://vega.github.io/schema/vega-lite/v5.20.1.json\"}, {\"mode\": \"vega-lite\"});\n",
       "</script>"
      ],
      "text/plain": [
       "alt.Chart(...)"
      ]
     },
     "execution_count": 24,
     "metadata": {},
     "output_type": "execute_result"
    }
   ],
   "source": [
    "alt.Chart(antibiotics).mark_circle(size=80).encode(\n",
    "    alt.X('Neomycin:Q',\n",
    "          sort='descending',\n",
    "          scale=alt.Scale(type='log', domain=[0.001, 1000]),\n",
    "          axis=alt.Axis(tickCount=5),\n",
    "          title='Neomycin MIC (μg/ml, reverse log scale)'),\n",
    "    alt.Y('Penicillin:Q',\n",
    "          sort='descending',\n",
    "          scale=alt.Scale(type='log', domain=[0.001, 1000]),\n",
    "          axis=alt.Axis(tickCount=5),\n",
    "          title='Penicillin MIC (μg/ml, reverse log scale)'),\n",
    "    alt.Color('Bacteria:O',\n",
    "          scale=alt.Scale(scheme='viridis'))\n",
    ").properties(width=250, height=250)"
   ]
  },
  {
   "cell_type": "markdown",
   "metadata": {
    "colab_type": "text",
    "id": "o98wtYo4cIAz"
   },
   "source": [
    "_As bactérias do mesmo gênero agora possuem cores mais semelhantes do que antes, mas o gráfico ainda continua confuso. Há muitas cores, é difícil identificá-las com precisão na legenda, e duas bactérias podem ter cores semelhantes apesar de pertencerem a gêneros diferentes._"
   ]
  },
  {
   "cell_type": "markdown",
   "metadata": {
    "colab_type": "text",
    "id": "Hpjqbi4rAhst"
   },
   "source": [
    "### 4.3.3 Cor por Gênero\n",
    "\n",
    "Vamos tentar colorir por gênero em vez de por bactéria. Para isso, adicionaremos uma transformação `calculate` que divide o nome das bactérias nos espaços e pega a primeira palavra do array resultante. Em seguida, podemos codificar o campo `Genus` resultante usando o esquema de cores `tableau20`.\n",
    "\n",
    "(Observe que o conjunto de dados de antibióticos inclui um campo `Genus` pré-calculado, mas iremos ignorá-lo aqui a fim de explorar mais as transformações de dados do Altair.)"
   ]
  },
  {
   "cell_type": "code",
   "execution_count": 25,
   "metadata": {
    "colab": {
     "base_uri": "https://localhost:8080/",
     "height": 322
    },
    "colab_type": "code",
    "id": "39g0fVG6cuTG",
    "outputId": "654d3638-bded-4bbc-c88b-2e52c88e541c"
   },
   "outputs": [
    {
     "data": {
      "text/html": [
       "\n",
       "<style>\n",
       "  #altair-viz-7b88ac99b6c24c92805d4c8f2a59ebde.vega-embed {\n",
       "    width: 100%;\n",
       "    display: flex;\n",
       "  }\n",
       "\n",
       "  #altair-viz-7b88ac99b6c24c92805d4c8f2a59ebde.vega-embed details,\n",
       "  #altair-viz-7b88ac99b6c24c92805d4c8f2a59ebde.vega-embed details summary {\n",
       "    position: relative;\n",
       "  }\n",
       "</style>\n",
       "<div id=\"altair-viz-7b88ac99b6c24c92805d4c8f2a59ebde\"></div>\n",
       "<script type=\"text/javascript\">\n",
       "  var VEGA_DEBUG = (typeof VEGA_DEBUG == \"undefined\") ? {} : VEGA_DEBUG;\n",
       "  (function(spec, embedOpt){\n",
       "    let outputDiv = document.currentScript.previousElementSibling;\n",
       "    if (outputDiv.id !== \"altair-viz-7b88ac99b6c24c92805d4c8f2a59ebde\") {\n",
       "      outputDiv = document.getElementById(\"altair-viz-7b88ac99b6c24c92805d4c8f2a59ebde\");\n",
       "    }\n",
       "\n",
       "    const paths = {\n",
       "      \"vega\": \"https://cdn.jsdelivr.net/npm/vega@5?noext\",\n",
       "      \"vega-lib\": \"https://cdn.jsdelivr.net/npm/vega-lib?noext\",\n",
       "      \"vega-lite\": \"https://cdn.jsdelivr.net/npm/vega-lite@5.20.1?noext\",\n",
       "      \"vega-embed\": \"https://cdn.jsdelivr.net/npm/vega-embed@6?noext\",\n",
       "    };\n",
       "\n",
       "    function maybeLoadScript(lib, version) {\n",
       "      var key = `${lib.replace(\"-\", \"\")}_version`;\n",
       "      return (VEGA_DEBUG[key] == version) ?\n",
       "        Promise.resolve(paths[lib]) :\n",
       "        new Promise(function(resolve, reject) {\n",
       "          var s = document.createElement('script');\n",
       "          document.getElementsByTagName(\"head\")[0].appendChild(s);\n",
       "          s.async = true;\n",
       "          s.onload = () => {\n",
       "            VEGA_DEBUG[key] = version;\n",
       "            return resolve(paths[lib]);\n",
       "          };\n",
       "          s.onerror = () => reject(`Error loading script: ${paths[lib]}`);\n",
       "          s.src = paths[lib];\n",
       "        });\n",
       "    }\n",
       "\n",
       "    function showError(err) {\n",
       "      outputDiv.innerHTML = `<div class=\"error\" style=\"color:red;\">${err}</div>`;\n",
       "      throw err;\n",
       "    }\n",
       "\n",
       "    function displayChart(vegaEmbed) {\n",
       "      vegaEmbed(outputDiv, spec, embedOpt)\n",
       "        .catch(err => showError(`Javascript Error: ${err.message}<br>This usually means there's a typo in your chart specification. See the javascript console for the full traceback.`));\n",
       "    }\n",
       "\n",
       "    if(typeof define === \"function\" && define.amd) {\n",
       "      requirejs.config({paths});\n",
       "      let deps = [\"vega-embed\"];\n",
       "      require(deps, displayChart, err => showError(`Error loading script: ${err.message}`));\n",
       "    } else {\n",
       "      maybeLoadScript(\"vega\", \"5\")\n",
       "        .then(() => maybeLoadScript(\"vega-lite\", \"5.20.1\"))\n",
       "        .then(() => maybeLoadScript(\"vega-embed\", \"6\"))\n",
       "        .catch(showError)\n",
       "        .then(() => displayChart(vegaEmbed));\n",
       "    }\n",
       "  })({\"config\": {\"view\": {\"continuousWidth\": 300, \"continuousHeight\": 300}}, \"data\": {\"url\": \"https://cdn.jsdelivr.net/npm/vega-datasets@1/data/burtin.json\"}, \"mark\": {\"type\": \"circle\", \"size\": 80}, \"encoding\": {\"color\": {\"field\": \"Genus\", \"scale\": {\"scheme\": \"tableau20\"}, \"type\": \"nominal\"}, \"x\": {\"axis\": {\"tickCount\": 5}, \"field\": \"Neomycin\", \"scale\": {\"domain\": [0.001, 1000], \"type\": \"log\"}, \"sort\": \"descending\", \"title\": \"Neomycin MIC (\\u03bcg/ml, reverse log scale)\", \"type\": \"quantitative\"}, \"y\": {\"axis\": {\"tickCount\": 5}, \"field\": \"Penicillin\", \"scale\": {\"domain\": [0.001, 1000], \"type\": \"log\"}, \"sort\": \"descending\", \"title\": \"Penicillin MIC (\\u03bcg/ml, reverse log scale)\", \"type\": \"quantitative\"}}, \"height\": 250, \"transform\": [{\"calculate\": \"split(datum.Bacteria, \\\" \\\")[0]\", \"as\": \"Genus\"}], \"width\": 250, \"$schema\": \"https://vega.github.io/schema/vega-lite/v5.20.1.json\"}, {\"mode\": \"vega-lite\"});\n",
       "</script>"
      ],
      "text/plain": [
       "alt.Chart(...)"
      ]
     },
     "execution_count": 25,
     "metadata": {},
     "output_type": "execute_result"
    }
   ],
   "source": [
    "alt.Chart(antibiotics).mark_circle(size=80).transform_calculate(\n",
    "    Genus='split(datum.Bacteria, \" \")[0]'\n",
    ").encode(\n",
    "    alt.X('Neomycin:Q',\n",
    "          sort='descending',\n",
    "          scale=alt.Scale(type='log', domain=[0.001, 1000]),\n",
    "          axis=alt.Axis(tickCount=5),\n",
    "          title='Neomycin MIC (μg/ml, reverse log scale)'),\n",
    "    alt.Y('Penicillin:Q',\n",
    "          sort='descending',\n",
    "          scale=alt.Scale(type='log', domain=[0.001, 1000]),\n",
    "          axis=alt.Axis(tickCount=5),\n",
    "          title='Penicillin MIC (μg/ml, reverse log scale)'),\n",
    "    alt.Color('Genus:N',\n",
    "          scale=alt.Scale(scheme='tableau20'))\n",
    ").properties(width=250, height=250)"
   ]
  },
  {
   "cell_type": "markdown",
   "metadata": {
    "colab_type": "text",
    "id": "UMH3wAeWdAXL"
   },
   "source": [
    "_Hmm... Embora os dados estejam melhor segregados por gênero, essa cacofonia de cores não parece particularmente útil._\n",
    "\n",
    "_Se observarmos alguns dos gráficos anteriores com atenção, podemos ver que apenas um pequeno número de bactérias compartilha um gênero com outra bactéria: Salmonella, Staphylococcus e Streptococcus. Para focar nossa comparação, podemos adicionar cores apenas para esses valores de gênero repetidos._\n",
    "\n",
    "Vamos adicionar outra transformação `calculate` que pega um nome de gênero, o mantém se for um dos valores repetidos e, caso contrário, usa a string `\"Other\"`.\n",
    "\n",
    "Além disso, podemos adicionar codificações de cores personalizadas usando arrays `domain` e `range` explícitos para a codificação de cor `scale`."
   ]
  },
  {
   "cell_type": "code",
   "execution_count": 26,
   "metadata": {
    "colab": {
     "base_uri": "https://localhost:8080/",
     "height": 322
    },
    "colab_type": "code",
    "id": "Qmi_geBiPgvr",
    "outputId": "9e06d0a1-756a-4a46-cedf-e2be85e7b09d"
   },
   "outputs": [
    {
     "data": {
      "text/html": [
       "\n",
       "<style>\n",
       "  #altair-viz-4b0490d1c2db4185b4be54579a6835a8.vega-embed {\n",
       "    width: 100%;\n",
       "    display: flex;\n",
       "  }\n",
       "\n",
       "  #altair-viz-4b0490d1c2db4185b4be54579a6835a8.vega-embed details,\n",
       "  #altair-viz-4b0490d1c2db4185b4be54579a6835a8.vega-embed details summary {\n",
       "    position: relative;\n",
       "  }\n",
       "</style>\n",
       "<div id=\"altair-viz-4b0490d1c2db4185b4be54579a6835a8\"></div>\n",
       "<script type=\"text/javascript\">\n",
       "  var VEGA_DEBUG = (typeof VEGA_DEBUG == \"undefined\") ? {} : VEGA_DEBUG;\n",
       "  (function(spec, embedOpt){\n",
       "    let outputDiv = document.currentScript.previousElementSibling;\n",
       "    if (outputDiv.id !== \"altair-viz-4b0490d1c2db4185b4be54579a6835a8\") {\n",
       "      outputDiv = document.getElementById(\"altair-viz-4b0490d1c2db4185b4be54579a6835a8\");\n",
       "    }\n",
       "\n",
       "    const paths = {\n",
       "      \"vega\": \"https://cdn.jsdelivr.net/npm/vega@5?noext\",\n",
       "      \"vega-lib\": \"https://cdn.jsdelivr.net/npm/vega-lib?noext\",\n",
       "      \"vega-lite\": \"https://cdn.jsdelivr.net/npm/vega-lite@5.20.1?noext\",\n",
       "      \"vega-embed\": \"https://cdn.jsdelivr.net/npm/vega-embed@6?noext\",\n",
       "    };\n",
       "\n",
       "    function maybeLoadScript(lib, version) {\n",
       "      var key = `${lib.replace(\"-\", \"\")}_version`;\n",
       "      return (VEGA_DEBUG[key] == version) ?\n",
       "        Promise.resolve(paths[lib]) :\n",
       "        new Promise(function(resolve, reject) {\n",
       "          var s = document.createElement('script');\n",
       "          document.getElementsByTagName(\"head\")[0].appendChild(s);\n",
       "          s.async = true;\n",
       "          s.onload = () => {\n",
       "            VEGA_DEBUG[key] = version;\n",
       "            return resolve(paths[lib]);\n",
       "          };\n",
       "          s.onerror = () => reject(`Error loading script: ${paths[lib]}`);\n",
       "          s.src = paths[lib];\n",
       "        });\n",
       "    }\n",
       "\n",
       "    function showError(err) {\n",
       "      outputDiv.innerHTML = `<div class=\"error\" style=\"color:red;\">${err}</div>`;\n",
       "      throw err;\n",
       "    }\n",
       "\n",
       "    function displayChart(vegaEmbed) {\n",
       "      vegaEmbed(outputDiv, spec, embedOpt)\n",
       "        .catch(err => showError(`Javascript Error: ${err.message}<br>This usually means there's a typo in your chart specification. See the javascript console for the full traceback.`));\n",
       "    }\n",
       "\n",
       "    if(typeof define === \"function\" && define.amd) {\n",
       "      requirejs.config({paths});\n",
       "      let deps = [\"vega-embed\"];\n",
       "      require(deps, displayChart, err => showError(`Error loading script: ${err.message}`));\n",
       "    } else {\n",
       "      maybeLoadScript(\"vega\", \"5\")\n",
       "        .then(() => maybeLoadScript(\"vega-lite\", \"5.20.1\"))\n",
       "        .then(() => maybeLoadScript(\"vega-embed\", \"6\"))\n",
       "        .catch(showError)\n",
       "        .then(() => displayChart(vegaEmbed));\n",
       "    }\n",
       "  })({\"config\": {\"view\": {\"continuousWidth\": 300, \"continuousHeight\": 300}}, \"data\": {\"url\": \"https://cdn.jsdelivr.net/npm/vega-datasets@1/data/burtin.json\"}, \"mark\": {\"type\": \"circle\", \"size\": 80}, \"encoding\": {\"color\": {\"field\": \"Genus\", \"scale\": {\"domain\": [\"Salmonella\", \"Staphylococcus\", \"Streptococcus\", \"Other\"], \"range\": [\"rgb(76,120,168)\", \"rgb(84,162,75)\", \"rgb(228,87,86)\", \"rgb(121,112,110)\"]}, \"type\": \"nominal\"}, \"x\": {\"axis\": {\"tickCount\": 5}, \"field\": \"Neomycin\", \"scale\": {\"domain\": [0.001, 1000], \"type\": \"log\"}, \"sort\": \"descending\", \"title\": \"Neomycin MIC (\\u03bcg/ml, reverse log scale)\", \"type\": \"quantitative\"}, \"y\": {\"axis\": {\"tickCount\": 5}, \"field\": \"Penicillin\", \"scale\": {\"domain\": [0.001, 1000], \"type\": \"log\"}, \"sort\": \"descending\", \"title\": \"Penicillin MIC (\\u03bcg/ml, reverse log scale)\", \"type\": \"quantitative\"}}, \"height\": 250, \"transform\": [{\"calculate\": \"split(datum.Bacteria, \\\" \\\")[0]\", \"as\": \"Split\"}, {\"calculate\": \"indexof([\\\"Salmonella\\\", \\\"Staphylococcus\\\", \\\"Streptococcus\\\"], datum.Split) >= 0 ? datum.Split : \\\"Other\\\"\", \"as\": \"Genus\"}], \"width\": 250, \"$schema\": \"https://vega.github.io/schema/vega-lite/v5.20.1.json\"}, {\"mode\": \"vega-lite\"});\n",
       "</script>"
      ],
      "text/plain": [
       "alt.Chart(...)"
      ]
     },
     "execution_count": 26,
     "metadata": {},
     "output_type": "execute_result"
    }
   ],
   "source": [
    "alt.Chart(antibiotics).mark_circle(size=80).transform_calculate(\n",
    "  Split='split(datum.Bacteria, \" \")[0]'\n",
    ").transform_calculate(\n",
    "  Genus='indexof([\"Salmonella\", \"Staphylococcus\", \"Streptococcus\"], datum.Split) >= 0 ? datum.Split : \"Other\"'\n",
    ").encode(\n",
    "    alt.X('Neomycin:Q',\n",
    "          sort='descending',\n",
    "          scale=alt.Scale(type='log', domain=[0.001, 1000]),\n",
    "          axis=alt.Axis(tickCount=5),\n",
    "          title='Neomycin MIC (μg/ml, reverse log scale)'),\n",
    "    alt.Y('Penicillin:Q',\n",
    "          sort='descending',\n",
    "          scale=alt.Scale(type='log', domain=[0.001, 1000]),\n",
    "          axis=alt.Axis(tickCount=5),\n",
    "          title='Penicillin MIC (μg/ml, reverse log scale)'),\n",
    "    alt.Color('Genus:N',\n",
    "          scale=alt.Scale(\n",
    "            domain=['Salmonella', 'Staphylococcus', 'Streptococcus', 'Other'],\n",
    "            range=['rgb(76,120,168)', 'rgb(84,162,75)', 'rgb(228,87,86)', 'rgb(121,112,110)']\n",
    "          ))\n",
    ").properties(width=250, height=250)"
   ]
  },
  {
   "cell_type": "markdown",
   "metadata": {
    "colab_type": "text",
    "id": "QQAuRPEDeRjU"
   },
   "source": [
    "_Nós temos agora um gráfico muito mais revelador, possibilitado pelas personalizações nos eixos e na legenda. Tome um momento para examinar o gráfico acima. Percebe alguma agrupação surpreendente?_\n",
    "\n",
    "_A região no canto superior esquerdo possui um agrupamento de bactérias Streptococcus vermelhas, mas com uma bactéria \"Other\" (outras) em cinza ao lado delas. Enquanto isso, na parte central-direita, vemos outro Streptococcus vermelho localizado bem distante de seus \"parentes\". Podemos nós esperar que as bactérias do mesmo gênero (e, portanto, presumivelmente mais semelhantes geneticamente) fiquem agrupadas próximas umas das outras?_\n",
    "\n",
    "Acontece que o _dataset_ subjacente de fato contém erros. O _dataset_ reflete as designações de espécies usadas no início dos anos 1950. No entanto, o consenso científico desde então foi revogado. Aquela ponto cinza no canto superior esquerdo? Agora é considerado um Streptococcus! Aquele ponto vermelho no meio-direita? Não é mais considerado um Streptococcus!\n",
    "\n",
    "Claro, por si só, esse _dataset_ não justifica totalmente essas reclassificações. No entanto, os dados contêm evidências biológicas valiosas que ficaram despercebidas por décadas! A visualização, quando usada por um observador habilidoso e inquisitivo, pode ser uma ferramenta poderosa para a descoberta.\n",
    "\n",
    "Este exemplo também reforça uma lição importante: **_sempre seja cético com seus dados!_**"
   ]
  },
  {
   "cell_type": "markdown",
   "metadata": {
    "colab_type": "text",
    "id": "QT1isVxqftkU"
   },
   "source": [
    "### 4.3.4 Cor por Resposta Antibiótica\n",
    "\n",
    "Nós tambem podemos usar o canal `color` para codificar valores quantitativos. No entanto, tenha em mente que, tipicamente, a cor não é tão eficaz para transmitir quantidades quanto codificações de posição ou tamanho!\n",
    "\n",
    "Aqui está um mapa de calor básico dos valores MIC da penicilina para cada bactéria. Usaremos uma marca `rect` e ordenaremos as bactérias por valores MIC em ordem decrescente (da mais resistente à menos resistente):"
   ]
  },
  {
   "cell_type": "code",
   "execution_count": 27,
   "metadata": {
    "colab": {
     "base_uri": "https://localhost:8080/",
     "height": 367
    },
    "colab_type": "code",
    "id": "orEjpD5uU2m0",
    "outputId": "0a92631d-1f68-4840-d5cd-26399f559aba"
   },
   "outputs": [
    {
     "data": {
      "text/html": [
       "\n",
       "<style>\n",
       "  #altair-viz-90a8eceec2af435780ec0e56d4590b6f.vega-embed {\n",
       "    width: 100%;\n",
       "    display: flex;\n",
       "  }\n",
       "\n",
       "  #altair-viz-90a8eceec2af435780ec0e56d4590b6f.vega-embed details,\n",
       "  #altair-viz-90a8eceec2af435780ec0e56d4590b6f.vega-embed details summary {\n",
       "    position: relative;\n",
       "  }\n",
       "</style>\n",
       "<div id=\"altair-viz-90a8eceec2af435780ec0e56d4590b6f\"></div>\n",
       "<script type=\"text/javascript\">\n",
       "  var VEGA_DEBUG = (typeof VEGA_DEBUG == \"undefined\") ? {} : VEGA_DEBUG;\n",
       "  (function(spec, embedOpt){\n",
       "    let outputDiv = document.currentScript.previousElementSibling;\n",
       "    if (outputDiv.id !== \"altair-viz-90a8eceec2af435780ec0e56d4590b6f\") {\n",
       "      outputDiv = document.getElementById(\"altair-viz-90a8eceec2af435780ec0e56d4590b6f\");\n",
       "    }\n",
       "\n",
       "    const paths = {\n",
       "      \"vega\": \"https://cdn.jsdelivr.net/npm/vega@5?noext\",\n",
       "      \"vega-lib\": \"https://cdn.jsdelivr.net/npm/vega-lib?noext\",\n",
       "      \"vega-lite\": \"https://cdn.jsdelivr.net/npm/vega-lite@5.20.1?noext\",\n",
       "      \"vega-embed\": \"https://cdn.jsdelivr.net/npm/vega-embed@6?noext\",\n",
       "    };\n",
       "\n",
       "    function maybeLoadScript(lib, version) {\n",
       "      var key = `${lib.replace(\"-\", \"\")}_version`;\n",
       "      return (VEGA_DEBUG[key] == version) ?\n",
       "        Promise.resolve(paths[lib]) :\n",
       "        new Promise(function(resolve, reject) {\n",
       "          var s = document.createElement('script');\n",
       "          document.getElementsByTagName(\"head\")[0].appendChild(s);\n",
       "          s.async = true;\n",
       "          s.onload = () => {\n",
       "            VEGA_DEBUG[key] = version;\n",
       "            return resolve(paths[lib]);\n",
       "          };\n",
       "          s.onerror = () => reject(`Error loading script: ${paths[lib]}`);\n",
       "          s.src = paths[lib];\n",
       "        });\n",
       "    }\n",
       "\n",
       "    function showError(err) {\n",
       "      outputDiv.innerHTML = `<div class=\"error\" style=\"color:red;\">${err}</div>`;\n",
       "      throw err;\n",
       "    }\n",
       "\n",
       "    function displayChart(vegaEmbed) {\n",
       "      vegaEmbed(outputDiv, spec, embedOpt)\n",
       "        .catch(err => showError(`Javascript Error: ${err.message}<br>This usually means there's a typo in your chart specification. See the javascript console for the full traceback.`));\n",
       "    }\n",
       "\n",
       "    if(typeof define === \"function\" && define.amd) {\n",
       "      requirejs.config({paths});\n",
       "      let deps = [\"vega-embed\"];\n",
       "      require(deps, displayChart, err => showError(`Error loading script: ${err.message}`));\n",
       "    } else {\n",
       "      maybeLoadScript(\"vega\", \"5\")\n",
       "        .then(() => maybeLoadScript(\"vega-lite\", \"5.20.1\"))\n",
       "        .then(() => maybeLoadScript(\"vega-embed\", \"6\"))\n",
       "        .catch(showError)\n",
       "        .then(() => displayChart(vegaEmbed));\n",
       "    }\n",
       "  })({\"config\": {\"view\": {\"continuousWidth\": 300, \"continuousHeight\": 300}}, \"data\": {\"url\": \"https://cdn.jsdelivr.net/npm/vega-datasets@1/data/burtin.json\"}, \"mark\": {\"type\": \"rect\"}, \"encoding\": {\"color\": {\"field\": \"Penicillin\", \"type\": \"quantitative\"}, \"y\": {\"field\": \"Bacteria\", \"sort\": {\"field\": \"Penicillin\", \"op\": \"max\", \"order\": \"descending\"}, \"type\": \"nominal\"}}, \"$schema\": \"https://vega.github.io/schema/vega-lite/v5.20.1.json\"}, {\"mode\": \"vega-lite\"});\n",
       "</script>"
      ],
      "text/plain": [
       "alt.Chart(...)"
      ]
     },
     "execution_count": 27,
     "metadata": {},
     "output_type": "execute_result"
    }
   ],
   "source": [
    "alt.Chart(antibiotics).mark_rect().encode(\n",
    "    alt.Y('Bacteria:N',\n",
    "      sort=alt.EncodingSortField(field='Penicillin', op='max', order='descending')\n",
    "    ),\n",
    "    alt.Color('Penicillin:Q')\n",
    ")"
   ]
  },
  {
   "cell_type": "markdown",
   "metadata": {
    "colab_type": "text",
    "id": "UjInt4P8Ki5I"
   },
   "source": [
    "Podemos melhorar ainda mais este gráfico combinando recursos que vimos até agora: uma escala com transformação logarítmica, uma mudança de orientação do eixo, um esquema de cores personalizado (`plasma`), ajuste da contagem de marcas no eixo e um título personalizado. Também utilizaremos opções de configuração para ajustar a posição do título do eixo e o alinhamento do título da legenda."
   ]
  },
  {
   "cell_type": "code",
   "execution_count": null,
   "metadata": {
    "colab": {
     "base_uri": "https://localhost:8080/",
     "height": 367
    },
    "colab_type": "code",
    "id": "spIpf8S6J1pJ",
    "outputId": "96210f62-39b2-4e61-a528-cd6f8b552f77"
   },
   "outputs": [
    {
     "data": {
      "text/html": [
       "\n",
       "<style>\n",
       "  #altair-viz-3828503ce5ae4096b00e1679e98ca40d.vega-embed {\n",
       "    width: 100%;\n",
       "    display: flex;\n",
       "  }\n",
       "\n",
       "  #altair-viz-3828503ce5ae4096b00e1679e98ca40d.vega-embed details,\n",
       "  #altair-viz-3828503ce5ae4096b00e1679e98ca40d.vega-embed details summary {\n",
       "    position: relative;\n",
       "  }\n",
       "</style>\n",
       "<div id=\"altair-viz-3828503ce5ae4096b00e1679e98ca40d\"></div>\n",
       "<script type=\"text/javascript\">\n",
       "  var VEGA_DEBUG = (typeof VEGA_DEBUG == \"undefined\") ? {} : VEGA_DEBUG;\n",
       "  (function(spec, embedOpt){\n",
       "    let outputDiv = document.currentScript.previousElementSibling;\n",
       "    if (outputDiv.id !== \"altair-viz-3828503ce5ae4096b00e1679e98ca40d\") {\n",
       "      outputDiv = document.getElementById(\"altair-viz-3828503ce5ae4096b00e1679e98ca40d\");\n",
       "    }\n",
       "\n",
       "    const paths = {\n",
       "      \"vega\": \"https://cdn.jsdelivr.net/npm/vega@5?noext\",\n",
       "      \"vega-lib\": \"https://cdn.jsdelivr.net/npm/vega-lib?noext\",\n",
       "      \"vega-lite\": \"https://cdn.jsdelivr.net/npm/vega-lite@5.20.1?noext\",\n",
       "      \"vega-embed\": \"https://cdn.jsdelivr.net/npm/vega-embed@6?noext\",\n",
       "    };\n",
       "\n",
       "    function maybeLoadScript(lib, version) {\n",
       "      var key = `${lib.replace(\"-\", \"\")}_version`;\n",
       "      return (VEGA_DEBUG[key] == version) ?\n",
       "        Promise.resolve(paths[lib]) :\n",
       "        new Promise(function(resolve, reject) {\n",
       "          var s = document.createElement('script');\n",
       "          document.getElementsByTagName(\"head\")[0].appendChild(s);\n",
       "          s.async = true;\n",
       "          s.onload = () => {\n",
       "            VEGA_DEBUG[key] = version;\n",
       "            return resolve(paths[lib]);\n",
       "          };\n",
       "          s.onerror = () => reject(`Error loading script: ${paths[lib]}`);\n",
       "          s.src = paths[lib];\n",
       "        });\n",
       "    }\n",
       "\n",
       "    function showError(err) {\n",
       "      outputDiv.innerHTML = `<div class=\"error\" style=\"color:red;\">${err}</div>`;\n",
       "      throw err;\n",
       "    }\n",
       "\n",
       "    function displayChart(vegaEmbed) {\n",
       "      vegaEmbed(outputDiv, spec, embedOpt)\n",
       "        .catch(err => showError(`Javascript Error: ${err.message}<br>This usually means there's a typo in your chart specification. See the javascript console for the full traceback.`));\n",
       "    }\n",
       "\n",
       "    if(typeof define === \"function\" && define.amd) {\n",
       "      requirejs.config({paths});\n",
       "      let deps = [\"vega-embed\"];\n",
       "      require(deps, displayChart, err => showError(`Error loading script: ${err.message}`));\n",
       "    } else {\n",
       "      maybeLoadScript(\"vega\", \"5\")\n",
       "        .then(() => maybeLoadScript(\"vega-lite\", \"5.20.1\"))\n",
       "        .then(() => maybeLoadScript(\"vega-embed\", \"6\"))\n",
       "        .catch(showError)\n",
       "        .then(() => displayChart(vegaEmbed));\n",
       "    }\n",
       "  })({\"config\": {\"view\": {\"continuousWidth\": 300, \"continuousHeight\": 300}}, \"data\": {\"url\": \"https://cdn.jsdelivr.net/npm/vega-datasets@1/data/burtin.json\"}, \"mark\": {\"type\": \"rect\"}, \"encoding\": {\"color\": {\"field\": \"Penicillin\", \"legend\": {\"tickCount\": 5, \"titleOrient\": \"right\"}, \"scale\": {\"nice\": true, \"scheme\": \"plasma\", \"type\": \"log\"}, \"title\": \"Penicillin MIC (\\u03bcg/ml)\", \"type\": \"quantitative\"}, \"y\": {\"axis\": {\"orient\": \"right\", \"titleAlign\": \"left\", \"titleAngle\": 0, \"titleX\": 7, \"titleY\": -2}, \"field\": \"Bacteria\", \"sort\": {\"field\": \"Penicillin\", \"op\": \"max\", \"order\": \"descending\"}, \"type\": \"nominal\"}}, \"$schema\": \"https://vega.github.io/schema/vega-lite/v5.20.1.json\"}, {\"mode\": \"vega-lite\"});\n",
       "</script>"
      ],
      "text/plain": [
       "alt.Chart(...)"
      ]
     },
     "execution_count": 46,
     "metadata": {},
     "output_type": "execute_result"
    }
   ],
   "source": [
    "alt.Chart(antibiotics).mark_rect().encode(\n",
    "    alt.Y('Bacteria:N',\n",
    "      sort=alt.EncodingSortField(field='Penicillin', op='max', order='descending'),\n",
    "      axis=alt.Axis(\n",
    "        orient='right',     # posiciona o eixo no lado direito do gráfico\n",
    "        titleX=7,           # define a posição x do título para 7 pixels à direita do gráfico\n",
    "        titleY=-2,          # define a posição y do título para 2 pixels acima do gráfico\n",
    "        titleAlign='left',  # alinha o título à esquerda\n",
    "        titleAngle=0        # remove a rotação padrão do título\n",
    "      )\n",
    "    ),\n",
    "    alt.Color('Penicillin:Q',\n",
    "      scale=alt.Scale(type='log', scheme='plasma', nice=True),\n",
    "      legend=alt.Legend(titleOrient='right', tickCount=5),\n",
    "      title='Penicilina MIC (μg/ml)'\n",
    "    )\n",
    ")"
   ]
  },
  {
   "cell_type": "markdown",
   "metadata": {},
   "source": [
    "Alternativamente, podemos remover o título do eixo completamente e usar a propriedade `title` de nível superior para adicionar um título ao gráfico inteiro:\n"
   ]
  },
  {
   "cell_type": "code",
   "execution_count": null,
   "metadata": {},
   "outputs": [
    {
     "data": {
      "text/html": [
       "\n",
       "<style>\n",
       "  #altair-viz-d90161aa7b614fd3af95024bb1ecfdef.vega-embed {\n",
       "    width: 100%;\n",
       "    display: flex;\n",
       "  }\n",
       "\n",
       "  #altair-viz-d90161aa7b614fd3af95024bb1ecfdef.vega-embed details,\n",
       "  #altair-viz-d90161aa7b614fd3af95024bb1ecfdef.vega-embed details summary {\n",
       "    position: relative;\n",
       "  }\n",
       "</style>\n",
       "<div id=\"altair-viz-d90161aa7b614fd3af95024bb1ecfdef\"></div>\n",
       "<script type=\"text/javascript\">\n",
       "  var VEGA_DEBUG = (typeof VEGA_DEBUG == \"undefined\") ? {} : VEGA_DEBUG;\n",
       "  (function(spec, embedOpt){\n",
       "    let outputDiv = document.currentScript.previousElementSibling;\n",
       "    if (outputDiv.id !== \"altair-viz-d90161aa7b614fd3af95024bb1ecfdef\") {\n",
       "      outputDiv = document.getElementById(\"altair-viz-d90161aa7b614fd3af95024bb1ecfdef\");\n",
       "    }\n",
       "\n",
       "    const paths = {\n",
       "      \"vega\": \"https://cdn.jsdelivr.net/npm/vega@5?noext\",\n",
       "      \"vega-lib\": \"https://cdn.jsdelivr.net/npm/vega-lib?noext\",\n",
       "      \"vega-lite\": \"https://cdn.jsdelivr.net/npm/vega-lite@5.20.1?noext\",\n",
       "      \"vega-embed\": \"https://cdn.jsdelivr.net/npm/vega-embed@6?noext\",\n",
       "    };\n",
       "\n",
       "    function maybeLoadScript(lib, version) {\n",
       "      var key = `${lib.replace(\"-\", \"\")}_version`;\n",
       "      return (VEGA_DEBUG[key] == version) ?\n",
       "        Promise.resolve(paths[lib]) :\n",
       "        new Promise(function(resolve, reject) {\n",
       "          var s = document.createElement('script');\n",
       "          document.getElementsByTagName(\"head\")[0].appendChild(s);\n",
       "          s.async = true;\n",
       "          s.onload = () => {\n",
       "            VEGA_DEBUG[key] = version;\n",
       "            return resolve(paths[lib]);\n",
       "          };\n",
       "          s.onerror = () => reject(`Error loading script: ${paths[lib]}`);\n",
       "          s.src = paths[lib];\n",
       "        });\n",
       "    }\n",
       "\n",
       "    function showError(err) {\n",
       "      outputDiv.innerHTML = `<div class=\"error\" style=\"color:red;\">${err}</div>`;\n",
       "      throw err;\n",
       "    }\n",
       "\n",
       "    function displayChart(vegaEmbed) {\n",
       "      vegaEmbed(outputDiv, spec, embedOpt)\n",
       "        .catch(err => showError(`Javascript Error: ${err.message}<br>This usually means there's a typo in your chart specification. See the javascript console for the full traceback.`));\n",
       "    }\n",
       "\n",
       "    if(typeof define === \"function\" && define.amd) {\n",
       "      requirejs.config({paths});\n",
       "      let deps = [\"vega-embed\"];\n",
       "      require(deps, displayChart, err => showError(`Error loading script: ${err.message}`));\n",
       "    } else {\n",
       "      maybeLoadScript(\"vega\", \"5\")\n",
       "        .then(() => maybeLoadScript(\"vega-lite\", \"5.20.1\"))\n",
       "        .then(() => maybeLoadScript(\"vega-embed\", \"6\"))\n",
       "        .catch(showError)\n",
       "        .then(() => displayChart(vegaEmbed));\n",
       "    }\n",
       "  })({\"config\": {\"view\": {\"continuousWidth\": 300, \"continuousHeight\": 300}, \"title\": {\"anchor\": \"start\", \"offset\": 5}}, \"data\": {\"url\": \"https://cdn.jsdelivr.net/npm/vega-datasets@1/data/burtin.json\"}, \"mark\": {\"type\": \"rect\"}, \"encoding\": {\"color\": {\"field\": \"Penicillin\", \"legend\": {\"tickCount\": 5, \"titleOrient\": \"right\"}, \"scale\": {\"nice\": true, \"scheme\": \"plasma\", \"type\": \"log\"}, \"title\": \"Penicillin MIC (\\u03bcg/ml)\", \"type\": \"quantitative\"}, \"y\": {\"axis\": {\"orient\": \"right\", \"title\": null}, \"field\": \"Bacteria\", \"sort\": {\"field\": \"Penicillin\", \"op\": \"max\", \"order\": \"descending\"}, \"type\": \"nominal\"}}, \"title\": \"Penicillin Resistance of Bacterial Strains\", \"$schema\": \"https://vega.github.io/schema/vega-lite/v5.20.1.json\"}, {\"mode\": \"vega-lite\"});\n",
       "</script>"
      ],
      "text/plain": [
       "alt.Chart(...)"
      ]
     },
     "execution_count": 29,
     "metadata": {},
     "output_type": "execute_result"
    }
   ],
   "source": [
    "alt.Chart(antibiotics, title='Penicillin Resistance of Bacterial Strains').mark_rect().encode(\n",
    "    alt.Y('Bacteria:N',\n",
    "      sort=alt.EncodingSortField(field='Penicillin', op='max', order='descending'),\n",
    "      axis=alt.Axis(orient='right', title=None)\n",
    "    ),\n",
    "    alt.Color('Penicillin:Q',\n",
    "      scale=alt.Scale(type='log', scheme='plasma', nice=True),\n",
    "      legend=alt.Legend(titleOrient='right', tickCount=5),\n",
    "      title='Penicillin MIC (μg/ml)'\n",
    "    )\n",
    ").configure_title(\n",
    "  anchor='start', # ancorar e alinhar o título à esquerda\n",
    "  offset=5        # definir deslocamento do título em relação ao gráfico\n",
    ")"
   ]
  },
  {
   "cell_type": "markdown",
   "metadata": {
    "colab_type": "text",
    "id": "0yZWjogLK8yz"
   },
   "source": [
    "## 4.4 Resumo\n",
    "\n",
    "Integrando o que aprendemos até agora nos notebooks sobre codificações, transformações de dados e personalização, você agora deve estar preparado para fazer uma ampla variedade de gráficos estatísticos. Agora, você pode usar o Altair no dia a dia para explorar e comunicar dados!\n",
    "\n",
    "Interessado em aprender mais sobre esse tópico?\n",
    "\n",
    "- Comece com a [documentação de Personalização de Visualizações no Altair](https://altair-viz.github.io/user_guide/customization.html).\n",
    "- Para uma discussão complementar sobre mapeamentos de escala, consulte [\"Introdução a escala d3\"](https://medium.com/@mbostock/introducing-d3-scale-61980c51545f).\n",
    "- Para uma exploração mais aprofundada de todas as maneiras como eixos e legendas podem ser estilizados pela biblioteca subjacente Vega (que alimenta o Altair e o Vega-Lite), veja [\"Um guia para guias: Eixos e Legendas em Vega\"](https://beta.observablehq.com/@jheer/a-guide-to-guides-axes-legends-in-vega).\n",
    "- Para uma história fascinante do _dataset_ de antibióticos, veja [Wainer &amp; Lysen's \"That's Funny...\"](https://www.americanscientist.org/article/thats-funny) no _American Scientist_."
   ]
  }
 ],
 "metadata": {
  "kernelspec": {
   "display_name": "Python 3",
   "language": "python",
   "name": "python3"
  },
  "language_info": {
   "codemirror_mode": {
    "name": "ipython",
    "version": 3
   },
   "file_extension": ".py",
   "mimetype": "text/x-python",
   "name": "python",
   "nbconvert_exporter": "python",
   "pygments_lexer": "ipython3",
   "version": "3.8.2"
  }
 },
 "nbformat": 4,
 "nbformat_minor": 4
}
