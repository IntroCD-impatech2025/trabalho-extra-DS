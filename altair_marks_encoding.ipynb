{
 "cells": [
  {
   "cell_type": "markdown",
   "metadata": {},
   "source": [
    "# 2. Tipos de dados, marcadores gráficos, e Canais de codificação visual\n",
    "\n",
    "A visualização representa os dados utilizando uma coleção de \"marcadores gráficos\" (gráficos de barras, linhas, pontos, etc.). Os atributos do marcador &mdash; como posição, formato, tamanho ou cor &mdash; serve como \"canais\" por onde podemos codificar os dados subjacentes."
   ]
  },
  {
   "cell_type": "markdown",
   "metadata": {},
   "source": [
    "Utilizando um _framework_ básico de \"tipos de dados\", \"marcadores\", e \"canais de codificação\", é possível criar de maneira concisa uma grande variedade de visualizações. Nesse notebook, será explorado cada um desses elementos e será exibido como utilizar eles para criar um gráfico customizado oriundo de dados estatísticos.\n",
    "\n",
    "Esse notebook é parte de: [data visualization curriculum](https://github.com/uwdata/visualization-curriculum)."
   ]
  },
  {
   "cell_type": "code",
   "execution_count": 1,
   "metadata": {
    "colab": {},
    "colab_type": "code",
    "id": "Y5K12kFBKE6v"
   },
   "outputs": [],
   "source": [
    "import pandas as pd\n",
    "import altair as alt"
   ]
  },
  {
   "cell_type": "markdown",
   "metadata": {},
   "source": [
    "## 2.1. Dados de Desenvolvimento Global"
   ]
  },
  {
   "cell_type": "markdown",
   "metadata": {},
   "source": [
    "Serão analisados alguns dados sobre a saúde global e sobre a população para um número de países, no período entre 1955 e 2005. Os dados foram coletados do site: [Gapminder Foundation](https://www.gapminder.org/) e publicado em [Hans Rosling's popular TED talk](https://www.youtube.com/watch?v=hVimVzgtD6w). Se você ainda não assistiu essa palestra, é recomendado que você assista primeiro.\n",
    "\n",
    "Primeiramente serão carregados os dados de: [vega-datasets](https://github.com/vega/vega-datasets) da coleção do _dataframe_ pandas."
   ]
  },
  {
   "cell_type": "code",
   "execution_count": 2,
   "metadata": {
    "colab": {},
    "colab_type": "code",
    "id": "cMgPRofkJHJP"
   },
   "outputs": [],
   "source": [
    "from vega_datasets import data as vega_data\n",
    "data = vega_data.gapminder()"
   ]
  },
  {
   "cell_type": "markdown",
   "metadata": {},
   "source": [
    "Qual o tamanho dos dados carregados?"
   ]
  },
  {
   "cell_type": "code",
   "execution_count": 3,
   "metadata": {
    "colab": {
     "base_uri": "https://localhost:8080/",
     "height": 34
    },
    "colab_type": "code",
    "id": "oM-Lodk_KK8T",
    "outputId": "134a2f4a-c15d-4fcd-fd93-49b26a4f5e30"
   },
   "outputs": [
    {
     "data": {
      "text/plain": [
       "(693, 6)"
      ]
     },
     "execution_count": 3,
     "metadata": {},
     "output_type": "execute_result"
    }
   ],
   "source": [
    "data.shape"
   ]
  },
  {
   "cell_type": "markdown",
   "metadata": {},
   "source": [
    "693 linhas e 6 colunas. Será examinado o conteúdo dos dados."
   ]
  },
  {
   "cell_type": "code",
   "execution_count": 4,
   "metadata": {
    "colab": {
     "base_uri": "https://localhost:8080/",
     "height": 204
    },
    "colab_type": "code",
    "id": "SpB2dH0JKVJe",
    "outputId": "ec103505-4d8f-4310-a6e1-7eea3d789c28"
   },
   "outputs": [
    {
     "data": {
      "text/html": [
       "<div>\n",
       "<style scoped>\n",
       "    .dataframe tbody tr th:only-of-type {\n",
       "        vertical-align: middle;\n",
       "    }\n",
       "\n",
       "    .dataframe tbody tr th {\n",
       "        vertical-align: top;\n",
       "    }\n",
       "\n",
       "    .dataframe thead th {\n",
       "        text-align: right;\n",
       "    }\n",
       "</style>\n",
       "<table border=\"1\" class=\"dataframe\">\n",
       "  <thead>\n",
       "    <tr style=\"text-align: right;\">\n",
       "      <th></th>\n",
       "      <th>year</th>\n",
       "      <th>country</th>\n",
       "      <th>cluster</th>\n",
       "      <th>pop</th>\n",
       "      <th>life_expect</th>\n",
       "      <th>fertility</th>\n",
       "    </tr>\n",
       "  </thead>\n",
       "  <tbody>\n",
       "    <tr>\n",
       "      <th>0</th>\n",
       "      <td>1955</td>\n",
       "      <td>Afghanistan</td>\n",
       "      <td>0</td>\n",
       "      <td>8891209</td>\n",
       "      <td>30.332</td>\n",
       "      <td>7.7</td>\n",
       "    </tr>\n",
       "    <tr>\n",
       "      <th>1</th>\n",
       "      <td>1960</td>\n",
       "      <td>Afghanistan</td>\n",
       "      <td>0</td>\n",
       "      <td>9829450</td>\n",
       "      <td>31.997</td>\n",
       "      <td>7.7</td>\n",
       "    </tr>\n",
       "    <tr>\n",
       "      <th>2</th>\n",
       "      <td>1965</td>\n",
       "      <td>Afghanistan</td>\n",
       "      <td>0</td>\n",
       "      <td>10997885</td>\n",
       "      <td>34.020</td>\n",
       "      <td>7.7</td>\n",
       "    </tr>\n",
       "    <tr>\n",
       "      <th>3</th>\n",
       "      <td>1970</td>\n",
       "      <td>Afghanistan</td>\n",
       "      <td>0</td>\n",
       "      <td>12430623</td>\n",
       "      <td>36.088</td>\n",
       "      <td>7.7</td>\n",
       "    </tr>\n",
       "    <tr>\n",
       "      <th>4</th>\n",
       "      <td>1975</td>\n",
       "      <td>Afghanistan</td>\n",
       "      <td>0</td>\n",
       "      <td>14132019</td>\n",
       "      <td>38.438</td>\n",
       "      <td>7.7</td>\n",
       "    </tr>\n",
       "  </tbody>\n",
       "</table>\n",
       "</div>"
      ],
      "text/plain": [
       "   year      country  cluster       pop  life_expect  fertility\n",
       "0  1955  Afghanistan        0   8891209       30.332        7.7\n",
       "1  1960  Afghanistan        0   9829450       31.997        7.7\n",
       "2  1965  Afghanistan        0  10997885       34.020        7.7\n",
       "3  1970  Afghanistan        0  12430623       36.088        7.7\n",
       "4  1975  Afghanistan        0  14132019       38.438        7.7"
      ]
     },
     "execution_count": 4,
     "metadata": {},
     "output_type": "execute_result"
    }
   ],
   "source": [
    "data.head(5)"
   ]
  },
  {
   "cell_type": "markdown",
   "metadata": {},
   "source": [
    "Para cada país em `country` e ano em `year` (no intervalo de 5 em 5 anos), foi medida a fertilidade em termos de numeros de filhos por mulher (`fertility`), expectativa de vida em anos (`life_expect`) e população total (`pop`).\n",
    "\n",
    "Também será visto o campo `cluster` que é um código de um número inteiro. O que isso pode representar? Será resolvido esse \"mistério\" quando visualizarmos os dados."
   ]
  },
  {
   "cell_type": "markdown",
   "metadata": {},
   "source": [
    "É possível criar um _dataframe_ menor. Por exemplo é possível filtrar somente os valores dos anos 2000. Como pode ser visto abaixo:"
   ]
  },
  {
   "cell_type": "code",
   "execution_count": 5,
   "metadata": {
    "colab": {},
    "colab_type": "code",
    "id": "kCVTdUK2Le_M"
   },
   "outputs": [],
   "source": [
    "data2000 = data.loc[data['year'] == 2000]"
   ]
  },
  {
   "cell_type": "code",
   "execution_count": 6,
   "metadata": {
    "colab": {
     "base_uri": "https://localhost:8080/",
     "height": 204
    },
    "colab_type": "code",
    "id": "mOLR5Nh-MLWm",
    "outputId": "8629f998-e723-4b92-9a95-f0df3c9843a8"
   },
   "outputs": [
    {
     "data": {
      "text/html": [
       "<div>\n",
       "<style scoped>\n",
       "    .dataframe tbody tr th:only-of-type {\n",
       "        vertical-align: middle;\n",
       "    }\n",
       "\n",
       "    .dataframe tbody tr th {\n",
       "        vertical-align: top;\n",
       "    }\n",
       "\n",
       "    .dataframe thead th {\n",
       "        text-align: right;\n",
       "    }\n",
       "</style>\n",
       "<table border=\"1\" class=\"dataframe\">\n",
       "  <thead>\n",
       "    <tr style=\"text-align: right;\">\n",
       "      <th></th>\n",
       "      <th>year</th>\n",
       "      <th>country</th>\n",
       "      <th>cluster</th>\n",
       "      <th>pop</th>\n",
       "      <th>life_expect</th>\n",
       "      <th>fertility</th>\n",
       "    </tr>\n",
       "  </thead>\n",
       "  <tbody>\n",
       "    <tr>\n",
       "      <th>9</th>\n",
       "      <td>2000</td>\n",
       "      <td>Afghanistan</td>\n",
       "      <td>0</td>\n",
       "      <td>23898198</td>\n",
       "      <td>42.129</td>\n",
       "      <td>7.4792</td>\n",
       "    </tr>\n",
       "    <tr>\n",
       "      <th>20</th>\n",
       "      <td>2000</td>\n",
       "      <td>Argentina</td>\n",
       "      <td>3</td>\n",
       "      <td>37497728</td>\n",
       "      <td>74.340</td>\n",
       "      <td>2.3500</td>\n",
       "    </tr>\n",
       "    <tr>\n",
       "      <th>31</th>\n",
       "      <td>2000</td>\n",
       "      <td>Aruba</td>\n",
       "      <td>3</td>\n",
       "      <td>69539</td>\n",
       "      <td>73.451</td>\n",
       "      <td>2.1240</td>\n",
       "    </tr>\n",
       "    <tr>\n",
       "      <th>42</th>\n",
       "      <td>2000</td>\n",
       "      <td>Australia</td>\n",
       "      <td>4</td>\n",
       "      <td>19164620</td>\n",
       "      <td>80.370</td>\n",
       "      <td>1.7560</td>\n",
       "    </tr>\n",
       "    <tr>\n",
       "      <th>53</th>\n",
       "      <td>2000</td>\n",
       "      <td>Austria</td>\n",
       "      <td>1</td>\n",
       "      <td>8113413</td>\n",
       "      <td>78.980</td>\n",
       "      <td>1.3820</td>\n",
       "    </tr>\n",
       "  </tbody>\n",
       "</table>\n",
       "</div>"
      ],
      "text/plain": [
       "    year      country  cluster       pop  life_expect  fertility\n",
       "9   2000  Afghanistan        0  23898198       42.129     7.4792\n",
       "20  2000    Argentina        3  37497728       74.340     2.3500\n",
       "31  2000        Aruba        3     69539       73.451     2.1240\n",
       "42  2000    Australia        4  19164620       80.370     1.7560\n",
       "53  2000      Austria        1   8113413       78.980     1.3820"
      ]
     },
     "execution_count": 6,
     "metadata": {},
     "output_type": "execute_result"
    }
   ],
   "source": [
    "data2000.head(5)"
   ]
  },
  {
   "cell_type": "markdown",
   "metadata": {},
   "source": [
    "## 2.2. Tipos de dados\n"
   ]
  },
  {
   "cell_type": "markdown",
   "metadata": {},
   "source": [
    "O primeiro \"ingrediente\" na visualização efetiva são os dados de entrada. Os valores dos dados podem representar diferentes formas de medidas. O que será que as comparações dessas medidas sugerem? E quais codificações visuais apoiam essas comparações?\n",
    "\n",
    "Serão analisados os tipos básicos de dados, que o Altair usa para informar suas escolhas de codificação visual. Esses tipos de dados determinam quais comparações são possíveis de fazer, e com isso guiam as decisões no _design_ da visualização."
   ]
  },
  {
   "cell_type": "markdown",
   "metadata": {},
   "source": [
    "### 2.2.1. Nominal (N)\n",
    "\n",
    "Os dados *nominais* (também chamados de dados *categóricos*) consistem em nomes de categorias.\n",
    "\n",
    "Com dados nominais, podemos comparar a igualdade de valores: *o valor A é igual ou diferente do valor B? (A = B)*, sustentando afirmações como “A é igual a B” ou “A não é igual a B”. No conjunto de dados acima, o campo **`country`** é nominal.\n",
    "\n",
    "Ao visualizar dados nominais, devemos ser capazes de ver facilmente se os valores são iguais ou diferentes: posição, matiz de cor (azul, vermelho, verde, etc.) e forma podem ajudar. No entanto, usar um canal de tamanho para codificar dados nominais pode nos enganar, sugerindo diferenças de ordem ou magnitude entre valores que não existem!\n"
   ]
  },
  {
   "cell_type": "markdown",
   "metadata": {},
   "source": [
    "### 2.2.2. Ordinal (O)\n",
    "\n",
    "Dados *ordinais* consistem em valores que têm uma ordenação específica.\n",
    "\n",
    "Com dados ordinais, podemos comparar a ordem de classificação dos valores: *o valor A vem antes ou depois do valor B? (A < B)*, sustentando afirmações como “A é menor que B” ou “A é maior que B”. No conjunto de dados acima, podemos tratar o campo **`year`** como ordinal.\n",
    "\n",
    "Ao visualizar dados ordinais, devemos perceber um senso de ordem classificatória. Posição, tamanho ou valor de cor (brilho) podem ser apropriados, enquanto o matriz de cor (que não é perceptualmente ordenado) seria menos apropriado.\n"
   ]
  },
  {
   "cell_type": "markdown",
   "metadata": {},
   "source": [
    "### 2.2.3. Quantitativo (Q)\n",
    "\n",
    "Com dados *quantitativos*, podemos medir as diferenças numéricas entre os valores. Existem vários subtipo de dados quantitativos:\n",
    "\n",
    "Para dados *intervalares*, podemos medir a distância (intervalo) entre pontos: *qual é a distância do valor A ao valor B? (A - B)*, sustentando afirmações como “A está a 12 unidades de distância de B”.\n",
    "\n",
    "Para dados de *razão*, o ponto zero é significativo e, portanto, também podemos medir proporções ou fatores de escala: *o valor A é qual proporção do valor B? (A / B)*, sustentando afirmações como “A é 10% de B” ou “B é 7 vezes maior que A”.\n",
    "\n",
    "No conjunto de dados acima, **`year`** é um campo quantitativo intervalar (o valor do ano \"zero\" é subjetivo), enquanto **`fertility`** e **`life_expect`** são campos quantitativos de razão (zero é significativo para calcular proporções). O Vega-Lite representa dados quantitativos, mas não faz uma distinção entre os tipos intervalar e de razão.\n",
    "\n",
    "Valores quantitativos podem ser visualizados usando posição, tamanho ou valor de cor, entre outros canais. Um eixo com uma linha de base zero é essencial para comparações proporcionais de valores de razão, mas pode ser omitido com segurança para comparações intervalares.\n",
    "\n",
    "\n",
    "\n"
   ]
  },
  {
   "cell_type": "markdown",
   "metadata": {},
   "source": [
    "### 2.2.4. Temporal (T)\n",
    "\n",
    "Valores temporais medem pontos ou intervalos de tempo. Este tipo é um caso especial de valores quantitativos (marcadores de tempo) com semântica e convenções ricas (ou seja, o **Calendário Gregoriano**). O tipo temporal no Vega-Lite suporta o raciocínio sobre unidades de tempo (ano, mês, dia, hora, etc.) e fornece métodos para solicitar intervalos de tempo específicos.\n",
    "\n",
    "Exemplos de valores temporais incluem strings de data como `\"2019-01-04\"` e `\"04 Jan 2019\"`, assim como datas e horas padronizadas, como o **ISO date-time format**: `\"2019-01-04T17:50:35.643Z\"`.\n",
    "\n",
    "Não há valores temporais em nosso conjunto de dados de desenvolvimento global acima, pois o campo **`year`** é simplesmente codificado como um número inteiro. Para mais detalhes sobre o uso de dados temporais no Altair, consulte **Times and Dates documentation**."
   ]
  },
  {
   "cell_type": "markdown",
   "metadata": {},
   "source": [
    "### 2.2.5. Resumo\n",
    "\n",
    "Esses tipos de dados não são mutuamente exclusivos, mas sim formam uma hierarquia: dados ordinais suportam comparações nominais (igualdade), enquanto dados quantitativos suportam comparações ordinais (ordem de classificação).\n",
    "\n",
    "Além disso, esses tipos de dados *não* fornecem uma categorização fixa. Só porque um campo de dados é representado por um número, isso não significa que devemos tratá-lo como um tipo quantitativo! Por exemplo, podemos interpretar um conjunto de idades (10 anos, 20 anos, etc.) como nominal (menor de idade ou maior de idade), ordinal (agrupado por ano) ou quantitativo (calcular a idade média).\n",
    "\n",
    "Agora vamos examinar como codificar visualmente esses tipos de dados!\n"
   ]
  },
  {
   "cell_type": "markdown",
   "metadata": {
    "colab_type": "text",
    "id": "yaz3tS2RKf03"
   },
   "source": [
    "## 2.3 Canais de Codificação\n",
    "\n",
    "No coração do Altair está o uso de *codificações* que vinculam os campos de dados (com um tipo declarado de dado) aos *canais* de codificação de um tipo de *marca* escolhida. Neste notebook, examinaremos os seguintes canais de codificação:\n",
    "\n",
    "- `x`: Posição horizontal (eixo x) da marca.\n",
    "- `y`: Posição vertical (eixo y) da marca.\n",
    "- `size`: Tamanho da marca. Pode corresponder a área ou comprimento, dependendo do tipo de marca.\n",
    "- `color`: Cor da marca, especificada como uma [cor CSS válida](https://developer.mozilla.org/en-US/docs/Web/CSS/color_value).\n",
    "- `opacity`: Opacidade da marca, variando de 0 (totalmente transparente) a 1 (totalmente opaca).\n",
    "- `shape`: Formato do símbolo plotado para marcas `point`.\n",
    "- `tooltip`: Texto _Tooltip_ (de dica) exibido ao passar o mouse sobre a marca.\n",
    "- `order`: Ordenação da marca, determina a ordem de pontos em curvas/área e a ordem de desenho.\n",
    "- `column`: Faceta os dados em _subplots_ alinhados horizontalmente.\n",
    "- `row`: Faceta os dados em _subplots_ alinhados verticalmente.\n",
    "\n",
    "Para uma lista completa de canais disponíveis, veja [Documentação de codificação do Altair](https://altair-viz.github.io/user_guide/encodings/index.html)."
   ]
  },
  {
   "cell_type": "markdown",
   "metadata": {
    "colab_type": "text",
    "id": "vujZA4b6OCRC"
   },
   "source": [
    "### 2.3.1 X\n",
    "\n",
    "O canal de codificação `x` estabelece a posição horizontal da marca (coordenada x). Além disso, escolhas padrão de eixos e títulos são feitas automaticamente. No gráfico abaixo, a escolha de um tipo de dado quantitativo resulta em uma escala de eixo linear contínua:"
   ]
  },
  {
   "cell_type": "code",
   "execution_count": 7,
   "metadata": {
    "colab": {
     "base_uri": "https://localhost:8080/",
     "height": 87
    },
    "colab_type": "code",
    "id": "nswya-ToLaRP",
    "outputId": "2a958755-7f70-4a86-ab6f-2cfb24ad7231"
   },
   "outputs": [
    {
     "data": {
      "text/html": [
       "\n",
       "<div id=\"altair-viz-9c8ab44981234e87af6bfeb97cb5e888\"></div>\n",
       "<script type=\"text/javascript\">\n",
       "  (function(spec, embedOpt){\n",
       "    let outputDiv = document.currentScript.previousElementSibling;\n",
       "    if (outputDiv.id !== \"altair-viz-9c8ab44981234e87af6bfeb97cb5e888\") {\n",
       "      outputDiv = document.getElementById(\"altair-viz-9c8ab44981234e87af6bfeb97cb5e888\");\n",
       "    }\n",
       "    const paths = {\n",
       "      \"vega\": \"https://cdn.jsdelivr.net/npm//vega@5?noext\",\n",
       "      \"vega-lib\": \"https://cdn.jsdelivr.net/npm//vega-lib?noext\",\n",
       "      \"vega-lite\": \"https://cdn.jsdelivr.net/npm//vega-lite@4.8.1?noext\",\n",
       "      \"vega-embed\": \"https://cdn.jsdelivr.net/npm//vega-embed@6?noext\",\n",
       "    };\n",
       "\n",
       "    function loadScript(lib) {\n",
       "      return new Promise(function(resolve, reject) {\n",
       "        var s = document.createElement('script');\n",
       "        s.src = paths[lib];\n",
       "        s.async = true;\n",
       "        s.onload = () => resolve(paths[lib]);\n",
       "        s.onerror = () => reject(`Error loading script: ${paths[lib]}`);\n",
       "        document.getElementsByTagName(\"head\")[0].appendChild(s);\n",
       "      });\n",
       "    }\n",
       "\n",
       "    function showError(err) {\n",
       "      outputDiv.innerHTML = `<div class=\"error\" style=\"color:red;\">${err}</div>`;\n",
       "      throw err;\n",
       "    }\n",
       "\n",
       "    function displayChart(vegaEmbed) {\n",
       "      vegaEmbed(outputDiv, spec, embedOpt)\n",
       "        .catch(err => showError(`Javascript Error: ${err.message}<br>This usually means there's a typo in your chart specification. See the javascript console for the full traceback.`));\n",
       "    }\n",
       "\n",
       "    if(typeof define === \"function\" && define.amd) {\n",
       "      requirejs.config({paths});\n",
       "      require([\"vega-embed\"], displayChart, err => showError(`Error loading script: ${err.message}`));\n",
       "    } else if (typeof vegaEmbed === \"function\") {\n",
       "      displayChart(vegaEmbed);\n",
       "    } else {\n",
       "      loadScript(\"vega\")\n",
       "        .then(() => loadScript(\"vega-lite\"))\n",
       "        .then(() => loadScript(\"vega-embed\"))\n",
       "        .catch(showError)\n",
       "        .then(() => displayChart(vegaEmbed));\n",
       "    }\n",
       "  })({\"config\": {\"view\": {\"continuousWidth\": 400, \"continuousHeight\": 300}}, \"data\": {\"name\": \"data-fdeb0b749a6385830bd1445d39ad6ea0\"}, \"mark\": \"point\", \"encoding\": {\"x\": {\"type\": \"quantitative\", \"field\": \"fertility\"}}, \"$schema\": \"https://vega.github.io/schema/vega-lite/v4.8.1.json\", \"datasets\": {\"data-fdeb0b749a6385830bd1445d39ad6ea0\": [{\"year\": 2000, \"country\": \"Afghanistan\", \"cluster\": 0, \"pop\": 23898198, \"life_expect\": 42.129, \"fertility\": 7.4792}, {\"year\": 2000, \"country\": \"Argentina\", \"cluster\": 3, \"pop\": 37497728, \"life_expect\": 74.34, \"fertility\": 2.35}, {\"year\": 2000, \"country\": \"Aruba\", \"cluster\": 3, \"pop\": 69539, \"life_expect\": 73.451, \"fertility\": 2.124}, {\"year\": 2000, \"country\": \"Australia\", \"cluster\": 4, \"pop\": 19164620, \"life_expect\": 80.37, \"fertility\": 1.756}, {\"year\": 2000, \"country\": \"Austria\", \"cluster\": 1, \"pop\": 8113413, \"life_expect\": 78.98, \"fertility\": 1.3820000000000001}, {\"year\": 2000, \"country\": \"Bahamas\", \"cluster\": 3, \"pop\": 290075, \"life_expect\": 71.068, \"fertility\": 2.1111}, {\"year\": 2000, \"country\": \"Bangladesh\", \"cluster\": 0, \"pop\": 130406594, \"life_expect\": 62.013, \"fertility\": 3.224}, {\"year\": 2000, \"country\": \"Barbados\", \"cluster\": 3, \"pop\": 273483, \"life_expect\": 75.97, \"fertility\": 1.5}, {\"year\": 2000, \"country\": \"Belgium\", \"cluster\": 1, \"pop\": 10263618, \"life_expect\": 78.32, \"fertility\": 1.638}, {\"year\": 2000, \"country\": \"Bolivia\", \"cluster\": 3, \"pop\": 8152620, \"life_expect\": 63.883, \"fertility\": 3.9585}, {\"year\": 2000, \"country\": \"Brazil\", \"cluster\": 3, \"pop\": 175552771, \"life_expect\": 71.006, \"fertility\": 2.345}, {\"year\": 2000, \"country\": \"Canada\", \"cluster\": 3, \"pop\": 31278097, \"life_expect\": 79.77, \"fertility\": 1.522}, {\"year\": 2000, \"country\": \"Chile\", \"cluster\": 3, \"pop\": 15153450, \"life_expect\": 77.86, \"fertility\": 2.0}, {\"year\": 2000, \"country\": \"China\", \"cluster\": 4, \"pop\": 1262645000, \"life_expect\": 72.028, \"fertility\": 1.7000000000000002}, {\"year\": 2000, \"country\": \"Colombia\", \"cluster\": 3, \"pop\": 39685655, \"life_expect\": 71.682, \"fertility\": 2.4705}, {\"year\": 2000, \"country\": \"Costa Rica\", \"cluster\": 3, \"pop\": 3710558, \"life_expect\": 78.123, \"fertility\": 2.2815}, {\"year\": 2000, \"country\": \"Croatia\", \"cluster\": 1, \"pop\": 4410830, \"life_expect\": 74.876, \"fertility\": 1.348}, {\"year\": 2000, \"country\": \"Cuba\", \"cluster\": 3, \"pop\": 11134273, \"life_expect\": 77.158, \"fertility\": 1.63}, {\"year\": 2000, \"country\": \"Dominican Republic\", \"cluster\": 3, \"pop\": 8385828, \"life_expect\": 70.847, \"fertility\": 2.95}, {\"year\": 2000, \"country\": \"Ecuador\", \"cluster\": 3, \"pop\": 12505204, \"life_expect\": 74.173, \"fertility\": 2.8175}, {\"year\": 2000, \"country\": \"Egypt\", \"cluster\": 5, \"pop\": 70492342, \"life_expect\": 69.806, \"fertility\": 3.174}, {\"year\": 2000, \"country\": \"El Salvador\", \"cluster\": 3, \"pop\": 6122515, \"life_expect\": 70.734, \"fertility\": 2.883}, {\"year\": 2000, \"country\": \"Finland\", \"cluster\": 1, \"pop\": 5168595, \"life_expect\": 78.37, \"fertility\": 1.754}, {\"year\": 2000, \"country\": \"France\", \"cluster\": 1, \"pop\": 59381628, \"life_expect\": 79.59, \"fertility\": 1.8833000000000002}, {\"year\": 2000, \"country\": \"Georgia\", \"cluster\": 1, \"pop\": 4777209, \"life_expect\": 70.476, \"fertility\": 1.478}, {\"year\": 2000, \"country\": \"Germany\", \"cluster\": 1, \"pop\": 82187909, \"life_expect\": 78.67, \"fertility\": 1.346}, {\"year\": 2000, \"country\": \"Greece\", \"cluster\": 1, \"pop\": 10559110, \"life_expect\": 78.256, \"fertility\": 1.2770000000000001}, {\"year\": 2000, \"country\": \"Grenada\", \"cluster\": 3, \"pop\": 89312, \"life_expect\": 67.746, \"fertility\": 2.429}, {\"year\": 2000, \"country\": \"Haiti\", \"cluster\": 3, \"pop\": 7306302, \"life_expect\": 58.137, \"fertility\": 4.0}, {\"year\": 2000, \"country\": \"Hong Kong\", \"cluster\": 4, \"pop\": 6658720, \"life_expect\": 81.495, \"fertility\": 0.9400000000000001}, {\"year\": 2000, \"country\": \"Iceland\", \"cluster\": 1, \"pop\": 281043, \"life_expect\": 80.5, \"fertility\": 1.9929999999999999}, {\"year\": 2000, \"country\": \"India\", \"cluster\": 0, \"pop\": 1007702000, \"life_expect\": 62.879, \"fertility\": 3.1132}, {\"year\": 2000, \"country\": \"Indonesia\", \"cluster\": 4, \"pop\": 206265000, \"life_expect\": 68.588, \"fertility\": 2.3761}, {\"year\": 2000, \"country\": \"Iran\", \"cluster\": 5, \"pop\": 65660289, \"life_expect\": 69.451, \"fertility\": 2.124}, {\"year\": 2000, \"country\": \"Iraq\", \"cluster\": 5, \"pop\": 22675617, \"life_expect\": 57.046, \"fertility\": 4.858}, {\"year\": 2000, \"country\": \"Ireland\", \"cluster\": 1, \"pop\": 3791690, \"life_expect\": 77.783, \"fertility\": 1.9689999999999999}, {\"year\": 2000, \"country\": \"Israel\", \"cluster\": 5, \"pop\": 5842454, \"life_expect\": 79.696, \"fertility\": 2.906}, {\"year\": 2000, \"country\": \"Italy\", \"cluster\": 1, \"pop\": 57719337, \"life_expect\": 80.24, \"fertility\": 1.286}, {\"year\": 2000, \"country\": \"Jamaica\", \"cluster\": 3, \"pop\": 2615467, \"life_expect\": 72.047, \"fertility\": 2.628}, {\"year\": 2000, \"country\": \"Japan\", \"cluster\": 4, \"pop\": 126699784, \"life_expect\": 82.0, \"fertility\": 1.291}, {\"year\": 2000, \"country\": \"Kenya\", \"cluster\": 2, \"pop\": 29985839, \"life_expect\": 50.992, \"fertility\": 5.0}, {\"year\": 2000, \"country\": \"South Korea\", \"cluster\": 4, \"pop\": 21647682, \"life_expect\": 66.662, \"fertility\": 1.9173}, {\"year\": 2000, \"country\": \"North Korea\", \"cluster\": 4, \"pop\": 47351083, \"life_expect\": 77.045, \"fertility\": 1.242}, {\"year\": 2000, \"country\": \"Lebanon\", \"cluster\": 5, \"pop\": 3578036, \"life_expect\": 71.028, \"fertility\": 2.319}, {\"year\": 2000, \"country\": \"Mexico\", \"cluster\": 3, \"pop\": 99926620, \"life_expect\": 74.902, \"fertility\": 2.4005}, {\"year\": 2000, \"country\": \"Netherlands\", \"cluster\": 1, \"pop\": 15907853, \"life_expect\": 78.53, \"fertility\": 1.726}, {\"year\": 2000, \"country\": \"New Zealand\", \"cluster\": 4, \"pop\": 3819762, \"life_expect\": 79.11, \"fertility\": 1.964}, {\"year\": 2000, \"country\": \"Nigeria\", \"cluster\": 2, \"pop\": 114306700, \"life_expect\": 46.608, \"fertility\": 5.845}, {\"year\": 2000, \"country\": \"Norway\", \"cluster\": 1, \"pop\": 4492400, \"life_expect\": 79.05, \"fertility\": 1.8010000000000002}, {\"year\": 2000, \"country\": \"Pakistan\", \"cluster\": 0, \"pop\": 146342958, \"life_expect\": 63.61, \"fertility\": 3.9936}, {\"year\": 2000, \"country\": \"Peru\", \"cluster\": 3, \"pop\": 25979722, \"life_expect\": 69.906, \"fertility\": 2.7005}, {\"year\": 2000, \"country\": \"Philippines\", \"cluster\": 4, \"pop\": 79739825, \"life_expect\": 70.303, \"fertility\": 3.5436}, {\"year\": 2000, \"country\": \"Poland\", \"cluster\": 1, \"pop\": 38654164, \"life_expect\": 74.67, \"fertility\": 1.251}, {\"year\": 2000, \"country\": \"Portugal\", \"cluster\": 1, \"pop\": 10335597, \"life_expect\": 77.29, \"fertility\": 1.454}, {\"year\": 2000, \"country\": \"Rwanda\", \"cluster\": 2, \"pop\": 7507056, \"life_expect\": 43.413, \"fertility\": 6.01}, {\"year\": 2000, \"country\": \"Saudi Arabia\", \"cluster\": 5, \"pop\": 23153090, \"life_expect\": 71.626, \"fertility\": 3.81}, {\"year\": 2000, \"country\": \"South Africa\", \"cluster\": 2, \"pop\": 44066197, \"life_expect\": 53.365, \"fertility\": 2.802}, {\"year\": 2000, \"country\": \"Spain\", \"cluster\": 1, \"pop\": 40016081, \"life_expect\": 79.78, \"fertility\": 1.287}, {\"year\": 2000, \"country\": \"Switzerland\", \"cluster\": 1, \"pop\": 7266920, \"life_expect\": 80.62, \"fertility\": 1.415}, {\"year\": 2000, \"country\": \"Turkey\", \"cluster\": 1, \"pop\": 65666677, \"life_expect\": 70.845, \"fertility\": 2.23}, {\"year\": 2000, \"country\": \"United Kingdom\", \"cluster\": 1, \"pop\": 59522468, \"life_expect\": 78.471, \"fertility\": 1.695}, {\"year\": 2000, \"country\": \"United States\", \"cluster\": 3, \"pop\": 282338631, \"life_expect\": 77.31, \"fertility\": 2.038}, {\"year\": 2000, \"country\": \"Venezuela\", \"cluster\": 3, \"pop\": 23542649, \"life_expect\": 72.766, \"fertility\": 2.723}]}}, {\"mode\": \"vega-lite\"});\n",
       "</script>"
      ],
      "text/plain": [
       "alt.Chart(...)"
      ]
     },
     "execution_count": 7,
     "metadata": {},
     "output_type": "execute_result"
    }
   ],
   "source": [
    "alt.Chart(data2000).mark_point().encode(\n",
    "    alt.X('fertility:Q')\n",
    ")"
   ]
  },
  {
   "cell_type": "markdown",
   "metadata": {
    "colab_type": "text",
    "id": "WwQuuyKUOElr"
   },
   "source": [
    "### 2.3.2 Y\n",
    "\n",
    "O canal de codificação `y` estabelece a posição vertical da marca (coordenada y). Aqui, adicionamos o campo `cluster` usando um tipo de dado ordinal (`O`). O resultado é um eixo discreto que inclui uma banda dimensionada, com um tamanho de passo padrão, para cada valor único:"
   ]
  },
  {
   "cell_type": "code",
   "execution_count": 8,
   "metadata": {
    "colab": {
     "base_uri": "https://localhost:8080/",
     "height": 192
    },
    "colab_type": "code",
    "id": "eP38vNrdNrHF",
    "outputId": "9ff5b4a8-143c-4595-845f-026ed2e747a8"
   },
   "outputs": [
    {
     "data": {
      "text/html": [
       "\n",
       "<div id=\"altair-viz-101cafaf3c424309bff4bac7563a80c7\"></div>\n",
       "<script type=\"text/javascript\">\n",
       "  (function(spec, embedOpt){\n",
       "    let outputDiv = document.currentScript.previousElementSibling;\n",
       "    if (outputDiv.id !== \"altair-viz-101cafaf3c424309bff4bac7563a80c7\") {\n",
       "      outputDiv = document.getElementById(\"altair-viz-101cafaf3c424309bff4bac7563a80c7\");\n",
       "    }\n",
       "    const paths = {\n",
       "      \"vega\": \"https://cdn.jsdelivr.net/npm//vega@5?noext\",\n",
       "      \"vega-lib\": \"https://cdn.jsdelivr.net/npm//vega-lib?noext\",\n",
       "      \"vega-lite\": \"https://cdn.jsdelivr.net/npm//vega-lite@4.8.1?noext\",\n",
       "      \"vega-embed\": \"https://cdn.jsdelivr.net/npm//vega-embed@6?noext\",\n",
       "    };\n",
       "\n",
       "    function loadScript(lib) {\n",
       "      return new Promise(function(resolve, reject) {\n",
       "        var s = document.createElement('script');\n",
       "        s.src = paths[lib];\n",
       "        s.async = true;\n",
       "        s.onload = () => resolve(paths[lib]);\n",
       "        s.onerror = () => reject(`Error loading script: ${paths[lib]}`);\n",
       "        document.getElementsByTagName(\"head\")[0].appendChild(s);\n",
       "      });\n",
       "    }\n",
       "\n",
       "    function showError(err) {\n",
       "      outputDiv.innerHTML = `<div class=\"error\" style=\"color:red;\">${err}</div>`;\n",
       "      throw err;\n",
       "    }\n",
       "\n",
       "    function displayChart(vegaEmbed) {\n",
       "      vegaEmbed(outputDiv, spec, embedOpt)\n",
       "        .catch(err => showError(`Javascript Error: ${err.message}<br>This usually means there's a typo in your chart specification. See the javascript console for the full traceback.`));\n",
       "    }\n",
       "\n",
       "    if(typeof define === \"function\" && define.amd) {\n",
       "      requirejs.config({paths});\n",
       "      require([\"vega-embed\"], displayChart, err => showError(`Error loading script: ${err.message}`));\n",
       "    } else if (typeof vegaEmbed === \"function\") {\n",
       "      displayChart(vegaEmbed);\n",
       "    } else {\n",
       "      loadScript(\"vega\")\n",
       "        .then(() => loadScript(\"vega-lite\"))\n",
       "        .then(() => loadScript(\"vega-embed\"))\n",
       "        .catch(showError)\n",
       "        .then(() => displayChart(vegaEmbed));\n",
       "    }\n",
       "  })({\"config\": {\"view\": {\"continuousWidth\": 400, \"continuousHeight\": 300}}, \"data\": {\"name\": \"data-fdeb0b749a6385830bd1445d39ad6ea0\"}, \"mark\": \"point\", \"encoding\": {\"x\": {\"type\": \"quantitative\", \"field\": \"fertility\"}, \"y\": {\"type\": \"ordinal\", \"field\": \"cluster\"}}, \"$schema\": \"https://vega.github.io/schema/vega-lite/v4.8.1.json\", \"datasets\": {\"data-fdeb0b749a6385830bd1445d39ad6ea0\": [{\"year\": 2000, \"country\": \"Afghanistan\", \"cluster\": 0, \"pop\": 23898198, \"life_expect\": 42.129, \"fertility\": 7.4792}, {\"year\": 2000, \"country\": \"Argentina\", \"cluster\": 3, \"pop\": 37497728, \"life_expect\": 74.34, \"fertility\": 2.35}, {\"year\": 2000, \"country\": \"Aruba\", \"cluster\": 3, \"pop\": 69539, \"life_expect\": 73.451, \"fertility\": 2.124}, {\"year\": 2000, \"country\": \"Australia\", \"cluster\": 4, \"pop\": 19164620, \"life_expect\": 80.37, \"fertility\": 1.756}, {\"year\": 2000, \"country\": \"Austria\", \"cluster\": 1, \"pop\": 8113413, \"life_expect\": 78.98, \"fertility\": 1.3820000000000001}, {\"year\": 2000, \"country\": \"Bahamas\", \"cluster\": 3, \"pop\": 290075, \"life_expect\": 71.068, \"fertility\": 2.1111}, {\"year\": 2000, \"country\": \"Bangladesh\", \"cluster\": 0, \"pop\": 130406594, \"life_expect\": 62.013, \"fertility\": 3.224}, {\"year\": 2000, \"country\": \"Barbados\", \"cluster\": 3, \"pop\": 273483, \"life_expect\": 75.97, \"fertility\": 1.5}, {\"year\": 2000, \"country\": \"Belgium\", \"cluster\": 1, \"pop\": 10263618, \"life_expect\": 78.32, \"fertility\": 1.638}, {\"year\": 2000, \"country\": \"Bolivia\", \"cluster\": 3, \"pop\": 8152620, \"life_expect\": 63.883, \"fertility\": 3.9585}, {\"year\": 2000, \"country\": \"Brazil\", \"cluster\": 3, \"pop\": 175552771, \"life_expect\": 71.006, \"fertility\": 2.345}, {\"year\": 2000, \"country\": \"Canada\", \"cluster\": 3, \"pop\": 31278097, \"life_expect\": 79.77, \"fertility\": 1.522}, {\"year\": 2000, \"country\": \"Chile\", \"cluster\": 3, \"pop\": 15153450, \"life_expect\": 77.86, \"fertility\": 2.0}, {\"year\": 2000, \"country\": \"China\", \"cluster\": 4, \"pop\": 1262645000, \"life_expect\": 72.028, \"fertility\": 1.7000000000000002}, {\"year\": 2000, \"country\": \"Colombia\", \"cluster\": 3, \"pop\": 39685655, \"life_expect\": 71.682, \"fertility\": 2.4705}, {\"year\": 2000, \"country\": \"Costa Rica\", \"cluster\": 3, \"pop\": 3710558, \"life_expect\": 78.123, \"fertility\": 2.2815}, {\"year\": 2000, \"country\": \"Croatia\", \"cluster\": 1, \"pop\": 4410830, \"life_expect\": 74.876, \"fertility\": 1.348}, {\"year\": 2000, \"country\": \"Cuba\", \"cluster\": 3, \"pop\": 11134273, \"life_expect\": 77.158, \"fertility\": 1.63}, {\"year\": 2000, \"country\": \"Dominican Republic\", \"cluster\": 3, \"pop\": 8385828, \"life_expect\": 70.847, \"fertility\": 2.95}, {\"year\": 2000, \"country\": \"Ecuador\", \"cluster\": 3, \"pop\": 12505204, \"life_expect\": 74.173, \"fertility\": 2.8175}, {\"year\": 2000, \"country\": \"Egypt\", \"cluster\": 5, \"pop\": 70492342, \"life_expect\": 69.806, \"fertility\": 3.174}, {\"year\": 2000, \"country\": \"El Salvador\", \"cluster\": 3, \"pop\": 6122515, \"life_expect\": 70.734, \"fertility\": 2.883}, {\"year\": 2000, \"country\": \"Finland\", \"cluster\": 1, \"pop\": 5168595, \"life_expect\": 78.37, \"fertility\": 1.754}, {\"year\": 2000, \"country\": \"France\", \"cluster\": 1, \"pop\": 59381628, \"life_expect\": 79.59, \"fertility\": 1.8833000000000002}, {\"year\": 2000, \"country\": \"Georgia\", \"cluster\": 1, \"pop\": 4777209, \"life_expect\": 70.476, \"fertility\": 1.478}, {\"year\": 2000, \"country\": \"Germany\", \"cluster\": 1, \"pop\": 82187909, \"life_expect\": 78.67, \"fertility\": 1.346}, {\"year\": 2000, \"country\": \"Greece\", \"cluster\": 1, \"pop\": 10559110, \"life_expect\": 78.256, \"fertility\": 1.2770000000000001}, {\"year\": 2000, \"country\": \"Grenada\", \"cluster\": 3, \"pop\": 89312, \"life_expect\": 67.746, \"fertility\": 2.429}, {\"year\": 2000, \"country\": \"Haiti\", \"cluster\": 3, \"pop\": 7306302, \"life_expect\": 58.137, \"fertility\": 4.0}, {\"year\": 2000, \"country\": \"Hong Kong\", \"cluster\": 4, \"pop\": 6658720, \"life_expect\": 81.495, \"fertility\": 0.9400000000000001}, {\"year\": 2000, \"country\": \"Iceland\", \"cluster\": 1, \"pop\": 281043, \"life_expect\": 80.5, \"fertility\": 1.9929999999999999}, {\"year\": 2000, \"country\": \"India\", \"cluster\": 0, \"pop\": 1007702000, \"life_expect\": 62.879, \"fertility\": 3.1132}, {\"year\": 2000, \"country\": \"Indonesia\", \"cluster\": 4, \"pop\": 206265000, \"life_expect\": 68.588, \"fertility\": 2.3761}, {\"year\": 2000, \"country\": \"Iran\", \"cluster\": 5, \"pop\": 65660289, \"life_expect\": 69.451, \"fertility\": 2.124}, {\"year\": 2000, \"country\": \"Iraq\", \"cluster\": 5, \"pop\": 22675617, \"life_expect\": 57.046, \"fertility\": 4.858}, {\"year\": 2000, \"country\": \"Ireland\", \"cluster\": 1, \"pop\": 3791690, \"life_expect\": 77.783, \"fertility\": 1.9689999999999999}, {\"year\": 2000, \"country\": \"Israel\", \"cluster\": 5, \"pop\": 5842454, \"life_expect\": 79.696, \"fertility\": 2.906}, {\"year\": 2000, \"country\": \"Italy\", \"cluster\": 1, \"pop\": 57719337, \"life_expect\": 80.24, \"fertility\": 1.286}, {\"year\": 2000, \"country\": \"Jamaica\", \"cluster\": 3, \"pop\": 2615467, \"life_expect\": 72.047, \"fertility\": 2.628}, {\"year\": 2000, \"country\": \"Japan\", \"cluster\": 4, \"pop\": 126699784, \"life_expect\": 82.0, \"fertility\": 1.291}, {\"year\": 2000, \"country\": \"Kenya\", \"cluster\": 2, \"pop\": 29985839, \"life_expect\": 50.992, \"fertility\": 5.0}, {\"year\": 2000, \"country\": \"South Korea\", \"cluster\": 4, \"pop\": 21647682, \"life_expect\": 66.662, \"fertility\": 1.9173}, {\"year\": 2000, \"country\": \"North Korea\", \"cluster\": 4, \"pop\": 47351083, \"life_expect\": 77.045, \"fertility\": 1.242}, {\"year\": 2000, \"country\": \"Lebanon\", \"cluster\": 5, \"pop\": 3578036, \"life_expect\": 71.028, \"fertility\": 2.319}, {\"year\": 2000, \"country\": \"Mexico\", \"cluster\": 3, \"pop\": 99926620, \"life_expect\": 74.902, \"fertility\": 2.4005}, {\"year\": 2000, \"country\": \"Netherlands\", \"cluster\": 1, \"pop\": 15907853, \"life_expect\": 78.53, \"fertility\": 1.726}, {\"year\": 2000, \"country\": \"New Zealand\", \"cluster\": 4, \"pop\": 3819762, \"life_expect\": 79.11, \"fertility\": 1.964}, {\"year\": 2000, \"country\": \"Nigeria\", \"cluster\": 2, \"pop\": 114306700, \"life_expect\": 46.608, \"fertility\": 5.845}, {\"year\": 2000, \"country\": \"Norway\", \"cluster\": 1, \"pop\": 4492400, \"life_expect\": 79.05, \"fertility\": 1.8010000000000002}, {\"year\": 2000, \"country\": \"Pakistan\", \"cluster\": 0, \"pop\": 146342958, \"life_expect\": 63.61, \"fertility\": 3.9936}, {\"year\": 2000, \"country\": \"Peru\", \"cluster\": 3, \"pop\": 25979722, \"life_expect\": 69.906, \"fertility\": 2.7005}, {\"year\": 2000, \"country\": \"Philippines\", \"cluster\": 4, \"pop\": 79739825, \"life_expect\": 70.303, \"fertility\": 3.5436}, {\"year\": 2000, \"country\": \"Poland\", \"cluster\": 1, \"pop\": 38654164, \"life_expect\": 74.67, \"fertility\": 1.251}, {\"year\": 2000, \"country\": \"Portugal\", \"cluster\": 1, \"pop\": 10335597, \"life_expect\": 77.29, \"fertility\": 1.454}, {\"year\": 2000, \"country\": \"Rwanda\", \"cluster\": 2, \"pop\": 7507056, \"life_expect\": 43.413, \"fertility\": 6.01}, {\"year\": 2000, \"country\": \"Saudi Arabia\", \"cluster\": 5, \"pop\": 23153090, \"life_expect\": 71.626, \"fertility\": 3.81}, {\"year\": 2000, \"country\": \"South Africa\", \"cluster\": 2, \"pop\": 44066197, \"life_expect\": 53.365, \"fertility\": 2.802}, {\"year\": 2000, \"country\": \"Spain\", \"cluster\": 1, \"pop\": 40016081, \"life_expect\": 79.78, \"fertility\": 1.287}, {\"year\": 2000, \"country\": \"Switzerland\", \"cluster\": 1, \"pop\": 7266920, \"life_expect\": 80.62, \"fertility\": 1.415}, {\"year\": 2000, \"country\": \"Turkey\", \"cluster\": 1, \"pop\": 65666677, \"life_expect\": 70.845, \"fertility\": 2.23}, {\"year\": 2000, \"country\": \"United Kingdom\", \"cluster\": 1, \"pop\": 59522468, \"life_expect\": 78.471, \"fertility\": 1.695}, {\"year\": 2000, \"country\": \"United States\", \"cluster\": 3, \"pop\": 282338631, \"life_expect\": 77.31, \"fertility\": 2.038}, {\"year\": 2000, \"country\": \"Venezuela\", \"cluster\": 3, \"pop\": 23542649, \"life_expect\": 72.766, \"fertility\": 2.723}]}}, {\"mode\": \"vega-lite\"});\n",
       "</script>"
      ],
      "text/plain": [
       "alt.Chart(...)"
      ]
     },
     "execution_count": 8,
     "metadata": {},
     "output_type": "execute_result"
    }
   ],
   "source": [
    "alt.Chart(data2000).mark_point().encode(\n",
    "    alt.X('fertility:Q'),\n",
    "    alt.Y('cluster:O')\n",
    ")"
   ]
  },
  {
   "cell_type": "markdown",
   "metadata": {
    "colab_type": "text",
    "id": "2BQetZgvc0f_"
   },
   "source": [
    "_O que acontece com o gráfico acima se você trocar o tipo de dado `O` por `Q`?_\n",
    "\n",
    "Se, em vez disso, adicionássemos o campo `life_expect` como uma variável quantitativa (`Q`), o resultado é um gráfico de dispersão com escalas lineares para ambos os eixos:"
   ]
  },
  {
   "cell_type": "code",
   "execution_count": 9,
   "metadata": {
    "colab": {
     "base_uri": "https://localhost:8080/",
     "height": 372
    },
    "colab_type": "code",
    "id": "n8PJhH6jN68w",
    "outputId": "ac41eaeb-4872-48db-ddf1-ab6b5c84f387"
   },
   "outputs": [
    {
     "data": {
      "text/html": [
       "\n",
       "<div id=\"altair-viz-75697b664ba740c8b687fd38275eff53\"></div>\n",
       "<script type=\"text/javascript\">\n",
       "  (function(spec, embedOpt){\n",
       "    let outputDiv = document.currentScript.previousElementSibling;\n",
       "    if (outputDiv.id !== \"altair-viz-75697b664ba740c8b687fd38275eff53\") {\n",
       "      outputDiv = document.getElementById(\"altair-viz-75697b664ba740c8b687fd38275eff53\");\n",
       "    }\n",
       "    const paths = {\n",
       "      \"vega\": \"https://cdn.jsdelivr.net/npm//vega@5?noext\",\n",
       "      \"vega-lib\": \"https://cdn.jsdelivr.net/npm//vega-lib?noext\",\n",
       "      \"vega-lite\": \"https://cdn.jsdelivr.net/npm//vega-lite@4.8.1?noext\",\n",
       "      \"vega-embed\": \"https://cdn.jsdelivr.net/npm//vega-embed@6?noext\",\n",
       "    };\n",
       "\n",
       "    function loadScript(lib) {\n",
       "      return new Promise(function(resolve, reject) {\n",
       "        var s = document.createElement('script');\n",
       "        s.src = paths[lib];\n",
       "        s.async = true;\n",
       "        s.onload = () => resolve(paths[lib]);\n",
       "        s.onerror = () => reject(`Error loading script: ${paths[lib]}`);\n",
       "        document.getElementsByTagName(\"head\")[0].appendChild(s);\n",
       "      });\n",
       "    }\n",
       "\n",
       "    function showError(err) {\n",
       "      outputDiv.innerHTML = `<div class=\"error\" style=\"color:red;\">${err}</div>`;\n",
       "      throw err;\n",
       "    }\n",
       "\n",
       "    function displayChart(vegaEmbed) {\n",
       "      vegaEmbed(outputDiv, spec, embedOpt)\n",
       "        .catch(err => showError(`Javascript Error: ${err.message}<br>This usually means there's a typo in your chart specification. See the javascript console for the full traceback.`));\n",
       "    }\n",
       "\n",
       "    if(typeof define === \"function\" && define.amd) {\n",
       "      requirejs.config({paths});\n",
       "      require([\"vega-embed\"], displayChart, err => showError(`Error loading script: ${err.message}`));\n",
       "    } else if (typeof vegaEmbed === \"function\") {\n",
       "      displayChart(vegaEmbed);\n",
       "    } else {\n",
       "      loadScript(\"vega\")\n",
       "        .then(() => loadScript(\"vega-lite\"))\n",
       "        .then(() => loadScript(\"vega-embed\"))\n",
       "        .catch(showError)\n",
       "        .then(() => displayChart(vegaEmbed));\n",
       "    }\n",
       "  })({\"config\": {\"view\": {\"continuousWidth\": 400, \"continuousHeight\": 300}}, \"data\": {\"name\": \"data-fdeb0b749a6385830bd1445d39ad6ea0\"}, \"mark\": \"point\", \"encoding\": {\"x\": {\"type\": \"quantitative\", \"field\": \"fertility\"}, \"y\": {\"type\": \"quantitative\", \"field\": \"life_expect\"}}, \"$schema\": \"https://vega.github.io/schema/vega-lite/v4.8.1.json\", \"datasets\": {\"data-fdeb0b749a6385830bd1445d39ad6ea0\": [{\"year\": 2000, \"country\": \"Afghanistan\", \"cluster\": 0, \"pop\": 23898198, \"life_expect\": 42.129, \"fertility\": 7.4792}, {\"year\": 2000, \"country\": \"Argentina\", \"cluster\": 3, \"pop\": 37497728, \"life_expect\": 74.34, \"fertility\": 2.35}, {\"year\": 2000, \"country\": \"Aruba\", \"cluster\": 3, \"pop\": 69539, \"life_expect\": 73.451, \"fertility\": 2.124}, {\"year\": 2000, \"country\": \"Australia\", \"cluster\": 4, \"pop\": 19164620, \"life_expect\": 80.37, \"fertility\": 1.756}, {\"year\": 2000, \"country\": \"Austria\", \"cluster\": 1, \"pop\": 8113413, \"life_expect\": 78.98, \"fertility\": 1.3820000000000001}, {\"year\": 2000, \"country\": \"Bahamas\", \"cluster\": 3, \"pop\": 290075, \"life_expect\": 71.068, \"fertility\": 2.1111}, {\"year\": 2000, \"country\": \"Bangladesh\", \"cluster\": 0, \"pop\": 130406594, \"life_expect\": 62.013, \"fertility\": 3.224}, {\"year\": 2000, \"country\": \"Barbados\", \"cluster\": 3, \"pop\": 273483, \"life_expect\": 75.97, \"fertility\": 1.5}, {\"year\": 2000, \"country\": \"Belgium\", \"cluster\": 1, \"pop\": 10263618, \"life_expect\": 78.32, \"fertility\": 1.638}, {\"year\": 2000, \"country\": \"Bolivia\", \"cluster\": 3, \"pop\": 8152620, \"life_expect\": 63.883, \"fertility\": 3.9585}, {\"year\": 2000, \"country\": \"Brazil\", \"cluster\": 3, \"pop\": 175552771, \"life_expect\": 71.006, \"fertility\": 2.345}, {\"year\": 2000, \"country\": \"Canada\", \"cluster\": 3, \"pop\": 31278097, \"life_expect\": 79.77, \"fertility\": 1.522}, {\"year\": 2000, \"country\": \"Chile\", \"cluster\": 3, \"pop\": 15153450, \"life_expect\": 77.86, \"fertility\": 2.0}, {\"year\": 2000, \"country\": \"China\", \"cluster\": 4, \"pop\": 1262645000, \"life_expect\": 72.028, \"fertility\": 1.7000000000000002}, {\"year\": 2000, \"country\": \"Colombia\", \"cluster\": 3, \"pop\": 39685655, \"life_expect\": 71.682, \"fertility\": 2.4705}, {\"year\": 2000, \"country\": \"Costa Rica\", \"cluster\": 3, \"pop\": 3710558, \"life_expect\": 78.123, \"fertility\": 2.2815}, {\"year\": 2000, \"country\": \"Croatia\", \"cluster\": 1, \"pop\": 4410830, \"life_expect\": 74.876, \"fertility\": 1.348}, {\"year\": 2000, \"country\": \"Cuba\", \"cluster\": 3, \"pop\": 11134273, \"life_expect\": 77.158, \"fertility\": 1.63}, {\"year\": 2000, \"country\": \"Dominican Republic\", \"cluster\": 3, \"pop\": 8385828, \"life_expect\": 70.847, \"fertility\": 2.95}, {\"year\": 2000, \"country\": \"Ecuador\", \"cluster\": 3, \"pop\": 12505204, \"life_expect\": 74.173, \"fertility\": 2.8175}, {\"year\": 2000, \"country\": \"Egypt\", \"cluster\": 5, \"pop\": 70492342, \"life_expect\": 69.806, \"fertility\": 3.174}, {\"year\": 2000, \"country\": \"El Salvador\", \"cluster\": 3, \"pop\": 6122515, \"life_expect\": 70.734, \"fertility\": 2.883}, {\"year\": 2000, \"country\": \"Finland\", \"cluster\": 1, \"pop\": 5168595, \"life_expect\": 78.37, \"fertility\": 1.754}, {\"year\": 2000, \"country\": \"France\", \"cluster\": 1, \"pop\": 59381628, \"life_expect\": 79.59, \"fertility\": 1.8833000000000002}, {\"year\": 2000, \"country\": \"Georgia\", \"cluster\": 1, \"pop\": 4777209, \"life_expect\": 70.476, \"fertility\": 1.478}, {\"year\": 2000, \"country\": \"Germany\", \"cluster\": 1, \"pop\": 82187909, \"life_expect\": 78.67, \"fertility\": 1.346}, {\"year\": 2000, \"country\": \"Greece\", \"cluster\": 1, \"pop\": 10559110, \"life_expect\": 78.256, \"fertility\": 1.2770000000000001}, {\"year\": 2000, \"country\": \"Grenada\", \"cluster\": 3, \"pop\": 89312, \"life_expect\": 67.746, \"fertility\": 2.429}, {\"year\": 2000, \"country\": \"Haiti\", \"cluster\": 3, \"pop\": 7306302, \"life_expect\": 58.137, \"fertility\": 4.0}, {\"year\": 2000, \"country\": \"Hong Kong\", \"cluster\": 4, \"pop\": 6658720, \"life_expect\": 81.495, \"fertility\": 0.9400000000000001}, {\"year\": 2000, \"country\": \"Iceland\", \"cluster\": 1, \"pop\": 281043, \"life_expect\": 80.5, \"fertility\": 1.9929999999999999}, {\"year\": 2000, \"country\": \"India\", \"cluster\": 0, \"pop\": 1007702000, \"life_expect\": 62.879, \"fertility\": 3.1132}, {\"year\": 2000, \"country\": \"Indonesia\", \"cluster\": 4, \"pop\": 206265000, \"life_expect\": 68.588, \"fertility\": 2.3761}, {\"year\": 2000, \"country\": \"Iran\", \"cluster\": 5, \"pop\": 65660289, \"life_expect\": 69.451, \"fertility\": 2.124}, {\"year\": 2000, \"country\": \"Iraq\", \"cluster\": 5, \"pop\": 22675617, \"life_expect\": 57.046, \"fertility\": 4.858}, {\"year\": 2000, \"country\": \"Ireland\", \"cluster\": 1, \"pop\": 3791690, \"life_expect\": 77.783, \"fertility\": 1.9689999999999999}, {\"year\": 2000, \"country\": \"Israel\", \"cluster\": 5, \"pop\": 5842454, \"life_expect\": 79.696, \"fertility\": 2.906}, {\"year\": 2000, \"country\": \"Italy\", \"cluster\": 1, \"pop\": 57719337, \"life_expect\": 80.24, \"fertility\": 1.286}, {\"year\": 2000, \"country\": \"Jamaica\", \"cluster\": 3, \"pop\": 2615467, \"life_expect\": 72.047, \"fertility\": 2.628}, {\"year\": 2000, \"country\": \"Japan\", \"cluster\": 4, \"pop\": 126699784, \"life_expect\": 82.0, \"fertility\": 1.291}, {\"year\": 2000, \"country\": \"Kenya\", \"cluster\": 2, \"pop\": 29985839, \"life_expect\": 50.992, \"fertility\": 5.0}, {\"year\": 2000, \"country\": \"South Korea\", \"cluster\": 4, \"pop\": 21647682, \"life_expect\": 66.662, \"fertility\": 1.9173}, {\"year\": 2000, \"country\": \"North Korea\", \"cluster\": 4, \"pop\": 47351083, \"life_expect\": 77.045, \"fertility\": 1.242}, {\"year\": 2000, \"country\": \"Lebanon\", \"cluster\": 5, \"pop\": 3578036, \"life_expect\": 71.028, \"fertility\": 2.319}, {\"year\": 2000, \"country\": \"Mexico\", \"cluster\": 3, \"pop\": 99926620, \"life_expect\": 74.902, \"fertility\": 2.4005}, {\"year\": 2000, \"country\": \"Netherlands\", \"cluster\": 1, \"pop\": 15907853, \"life_expect\": 78.53, \"fertility\": 1.726}, {\"year\": 2000, \"country\": \"New Zealand\", \"cluster\": 4, \"pop\": 3819762, \"life_expect\": 79.11, \"fertility\": 1.964}, {\"year\": 2000, \"country\": \"Nigeria\", \"cluster\": 2, \"pop\": 114306700, \"life_expect\": 46.608, \"fertility\": 5.845}, {\"year\": 2000, \"country\": \"Norway\", \"cluster\": 1, \"pop\": 4492400, \"life_expect\": 79.05, \"fertility\": 1.8010000000000002}, {\"year\": 2000, \"country\": \"Pakistan\", \"cluster\": 0, \"pop\": 146342958, \"life_expect\": 63.61, \"fertility\": 3.9936}, {\"year\": 2000, \"country\": \"Peru\", \"cluster\": 3, \"pop\": 25979722, \"life_expect\": 69.906, \"fertility\": 2.7005}, {\"year\": 2000, \"country\": \"Philippines\", \"cluster\": 4, \"pop\": 79739825, \"life_expect\": 70.303, \"fertility\": 3.5436}, {\"year\": 2000, \"country\": \"Poland\", \"cluster\": 1, \"pop\": 38654164, \"life_expect\": 74.67, \"fertility\": 1.251}, {\"year\": 2000, \"country\": \"Portugal\", \"cluster\": 1, \"pop\": 10335597, \"life_expect\": 77.29, \"fertility\": 1.454}, {\"year\": 2000, \"country\": \"Rwanda\", \"cluster\": 2, \"pop\": 7507056, \"life_expect\": 43.413, \"fertility\": 6.01}, {\"year\": 2000, \"country\": \"Saudi Arabia\", \"cluster\": 5, \"pop\": 23153090, \"life_expect\": 71.626, \"fertility\": 3.81}, {\"year\": 2000, \"country\": \"South Africa\", \"cluster\": 2, \"pop\": 44066197, \"life_expect\": 53.365, \"fertility\": 2.802}, {\"year\": 2000, \"country\": \"Spain\", \"cluster\": 1, \"pop\": 40016081, \"life_expect\": 79.78, \"fertility\": 1.287}, {\"year\": 2000, \"country\": \"Switzerland\", \"cluster\": 1, \"pop\": 7266920, \"life_expect\": 80.62, \"fertility\": 1.415}, {\"year\": 2000, \"country\": \"Turkey\", \"cluster\": 1, \"pop\": 65666677, \"life_expect\": 70.845, \"fertility\": 2.23}, {\"year\": 2000, \"country\": \"United Kingdom\", \"cluster\": 1, \"pop\": 59522468, \"life_expect\": 78.471, \"fertility\": 1.695}, {\"year\": 2000, \"country\": \"United States\", \"cluster\": 3, \"pop\": 282338631, \"life_expect\": 77.31, \"fertility\": 2.038}, {\"year\": 2000, \"country\": \"Venezuela\", \"cluster\": 3, \"pop\": 23542649, \"life_expect\": 72.766, \"fertility\": 2.723}]}}, {\"mode\": \"vega-lite\"});\n",
       "</script>"
      ],
      "text/plain": [
       "alt.Chart(...)"
      ]
     },
     "execution_count": 9,
     "metadata": {},
     "output_type": "execute_result"
    }
   ],
   "source": [
    "alt.Chart(data2000).mark_point().encode(\n",
    "    alt.X('fertility:Q'),\n",
    "    alt.Y('life_expect:Q')\n",
    ")"
   ]
  },
  {
   "cell_type": "markdown",
   "metadata": {
    "colab_type": "text",
    "id": "GUKc1DEDTbA0"
   },
   "source": [
    "Por padrão, os eixos para escalas lineares quantitativas incluem o zero para garantir uma linha de base adequada para comparação de dados baseados em proporção. Em alguns casos, no entanto, um zero como linha de base pode ser irrelevante ou você pode querer focar em comparações de intervalos. Para desativar a inclusão automática do zero, configure o mapeamento da escala usando o atributo de codificação `scale`:"
   ]
  },
  {
   "cell_type": "code",
   "execution_count": 10,
   "metadata": {
    "colab": {
     "base_uri": "https://localhost:8080/",
     "height": 372
    },
    "colab_type": "code",
    "id": "-6klI5DhSdik",
    "outputId": "8cb0ca55-176b-4d2f-8891-2c124276e429"
   },
   "outputs": [
    {
     "data": {
      "text/html": [
       "\n",
       "<div id=\"altair-viz-e21587c833964553bf41a8b4c6979eb6\"></div>\n",
       "<script type=\"text/javascript\">\n",
       "  (function(spec, embedOpt){\n",
       "    let outputDiv = document.currentScript.previousElementSibling;\n",
       "    if (outputDiv.id !== \"altair-viz-e21587c833964553bf41a8b4c6979eb6\") {\n",
       "      outputDiv = document.getElementById(\"altair-viz-e21587c833964553bf41a8b4c6979eb6\");\n",
       "    }\n",
       "    const paths = {\n",
       "      \"vega\": \"https://cdn.jsdelivr.net/npm//vega@5?noext\",\n",
       "      \"vega-lib\": \"https://cdn.jsdelivr.net/npm//vega-lib?noext\",\n",
       "      \"vega-lite\": \"https://cdn.jsdelivr.net/npm//vega-lite@4.8.1?noext\",\n",
       "      \"vega-embed\": \"https://cdn.jsdelivr.net/npm//vega-embed@6?noext\",\n",
       "    };\n",
       "\n",
       "    function loadScript(lib) {\n",
       "      return new Promise(function(resolve, reject) {\n",
       "        var s = document.createElement('script');\n",
       "        s.src = paths[lib];\n",
       "        s.async = true;\n",
       "        s.onload = () => resolve(paths[lib]);\n",
       "        s.onerror = () => reject(`Error loading script: ${paths[lib]}`);\n",
       "        document.getElementsByTagName(\"head\")[0].appendChild(s);\n",
       "      });\n",
       "    }\n",
       "\n",
       "    function showError(err) {\n",
       "      outputDiv.innerHTML = `<div class=\"error\" style=\"color:red;\">${err}</div>`;\n",
       "      throw err;\n",
       "    }\n",
       "\n",
       "    function displayChart(vegaEmbed) {\n",
       "      vegaEmbed(outputDiv, spec, embedOpt)\n",
       "        .catch(err => showError(`Javascript Error: ${err.message}<br>This usually means there's a typo in your chart specification. See the javascript console for the full traceback.`));\n",
       "    }\n",
       "\n",
       "    if(typeof define === \"function\" && define.amd) {\n",
       "      requirejs.config({paths});\n",
       "      require([\"vega-embed\"], displayChart, err => showError(`Error loading script: ${err.message}`));\n",
       "    } else if (typeof vegaEmbed === \"function\") {\n",
       "      displayChart(vegaEmbed);\n",
       "    } else {\n",
       "      loadScript(\"vega\")\n",
       "        .then(() => loadScript(\"vega-lite\"))\n",
       "        .then(() => loadScript(\"vega-embed\"))\n",
       "        .catch(showError)\n",
       "        .then(() => displayChart(vegaEmbed));\n",
       "    }\n",
       "  })({\"config\": {\"view\": {\"continuousWidth\": 400, \"continuousHeight\": 300}}, \"data\": {\"name\": \"data-fdeb0b749a6385830bd1445d39ad6ea0\"}, \"mark\": \"point\", \"encoding\": {\"x\": {\"type\": \"quantitative\", \"field\": \"fertility\", \"scale\": {\"zero\": false}}, \"y\": {\"type\": \"quantitative\", \"field\": \"life_expect\", \"scale\": {\"zero\": false}}}, \"$schema\": \"https://vega.github.io/schema/vega-lite/v4.8.1.json\", \"datasets\": {\"data-fdeb0b749a6385830bd1445d39ad6ea0\": [{\"year\": 2000, \"country\": \"Afghanistan\", \"cluster\": 0, \"pop\": 23898198, \"life_expect\": 42.129, \"fertility\": 7.4792}, {\"year\": 2000, \"country\": \"Argentina\", \"cluster\": 3, \"pop\": 37497728, \"life_expect\": 74.34, \"fertility\": 2.35}, {\"year\": 2000, \"country\": \"Aruba\", \"cluster\": 3, \"pop\": 69539, \"life_expect\": 73.451, \"fertility\": 2.124}, {\"year\": 2000, \"country\": \"Australia\", \"cluster\": 4, \"pop\": 19164620, \"life_expect\": 80.37, \"fertility\": 1.756}, {\"year\": 2000, \"country\": \"Austria\", \"cluster\": 1, \"pop\": 8113413, \"life_expect\": 78.98, \"fertility\": 1.3820000000000001}, {\"year\": 2000, \"country\": \"Bahamas\", \"cluster\": 3, \"pop\": 290075, \"life_expect\": 71.068, \"fertility\": 2.1111}, {\"year\": 2000, \"country\": \"Bangladesh\", \"cluster\": 0, \"pop\": 130406594, \"life_expect\": 62.013, \"fertility\": 3.224}, {\"year\": 2000, \"country\": \"Barbados\", \"cluster\": 3, \"pop\": 273483, \"life_expect\": 75.97, \"fertility\": 1.5}, {\"year\": 2000, \"country\": \"Belgium\", \"cluster\": 1, \"pop\": 10263618, \"life_expect\": 78.32, \"fertility\": 1.638}, {\"year\": 2000, \"country\": \"Bolivia\", \"cluster\": 3, \"pop\": 8152620, \"life_expect\": 63.883, \"fertility\": 3.9585}, {\"year\": 2000, \"country\": \"Brazil\", \"cluster\": 3, \"pop\": 175552771, \"life_expect\": 71.006, \"fertility\": 2.345}, {\"year\": 2000, \"country\": \"Canada\", \"cluster\": 3, \"pop\": 31278097, \"life_expect\": 79.77, \"fertility\": 1.522}, {\"year\": 2000, \"country\": \"Chile\", \"cluster\": 3, \"pop\": 15153450, \"life_expect\": 77.86, \"fertility\": 2.0}, {\"year\": 2000, \"country\": \"China\", \"cluster\": 4, \"pop\": 1262645000, \"life_expect\": 72.028, \"fertility\": 1.7000000000000002}, {\"year\": 2000, \"country\": \"Colombia\", \"cluster\": 3, \"pop\": 39685655, \"life_expect\": 71.682, \"fertility\": 2.4705}, {\"year\": 2000, \"country\": \"Costa Rica\", \"cluster\": 3, \"pop\": 3710558, \"life_expect\": 78.123, \"fertility\": 2.2815}, {\"year\": 2000, \"country\": \"Croatia\", \"cluster\": 1, \"pop\": 4410830, \"life_expect\": 74.876, \"fertility\": 1.348}, {\"year\": 2000, \"country\": \"Cuba\", \"cluster\": 3, \"pop\": 11134273, \"life_expect\": 77.158, \"fertility\": 1.63}, {\"year\": 2000, \"country\": \"Dominican Republic\", \"cluster\": 3, \"pop\": 8385828, \"life_expect\": 70.847, \"fertility\": 2.95}, {\"year\": 2000, \"country\": \"Ecuador\", \"cluster\": 3, \"pop\": 12505204, \"life_expect\": 74.173, \"fertility\": 2.8175}, {\"year\": 2000, \"country\": \"Egypt\", \"cluster\": 5, \"pop\": 70492342, \"life_expect\": 69.806, \"fertility\": 3.174}, {\"year\": 2000, \"country\": \"El Salvador\", \"cluster\": 3, \"pop\": 6122515, \"life_expect\": 70.734, \"fertility\": 2.883}, {\"year\": 2000, \"country\": \"Finland\", \"cluster\": 1, \"pop\": 5168595, \"life_expect\": 78.37, \"fertility\": 1.754}, {\"year\": 2000, \"country\": \"France\", \"cluster\": 1, \"pop\": 59381628, \"life_expect\": 79.59, \"fertility\": 1.8833000000000002}, {\"year\": 2000, \"country\": \"Georgia\", \"cluster\": 1, \"pop\": 4777209, \"life_expect\": 70.476, \"fertility\": 1.478}, {\"year\": 2000, \"country\": \"Germany\", \"cluster\": 1, \"pop\": 82187909, \"life_expect\": 78.67, \"fertility\": 1.346}, {\"year\": 2000, \"country\": \"Greece\", \"cluster\": 1, \"pop\": 10559110, \"life_expect\": 78.256, \"fertility\": 1.2770000000000001}, {\"year\": 2000, \"country\": \"Grenada\", \"cluster\": 3, \"pop\": 89312, \"life_expect\": 67.746, \"fertility\": 2.429}, {\"year\": 2000, \"country\": \"Haiti\", \"cluster\": 3, \"pop\": 7306302, \"life_expect\": 58.137, \"fertility\": 4.0}, {\"year\": 2000, \"country\": \"Hong Kong\", \"cluster\": 4, \"pop\": 6658720, \"life_expect\": 81.495, \"fertility\": 0.9400000000000001}, {\"year\": 2000, \"country\": \"Iceland\", \"cluster\": 1, \"pop\": 281043, \"life_expect\": 80.5, \"fertility\": 1.9929999999999999}, {\"year\": 2000, \"country\": \"India\", \"cluster\": 0, \"pop\": 1007702000, \"life_expect\": 62.879, \"fertility\": 3.1132}, {\"year\": 2000, \"country\": \"Indonesia\", \"cluster\": 4, \"pop\": 206265000, \"life_expect\": 68.588, \"fertility\": 2.3761}, {\"year\": 2000, \"country\": \"Iran\", \"cluster\": 5, \"pop\": 65660289, \"life_expect\": 69.451, \"fertility\": 2.124}, {\"year\": 2000, \"country\": \"Iraq\", \"cluster\": 5, \"pop\": 22675617, \"life_expect\": 57.046, \"fertility\": 4.858}, {\"year\": 2000, \"country\": \"Ireland\", \"cluster\": 1, \"pop\": 3791690, \"life_expect\": 77.783, \"fertility\": 1.9689999999999999}, {\"year\": 2000, \"country\": \"Israel\", \"cluster\": 5, \"pop\": 5842454, \"life_expect\": 79.696, \"fertility\": 2.906}, {\"year\": 2000, \"country\": \"Italy\", \"cluster\": 1, \"pop\": 57719337, \"life_expect\": 80.24, \"fertility\": 1.286}, {\"year\": 2000, \"country\": \"Jamaica\", \"cluster\": 3, \"pop\": 2615467, \"life_expect\": 72.047, \"fertility\": 2.628}, {\"year\": 2000, \"country\": \"Japan\", \"cluster\": 4, \"pop\": 126699784, \"life_expect\": 82.0, \"fertility\": 1.291}, {\"year\": 2000, \"country\": \"Kenya\", \"cluster\": 2, \"pop\": 29985839, \"life_expect\": 50.992, \"fertility\": 5.0}, {\"year\": 2000, \"country\": \"South Korea\", \"cluster\": 4, \"pop\": 21647682, \"life_expect\": 66.662, \"fertility\": 1.9173}, {\"year\": 2000, \"country\": \"North Korea\", \"cluster\": 4, \"pop\": 47351083, \"life_expect\": 77.045, \"fertility\": 1.242}, {\"year\": 2000, \"country\": \"Lebanon\", \"cluster\": 5, \"pop\": 3578036, \"life_expect\": 71.028, \"fertility\": 2.319}, {\"year\": 2000, \"country\": \"Mexico\", \"cluster\": 3, \"pop\": 99926620, \"life_expect\": 74.902, \"fertility\": 2.4005}, {\"year\": 2000, \"country\": \"Netherlands\", \"cluster\": 1, \"pop\": 15907853, \"life_expect\": 78.53, \"fertility\": 1.726}, {\"year\": 2000, \"country\": \"New Zealand\", \"cluster\": 4, \"pop\": 3819762, \"life_expect\": 79.11, \"fertility\": 1.964}, {\"year\": 2000, \"country\": \"Nigeria\", \"cluster\": 2, \"pop\": 114306700, \"life_expect\": 46.608, \"fertility\": 5.845}, {\"year\": 2000, \"country\": \"Norway\", \"cluster\": 1, \"pop\": 4492400, \"life_expect\": 79.05, \"fertility\": 1.8010000000000002}, {\"year\": 2000, \"country\": \"Pakistan\", \"cluster\": 0, \"pop\": 146342958, \"life_expect\": 63.61, \"fertility\": 3.9936}, {\"year\": 2000, \"country\": \"Peru\", \"cluster\": 3, \"pop\": 25979722, \"life_expect\": 69.906, \"fertility\": 2.7005}, {\"year\": 2000, \"country\": \"Philippines\", \"cluster\": 4, \"pop\": 79739825, \"life_expect\": 70.303, \"fertility\": 3.5436}, {\"year\": 2000, \"country\": \"Poland\", \"cluster\": 1, \"pop\": 38654164, \"life_expect\": 74.67, \"fertility\": 1.251}, {\"year\": 2000, \"country\": \"Portugal\", \"cluster\": 1, \"pop\": 10335597, \"life_expect\": 77.29, \"fertility\": 1.454}, {\"year\": 2000, \"country\": \"Rwanda\", \"cluster\": 2, \"pop\": 7507056, \"life_expect\": 43.413, \"fertility\": 6.01}, {\"year\": 2000, \"country\": \"Saudi Arabia\", \"cluster\": 5, \"pop\": 23153090, \"life_expect\": 71.626, \"fertility\": 3.81}, {\"year\": 2000, \"country\": \"South Africa\", \"cluster\": 2, \"pop\": 44066197, \"life_expect\": 53.365, \"fertility\": 2.802}, {\"year\": 2000, \"country\": \"Spain\", \"cluster\": 1, \"pop\": 40016081, \"life_expect\": 79.78, \"fertility\": 1.287}, {\"year\": 2000, \"country\": \"Switzerland\", \"cluster\": 1, \"pop\": 7266920, \"life_expect\": 80.62, \"fertility\": 1.415}, {\"year\": 2000, \"country\": \"Turkey\", \"cluster\": 1, \"pop\": 65666677, \"life_expect\": 70.845, \"fertility\": 2.23}, {\"year\": 2000, \"country\": \"United Kingdom\", \"cluster\": 1, \"pop\": 59522468, \"life_expect\": 78.471, \"fertility\": 1.695}, {\"year\": 2000, \"country\": \"United States\", \"cluster\": 3, \"pop\": 282338631, \"life_expect\": 77.31, \"fertility\": 2.038}, {\"year\": 2000, \"country\": \"Venezuela\", \"cluster\": 3, \"pop\": 23542649, \"life_expect\": 72.766, \"fertility\": 2.723}]}}, {\"mode\": \"vega-lite\"});\n",
       "</script>"
      ],
      "text/plain": [
       "alt.Chart(...)"
      ]
     },
     "execution_count": 10,
     "metadata": {},
     "output_type": "execute_result"
    }
   ],
   "source": [
    "alt.Chart(data2000).mark_point().encode(\n",
    "    alt.X('fertility:Q', scale=alt.Scale(zero=False)),\n",
    "    alt.Y('life_expect:Q', scale=alt.Scale(zero=False))\n",
    ")"
   ]
  },
  {
   "cell_type": "markdown",
   "metadata": {
    "colab_type": "text",
    "id": "oUKf6WQmSzqC"
   },
   "source": [
    "Agora as escalas dos eixos não incluem mais o zero por padrão. Ainda resta algum espaçamento, visto que o domínio do eixo e os pontos finais são automaticamente ajustados para _bons_ (_nice_) números, como múltiplos de 5 ou 10.\n",
    "\n",
    "_O que acontece se você também adicionar `nice=False` ao atributo `scale` acima?_"
   ]
  },
  {
   "cell_type": "markdown",
   "metadata": {},
   "source": [
    "### 2.3.3. Tamanho\n",
    "O canal de codificação `Size` define o tamanho ou a extensão de uma marca. O significado desse canal pode variar dependendo do tipo de marca. Para marcas de ponto, o canal `Size` mapeia a área em pixels do símbolo do gráfico, de modo que o diâmetro do ponto corresponda à raiz quadrada do valor do tamanho.\n",
    "\n",
    "Vamos aprimorar nosso gráfico de dispersão codificando a população (pop) no canal `Size`. Como resultado, o gráfico agora também inclui uma legenda para interpretar os diferentes tamanhos.\n",
    "\n"
   ]
  },
  {
   "cell_type": "code",
   "execution_count": null,
   "metadata": {},
   "outputs": [
    {
     "data": {
      "text/html": [
       "\n",
       "<style>\n",
       "  #altair-viz-e2bf4dc10b284f809e207fdfd6ad462a.vega-embed {\n",
       "    width: 100%;\n",
       "    display: flex;\n",
       "  }\n",
       "\n",
       "  #altair-viz-e2bf4dc10b284f809e207fdfd6ad462a.vega-embed details,\n",
       "  #altair-viz-e2bf4dc10b284f809e207fdfd6ad462a.vega-embed details summary {\n",
       "    position: relative;\n",
       "  }\n",
       "</style>\n",
       "<div id=\"altair-viz-e2bf4dc10b284f809e207fdfd6ad462a\"></div>\n",
       "<script type=\"text/javascript\">\n",
       "  var VEGA_DEBUG = (typeof VEGA_DEBUG == \"undefined\") ? {} : VEGA_DEBUG;\n",
       "  (function(spec, embedOpt){\n",
       "    let outputDiv = document.currentScript.previousElementSibling;\n",
       "    if (outputDiv.id !== \"altair-viz-e2bf4dc10b284f809e207fdfd6ad462a\") {\n",
       "      outputDiv = document.getElementById(\"altair-viz-e2bf4dc10b284f809e207fdfd6ad462a\");\n",
       "    }\n",
       "\n",
       "    const paths = {\n",
       "      \"vega\": \"https://cdn.jsdelivr.net/npm/vega@5?noext\",\n",
       "      \"vega-lib\": \"https://cdn.jsdelivr.net/npm/vega-lib?noext\",\n",
       "      \"vega-lite\": \"https://cdn.jsdelivr.net/npm/vega-lite@5.20.1?noext\",\n",
       "      \"vega-embed\": \"https://cdn.jsdelivr.net/npm/vega-embed@6?noext\",\n",
       "    };\n",
       "\n",
       "    function maybeLoadScript(lib, version) {\n",
       "      var key = `${lib.replace(\"-\", \"\")}_version`;\n",
       "      return (VEGA_DEBUG[key] == version) ?\n",
       "        Promise.resolve(paths[lib]) :\n",
       "        new Promise(function(resolve, reject) {\n",
       "          var s = document.createElement('script');\n",
       "          document.getElementsByTagName(\"head\")[0].appendChild(s);\n",
       "          s.async = true;\n",
       "          s.onload = () => {\n",
       "            VEGA_DEBUG[key] = version;\n",
       "            return resolve(paths[lib]);\n",
       "          };\n",
       "          s.onerror = () => reject(`Error loading script: ${paths[lib]}`);\n",
       "          s.src = paths[lib];\n",
       "        });\n",
       "    }\n",
       "\n",
       "    function showError(err) {\n",
       "      outputDiv.innerHTML = `<div class=\"error\" style=\"color:red;\">${err}</div>`;\n",
       "      throw err;\n",
       "    }\n",
       "\n",
       "    function displayChart(vegaEmbed) {\n",
       "      vegaEmbed(outputDiv, spec, embedOpt)\n",
       "        .catch(err => showError(`Javascript Error: ${err.message}<br>This usually means there's a typo in your chart specification. See the javascript console for the full traceback.`));\n",
       "    }\n",
       "\n",
       "    if(typeof define === \"function\" && define.amd) {\n",
       "      requirejs.config({paths});\n",
       "      let deps = [\"vega-embed\"];\n",
       "      require(deps, displayChart, err => showError(`Error loading script: ${err.message}`));\n",
       "    } else {\n",
       "      maybeLoadScript(\"vega\", \"5\")\n",
       "        .then(() => maybeLoadScript(\"vega-lite\", \"5.20.1\"))\n",
       "        .then(() => maybeLoadScript(\"vega-embed\", \"6\"))\n",
       "        .catch(showError)\n",
       "        .then(() => displayChart(vegaEmbed));\n",
       "    }\n",
       "  })({\"config\": {\"view\": {\"continuousWidth\": 300, \"continuousHeight\": 300}}, \"data\": {\"name\": \"data-5bbc1a2d42e71c72ac9cf13ffaf6d268\"}, \"mark\": {\"type\": \"point\"}, \"encoding\": {\"size\": {\"field\": \"pop\", \"type\": \"quantitative\"}, \"x\": {\"field\": \"fertility\", \"type\": \"quantitative\"}, \"y\": {\"field\": \"life_expect\", \"type\": \"quantitative\"}}, \"$schema\": \"https://vega.github.io/schema/vega-lite/v5.20.1.json\", \"datasets\": {\"data-5bbc1a2d42e71c72ac9cf13ffaf6d268\": [{\"year\": 2000, \"country\": \"Afghanistan\", \"cluster\": 0, \"pop\": 23898198, \"life_expect\": 42.129, \"fertility\": 7.4792}, {\"year\": 2000, \"country\": \"Argentina\", \"cluster\": 3, \"pop\": 37497728, \"life_expect\": 74.34, \"fertility\": 2.35}, {\"year\": 2000, \"country\": \"Aruba\", \"cluster\": 3, \"pop\": 69539, \"life_expect\": 73.451, \"fertility\": 2.124}, {\"year\": 2000, \"country\": \"Australia\", \"cluster\": 4, \"pop\": 19164620, \"life_expect\": 80.37, \"fertility\": 1.756}, {\"year\": 2000, \"country\": \"Austria\", \"cluster\": 1, \"pop\": 8113413, \"life_expect\": 78.98, \"fertility\": 1.3820000000000001}, {\"year\": 2000, \"country\": \"Bahamas\", \"cluster\": 3, \"pop\": 290075, \"life_expect\": 71.068, \"fertility\": 2.1111}, {\"year\": 2000, \"country\": \"Bangladesh\", \"cluster\": 0, \"pop\": 130406594, \"life_expect\": 62.013, \"fertility\": 3.224}, {\"year\": 2000, \"country\": \"Barbados\", \"cluster\": 3, \"pop\": 273483, \"life_expect\": 75.97, \"fertility\": 1.5}, {\"year\": 2000, \"country\": \"Belgium\", \"cluster\": 1, \"pop\": 10263618, \"life_expect\": 78.32, \"fertility\": 1.638}, {\"year\": 2000, \"country\": \"Bolivia\", \"cluster\": 3, \"pop\": 8152620, \"life_expect\": 63.883, \"fertility\": 3.9585}, {\"year\": 2000, \"country\": \"Brazil\", \"cluster\": 3, \"pop\": 175552771, \"life_expect\": 71.006, \"fertility\": 2.345}, {\"year\": 2000, \"country\": \"Canada\", \"cluster\": 3, \"pop\": 31278097, \"life_expect\": 79.77, \"fertility\": 1.522}, {\"year\": 2000, \"country\": \"Chile\", \"cluster\": 3, \"pop\": 15153450, \"life_expect\": 77.86, \"fertility\": 2.0}, {\"year\": 2000, \"country\": \"China\", \"cluster\": 4, \"pop\": 1262645000, \"life_expect\": 72.028, \"fertility\": 1.7000000000000002}, {\"year\": 2000, \"country\": \"Colombia\", \"cluster\": 3, \"pop\": 39685655, \"life_expect\": 71.682, \"fertility\": 2.4705}, {\"year\": 2000, \"country\": \"Costa Rica\", \"cluster\": 3, \"pop\": 3710558, \"life_expect\": 78.123, \"fertility\": 2.2815}, {\"year\": 2000, \"country\": \"Croatia\", \"cluster\": 1, \"pop\": 4410830, \"life_expect\": 74.876, \"fertility\": 1.348}, {\"year\": 2000, \"country\": \"Cuba\", \"cluster\": 3, \"pop\": 11134273, \"life_expect\": 77.158, \"fertility\": 1.63}, {\"year\": 2000, \"country\": \"Dominican Republic\", \"cluster\": 3, \"pop\": 8385828, \"life_expect\": 70.847, \"fertility\": 2.95}, {\"year\": 2000, \"country\": \"Ecuador\", \"cluster\": 3, \"pop\": 12505204, \"life_expect\": 74.173, \"fertility\": 2.8175}, {\"year\": 2000, \"country\": \"Egypt\", \"cluster\": 5, \"pop\": 70492342, \"life_expect\": 69.806, \"fertility\": 3.174}, {\"year\": 2000, \"country\": \"El Salvador\", \"cluster\": 3, \"pop\": 6122515, \"life_expect\": 70.734, \"fertility\": 2.883}, {\"year\": 2000, \"country\": \"Finland\", \"cluster\": 1, \"pop\": 5168595, \"life_expect\": 78.37, \"fertility\": 1.754}, {\"year\": 2000, \"country\": \"France\", \"cluster\": 1, \"pop\": 59381628, \"life_expect\": 79.59, \"fertility\": 1.8833000000000002}, {\"year\": 2000, \"country\": \"Georgia\", \"cluster\": 1, \"pop\": 4777209, \"life_expect\": 70.476, \"fertility\": 1.478}, {\"year\": 2000, \"country\": \"Germany\", \"cluster\": 1, \"pop\": 82187909, \"life_expect\": 78.67, \"fertility\": 1.346}, {\"year\": 2000, \"country\": \"Greece\", \"cluster\": 1, \"pop\": 10559110, \"life_expect\": 78.256, \"fertility\": 1.2770000000000001}, {\"year\": 2000, \"country\": \"Grenada\", \"cluster\": 3, \"pop\": 89312, \"life_expect\": 67.746, \"fertility\": 2.429}, {\"year\": 2000, \"country\": \"Haiti\", \"cluster\": 3, \"pop\": 7306302, \"life_expect\": 58.137, \"fertility\": 4.0}, {\"year\": 2000, \"country\": \"Hong Kong\", \"cluster\": 4, \"pop\": 6658720, \"life_expect\": 81.495, \"fertility\": 0.9400000000000001}, {\"year\": 2000, \"country\": \"Iceland\", \"cluster\": 1, \"pop\": 281043, \"life_expect\": 80.5, \"fertility\": 1.9929999999999999}, {\"year\": 2000, \"country\": \"India\", \"cluster\": 0, \"pop\": 1007702000, \"life_expect\": 62.879, \"fertility\": 3.1132}, {\"year\": 2000, \"country\": \"Indonesia\", \"cluster\": 4, \"pop\": 206265000, \"life_expect\": 68.588, \"fertility\": 2.3761}, {\"year\": 2000, \"country\": \"Iran\", \"cluster\": 5, \"pop\": 65660289, \"life_expect\": 69.451, \"fertility\": 2.124}, {\"year\": 2000, \"country\": \"Iraq\", \"cluster\": 5, \"pop\": 22675617, \"life_expect\": 57.046, \"fertility\": 4.858}, {\"year\": 2000, \"country\": \"Ireland\", \"cluster\": 1, \"pop\": 3791690, \"life_expect\": 77.783, \"fertility\": 1.9689999999999999}, {\"year\": 2000, \"country\": \"Israel\", \"cluster\": 5, \"pop\": 5842454, \"life_expect\": 79.696, \"fertility\": 2.906}, {\"year\": 2000, \"country\": \"Italy\", \"cluster\": 1, \"pop\": 57719337, \"life_expect\": 80.24, \"fertility\": 1.286}, {\"year\": 2000, \"country\": \"Jamaica\", \"cluster\": 3, \"pop\": 2615467, \"life_expect\": 72.047, \"fertility\": 2.628}, {\"year\": 2000, \"country\": \"Japan\", \"cluster\": 4, \"pop\": 126699784, \"life_expect\": 82.0, \"fertility\": 1.291}, {\"year\": 2000, \"country\": \"Kenya\", \"cluster\": 2, \"pop\": 29985839, \"life_expect\": 50.992, \"fertility\": 5.0}, {\"year\": 2000, \"country\": \"South Korea\", \"cluster\": 4, \"pop\": 21647682, \"life_expect\": 66.662, \"fertility\": 1.9173}, {\"year\": 2000, \"country\": \"North Korea\", \"cluster\": 4, \"pop\": 47351083, \"life_expect\": 77.045, \"fertility\": 1.242}, {\"year\": 2000, \"country\": \"Lebanon\", \"cluster\": 5, \"pop\": 3578036, \"life_expect\": 71.028, \"fertility\": 2.319}, {\"year\": 2000, \"country\": \"Mexico\", \"cluster\": 3, \"pop\": 99926620, \"life_expect\": 74.902, \"fertility\": 2.4005}, {\"year\": 2000, \"country\": \"Netherlands\", \"cluster\": 1, \"pop\": 15907853, \"life_expect\": 78.53, \"fertility\": 1.726}, {\"year\": 2000, \"country\": \"New Zealand\", \"cluster\": 4, \"pop\": 3819762, \"life_expect\": 79.11, \"fertility\": 1.964}, {\"year\": 2000, \"country\": \"Nigeria\", \"cluster\": 2, \"pop\": 114306700, \"life_expect\": 46.608, \"fertility\": 5.845}, {\"year\": 2000, \"country\": \"Norway\", \"cluster\": 1, \"pop\": 4492400, \"life_expect\": 79.05, \"fertility\": 1.8010000000000002}, {\"year\": 2000, \"country\": \"Pakistan\", \"cluster\": 0, \"pop\": 146342958, \"life_expect\": 63.61, \"fertility\": 3.9936}, {\"year\": 2000, \"country\": \"Peru\", \"cluster\": 3, \"pop\": 25979722, \"life_expect\": 69.906, \"fertility\": 2.7005}, {\"year\": 2000, \"country\": \"Philippines\", \"cluster\": 4, \"pop\": 79739825, \"life_expect\": 70.303, \"fertility\": 3.5436}, {\"year\": 2000, \"country\": \"Poland\", \"cluster\": 1, \"pop\": 38654164, \"life_expect\": 74.67, \"fertility\": 1.251}, {\"year\": 2000, \"country\": \"Portugal\", \"cluster\": 1, \"pop\": 10335597, \"life_expect\": 77.29, \"fertility\": 1.454}, {\"year\": 2000, \"country\": \"Rwanda\", \"cluster\": 2, \"pop\": 7507056, \"life_expect\": 43.413, \"fertility\": 6.01}, {\"year\": 2000, \"country\": \"Saudi Arabia\", \"cluster\": 5, \"pop\": 23153090, \"life_expect\": 71.626, \"fertility\": 3.81}, {\"year\": 2000, \"country\": \"South Africa\", \"cluster\": 2, \"pop\": 44066197, \"life_expect\": 53.365, \"fertility\": 2.802}, {\"year\": 2000, \"country\": \"Spain\", \"cluster\": 1, \"pop\": 40016081, \"life_expect\": 79.78, \"fertility\": 1.287}, {\"year\": 2000, \"country\": \"Switzerland\", \"cluster\": 1, \"pop\": 7266920, \"life_expect\": 80.62, \"fertility\": 1.415}, {\"year\": 2000, \"country\": \"Turkey\", \"cluster\": 1, \"pop\": 65666677, \"life_expect\": 70.845, \"fertility\": 2.23}, {\"year\": 2000, \"country\": \"United Kingdom\", \"cluster\": 1, \"pop\": 59522468, \"life_expect\": 78.471, \"fertility\": 1.695}, {\"year\": 2000, \"country\": \"United States\", \"cluster\": 3, \"pop\": 282338631, \"life_expect\": 77.31, \"fertility\": 2.038}, {\"year\": 2000, \"country\": \"Venezuela\", \"cluster\": 3, \"pop\": 23542649, \"life_expect\": 72.766, \"fertility\": 2.723}]}}, {\"mode\": \"vega-lite\"});\n",
       "</script>"
      ],
      "text/plain": [
       "alt.Chart(...)"
      ]
     },
     "metadata": {},
     "output_type": "display_data"
    }
   ],
   "source": [
    "alt.Chart(data2000).mark_point().encode(\n",
    "    alt.X('fertility:Q'),\n",
    "    alt.Y('life_expect:Q'),\n",
    "    alt.Size('pop:Q')\n",
    ")"
   ]
  },
  {
   "cell_type": "markdown",
   "metadata": {},
   "source": [
    "Em alguns casos, podemos ficar insatifeitos com o tamanho do intervalo padrão. Para definir um intervalo de tamanho personalizado, configuramos o parâmetro `range` do atributo `scale` em um vetor indicando os maiores e os menores tamanhos. Aqui nós iremos aprimorar o tamanho da codificação para o intervalo de 0 a 1000 pixels(valor máximo no domínio da escala):"
   ]
  },
  {
   "cell_type": "code",
   "execution_count": null,
   "metadata": {},
   "outputs": [
    {
     "data": {
      "text/html": [
       "\n",
       "<style>\n",
       "  #altair-viz-e20c533bdc48419994d8836a438e69c6.vega-embed {\n",
       "    width: 100%;\n",
       "    display: flex;\n",
       "  }\n",
       "\n",
       "  #altair-viz-e20c533bdc48419994d8836a438e69c6.vega-embed details,\n",
       "  #altair-viz-e20c533bdc48419994d8836a438e69c6.vega-embed details summary {\n",
       "    position: relative;\n",
       "  }\n",
       "</style>\n",
       "<div id=\"altair-viz-e20c533bdc48419994d8836a438e69c6\"></div>\n",
       "<script type=\"text/javascript\">\n",
       "  var VEGA_DEBUG = (typeof VEGA_DEBUG == \"undefined\") ? {} : VEGA_DEBUG;\n",
       "  (function(spec, embedOpt){\n",
       "    let outputDiv = document.currentScript.previousElementSibling;\n",
       "    if (outputDiv.id !== \"altair-viz-e20c533bdc48419994d8836a438e69c6\") {\n",
       "      outputDiv = document.getElementById(\"altair-viz-e20c533bdc48419994d8836a438e69c6\");\n",
       "    }\n",
       "\n",
       "    const paths = {\n",
       "      \"vega\": \"https://cdn.jsdelivr.net/npm/vega@5?noext\",\n",
       "      \"vega-lib\": \"https://cdn.jsdelivr.net/npm/vega-lib?noext\",\n",
       "      \"vega-lite\": \"https://cdn.jsdelivr.net/npm/vega-lite@5.20.1?noext\",\n",
       "      \"vega-embed\": \"https://cdn.jsdelivr.net/npm/vega-embed@6?noext\",\n",
       "    };\n",
       "\n",
       "    function maybeLoadScript(lib, version) {\n",
       "      var key = `${lib.replace(\"-\", \"\")}_version`;\n",
       "      return (VEGA_DEBUG[key] == version) ?\n",
       "        Promise.resolve(paths[lib]) :\n",
       "        new Promise(function(resolve, reject) {\n",
       "          var s = document.createElement('script');\n",
       "          document.getElementsByTagName(\"head\")[0].appendChild(s);\n",
       "          s.async = true;\n",
       "          s.onload = () => {\n",
       "            VEGA_DEBUG[key] = version;\n",
       "            return resolve(paths[lib]);\n",
       "          };\n",
       "          s.onerror = () => reject(`Error loading script: ${paths[lib]}`);\n",
       "          s.src = paths[lib];\n",
       "        });\n",
       "    }\n",
       "\n",
       "    function showError(err) {\n",
       "      outputDiv.innerHTML = `<div class=\"error\" style=\"color:red;\">${err}</div>`;\n",
       "      throw err;\n",
       "    }\n",
       "\n",
       "    function displayChart(vegaEmbed) {\n",
       "      vegaEmbed(outputDiv, spec, embedOpt)\n",
       "        .catch(err => showError(`Javascript Error: ${err.message}<br>This usually means there's a typo in your chart specification. See the javascript console for the full traceback.`));\n",
       "    }\n",
       "\n",
       "    if(typeof define === \"function\" && define.amd) {\n",
       "      requirejs.config({paths});\n",
       "      let deps = [\"vega-embed\"];\n",
       "      require(deps, displayChart, err => showError(`Error loading script: ${err.message}`));\n",
       "    } else {\n",
       "      maybeLoadScript(\"vega\", \"5\")\n",
       "        .then(() => maybeLoadScript(\"vega-lite\", \"5.20.1\"))\n",
       "        .then(() => maybeLoadScript(\"vega-embed\", \"6\"))\n",
       "        .catch(showError)\n",
       "        .then(() => displayChart(vegaEmbed));\n",
       "    }\n",
       "  })({\"config\": {\"view\": {\"continuousWidth\": 300, \"continuousHeight\": 300}}, \"data\": {\"name\": \"data-5bbc1a2d42e71c72ac9cf13ffaf6d268\"}, \"mark\": {\"type\": \"point\"}, \"encoding\": {\"size\": {\"field\": \"pop\", \"scale\": {\"range\": [0, 1000]}, \"type\": \"quantitative\"}, \"x\": {\"field\": \"fertility\", \"type\": \"quantitative\"}, \"y\": {\"field\": \"life_expect\", \"type\": \"quantitative\"}}, \"$schema\": \"https://vega.github.io/schema/vega-lite/v5.20.1.json\", \"datasets\": {\"data-5bbc1a2d42e71c72ac9cf13ffaf6d268\": [{\"year\": 2000, \"country\": \"Afghanistan\", \"cluster\": 0, \"pop\": 23898198, \"life_expect\": 42.129, \"fertility\": 7.4792}, {\"year\": 2000, \"country\": \"Argentina\", \"cluster\": 3, \"pop\": 37497728, \"life_expect\": 74.34, \"fertility\": 2.35}, {\"year\": 2000, \"country\": \"Aruba\", \"cluster\": 3, \"pop\": 69539, \"life_expect\": 73.451, \"fertility\": 2.124}, {\"year\": 2000, \"country\": \"Australia\", \"cluster\": 4, \"pop\": 19164620, \"life_expect\": 80.37, \"fertility\": 1.756}, {\"year\": 2000, \"country\": \"Austria\", \"cluster\": 1, \"pop\": 8113413, \"life_expect\": 78.98, \"fertility\": 1.3820000000000001}, {\"year\": 2000, \"country\": \"Bahamas\", \"cluster\": 3, \"pop\": 290075, \"life_expect\": 71.068, \"fertility\": 2.1111}, {\"year\": 2000, \"country\": \"Bangladesh\", \"cluster\": 0, \"pop\": 130406594, \"life_expect\": 62.013, \"fertility\": 3.224}, {\"year\": 2000, \"country\": \"Barbados\", \"cluster\": 3, \"pop\": 273483, \"life_expect\": 75.97, \"fertility\": 1.5}, {\"year\": 2000, \"country\": \"Belgium\", \"cluster\": 1, \"pop\": 10263618, \"life_expect\": 78.32, \"fertility\": 1.638}, {\"year\": 2000, \"country\": \"Bolivia\", \"cluster\": 3, \"pop\": 8152620, \"life_expect\": 63.883, \"fertility\": 3.9585}, {\"year\": 2000, \"country\": \"Brazil\", \"cluster\": 3, \"pop\": 175552771, \"life_expect\": 71.006, \"fertility\": 2.345}, {\"year\": 2000, \"country\": \"Canada\", \"cluster\": 3, \"pop\": 31278097, \"life_expect\": 79.77, \"fertility\": 1.522}, {\"year\": 2000, \"country\": \"Chile\", \"cluster\": 3, \"pop\": 15153450, \"life_expect\": 77.86, \"fertility\": 2.0}, {\"year\": 2000, \"country\": \"China\", \"cluster\": 4, \"pop\": 1262645000, \"life_expect\": 72.028, \"fertility\": 1.7000000000000002}, {\"year\": 2000, \"country\": \"Colombia\", \"cluster\": 3, \"pop\": 39685655, \"life_expect\": 71.682, \"fertility\": 2.4705}, {\"year\": 2000, \"country\": \"Costa Rica\", \"cluster\": 3, \"pop\": 3710558, \"life_expect\": 78.123, \"fertility\": 2.2815}, {\"year\": 2000, \"country\": \"Croatia\", \"cluster\": 1, \"pop\": 4410830, \"life_expect\": 74.876, \"fertility\": 1.348}, {\"year\": 2000, \"country\": \"Cuba\", \"cluster\": 3, \"pop\": 11134273, \"life_expect\": 77.158, \"fertility\": 1.63}, {\"year\": 2000, \"country\": \"Dominican Republic\", \"cluster\": 3, \"pop\": 8385828, \"life_expect\": 70.847, \"fertility\": 2.95}, {\"year\": 2000, \"country\": \"Ecuador\", \"cluster\": 3, \"pop\": 12505204, \"life_expect\": 74.173, \"fertility\": 2.8175}, {\"year\": 2000, \"country\": \"Egypt\", \"cluster\": 5, \"pop\": 70492342, \"life_expect\": 69.806, \"fertility\": 3.174}, {\"year\": 2000, \"country\": \"El Salvador\", \"cluster\": 3, \"pop\": 6122515, \"life_expect\": 70.734, \"fertility\": 2.883}, {\"year\": 2000, \"country\": \"Finland\", \"cluster\": 1, \"pop\": 5168595, \"life_expect\": 78.37, \"fertility\": 1.754}, {\"year\": 2000, \"country\": \"France\", \"cluster\": 1, \"pop\": 59381628, \"life_expect\": 79.59, \"fertility\": 1.8833000000000002}, {\"year\": 2000, \"country\": \"Georgia\", \"cluster\": 1, \"pop\": 4777209, \"life_expect\": 70.476, \"fertility\": 1.478}, {\"year\": 2000, \"country\": \"Germany\", \"cluster\": 1, \"pop\": 82187909, \"life_expect\": 78.67, \"fertility\": 1.346}, {\"year\": 2000, \"country\": \"Greece\", \"cluster\": 1, \"pop\": 10559110, \"life_expect\": 78.256, \"fertility\": 1.2770000000000001}, {\"year\": 2000, \"country\": \"Grenada\", \"cluster\": 3, \"pop\": 89312, \"life_expect\": 67.746, \"fertility\": 2.429}, {\"year\": 2000, \"country\": \"Haiti\", \"cluster\": 3, \"pop\": 7306302, \"life_expect\": 58.137, \"fertility\": 4.0}, {\"year\": 2000, \"country\": \"Hong Kong\", \"cluster\": 4, \"pop\": 6658720, \"life_expect\": 81.495, \"fertility\": 0.9400000000000001}, {\"year\": 2000, \"country\": \"Iceland\", \"cluster\": 1, \"pop\": 281043, \"life_expect\": 80.5, \"fertility\": 1.9929999999999999}, {\"year\": 2000, \"country\": \"India\", \"cluster\": 0, \"pop\": 1007702000, \"life_expect\": 62.879, \"fertility\": 3.1132}, {\"year\": 2000, \"country\": \"Indonesia\", \"cluster\": 4, \"pop\": 206265000, \"life_expect\": 68.588, \"fertility\": 2.3761}, {\"year\": 2000, \"country\": \"Iran\", \"cluster\": 5, \"pop\": 65660289, \"life_expect\": 69.451, \"fertility\": 2.124}, {\"year\": 2000, \"country\": \"Iraq\", \"cluster\": 5, \"pop\": 22675617, \"life_expect\": 57.046, \"fertility\": 4.858}, {\"year\": 2000, \"country\": \"Ireland\", \"cluster\": 1, \"pop\": 3791690, \"life_expect\": 77.783, \"fertility\": 1.9689999999999999}, {\"year\": 2000, \"country\": \"Israel\", \"cluster\": 5, \"pop\": 5842454, \"life_expect\": 79.696, \"fertility\": 2.906}, {\"year\": 2000, \"country\": \"Italy\", \"cluster\": 1, \"pop\": 57719337, \"life_expect\": 80.24, \"fertility\": 1.286}, {\"year\": 2000, \"country\": \"Jamaica\", \"cluster\": 3, \"pop\": 2615467, \"life_expect\": 72.047, \"fertility\": 2.628}, {\"year\": 2000, \"country\": \"Japan\", \"cluster\": 4, \"pop\": 126699784, \"life_expect\": 82.0, \"fertility\": 1.291}, {\"year\": 2000, \"country\": \"Kenya\", \"cluster\": 2, \"pop\": 29985839, \"life_expect\": 50.992, \"fertility\": 5.0}, {\"year\": 2000, \"country\": \"South Korea\", \"cluster\": 4, \"pop\": 21647682, \"life_expect\": 66.662, \"fertility\": 1.9173}, {\"year\": 2000, \"country\": \"North Korea\", \"cluster\": 4, \"pop\": 47351083, \"life_expect\": 77.045, \"fertility\": 1.242}, {\"year\": 2000, \"country\": \"Lebanon\", \"cluster\": 5, \"pop\": 3578036, \"life_expect\": 71.028, \"fertility\": 2.319}, {\"year\": 2000, \"country\": \"Mexico\", \"cluster\": 3, \"pop\": 99926620, \"life_expect\": 74.902, \"fertility\": 2.4005}, {\"year\": 2000, \"country\": \"Netherlands\", \"cluster\": 1, \"pop\": 15907853, \"life_expect\": 78.53, \"fertility\": 1.726}, {\"year\": 2000, \"country\": \"New Zealand\", \"cluster\": 4, \"pop\": 3819762, \"life_expect\": 79.11, \"fertility\": 1.964}, {\"year\": 2000, \"country\": \"Nigeria\", \"cluster\": 2, \"pop\": 114306700, \"life_expect\": 46.608, \"fertility\": 5.845}, {\"year\": 2000, \"country\": \"Norway\", \"cluster\": 1, \"pop\": 4492400, \"life_expect\": 79.05, \"fertility\": 1.8010000000000002}, {\"year\": 2000, \"country\": \"Pakistan\", \"cluster\": 0, \"pop\": 146342958, \"life_expect\": 63.61, \"fertility\": 3.9936}, {\"year\": 2000, \"country\": \"Peru\", \"cluster\": 3, \"pop\": 25979722, \"life_expect\": 69.906, \"fertility\": 2.7005}, {\"year\": 2000, \"country\": \"Philippines\", \"cluster\": 4, \"pop\": 79739825, \"life_expect\": 70.303, \"fertility\": 3.5436}, {\"year\": 2000, \"country\": \"Poland\", \"cluster\": 1, \"pop\": 38654164, \"life_expect\": 74.67, \"fertility\": 1.251}, {\"year\": 2000, \"country\": \"Portugal\", \"cluster\": 1, \"pop\": 10335597, \"life_expect\": 77.29, \"fertility\": 1.454}, {\"year\": 2000, \"country\": \"Rwanda\", \"cluster\": 2, \"pop\": 7507056, \"life_expect\": 43.413, \"fertility\": 6.01}, {\"year\": 2000, \"country\": \"Saudi Arabia\", \"cluster\": 5, \"pop\": 23153090, \"life_expect\": 71.626, \"fertility\": 3.81}, {\"year\": 2000, \"country\": \"South Africa\", \"cluster\": 2, \"pop\": 44066197, \"life_expect\": 53.365, \"fertility\": 2.802}, {\"year\": 2000, \"country\": \"Spain\", \"cluster\": 1, \"pop\": 40016081, \"life_expect\": 79.78, \"fertility\": 1.287}, {\"year\": 2000, \"country\": \"Switzerland\", \"cluster\": 1, \"pop\": 7266920, \"life_expect\": 80.62, \"fertility\": 1.415}, {\"year\": 2000, \"country\": \"Turkey\", \"cluster\": 1, \"pop\": 65666677, \"life_expect\": 70.845, \"fertility\": 2.23}, {\"year\": 2000, \"country\": \"United Kingdom\", \"cluster\": 1, \"pop\": 59522468, \"life_expect\": 78.471, \"fertility\": 1.695}, {\"year\": 2000, \"country\": \"United States\", \"cluster\": 3, \"pop\": 282338631, \"life_expect\": 77.31, \"fertility\": 2.038}, {\"year\": 2000, \"country\": \"Venezuela\", \"cluster\": 3, \"pop\": 23542649, \"life_expect\": 72.766, \"fertility\": 2.723}]}}, {\"mode\": \"vega-lite\"});\n",
       "</script>"
      ],
      "text/plain": [
       "alt.Chart(...)"
      ]
     },
     "metadata": {},
     "output_type": "display_data"
    }
   ],
   "source": [
    "alt.Chart(data2000).mark_point().encode(\n",
    "    alt.X('fertility:Q'),\n",
    "    alt.Y('life_expect:Q'),\n",
    "    alt.Size('pop:Q', scale=alt.Scale(range=[0,1000]))\n",
    ")"
   ]
  },
  {
   "cell_type": "markdown",
   "metadata": {},
   "source": [
    "### 2.3.4. Cor e Opacidade\n",
    "\n",
    "O canal de codificação `color` define a cor da marca. O estilo da codificação `color` depende fortemente do tipo de dado: dados nominais seguem, por padrão, um esquema de cores qualitativas multicolorido, enquanto dados ordinais e quantitativos utilizam gradientes de cores perceptualmente ordenados.\n",
    "\n",
    "Aqui, codificamos o campo `cluster` usando o canal `color` e o tipo de dado nominal (`N`), o que resulta em uma matiz distinta para cada valor do cluster. Você consegue adivinhar o que o campo cluster pode indicar?"
   ]
  },
  {
   "cell_type": "code",
   "execution_count": null,
   "metadata": {},
   "outputs": [
    {
     "data": {
      "text/html": [
       "\n",
       "<style>\n",
       "  #altair-viz-764e4c19a90343a1a899839f3266e115.vega-embed {\n",
       "    width: 100%;\n",
       "    display: flex;\n",
       "  }\n",
       "\n",
       "  #altair-viz-764e4c19a90343a1a899839f3266e115.vega-embed details,\n",
       "  #altair-viz-764e4c19a90343a1a899839f3266e115.vega-embed details summary {\n",
       "    position: relative;\n",
       "  }\n",
       "</style>\n",
       "<div id=\"altair-viz-764e4c19a90343a1a899839f3266e115\"></div>\n",
       "<script type=\"text/javascript\">\n",
       "  var VEGA_DEBUG = (typeof VEGA_DEBUG == \"undefined\") ? {} : VEGA_DEBUG;\n",
       "  (function(spec, embedOpt){\n",
       "    let outputDiv = document.currentScript.previousElementSibling;\n",
       "    if (outputDiv.id !== \"altair-viz-764e4c19a90343a1a899839f3266e115\") {\n",
       "      outputDiv = document.getElementById(\"altair-viz-764e4c19a90343a1a899839f3266e115\");\n",
       "    }\n",
       "\n",
       "    const paths = {\n",
       "      \"vega\": \"https://cdn.jsdelivr.net/npm/vega@5?noext\",\n",
       "      \"vega-lib\": \"https://cdn.jsdelivr.net/npm/vega-lib?noext\",\n",
       "      \"vega-lite\": \"https://cdn.jsdelivr.net/npm/vega-lite@5.20.1?noext\",\n",
       "      \"vega-embed\": \"https://cdn.jsdelivr.net/npm/vega-embed@6?noext\",\n",
       "    };\n",
       "\n",
       "    function maybeLoadScript(lib, version) {\n",
       "      var key = `${lib.replace(\"-\", \"\")}_version`;\n",
       "      return (VEGA_DEBUG[key] == version) ?\n",
       "        Promise.resolve(paths[lib]) :\n",
       "        new Promise(function(resolve, reject) {\n",
       "          var s = document.createElement('script');\n",
       "          document.getElementsByTagName(\"head\")[0].appendChild(s);\n",
       "          s.async = true;\n",
       "          s.onload = () => {\n",
       "            VEGA_DEBUG[key] = version;\n",
       "            return resolve(paths[lib]);\n",
       "          };\n",
       "          s.onerror = () => reject(`Error loading script: ${paths[lib]}`);\n",
       "          s.src = paths[lib];\n",
       "        });\n",
       "    }\n",
       "\n",
       "    function showError(err) {\n",
       "      outputDiv.innerHTML = `<div class=\"error\" style=\"color:red;\">${err}</div>`;\n",
       "      throw err;\n",
       "    }\n",
       "\n",
       "    function displayChart(vegaEmbed) {\n",
       "      vegaEmbed(outputDiv, spec, embedOpt)\n",
       "        .catch(err => showError(`Javascript Error: ${err.message}<br>This usually means there's a typo in your chart specification. See the javascript console for the full traceback.`));\n",
       "    }\n",
       "\n",
       "    if(typeof define === \"function\" && define.amd) {\n",
       "      requirejs.config({paths});\n",
       "      let deps = [\"vega-embed\"];\n",
       "      require(deps, displayChart, err => showError(`Error loading script: ${err.message}`));\n",
       "    } else {\n",
       "      maybeLoadScript(\"vega\", \"5\")\n",
       "        .then(() => maybeLoadScript(\"vega-lite\", \"5.20.1\"))\n",
       "        .then(() => maybeLoadScript(\"vega-embed\", \"6\"))\n",
       "        .catch(showError)\n",
       "        .then(() => displayChart(vegaEmbed));\n",
       "    }\n",
       "  })({\"config\": {\"view\": {\"continuousWidth\": 300, \"continuousHeight\": 300}}, \"data\": {\"name\": \"data-5bbc1a2d42e71c72ac9cf13ffaf6d268\"}, \"mark\": {\"type\": \"point\"}, \"encoding\": {\"color\": {\"field\": \"cluster\", \"type\": \"nominal\"}, \"size\": {\"field\": \"pop\", \"scale\": {\"range\": [0, 1000]}, \"type\": \"quantitative\"}, \"x\": {\"field\": \"fertility\", \"type\": \"quantitative\"}, \"y\": {\"field\": \"life_expect\", \"type\": \"quantitative\"}}, \"$schema\": \"https://vega.github.io/schema/vega-lite/v5.20.1.json\", \"datasets\": {\"data-5bbc1a2d42e71c72ac9cf13ffaf6d268\": [{\"year\": 2000, \"country\": \"Afghanistan\", \"cluster\": 0, \"pop\": 23898198, \"life_expect\": 42.129, \"fertility\": 7.4792}, {\"year\": 2000, \"country\": \"Argentina\", \"cluster\": 3, \"pop\": 37497728, \"life_expect\": 74.34, \"fertility\": 2.35}, {\"year\": 2000, \"country\": \"Aruba\", \"cluster\": 3, \"pop\": 69539, \"life_expect\": 73.451, \"fertility\": 2.124}, {\"year\": 2000, \"country\": \"Australia\", \"cluster\": 4, \"pop\": 19164620, \"life_expect\": 80.37, \"fertility\": 1.756}, {\"year\": 2000, \"country\": \"Austria\", \"cluster\": 1, \"pop\": 8113413, \"life_expect\": 78.98, \"fertility\": 1.3820000000000001}, {\"year\": 2000, \"country\": \"Bahamas\", \"cluster\": 3, \"pop\": 290075, \"life_expect\": 71.068, \"fertility\": 2.1111}, {\"year\": 2000, \"country\": \"Bangladesh\", \"cluster\": 0, \"pop\": 130406594, \"life_expect\": 62.013, \"fertility\": 3.224}, {\"year\": 2000, \"country\": \"Barbados\", \"cluster\": 3, \"pop\": 273483, \"life_expect\": 75.97, \"fertility\": 1.5}, {\"year\": 2000, \"country\": \"Belgium\", \"cluster\": 1, \"pop\": 10263618, \"life_expect\": 78.32, \"fertility\": 1.638}, {\"year\": 2000, \"country\": \"Bolivia\", \"cluster\": 3, \"pop\": 8152620, \"life_expect\": 63.883, \"fertility\": 3.9585}, {\"year\": 2000, \"country\": \"Brazil\", \"cluster\": 3, \"pop\": 175552771, \"life_expect\": 71.006, \"fertility\": 2.345}, {\"year\": 2000, \"country\": \"Canada\", \"cluster\": 3, \"pop\": 31278097, \"life_expect\": 79.77, \"fertility\": 1.522}, {\"year\": 2000, \"country\": \"Chile\", \"cluster\": 3, \"pop\": 15153450, \"life_expect\": 77.86, \"fertility\": 2.0}, {\"year\": 2000, \"country\": \"China\", \"cluster\": 4, \"pop\": 1262645000, \"life_expect\": 72.028, \"fertility\": 1.7000000000000002}, {\"year\": 2000, \"country\": \"Colombia\", \"cluster\": 3, \"pop\": 39685655, \"life_expect\": 71.682, \"fertility\": 2.4705}, {\"year\": 2000, \"country\": \"Costa Rica\", \"cluster\": 3, \"pop\": 3710558, \"life_expect\": 78.123, \"fertility\": 2.2815}, {\"year\": 2000, \"country\": \"Croatia\", \"cluster\": 1, \"pop\": 4410830, \"life_expect\": 74.876, \"fertility\": 1.348}, {\"year\": 2000, \"country\": \"Cuba\", \"cluster\": 3, \"pop\": 11134273, \"life_expect\": 77.158, \"fertility\": 1.63}, {\"year\": 2000, \"country\": \"Dominican Republic\", \"cluster\": 3, \"pop\": 8385828, \"life_expect\": 70.847, \"fertility\": 2.95}, {\"year\": 2000, \"country\": \"Ecuador\", \"cluster\": 3, \"pop\": 12505204, \"life_expect\": 74.173, \"fertility\": 2.8175}, {\"year\": 2000, \"country\": \"Egypt\", \"cluster\": 5, \"pop\": 70492342, \"life_expect\": 69.806, \"fertility\": 3.174}, {\"year\": 2000, \"country\": \"El Salvador\", \"cluster\": 3, \"pop\": 6122515, \"life_expect\": 70.734, \"fertility\": 2.883}, {\"year\": 2000, \"country\": \"Finland\", \"cluster\": 1, \"pop\": 5168595, \"life_expect\": 78.37, \"fertility\": 1.754}, {\"year\": 2000, \"country\": \"France\", \"cluster\": 1, \"pop\": 59381628, \"life_expect\": 79.59, \"fertility\": 1.8833000000000002}, {\"year\": 2000, \"country\": \"Georgia\", \"cluster\": 1, \"pop\": 4777209, \"life_expect\": 70.476, \"fertility\": 1.478}, {\"year\": 2000, \"country\": \"Germany\", \"cluster\": 1, \"pop\": 82187909, \"life_expect\": 78.67, \"fertility\": 1.346}, {\"year\": 2000, \"country\": \"Greece\", \"cluster\": 1, \"pop\": 10559110, \"life_expect\": 78.256, \"fertility\": 1.2770000000000001}, {\"year\": 2000, \"country\": \"Grenada\", \"cluster\": 3, \"pop\": 89312, \"life_expect\": 67.746, \"fertility\": 2.429}, {\"year\": 2000, \"country\": \"Haiti\", \"cluster\": 3, \"pop\": 7306302, \"life_expect\": 58.137, \"fertility\": 4.0}, {\"year\": 2000, \"country\": \"Hong Kong\", \"cluster\": 4, \"pop\": 6658720, \"life_expect\": 81.495, \"fertility\": 0.9400000000000001}, {\"year\": 2000, \"country\": \"Iceland\", \"cluster\": 1, \"pop\": 281043, \"life_expect\": 80.5, \"fertility\": 1.9929999999999999}, {\"year\": 2000, \"country\": \"India\", \"cluster\": 0, \"pop\": 1007702000, \"life_expect\": 62.879, \"fertility\": 3.1132}, {\"year\": 2000, \"country\": \"Indonesia\", \"cluster\": 4, \"pop\": 206265000, \"life_expect\": 68.588, \"fertility\": 2.3761}, {\"year\": 2000, \"country\": \"Iran\", \"cluster\": 5, \"pop\": 65660289, \"life_expect\": 69.451, \"fertility\": 2.124}, {\"year\": 2000, \"country\": \"Iraq\", \"cluster\": 5, \"pop\": 22675617, \"life_expect\": 57.046, \"fertility\": 4.858}, {\"year\": 2000, \"country\": \"Ireland\", \"cluster\": 1, \"pop\": 3791690, \"life_expect\": 77.783, \"fertility\": 1.9689999999999999}, {\"year\": 2000, \"country\": \"Israel\", \"cluster\": 5, \"pop\": 5842454, \"life_expect\": 79.696, \"fertility\": 2.906}, {\"year\": 2000, \"country\": \"Italy\", \"cluster\": 1, \"pop\": 57719337, \"life_expect\": 80.24, \"fertility\": 1.286}, {\"year\": 2000, \"country\": \"Jamaica\", \"cluster\": 3, \"pop\": 2615467, \"life_expect\": 72.047, \"fertility\": 2.628}, {\"year\": 2000, \"country\": \"Japan\", \"cluster\": 4, \"pop\": 126699784, \"life_expect\": 82.0, \"fertility\": 1.291}, {\"year\": 2000, \"country\": \"Kenya\", \"cluster\": 2, \"pop\": 29985839, \"life_expect\": 50.992, \"fertility\": 5.0}, {\"year\": 2000, \"country\": \"South Korea\", \"cluster\": 4, \"pop\": 21647682, \"life_expect\": 66.662, \"fertility\": 1.9173}, {\"year\": 2000, \"country\": \"North Korea\", \"cluster\": 4, \"pop\": 47351083, \"life_expect\": 77.045, \"fertility\": 1.242}, {\"year\": 2000, \"country\": \"Lebanon\", \"cluster\": 5, \"pop\": 3578036, \"life_expect\": 71.028, \"fertility\": 2.319}, {\"year\": 2000, \"country\": \"Mexico\", \"cluster\": 3, \"pop\": 99926620, \"life_expect\": 74.902, \"fertility\": 2.4005}, {\"year\": 2000, \"country\": \"Netherlands\", \"cluster\": 1, \"pop\": 15907853, \"life_expect\": 78.53, \"fertility\": 1.726}, {\"year\": 2000, \"country\": \"New Zealand\", \"cluster\": 4, \"pop\": 3819762, \"life_expect\": 79.11, \"fertility\": 1.964}, {\"year\": 2000, \"country\": \"Nigeria\", \"cluster\": 2, \"pop\": 114306700, \"life_expect\": 46.608, \"fertility\": 5.845}, {\"year\": 2000, \"country\": \"Norway\", \"cluster\": 1, \"pop\": 4492400, \"life_expect\": 79.05, \"fertility\": 1.8010000000000002}, {\"year\": 2000, \"country\": \"Pakistan\", \"cluster\": 0, \"pop\": 146342958, \"life_expect\": 63.61, \"fertility\": 3.9936}, {\"year\": 2000, \"country\": \"Peru\", \"cluster\": 3, \"pop\": 25979722, \"life_expect\": 69.906, \"fertility\": 2.7005}, {\"year\": 2000, \"country\": \"Philippines\", \"cluster\": 4, \"pop\": 79739825, \"life_expect\": 70.303, \"fertility\": 3.5436}, {\"year\": 2000, \"country\": \"Poland\", \"cluster\": 1, \"pop\": 38654164, \"life_expect\": 74.67, \"fertility\": 1.251}, {\"year\": 2000, \"country\": \"Portugal\", \"cluster\": 1, \"pop\": 10335597, \"life_expect\": 77.29, \"fertility\": 1.454}, {\"year\": 2000, \"country\": \"Rwanda\", \"cluster\": 2, \"pop\": 7507056, \"life_expect\": 43.413, \"fertility\": 6.01}, {\"year\": 2000, \"country\": \"Saudi Arabia\", \"cluster\": 5, \"pop\": 23153090, \"life_expect\": 71.626, \"fertility\": 3.81}, {\"year\": 2000, \"country\": \"South Africa\", \"cluster\": 2, \"pop\": 44066197, \"life_expect\": 53.365, \"fertility\": 2.802}, {\"year\": 2000, \"country\": \"Spain\", \"cluster\": 1, \"pop\": 40016081, \"life_expect\": 79.78, \"fertility\": 1.287}, {\"year\": 2000, \"country\": \"Switzerland\", \"cluster\": 1, \"pop\": 7266920, \"life_expect\": 80.62, \"fertility\": 1.415}, {\"year\": 2000, \"country\": \"Turkey\", \"cluster\": 1, \"pop\": 65666677, \"life_expect\": 70.845, \"fertility\": 2.23}, {\"year\": 2000, \"country\": \"United Kingdom\", \"cluster\": 1, \"pop\": 59522468, \"life_expect\": 78.471, \"fertility\": 1.695}, {\"year\": 2000, \"country\": \"United States\", \"cluster\": 3, \"pop\": 282338631, \"life_expect\": 77.31, \"fertility\": 2.038}, {\"year\": 2000, \"country\": \"Venezuela\", \"cluster\": 3, \"pop\": 23542649, \"life_expect\": 72.766, \"fertility\": 2.723}]}}, {\"mode\": \"vega-lite\"});\n",
       "</script>"
      ],
      "text/plain": [
       "alt.Chart(...)"
      ]
     },
     "metadata": {},
     "output_type": "display_data"
    }
   ],
   "source": [
    "alt.Chart(data2000).mark_point().encode(\n",
    "    alt.X('fertility:Q'),\n",
    "    alt.Y('life_expect:Q'),\n",
    "    alt.Size('pop:Q', scale=alt.Scale(range=[0,1000])),\n",
    "    alt.Color('cluster:N')\n",
    ")"
   ]
  },
  {
   "cell_type": "markdown",
   "metadata": {},
   "source": [
    "Se nós preferimos formatos preenchidos. Nós podemos passar um parâmetro `filled=True` para o método `mark_point`:"
   ]
  },
  {
   "cell_type": "code",
   "execution_count": null,
   "metadata": {},
   "outputs": [
    {
     "data": {
      "text/html": [
       "\n",
       "<style>\n",
       "  #altair-viz-e57f25041f0f457ea6c51e15cb67efc0.vega-embed {\n",
       "    width: 100%;\n",
       "    display: flex;\n",
       "  }\n",
       "\n",
       "  #altair-viz-e57f25041f0f457ea6c51e15cb67efc0.vega-embed details,\n",
       "  #altair-viz-e57f25041f0f457ea6c51e15cb67efc0.vega-embed details summary {\n",
       "    position: relative;\n",
       "  }\n",
       "</style>\n",
       "<div id=\"altair-viz-e57f25041f0f457ea6c51e15cb67efc0\"></div>\n",
       "<script type=\"text/javascript\">\n",
       "  var VEGA_DEBUG = (typeof VEGA_DEBUG == \"undefined\") ? {} : VEGA_DEBUG;\n",
       "  (function(spec, embedOpt){\n",
       "    let outputDiv = document.currentScript.previousElementSibling;\n",
       "    if (outputDiv.id !== \"altair-viz-e57f25041f0f457ea6c51e15cb67efc0\") {\n",
       "      outputDiv = document.getElementById(\"altair-viz-e57f25041f0f457ea6c51e15cb67efc0\");\n",
       "    }\n",
       "\n",
       "    const paths = {\n",
       "      \"vega\": \"https://cdn.jsdelivr.net/npm/vega@5?noext\",\n",
       "      \"vega-lib\": \"https://cdn.jsdelivr.net/npm/vega-lib?noext\",\n",
       "      \"vega-lite\": \"https://cdn.jsdelivr.net/npm/vega-lite@5.20.1?noext\",\n",
       "      \"vega-embed\": \"https://cdn.jsdelivr.net/npm/vega-embed@6?noext\",\n",
       "    };\n",
       "\n",
       "    function maybeLoadScript(lib, version) {\n",
       "      var key = `${lib.replace(\"-\", \"\")}_version`;\n",
       "      return (VEGA_DEBUG[key] == version) ?\n",
       "        Promise.resolve(paths[lib]) :\n",
       "        new Promise(function(resolve, reject) {\n",
       "          var s = document.createElement('script');\n",
       "          document.getElementsByTagName(\"head\")[0].appendChild(s);\n",
       "          s.async = true;\n",
       "          s.onload = () => {\n",
       "            VEGA_DEBUG[key] = version;\n",
       "            return resolve(paths[lib]);\n",
       "          };\n",
       "          s.onerror = () => reject(`Error loading script: ${paths[lib]}`);\n",
       "          s.src = paths[lib];\n",
       "        });\n",
       "    }\n",
       "\n",
       "    function showError(err) {\n",
       "      outputDiv.innerHTML = `<div class=\"error\" style=\"color:red;\">${err}</div>`;\n",
       "      throw err;\n",
       "    }\n",
       "\n",
       "    function displayChart(vegaEmbed) {\n",
       "      vegaEmbed(outputDiv, spec, embedOpt)\n",
       "        .catch(err => showError(`Javascript Error: ${err.message}<br>This usually means there's a typo in your chart specification. See the javascript console for the full traceback.`));\n",
       "    }\n",
       "\n",
       "    if(typeof define === \"function\" && define.amd) {\n",
       "      requirejs.config({paths});\n",
       "      let deps = [\"vega-embed\"];\n",
       "      require(deps, displayChart, err => showError(`Error loading script: ${err.message}`));\n",
       "    } else {\n",
       "      maybeLoadScript(\"vega\", \"5\")\n",
       "        .then(() => maybeLoadScript(\"vega-lite\", \"5.20.1\"))\n",
       "        .then(() => maybeLoadScript(\"vega-embed\", \"6\"))\n",
       "        .catch(showError)\n",
       "        .then(() => displayChart(vegaEmbed));\n",
       "    }\n",
       "  })({\"config\": {\"view\": {\"continuousWidth\": 300, \"continuousHeight\": 300}}, \"data\": {\"name\": \"data-5bbc1a2d42e71c72ac9cf13ffaf6d268\"}, \"mark\": {\"type\": \"point\", \"filled\": true}, \"encoding\": {\"color\": {\"field\": \"cluster\", \"type\": \"nominal\"}, \"size\": {\"field\": \"pop\", \"scale\": {\"range\": [0, 1000]}, \"type\": \"quantitative\"}, \"x\": {\"field\": \"fertility\", \"type\": \"quantitative\"}, \"y\": {\"field\": \"life_expect\", \"type\": \"quantitative\"}}, \"$schema\": \"https://vega.github.io/schema/vega-lite/v5.20.1.json\", \"datasets\": {\"data-5bbc1a2d42e71c72ac9cf13ffaf6d268\": [{\"year\": 2000, \"country\": \"Afghanistan\", \"cluster\": 0, \"pop\": 23898198, \"life_expect\": 42.129, \"fertility\": 7.4792}, {\"year\": 2000, \"country\": \"Argentina\", \"cluster\": 3, \"pop\": 37497728, \"life_expect\": 74.34, \"fertility\": 2.35}, {\"year\": 2000, \"country\": \"Aruba\", \"cluster\": 3, \"pop\": 69539, \"life_expect\": 73.451, \"fertility\": 2.124}, {\"year\": 2000, \"country\": \"Australia\", \"cluster\": 4, \"pop\": 19164620, \"life_expect\": 80.37, \"fertility\": 1.756}, {\"year\": 2000, \"country\": \"Austria\", \"cluster\": 1, \"pop\": 8113413, \"life_expect\": 78.98, \"fertility\": 1.3820000000000001}, {\"year\": 2000, \"country\": \"Bahamas\", \"cluster\": 3, \"pop\": 290075, \"life_expect\": 71.068, \"fertility\": 2.1111}, {\"year\": 2000, \"country\": \"Bangladesh\", \"cluster\": 0, \"pop\": 130406594, \"life_expect\": 62.013, \"fertility\": 3.224}, {\"year\": 2000, \"country\": \"Barbados\", \"cluster\": 3, \"pop\": 273483, \"life_expect\": 75.97, \"fertility\": 1.5}, {\"year\": 2000, \"country\": \"Belgium\", \"cluster\": 1, \"pop\": 10263618, \"life_expect\": 78.32, \"fertility\": 1.638}, {\"year\": 2000, \"country\": \"Bolivia\", \"cluster\": 3, \"pop\": 8152620, \"life_expect\": 63.883, \"fertility\": 3.9585}, {\"year\": 2000, \"country\": \"Brazil\", \"cluster\": 3, \"pop\": 175552771, \"life_expect\": 71.006, \"fertility\": 2.345}, {\"year\": 2000, \"country\": \"Canada\", \"cluster\": 3, \"pop\": 31278097, \"life_expect\": 79.77, \"fertility\": 1.522}, {\"year\": 2000, \"country\": \"Chile\", \"cluster\": 3, \"pop\": 15153450, \"life_expect\": 77.86, \"fertility\": 2.0}, {\"year\": 2000, \"country\": \"China\", \"cluster\": 4, \"pop\": 1262645000, \"life_expect\": 72.028, \"fertility\": 1.7000000000000002}, {\"year\": 2000, \"country\": \"Colombia\", \"cluster\": 3, \"pop\": 39685655, \"life_expect\": 71.682, \"fertility\": 2.4705}, {\"year\": 2000, \"country\": \"Costa Rica\", \"cluster\": 3, \"pop\": 3710558, \"life_expect\": 78.123, \"fertility\": 2.2815}, {\"year\": 2000, \"country\": \"Croatia\", \"cluster\": 1, \"pop\": 4410830, \"life_expect\": 74.876, \"fertility\": 1.348}, {\"year\": 2000, \"country\": \"Cuba\", \"cluster\": 3, \"pop\": 11134273, \"life_expect\": 77.158, \"fertility\": 1.63}, {\"year\": 2000, \"country\": \"Dominican Republic\", \"cluster\": 3, \"pop\": 8385828, \"life_expect\": 70.847, \"fertility\": 2.95}, {\"year\": 2000, \"country\": \"Ecuador\", \"cluster\": 3, \"pop\": 12505204, \"life_expect\": 74.173, \"fertility\": 2.8175}, {\"year\": 2000, \"country\": \"Egypt\", \"cluster\": 5, \"pop\": 70492342, \"life_expect\": 69.806, \"fertility\": 3.174}, {\"year\": 2000, \"country\": \"El Salvador\", \"cluster\": 3, \"pop\": 6122515, \"life_expect\": 70.734, \"fertility\": 2.883}, {\"year\": 2000, \"country\": \"Finland\", \"cluster\": 1, \"pop\": 5168595, \"life_expect\": 78.37, \"fertility\": 1.754}, {\"year\": 2000, \"country\": \"France\", \"cluster\": 1, \"pop\": 59381628, \"life_expect\": 79.59, \"fertility\": 1.8833000000000002}, {\"year\": 2000, \"country\": \"Georgia\", \"cluster\": 1, \"pop\": 4777209, \"life_expect\": 70.476, \"fertility\": 1.478}, {\"year\": 2000, \"country\": \"Germany\", \"cluster\": 1, \"pop\": 82187909, \"life_expect\": 78.67, \"fertility\": 1.346}, {\"year\": 2000, \"country\": \"Greece\", \"cluster\": 1, \"pop\": 10559110, \"life_expect\": 78.256, \"fertility\": 1.2770000000000001}, {\"year\": 2000, \"country\": \"Grenada\", \"cluster\": 3, \"pop\": 89312, \"life_expect\": 67.746, \"fertility\": 2.429}, {\"year\": 2000, \"country\": \"Haiti\", \"cluster\": 3, \"pop\": 7306302, \"life_expect\": 58.137, \"fertility\": 4.0}, {\"year\": 2000, \"country\": \"Hong Kong\", \"cluster\": 4, \"pop\": 6658720, \"life_expect\": 81.495, \"fertility\": 0.9400000000000001}, {\"year\": 2000, \"country\": \"Iceland\", \"cluster\": 1, \"pop\": 281043, \"life_expect\": 80.5, \"fertility\": 1.9929999999999999}, {\"year\": 2000, \"country\": \"India\", \"cluster\": 0, \"pop\": 1007702000, \"life_expect\": 62.879, \"fertility\": 3.1132}, {\"year\": 2000, \"country\": \"Indonesia\", \"cluster\": 4, \"pop\": 206265000, \"life_expect\": 68.588, \"fertility\": 2.3761}, {\"year\": 2000, \"country\": \"Iran\", \"cluster\": 5, \"pop\": 65660289, \"life_expect\": 69.451, \"fertility\": 2.124}, {\"year\": 2000, \"country\": \"Iraq\", \"cluster\": 5, \"pop\": 22675617, \"life_expect\": 57.046, \"fertility\": 4.858}, {\"year\": 2000, \"country\": \"Ireland\", \"cluster\": 1, \"pop\": 3791690, \"life_expect\": 77.783, \"fertility\": 1.9689999999999999}, {\"year\": 2000, \"country\": \"Israel\", \"cluster\": 5, \"pop\": 5842454, \"life_expect\": 79.696, \"fertility\": 2.906}, {\"year\": 2000, \"country\": \"Italy\", \"cluster\": 1, \"pop\": 57719337, \"life_expect\": 80.24, \"fertility\": 1.286}, {\"year\": 2000, \"country\": \"Jamaica\", \"cluster\": 3, \"pop\": 2615467, \"life_expect\": 72.047, \"fertility\": 2.628}, {\"year\": 2000, \"country\": \"Japan\", \"cluster\": 4, \"pop\": 126699784, \"life_expect\": 82.0, \"fertility\": 1.291}, {\"year\": 2000, \"country\": \"Kenya\", \"cluster\": 2, \"pop\": 29985839, \"life_expect\": 50.992, \"fertility\": 5.0}, {\"year\": 2000, \"country\": \"South Korea\", \"cluster\": 4, \"pop\": 21647682, \"life_expect\": 66.662, \"fertility\": 1.9173}, {\"year\": 2000, \"country\": \"North Korea\", \"cluster\": 4, \"pop\": 47351083, \"life_expect\": 77.045, \"fertility\": 1.242}, {\"year\": 2000, \"country\": \"Lebanon\", \"cluster\": 5, \"pop\": 3578036, \"life_expect\": 71.028, \"fertility\": 2.319}, {\"year\": 2000, \"country\": \"Mexico\", \"cluster\": 3, \"pop\": 99926620, \"life_expect\": 74.902, \"fertility\": 2.4005}, {\"year\": 2000, \"country\": \"Netherlands\", \"cluster\": 1, \"pop\": 15907853, \"life_expect\": 78.53, \"fertility\": 1.726}, {\"year\": 2000, \"country\": \"New Zealand\", \"cluster\": 4, \"pop\": 3819762, \"life_expect\": 79.11, \"fertility\": 1.964}, {\"year\": 2000, \"country\": \"Nigeria\", \"cluster\": 2, \"pop\": 114306700, \"life_expect\": 46.608, \"fertility\": 5.845}, {\"year\": 2000, \"country\": \"Norway\", \"cluster\": 1, \"pop\": 4492400, \"life_expect\": 79.05, \"fertility\": 1.8010000000000002}, {\"year\": 2000, \"country\": \"Pakistan\", \"cluster\": 0, \"pop\": 146342958, \"life_expect\": 63.61, \"fertility\": 3.9936}, {\"year\": 2000, \"country\": \"Peru\", \"cluster\": 3, \"pop\": 25979722, \"life_expect\": 69.906, \"fertility\": 2.7005}, {\"year\": 2000, \"country\": \"Philippines\", \"cluster\": 4, \"pop\": 79739825, \"life_expect\": 70.303, \"fertility\": 3.5436}, {\"year\": 2000, \"country\": \"Poland\", \"cluster\": 1, \"pop\": 38654164, \"life_expect\": 74.67, \"fertility\": 1.251}, {\"year\": 2000, \"country\": \"Portugal\", \"cluster\": 1, \"pop\": 10335597, \"life_expect\": 77.29, \"fertility\": 1.454}, {\"year\": 2000, \"country\": \"Rwanda\", \"cluster\": 2, \"pop\": 7507056, \"life_expect\": 43.413, \"fertility\": 6.01}, {\"year\": 2000, \"country\": \"Saudi Arabia\", \"cluster\": 5, \"pop\": 23153090, \"life_expect\": 71.626, \"fertility\": 3.81}, {\"year\": 2000, \"country\": \"South Africa\", \"cluster\": 2, \"pop\": 44066197, \"life_expect\": 53.365, \"fertility\": 2.802}, {\"year\": 2000, \"country\": \"Spain\", \"cluster\": 1, \"pop\": 40016081, \"life_expect\": 79.78, \"fertility\": 1.287}, {\"year\": 2000, \"country\": \"Switzerland\", \"cluster\": 1, \"pop\": 7266920, \"life_expect\": 80.62, \"fertility\": 1.415}, {\"year\": 2000, \"country\": \"Turkey\", \"cluster\": 1, \"pop\": 65666677, \"life_expect\": 70.845, \"fertility\": 2.23}, {\"year\": 2000, \"country\": \"United Kingdom\", \"cluster\": 1, \"pop\": 59522468, \"life_expect\": 78.471, \"fertility\": 1.695}, {\"year\": 2000, \"country\": \"United States\", \"cluster\": 3, \"pop\": 282338631, \"life_expect\": 77.31, \"fertility\": 2.038}, {\"year\": 2000, \"country\": \"Venezuela\", \"cluster\": 3, \"pop\": 23542649, \"life_expect\": 72.766, \"fertility\": 2.723}]}}, {\"mode\": \"vega-lite\"});\n",
       "</script>"
      ],
      "text/plain": [
       "alt.Chart(...)"
      ]
     },
     "metadata": {},
     "output_type": "display_data"
    }
   ],
   "source": [
    "alt.Chart(data2000).mark_point(filled=True).encode(\n",
    "    alt.X('fertility:Q'),\n",
    "    alt.Y('life_expect:Q'),\n",
    "    alt.Size('pop:Q', scale=alt.Scale(range=[0,1000])),\n",
    "    alt.Color('cluster:N')\n",
    ")"
   ]
  },
  {
   "cell_type": "markdown",
   "metadata": {},
   "source": [
    "Por padrão, Altair usa um pouco de transparência para ajudar a combater sobreposição de pontos. Estamos livres para ajustar mais a opacidade, seja passando um valor padrão para o método `mark_*`, seja usando um canal de codificação dedicado.\n",
    "\n",
    "Aqui demonstraremos como passar um valor constante para um canal de codificação em vez de vincular um campo de dado:"
   ]
  },
  {
   "cell_type": "code",
   "execution_count": null,
   "metadata": {},
   "outputs": [
    {
     "data": {
      "text/html": [
       "\n",
       "<style>\n",
       "  #altair-viz-3116d24b2a304665b0395e05dc2ddcf8.vega-embed {\n",
       "    width: 100%;\n",
       "    display: flex;\n",
       "  }\n",
       "\n",
       "  #altair-viz-3116d24b2a304665b0395e05dc2ddcf8.vega-embed details,\n",
       "  #altair-viz-3116d24b2a304665b0395e05dc2ddcf8.vega-embed details summary {\n",
       "    position: relative;\n",
       "  }\n",
       "</style>\n",
       "<div id=\"altair-viz-3116d24b2a304665b0395e05dc2ddcf8\"></div>\n",
       "<script type=\"text/javascript\">\n",
       "  var VEGA_DEBUG = (typeof VEGA_DEBUG == \"undefined\") ? {} : VEGA_DEBUG;\n",
       "  (function(spec, embedOpt){\n",
       "    let outputDiv = document.currentScript.previousElementSibling;\n",
       "    if (outputDiv.id !== \"altair-viz-3116d24b2a304665b0395e05dc2ddcf8\") {\n",
       "      outputDiv = document.getElementById(\"altair-viz-3116d24b2a304665b0395e05dc2ddcf8\");\n",
       "    }\n",
       "\n",
       "    const paths = {\n",
       "      \"vega\": \"https://cdn.jsdelivr.net/npm/vega@5?noext\",\n",
       "      \"vega-lib\": \"https://cdn.jsdelivr.net/npm/vega-lib?noext\",\n",
       "      \"vega-lite\": \"https://cdn.jsdelivr.net/npm/vega-lite@5.20.1?noext\",\n",
       "      \"vega-embed\": \"https://cdn.jsdelivr.net/npm/vega-embed@6?noext\",\n",
       "    };\n",
       "\n",
       "    function maybeLoadScript(lib, version) {\n",
       "      var key = `${lib.replace(\"-\", \"\")}_version`;\n",
       "      return (VEGA_DEBUG[key] == version) ?\n",
       "        Promise.resolve(paths[lib]) :\n",
       "        new Promise(function(resolve, reject) {\n",
       "          var s = document.createElement('script');\n",
       "          document.getElementsByTagName(\"head\")[0].appendChild(s);\n",
       "          s.async = true;\n",
       "          s.onload = () => {\n",
       "            VEGA_DEBUG[key] = version;\n",
       "            return resolve(paths[lib]);\n",
       "          };\n",
       "          s.onerror = () => reject(`Error loading script: ${paths[lib]}`);\n",
       "          s.src = paths[lib];\n",
       "        });\n",
       "    }\n",
       "\n",
       "    function showError(err) {\n",
       "      outputDiv.innerHTML = `<div class=\"error\" style=\"color:red;\">${err}</div>`;\n",
       "      throw err;\n",
       "    }\n",
       "\n",
       "    function displayChart(vegaEmbed) {\n",
       "      vegaEmbed(outputDiv, spec, embedOpt)\n",
       "        .catch(err => showError(`Javascript Error: ${err.message}<br>This usually means there's a typo in your chart specification. See the javascript console for the full traceback.`));\n",
       "    }\n",
       "\n",
       "    if(typeof define === \"function\" && define.amd) {\n",
       "      requirejs.config({paths});\n",
       "      let deps = [\"vega-embed\"];\n",
       "      require(deps, displayChart, err => showError(`Error loading script: ${err.message}`));\n",
       "    } else {\n",
       "      maybeLoadScript(\"vega\", \"5\")\n",
       "        .then(() => maybeLoadScript(\"vega-lite\", \"5.20.1\"))\n",
       "        .then(() => maybeLoadScript(\"vega-embed\", \"6\"))\n",
       "        .catch(showError)\n",
       "        .then(() => displayChart(vegaEmbed));\n",
       "    }\n",
       "  })({\"config\": {\"view\": {\"continuousWidth\": 300, \"continuousHeight\": 300}}, \"data\": {\"name\": \"data-5bbc1a2d42e71c72ac9cf13ffaf6d268\"}, \"mark\": {\"type\": \"point\", \"filled\": true}, \"encoding\": {\"color\": {\"field\": \"cluster\", \"type\": \"nominal\"}, \"opacity\": {\"value\": 0.5}, \"size\": {\"field\": \"pop\", \"scale\": {\"range\": [0, 1000]}, \"type\": \"quantitative\"}, \"x\": {\"field\": \"fertility\", \"type\": \"quantitative\"}, \"y\": {\"field\": \"life_expect\", \"type\": \"quantitative\"}}, \"$schema\": \"https://vega.github.io/schema/vega-lite/v5.20.1.json\", \"datasets\": {\"data-5bbc1a2d42e71c72ac9cf13ffaf6d268\": [{\"year\": 2000, \"country\": \"Afghanistan\", \"cluster\": 0, \"pop\": 23898198, \"life_expect\": 42.129, \"fertility\": 7.4792}, {\"year\": 2000, \"country\": \"Argentina\", \"cluster\": 3, \"pop\": 37497728, \"life_expect\": 74.34, \"fertility\": 2.35}, {\"year\": 2000, \"country\": \"Aruba\", \"cluster\": 3, \"pop\": 69539, \"life_expect\": 73.451, \"fertility\": 2.124}, {\"year\": 2000, \"country\": \"Australia\", \"cluster\": 4, \"pop\": 19164620, \"life_expect\": 80.37, \"fertility\": 1.756}, {\"year\": 2000, \"country\": \"Austria\", \"cluster\": 1, \"pop\": 8113413, \"life_expect\": 78.98, \"fertility\": 1.3820000000000001}, {\"year\": 2000, \"country\": \"Bahamas\", \"cluster\": 3, \"pop\": 290075, \"life_expect\": 71.068, \"fertility\": 2.1111}, {\"year\": 2000, \"country\": \"Bangladesh\", \"cluster\": 0, \"pop\": 130406594, \"life_expect\": 62.013, \"fertility\": 3.224}, {\"year\": 2000, \"country\": \"Barbados\", \"cluster\": 3, \"pop\": 273483, \"life_expect\": 75.97, \"fertility\": 1.5}, {\"year\": 2000, \"country\": \"Belgium\", \"cluster\": 1, \"pop\": 10263618, \"life_expect\": 78.32, \"fertility\": 1.638}, {\"year\": 2000, \"country\": \"Bolivia\", \"cluster\": 3, \"pop\": 8152620, \"life_expect\": 63.883, \"fertility\": 3.9585}, {\"year\": 2000, \"country\": \"Brazil\", \"cluster\": 3, \"pop\": 175552771, \"life_expect\": 71.006, \"fertility\": 2.345}, {\"year\": 2000, \"country\": \"Canada\", \"cluster\": 3, \"pop\": 31278097, \"life_expect\": 79.77, \"fertility\": 1.522}, {\"year\": 2000, \"country\": \"Chile\", \"cluster\": 3, \"pop\": 15153450, \"life_expect\": 77.86, \"fertility\": 2.0}, {\"year\": 2000, \"country\": \"China\", \"cluster\": 4, \"pop\": 1262645000, \"life_expect\": 72.028, \"fertility\": 1.7000000000000002}, {\"year\": 2000, \"country\": \"Colombia\", \"cluster\": 3, \"pop\": 39685655, \"life_expect\": 71.682, \"fertility\": 2.4705}, {\"year\": 2000, \"country\": \"Costa Rica\", \"cluster\": 3, \"pop\": 3710558, \"life_expect\": 78.123, \"fertility\": 2.2815}, {\"year\": 2000, \"country\": \"Croatia\", \"cluster\": 1, \"pop\": 4410830, \"life_expect\": 74.876, \"fertility\": 1.348}, {\"year\": 2000, \"country\": \"Cuba\", \"cluster\": 3, \"pop\": 11134273, \"life_expect\": 77.158, \"fertility\": 1.63}, {\"year\": 2000, \"country\": \"Dominican Republic\", \"cluster\": 3, \"pop\": 8385828, \"life_expect\": 70.847, \"fertility\": 2.95}, {\"year\": 2000, \"country\": \"Ecuador\", \"cluster\": 3, \"pop\": 12505204, \"life_expect\": 74.173, \"fertility\": 2.8175}, {\"year\": 2000, \"country\": \"Egypt\", \"cluster\": 5, \"pop\": 70492342, \"life_expect\": 69.806, \"fertility\": 3.174}, {\"year\": 2000, \"country\": \"El Salvador\", \"cluster\": 3, \"pop\": 6122515, \"life_expect\": 70.734, \"fertility\": 2.883}, {\"year\": 2000, \"country\": \"Finland\", \"cluster\": 1, \"pop\": 5168595, \"life_expect\": 78.37, \"fertility\": 1.754}, {\"year\": 2000, \"country\": \"France\", \"cluster\": 1, \"pop\": 59381628, \"life_expect\": 79.59, \"fertility\": 1.8833000000000002}, {\"year\": 2000, \"country\": \"Georgia\", \"cluster\": 1, \"pop\": 4777209, \"life_expect\": 70.476, \"fertility\": 1.478}, {\"year\": 2000, \"country\": \"Germany\", \"cluster\": 1, \"pop\": 82187909, \"life_expect\": 78.67, \"fertility\": 1.346}, {\"year\": 2000, \"country\": \"Greece\", \"cluster\": 1, \"pop\": 10559110, \"life_expect\": 78.256, \"fertility\": 1.2770000000000001}, {\"year\": 2000, \"country\": \"Grenada\", \"cluster\": 3, \"pop\": 89312, \"life_expect\": 67.746, \"fertility\": 2.429}, {\"year\": 2000, \"country\": \"Haiti\", \"cluster\": 3, \"pop\": 7306302, \"life_expect\": 58.137, \"fertility\": 4.0}, {\"year\": 2000, \"country\": \"Hong Kong\", \"cluster\": 4, \"pop\": 6658720, \"life_expect\": 81.495, \"fertility\": 0.9400000000000001}, {\"year\": 2000, \"country\": \"Iceland\", \"cluster\": 1, \"pop\": 281043, \"life_expect\": 80.5, \"fertility\": 1.9929999999999999}, {\"year\": 2000, \"country\": \"India\", \"cluster\": 0, \"pop\": 1007702000, \"life_expect\": 62.879, \"fertility\": 3.1132}, {\"year\": 2000, \"country\": \"Indonesia\", \"cluster\": 4, \"pop\": 206265000, \"life_expect\": 68.588, \"fertility\": 2.3761}, {\"year\": 2000, \"country\": \"Iran\", \"cluster\": 5, \"pop\": 65660289, \"life_expect\": 69.451, \"fertility\": 2.124}, {\"year\": 2000, \"country\": \"Iraq\", \"cluster\": 5, \"pop\": 22675617, \"life_expect\": 57.046, \"fertility\": 4.858}, {\"year\": 2000, \"country\": \"Ireland\", \"cluster\": 1, \"pop\": 3791690, \"life_expect\": 77.783, \"fertility\": 1.9689999999999999}, {\"year\": 2000, \"country\": \"Israel\", \"cluster\": 5, \"pop\": 5842454, \"life_expect\": 79.696, \"fertility\": 2.906}, {\"year\": 2000, \"country\": \"Italy\", \"cluster\": 1, \"pop\": 57719337, \"life_expect\": 80.24, \"fertility\": 1.286}, {\"year\": 2000, \"country\": \"Jamaica\", \"cluster\": 3, \"pop\": 2615467, \"life_expect\": 72.047, \"fertility\": 2.628}, {\"year\": 2000, \"country\": \"Japan\", \"cluster\": 4, \"pop\": 126699784, \"life_expect\": 82.0, \"fertility\": 1.291}, {\"year\": 2000, \"country\": \"Kenya\", \"cluster\": 2, \"pop\": 29985839, \"life_expect\": 50.992, \"fertility\": 5.0}, {\"year\": 2000, \"country\": \"South Korea\", \"cluster\": 4, \"pop\": 21647682, \"life_expect\": 66.662, \"fertility\": 1.9173}, {\"year\": 2000, \"country\": \"North Korea\", \"cluster\": 4, \"pop\": 47351083, \"life_expect\": 77.045, \"fertility\": 1.242}, {\"year\": 2000, \"country\": \"Lebanon\", \"cluster\": 5, \"pop\": 3578036, \"life_expect\": 71.028, \"fertility\": 2.319}, {\"year\": 2000, \"country\": \"Mexico\", \"cluster\": 3, \"pop\": 99926620, \"life_expect\": 74.902, \"fertility\": 2.4005}, {\"year\": 2000, \"country\": \"Netherlands\", \"cluster\": 1, \"pop\": 15907853, \"life_expect\": 78.53, \"fertility\": 1.726}, {\"year\": 2000, \"country\": \"New Zealand\", \"cluster\": 4, \"pop\": 3819762, \"life_expect\": 79.11, \"fertility\": 1.964}, {\"year\": 2000, \"country\": \"Nigeria\", \"cluster\": 2, \"pop\": 114306700, \"life_expect\": 46.608, \"fertility\": 5.845}, {\"year\": 2000, \"country\": \"Norway\", \"cluster\": 1, \"pop\": 4492400, \"life_expect\": 79.05, \"fertility\": 1.8010000000000002}, {\"year\": 2000, \"country\": \"Pakistan\", \"cluster\": 0, \"pop\": 146342958, \"life_expect\": 63.61, \"fertility\": 3.9936}, {\"year\": 2000, \"country\": \"Peru\", \"cluster\": 3, \"pop\": 25979722, \"life_expect\": 69.906, \"fertility\": 2.7005}, {\"year\": 2000, \"country\": \"Philippines\", \"cluster\": 4, \"pop\": 79739825, \"life_expect\": 70.303, \"fertility\": 3.5436}, {\"year\": 2000, \"country\": \"Poland\", \"cluster\": 1, \"pop\": 38654164, \"life_expect\": 74.67, \"fertility\": 1.251}, {\"year\": 2000, \"country\": \"Portugal\", \"cluster\": 1, \"pop\": 10335597, \"life_expect\": 77.29, \"fertility\": 1.454}, {\"year\": 2000, \"country\": \"Rwanda\", \"cluster\": 2, \"pop\": 7507056, \"life_expect\": 43.413, \"fertility\": 6.01}, {\"year\": 2000, \"country\": \"Saudi Arabia\", \"cluster\": 5, \"pop\": 23153090, \"life_expect\": 71.626, \"fertility\": 3.81}, {\"year\": 2000, \"country\": \"South Africa\", \"cluster\": 2, \"pop\": 44066197, \"life_expect\": 53.365, \"fertility\": 2.802}, {\"year\": 2000, \"country\": \"Spain\", \"cluster\": 1, \"pop\": 40016081, \"life_expect\": 79.78, \"fertility\": 1.287}, {\"year\": 2000, \"country\": \"Switzerland\", \"cluster\": 1, \"pop\": 7266920, \"life_expect\": 80.62, \"fertility\": 1.415}, {\"year\": 2000, \"country\": \"Turkey\", \"cluster\": 1, \"pop\": 65666677, \"life_expect\": 70.845, \"fertility\": 2.23}, {\"year\": 2000, \"country\": \"United Kingdom\", \"cluster\": 1, \"pop\": 59522468, \"life_expect\": 78.471, \"fertility\": 1.695}, {\"year\": 2000, \"country\": \"United States\", \"cluster\": 3, \"pop\": 282338631, \"life_expect\": 77.31, \"fertility\": 2.038}, {\"year\": 2000, \"country\": \"Venezuela\", \"cluster\": 3, \"pop\": 23542649, \"life_expect\": 72.766, \"fertility\": 2.723}]}}, {\"mode\": \"vega-lite\"});\n",
       "</script>"
      ],
      "text/plain": [
       "alt.Chart(...)"
      ]
     },
     "metadata": {},
     "output_type": "display_data"
    }
   ],
   "source": [
    "alt.Chart(data2000).mark_point(filled=True).encode(\n",
    "    alt.X('fertility:Q'),\n",
    "    alt.Y('life_expect:Q'),\n",
    "    alt.Size('pop:Q', scale=alt.Scale(range=[0,1000])),\n",
    "    alt.Color('cluster:N'),\n",
    "    alt.OpacityValue(0.5)\n",
    ")"
   ]
  },
  {
   "cell_type": "markdown",
   "metadata": {},
   "source": [
    "### 2.3.5. Formato\n",
    "\n",
    "O canal de codificação `shape` define o formato geométrico usado pelas marcas de `point`. Diferente de outros canais que nós vimos até agora, o canal `shape` não pode ser usado por outros tipos de marca. Esse canal de codificação deve ser usado somente com dados nominais, já que não suporta ordenação perceptiva ou comparações de magnitude.\n",
    "\n",
    "Vamos codificar o campo `cluster` usando tanto `shape`  como `color`. O uso de múltiplos canais para representar o mesmo campo de dados subjacente é conhecido como codificação redundante. O gráfico resultante combina as informações de cor e formato em um único símbolo na legenda:"
   ]
  },
  {
   "cell_type": "code",
   "execution_count": null,
   "metadata": {},
   "outputs": [
    {
     "data": {
      "text/html": [
       "\n",
       "<style>\n",
       "  #altair-viz-88d8e4b94ded4159ac7027348fe79449.vega-embed {\n",
       "    width: 100%;\n",
       "    display: flex;\n",
       "  }\n",
       "\n",
       "  #altair-viz-88d8e4b94ded4159ac7027348fe79449.vega-embed details,\n",
       "  #altair-viz-88d8e4b94ded4159ac7027348fe79449.vega-embed details summary {\n",
       "    position: relative;\n",
       "  }\n",
       "</style>\n",
       "<div id=\"altair-viz-88d8e4b94ded4159ac7027348fe79449\"></div>\n",
       "<script type=\"text/javascript\">\n",
       "  var VEGA_DEBUG = (typeof VEGA_DEBUG == \"undefined\") ? {} : VEGA_DEBUG;\n",
       "  (function(spec, embedOpt){\n",
       "    let outputDiv = document.currentScript.previousElementSibling;\n",
       "    if (outputDiv.id !== \"altair-viz-88d8e4b94ded4159ac7027348fe79449\") {\n",
       "      outputDiv = document.getElementById(\"altair-viz-88d8e4b94ded4159ac7027348fe79449\");\n",
       "    }\n",
       "\n",
       "    const paths = {\n",
       "      \"vega\": \"https://cdn.jsdelivr.net/npm/vega@5?noext\",\n",
       "      \"vega-lib\": \"https://cdn.jsdelivr.net/npm/vega-lib?noext\",\n",
       "      \"vega-lite\": \"https://cdn.jsdelivr.net/npm/vega-lite@5.20.1?noext\",\n",
       "      \"vega-embed\": \"https://cdn.jsdelivr.net/npm/vega-embed@6?noext\",\n",
       "    };\n",
       "\n",
       "    function maybeLoadScript(lib, version) {\n",
       "      var key = `${lib.replace(\"-\", \"\")}_version`;\n",
       "      return (VEGA_DEBUG[key] == version) ?\n",
       "        Promise.resolve(paths[lib]) :\n",
       "        new Promise(function(resolve, reject) {\n",
       "          var s = document.createElement('script');\n",
       "          document.getElementsByTagName(\"head\")[0].appendChild(s);\n",
       "          s.async = true;\n",
       "          s.onload = () => {\n",
       "            VEGA_DEBUG[key] = version;\n",
       "            return resolve(paths[lib]);\n",
       "          };\n",
       "          s.onerror = () => reject(`Error loading script: ${paths[lib]}`);\n",
       "          s.src = paths[lib];\n",
       "        });\n",
       "    }\n",
       "\n",
       "    function showError(err) {\n",
       "      outputDiv.innerHTML = `<div class=\"error\" style=\"color:red;\">${err}</div>`;\n",
       "      throw err;\n",
       "    }\n",
       "\n",
       "    function displayChart(vegaEmbed) {\n",
       "      vegaEmbed(outputDiv, spec, embedOpt)\n",
       "        .catch(err => showError(`Javascript Error: ${err.message}<br>This usually means there's a typo in your chart specification. See the javascript console for the full traceback.`));\n",
       "    }\n",
       "\n",
       "    if(typeof define === \"function\" && define.amd) {\n",
       "      requirejs.config({paths});\n",
       "      let deps = [\"vega-embed\"];\n",
       "      require(deps, displayChart, err => showError(`Error loading script: ${err.message}`));\n",
       "    } else {\n",
       "      maybeLoadScript(\"vega\", \"5\")\n",
       "        .then(() => maybeLoadScript(\"vega-lite\", \"5.20.1\"))\n",
       "        .then(() => maybeLoadScript(\"vega-embed\", \"6\"))\n",
       "        .catch(showError)\n",
       "        .then(() => displayChart(vegaEmbed));\n",
       "    }\n",
       "  })({\"config\": {\"view\": {\"continuousWidth\": 300, \"continuousHeight\": 300}}, \"data\": {\"name\": \"data-5bbc1a2d42e71c72ac9cf13ffaf6d268\"}, \"mark\": {\"type\": \"point\", \"filled\": true}, \"encoding\": {\"color\": {\"field\": \"cluster\", \"type\": \"nominal\"}, \"opacity\": {\"value\": 0.5}, \"shape\": {\"field\": \"cluster\", \"type\": \"nominal\"}, \"size\": {\"field\": \"pop\", \"scale\": {\"range\": [0, 1000]}, \"type\": \"quantitative\"}, \"x\": {\"field\": \"fertility\", \"type\": \"quantitative\"}, \"y\": {\"field\": \"life_expect\", \"type\": \"quantitative\"}}, \"$schema\": \"https://vega.github.io/schema/vega-lite/v5.20.1.json\", \"datasets\": {\"data-5bbc1a2d42e71c72ac9cf13ffaf6d268\": [{\"year\": 2000, \"country\": \"Afghanistan\", \"cluster\": 0, \"pop\": 23898198, \"life_expect\": 42.129, \"fertility\": 7.4792}, {\"year\": 2000, \"country\": \"Argentina\", \"cluster\": 3, \"pop\": 37497728, \"life_expect\": 74.34, \"fertility\": 2.35}, {\"year\": 2000, \"country\": \"Aruba\", \"cluster\": 3, \"pop\": 69539, \"life_expect\": 73.451, \"fertility\": 2.124}, {\"year\": 2000, \"country\": \"Australia\", \"cluster\": 4, \"pop\": 19164620, \"life_expect\": 80.37, \"fertility\": 1.756}, {\"year\": 2000, \"country\": \"Austria\", \"cluster\": 1, \"pop\": 8113413, \"life_expect\": 78.98, \"fertility\": 1.3820000000000001}, {\"year\": 2000, \"country\": \"Bahamas\", \"cluster\": 3, \"pop\": 290075, \"life_expect\": 71.068, \"fertility\": 2.1111}, {\"year\": 2000, \"country\": \"Bangladesh\", \"cluster\": 0, \"pop\": 130406594, \"life_expect\": 62.013, \"fertility\": 3.224}, {\"year\": 2000, \"country\": \"Barbados\", \"cluster\": 3, \"pop\": 273483, \"life_expect\": 75.97, \"fertility\": 1.5}, {\"year\": 2000, \"country\": \"Belgium\", \"cluster\": 1, \"pop\": 10263618, \"life_expect\": 78.32, \"fertility\": 1.638}, {\"year\": 2000, \"country\": \"Bolivia\", \"cluster\": 3, \"pop\": 8152620, \"life_expect\": 63.883, \"fertility\": 3.9585}, {\"year\": 2000, \"country\": \"Brazil\", \"cluster\": 3, \"pop\": 175552771, \"life_expect\": 71.006, \"fertility\": 2.345}, {\"year\": 2000, \"country\": \"Canada\", \"cluster\": 3, \"pop\": 31278097, \"life_expect\": 79.77, \"fertility\": 1.522}, {\"year\": 2000, \"country\": \"Chile\", \"cluster\": 3, \"pop\": 15153450, \"life_expect\": 77.86, \"fertility\": 2.0}, {\"year\": 2000, \"country\": \"China\", \"cluster\": 4, \"pop\": 1262645000, \"life_expect\": 72.028, \"fertility\": 1.7000000000000002}, {\"year\": 2000, \"country\": \"Colombia\", \"cluster\": 3, \"pop\": 39685655, \"life_expect\": 71.682, \"fertility\": 2.4705}, {\"year\": 2000, \"country\": \"Costa Rica\", \"cluster\": 3, \"pop\": 3710558, \"life_expect\": 78.123, \"fertility\": 2.2815}, {\"year\": 2000, \"country\": \"Croatia\", \"cluster\": 1, \"pop\": 4410830, \"life_expect\": 74.876, \"fertility\": 1.348}, {\"year\": 2000, \"country\": \"Cuba\", \"cluster\": 3, \"pop\": 11134273, \"life_expect\": 77.158, \"fertility\": 1.63}, {\"year\": 2000, \"country\": \"Dominican Republic\", \"cluster\": 3, \"pop\": 8385828, \"life_expect\": 70.847, \"fertility\": 2.95}, {\"year\": 2000, \"country\": \"Ecuador\", \"cluster\": 3, \"pop\": 12505204, \"life_expect\": 74.173, \"fertility\": 2.8175}, {\"year\": 2000, \"country\": \"Egypt\", \"cluster\": 5, \"pop\": 70492342, \"life_expect\": 69.806, \"fertility\": 3.174}, {\"year\": 2000, \"country\": \"El Salvador\", \"cluster\": 3, \"pop\": 6122515, \"life_expect\": 70.734, \"fertility\": 2.883}, {\"year\": 2000, \"country\": \"Finland\", \"cluster\": 1, \"pop\": 5168595, \"life_expect\": 78.37, \"fertility\": 1.754}, {\"year\": 2000, \"country\": \"France\", \"cluster\": 1, \"pop\": 59381628, \"life_expect\": 79.59, \"fertility\": 1.8833000000000002}, {\"year\": 2000, \"country\": \"Georgia\", \"cluster\": 1, \"pop\": 4777209, \"life_expect\": 70.476, \"fertility\": 1.478}, {\"year\": 2000, \"country\": \"Germany\", \"cluster\": 1, \"pop\": 82187909, \"life_expect\": 78.67, \"fertility\": 1.346}, {\"year\": 2000, \"country\": \"Greece\", \"cluster\": 1, \"pop\": 10559110, \"life_expect\": 78.256, \"fertility\": 1.2770000000000001}, {\"year\": 2000, \"country\": \"Grenada\", \"cluster\": 3, \"pop\": 89312, \"life_expect\": 67.746, \"fertility\": 2.429}, {\"year\": 2000, \"country\": \"Haiti\", \"cluster\": 3, \"pop\": 7306302, \"life_expect\": 58.137, \"fertility\": 4.0}, {\"year\": 2000, \"country\": \"Hong Kong\", \"cluster\": 4, \"pop\": 6658720, \"life_expect\": 81.495, \"fertility\": 0.9400000000000001}, {\"year\": 2000, \"country\": \"Iceland\", \"cluster\": 1, \"pop\": 281043, \"life_expect\": 80.5, \"fertility\": 1.9929999999999999}, {\"year\": 2000, \"country\": \"India\", \"cluster\": 0, \"pop\": 1007702000, \"life_expect\": 62.879, \"fertility\": 3.1132}, {\"year\": 2000, \"country\": \"Indonesia\", \"cluster\": 4, \"pop\": 206265000, \"life_expect\": 68.588, \"fertility\": 2.3761}, {\"year\": 2000, \"country\": \"Iran\", \"cluster\": 5, \"pop\": 65660289, \"life_expect\": 69.451, \"fertility\": 2.124}, {\"year\": 2000, \"country\": \"Iraq\", \"cluster\": 5, \"pop\": 22675617, \"life_expect\": 57.046, \"fertility\": 4.858}, {\"year\": 2000, \"country\": \"Ireland\", \"cluster\": 1, \"pop\": 3791690, \"life_expect\": 77.783, \"fertility\": 1.9689999999999999}, {\"year\": 2000, \"country\": \"Israel\", \"cluster\": 5, \"pop\": 5842454, \"life_expect\": 79.696, \"fertility\": 2.906}, {\"year\": 2000, \"country\": \"Italy\", \"cluster\": 1, \"pop\": 57719337, \"life_expect\": 80.24, \"fertility\": 1.286}, {\"year\": 2000, \"country\": \"Jamaica\", \"cluster\": 3, \"pop\": 2615467, \"life_expect\": 72.047, \"fertility\": 2.628}, {\"year\": 2000, \"country\": \"Japan\", \"cluster\": 4, \"pop\": 126699784, \"life_expect\": 82.0, \"fertility\": 1.291}, {\"year\": 2000, \"country\": \"Kenya\", \"cluster\": 2, \"pop\": 29985839, \"life_expect\": 50.992, \"fertility\": 5.0}, {\"year\": 2000, \"country\": \"South Korea\", \"cluster\": 4, \"pop\": 21647682, \"life_expect\": 66.662, \"fertility\": 1.9173}, {\"year\": 2000, \"country\": \"North Korea\", \"cluster\": 4, \"pop\": 47351083, \"life_expect\": 77.045, \"fertility\": 1.242}, {\"year\": 2000, \"country\": \"Lebanon\", \"cluster\": 5, \"pop\": 3578036, \"life_expect\": 71.028, \"fertility\": 2.319}, {\"year\": 2000, \"country\": \"Mexico\", \"cluster\": 3, \"pop\": 99926620, \"life_expect\": 74.902, \"fertility\": 2.4005}, {\"year\": 2000, \"country\": \"Netherlands\", \"cluster\": 1, \"pop\": 15907853, \"life_expect\": 78.53, \"fertility\": 1.726}, {\"year\": 2000, \"country\": \"New Zealand\", \"cluster\": 4, \"pop\": 3819762, \"life_expect\": 79.11, \"fertility\": 1.964}, {\"year\": 2000, \"country\": \"Nigeria\", \"cluster\": 2, \"pop\": 114306700, \"life_expect\": 46.608, \"fertility\": 5.845}, {\"year\": 2000, \"country\": \"Norway\", \"cluster\": 1, \"pop\": 4492400, \"life_expect\": 79.05, \"fertility\": 1.8010000000000002}, {\"year\": 2000, \"country\": \"Pakistan\", \"cluster\": 0, \"pop\": 146342958, \"life_expect\": 63.61, \"fertility\": 3.9936}, {\"year\": 2000, \"country\": \"Peru\", \"cluster\": 3, \"pop\": 25979722, \"life_expect\": 69.906, \"fertility\": 2.7005}, {\"year\": 2000, \"country\": \"Philippines\", \"cluster\": 4, \"pop\": 79739825, \"life_expect\": 70.303, \"fertility\": 3.5436}, {\"year\": 2000, \"country\": \"Poland\", \"cluster\": 1, \"pop\": 38654164, \"life_expect\": 74.67, \"fertility\": 1.251}, {\"year\": 2000, \"country\": \"Portugal\", \"cluster\": 1, \"pop\": 10335597, \"life_expect\": 77.29, \"fertility\": 1.454}, {\"year\": 2000, \"country\": \"Rwanda\", \"cluster\": 2, \"pop\": 7507056, \"life_expect\": 43.413, \"fertility\": 6.01}, {\"year\": 2000, \"country\": \"Saudi Arabia\", \"cluster\": 5, \"pop\": 23153090, \"life_expect\": 71.626, \"fertility\": 3.81}, {\"year\": 2000, \"country\": \"South Africa\", \"cluster\": 2, \"pop\": 44066197, \"life_expect\": 53.365, \"fertility\": 2.802}, {\"year\": 2000, \"country\": \"Spain\", \"cluster\": 1, \"pop\": 40016081, \"life_expect\": 79.78, \"fertility\": 1.287}, {\"year\": 2000, \"country\": \"Switzerland\", \"cluster\": 1, \"pop\": 7266920, \"life_expect\": 80.62, \"fertility\": 1.415}, {\"year\": 2000, \"country\": \"Turkey\", \"cluster\": 1, \"pop\": 65666677, \"life_expect\": 70.845, \"fertility\": 2.23}, {\"year\": 2000, \"country\": \"United Kingdom\", \"cluster\": 1, \"pop\": 59522468, \"life_expect\": 78.471, \"fertility\": 1.695}, {\"year\": 2000, \"country\": \"United States\", \"cluster\": 3, \"pop\": 282338631, \"life_expect\": 77.31, \"fertility\": 2.038}, {\"year\": 2000, \"country\": \"Venezuela\", \"cluster\": 3, \"pop\": 23542649, \"life_expect\": 72.766, \"fertility\": 2.723}]}}, {\"mode\": \"vega-lite\"});\n",
       "</script>"
      ],
      "text/plain": [
       "alt.Chart(...)"
      ]
     },
     "metadata": {},
     "output_type": "display_data"
    }
   ],
   "source": [
    "alt.Chart(data2000).mark_point(filled=True).encode(\n",
    "    alt.X('fertility:Q'),\n",
    "    alt.Y('life_expect:Q'),\n",
    "    alt.Size('pop:Q', scale=alt.Scale(range=[0,1000])),\n",
    "    alt.Color('cluster:N'),\n",
    "    alt.OpacityValue(0.5),\n",
    "    alt.Shape('cluster:N')\n",
    ")"
   ]
  },
  {
   "cell_type": "markdown",
   "metadata": {},
   "source": [
    "### 2.3.6 Tooltips e Ordenação"
   ]
  },
  {
   "cell_type": "markdown",
   "metadata": {},
   "source": [
    "Neste ponto, você pode estar se sentindo um pouco frustrado: construímos um gráfico, mas ainda não sabemos a que países os pontos visualizados correspondem! Vamos adicionar dicas de ferramenta interativas chamadas _tooltips_ (ferramenta de informações ou ferramenta de dicas) para possibilitar a exploração.\n",
    "\n",
    "O canal de codificação `tooltip` determina o texto informativo a ser exibido quando o usuário move o cursor do mouse sobre um marcador. Vamos adicionar um tooltip para o campo de `country` e, em seguida, investigar quais países estão sendo representados."
   ]
  },
  {
   "cell_type": "code",
   "execution_count": 17,
   "metadata": {
    "colab": {
     "base_uri": "https://localhost:8080/",
     "height": 372
    },
    "colab_type": "code",
    "id": "61evgaeFUyU0",
    "outputId": "f13ddd14-3b6f-4f96-ca08-8d3b2ba94a34"
   },
   "outputs": [
    {
     "data": {
      "text/html": [
       "\n",
       "<div id=\"altair-viz-e7db2f3345fd46958c4167f43c0d1884\"></div>\n",
       "<script type=\"text/javascript\">\n",
       "  (function(spec, embedOpt){\n",
       "    let outputDiv = document.currentScript.previousElementSibling;\n",
       "    if (outputDiv.id !== \"altair-viz-e7db2f3345fd46958c4167f43c0d1884\") {\n",
       "      outputDiv = document.getElementById(\"altair-viz-e7db2f3345fd46958c4167f43c0d1884\");\n",
       "    }\n",
       "    const paths = {\n",
       "      \"vega\": \"https://cdn.jsdelivr.net/npm//vega@5?noext\",\n",
       "      \"vega-lib\": \"https://cdn.jsdelivr.net/npm//vega-lib?noext\",\n",
       "      \"vega-lite\": \"https://cdn.jsdelivr.net/npm//vega-lite@4.8.1?noext\",\n",
       "      \"vega-embed\": \"https://cdn.jsdelivr.net/npm//vega-embed@6?noext\",\n",
       "    };\n",
       "\n",
       "    function loadScript(lib) {\n",
       "      return new Promise(function(resolve, reject) {\n",
       "        var s = document.createElement('script');\n",
       "        s.src = paths[lib];\n",
       "        s.async = true;\n",
       "        s.onload = () => resolve(paths[lib]);\n",
       "        s.onerror = () => reject(`Error loading script: ${paths[lib]}`);\n",
       "        document.getElementsByTagName(\"head\")[0].appendChild(s);\n",
       "      });\n",
       "    }\n",
       "\n",
       "    function showError(err) {\n",
       "      outputDiv.innerHTML = `<div class=\"error\" style=\"color:red;\">${err}</div>`;\n",
       "      throw err;\n",
       "    }\n",
       "\n",
       "    function displayChart(vegaEmbed) {\n",
       "      vegaEmbed(outputDiv, spec, embedOpt)\n",
       "        .catch(err => showError(`Javascript Error: ${err.message}<br>This usually means there's a typo in your chart specification. See the javascript console for the full traceback.`));\n",
       "    }\n",
       "\n",
       "    if(typeof define === \"function\" && define.amd) {\n",
       "      requirejs.config({paths});\n",
       "      require([\"vega-embed\"], displayChart, err => showError(`Error loading script: ${err.message}`));\n",
       "    } else if (typeof vegaEmbed === \"function\") {\n",
       "      displayChart(vegaEmbed);\n",
       "    } else {\n",
       "      loadScript(\"vega\")\n",
       "        .then(() => loadScript(\"vega-lite\"))\n",
       "        .then(() => loadScript(\"vega-embed\"))\n",
       "        .catch(showError)\n",
       "        .then(() => displayChart(vegaEmbed));\n",
       "    }\n",
       "  })({\"config\": {\"view\": {\"continuousWidth\": 400, \"continuousHeight\": 300}}, \"data\": {\"name\": \"data-fdeb0b749a6385830bd1445d39ad6ea0\"}, \"mark\": {\"type\": \"point\", \"filled\": true}, \"encoding\": {\"color\": {\"type\": \"nominal\", \"field\": \"cluster\"}, \"opacity\": {\"value\": 0.5}, \"size\": {\"type\": \"quantitative\", \"field\": \"pop\", \"scale\": {\"range\": [0, 1000]}}, \"tooltip\": {\"type\": \"nominal\", \"field\": \"country\"}, \"x\": {\"type\": \"quantitative\", \"field\": \"fertility\"}, \"y\": {\"type\": \"quantitative\", \"field\": \"life_expect\"}}, \"$schema\": \"https://vega.github.io/schema/vega-lite/v4.8.1.json\", \"datasets\": {\"data-fdeb0b749a6385830bd1445d39ad6ea0\": [{\"year\": 2000, \"country\": \"Afghanistan\", \"cluster\": 0, \"pop\": 23898198, \"life_expect\": 42.129, \"fertility\": 7.4792}, {\"year\": 2000, \"country\": \"Argentina\", \"cluster\": 3, \"pop\": 37497728, \"life_expect\": 74.34, \"fertility\": 2.35}, {\"year\": 2000, \"country\": \"Aruba\", \"cluster\": 3, \"pop\": 69539, \"life_expect\": 73.451, \"fertility\": 2.124}, {\"year\": 2000, \"country\": \"Australia\", \"cluster\": 4, \"pop\": 19164620, \"life_expect\": 80.37, \"fertility\": 1.756}, {\"year\": 2000, \"country\": \"Austria\", \"cluster\": 1, \"pop\": 8113413, \"life_expect\": 78.98, \"fertility\": 1.3820000000000001}, {\"year\": 2000, \"country\": \"Bahamas\", \"cluster\": 3, \"pop\": 290075, \"life_expect\": 71.068, \"fertility\": 2.1111}, {\"year\": 2000, \"country\": \"Bangladesh\", \"cluster\": 0, \"pop\": 130406594, \"life_expect\": 62.013, \"fertility\": 3.224}, {\"year\": 2000, \"country\": \"Barbados\", \"cluster\": 3, \"pop\": 273483, \"life_expect\": 75.97, \"fertility\": 1.5}, {\"year\": 2000, \"country\": \"Belgium\", \"cluster\": 1, \"pop\": 10263618, \"life_expect\": 78.32, \"fertility\": 1.638}, {\"year\": 2000, \"country\": \"Bolivia\", \"cluster\": 3, \"pop\": 8152620, \"life_expect\": 63.883, \"fertility\": 3.9585}, {\"year\": 2000, \"country\": \"Brazil\", \"cluster\": 3, \"pop\": 175552771, \"life_expect\": 71.006, \"fertility\": 2.345}, {\"year\": 2000, \"country\": \"Canada\", \"cluster\": 3, \"pop\": 31278097, \"life_expect\": 79.77, \"fertility\": 1.522}, {\"year\": 2000, \"country\": \"Chile\", \"cluster\": 3, \"pop\": 15153450, \"life_expect\": 77.86, \"fertility\": 2.0}, {\"year\": 2000, \"country\": \"China\", \"cluster\": 4, \"pop\": 1262645000, \"life_expect\": 72.028, \"fertility\": 1.7000000000000002}, {\"year\": 2000, \"country\": \"Colombia\", \"cluster\": 3, \"pop\": 39685655, \"life_expect\": 71.682, \"fertility\": 2.4705}, {\"year\": 2000, \"country\": \"Costa Rica\", \"cluster\": 3, \"pop\": 3710558, \"life_expect\": 78.123, \"fertility\": 2.2815}, {\"year\": 2000, \"country\": \"Croatia\", \"cluster\": 1, \"pop\": 4410830, \"life_expect\": 74.876, \"fertility\": 1.348}, {\"year\": 2000, \"country\": \"Cuba\", \"cluster\": 3, \"pop\": 11134273, \"life_expect\": 77.158, \"fertility\": 1.63}, {\"year\": 2000, \"country\": \"Dominican Republic\", \"cluster\": 3, \"pop\": 8385828, \"life_expect\": 70.847, \"fertility\": 2.95}, {\"year\": 2000, \"country\": \"Ecuador\", \"cluster\": 3, \"pop\": 12505204, \"life_expect\": 74.173, \"fertility\": 2.8175}, {\"year\": 2000, \"country\": \"Egypt\", \"cluster\": 5, \"pop\": 70492342, \"life_expect\": 69.806, \"fertility\": 3.174}, {\"year\": 2000, \"country\": \"El Salvador\", \"cluster\": 3, \"pop\": 6122515, \"life_expect\": 70.734, \"fertility\": 2.883}, {\"year\": 2000, \"country\": \"Finland\", \"cluster\": 1, \"pop\": 5168595, \"life_expect\": 78.37, \"fertility\": 1.754}, {\"year\": 2000, \"country\": \"France\", \"cluster\": 1, \"pop\": 59381628, \"life_expect\": 79.59, \"fertility\": 1.8833000000000002}, {\"year\": 2000, \"country\": \"Georgia\", \"cluster\": 1, \"pop\": 4777209, \"life_expect\": 70.476, \"fertility\": 1.478}, {\"year\": 2000, \"country\": \"Germany\", \"cluster\": 1, \"pop\": 82187909, \"life_expect\": 78.67, \"fertility\": 1.346}, {\"year\": 2000, \"country\": \"Greece\", \"cluster\": 1, \"pop\": 10559110, \"life_expect\": 78.256, \"fertility\": 1.2770000000000001}, {\"year\": 2000, \"country\": \"Grenada\", \"cluster\": 3, \"pop\": 89312, \"life_expect\": 67.746, \"fertility\": 2.429}, {\"year\": 2000, \"country\": \"Haiti\", \"cluster\": 3, \"pop\": 7306302, \"life_expect\": 58.137, \"fertility\": 4.0}, {\"year\": 2000, \"country\": \"Hong Kong\", \"cluster\": 4, \"pop\": 6658720, \"life_expect\": 81.495, \"fertility\": 0.9400000000000001}, {\"year\": 2000, \"country\": \"Iceland\", \"cluster\": 1, \"pop\": 281043, \"life_expect\": 80.5, \"fertility\": 1.9929999999999999}, {\"year\": 2000, \"country\": \"India\", \"cluster\": 0, \"pop\": 1007702000, \"life_expect\": 62.879, \"fertility\": 3.1132}, {\"year\": 2000, \"country\": \"Indonesia\", \"cluster\": 4, \"pop\": 206265000, \"life_expect\": 68.588, \"fertility\": 2.3761}, {\"year\": 2000, \"country\": \"Iran\", \"cluster\": 5, \"pop\": 65660289, \"life_expect\": 69.451, \"fertility\": 2.124}, {\"year\": 2000, \"country\": \"Iraq\", \"cluster\": 5, \"pop\": 22675617, \"life_expect\": 57.046, \"fertility\": 4.858}, {\"year\": 2000, \"country\": \"Ireland\", \"cluster\": 1, \"pop\": 3791690, \"life_expect\": 77.783, \"fertility\": 1.9689999999999999}, {\"year\": 2000, \"country\": \"Israel\", \"cluster\": 5, \"pop\": 5842454, \"life_expect\": 79.696, \"fertility\": 2.906}, {\"year\": 2000, \"country\": \"Italy\", \"cluster\": 1, \"pop\": 57719337, \"life_expect\": 80.24, \"fertility\": 1.286}, {\"year\": 2000, \"country\": \"Jamaica\", \"cluster\": 3, \"pop\": 2615467, \"life_expect\": 72.047, \"fertility\": 2.628}, {\"year\": 2000, \"country\": \"Japan\", \"cluster\": 4, \"pop\": 126699784, \"life_expect\": 82.0, \"fertility\": 1.291}, {\"year\": 2000, \"country\": \"Kenya\", \"cluster\": 2, \"pop\": 29985839, \"life_expect\": 50.992, \"fertility\": 5.0}, {\"year\": 2000, \"country\": \"South Korea\", \"cluster\": 4, \"pop\": 21647682, \"life_expect\": 66.662, \"fertility\": 1.9173}, {\"year\": 2000, \"country\": \"North Korea\", \"cluster\": 4, \"pop\": 47351083, \"life_expect\": 77.045, \"fertility\": 1.242}, {\"year\": 2000, \"country\": \"Lebanon\", \"cluster\": 5, \"pop\": 3578036, \"life_expect\": 71.028, \"fertility\": 2.319}, {\"year\": 2000, \"country\": \"Mexico\", \"cluster\": 3, \"pop\": 99926620, \"life_expect\": 74.902, \"fertility\": 2.4005}, {\"year\": 2000, \"country\": \"Netherlands\", \"cluster\": 1, \"pop\": 15907853, \"life_expect\": 78.53, \"fertility\": 1.726}, {\"year\": 2000, \"country\": \"New Zealand\", \"cluster\": 4, \"pop\": 3819762, \"life_expect\": 79.11, \"fertility\": 1.964}, {\"year\": 2000, \"country\": \"Nigeria\", \"cluster\": 2, \"pop\": 114306700, \"life_expect\": 46.608, \"fertility\": 5.845}, {\"year\": 2000, \"country\": \"Norway\", \"cluster\": 1, \"pop\": 4492400, \"life_expect\": 79.05, \"fertility\": 1.8010000000000002}, {\"year\": 2000, \"country\": \"Pakistan\", \"cluster\": 0, \"pop\": 146342958, \"life_expect\": 63.61, \"fertility\": 3.9936}, {\"year\": 2000, \"country\": \"Peru\", \"cluster\": 3, \"pop\": 25979722, \"life_expect\": 69.906, \"fertility\": 2.7005}, {\"year\": 2000, \"country\": \"Philippines\", \"cluster\": 4, \"pop\": 79739825, \"life_expect\": 70.303, \"fertility\": 3.5436}, {\"year\": 2000, \"country\": \"Poland\", \"cluster\": 1, \"pop\": 38654164, \"life_expect\": 74.67, \"fertility\": 1.251}, {\"year\": 2000, \"country\": \"Portugal\", \"cluster\": 1, \"pop\": 10335597, \"life_expect\": 77.29, \"fertility\": 1.454}, {\"year\": 2000, \"country\": \"Rwanda\", \"cluster\": 2, \"pop\": 7507056, \"life_expect\": 43.413, \"fertility\": 6.01}, {\"year\": 2000, \"country\": \"Saudi Arabia\", \"cluster\": 5, \"pop\": 23153090, \"life_expect\": 71.626, \"fertility\": 3.81}, {\"year\": 2000, \"country\": \"South Africa\", \"cluster\": 2, \"pop\": 44066197, \"life_expect\": 53.365, \"fertility\": 2.802}, {\"year\": 2000, \"country\": \"Spain\", \"cluster\": 1, \"pop\": 40016081, \"life_expect\": 79.78, \"fertility\": 1.287}, {\"year\": 2000, \"country\": \"Switzerland\", \"cluster\": 1, \"pop\": 7266920, \"life_expect\": 80.62, \"fertility\": 1.415}, {\"year\": 2000, \"country\": \"Turkey\", \"cluster\": 1, \"pop\": 65666677, \"life_expect\": 70.845, \"fertility\": 2.23}, {\"year\": 2000, \"country\": \"United Kingdom\", \"cluster\": 1, \"pop\": 59522468, \"life_expect\": 78.471, \"fertility\": 1.695}, {\"year\": 2000, \"country\": \"United States\", \"cluster\": 3, \"pop\": 282338631, \"life_expect\": 77.31, \"fertility\": 2.038}, {\"year\": 2000, \"country\": \"Venezuela\", \"cluster\": 3, \"pop\": 23542649, \"life_expect\": 72.766, \"fertility\": 2.723}]}}, {\"mode\": \"vega-lite\"});\n",
       "</script>"
      ],
      "text/plain": [
       "alt.Chart(...)"
      ]
     },
     "execution_count": 17,
     "metadata": {},
     "output_type": "execute_result"
    }
   ],
   "source": [
    "alt.Chart(data2000).mark_point(filled=True).encode(\n",
    "    alt.X('fertility:Q'),\n",
    "    alt.Y('life_expect:Q'),\n",
    "    alt.Size('pop:Q', scale=alt.Scale(range=[0,1000])),\n",
    "    alt.Color('cluster:N'),\n",
    "    alt.OpacityValue(0.5),\n",
    "    alt.Tooltip('country')\n",
    ")"
   ]
  },
  {
   "cell_type": "markdown",
   "metadata": {},
   "source": [
    "\n",
    "Ao passar o mouse, você pode perceber que não é possível selecionar alguns dos pontos. Por exemplo, o maior círculo azul escuro corresponde à Índia, que está desenhado sobre um país com uma população menor, impedindo que o mouse passe por cima desse país. Para resolver esse problema, podemos usar o canal de codificação `order`.\n",
    "\n",
    "O canal de codificação `order` determina a ordem dos pontos de dados, afetando tanto a ordem em que eles são desenhados quanto, para marcas de `line` e `area`, a ordem em que são conectados entre si.\n",
    "\n",
    "Vamos ordenar os valores em ordem decrescente de classificação pela população (`pop`), garantindo que círculos menores sejam desenhados depois dos círculos maiores:"
   ]
  },
  {
   "cell_type": "code",
   "execution_count": 18,
   "metadata": {
    "colab": {
     "base_uri": "https://localhost:8080/",
     "height": 372
    },
    "colab_type": "code",
    "id": "DywIzwtgVD3Z",
    "outputId": "3b7254de-09f3-4850-f066-ea8318ec5479"
   },
   "outputs": [
    {
     "data": {
      "text/html": [
       "\n",
       "<div id=\"altair-viz-2222a762cbd24bda96f85d7b0dd4dfad\"></div>\n",
       "<script type=\"text/javascript\">\n",
       "  (function(spec, embedOpt){\n",
       "    let outputDiv = document.currentScript.previousElementSibling;\n",
       "    if (outputDiv.id !== \"altair-viz-2222a762cbd24bda96f85d7b0dd4dfad\") {\n",
       "      outputDiv = document.getElementById(\"altair-viz-2222a762cbd24bda96f85d7b0dd4dfad\");\n",
       "    }\n",
       "    const paths = {\n",
       "      \"vega\": \"https://cdn.jsdelivr.net/npm//vega@5?noext\",\n",
       "      \"vega-lib\": \"https://cdn.jsdelivr.net/npm//vega-lib?noext\",\n",
       "      \"vega-lite\": \"https://cdn.jsdelivr.net/npm//vega-lite@4.8.1?noext\",\n",
       "      \"vega-embed\": \"https://cdn.jsdelivr.net/npm//vega-embed@6?noext\",\n",
       "    };\n",
       "\n",
       "    function loadScript(lib) {\n",
       "      return new Promise(function(resolve, reject) {\n",
       "        var s = document.createElement('script');\n",
       "        s.src = paths[lib];\n",
       "        s.async = true;\n",
       "        s.onload = () => resolve(paths[lib]);\n",
       "        s.onerror = () => reject(`Error loading script: ${paths[lib]}`);\n",
       "        document.getElementsByTagName(\"head\")[0].appendChild(s);\n",
       "      });\n",
       "    }\n",
       "\n",
       "    function showError(err) {\n",
       "      outputDiv.innerHTML = `<div class=\"error\" style=\"color:red;\">${err}</div>`;\n",
       "      throw err;\n",
       "    }\n",
       "\n",
       "    function displayChart(vegaEmbed) {\n",
       "      vegaEmbed(outputDiv, spec, embedOpt)\n",
       "        .catch(err => showError(`Javascript Error: ${err.message}<br>This usually means there's a typo in your chart specification. See the javascript console for the full traceback.`));\n",
       "    }\n",
       "\n",
       "    if(typeof define === \"function\" && define.amd) {\n",
       "      requirejs.config({paths});\n",
       "      require([\"vega-embed\"], displayChart, err => showError(`Error loading script: ${err.message}`));\n",
       "    } else if (typeof vegaEmbed === \"function\") {\n",
       "      displayChart(vegaEmbed);\n",
       "    } else {\n",
       "      loadScript(\"vega\")\n",
       "        .then(() => loadScript(\"vega-lite\"))\n",
       "        .then(() => loadScript(\"vega-embed\"))\n",
       "        .catch(showError)\n",
       "        .then(() => displayChart(vegaEmbed));\n",
       "    }\n",
       "  })({\"config\": {\"view\": {\"continuousWidth\": 400, \"continuousHeight\": 300}}, \"data\": {\"name\": \"data-fdeb0b749a6385830bd1445d39ad6ea0\"}, \"mark\": {\"type\": \"point\", \"filled\": true}, \"encoding\": {\"color\": {\"type\": \"nominal\", \"field\": \"cluster\"}, \"opacity\": {\"value\": 0.5}, \"order\": {\"type\": \"quantitative\", \"field\": \"pop\", \"sort\": \"descending\"}, \"size\": {\"type\": \"quantitative\", \"field\": \"pop\", \"scale\": {\"range\": [0, 1000]}}, \"tooltip\": {\"type\": \"nominal\", \"field\": \"country\"}, \"x\": {\"type\": \"quantitative\", \"field\": \"fertility\"}, \"y\": {\"type\": \"quantitative\", \"field\": \"life_expect\"}}, \"$schema\": \"https://vega.github.io/schema/vega-lite/v4.8.1.json\", \"datasets\": {\"data-fdeb0b749a6385830bd1445d39ad6ea0\": [{\"year\": 2000, \"country\": \"Afghanistan\", \"cluster\": 0, \"pop\": 23898198, \"life_expect\": 42.129, \"fertility\": 7.4792}, {\"year\": 2000, \"country\": \"Argentina\", \"cluster\": 3, \"pop\": 37497728, \"life_expect\": 74.34, \"fertility\": 2.35}, {\"year\": 2000, \"country\": \"Aruba\", \"cluster\": 3, \"pop\": 69539, \"life_expect\": 73.451, \"fertility\": 2.124}, {\"year\": 2000, \"country\": \"Australia\", \"cluster\": 4, \"pop\": 19164620, \"life_expect\": 80.37, \"fertility\": 1.756}, {\"year\": 2000, \"country\": \"Austria\", \"cluster\": 1, \"pop\": 8113413, \"life_expect\": 78.98, \"fertility\": 1.3820000000000001}, {\"year\": 2000, \"country\": \"Bahamas\", \"cluster\": 3, \"pop\": 290075, \"life_expect\": 71.068, \"fertility\": 2.1111}, {\"year\": 2000, \"country\": \"Bangladesh\", \"cluster\": 0, \"pop\": 130406594, \"life_expect\": 62.013, \"fertility\": 3.224}, {\"year\": 2000, \"country\": \"Barbados\", \"cluster\": 3, \"pop\": 273483, \"life_expect\": 75.97, \"fertility\": 1.5}, {\"year\": 2000, \"country\": \"Belgium\", \"cluster\": 1, \"pop\": 10263618, \"life_expect\": 78.32, \"fertility\": 1.638}, {\"year\": 2000, \"country\": \"Bolivia\", \"cluster\": 3, \"pop\": 8152620, \"life_expect\": 63.883, \"fertility\": 3.9585}, {\"year\": 2000, \"country\": \"Brazil\", \"cluster\": 3, \"pop\": 175552771, \"life_expect\": 71.006, \"fertility\": 2.345}, {\"year\": 2000, \"country\": \"Canada\", \"cluster\": 3, \"pop\": 31278097, \"life_expect\": 79.77, \"fertility\": 1.522}, {\"year\": 2000, \"country\": \"Chile\", \"cluster\": 3, \"pop\": 15153450, \"life_expect\": 77.86, \"fertility\": 2.0}, {\"year\": 2000, \"country\": \"China\", \"cluster\": 4, \"pop\": 1262645000, \"life_expect\": 72.028, \"fertility\": 1.7000000000000002}, {\"year\": 2000, \"country\": \"Colombia\", \"cluster\": 3, \"pop\": 39685655, \"life_expect\": 71.682, \"fertility\": 2.4705}, {\"year\": 2000, \"country\": \"Costa Rica\", \"cluster\": 3, \"pop\": 3710558, \"life_expect\": 78.123, \"fertility\": 2.2815}, {\"year\": 2000, \"country\": \"Croatia\", \"cluster\": 1, \"pop\": 4410830, \"life_expect\": 74.876, \"fertility\": 1.348}, {\"year\": 2000, \"country\": \"Cuba\", \"cluster\": 3, \"pop\": 11134273, \"life_expect\": 77.158, \"fertility\": 1.63}, {\"year\": 2000, \"country\": \"Dominican Republic\", \"cluster\": 3, \"pop\": 8385828, \"life_expect\": 70.847, \"fertility\": 2.95}, {\"year\": 2000, \"country\": \"Ecuador\", \"cluster\": 3, \"pop\": 12505204, \"life_expect\": 74.173, \"fertility\": 2.8175}, {\"year\": 2000, \"country\": \"Egypt\", \"cluster\": 5, \"pop\": 70492342, \"life_expect\": 69.806, \"fertility\": 3.174}, {\"year\": 2000, \"country\": \"El Salvador\", \"cluster\": 3, \"pop\": 6122515, \"life_expect\": 70.734, \"fertility\": 2.883}, {\"year\": 2000, \"country\": \"Finland\", \"cluster\": 1, \"pop\": 5168595, \"life_expect\": 78.37, \"fertility\": 1.754}, {\"year\": 2000, \"country\": \"France\", \"cluster\": 1, \"pop\": 59381628, \"life_expect\": 79.59, \"fertility\": 1.8833000000000002}, {\"year\": 2000, \"country\": \"Georgia\", \"cluster\": 1, \"pop\": 4777209, \"life_expect\": 70.476, \"fertility\": 1.478}, {\"year\": 2000, \"country\": \"Germany\", \"cluster\": 1, \"pop\": 82187909, \"life_expect\": 78.67, \"fertility\": 1.346}, {\"year\": 2000, \"country\": \"Greece\", \"cluster\": 1, \"pop\": 10559110, \"life_expect\": 78.256, \"fertility\": 1.2770000000000001}, {\"year\": 2000, \"country\": \"Grenada\", \"cluster\": 3, \"pop\": 89312, \"life_expect\": 67.746, \"fertility\": 2.429}, {\"year\": 2000, \"country\": \"Haiti\", \"cluster\": 3, \"pop\": 7306302, \"life_expect\": 58.137, \"fertility\": 4.0}, {\"year\": 2000, \"country\": \"Hong Kong\", \"cluster\": 4, \"pop\": 6658720, \"life_expect\": 81.495, \"fertility\": 0.9400000000000001}, {\"year\": 2000, \"country\": \"Iceland\", \"cluster\": 1, \"pop\": 281043, \"life_expect\": 80.5, \"fertility\": 1.9929999999999999}, {\"year\": 2000, \"country\": \"India\", \"cluster\": 0, \"pop\": 1007702000, \"life_expect\": 62.879, \"fertility\": 3.1132}, {\"year\": 2000, \"country\": \"Indonesia\", \"cluster\": 4, \"pop\": 206265000, \"life_expect\": 68.588, \"fertility\": 2.3761}, {\"year\": 2000, \"country\": \"Iran\", \"cluster\": 5, \"pop\": 65660289, \"life_expect\": 69.451, \"fertility\": 2.124}, {\"year\": 2000, \"country\": \"Iraq\", \"cluster\": 5, \"pop\": 22675617, \"life_expect\": 57.046, \"fertility\": 4.858}, {\"year\": 2000, \"country\": \"Ireland\", \"cluster\": 1, \"pop\": 3791690, \"life_expect\": 77.783, \"fertility\": 1.9689999999999999}, {\"year\": 2000, \"country\": \"Israel\", \"cluster\": 5, \"pop\": 5842454, \"life_expect\": 79.696, \"fertility\": 2.906}, {\"year\": 2000, \"country\": \"Italy\", \"cluster\": 1, \"pop\": 57719337, \"life_expect\": 80.24, \"fertility\": 1.286}, {\"year\": 2000, \"country\": \"Jamaica\", \"cluster\": 3, \"pop\": 2615467, \"life_expect\": 72.047, \"fertility\": 2.628}, {\"year\": 2000, \"country\": \"Japan\", \"cluster\": 4, \"pop\": 126699784, \"life_expect\": 82.0, \"fertility\": 1.291}, {\"year\": 2000, \"country\": \"Kenya\", \"cluster\": 2, \"pop\": 29985839, \"life_expect\": 50.992, \"fertility\": 5.0}, {\"year\": 2000, \"country\": \"South Korea\", \"cluster\": 4, \"pop\": 21647682, \"life_expect\": 66.662, \"fertility\": 1.9173}, {\"year\": 2000, \"country\": \"North Korea\", \"cluster\": 4, \"pop\": 47351083, \"life_expect\": 77.045, \"fertility\": 1.242}, {\"year\": 2000, \"country\": \"Lebanon\", \"cluster\": 5, \"pop\": 3578036, \"life_expect\": 71.028, \"fertility\": 2.319}, {\"year\": 2000, \"country\": \"Mexico\", \"cluster\": 3, \"pop\": 99926620, \"life_expect\": 74.902, \"fertility\": 2.4005}, {\"year\": 2000, \"country\": \"Netherlands\", \"cluster\": 1, \"pop\": 15907853, \"life_expect\": 78.53, \"fertility\": 1.726}, {\"year\": 2000, \"country\": \"New Zealand\", \"cluster\": 4, \"pop\": 3819762, \"life_expect\": 79.11, \"fertility\": 1.964}, {\"year\": 2000, \"country\": \"Nigeria\", \"cluster\": 2, \"pop\": 114306700, \"life_expect\": 46.608, \"fertility\": 5.845}, {\"year\": 2000, \"country\": \"Norway\", \"cluster\": 1, \"pop\": 4492400, \"life_expect\": 79.05, \"fertility\": 1.8010000000000002}, {\"year\": 2000, \"country\": \"Pakistan\", \"cluster\": 0, \"pop\": 146342958, \"life_expect\": 63.61, \"fertility\": 3.9936}, {\"year\": 2000, \"country\": \"Peru\", \"cluster\": 3, \"pop\": 25979722, \"life_expect\": 69.906, \"fertility\": 2.7005}, {\"year\": 2000, \"country\": \"Philippines\", \"cluster\": 4, \"pop\": 79739825, \"life_expect\": 70.303, \"fertility\": 3.5436}, {\"year\": 2000, \"country\": \"Poland\", \"cluster\": 1, \"pop\": 38654164, \"life_expect\": 74.67, \"fertility\": 1.251}, {\"year\": 2000, \"country\": \"Portugal\", \"cluster\": 1, \"pop\": 10335597, \"life_expect\": 77.29, \"fertility\": 1.454}, {\"year\": 2000, \"country\": \"Rwanda\", \"cluster\": 2, \"pop\": 7507056, \"life_expect\": 43.413, \"fertility\": 6.01}, {\"year\": 2000, \"country\": \"Saudi Arabia\", \"cluster\": 5, \"pop\": 23153090, \"life_expect\": 71.626, \"fertility\": 3.81}, {\"year\": 2000, \"country\": \"South Africa\", \"cluster\": 2, \"pop\": 44066197, \"life_expect\": 53.365, \"fertility\": 2.802}, {\"year\": 2000, \"country\": \"Spain\", \"cluster\": 1, \"pop\": 40016081, \"life_expect\": 79.78, \"fertility\": 1.287}, {\"year\": 2000, \"country\": \"Switzerland\", \"cluster\": 1, \"pop\": 7266920, \"life_expect\": 80.62, \"fertility\": 1.415}, {\"year\": 2000, \"country\": \"Turkey\", \"cluster\": 1, \"pop\": 65666677, \"life_expect\": 70.845, \"fertility\": 2.23}, {\"year\": 2000, \"country\": \"United Kingdom\", \"cluster\": 1, \"pop\": 59522468, \"life_expect\": 78.471, \"fertility\": 1.695}, {\"year\": 2000, \"country\": \"United States\", \"cluster\": 3, \"pop\": 282338631, \"life_expect\": 77.31, \"fertility\": 2.038}, {\"year\": 2000, \"country\": \"Venezuela\", \"cluster\": 3, \"pop\": 23542649, \"life_expect\": 72.766, \"fertility\": 2.723}]}}, {\"mode\": \"vega-lite\"});\n",
       "</script>"
      ],
      "text/plain": [
       "alt.Chart(...)"
      ]
     },
     "execution_count": 18,
     "metadata": {},
     "output_type": "execute_result"
    }
   ],
   "source": [
    "alt.Chart(data2000).mark_point(filled=True).encode(\n",
    "    alt.X('fertility:Q'),\n",
    "    alt.Y('life_expect:Q'),\n",
    "    alt.Size('pop:Q', scale=alt.Scale(range=[0,1000])),\n",
    "    alt.Color('cluster:N'),\n",
    "    alt.OpacityValue(0.5),\n",
    "    alt.Tooltip('country:N'),\n",
    "    alt.Order('pop:Q', sort='descending')\n",
    ")"
   ]
  },
  {
   "cell_type": "markdown",
   "metadata": {},
   "source": [
    "\n",
    "Agora podemos identificar o pequeno país que estava sendo obscurecido pela Índia: é Bangladesh!\n",
    "\n",
    "Nós também podemos descobrir o que o campo `cluster` representa. Passe o mouse sobre os diversos pontos coloridos para formular sua própria explicação.\n",
    "\n",
    "Neste ponto, adicionamos tooltips que mostram apenas uma única propriedade do registro de dados subjacente. Para mostrar múltiplos valores, podemos fornecer ao canal `tooltip` um array de codificações, uma para cada campo que queremos incluir:"
   ]
  },
  {
   "cell_type": "code",
   "execution_count": 19,
   "metadata": {
    "colab": {
     "base_uri": "https://localhost:8080/",
     "height": 372
    },
    "colab_type": "code",
    "id": "450DUk-mXzzQ",
    "outputId": "ee47eb3b-146d-4c6b-dfa7-94ddeb0fc5d3"
   },
   "outputs": [
    {
     "data": {
      "text/html": [
       "\n",
       "<div id=\"altair-viz-5c20de5dbb7d4311af591976006b82c7\"></div>\n",
       "<script type=\"text/javascript\">\n",
       "  (function(spec, embedOpt){\n",
       "    let outputDiv = document.currentScript.previousElementSibling;\n",
       "    if (outputDiv.id !== \"altair-viz-5c20de5dbb7d4311af591976006b82c7\") {\n",
       "      outputDiv = document.getElementById(\"altair-viz-5c20de5dbb7d4311af591976006b82c7\");\n",
       "    }\n",
       "    const paths = {\n",
       "      \"vega\": \"https://cdn.jsdelivr.net/npm//vega@5?noext\",\n",
       "      \"vega-lib\": \"https://cdn.jsdelivr.net/npm//vega-lib?noext\",\n",
       "      \"vega-lite\": \"https://cdn.jsdelivr.net/npm//vega-lite@4.8.1?noext\",\n",
       "      \"vega-embed\": \"https://cdn.jsdelivr.net/npm//vega-embed@6?noext\",\n",
       "    };\n",
       "\n",
       "    function loadScript(lib) {\n",
       "      return new Promise(function(resolve, reject) {\n",
       "        var s = document.createElement('script');\n",
       "        s.src = paths[lib];\n",
       "        s.async = true;\n",
       "        s.onload = () => resolve(paths[lib]);\n",
       "        s.onerror = () => reject(`Error loading script: ${paths[lib]}`);\n",
       "        document.getElementsByTagName(\"head\")[0].appendChild(s);\n",
       "      });\n",
       "    }\n",
       "\n",
       "    function showError(err) {\n",
       "      outputDiv.innerHTML = `<div class=\"error\" style=\"color:red;\">${err}</div>`;\n",
       "      throw err;\n",
       "    }\n",
       "\n",
       "    function displayChart(vegaEmbed) {\n",
       "      vegaEmbed(outputDiv, spec, embedOpt)\n",
       "        .catch(err => showError(`Javascript Error: ${err.message}<br>This usually means there's a typo in your chart specification. See the javascript console for the full traceback.`));\n",
       "    }\n",
       "\n",
       "    if(typeof define === \"function\" && define.amd) {\n",
       "      requirejs.config({paths});\n",
       "      require([\"vega-embed\"], displayChart, err => showError(`Error loading script: ${err.message}`));\n",
       "    } else if (typeof vegaEmbed === \"function\") {\n",
       "      displayChart(vegaEmbed);\n",
       "    } else {\n",
       "      loadScript(\"vega\")\n",
       "        .then(() => loadScript(\"vega-lite\"))\n",
       "        .then(() => loadScript(\"vega-embed\"))\n",
       "        .catch(showError)\n",
       "        .then(() => displayChart(vegaEmbed));\n",
       "    }\n",
       "  })({\"config\": {\"view\": {\"continuousWidth\": 400, \"continuousHeight\": 300}}, \"data\": {\"name\": \"data-fdeb0b749a6385830bd1445d39ad6ea0\"}, \"mark\": {\"type\": \"point\", \"filled\": true}, \"encoding\": {\"color\": {\"type\": \"nominal\", \"field\": \"cluster\"}, \"opacity\": {\"value\": 0.5}, \"order\": {\"type\": \"quantitative\", \"field\": \"pop\", \"sort\": \"descending\"}, \"size\": {\"type\": \"quantitative\", \"field\": \"pop\", \"scale\": {\"range\": [0, 1000]}}, \"tooltip\": [{\"type\": \"nominal\", \"field\": \"country\"}, {\"type\": \"quantitative\", \"field\": \"fertility\"}, {\"type\": \"quantitative\", \"field\": \"life_expect\"}], \"x\": {\"type\": \"quantitative\", \"field\": \"fertility\"}, \"y\": {\"type\": \"quantitative\", \"field\": \"life_expect\"}}, \"$schema\": \"https://vega.github.io/schema/vega-lite/v4.8.1.json\", \"datasets\": {\"data-fdeb0b749a6385830bd1445d39ad6ea0\": [{\"year\": 2000, \"country\": \"Afghanistan\", \"cluster\": 0, \"pop\": 23898198, \"life_expect\": 42.129, \"fertility\": 7.4792}, {\"year\": 2000, \"country\": \"Argentina\", \"cluster\": 3, \"pop\": 37497728, \"life_expect\": 74.34, \"fertility\": 2.35}, {\"year\": 2000, \"country\": \"Aruba\", \"cluster\": 3, \"pop\": 69539, \"life_expect\": 73.451, \"fertility\": 2.124}, {\"year\": 2000, \"country\": \"Australia\", \"cluster\": 4, \"pop\": 19164620, \"life_expect\": 80.37, \"fertility\": 1.756}, {\"year\": 2000, \"country\": \"Austria\", \"cluster\": 1, \"pop\": 8113413, \"life_expect\": 78.98, \"fertility\": 1.3820000000000001}, {\"year\": 2000, \"country\": \"Bahamas\", \"cluster\": 3, \"pop\": 290075, \"life_expect\": 71.068, \"fertility\": 2.1111}, {\"year\": 2000, \"country\": \"Bangladesh\", \"cluster\": 0, \"pop\": 130406594, \"life_expect\": 62.013, \"fertility\": 3.224}, {\"year\": 2000, \"country\": \"Barbados\", \"cluster\": 3, \"pop\": 273483, \"life_expect\": 75.97, \"fertility\": 1.5}, {\"year\": 2000, \"country\": \"Belgium\", \"cluster\": 1, \"pop\": 10263618, \"life_expect\": 78.32, \"fertility\": 1.638}, {\"year\": 2000, \"country\": \"Bolivia\", \"cluster\": 3, \"pop\": 8152620, \"life_expect\": 63.883, \"fertility\": 3.9585}, {\"year\": 2000, \"country\": \"Brazil\", \"cluster\": 3, \"pop\": 175552771, \"life_expect\": 71.006, \"fertility\": 2.345}, {\"year\": 2000, \"country\": \"Canada\", \"cluster\": 3, \"pop\": 31278097, \"life_expect\": 79.77, \"fertility\": 1.522}, {\"year\": 2000, \"country\": \"Chile\", \"cluster\": 3, \"pop\": 15153450, \"life_expect\": 77.86, \"fertility\": 2.0}, {\"year\": 2000, \"country\": \"China\", \"cluster\": 4, \"pop\": 1262645000, \"life_expect\": 72.028, \"fertility\": 1.7000000000000002}, {\"year\": 2000, \"country\": \"Colombia\", \"cluster\": 3, \"pop\": 39685655, \"life_expect\": 71.682, \"fertility\": 2.4705}, {\"year\": 2000, \"country\": \"Costa Rica\", \"cluster\": 3, \"pop\": 3710558, \"life_expect\": 78.123, \"fertility\": 2.2815}, {\"year\": 2000, \"country\": \"Croatia\", \"cluster\": 1, \"pop\": 4410830, \"life_expect\": 74.876, \"fertility\": 1.348}, {\"year\": 2000, \"country\": \"Cuba\", \"cluster\": 3, \"pop\": 11134273, \"life_expect\": 77.158, \"fertility\": 1.63}, {\"year\": 2000, \"country\": \"Dominican Republic\", \"cluster\": 3, \"pop\": 8385828, \"life_expect\": 70.847, \"fertility\": 2.95}, {\"year\": 2000, \"country\": \"Ecuador\", \"cluster\": 3, \"pop\": 12505204, \"life_expect\": 74.173, \"fertility\": 2.8175}, {\"year\": 2000, \"country\": \"Egypt\", \"cluster\": 5, \"pop\": 70492342, \"life_expect\": 69.806, \"fertility\": 3.174}, {\"year\": 2000, \"country\": \"El Salvador\", \"cluster\": 3, \"pop\": 6122515, \"life_expect\": 70.734, \"fertility\": 2.883}, {\"year\": 2000, \"country\": \"Finland\", \"cluster\": 1, \"pop\": 5168595, \"life_expect\": 78.37, \"fertility\": 1.754}, {\"year\": 2000, \"country\": \"France\", \"cluster\": 1, \"pop\": 59381628, \"life_expect\": 79.59, \"fertility\": 1.8833000000000002}, {\"year\": 2000, \"country\": \"Georgia\", \"cluster\": 1, \"pop\": 4777209, \"life_expect\": 70.476, \"fertility\": 1.478}, {\"year\": 2000, \"country\": \"Germany\", \"cluster\": 1, \"pop\": 82187909, \"life_expect\": 78.67, \"fertility\": 1.346}, {\"year\": 2000, \"country\": \"Greece\", \"cluster\": 1, \"pop\": 10559110, \"life_expect\": 78.256, \"fertility\": 1.2770000000000001}, {\"year\": 2000, \"country\": \"Grenada\", \"cluster\": 3, \"pop\": 89312, \"life_expect\": 67.746, \"fertility\": 2.429}, {\"year\": 2000, \"country\": \"Haiti\", \"cluster\": 3, \"pop\": 7306302, \"life_expect\": 58.137, \"fertility\": 4.0}, {\"year\": 2000, \"country\": \"Hong Kong\", \"cluster\": 4, \"pop\": 6658720, \"life_expect\": 81.495, \"fertility\": 0.9400000000000001}, {\"year\": 2000, \"country\": \"Iceland\", \"cluster\": 1, \"pop\": 281043, \"life_expect\": 80.5, \"fertility\": 1.9929999999999999}, {\"year\": 2000, \"country\": \"India\", \"cluster\": 0, \"pop\": 1007702000, \"life_expect\": 62.879, \"fertility\": 3.1132}, {\"year\": 2000, \"country\": \"Indonesia\", \"cluster\": 4, \"pop\": 206265000, \"life_expect\": 68.588, \"fertility\": 2.3761}, {\"year\": 2000, \"country\": \"Iran\", \"cluster\": 5, \"pop\": 65660289, \"life_expect\": 69.451, \"fertility\": 2.124}, {\"year\": 2000, \"country\": \"Iraq\", \"cluster\": 5, \"pop\": 22675617, \"life_expect\": 57.046, \"fertility\": 4.858}, {\"year\": 2000, \"country\": \"Ireland\", \"cluster\": 1, \"pop\": 3791690, \"life_expect\": 77.783, \"fertility\": 1.9689999999999999}, {\"year\": 2000, \"country\": \"Israel\", \"cluster\": 5, \"pop\": 5842454, \"life_expect\": 79.696, \"fertility\": 2.906}, {\"year\": 2000, \"country\": \"Italy\", \"cluster\": 1, \"pop\": 57719337, \"life_expect\": 80.24, \"fertility\": 1.286}, {\"year\": 2000, \"country\": \"Jamaica\", \"cluster\": 3, \"pop\": 2615467, \"life_expect\": 72.047, \"fertility\": 2.628}, {\"year\": 2000, \"country\": \"Japan\", \"cluster\": 4, \"pop\": 126699784, \"life_expect\": 82.0, \"fertility\": 1.291}, {\"year\": 2000, \"country\": \"Kenya\", \"cluster\": 2, \"pop\": 29985839, \"life_expect\": 50.992, \"fertility\": 5.0}, {\"year\": 2000, \"country\": \"South Korea\", \"cluster\": 4, \"pop\": 21647682, \"life_expect\": 66.662, \"fertility\": 1.9173}, {\"year\": 2000, \"country\": \"North Korea\", \"cluster\": 4, \"pop\": 47351083, \"life_expect\": 77.045, \"fertility\": 1.242}, {\"year\": 2000, \"country\": \"Lebanon\", \"cluster\": 5, \"pop\": 3578036, \"life_expect\": 71.028, \"fertility\": 2.319}, {\"year\": 2000, \"country\": \"Mexico\", \"cluster\": 3, \"pop\": 99926620, \"life_expect\": 74.902, \"fertility\": 2.4005}, {\"year\": 2000, \"country\": \"Netherlands\", \"cluster\": 1, \"pop\": 15907853, \"life_expect\": 78.53, \"fertility\": 1.726}, {\"year\": 2000, \"country\": \"New Zealand\", \"cluster\": 4, \"pop\": 3819762, \"life_expect\": 79.11, \"fertility\": 1.964}, {\"year\": 2000, \"country\": \"Nigeria\", \"cluster\": 2, \"pop\": 114306700, \"life_expect\": 46.608, \"fertility\": 5.845}, {\"year\": 2000, \"country\": \"Norway\", \"cluster\": 1, \"pop\": 4492400, \"life_expect\": 79.05, \"fertility\": 1.8010000000000002}, {\"year\": 2000, \"country\": \"Pakistan\", \"cluster\": 0, \"pop\": 146342958, \"life_expect\": 63.61, \"fertility\": 3.9936}, {\"year\": 2000, \"country\": \"Peru\", \"cluster\": 3, \"pop\": 25979722, \"life_expect\": 69.906, \"fertility\": 2.7005}, {\"year\": 2000, \"country\": \"Philippines\", \"cluster\": 4, \"pop\": 79739825, \"life_expect\": 70.303, \"fertility\": 3.5436}, {\"year\": 2000, \"country\": \"Poland\", \"cluster\": 1, \"pop\": 38654164, \"life_expect\": 74.67, \"fertility\": 1.251}, {\"year\": 2000, \"country\": \"Portugal\", \"cluster\": 1, \"pop\": 10335597, \"life_expect\": 77.29, \"fertility\": 1.454}, {\"year\": 2000, \"country\": \"Rwanda\", \"cluster\": 2, \"pop\": 7507056, \"life_expect\": 43.413, \"fertility\": 6.01}, {\"year\": 2000, \"country\": \"Saudi Arabia\", \"cluster\": 5, \"pop\": 23153090, \"life_expect\": 71.626, \"fertility\": 3.81}, {\"year\": 2000, \"country\": \"South Africa\", \"cluster\": 2, \"pop\": 44066197, \"life_expect\": 53.365, \"fertility\": 2.802}, {\"year\": 2000, \"country\": \"Spain\", \"cluster\": 1, \"pop\": 40016081, \"life_expect\": 79.78, \"fertility\": 1.287}, {\"year\": 2000, \"country\": \"Switzerland\", \"cluster\": 1, \"pop\": 7266920, \"life_expect\": 80.62, \"fertility\": 1.415}, {\"year\": 2000, \"country\": \"Turkey\", \"cluster\": 1, \"pop\": 65666677, \"life_expect\": 70.845, \"fertility\": 2.23}, {\"year\": 2000, \"country\": \"United Kingdom\", \"cluster\": 1, \"pop\": 59522468, \"life_expect\": 78.471, \"fertility\": 1.695}, {\"year\": 2000, \"country\": \"United States\", \"cluster\": 3, \"pop\": 282338631, \"life_expect\": 77.31, \"fertility\": 2.038}, {\"year\": 2000, \"country\": \"Venezuela\", \"cluster\": 3, \"pop\": 23542649, \"life_expect\": 72.766, \"fertility\": 2.723}]}}, {\"mode\": \"vega-lite\"});\n",
       "</script>"
      ],
      "text/plain": [
       "alt.Chart(...)"
      ]
     },
     "execution_count": 19,
     "metadata": {},
     "output_type": "execute_result"
    }
   ],
   "source": [
    "alt.Chart(data2000).mark_point(filled=True).encode(\n",
    "    alt.X('fertility:Q'),\n",
    "    alt.Y('life_expect:Q'),\n",
    "    alt.Size('pop:Q', scale=alt.Scale(range=[0,1000])),\n",
    "    alt.Color('cluster:N'),\n",
    "    alt.OpacityValue(0.5),\n",
    "    alt.Order('pop:Q', sort='descending'),\n",
    "    tooltip = [\n",
    "        alt.Tooltip('country:N'),\n",
    "        alt.Tooltip('fertility:Q'),\n",
    "        alt.Tooltip('life_expect:Q')\n",
    "    ]   \n",
    ")"
   ]
  },
  {
   "cell_type": "markdown",
   "metadata": {},
   "source": [
    "\n",
    "Agora podemos ver múltiplos campos de dados ao passar o mouse por cima!"
   ]
  },
  {
   "cell_type": "markdown",
   "metadata": {},
   "source": [
    "### 2.3.7 Facetas de Coluna e Linha"
   ]
  },
  {
   "cell_type": "markdown",
   "metadata": {},
   "source": [
    "A posição espacial é um dos canais mais poderosos e flexíveis para codificação visual. Mas o que podemos fazer se já atribuímos campos aos canais x e y? Uma técnica valiosa é criar um gráfico treliça, que consiste em subgráficos que mostram um subconjunto dos dados. Um gráfico treliça é um exemplo da técnica mais geral de apresentar dados usando pequenos múltiplos ([small multiples](https://en.wikipedia.org/wiki/Small_multiple)) de visualizações.\n",
    "\n",
    "Os canais de codificação `column` e `row` geram um conjunto horizontal (colunas) ou vertical (linhas) de subgráficos, nos quais os dados são particionados de acordo com o campo de dados fornecido.\n",
    "\n",
    "Aqui está um gráfico treliça que divide os dados numa coluna por valor de `cluster`:"
   ]
  },
  {
   "cell_type": "code",
   "execution_count": 20,
   "metadata": {
    "colab": {
     "base_uri": "https://localhost:8080/",
     "height": 441
    },
    "colab_type": "code",
    "id": "gszjktorPmRc",
    "outputId": "b62aff8e-a2aa-409a-be1d-4cf3708f9ab3"
   },
   "outputs": [
    {
     "data": {
      "text/html": [
       "\n",
       "<div id=\"altair-viz-00cccc97d85b4f649705fd28cc4c9a0c\"></div>\n",
       "<script type=\"text/javascript\">\n",
       "  (function(spec, embedOpt){\n",
       "    let outputDiv = document.currentScript.previousElementSibling;\n",
       "    if (outputDiv.id !== \"altair-viz-00cccc97d85b4f649705fd28cc4c9a0c\") {\n",
       "      outputDiv = document.getElementById(\"altair-viz-00cccc97d85b4f649705fd28cc4c9a0c\");\n",
       "    }\n",
       "    const paths = {\n",
       "      \"vega\": \"https://cdn.jsdelivr.net/npm//vega@5?noext\",\n",
       "      \"vega-lib\": \"https://cdn.jsdelivr.net/npm//vega-lib?noext\",\n",
       "      \"vega-lite\": \"https://cdn.jsdelivr.net/npm//vega-lite@4.8.1?noext\",\n",
       "      \"vega-embed\": \"https://cdn.jsdelivr.net/npm//vega-embed@6?noext\",\n",
       "    };\n",
       "\n",
       "    function loadScript(lib) {\n",
       "      return new Promise(function(resolve, reject) {\n",
       "        var s = document.createElement('script');\n",
       "        s.src = paths[lib];\n",
       "        s.async = true;\n",
       "        s.onload = () => resolve(paths[lib]);\n",
       "        s.onerror = () => reject(`Error loading script: ${paths[lib]}`);\n",
       "        document.getElementsByTagName(\"head\")[0].appendChild(s);\n",
       "      });\n",
       "    }\n",
       "\n",
       "    function showError(err) {\n",
       "      outputDiv.innerHTML = `<div class=\"error\" style=\"color:red;\">${err}</div>`;\n",
       "      throw err;\n",
       "    }\n",
       "\n",
       "    function displayChart(vegaEmbed) {\n",
       "      vegaEmbed(outputDiv, spec, embedOpt)\n",
       "        .catch(err => showError(`Javascript Error: ${err.message}<br>This usually means there's a typo in your chart specification. See the javascript console for the full traceback.`));\n",
       "    }\n",
       "\n",
       "    if(typeof define === \"function\" && define.amd) {\n",
       "      requirejs.config({paths});\n",
       "      require([\"vega-embed\"], displayChart, err => showError(`Error loading script: ${err.message}`));\n",
       "    } else if (typeof vegaEmbed === \"function\") {\n",
       "      displayChart(vegaEmbed);\n",
       "    } else {\n",
       "      loadScript(\"vega\")\n",
       "        .then(() => loadScript(\"vega-lite\"))\n",
       "        .then(() => loadScript(\"vega-embed\"))\n",
       "        .catch(showError)\n",
       "        .then(() => displayChart(vegaEmbed));\n",
       "    }\n",
       "  })({\"config\": {\"view\": {\"continuousWidth\": 400, \"continuousHeight\": 300}}, \"data\": {\"name\": \"data-fdeb0b749a6385830bd1445d39ad6ea0\"}, \"mark\": {\"type\": \"point\", \"filled\": true}, \"encoding\": {\"color\": {\"type\": \"nominal\", \"field\": \"cluster\"}, \"column\": {\"type\": \"nominal\", \"field\": \"cluster\"}, \"opacity\": {\"value\": 0.5}, \"order\": {\"type\": \"quantitative\", \"field\": \"pop\", \"sort\": \"descending\"}, \"size\": {\"type\": \"quantitative\", \"field\": \"pop\", \"scale\": {\"range\": [0, 1000]}}, \"tooltip\": {\"type\": \"nominal\", \"field\": \"country\"}, \"x\": {\"type\": \"quantitative\", \"field\": \"fertility\"}, \"y\": {\"type\": \"quantitative\", \"field\": \"life_expect\"}}, \"$schema\": \"https://vega.github.io/schema/vega-lite/v4.8.1.json\", \"datasets\": {\"data-fdeb0b749a6385830bd1445d39ad6ea0\": [{\"year\": 2000, \"country\": \"Afghanistan\", \"cluster\": 0, \"pop\": 23898198, \"life_expect\": 42.129, \"fertility\": 7.4792}, {\"year\": 2000, \"country\": \"Argentina\", \"cluster\": 3, \"pop\": 37497728, \"life_expect\": 74.34, \"fertility\": 2.35}, {\"year\": 2000, \"country\": \"Aruba\", \"cluster\": 3, \"pop\": 69539, \"life_expect\": 73.451, \"fertility\": 2.124}, {\"year\": 2000, \"country\": \"Australia\", \"cluster\": 4, \"pop\": 19164620, \"life_expect\": 80.37, \"fertility\": 1.756}, {\"year\": 2000, \"country\": \"Austria\", \"cluster\": 1, \"pop\": 8113413, \"life_expect\": 78.98, \"fertility\": 1.3820000000000001}, {\"year\": 2000, \"country\": \"Bahamas\", \"cluster\": 3, \"pop\": 290075, \"life_expect\": 71.068, \"fertility\": 2.1111}, {\"year\": 2000, \"country\": \"Bangladesh\", \"cluster\": 0, \"pop\": 130406594, \"life_expect\": 62.013, \"fertility\": 3.224}, {\"year\": 2000, \"country\": \"Barbados\", \"cluster\": 3, \"pop\": 273483, \"life_expect\": 75.97, \"fertility\": 1.5}, {\"year\": 2000, \"country\": \"Belgium\", \"cluster\": 1, \"pop\": 10263618, \"life_expect\": 78.32, \"fertility\": 1.638}, {\"year\": 2000, \"country\": \"Bolivia\", \"cluster\": 3, \"pop\": 8152620, \"life_expect\": 63.883, \"fertility\": 3.9585}, {\"year\": 2000, \"country\": \"Brazil\", \"cluster\": 3, \"pop\": 175552771, \"life_expect\": 71.006, \"fertility\": 2.345}, {\"year\": 2000, \"country\": \"Canada\", \"cluster\": 3, \"pop\": 31278097, \"life_expect\": 79.77, \"fertility\": 1.522}, {\"year\": 2000, \"country\": \"Chile\", \"cluster\": 3, \"pop\": 15153450, \"life_expect\": 77.86, \"fertility\": 2.0}, {\"year\": 2000, \"country\": \"China\", \"cluster\": 4, \"pop\": 1262645000, \"life_expect\": 72.028, \"fertility\": 1.7000000000000002}, {\"year\": 2000, \"country\": \"Colombia\", \"cluster\": 3, \"pop\": 39685655, \"life_expect\": 71.682, \"fertility\": 2.4705}, {\"year\": 2000, \"country\": \"Costa Rica\", \"cluster\": 3, \"pop\": 3710558, \"life_expect\": 78.123, \"fertility\": 2.2815}, {\"year\": 2000, \"country\": \"Croatia\", \"cluster\": 1, \"pop\": 4410830, \"life_expect\": 74.876, \"fertility\": 1.348}, {\"year\": 2000, \"country\": \"Cuba\", \"cluster\": 3, \"pop\": 11134273, \"life_expect\": 77.158, \"fertility\": 1.63}, {\"year\": 2000, \"country\": \"Dominican Republic\", \"cluster\": 3, \"pop\": 8385828, \"life_expect\": 70.847, \"fertility\": 2.95}, {\"year\": 2000, \"country\": \"Ecuador\", \"cluster\": 3, \"pop\": 12505204, \"life_expect\": 74.173, \"fertility\": 2.8175}, {\"year\": 2000, \"country\": \"Egypt\", \"cluster\": 5, \"pop\": 70492342, \"life_expect\": 69.806, \"fertility\": 3.174}, {\"year\": 2000, \"country\": \"El Salvador\", \"cluster\": 3, \"pop\": 6122515, \"life_expect\": 70.734, \"fertility\": 2.883}, {\"year\": 2000, \"country\": \"Finland\", \"cluster\": 1, \"pop\": 5168595, \"life_expect\": 78.37, \"fertility\": 1.754}, {\"year\": 2000, \"country\": \"France\", \"cluster\": 1, \"pop\": 59381628, \"life_expect\": 79.59, \"fertility\": 1.8833000000000002}, {\"year\": 2000, \"country\": \"Georgia\", \"cluster\": 1, \"pop\": 4777209, \"life_expect\": 70.476, \"fertility\": 1.478}, {\"year\": 2000, \"country\": \"Germany\", \"cluster\": 1, \"pop\": 82187909, \"life_expect\": 78.67, \"fertility\": 1.346}, {\"year\": 2000, \"country\": \"Greece\", \"cluster\": 1, \"pop\": 10559110, \"life_expect\": 78.256, \"fertility\": 1.2770000000000001}, {\"year\": 2000, \"country\": \"Grenada\", \"cluster\": 3, \"pop\": 89312, \"life_expect\": 67.746, \"fertility\": 2.429}, {\"year\": 2000, \"country\": \"Haiti\", \"cluster\": 3, \"pop\": 7306302, \"life_expect\": 58.137, \"fertility\": 4.0}, {\"year\": 2000, \"country\": \"Hong Kong\", \"cluster\": 4, \"pop\": 6658720, \"life_expect\": 81.495, \"fertility\": 0.9400000000000001}, {\"year\": 2000, \"country\": \"Iceland\", \"cluster\": 1, \"pop\": 281043, \"life_expect\": 80.5, \"fertility\": 1.9929999999999999}, {\"year\": 2000, \"country\": \"India\", \"cluster\": 0, \"pop\": 1007702000, \"life_expect\": 62.879, \"fertility\": 3.1132}, {\"year\": 2000, \"country\": \"Indonesia\", \"cluster\": 4, \"pop\": 206265000, \"life_expect\": 68.588, \"fertility\": 2.3761}, {\"year\": 2000, \"country\": \"Iran\", \"cluster\": 5, \"pop\": 65660289, \"life_expect\": 69.451, \"fertility\": 2.124}, {\"year\": 2000, \"country\": \"Iraq\", \"cluster\": 5, \"pop\": 22675617, \"life_expect\": 57.046, \"fertility\": 4.858}, {\"year\": 2000, \"country\": \"Ireland\", \"cluster\": 1, \"pop\": 3791690, \"life_expect\": 77.783, \"fertility\": 1.9689999999999999}, {\"year\": 2000, \"country\": \"Israel\", \"cluster\": 5, \"pop\": 5842454, \"life_expect\": 79.696, \"fertility\": 2.906}, {\"year\": 2000, \"country\": \"Italy\", \"cluster\": 1, \"pop\": 57719337, \"life_expect\": 80.24, \"fertility\": 1.286}, {\"year\": 2000, \"country\": \"Jamaica\", \"cluster\": 3, \"pop\": 2615467, \"life_expect\": 72.047, \"fertility\": 2.628}, {\"year\": 2000, \"country\": \"Japan\", \"cluster\": 4, \"pop\": 126699784, \"life_expect\": 82.0, \"fertility\": 1.291}, {\"year\": 2000, \"country\": \"Kenya\", \"cluster\": 2, \"pop\": 29985839, \"life_expect\": 50.992, \"fertility\": 5.0}, {\"year\": 2000, \"country\": \"South Korea\", \"cluster\": 4, \"pop\": 21647682, \"life_expect\": 66.662, \"fertility\": 1.9173}, {\"year\": 2000, \"country\": \"North Korea\", \"cluster\": 4, \"pop\": 47351083, \"life_expect\": 77.045, \"fertility\": 1.242}, {\"year\": 2000, \"country\": \"Lebanon\", \"cluster\": 5, \"pop\": 3578036, \"life_expect\": 71.028, \"fertility\": 2.319}, {\"year\": 2000, \"country\": \"Mexico\", \"cluster\": 3, \"pop\": 99926620, \"life_expect\": 74.902, \"fertility\": 2.4005}, {\"year\": 2000, \"country\": \"Netherlands\", \"cluster\": 1, \"pop\": 15907853, \"life_expect\": 78.53, \"fertility\": 1.726}, {\"year\": 2000, \"country\": \"New Zealand\", \"cluster\": 4, \"pop\": 3819762, \"life_expect\": 79.11, \"fertility\": 1.964}, {\"year\": 2000, \"country\": \"Nigeria\", \"cluster\": 2, \"pop\": 114306700, \"life_expect\": 46.608, \"fertility\": 5.845}, {\"year\": 2000, \"country\": \"Norway\", \"cluster\": 1, \"pop\": 4492400, \"life_expect\": 79.05, \"fertility\": 1.8010000000000002}, {\"year\": 2000, \"country\": \"Pakistan\", \"cluster\": 0, \"pop\": 146342958, \"life_expect\": 63.61, \"fertility\": 3.9936}, {\"year\": 2000, \"country\": \"Peru\", \"cluster\": 3, \"pop\": 25979722, \"life_expect\": 69.906, \"fertility\": 2.7005}, {\"year\": 2000, \"country\": \"Philippines\", \"cluster\": 4, \"pop\": 79739825, \"life_expect\": 70.303, \"fertility\": 3.5436}, {\"year\": 2000, \"country\": \"Poland\", \"cluster\": 1, \"pop\": 38654164, \"life_expect\": 74.67, \"fertility\": 1.251}, {\"year\": 2000, \"country\": \"Portugal\", \"cluster\": 1, \"pop\": 10335597, \"life_expect\": 77.29, \"fertility\": 1.454}, {\"year\": 2000, \"country\": \"Rwanda\", \"cluster\": 2, \"pop\": 7507056, \"life_expect\": 43.413, \"fertility\": 6.01}, {\"year\": 2000, \"country\": \"Saudi Arabia\", \"cluster\": 5, \"pop\": 23153090, \"life_expect\": 71.626, \"fertility\": 3.81}, {\"year\": 2000, \"country\": \"South Africa\", \"cluster\": 2, \"pop\": 44066197, \"life_expect\": 53.365, \"fertility\": 2.802}, {\"year\": 2000, \"country\": \"Spain\", \"cluster\": 1, \"pop\": 40016081, \"life_expect\": 79.78, \"fertility\": 1.287}, {\"year\": 2000, \"country\": \"Switzerland\", \"cluster\": 1, \"pop\": 7266920, \"life_expect\": 80.62, \"fertility\": 1.415}, {\"year\": 2000, \"country\": \"Turkey\", \"cluster\": 1, \"pop\": 65666677, \"life_expect\": 70.845, \"fertility\": 2.23}, {\"year\": 2000, \"country\": \"United Kingdom\", \"cluster\": 1, \"pop\": 59522468, \"life_expect\": 78.471, \"fertility\": 1.695}, {\"year\": 2000, \"country\": \"United States\", \"cluster\": 3, \"pop\": 282338631, \"life_expect\": 77.31, \"fertility\": 2.038}, {\"year\": 2000, \"country\": \"Venezuela\", \"cluster\": 3, \"pop\": 23542649, \"life_expect\": 72.766, \"fertility\": 2.723}]}}, {\"mode\": \"vega-lite\"});\n",
       "</script>"
      ],
      "text/plain": [
       "alt.Chart(...)"
      ]
     },
     "execution_count": 20,
     "metadata": {},
     "output_type": "execute_result"
    }
   ],
   "source": [
    "alt.Chart(data2000).mark_point(filled=True).encode(\n",
    "    alt.X('fertility:Q'),\n",
    "    alt.Y('life_expect:Q'),\n",
    "    alt.Size('pop:Q', scale=alt.Scale(range=[0,1000])),\n",
    "    alt.Color('cluster:N'),\n",
    "    alt.OpacityValue(0.5),\n",
    "    alt.Tooltip('country:N'),\n",
    "    alt.Order('pop:Q', sort='descending'),\n",
    "    alt.Column('cluster:N')\n",
    ")"
   ]
  },
  {
   "cell_type": "markdown",
   "metadata": {},
   "source": [
    "O gráfico acima não cabe na tela, o que torna difícil comparar todos os subgráficos entre si! Podemos definir as propriedades padrão de largura (`width`) e altura (`height`) para criar um conjunto menor de múltiplos. Além disso, como os cabeçalhos das colunas já identificam os valores do `cluster`, podemos remover a legenda de cores (`color`) definindo-a como `None`. Para aproveitar melhor o espaço, também podemos orientar a legenda de tamanhos (`size`) para a parte inferior (`botom`) do gráfico."
   ]
  },
  {
   "cell_type": "code",
   "execution_count": 21,
   "metadata": {
    "colab": {
     "base_uri": "https://localhost:8080/",
     "height": 321
    },
    "colab_type": "code",
    "id": "PvKBL59lRrc_",
    "outputId": "3eb84b63-0c69-4985-ee9b-d0d69e5ffb33"
   },
   "outputs": [
    {
     "data": {
      "text/html": [
       "\n",
       "<div id=\"altair-viz-6ebf9c0766ac49b285a9d24c74230724\"></div>\n",
       "<script type=\"text/javascript\">\n",
       "  (function(spec, embedOpt){\n",
       "    let outputDiv = document.currentScript.previousElementSibling;\n",
       "    if (outputDiv.id !== \"altair-viz-6ebf9c0766ac49b285a9d24c74230724\") {\n",
       "      outputDiv = document.getElementById(\"altair-viz-6ebf9c0766ac49b285a9d24c74230724\");\n",
       "    }\n",
       "    const paths = {\n",
       "      \"vega\": \"https://cdn.jsdelivr.net/npm//vega@5?noext\",\n",
       "      \"vega-lib\": \"https://cdn.jsdelivr.net/npm//vega-lib?noext\",\n",
       "      \"vega-lite\": \"https://cdn.jsdelivr.net/npm//vega-lite@4.8.1?noext\",\n",
       "      \"vega-embed\": \"https://cdn.jsdelivr.net/npm//vega-embed@6?noext\",\n",
       "    };\n",
       "\n",
       "    function loadScript(lib) {\n",
       "      return new Promise(function(resolve, reject) {\n",
       "        var s = document.createElement('script');\n",
       "        s.src = paths[lib];\n",
       "        s.async = true;\n",
       "        s.onload = () => resolve(paths[lib]);\n",
       "        s.onerror = () => reject(`Error loading script: ${paths[lib]}`);\n",
       "        document.getElementsByTagName(\"head\")[0].appendChild(s);\n",
       "      });\n",
       "    }\n",
       "\n",
       "    function showError(err) {\n",
       "      outputDiv.innerHTML = `<div class=\"error\" style=\"color:red;\">${err}</div>`;\n",
       "      throw err;\n",
       "    }\n",
       "\n",
       "    function displayChart(vegaEmbed) {\n",
       "      vegaEmbed(outputDiv, spec, embedOpt)\n",
       "        .catch(err => showError(`Javascript Error: ${err.message}<br>This usually means there's a typo in your chart specification. See the javascript console for the full traceback.`));\n",
       "    }\n",
       "\n",
       "    if(typeof define === \"function\" && define.amd) {\n",
       "      requirejs.config({paths});\n",
       "      require([\"vega-embed\"], displayChart, err => showError(`Error loading script: ${err.message}`));\n",
       "    } else if (typeof vegaEmbed === \"function\") {\n",
       "      displayChart(vegaEmbed);\n",
       "    } else {\n",
       "      loadScript(\"vega\")\n",
       "        .then(() => loadScript(\"vega-lite\"))\n",
       "        .then(() => loadScript(\"vega-embed\"))\n",
       "        .catch(showError)\n",
       "        .then(() => displayChart(vegaEmbed));\n",
       "    }\n",
       "  })({\"config\": {\"view\": {\"continuousWidth\": 400, \"continuousHeight\": 300}}, \"data\": {\"name\": \"data-fdeb0b749a6385830bd1445d39ad6ea0\"}, \"mark\": {\"type\": \"point\", \"filled\": true}, \"encoding\": {\"color\": {\"type\": \"nominal\", \"field\": \"cluster\", \"legend\": null}, \"column\": {\"type\": \"nominal\", \"field\": \"cluster\"}, \"opacity\": {\"value\": 0.5}, \"order\": {\"type\": \"quantitative\", \"field\": \"pop\", \"sort\": \"descending\"}, \"size\": {\"type\": \"quantitative\", \"field\": \"pop\", \"legend\": {\"orient\": \"bottom\", \"titleOrient\": \"left\"}, \"scale\": {\"range\": [0, 1000]}}, \"tooltip\": {\"type\": \"nominal\", \"field\": \"country\"}, \"x\": {\"type\": \"quantitative\", \"field\": \"fertility\"}, \"y\": {\"type\": \"quantitative\", \"field\": \"life_expect\"}}, \"height\": 135, \"width\": 135, \"$schema\": \"https://vega.github.io/schema/vega-lite/v4.8.1.json\", \"datasets\": {\"data-fdeb0b749a6385830bd1445d39ad6ea0\": [{\"year\": 2000, \"country\": \"Afghanistan\", \"cluster\": 0, \"pop\": 23898198, \"life_expect\": 42.129, \"fertility\": 7.4792}, {\"year\": 2000, \"country\": \"Argentina\", \"cluster\": 3, \"pop\": 37497728, \"life_expect\": 74.34, \"fertility\": 2.35}, {\"year\": 2000, \"country\": \"Aruba\", \"cluster\": 3, \"pop\": 69539, \"life_expect\": 73.451, \"fertility\": 2.124}, {\"year\": 2000, \"country\": \"Australia\", \"cluster\": 4, \"pop\": 19164620, \"life_expect\": 80.37, \"fertility\": 1.756}, {\"year\": 2000, \"country\": \"Austria\", \"cluster\": 1, \"pop\": 8113413, \"life_expect\": 78.98, \"fertility\": 1.3820000000000001}, {\"year\": 2000, \"country\": \"Bahamas\", \"cluster\": 3, \"pop\": 290075, \"life_expect\": 71.068, \"fertility\": 2.1111}, {\"year\": 2000, \"country\": \"Bangladesh\", \"cluster\": 0, \"pop\": 130406594, \"life_expect\": 62.013, \"fertility\": 3.224}, {\"year\": 2000, \"country\": \"Barbados\", \"cluster\": 3, \"pop\": 273483, \"life_expect\": 75.97, \"fertility\": 1.5}, {\"year\": 2000, \"country\": \"Belgium\", \"cluster\": 1, \"pop\": 10263618, \"life_expect\": 78.32, \"fertility\": 1.638}, {\"year\": 2000, \"country\": \"Bolivia\", \"cluster\": 3, \"pop\": 8152620, \"life_expect\": 63.883, \"fertility\": 3.9585}, {\"year\": 2000, \"country\": \"Brazil\", \"cluster\": 3, \"pop\": 175552771, \"life_expect\": 71.006, \"fertility\": 2.345}, {\"year\": 2000, \"country\": \"Canada\", \"cluster\": 3, \"pop\": 31278097, \"life_expect\": 79.77, \"fertility\": 1.522}, {\"year\": 2000, \"country\": \"Chile\", \"cluster\": 3, \"pop\": 15153450, \"life_expect\": 77.86, \"fertility\": 2.0}, {\"year\": 2000, \"country\": \"China\", \"cluster\": 4, \"pop\": 1262645000, \"life_expect\": 72.028, \"fertility\": 1.7000000000000002}, {\"year\": 2000, \"country\": \"Colombia\", \"cluster\": 3, \"pop\": 39685655, \"life_expect\": 71.682, \"fertility\": 2.4705}, {\"year\": 2000, \"country\": \"Costa Rica\", \"cluster\": 3, \"pop\": 3710558, \"life_expect\": 78.123, \"fertility\": 2.2815}, {\"year\": 2000, \"country\": \"Croatia\", \"cluster\": 1, \"pop\": 4410830, \"life_expect\": 74.876, \"fertility\": 1.348}, {\"year\": 2000, \"country\": \"Cuba\", \"cluster\": 3, \"pop\": 11134273, \"life_expect\": 77.158, \"fertility\": 1.63}, {\"year\": 2000, \"country\": \"Dominican Republic\", \"cluster\": 3, \"pop\": 8385828, \"life_expect\": 70.847, \"fertility\": 2.95}, {\"year\": 2000, \"country\": \"Ecuador\", \"cluster\": 3, \"pop\": 12505204, \"life_expect\": 74.173, \"fertility\": 2.8175}, {\"year\": 2000, \"country\": \"Egypt\", \"cluster\": 5, \"pop\": 70492342, \"life_expect\": 69.806, \"fertility\": 3.174}, {\"year\": 2000, \"country\": \"El Salvador\", \"cluster\": 3, \"pop\": 6122515, \"life_expect\": 70.734, \"fertility\": 2.883}, {\"year\": 2000, \"country\": \"Finland\", \"cluster\": 1, \"pop\": 5168595, \"life_expect\": 78.37, \"fertility\": 1.754}, {\"year\": 2000, \"country\": \"France\", \"cluster\": 1, \"pop\": 59381628, \"life_expect\": 79.59, \"fertility\": 1.8833000000000002}, {\"year\": 2000, \"country\": \"Georgia\", \"cluster\": 1, \"pop\": 4777209, \"life_expect\": 70.476, \"fertility\": 1.478}, {\"year\": 2000, \"country\": \"Germany\", \"cluster\": 1, \"pop\": 82187909, \"life_expect\": 78.67, \"fertility\": 1.346}, {\"year\": 2000, \"country\": \"Greece\", \"cluster\": 1, \"pop\": 10559110, \"life_expect\": 78.256, \"fertility\": 1.2770000000000001}, {\"year\": 2000, \"country\": \"Grenada\", \"cluster\": 3, \"pop\": 89312, \"life_expect\": 67.746, \"fertility\": 2.429}, {\"year\": 2000, \"country\": \"Haiti\", \"cluster\": 3, \"pop\": 7306302, \"life_expect\": 58.137, \"fertility\": 4.0}, {\"year\": 2000, \"country\": \"Hong Kong\", \"cluster\": 4, \"pop\": 6658720, \"life_expect\": 81.495, \"fertility\": 0.9400000000000001}, {\"year\": 2000, \"country\": \"Iceland\", \"cluster\": 1, \"pop\": 281043, \"life_expect\": 80.5, \"fertility\": 1.9929999999999999}, {\"year\": 2000, \"country\": \"India\", \"cluster\": 0, \"pop\": 1007702000, \"life_expect\": 62.879, \"fertility\": 3.1132}, {\"year\": 2000, \"country\": \"Indonesia\", \"cluster\": 4, \"pop\": 206265000, \"life_expect\": 68.588, \"fertility\": 2.3761}, {\"year\": 2000, \"country\": \"Iran\", \"cluster\": 5, \"pop\": 65660289, \"life_expect\": 69.451, \"fertility\": 2.124}, {\"year\": 2000, \"country\": \"Iraq\", \"cluster\": 5, \"pop\": 22675617, \"life_expect\": 57.046, \"fertility\": 4.858}, {\"year\": 2000, \"country\": \"Ireland\", \"cluster\": 1, \"pop\": 3791690, \"life_expect\": 77.783, \"fertility\": 1.9689999999999999}, {\"year\": 2000, \"country\": \"Israel\", \"cluster\": 5, \"pop\": 5842454, \"life_expect\": 79.696, \"fertility\": 2.906}, {\"year\": 2000, \"country\": \"Italy\", \"cluster\": 1, \"pop\": 57719337, \"life_expect\": 80.24, \"fertility\": 1.286}, {\"year\": 2000, \"country\": \"Jamaica\", \"cluster\": 3, \"pop\": 2615467, \"life_expect\": 72.047, \"fertility\": 2.628}, {\"year\": 2000, \"country\": \"Japan\", \"cluster\": 4, \"pop\": 126699784, \"life_expect\": 82.0, \"fertility\": 1.291}, {\"year\": 2000, \"country\": \"Kenya\", \"cluster\": 2, \"pop\": 29985839, \"life_expect\": 50.992, \"fertility\": 5.0}, {\"year\": 2000, \"country\": \"South Korea\", \"cluster\": 4, \"pop\": 21647682, \"life_expect\": 66.662, \"fertility\": 1.9173}, {\"year\": 2000, \"country\": \"North Korea\", \"cluster\": 4, \"pop\": 47351083, \"life_expect\": 77.045, \"fertility\": 1.242}, {\"year\": 2000, \"country\": \"Lebanon\", \"cluster\": 5, \"pop\": 3578036, \"life_expect\": 71.028, \"fertility\": 2.319}, {\"year\": 2000, \"country\": \"Mexico\", \"cluster\": 3, \"pop\": 99926620, \"life_expect\": 74.902, \"fertility\": 2.4005}, {\"year\": 2000, \"country\": \"Netherlands\", \"cluster\": 1, \"pop\": 15907853, \"life_expect\": 78.53, \"fertility\": 1.726}, {\"year\": 2000, \"country\": \"New Zealand\", \"cluster\": 4, \"pop\": 3819762, \"life_expect\": 79.11, \"fertility\": 1.964}, {\"year\": 2000, \"country\": \"Nigeria\", \"cluster\": 2, \"pop\": 114306700, \"life_expect\": 46.608, \"fertility\": 5.845}, {\"year\": 2000, \"country\": \"Norway\", \"cluster\": 1, \"pop\": 4492400, \"life_expect\": 79.05, \"fertility\": 1.8010000000000002}, {\"year\": 2000, \"country\": \"Pakistan\", \"cluster\": 0, \"pop\": 146342958, \"life_expect\": 63.61, \"fertility\": 3.9936}, {\"year\": 2000, \"country\": \"Peru\", \"cluster\": 3, \"pop\": 25979722, \"life_expect\": 69.906, \"fertility\": 2.7005}, {\"year\": 2000, \"country\": \"Philippines\", \"cluster\": 4, \"pop\": 79739825, \"life_expect\": 70.303, \"fertility\": 3.5436}, {\"year\": 2000, \"country\": \"Poland\", \"cluster\": 1, \"pop\": 38654164, \"life_expect\": 74.67, \"fertility\": 1.251}, {\"year\": 2000, \"country\": \"Portugal\", \"cluster\": 1, \"pop\": 10335597, \"life_expect\": 77.29, \"fertility\": 1.454}, {\"year\": 2000, \"country\": \"Rwanda\", \"cluster\": 2, \"pop\": 7507056, \"life_expect\": 43.413, \"fertility\": 6.01}, {\"year\": 2000, \"country\": \"Saudi Arabia\", \"cluster\": 5, \"pop\": 23153090, \"life_expect\": 71.626, \"fertility\": 3.81}, {\"year\": 2000, \"country\": \"South Africa\", \"cluster\": 2, \"pop\": 44066197, \"life_expect\": 53.365, \"fertility\": 2.802}, {\"year\": 2000, \"country\": \"Spain\", \"cluster\": 1, \"pop\": 40016081, \"life_expect\": 79.78, \"fertility\": 1.287}, {\"year\": 2000, \"country\": \"Switzerland\", \"cluster\": 1, \"pop\": 7266920, \"life_expect\": 80.62, \"fertility\": 1.415}, {\"year\": 2000, \"country\": \"Turkey\", \"cluster\": 1, \"pop\": 65666677, \"life_expect\": 70.845, \"fertility\": 2.23}, {\"year\": 2000, \"country\": \"United Kingdom\", \"cluster\": 1, \"pop\": 59522468, \"life_expect\": 78.471, \"fertility\": 1.695}, {\"year\": 2000, \"country\": \"United States\", \"cluster\": 3, \"pop\": 282338631, \"life_expect\": 77.31, \"fertility\": 2.038}, {\"year\": 2000, \"country\": \"Venezuela\", \"cluster\": 3, \"pop\": 23542649, \"life_expect\": 72.766, \"fertility\": 2.723}]}}, {\"mode\": \"vega-lite\"});\n",
       "</script>"
      ],
      "text/plain": [
       "alt.Chart(...)"
      ]
     },
     "execution_count": 21,
     "metadata": {},
     "output_type": "execute_result"
    }
   ],
   "source": [
    "alt.Chart(data2000).mark_point(filled=True).encode(\n",
    "    alt.X('fertility:Q'),\n",
    "    alt.Y('life_expect:Q'),\n",
    "    alt.Size('pop:Q', scale=alt.Scale(range=[0,1000]),\n",
    "             legend=alt.Legend(orient='bottom', titleOrient='left')),\n",
    "    alt.Color('cluster:N', legend=None),\n",
    "    alt.OpacityValue(0.5),\n",
    "    alt.Tooltip('country:N'),\n",
    "    alt.Order('pop:Q', sort='descending'),\n",
    "    alt.Column('cluster:N')\n",
    ").properties(width=135, height=135)"
   ]
  },
  {
   "cell_type": "markdown",
   "metadata": {},
   "source": [
    "\n",
    "Por baixo dos panos, as codificações de colunas (`column`) e linhas (`row`) são traduzidas em uma nova especificação que utiliza o operador de composição de visualização `facet`. Vamos conhecer o conceito de facetas mais a fundo posteriormente!\n",
    "\n",
    "Enquanto isso, *você consegue reescrever o gráfico acima para criar facetas em linhas em vez de colunas?*"
   ]
  },
  {
   "cell_type": "markdown",
   "metadata": {},
   "source": [
    "### 2.3.8 Um Olhar Adiante: Filtragem Interativa"
   ]
  },
  {
   "cell_type": "markdown",
   "metadata": {},
   "source": [
    "Nos módulos seguintes, exploraremos técnicas de interação para a exploração de dados. Aqui está uma prévia: vincular um controle deslizante de intervalo ao campo `year` para permitir a navegação interativa pelos dados de cada ano. Não se preocupe se o código abaixo parecer um pouco confuso neste momento, pois abordaremos interação em detalhes mais adiante.\n",
    "\n",
    "*Arraste o controle deslizante para frente e para trás para ver como os valores dos dados mudam ao longo do tempo!*"
   ]
  },
  {
   "cell_type": "code",
   "execution_count": 22,
   "metadata": {
    "colab": {
     "base_uri": "https://localhost:8080/",
     "height": 393
    },
    "colab_type": "code",
    "id": "6kQLe1wqZPub",
    "outputId": "3c934853-9167-4ad1-e560-b366250eb40e"
   },
   "outputs": [
    {
     "data": {
      "text/html": [
       "\n",
       "<div id=\"altair-viz-43e78a40dac2479b85ceaee7abfe3751\"></div>\n",
       "<script type=\"text/javascript\">\n",
       "  (function(spec, embedOpt){\n",
       "    let outputDiv = document.currentScript.previousElementSibling;\n",
       "    if (outputDiv.id !== \"altair-viz-43e78a40dac2479b85ceaee7abfe3751\") {\n",
       "      outputDiv = document.getElementById(\"altair-viz-43e78a40dac2479b85ceaee7abfe3751\");\n",
       "    }\n",
       "    const paths = {\n",
       "      \"vega\": \"https://cdn.jsdelivr.net/npm//vega@5?noext\",\n",
       "      \"vega-lib\": \"https://cdn.jsdelivr.net/npm//vega-lib?noext\",\n",
       "      \"vega-lite\": \"https://cdn.jsdelivr.net/npm//vega-lite@4.8.1?noext\",\n",
       "      \"vega-embed\": \"https://cdn.jsdelivr.net/npm//vega-embed@6?noext\",\n",
       "    };\n",
       "\n",
       "    function loadScript(lib) {\n",
       "      return new Promise(function(resolve, reject) {\n",
       "        var s = document.createElement('script');\n",
       "        s.src = paths[lib];\n",
       "        s.async = true;\n",
       "        s.onload = () => resolve(paths[lib]);\n",
       "        s.onerror = () => reject(`Error loading script: ${paths[lib]}`);\n",
       "        document.getElementsByTagName(\"head\")[0].appendChild(s);\n",
       "      });\n",
       "    }\n",
       "\n",
       "    function showError(err) {\n",
       "      outputDiv.innerHTML = `<div class=\"error\" style=\"color:red;\">${err}</div>`;\n",
       "      throw err;\n",
       "    }\n",
       "\n",
       "    function displayChart(vegaEmbed) {\n",
       "      vegaEmbed(outputDiv, spec, embedOpt)\n",
       "        .catch(err => showError(`Javascript Error: ${err.message}<br>This usually means there's a typo in your chart specification. See the javascript console for the full traceback.`));\n",
       "    }\n",
       "\n",
       "    if(typeof define === \"function\" && define.amd) {\n",
       "      requirejs.config({paths});\n",
       "      require([\"vega-embed\"], displayChart, err => showError(`Error loading script: ${err.message}`));\n",
       "    } else if (typeof vegaEmbed === \"function\") {\n",
       "      displayChart(vegaEmbed);\n",
       "    } else {\n",
       "      loadScript(\"vega\")\n",
       "        .then(() => loadScript(\"vega-lite\"))\n",
       "        .then(() => loadScript(\"vega-embed\"))\n",
       "        .catch(showError)\n",
       "        .then(() => displayChart(vegaEmbed));\n",
       "    }\n",
       "  })({\"config\": {\"view\": {\"continuousWidth\": 400, \"continuousHeight\": 300}}, \"data\": {\"name\": \"data-89be1acdd14c7effd56f4dd0fabf92c3\"}, \"mark\": {\"type\": \"point\", \"filled\": true}, \"encoding\": {\"color\": {\"type\": \"nominal\", \"field\": \"cluster\", \"legend\": null}, \"opacity\": {\"value\": 0.5}, \"order\": {\"type\": \"quantitative\", \"field\": \"pop\", \"sort\": \"descending\"}, \"size\": {\"type\": \"quantitative\", \"field\": \"pop\", \"scale\": {\"domain\": [0, 1200000000], \"range\": [0, 1000]}}, \"tooltip\": {\"type\": \"nominal\", \"field\": \"country\"}, \"x\": {\"type\": \"quantitative\", \"field\": \"fertility\", \"scale\": {\"domain\": [0, 9]}}, \"y\": {\"type\": \"quantitative\", \"field\": \"life_expect\", \"scale\": {\"domain\": [0, 90]}}}, \"selection\": {\"select\": {\"type\": \"single\", \"fields\": [\"year\"], \"init\": {\"year\": 1955}, \"bind\": {\"input\": \"range\", \"max\": 2005, \"min\": 1955, \"step\": 5}}}, \"transform\": [{\"filter\": {\"selection\": \"select\"}}], \"$schema\": \"https://vega.github.io/schema/vega-lite/v4.8.1.json\", \"datasets\": {\"data-89be1acdd14c7effd56f4dd0fabf92c3\": [{\"year\": 1955, \"country\": \"Afghanistan\", \"cluster\": 0, \"pop\": 8891209, \"life_expect\": 30.332, \"fertility\": 7.7}, {\"year\": 1960, \"country\": \"Afghanistan\", \"cluster\": 0, \"pop\": 9829450, \"life_expect\": 31.997, \"fertility\": 7.7}, {\"year\": 1965, \"country\": \"Afghanistan\", \"cluster\": 0, \"pop\": 10997885, \"life_expect\": 34.02, \"fertility\": 7.7}, {\"year\": 1970, \"country\": \"Afghanistan\", \"cluster\": 0, \"pop\": 12430623, \"life_expect\": 36.088, \"fertility\": 7.7}, {\"year\": 1975, \"country\": \"Afghanistan\", \"cluster\": 0, \"pop\": 14132019, \"life_expect\": 38.438, \"fertility\": 7.7}, {\"year\": 1980, \"country\": \"Afghanistan\", \"cluster\": 0, \"pop\": 15112149, \"life_expect\": 39.854, \"fertility\": 7.8}, {\"year\": 1985, \"country\": \"Afghanistan\", \"cluster\": 0, \"pop\": 13796928, \"life_expect\": 40.822, \"fertility\": 7.9}, {\"year\": 1990, \"country\": \"Afghanistan\", \"cluster\": 0, \"pop\": 14669339, \"life_expect\": 41.674, \"fertility\": 8.0}, {\"year\": 1995, \"country\": \"Afghanistan\", \"cluster\": 0, \"pop\": 20881480, \"life_expect\": 41.763, \"fertility\": 8.0}, {\"year\": 2000, \"country\": \"Afghanistan\", \"cluster\": 0, \"pop\": 23898198, \"life_expect\": 42.129, \"fertility\": 7.4792}, {\"year\": 2005, \"country\": \"Afghanistan\", \"cluster\": 0, \"pop\": 29928987, \"life_expect\": 43.828, \"fertility\": 7.0685}, {\"year\": 1955, \"country\": \"Argentina\", \"cluster\": 3, \"pop\": 18927821, \"life_expect\": 64.399, \"fertility\": 3.1265}, {\"year\": 1960, \"country\": \"Argentina\", \"cluster\": 3, \"pop\": 20616009, \"life_expect\": 65.142, \"fertility\": 3.0895}, {\"year\": 1965, \"country\": \"Argentina\", \"cluster\": 3, \"pop\": 22283100, \"life_expect\": 65.634, \"fertility\": 3.049}, {\"year\": 1970, \"country\": \"Argentina\", \"cluster\": 3, \"pop\": 23962313, \"life_expect\": 67.065, \"fertility\": 3.1455}, {\"year\": 1975, \"country\": \"Argentina\", \"cluster\": 3, \"pop\": 26081880, \"life_expect\": 68.481, \"fertility\": 3.44}, {\"year\": 1980, \"country\": \"Argentina\", \"cluster\": 3, \"pop\": 28369799, \"life_expect\": 69.942, \"fertility\": 3.15}, {\"year\": 1985, \"country\": \"Argentina\", \"cluster\": 3, \"pop\": 30675059, \"life_expect\": 70.774, \"fertility\": 3.053}, {\"year\": 1990, \"country\": \"Argentina\", \"cluster\": 3, \"pop\": 33022202, \"life_expect\": 71.868, \"fertility\": 2.9}, {\"year\": 1995, \"country\": \"Argentina\", \"cluster\": 3, \"pop\": 35311049, \"life_expect\": 73.275, \"fertility\": 2.63}, {\"year\": 2000, \"country\": \"Argentina\", \"cluster\": 3, \"pop\": 37497728, \"life_expect\": 74.34, \"fertility\": 2.35}, {\"year\": 2005, \"country\": \"Argentina\", \"cluster\": 3, \"pop\": 39537943, \"life_expect\": 75.32, \"fertility\": 2.254}, {\"year\": 1955, \"country\": \"Aruba\", \"cluster\": 3, \"pop\": 53865, \"life_expect\": 64.381, \"fertility\": 5.15}, {\"year\": 1960, \"country\": \"Aruba\", \"cluster\": 3, \"pop\": 57203, \"life_expect\": 66.606, \"fertility\": 4.399}, {\"year\": 1965, \"country\": \"Aruba\", \"cluster\": 3, \"pop\": 59020, \"life_expect\": 68.336, \"fertility\": 3.301}, {\"year\": 1970, \"country\": \"Aruba\", \"cluster\": 3, \"pop\": 59039, \"life_expect\": 70.941, \"fertility\": 2.651}, {\"year\": 1975, \"country\": \"Aruba\", \"cluster\": 3, \"pop\": 59390, \"life_expect\": 71.83, \"fertility\": 2.45}, {\"year\": 1980, \"country\": \"Aruba\", \"cluster\": 3, \"pop\": 60266, \"life_expect\": 74.116, \"fertility\": 2.358}, {\"year\": 1985, \"country\": \"Aruba\", \"cluster\": 3, \"pop\": 64129, \"life_expect\": 74.494, \"fertility\": 2.3}, {\"year\": 1990, \"country\": \"Aruba\", \"cluster\": 3, \"pop\": 66653, \"life_expect\": 74.108, \"fertility\": 2.2800000000000002}, {\"year\": 1995, \"country\": \"Aruba\", \"cluster\": 3, \"pop\": 67836, \"life_expect\": 73.011, \"fertility\": 2.208}, {\"year\": 2000, \"country\": \"Aruba\", \"cluster\": 3, \"pop\": 69539, \"life_expect\": 73.451, \"fertility\": 2.124}, {\"year\": 2005, \"country\": \"Aruba\", \"cluster\": 3, \"pop\": 71566, \"life_expect\": 74.239, \"fertility\": 2.04}, {\"year\": 1955, \"country\": \"Australia\", \"cluster\": 4, \"pop\": 9277087, \"life_expect\": 70.33, \"fertility\": 3.406}, {\"year\": 1960, \"country\": \"Australia\", \"cluster\": 4, \"pop\": 10361273, \"life_expect\": 70.93, \"fertility\": 3.274}, {\"year\": 1965, \"country\": \"Australia\", \"cluster\": 4, \"pop\": 11439384, \"life_expect\": 71.1, \"fertility\": 2.871}, {\"year\": 1970, \"country\": \"Australia\", \"cluster\": 4, \"pop\": 12660160, \"life_expect\": 71.93, \"fertility\": 2.535}, {\"year\": 1975, \"country\": \"Australia\", \"cluster\": 4, \"pop\": 13771400, \"life_expect\": 73.49, \"fertility\": 1.9889999999999999}, {\"year\": 1980, \"country\": \"Australia\", \"cluster\": 4, \"pop\": 14615900, \"life_expect\": 74.74, \"fertility\": 1.907}, {\"year\": 1985, \"country\": \"Australia\", \"cluster\": 4, \"pop\": 15788300, \"life_expect\": 76.32, \"fertility\": 1.859}, {\"year\": 1990, \"country\": \"Australia\", \"cluster\": 4, \"pop\": 17022133, \"life_expect\": 77.56, \"fertility\": 1.8599999999999999}, {\"year\": 1995, \"country\": \"Australia\", \"cluster\": 4, \"pop\": 18116171, \"life_expect\": 78.83, \"fertility\": 1.776}, {\"year\": 2000, \"country\": \"Australia\", \"cluster\": 4, \"pop\": 19164620, \"life_expect\": 80.37, \"fertility\": 1.756}, {\"year\": 2005, \"country\": \"Australia\", \"cluster\": 4, \"pop\": 20090437, \"life_expect\": 81.235, \"fertility\": 1.788}, {\"year\": 1955, \"country\": \"Austria\", \"cluster\": 1, \"pop\": 6946885, \"life_expect\": 67.48, \"fertility\": 2.52}, {\"year\": 1960, \"country\": \"Austria\", \"cluster\": 1, \"pop\": 7047437, \"life_expect\": 69.54, \"fertility\": 2.7800000000000002}, {\"year\": 1965, \"country\": \"Austria\", \"cluster\": 1, \"pop\": 7270889, \"life_expect\": 70.14, \"fertility\": 2.5300000000000002}, {\"year\": 1970, \"country\": \"Austria\", \"cluster\": 1, \"pop\": 7467086, \"life_expect\": 70.63, \"fertility\": 2.02}, {\"year\": 1975, \"country\": \"Austria\", \"cluster\": 1, \"pop\": 7578903, \"life_expect\": 72.17, \"fertility\": 1.6400000000000001}, {\"year\": 1980, \"country\": \"Austria\", \"cluster\": 1, \"pop\": 7549433, \"life_expect\": 73.18, \"fertility\": 1.62}, {\"year\": 1985, \"country\": \"Austria\", \"cluster\": 1, \"pop\": 7559776, \"life_expect\": 74.94, \"fertility\": 1.45}, {\"year\": 1990, \"country\": \"Austria\", \"cluster\": 1, \"pop\": 7722953, \"life_expect\": 76.04, \"fertility\": 1.47}, {\"year\": 1995, \"country\": \"Austria\", \"cluster\": 1, \"pop\": 8047433, \"life_expect\": 77.51, \"fertility\": 1.388}, {\"year\": 2000, \"country\": \"Austria\", \"cluster\": 1, \"pop\": 8113413, \"life_expect\": 78.98, \"fertility\": 1.3820000000000001}, {\"year\": 2005, \"country\": \"Austria\", \"cluster\": 1, \"pop\": 8184691, \"life_expect\": 79.829, \"fertility\": 1.42}, {\"year\": 1955, \"country\": \"Bahamas\", \"cluster\": 3, \"pop\": 87138, \"life_expect\": 62.405, \"fertility\": 4.305}, {\"year\": 1960, \"country\": \"Bahamas\", \"cluster\": 3, \"pop\": 112234, \"life_expect\": 64.209, \"fertility\": 4.503}, {\"year\": 1965, \"country\": \"Bahamas\", \"cluster\": 3, \"pop\": 139205, \"life_expect\": 65.795, \"fertility\": 3.794}, {\"year\": 1970, \"country\": \"Bahamas\", \"cluster\": 3, \"pop\": 170323, \"life_expect\": 66.515, \"fertility\": 3.444}, {\"year\": 1975, \"country\": \"Bahamas\", \"cluster\": 3, \"pop\": 189139, \"life_expect\": 67.199, \"fertility\": 3.221}, {\"year\": 1980, \"country\": \"Bahamas\", \"cluster\": 3, \"pop\": 209944, \"life_expect\": 67.874, \"fertility\": 3.16}, {\"year\": 1985, \"country\": \"Bahamas\", \"cluster\": 3, \"pop\": 234988, \"life_expect\": 69.524, \"fertility\": 2.62}, {\"year\": 1990, \"country\": \"Bahamas\", \"cluster\": 3, \"pop\": 257253, \"life_expect\": 69.171, \"fertility\": 2.6}, {\"year\": 1995, \"country\": \"Bahamas\", \"cluster\": 3, \"pop\": 275303, \"life_expect\": 68.472, \"fertility\": 2.4}, {\"year\": 2000, \"country\": \"Bahamas\", \"cluster\": 3, \"pop\": 290075, \"life_expect\": 71.068, \"fertility\": 2.1111}, {\"year\": 2005, \"country\": \"Bahamas\", \"cluster\": 3, \"pop\": 301790, \"life_expect\": 73.495, \"fertility\": 2.0221}, {\"year\": 1955, \"country\": \"Bangladesh\", \"cluster\": 0, \"pop\": 49601520, \"life_expect\": 39.348, \"fertility\": 6.76}, {\"year\": 1960, \"country\": \"Bangladesh\", \"cluster\": 0, \"pop\": 54621538, \"life_expect\": 41.216, \"fertility\": 6.85}, {\"year\": 1965, \"country\": \"Bangladesh\", \"cluster\": 0, \"pop\": 60332117, \"life_expect\": 43.453, \"fertility\": 6.6}, {\"year\": 1970, \"country\": \"Bangladesh\", \"cluster\": 0, \"pop\": 67402621, \"life_expect\": 45.252, \"fertility\": 6.15}, {\"year\": 1975, \"country\": \"Bangladesh\", \"cluster\": 0, \"pop\": 76253310, \"life_expect\": 46.923, \"fertility\": 5.6}, {\"year\": 1980, \"country\": \"Bangladesh\", \"cluster\": 0, \"pop\": 88076996, \"life_expect\": 50.009, \"fertility\": 5.25}, {\"year\": 1985, \"country\": \"Bangladesh\", \"cluster\": 0, \"pop\": 99752733, \"life_expect\": 52.819, \"fertility\": 4.629}, {\"year\": 1990, \"country\": \"Bangladesh\", \"cluster\": 0, \"pop\": 109896945, \"life_expect\": 56.018, \"fertility\": 4.117}, {\"year\": 1995, \"country\": \"Bangladesh\", \"cluster\": 0, \"pop\": 119186448, \"life_expect\": 59.412, \"fertility\": 3.5042999999999997}, {\"year\": 2000, \"country\": \"Bangladesh\", \"cluster\": 0, \"pop\": 130406594, \"life_expect\": 62.013, \"fertility\": 3.224}, {\"year\": 2005, \"country\": \"Bangladesh\", \"cluster\": 0, \"pop\": 144319628, \"life_expect\": 64.062, \"fertility\": 2.826}, {\"year\": 1955, \"country\": \"Barbados\", \"cluster\": 3, \"pop\": 227255, \"life_expect\": 62.57, \"fertility\": 4.67}, {\"year\": 1960, \"country\": \"Barbados\", \"cluster\": 3, \"pop\": 232339, \"life_expect\": 65.87, \"fertility\": 4.26}, {\"year\": 1965, \"country\": \"Barbados\", \"cluster\": 3, \"pop\": 234980, \"life_expect\": 67.62, \"fertility\": 3.45}, {\"year\": 1970, \"country\": \"Barbados\", \"cluster\": 3, \"pop\": 238756, \"life_expect\": 69.42, \"fertility\": 2.74}, {\"year\": 1975, \"country\": \"Barbados\", \"cluster\": 3, \"pop\": 247147, \"life_expect\": 71.27, \"fertility\": 2.19}, {\"year\": 1980, \"country\": \"Barbados\", \"cluster\": 3, \"pop\": 251966, \"life_expect\": 72.695, \"fertility\": 1.92}, {\"year\": 1985, \"country\": \"Barbados\", \"cluster\": 3, \"pop\": 257446, \"life_expect\": 74.027, \"fertility\": 1.75}, {\"year\": 1990, \"country\": \"Barbados\", \"cluster\": 3, \"pop\": 262624, \"life_expect\": 74.894, \"fertility\": 1.6}, {\"year\": 1995, \"country\": \"Barbados\", \"cluster\": 3, \"pop\": 267907, \"life_expect\": 74.912, \"fertility\": 1.5}, {\"year\": 2000, \"country\": \"Barbados\", \"cluster\": 3, \"pop\": 273483, \"life_expect\": 75.97, \"fertility\": 1.5}, {\"year\": 2005, \"country\": \"Barbados\", \"cluster\": 3, \"pop\": 278870, \"life_expect\": 77.296, \"fertility\": 1.5}, {\"year\": 1955, \"country\": \"Belgium\", \"cluster\": 1, \"pop\": 8868475, \"life_expect\": 69.24, \"fertility\": 2.496}, {\"year\": 1960, \"country\": \"Belgium\", \"cluster\": 1, \"pop\": 9118700, \"life_expect\": 70.25, \"fertility\": 2.644}, {\"year\": 1965, \"country\": \"Belgium\", \"cluster\": 1, \"pop\": 9448100, \"life_expect\": 70.94, \"fertility\": 2.392}, {\"year\": 1970, \"country\": \"Belgium\", \"cluster\": 1, \"pop\": 9637800, \"life_expect\": 71.44, \"fertility\": 2.015}, {\"year\": 1975, \"country\": \"Belgium\", \"cluster\": 1, \"pop\": 9794800, \"life_expect\": 72.8, \"fertility\": 1.705}, {\"year\": 1980, \"country\": \"Belgium\", \"cluster\": 1, \"pop\": 9846800, \"life_expect\": 73.93, \"fertility\": 1.595}, {\"year\": 1985, \"country\": \"Belgium\", \"cluster\": 1, \"pop\": 9858200, \"life_expect\": 75.35, \"fertility\": 1.5590000000000002}, {\"year\": 1990, \"country\": \"Belgium\", \"cluster\": 1, \"pop\": 9969310, \"life_expect\": 76.46, \"fertility\": 1.613}, {\"year\": 1995, \"country\": \"Belgium\", \"cluster\": 1, \"pop\": 10155459, \"life_expect\": 77.53, \"fertility\": 1.604}, {\"year\": 2000, \"country\": \"Belgium\", \"cluster\": 1, \"pop\": 10263618, \"life_expect\": 78.32, \"fertility\": 1.638}, {\"year\": 2005, \"country\": \"Belgium\", \"cluster\": 1, \"pop\": 10364388, \"life_expect\": 79.441, \"fertility\": 1.646}, {\"year\": 1955, \"country\": \"Bolivia\", \"cluster\": 3, \"pop\": 3074311, \"life_expect\": 41.89, \"fertility\": 6.75}, {\"year\": 1960, \"country\": \"Bolivia\", \"cluster\": 3, \"pop\": 3434073, \"life_expect\": 43.428, \"fertility\": 6.63}, {\"year\": 1965, \"country\": \"Bolivia\", \"cluster\": 3, \"pop\": 3853315, \"life_expect\": 45.032, \"fertility\": 6.5600000000000005}, {\"year\": 1970, \"country\": \"Bolivia\", \"cluster\": 3, \"pop\": 4346218, \"life_expect\": 46.714, \"fertility\": 6.5}, {\"year\": 1975, \"country\": \"Bolivia\", \"cluster\": 3, \"pop\": 4914316, \"life_expect\": 50.023, \"fertility\": 5.8}, {\"year\": 1980, \"country\": \"Bolivia\", \"cluster\": 3, \"pop\": 5441298, \"life_expect\": 53.859, \"fertility\": 5.2995}, {\"year\": 1985, \"country\": \"Bolivia\", \"cluster\": 3, \"pop\": 5934935, \"life_expect\": 57.251, \"fertility\": 5.0}, {\"year\": 1990, \"country\": \"Bolivia\", \"cluster\": 3, \"pop\": 6573900, \"life_expect\": 59.957, \"fertility\": 4.8}, {\"year\": 1995, \"country\": \"Bolivia\", \"cluster\": 3, \"pop\": 7376582, \"life_expect\": 62.05, \"fertility\": 4.324}, {\"year\": 2000, \"country\": \"Bolivia\", \"cluster\": 3, \"pop\": 8152620, \"life_expect\": 63.883, \"fertility\": 3.9585}, {\"year\": 2005, \"country\": \"Bolivia\", \"cluster\": 3, \"pop\": 8857870, \"life_expect\": 65.554, \"fertility\": 3.5}, {\"year\": 1955, \"country\": \"Brazil\", \"cluster\": 3, \"pop\": 61773546, \"life_expect\": 53.285, \"fertility\": 6.1501}, {\"year\": 1960, \"country\": \"Brazil\", \"cluster\": 3, \"pop\": 71694810, \"life_expect\": 55.665, \"fertility\": 6.1501}, {\"year\": 1965, \"country\": \"Brazil\", \"cluster\": 3, \"pop\": 83092908, \"life_expect\": 57.632, \"fertility\": 5.38}, {\"year\": 1970, \"country\": \"Brazil\", \"cluster\": 3, \"pop\": 95684297, \"life_expect\": 59.504, \"fertility\": 4.7175}, {\"year\": 1975, \"country\": \"Brazil\", \"cluster\": 3, \"pop\": 108823732, \"life_expect\": 61.489, \"fertility\": 4.305}, {\"year\": 1980, \"country\": \"Brazil\", \"cluster\": 3, \"pop\": 122958132, \"life_expect\": 63.336, \"fertility\": 3.8}, {\"year\": 1985, \"country\": \"Brazil\", \"cluster\": 3, \"pop\": 137302933, \"life_expect\": 65.205, \"fertility\": 3.1}, {\"year\": 1990, \"country\": \"Brazil\", \"cluster\": 3, \"pop\": 151083809, \"life_expect\": 67.057, \"fertility\": 2.6}, {\"year\": 1995, \"country\": \"Brazil\", \"cluster\": 3, \"pop\": 163542501, \"life_expect\": 69.388, \"fertility\": 2.45}, {\"year\": 2000, \"country\": \"Brazil\", \"cluster\": 3, \"pop\": 175552771, \"life_expect\": 71.006, \"fertility\": 2.345}, {\"year\": 2005, \"country\": \"Brazil\", \"cluster\": 3, \"pop\": 186112794, \"life_expect\": 72.39, \"fertility\": 2.245}, {\"year\": 1955, \"country\": \"Canada\", \"cluster\": 3, \"pop\": 16050356, \"life_expect\": 69.96, \"fertility\": 3.882}, {\"year\": 1960, \"country\": \"Canada\", \"cluster\": 3, \"pop\": 18266765, \"life_expect\": 71.3, \"fertility\": 3.675}, {\"year\": 1965, \"country\": \"Canada\", \"cluster\": 3, \"pop\": 20071104, \"life_expect\": 72.13, \"fertility\": 2.61}, {\"year\": 1970, \"country\": \"Canada\", \"cluster\": 3, \"pop\": 21749986, \"life_expect\": 72.88, \"fertility\": 1.976}, {\"year\": 1975, \"country\": \"Canada\", \"cluster\": 3, \"pop\": 23209200, \"life_expect\": 74.21, \"fertility\": 1.734}, {\"year\": 1980, \"country\": \"Canada\", \"cluster\": 3, \"pop\": 24593300, \"life_expect\": 75.76, \"fertility\": 1.634}, {\"year\": 1985, \"country\": \"Canada\", \"cluster\": 3, \"pop\": 25941600, \"life_expect\": 76.86, \"fertility\": 1.616}, {\"year\": 1990, \"country\": \"Canada\", \"cluster\": 3, \"pop\": 27790600, \"life_expect\": 77.95, \"fertility\": 1.694}, {\"year\": 1995, \"country\": \"Canada\", \"cluster\": 3, \"pop\": 29619002, \"life_expect\": 78.61, \"fertility\": 1.564}, {\"year\": 2000, \"country\": \"Canada\", \"cluster\": 3, \"pop\": 31278097, \"life_expect\": 79.77, \"fertility\": 1.522}, {\"year\": 2005, \"country\": \"Canada\", \"cluster\": 3, \"pop\": 32805041, \"life_expect\": 80.653, \"fertility\": 1.5270000000000001}, {\"year\": 1955, \"country\": \"Chile\", \"cluster\": 3, \"pop\": 6743269, \"life_expect\": 56.074, \"fertility\": 5.486}, {\"year\": 1960, \"country\": \"Chile\", \"cluster\": 3, \"pop\": 7585349, \"life_expect\": 57.924, \"fertility\": 5.4385}, {\"year\": 1965, \"country\": \"Chile\", \"cluster\": 3, \"pop\": 8509950, \"life_expect\": 60.523, \"fertility\": 4.4405}, {\"year\": 1970, \"country\": \"Chile\", \"cluster\": 3, \"pop\": 9368558, \"life_expect\": 63.441, \"fertility\": 3.63}, {\"year\": 1975, \"country\": \"Chile\", \"cluster\": 3, \"pop\": 10251542, \"life_expect\": 67.052, \"fertility\": 2.803}, {\"year\": 1980, \"country\": \"Chile\", \"cluster\": 3, \"pop\": 11093718, \"life_expect\": 70.565, \"fertility\": 2.6710000000000003}, {\"year\": 1985, \"country\": \"Chile\", \"cluster\": 3, \"pop\": 12066701, \"life_expect\": 72.492, \"fertility\": 2.65}, {\"year\": 1990, \"country\": \"Chile\", \"cluster\": 3, \"pop\": 13127760, \"life_expect\": 74.126, \"fertility\": 2.55}, {\"year\": 1995, \"country\": \"Chile\", \"cluster\": 3, \"pop\": 14205449, \"life_expect\": 75.816, \"fertility\": 2.21}, {\"year\": 2000, \"country\": \"Chile\", \"cluster\": 3, \"pop\": 15153450, \"life_expect\": 77.86, \"fertility\": 2.0}, {\"year\": 2005, \"country\": \"Chile\", \"cluster\": 3, \"pop\": 15980912, \"life_expect\": 78.553, \"fertility\": 1.944}, {\"year\": 1955, \"country\": \"China\", \"cluster\": 4, \"pop\": 608655000, \"life_expect\": 50.54896, \"fertility\": 5.59}, {\"year\": 1960, \"country\": \"China\", \"cluster\": 4, \"pop\": 667070000, \"life_expect\": 44.50136, \"fertility\": 5.72}, {\"year\": 1965, \"country\": \"China\", \"cluster\": 4, \"pop\": 715185000, \"life_expect\": 58.38112, \"fertility\": 6.06}, {\"year\": 1970, \"country\": \"China\", \"cluster\": 4, \"pop\": 818315000, \"life_expect\": 63.11888, \"fertility\": 4.86}, {\"year\": 1975, \"country\": \"China\", \"cluster\": 4, \"pop\": 916395000, \"life_expect\": 63.96736, \"fertility\": 3.32}, {\"year\": 1980, \"country\": \"China\", \"cluster\": 4, \"pop\": 981235000, \"life_expect\": 65.525, \"fertility\": 2.55}, {\"year\": 1985, \"country\": \"China\", \"cluster\": 4, \"pop\": 1051040000, \"life_expect\": 67.274, \"fertility\": 2.46}, {\"year\": 1990, \"country\": \"China\", \"cluster\": 4, \"pop\": 1135185000, \"life_expect\": 68.69, \"fertility\": 1.92}, {\"year\": 1995, \"country\": \"China\", \"cluster\": 4, \"pop\": 1204855000, \"life_expect\": 70.426, \"fertility\": 1.7810000000000001}, {\"year\": 2000, \"country\": \"China\", \"cluster\": 4, \"pop\": 1262645000, \"life_expect\": 72.028, \"fertility\": 1.7000000000000002}, {\"year\": 2005, \"country\": \"China\", \"cluster\": 4, \"pop\": 1303182268, \"life_expect\": 72.961, \"fertility\": 1.725}, {\"year\": 1955, \"country\": \"Colombia\", \"cluster\": 3, \"pop\": 13588405, \"life_expect\": 55.118, \"fertility\": 6.76}, {\"year\": 1960, \"country\": \"Colombia\", \"cluster\": 3, \"pop\": 15952727, \"life_expect\": 57.863, \"fertility\": 6.76}, {\"year\": 1965, \"country\": \"Colombia\", \"cluster\": 3, \"pop\": 18646175, \"life_expect\": 59.963, \"fertility\": 6.18}, {\"year\": 1970, \"country\": \"Colombia\", \"cluster\": 3, \"pop\": 21429658, \"life_expect\": 61.623, \"fertility\": 5.0005}, {\"year\": 1975, \"country\": \"Colombia\", \"cluster\": 3, \"pop\": 24114177, \"life_expect\": 63.837, \"fertility\": 4.3385}, {\"year\": 1980, \"country\": \"Colombia\", \"cluster\": 3, \"pop\": 26582811, \"life_expect\": 66.653, \"fertility\": 3.685}, {\"year\": 1985, \"country\": \"Colombia\", \"cluster\": 3, \"pop\": 29678395, \"life_expect\": 67.768, \"fertility\": 3.172}, {\"year\": 1990, \"country\": \"Colombia\", \"cluster\": 3, \"pop\": 32858579, \"life_expect\": 68.421, \"fertility\": 2.93005}, {\"year\": 1995, \"country\": \"Colombia\", \"cluster\": 3, \"pop\": 36280883, \"life_expect\": 70.313, \"fertility\": 2.7}, {\"year\": 2000, \"country\": \"Colombia\", \"cluster\": 3, \"pop\": 39685655, \"life_expect\": 71.682, \"fertility\": 2.4705}, {\"year\": 2005, \"country\": \"Colombia\", \"cluster\": 3, \"pop\": 42954279, \"life_expect\": 72.889, \"fertility\": 2.2205}, {\"year\": 1955, \"country\": \"Costa Rica\", \"cluster\": 3, \"pop\": 1031782, \"life_expect\": 60.026, \"fertility\": 7.1135}, {\"year\": 1960, \"country\": \"Costa Rica\", \"cluster\": 3, \"pop\": 1248022, \"life_expect\": 62.842, \"fertility\": 7.2245}, {\"year\": 1965, \"country\": \"Costa Rica\", \"cluster\": 3, \"pop\": 1487605, \"life_expect\": 65.424, \"fertility\": 5.801}, {\"year\": 1970, \"country\": \"Costa Rica\", \"cluster\": 3, \"pop\": 1735523, \"life_expect\": 67.849, \"fertility\": 4.346}, {\"year\": 1975, \"country\": \"Costa Rica\", \"cluster\": 3, \"pop\": 1991580, \"life_expect\": 70.75, \"fertility\": 3.7755}, {\"year\": 1980, \"country\": \"Costa Rica\", \"cluster\": 3, \"pop\": 2299124, \"life_expect\": 73.45, \"fertility\": 3.527}, {\"year\": 1985, \"country\": \"Costa Rica\", \"cluster\": 3, \"pop\": 2643808, \"life_expect\": 74.752, \"fertility\": 3.374}, {\"year\": 1990, \"country\": \"Costa Rica\", \"cluster\": 3, \"pop\": 3027175, \"life_expect\": 75.713, \"fertility\": 2.9450000000000003}, {\"year\": 1995, \"country\": \"Costa Rica\", \"cluster\": 3, \"pop\": 3383786, \"life_expect\": 77.26, \"fertility\": 2.5835}, {\"year\": 2000, \"country\": \"Costa Rica\", \"cluster\": 3, \"pop\": 3710558, \"life_expect\": 78.123, \"fertility\": 2.2815}, {\"year\": 2005, \"country\": \"Costa Rica\", \"cluster\": 3, \"pop\": 4016173, \"life_expect\": 78.782, \"fertility\": 2.0985}, {\"year\": 1955, \"country\": \"Croatia\", \"cluster\": 1, \"pop\": 3955526, \"life_expect\": 64.77, \"fertility\": 2.42}, {\"year\": 1960, \"country\": \"Croatia\", \"cluster\": 1, \"pop\": 4036145, \"life_expect\": 67.13, \"fertility\": 2.27}, {\"year\": 1965, \"country\": \"Croatia\", \"cluster\": 1, \"pop\": 4133313, \"life_expect\": 68.5, \"fertility\": 2.09}, {\"year\": 1970, \"country\": \"Croatia\", \"cluster\": 1, \"pop\": 4205389, \"life_expect\": 69.61, \"fertility\": 1.96}, {\"year\": 1975, \"country\": \"Croatia\", \"cluster\": 1, \"pop\": 4255000, \"life_expect\": 70.64, \"fertility\": 2.02}, {\"year\": 1980, \"country\": \"Croatia\", \"cluster\": 1, \"pop\": 4383000, \"life_expect\": 70.46, \"fertility\": 1.96}, {\"year\": 1985, \"country\": \"Croatia\", \"cluster\": 1, \"pop\": 4457874, \"life_expect\": 71.52, \"fertility\": 1.8399999999999999}, {\"year\": 1990, \"country\": \"Croatia\", \"cluster\": 1, \"pop\": 4508347, \"life_expect\": 72.527, \"fertility\": 1.52}, {\"year\": 1995, \"country\": \"Croatia\", \"cluster\": 1, \"pop\": 4496683, \"life_expect\": 73.68, \"fertility\": 1.537}, {\"year\": 2000, \"country\": \"Croatia\", \"cluster\": 1, \"pop\": 4410830, \"life_expect\": 74.876, \"fertility\": 1.348}, {\"year\": 2005, \"country\": \"Croatia\", \"cluster\": 1, \"pop\": 4495904, \"life_expect\": 75.748, \"fertility\": 1.346}, {\"year\": 1955, \"country\": \"Cuba\", \"cluster\": 3, \"pop\": 6381106, \"life_expect\": 62.325, \"fertility\": 3.6995}, {\"year\": 1960, \"country\": \"Cuba\", \"cluster\": 3, \"pop\": 7027210, \"life_expect\": 65.246, \"fertility\": 4.6805}, {\"year\": 1965, \"country\": \"Cuba\", \"cluster\": 3, \"pop\": 7809916, \"life_expect\": 68.29, \"fertility\": 4.3}, {\"year\": 1970, \"country\": \"Cuba\", \"cluster\": 3, \"pop\": 8542746, \"life_expect\": 70.723, \"fertility\": 3.6}, {\"year\": 1975, \"country\": \"Cuba\", \"cluster\": 3, \"pop\": 9290074, \"life_expect\": 72.649, \"fertility\": 2.15}, {\"year\": 1980, \"country\": \"Cuba\", \"cluster\": 3, \"pop\": 9652975, \"life_expect\": 73.717, \"fertility\": 1.8495}, {\"year\": 1985, \"country\": \"Cuba\", \"cluster\": 3, \"pop\": 10078658, \"life_expect\": 74.174, \"fertility\": 1.8495}, {\"year\": 1990, \"country\": \"Cuba\", \"cluster\": 3, \"pop\": 10544793, \"life_expect\": 74.414, \"fertility\": 1.6505}, {\"year\": 1995, \"country\": \"Cuba\", \"cluster\": 3, \"pop\": 10896802, \"life_expect\": 76.151, \"fertility\": 1.6095000000000002}, {\"year\": 2000, \"country\": \"Cuba\", \"cluster\": 3, \"pop\": 11134273, \"life_expect\": 77.158, \"fertility\": 1.63}, {\"year\": 2005, \"country\": \"Cuba\", \"cluster\": 3, \"pop\": 11346670, \"life_expect\": 78.273, \"fertility\": 1.49}, {\"year\": 1955, \"country\": \"Dominican Republic\", \"cluster\": 3, \"pop\": 2737257, \"life_expect\": 49.828, \"fertility\": 7.6405}, {\"year\": 1960, \"country\": \"Dominican Republic\", \"cluster\": 3, \"pop\": 3231488, \"life_expect\": 53.459, \"fertility\": 7.3505}, {\"year\": 1965, \"country\": \"Dominican Republic\", \"cluster\": 3, \"pop\": 3805881, \"life_expect\": 56.751, \"fertility\": 6.6495}, {\"year\": 1970, \"country\": \"Dominican Republic\", \"cluster\": 3, \"pop\": 4422755, \"life_expect\": 59.631, \"fertility\": 5.71}, {\"year\": 1975, \"country\": \"Dominican Republic\", \"cluster\": 3, \"pop\": 5048499, \"life_expect\": 61.788, \"fertility\": 4.76}, {\"year\": 1980, \"country\": \"Dominican Republic\", \"cluster\": 3, \"pop\": 5696855, \"life_expect\": 63.727, \"fertility\": 4.0}, {\"year\": 1985, \"country\": \"Dominican Republic\", \"cluster\": 3, \"pop\": 6377765, \"life_expect\": 66.046, \"fertility\": 3.47}, {\"year\": 1990, \"country\": \"Dominican Republic\", \"cluster\": 3, \"pop\": 7077651, \"life_expect\": 68.457, \"fertility\": 3.1995}, {\"year\": 1995, \"country\": \"Dominican Republic\", \"cluster\": 3, \"pop\": 7730224, \"life_expect\": 69.957, \"fertility\": 3.05}, {\"year\": 2000, \"country\": \"Dominican Republic\", \"cluster\": 3, \"pop\": 8385828, \"life_expect\": 70.847, \"fertility\": 2.95}, {\"year\": 2005, \"country\": \"Dominican Republic\", \"cluster\": 3, \"pop\": 9049595, \"life_expect\": 72.235, \"fertility\": 2.81}, {\"year\": 1955, \"country\": \"Ecuador\", \"cluster\": 3, \"pop\": 3842399, \"life_expect\": 51.356, \"fertility\": 6.7}, {\"year\": 1960, \"country\": \"Ecuador\", \"cluster\": 3, \"pop\": 4415956, \"life_expect\": 54.64, \"fertility\": 6.7}, {\"year\": 1965, \"country\": \"Ecuador\", \"cluster\": 3, \"pop\": 5117779, \"life_expect\": 56.678, \"fertility\": 6.5}, {\"year\": 1970, \"country\": \"Ecuador\", \"cluster\": 3, \"pop\": 5939246, \"life_expect\": 58.796, \"fertility\": 6.0005}, {\"year\": 1975, \"country\": \"Ecuador\", \"cluster\": 3, \"pop\": 6871698, \"life_expect\": 61.31, \"fertility\": 5.4005}, {\"year\": 1980, \"country\": \"Ecuador\", \"cluster\": 3, \"pop\": 7920499, \"life_expect\": 64.342, \"fertility\": 4.7005}, {\"year\": 1985, \"country\": \"Ecuador\", \"cluster\": 3, \"pop\": 9061664, \"life_expect\": 67.231, \"fertility\": 4.0}, {\"year\": 1990, \"country\": \"Ecuador\", \"cluster\": 3, \"pop\": 10318036, \"life_expect\": 69.613, \"fertility\": 3.4005}, {\"year\": 1995, \"country\": \"Ecuador\", \"cluster\": 3, \"pop\": 11438004, \"life_expect\": 72.312, \"fertility\": 3.1}, {\"year\": 2000, \"country\": \"Ecuador\", \"cluster\": 3, \"pop\": 12505204, \"life_expect\": 74.173, \"fertility\": 2.8175}, {\"year\": 2005, \"country\": \"Ecuador\", \"cluster\": 3, \"pop\": 13363593, \"life_expect\": 74.994, \"fertility\": 2.578}, {\"year\": 1955, \"country\": \"Egypt\", \"cluster\": 5, \"pop\": 23855527, \"life_expect\": 44.444, \"fertility\": 6.97}, {\"year\": 1960, \"country\": \"Egypt\", \"cluster\": 5, \"pop\": 26846610, \"life_expect\": 46.992, \"fertility\": 7.073}, {\"year\": 1965, \"country\": \"Egypt\", \"cluster\": 5, \"pop\": 30265148, \"life_expect\": 49.293, \"fertility\": 6.5600000000000005}, {\"year\": 1970, \"country\": \"Egypt\", \"cluster\": 5, \"pop\": 33574026, \"life_expect\": 51.137, \"fertility\": 5.855}, {\"year\": 1975, \"country\": \"Egypt\", \"cluster\": 5, \"pop\": 36952499, \"life_expect\": 53.319, \"fertility\": 5.609}, {\"year\": 1980, \"country\": \"Egypt\", \"cluster\": 5, \"pop\": 42634215, \"life_expect\": 56.006, \"fertility\": 5.332}, {\"year\": 1985, \"country\": \"Egypt\", \"cluster\": 5, \"pop\": 50052381, \"life_expect\": 59.797, \"fertility\": 4.833}, {\"year\": 1990, \"country\": \"Egypt\", \"cluster\": 5, \"pop\": 56694413, \"life_expect\": 63.674, \"fertility\": 3.908}, {\"year\": 1995, \"country\": \"Egypt\", \"cluster\": 5, \"pop\": 63321615, \"life_expect\": 67.217, \"fertility\": 3.5}, {\"year\": 2000, \"country\": \"Egypt\", \"cluster\": 5, \"pop\": 70492342, \"life_expect\": 69.806, \"fertility\": 3.174}, {\"year\": 2005, \"country\": \"Egypt\", \"cluster\": 5, \"pop\": 77505756, \"life_expect\": 71.338, \"fertility\": 2.891}, {\"year\": 1955, \"country\": \"El Salvador\", \"cluster\": 3, \"pop\": 2221139, \"life_expect\": 48.57, \"fertility\": 6.8065}, {\"year\": 1960, \"country\": \"El Salvador\", \"cluster\": 3, \"pop\": 2581583, \"life_expect\": 52.307, \"fertility\": 6.8469999999999995}, {\"year\": 1965, \"country\": \"El Salvador\", \"cluster\": 3, \"pop\": 3017852, \"life_expect\": 55.855, \"fertility\": 6.621}, {\"year\": 1970, \"country\": \"El Salvador\", \"cluster\": 3, \"pop\": 3603907, \"life_expect\": 58.207, \"fertility\": 6.0995}, {\"year\": 1975, \"country\": \"El Salvador\", \"cluster\": 3, \"pop\": 4071179, \"life_expect\": 56.696, \"fertility\": 5.5996}, {\"year\": 1980, \"country\": \"El Salvador\", \"cluster\": 3, \"pop\": 4566199, \"life_expect\": 56.604, \"fertility\": 4.5}, {\"year\": 1985, \"country\": \"El Salvador\", \"cluster\": 3, \"pop\": 4664361, \"life_expect\": 63.154, \"fertility\": 3.901}, {\"year\": 1990, \"country\": \"El Salvador\", \"cluster\": 3, \"pop\": 5099884, \"life_expect\": 66.798, \"fertility\": 3.52}, {\"year\": 1995, \"country\": \"El Salvador\", \"cluster\": 3, \"pop\": 5568437, \"life_expect\": 69.535, \"fertility\": 3.17}, {\"year\": 2000, \"country\": \"El Salvador\", \"cluster\": 3, \"pop\": 6122515, \"life_expect\": 70.734, \"fertility\": 2.883}, {\"year\": 2005, \"country\": \"El Salvador\", \"cluster\": 3, \"pop\": 6704932, \"life_expect\": 71.878, \"fertility\": 2.6825}, {\"year\": 1955, \"country\": \"Finland\", \"cluster\": 1, \"pop\": 4234900, \"life_expect\": 67.49, \"fertility\": 2.769}, {\"year\": 1960, \"country\": \"Finland\", \"cluster\": 1, \"pop\": 4429600, \"life_expect\": 68.75, \"fertility\": 2.66}, {\"year\": 1965, \"country\": \"Finland\", \"cluster\": 1, \"pop\": 4563732, \"life_expect\": 69.83, \"fertility\": 2.191}, {\"year\": 1970, \"country\": \"Finland\", \"cluster\": 1, \"pop\": 4606307, \"life_expect\": 70.87, \"fertility\": 1.623}, {\"year\": 1975, \"country\": \"Finland\", \"cluster\": 1, \"pop\": 4711439, \"life_expect\": 72.52, \"fertility\": 1.663}, {\"year\": 1980, \"country\": \"Finland\", \"cluster\": 1, \"pop\": 4779535, \"life_expect\": 74.55, \"fertility\": 1.685}, {\"year\": 1985, \"country\": \"Finland\", \"cluster\": 1, \"pop\": 4901783, \"life_expect\": 74.83, \"fertility\": 1.6600000000000001}, {\"year\": 1990, \"country\": \"Finland\", \"cluster\": 1, \"pop\": 4986431, \"life_expect\": 75.7, \"fertility\": 1.819}, {\"year\": 1995, \"country\": \"Finland\", \"cluster\": 1, \"pop\": 5104654, \"life_expect\": 77.13, \"fertility\": 1.7429999999999999}, {\"year\": 2000, \"country\": \"Finland\", \"cluster\": 1, \"pop\": 5168595, \"life_expect\": 78.37, \"fertility\": 1.754}, {\"year\": 2005, \"country\": \"Finland\", \"cluster\": 1, \"pop\": 5223442, \"life_expect\": 79.313, \"fertility\": 1.8250000000000002}, {\"year\": 1955, \"country\": \"France\", \"cluster\": 1, \"pop\": 43427669, \"life_expect\": 68.93, \"fertility\": 2.7119999999999997}, {\"year\": 1960, \"country\": \"France\", \"cluster\": 1, \"pop\": 45670000, \"life_expect\": 70.51, \"fertility\": 2.85}, {\"year\": 1965, \"country\": \"France\", \"cluster\": 1, \"pop\": 48763000, \"life_expect\": 71.55, \"fertility\": 2.607}, {\"year\": 1970, \"country\": \"France\", \"cluster\": 1, \"pop\": 50787000, \"life_expect\": 72.38, \"fertility\": 2.31}, {\"year\": 1975, \"country\": \"France\", \"cluster\": 1, \"pop\": 52758427, \"life_expect\": 73.83, \"fertility\": 1.862}, {\"year\": 1980, \"country\": \"France\", \"cluster\": 1, \"pop\": 53869743, \"life_expect\": 74.89, \"fertility\": 1.866}, {\"year\": 1985, \"country\": \"France\", \"cluster\": 1, \"pop\": 55171224, \"life_expect\": 76.34, \"fertility\": 1.8050000000000002}, {\"year\": 1990, \"country\": \"France\", \"cluster\": 1, \"pop\": 56735161, \"life_expect\": 77.46, \"fertility\": 1.713}, {\"year\": 1995, \"country\": \"France\", \"cluster\": 1, \"pop\": 58149727, \"life_expect\": 78.64, \"fertility\": 1.7624}, {\"year\": 2000, \"country\": \"France\", \"cluster\": 1, \"pop\": 59381628, \"life_expect\": 79.59, \"fertility\": 1.8833000000000002}, {\"year\": 2005, \"country\": \"France\", \"cluster\": 1, \"pop\": 60656178, \"life_expect\": 80.657, \"fertility\": 1.8916}, {\"year\": 1955, \"country\": \"Georgia\", \"cluster\": 1, \"pop\": 3827154, \"life_expect\": 62.625, \"fertility\": 2.909}, {\"year\": 1960, \"country\": \"Georgia\", \"cluster\": 1, \"pop\": 4146570, \"life_expect\": 64.644, \"fertility\": 2.979}, {\"year\": 1965, \"country\": \"Georgia\", \"cluster\": 1, \"pop\": 4464959, \"life_expect\": 66.654, \"fertility\": 2.6109999999999998}, {\"year\": 1970, \"country\": \"Georgia\", \"cluster\": 1, \"pop\": 4694491, \"life_expect\": 68.158, \"fertility\": 2.601}, {\"year\": 1975, \"country\": \"Georgia\", \"cluster\": 1, \"pop\": 4897656, \"life_expect\": 69.634, \"fertility\": 2.39}, {\"year\": 1980, \"country\": \"Georgia\", \"cluster\": 1, \"pop\": 5045697, \"life_expect\": 69.638, \"fertility\": 2.269}, {\"year\": 1985, \"country\": \"Georgia\", \"cluster\": 1, \"pop\": 5192957, \"life_expect\": 70.45, \"fertility\": 2.263}, {\"year\": 1990, \"country\": \"Georgia\", \"cluster\": 1, \"pop\": 5426207, \"life_expect\": 70.465, \"fertility\": 1.9500000000000002}, {\"year\": 1995, \"country\": \"Georgia\", \"cluster\": 1, \"pop\": 5012952, \"life_expect\": 70.49, \"fertility\": 1.58}, {\"year\": 2000, \"country\": \"Georgia\", \"cluster\": 1, \"pop\": 4777209, \"life_expect\": 70.476, \"fertility\": 1.478}, {\"year\": 2005, \"country\": \"Georgia\", \"cluster\": 1, \"pop\": 4677401, \"life_expect\": 70.987, \"fertility\": 1.407}, {\"year\": 1955, \"country\": \"Germany\", \"cluster\": 1, \"pop\": 70195612, \"life_expect\": 69.1, \"fertility\": 2.3}, {\"year\": 1960, \"country\": \"Germany\", \"cluster\": 1, \"pop\": 72480869, \"life_expect\": 70.3, \"fertility\": 2.49}, {\"year\": 1965, \"country\": \"Germany\", \"cluster\": 1, \"pop\": 75638851, \"life_expect\": 70.8, \"fertility\": 2.32}, {\"year\": 1970, \"country\": \"Germany\", \"cluster\": 1, \"pop\": 77783164, \"life_expect\": 71.0, \"fertility\": 1.6400000000000001}, {\"year\": 1975, \"country\": \"Germany\", \"cluster\": 1, \"pop\": 78682325, \"life_expect\": 72.5, \"fertility\": 1.52}, {\"year\": 1980, \"country\": \"Germany\", \"cluster\": 1, \"pop\": 78297904, \"life_expect\": 73.8, \"fertility\": 1.46}, {\"year\": 1985, \"country\": \"Germany\", \"cluster\": 1, \"pop\": 77684907, \"life_expect\": 74.847, \"fertility\": 1.43}, {\"year\": 1990, \"country\": \"Germany\", \"cluster\": 1, \"pop\": 79380394, \"life_expect\": 76.07, \"fertility\": 1.31}, {\"year\": 1995, \"country\": \"Germany\", \"cluster\": 1, \"pop\": 81653702, \"life_expect\": 77.34, \"fertility\": 1.34}, {\"year\": 2000, \"country\": \"Germany\", \"cluster\": 1, \"pop\": 82187909, \"life_expect\": 78.67, \"fertility\": 1.346}, {\"year\": 2005, \"country\": \"Germany\", \"cluster\": 1, \"pop\": 82431390, \"life_expect\": 79.406, \"fertility\": 1.3599999999999999}, {\"year\": 1955, \"country\": \"Greece\", \"cluster\": 1, \"pop\": 7965538, \"life_expect\": 67.86, \"fertility\": 2.27}, {\"year\": 1960, \"country\": \"Greece\", \"cluster\": 1, \"pop\": 8327405, \"life_expect\": 69.51, \"fertility\": 2.2}, {\"year\": 1965, \"country\": \"Greece\", \"cluster\": 1, \"pop\": 8550333, \"life_expect\": 71.0, \"fertility\": 2.38}, {\"year\": 1970, \"country\": \"Greece\", \"cluster\": 1, \"pop\": 8792806, \"life_expect\": 72.34, \"fertility\": 2.32}, {\"year\": 1975, \"country\": \"Greece\", \"cluster\": 1, \"pop\": 9046542, \"life_expect\": 73.68, \"fertility\": 2.32}, {\"year\": 1980, \"country\": \"Greece\", \"cluster\": 1, \"pop\": 9642505, \"life_expect\": 75.24, \"fertility\": 1.96}, {\"year\": 1985, \"country\": \"Greece\", \"cluster\": 1, \"pop\": 9923253, \"life_expect\": 76.67, \"fertility\": 1.53}, {\"year\": 1990, \"country\": \"Greece\", \"cluster\": 1, \"pop\": 10129603, \"life_expect\": 77.03, \"fertility\": 1.37}, {\"year\": 1995, \"country\": \"Greece\", \"cluster\": 1, \"pop\": 10457554, \"life_expect\": 77.869, \"fertility\": 1.296}, {\"year\": 2000, \"country\": \"Greece\", \"cluster\": 1, \"pop\": 10559110, \"life_expect\": 78.256, \"fertility\": 1.2770000000000001}, {\"year\": 2005, \"country\": \"Greece\", \"cluster\": 1, \"pop\": 10668354, \"life_expect\": 79.483, \"fertility\": 1.325}, {\"year\": 1955, \"country\": \"Grenada\", \"cluster\": 3, \"pop\": 84621, \"life_expect\": 63.114, \"fertility\": 6.7}, {\"year\": 1960, \"country\": \"Grenada\", \"cluster\": 3, \"pop\": 90148, \"life_expect\": 63.608, \"fertility\": 6.4}, {\"year\": 1965, \"country\": \"Grenada\", \"cluster\": 3, \"pop\": 93290, \"life_expect\": 64.091, \"fertility\": 4.8}, {\"year\": 1970, \"country\": \"Grenada\", \"cluster\": 3, \"pop\": 95410, \"life_expect\": 64.577, \"fertility\": 4.6}, {\"year\": 1975, \"country\": \"Grenada\", \"cluster\": 3, \"pop\": 95819, \"life_expect\": 65.035, \"fertility\": 4.3}, {\"year\": 1980, \"country\": \"Grenada\", \"cluster\": 3, \"pop\": 90164, \"life_expect\": 65.503, \"fertility\": 4.23}, {\"year\": 1985, \"country\": \"Grenada\", \"cluster\": 3, \"pop\": 92203, \"life_expect\": 66.002, \"fertility\": 4.14}, {\"year\": 1990, \"country\": \"Grenada\", \"cluster\": 3, \"pop\": 92360, \"life_expect\": 66.469, \"fertility\": 3.26}, {\"year\": 1995, \"country\": \"Grenada\", \"cluster\": 3, \"pop\": 90603, \"life_expect\": 66.986, \"fertility\": 2.814}, {\"year\": 2000, \"country\": \"Grenada\", \"cluster\": 3, \"pop\": 89312, \"life_expect\": 67.746, \"fertility\": 2.429}, {\"year\": 2005, \"country\": \"Grenada\", \"cluster\": 3, \"pop\": 89502, \"life_expect\": 68.724, \"fertility\": 2.302}, {\"year\": 1955, \"country\": \"Haiti\", \"cluster\": 3, \"pop\": 3376419, \"life_expect\": 40.696, \"fertility\": 6.3}, {\"year\": 1960, \"country\": \"Haiti\", \"cluster\": 3, \"pop\": 3722743, \"life_expect\": 43.59, \"fertility\": 6.3}, {\"year\": 1965, \"country\": \"Haiti\", \"cluster\": 3, \"pop\": 4137405, \"life_expect\": 46.243, \"fertility\": 6.0}, {\"year\": 1970, \"country\": \"Haiti\", \"cluster\": 3, \"pop\": 4604915, \"life_expect\": 48.042, \"fertility\": 5.6005}, {\"year\": 1975, \"country\": \"Haiti\", \"cluster\": 3, \"pop\": 4828338, \"life_expect\": 49.923, \"fertility\": 5.8}, {\"year\": 1980, \"country\": \"Haiti\", \"cluster\": 3, \"pop\": 5029725, \"life_expect\": 51.461, \"fertility\": 6.2099}, {\"year\": 1985, \"country\": \"Haiti\", \"cluster\": 3, \"pop\": 5517977, \"life_expect\": 53.636, \"fertility\": 5.69985}, {\"year\": 1990, \"country\": \"Haiti\", \"cluster\": 3, \"pop\": 6126101, \"life_expect\": 55.089, \"fertility\": 5.14985}, {\"year\": 1995, \"country\": \"Haiti\", \"cluster\": 3, \"pop\": 6675578, \"life_expect\": 56.671, \"fertility\": 4.61995}, {\"year\": 2000, \"country\": \"Haiti\", \"cluster\": 3, \"pop\": 7306302, \"life_expect\": 58.137, \"fertility\": 4.0}, {\"year\": 2005, \"country\": \"Haiti\", \"cluster\": 3, \"pop\": 8121622, \"life_expect\": 60.916, \"fertility\": 3.5445}, {\"year\": 1955, \"country\": \"Hong Kong\", \"cluster\": 4, \"pop\": 2490400, \"life_expect\": 64.75, \"fertility\": 4.72}, {\"year\": 1960, \"country\": \"Hong Kong\", \"cluster\": 4, \"pop\": 3075300, \"life_expect\": 67.65, \"fertility\": 5.31}, {\"year\": 1965, \"country\": \"Hong Kong\", \"cluster\": 4, \"pop\": 3597900, \"life_expect\": 70.0, \"fertility\": 4.02}, {\"year\": 1970, \"country\": \"Hong Kong\", \"cluster\": 4, \"pop\": 3959000, \"life_expect\": 72.0, \"fertility\": 2.89}, {\"year\": 1975, \"country\": \"Hong Kong\", \"cluster\": 4, \"pop\": 4395800, \"life_expect\": 73.6, \"fertility\": 2.32}, {\"year\": 1980, \"country\": \"Hong Kong\", \"cluster\": 4, \"pop\": 5063100, \"life_expect\": 75.45, \"fertility\": 1.8}, {\"year\": 1985, \"country\": \"Hong Kong\", \"cluster\": 4, \"pop\": 5456200, \"life_expect\": 76.2, \"fertility\": 1.31}, {\"year\": 1990, \"country\": \"Hong Kong\", \"cluster\": 4, \"pop\": 5687959, \"life_expect\": 77.601, \"fertility\": 1.288}, {\"year\": 1995, \"country\": \"Hong Kong\", \"cluster\": 4, \"pop\": 6225347, \"life_expect\": 80.0, \"fertility\": 1.08}, {\"year\": 2000, \"country\": \"Hong Kong\", \"cluster\": 4, \"pop\": 6658720, \"life_expect\": 81.495, \"fertility\": 0.9400000000000001}, {\"year\": 2005, \"country\": \"Hong Kong\", \"cluster\": 4, \"pop\": 6898686, \"life_expect\": 82.208, \"fertility\": 0.966}, {\"year\": 1955, \"country\": \"Iceland\", \"cluster\": 1, \"pop\": 158044, \"life_expect\": 73.47, \"fertility\": 4.023}, {\"year\": 1960, \"country\": \"Iceland\", \"cluster\": 1, \"pop\": 175860, \"life_expect\": 73.68, \"fertility\": 3.943}, {\"year\": 1965, \"country\": \"Iceland\", \"cluster\": 1, \"pop\": 192288, \"life_expect\": 73.73, \"fertility\": 3.154}, {\"year\": 1970, \"country\": \"Iceland\", \"cluster\": 1, \"pop\": 204104, \"life_expect\": 74.46, \"fertility\": 2.843}, {\"year\": 1975, \"country\": \"Iceland\", \"cluster\": 1, \"pop\": 218031, \"life_expect\": 76.11, \"fertility\": 2.287}, {\"year\": 1980, \"country\": \"Iceland\", \"cluster\": 1, \"pop\": 228161, \"life_expect\": 76.99, \"fertility\": 2.248}, {\"year\": 1985, \"country\": \"Iceland\", \"cluster\": 1, \"pop\": 241403, \"life_expect\": 77.23, \"fertility\": 2.116}, {\"year\": 1990, \"country\": \"Iceland\", \"cluster\": 1, \"pop\": 254719, \"life_expect\": 78.77, \"fertility\": 2.194}, {\"year\": 1995, \"country\": \"Iceland\", \"cluster\": 1, \"pop\": 267527, \"life_expect\": 78.95, \"fertility\": 2.056}, {\"year\": 2000, \"country\": \"Iceland\", \"cluster\": 1, \"pop\": 281043, \"life_expect\": 80.5, \"fertility\": 1.9929999999999999}, {\"year\": 2005, \"country\": \"Iceland\", \"cluster\": 1, \"pop\": 296737, \"life_expect\": 81.757, \"fertility\": 2.052}, {\"year\": 1955, \"country\": \"India\", \"cluster\": 0, \"pop\": 393000000, \"life_expect\": 40.249, \"fertility\": 5.8961}, {\"year\": 1960, \"country\": \"India\", \"cluster\": 0, \"pop\": 434000000, \"life_expect\": 43.605, \"fertility\": 5.8216}, {\"year\": 1965, \"country\": \"India\", \"cluster\": 0, \"pop\": 485000000, \"life_expect\": 47.193, \"fertility\": 5.6058}, {\"year\": 1970, \"country\": \"India\", \"cluster\": 0, \"pop\": 541000000, \"life_expect\": 50.651, \"fertility\": 5.264}, {\"year\": 1975, \"country\": \"India\", \"cluster\": 0, \"pop\": 607000000, \"life_expect\": 54.208, \"fertility\": 4.8888}, {\"year\": 1980, \"country\": \"India\", \"cluster\": 0, \"pop\": 679000000, \"life_expect\": 56.596, \"fertility\": 4.4975}, {\"year\": 1985, \"country\": \"India\", \"cluster\": 0, \"pop\": 755000000, \"life_expect\": 58.553, \"fertility\": 4.15}, {\"year\": 1990, \"country\": \"India\", \"cluster\": 0, \"pop\": 839000000, \"life_expect\": 60.223, \"fertility\": 3.8648}, {\"year\": 1995, \"country\": \"India\", \"cluster\": 0, \"pop\": 927000000, \"life_expect\": 61.765, \"fertility\": 3.4551}, {\"year\": 2000, \"country\": \"India\", \"cluster\": 0, \"pop\": 1007702000, \"life_expect\": 62.879, \"fertility\": 3.1132}, {\"year\": 2005, \"country\": \"India\", \"cluster\": 0, \"pop\": 1080264388, \"life_expect\": 64.698, \"fertility\": 2.8073}, {\"year\": 1955, \"country\": \"Indonesia\", \"cluster\": 4, \"pop\": 86807000, \"life_expect\": 39.918, \"fertility\": 5.672}, {\"year\": 1960, \"country\": \"Indonesia\", \"cluster\": 4, \"pop\": 95254000, \"life_expect\": 42.518, \"fertility\": 5.62}, {\"year\": 1965, \"country\": \"Indonesia\", \"cluster\": 4, \"pop\": 105093000, \"life_expect\": 45.964, \"fertility\": 5.568}, {\"year\": 1970, \"country\": \"Indonesia\", \"cluster\": 4, \"pop\": 116044000, \"life_expect\": 49.203, \"fertility\": 5.3}, {\"year\": 1975, \"country\": \"Indonesia\", \"cluster\": 4, \"pop\": 130297000, \"life_expect\": 52.702, \"fertility\": 4.73}, {\"year\": 1980, \"country\": \"Indonesia\", \"cluster\": 4, \"pop\": 146995000, \"life_expect\": 56.159, \"fertility\": 4.109}, {\"year\": 1985, \"country\": \"Indonesia\", \"cluster\": 4, \"pop\": 163403000, \"life_expect\": 60.137, \"fertility\": 3.4}, {\"year\": 1990, \"country\": \"Indonesia\", \"cluster\": 4, \"pop\": 178500000, \"life_expect\": 62.681, \"fertility\": 2.9}, {\"year\": 1995, \"country\": \"Indonesia\", \"cluster\": 4, \"pop\": 194755000, \"life_expect\": 66.041, \"fertility\": 2.55}, {\"year\": 2000, \"country\": \"Indonesia\", \"cluster\": 4, \"pop\": 206265000, \"life_expect\": 68.588, \"fertility\": 2.3761}, {\"year\": 2005, \"country\": \"Indonesia\", \"cluster\": 4, \"pop\": 218465000, \"life_expect\": 70.65, \"fertility\": 2.182}, {\"year\": 1955, \"country\": \"Iran\", \"cluster\": 5, \"pop\": 18729000, \"life_expect\": 47.181, \"fertility\": 7.0}, {\"year\": 1960, \"country\": \"Iran\", \"cluster\": 5, \"pop\": 21577000, \"life_expect\": 49.325, \"fertility\": 7.0}, {\"year\": 1965, \"country\": \"Iran\", \"cluster\": 5, \"pop\": 25000000, \"life_expect\": 52.469, \"fertility\": 6.8}, {\"year\": 1970, \"country\": \"Iran\", \"cluster\": 5, \"pop\": 28933000, \"life_expect\": 55.234, \"fertility\": 6.4}, {\"year\": 1975, \"country\": \"Iran\", \"cluster\": 5, \"pop\": 33379000, \"life_expect\": 57.702, \"fertility\": 6.5}, {\"year\": 1980, \"country\": \"Iran\", \"cluster\": 5, \"pop\": 39583397, \"life_expect\": 59.62, \"fertility\": 6.63}, {\"year\": 1985, \"country\": \"Iran\", \"cluster\": 5, \"pop\": 48439952, \"life_expect\": 63.04, \"fertility\": 5.62}, {\"year\": 1990, \"country\": \"Iran\", \"cluster\": 5, \"pop\": 57035717, \"life_expect\": 65.742, \"fertility\": 4.328}, {\"year\": 1995, \"country\": \"Iran\", \"cluster\": 5, \"pop\": 61628116, \"life_expect\": 68.042, \"fertility\": 2.534}, {\"year\": 2000, \"country\": \"Iran\", \"cluster\": 5, \"pop\": 65660289, \"life_expect\": 69.451, \"fertility\": 2.124}, {\"year\": 2005, \"country\": \"Iran\", \"cluster\": 5, \"pop\": 68017860, \"life_expect\": 70.964, \"fertility\": 2.04}, {\"year\": 1955, \"country\": \"Iraq\", \"cluster\": 5, \"pop\": 5903253, \"life_expect\": 48.437, \"fertility\": 7.3}, {\"year\": 1960, \"country\": \"Iraq\", \"cluster\": 5, \"pop\": 6822030, \"life_expect\": 51.457, \"fertility\": 7.25}, {\"year\": 1965, \"country\": \"Iraq\", \"cluster\": 5, \"pop\": 7970746, \"life_expect\": 54.459, \"fertility\": 7.2}, {\"year\": 1970, \"country\": \"Iraq\", \"cluster\": 5, \"pop\": 9413671, \"life_expect\": 56.95, \"fertility\": 7.15}, {\"year\": 1975, \"country\": \"Iraq\", \"cluster\": 5, \"pop\": 11117804, \"life_expect\": 60.413, \"fertility\": 6.8}, {\"year\": 1980, \"country\": \"Iraq\", \"cluster\": 5, \"pop\": 13232839, \"life_expect\": 62.038, \"fertility\": 6.35}, {\"year\": 1985, \"country\": \"Iraq\", \"cluster\": 5, \"pop\": 15693620, \"life_expect\": 65.044, \"fertility\": 6.15}, {\"year\": 1990, \"country\": \"Iraq\", \"cluster\": 5, \"pop\": 18134702, \"life_expect\": 59.461, \"fertility\": 5.7}, {\"year\": 1995, \"country\": \"Iraq\", \"cluster\": 5, \"pop\": 19557247, \"life_expect\": 58.811, \"fertility\": 5.37}, {\"year\": 2000, \"country\": \"Iraq\", \"cluster\": 5, \"pop\": 22675617, \"life_expect\": 57.046, \"fertility\": 4.858}, {\"year\": 2005, \"country\": \"Iraq\", \"cluster\": 5, \"pop\": 26074906, \"life_expect\": 59.545, \"fertility\": 4.264}, {\"year\": 1955, \"country\": \"Ireland\", \"cluster\": 1, \"pop\": 2916133, \"life_expect\": 68.9, \"fertility\": 3.68}, {\"year\": 1960, \"country\": \"Ireland\", \"cluster\": 1, \"pop\": 2832000, \"life_expect\": 70.29, \"fertility\": 3.979}, {\"year\": 1965, \"country\": \"Ireland\", \"cluster\": 1, \"pop\": 2876000, \"life_expect\": 71.08, \"fertility\": 3.873}, {\"year\": 1970, \"country\": \"Ireland\", \"cluster\": 1, \"pop\": 2950100, \"life_expect\": 71.28, \"fertility\": 3.815}, {\"year\": 1975, \"country\": \"Ireland\", \"cluster\": 1, \"pop\": 3177300, \"life_expect\": 72.03, \"fertility\": 3.478}, {\"year\": 1980, \"country\": \"Ireland\", \"cluster\": 1, \"pop\": 3401000, \"life_expect\": 73.1, \"fertility\": 2.877}, {\"year\": 1985, \"country\": \"Ireland\", \"cluster\": 1, \"pop\": 3540000, \"life_expect\": 74.36, \"fertility\": 2.287}, {\"year\": 1990, \"country\": \"Ireland\", \"cluster\": 1, \"pop\": 3508200, \"life_expect\": 75.467, \"fertility\": 1.9689999999999999}, {\"year\": 1995, \"country\": \"Ireland\", \"cluster\": 1, \"pop\": 3613890, \"life_expect\": 76.122, \"fertility\": 1.9}, {\"year\": 2000, \"country\": \"Ireland\", \"cluster\": 1, \"pop\": 3791690, \"life_expect\": 77.783, \"fertility\": 1.9689999999999999}, {\"year\": 2005, \"country\": \"Ireland\", \"cluster\": 1, \"pop\": 4015676, \"life_expect\": 78.885, \"fertility\": 1.964}, {\"year\": 1955, \"country\": \"Israel\", \"cluster\": 5, \"pop\": 1772032, \"life_expect\": 67.84, \"fertility\": 3.893}, {\"year\": 1960, \"country\": \"Israel\", \"cluster\": 5, \"pop\": 2141495, \"life_expect\": 69.39, \"fertility\": 3.852}, {\"year\": 1965, \"country\": \"Israel\", \"cluster\": 5, \"pop\": 2578184, \"life_expect\": 70.75, \"fertility\": 3.79}, {\"year\": 1970, \"country\": \"Israel\", \"cluster\": 5, \"pop\": 2903434, \"life_expect\": 71.63, \"fertility\": 3.77}, {\"year\": 1975, \"country\": \"Israel\", \"cluster\": 5, \"pop\": 3354242, \"life_expect\": 73.06, \"fertility\": 3.409}, {\"year\": 1980, \"country\": \"Israel\", \"cluster\": 5, \"pop\": 3737473, \"life_expect\": 74.45, \"fertility\": 3.125}, {\"year\": 1985, \"country\": \"Israel\", \"cluster\": 5, \"pop\": 4074965, \"life_expect\": 75.6, \"fertility\": 3.051}, {\"year\": 1990, \"country\": \"Israel\", \"cluster\": 5, \"pop\": 4512068, \"life_expect\": 76.93, \"fertility\": 2.933}, {\"year\": 1995, \"country\": \"Israel\", \"cluster\": 5, \"pop\": 5305120, \"life_expect\": 78.269, \"fertility\": 2.942}, {\"year\": 2000, \"country\": \"Israel\", \"cluster\": 5, \"pop\": 5842454, \"life_expect\": 79.696, \"fertility\": 2.906}, {\"year\": 2005, \"country\": \"Israel\", \"cluster\": 5, \"pop\": 6276883, \"life_expect\": 80.745, \"fertility\": 2.75}, {\"year\": 1955, \"country\": \"Italy\", \"cluster\": 1, \"pop\": 48633000, \"life_expect\": 67.81, \"fertility\": 2.35}, {\"year\": 1960, \"country\": \"Italy\", \"cluster\": 1, \"pop\": 50197600, \"life_expect\": 69.24, \"fertility\": 2.498}, {\"year\": 1965, \"country\": \"Italy\", \"cluster\": 1, \"pop\": 51987100, \"life_expect\": 71.06, \"fertility\": 2.493}, {\"year\": 1970, \"country\": \"Italy\", \"cluster\": 1, \"pop\": 53661100, \"life_expect\": 72.19, \"fertility\": 2.325}, {\"year\": 1975, \"country\": \"Italy\", \"cluster\": 1, \"pop\": 55571894, \"life_expect\": 73.48, \"fertility\": 1.889}, {\"year\": 1980, \"country\": \"Italy\", \"cluster\": 1, \"pop\": 56451247, \"life_expect\": 74.98, \"fertility\": 1.53}, {\"year\": 1985, \"country\": \"Italy\", \"cluster\": 1, \"pop\": 56731215, \"life_expect\": 76.42, \"fertility\": 1.349}, {\"year\": 1990, \"country\": \"Italy\", \"cluster\": 1, \"pop\": 56742886, \"life_expect\": 77.44, \"fertility\": 1.275}, {\"year\": 1995, \"country\": \"Italy\", \"cluster\": 1, \"pop\": 57274531, \"life_expect\": 78.82, \"fertility\": 1.213}, {\"year\": 2000, \"country\": \"Italy\", \"cluster\": 1, \"pop\": 57719337, \"life_expect\": 80.24, \"fertility\": 1.286}, {\"year\": 2005, \"country\": \"Italy\", \"cluster\": 1, \"pop\": 58103033, \"life_expect\": 80.546, \"fertility\": 1.379}, {\"year\": 1955, \"country\": \"Jamaica\", \"cluster\": 3, \"pop\": 1488805, \"life_expect\": 62.61, \"fertility\": 5.08}, {\"year\": 1960, \"country\": \"Jamaica\", \"cluster\": 3, \"pop\": 1631784, \"life_expect\": 65.61, \"fertility\": 5.64}, {\"year\": 1965, \"country\": \"Jamaica\", \"cluster\": 3, \"pop\": 1777397, \"life_expect\": 67.51, \"fertility\": 5.78}, {\"year\": 1970, \"country\": \"Jamaica\", \"cluster\": 3, \"pop\": 1943787, \"life_expect\": 69.0, \"fertility\": 5.0}, {\"year\": 1975, \"country\": \"Jamaica\", \"cluster\": 3, \"pop\": 2104879, \"life_expect\": 70.11, \"fertility\": 4.0}, {\"year\": 1980, \"country\": \"Jamaica\", \"cluster\": 3, \"pop\": 2228803, \"life_expect\": 71.21, \"fertility\": 3.55}, {\"year\": 1985, \"country\": \"Jamaica\", \"cluster\": 3, \"pop\": 2318652, \"life_expect\": 71.77, \"fertility\": 3.1}, {\"year\": 1990, \"country\": \"Jamaica\", \"cluster\": 3, \"pop\": 2347922, \"life_expect\": 71.766, \"fertility\": 2.84}, {\"year\": 1995, \"country\": \"Jamaica\", \"cluster\": 3, \"pop\": 2469389, \"life_expect\": 72.262, \"fertility\": 2.67}, {\"year\": 2000, \"country\": \"Jamaica\", \"cluster\": 3, \"pop\": 2615467, \"life_expect\": 72.047, \"fertility\": 2.628}, {\"year\": 2005, \"country\": \"Jamaica\", \"cluster\": 3, \"pop\": 2735520, \"life_expect\": 72.567, \"fertility\": 2.4289}, {\"year\": 1955, \"country\": \"Japan\", \"cluster\": 4, \"pop\": 89815060, \"life_expect\": 65.5, \"fertility\": 2.08}, {\"year\": 1960, \"country\": \"Japan\", \"cluster\": 4, \"pop\": 94091638, \"life_expect\": 68.73, \"fertility\": 2.02}, {\"year\": 1965, \"country\": \"Japan\", \"cluster\": 4, \"pop\": 98882534, \"life_expect\": 71.43, \"fertility\": 2.0}, {\"year\": 1970, \"country\": \"Japan\", \"cluster\": 4, \"pop\": 104344973, \"life_expect\": 73.42, \"fertility\": 2.07}, {\"year\": 1975, \"country\": \"Japan\", \"cluster\": 4, \"pop\": 111573116, \"life_expect\": 75.38, \"fertility\": 1.81}, {\"year\": 1980, \"country\": \"Japan\", \"cluster\": 4, \"pop\": 116807309, \"life_expect\": 77.11, \"fertility\": 1.76}, {\"year\": 1985, \"country\": \"Japan\", \"cluster\": 4, \"pop\": 120754335, \"life_expect\": 78.67, \"fertility\": 1.6600000000000001}, {\"year\": 1990, \"country\": \"Japan\", \"cluster\": 4, \"pop\": 123537399, \"life_expect\": 79.36, \"fertility\": 1.49}, {\"year\": 1995, \"country\": \"Japan\", \"cluster\": 4, \"pop\": 125341354, \"life_expect\": 80.69, \"fertility\": 1.3900000000000001}, {\"year\": 2000, \"country\": \"Japan\", \"cluster\": 4, \"pop\": 126699784, \"life_expect\": 82.0, \"fertility\": 1.291}, {\"year\": 2005, \"country\": \"Japan\", \"cluster\": 4, \"pop\": 127417244, \"life_expect\": 82.603, \"fertility\": 1.27}, {\"year\": 1955, \"country\": \"Kenya\", \"cluster\": 2, \"pop\": 7033999, \"life_expect\": 44.686, \"fertility\": 7.816}, {\"year\": 1960, \"country\": \"Kenya\", \"cluster\": 2, \"pop\": 8156827, \"life_expect\": 47.949, \"fertility\": 8.12}, {\"year\": 1965, \"country\": \"Kenya\", \"cluster\": 2, \"pop\": 9549179, \"life_expect\": 50.654, \"fertility\": 8.12}, {\"year\": 1970, \"country\": \"Kenya\", \"cluster\": 2, \"pop\": 11247182, \"life_expect\": 53.559, \"fertility\": 8.0}, {\"year\": 1975, \"country\": \"Kenya\", \"cluster\": 2, \"pop\": 13433414, \"life_expect\": 56.155, \"fertility\": 7.6}, {\"year\": 1980, \"country\": \"Kenya\", \"cluster\": 2, \"pop\": 16331401, \"life_expect\": 58.766, \"fertility\": 7.2}, {\"year\": 1985, \"country\": \"Kenya\", \"cluster\": 2, \"pop\": 19763285, \"life_expect\": 59.339, \"fertility\": 6.5}, {\"year\": 1990, \"country\": \"Kenya\", \"cluster\": 2, \"pop\": 23358413, \"life_expect\": 59.285, \"fertility\": 5.4}, {\"year\": 1995, \"country\": \"Kenya\", \"cluster\": 2, \"pop\": 27060142, \"life_expect\": 54.407, \"fertility\": 5.0}, {\"year\": 2000, \"country\": \"Kenya\", \"cluster\": 2, \"pop\": 29985839, \"life_expect\": 50.992, \"fertility\": 5.0}, {\"year\": 2005, \"country\": \"Kenya\", \"cluster\": 2, \"pop\": 33829590, \"life_expect\": 54.11, \"fertility\": 4.959}, {\"year\": 1955, \"country\": \"South Korea\", \"cluster\": 4, \"pop\": 8839427, \"life_expect\": 54.081, \"fertility\": 3.8}, {\"year\": 1960, \"country\": \"South Korea\", \"cluster\": 4, \"pop\": 10391909, \"life_expect\": 56.656, \"fertility\": 3.41}, {\"year\": 1965, \"country\": \"South Korea\", \"cluster\": 4, \"pop\": 11868751, \"life_expect\": 59.942, \"fertility\": 4.09}, {\"year\": 1970, \"country\": \"South Korea\", \"cluster\": 4, \"pop\": 13911902, \"life_expect\": 63.983, \"fertility\": 3.7199999999999998}, {\"year\": 1975, \"country\": \"South Korea\", \"cluster\": 4, \"pop\": 15801308, \"life_expect\": 67.159, \"fertility\": 2.58}, {\"year\": 1980, \"country\": \"South Korea\", \"cluster\": 4, \"pop\": 17113626, \"life_expect\": 69.1, \"fertility\": 2.93}, {\"year\": 1985, \"country\": \"South Korea\", \"cluster\": 4, \"pop\": 18481420, \"life_expect\": 70.647, \"fertility\": 2.45}, {\"year\": 1990, \"country\": \"South Korea\", \"cluster\": 4, \"pop\": 20018546, \"life_expect\": 69.978, \"fertility\": 2.35}, {\"year\": 1995, \"country\": \"South Korea\", \"cluster\": 4, \"pop\": 21561856, \"life_expect\": 67.727, \"fertility\": 2.0938}, {\"year\": 2000, \"country\": \"South Korea\", \"cluster\": 4, \"pop\": 21647682, \"life_expect\": 66.662, \"fertility\": 1.9173}, {\"year\": 2005, \"country\": \"South Korea\", \"cluster\": 4, \"pop\": 22912177, \"life_expect\": 67.297, \"fertility\": 1.85}, {\"year\": 1955, \"country\": \"North Korea\", \"cluster\": 4, \"pop\": 21551834, \"life_expect\": 52.681, \"fertility\": 6.332}, {\"year\": 1960, \"country\": \"North Korea\", \"cluster\": 4, \"pop\": 24784140, \"life_expect\": 55.292, \"fertility\": 5.63}, {\"year\": 1965, \"country\": \"North Korea\", \"cluster\": 4, \"pop\": 28705000, \"life_expect\": 57.716, \"fertility\": 4.708}, {\"year\": 1970, \"country\": \"North Korea\", \"cluster\": 4, \"pop\": 32241000, \"life_expect\": 62.612, \"fertility\": 4.281}, {\"year\": 1975, \"country\": \"North Korea\", \"cluster\": 4, \"pop\": 35281000, \"life_expect\": 64.766, \"fertility\": 2.919}, {\"year\": 1980, \"country\": \"North Korea\", \"cluster\": 4, \"pop\": 38124000, \"life_expect\": 67.123, \"fertility\": 2.234}, {\"year\": 1985, \"country\": \"North Korea\", \"cluster\": 4, \"pop\": 40806000, \"life_expect\": 69.81, \"fertility\": 1.601}, {\"year\": 1990, \"country\": \"North Korea\", \"cluster\": 4, \"pop\": 42869000, \"life_expect\": 72.244, \"fertility\": 1.6960000000000002}, {\"year\": 1995, \"country\": \"North Korea\", \"cluster\": 4, \"pop\": 45264146, \"life_expect\": 74.647, \"fertility\": 1.514}, {\"year\": 2000, \"country\": \"North Korea\", \"cluster\": 4, \"pop\": 47351083, \"life_expect\": 77.045, \"fertility\": 1.242}, {\"year\": 2005, \"country\": \"North Korea\", \"cluster\": 4, \"pop\": 48640671, \"life_expect\": 78.623, \"fertility\": 1.21}, {\"year\": 1955, \"country\": \"Lebanon\", \"cluster\": 5, \"pop\": 1560985, \"life_expect\": 59.489, \"fertility\": 5.72}, {\"year\": 1960, \"country\": \"Lebanon\", \"cluster\": 5, \"pop\": 1786235, \"life_expect\": 62.094, \"fertility\": 5.689}, {\"year\": 1965, \"country\": \"Lebanon\", \"cluster\": 5, \"pop\": 2057945, \"life_expect\": 63.87, \"fertility\": 5.336}, {\"year\": 1970, \"country\": \"Lebanon\", \"cluster\": 5, \"pop\": 2383029, \"life_expect\": 65.421, \"fertility\": 4.78}, {\"year\": 1975, \"country\": \"Lebanon\", \"cluster\": 5, \"pop\": 3098159, \"life_expect\": 66.099, \"fertility\": 4.311}, {\"year\": 1980, \"country\": \"Lebanon\", \"cluster\": 5, \"pop\": 3085876, \"life_expect\": 66.983, \"fertility\": 3.895}, {\"year\": 1985, \"country\": \"Lebanon\", \"cluster\": 5, \"pop\": 3088235, \"life_expect\": 67.926, \"fertility\": 3.313}, {\"year\": 1990, \"country\": \"Lebanon\", \"cluster\": 5, \"pop\": 3147267, \"life_expect\": 69.292, \"fertility\": 3.0}, {\"year\": 1995, \"country\": \"Lebanon\", \"cluster\": 5, \"pop\": 3334733, \"life_expect\": 70.265, \"fertility\": 2.6950000000000003}, {\"year\": 2000, \"country\": \"Lebanon\", \"cluster\": 5, \"pop\": 3578036, \"life_expect\": 71.028, \"fertility\": 2.319}, {\"year\": 2005, \"country\": \"Lebanon\", \"cluster\": 5, \"pop\": 3826018, \"life_expect\": 71.993, \"fertility\": 2.209}, {\"year\": 1955, \"country\": \"Mexico\", \"cluster\": 3, \"pop\": 32929914, \"life_expect\": 55.19, \"fertility\": 6.8}, {\"year\": 1960, \"country\": \"Mexico\", \"cluster\": 3, \"pop\": 38578505, \"life_expect\": 58.299, \"fertility\": 6.7495}, {\"year\": 1965, \"country\": \"Mexico\", \"cluster\": 3, \"pop\": 45142399, \"life_expect\": 60.11, \"fertility\": 6.7495}, {\"year\": 1970, \"country\": \"Mexico\", \"cluster\": 3, \"pop\": 52775158, \"life_expect\": 62.361, \"fertility\": 6.5}, {\"year\": 1975, \"country\": \"Mexico\", \"cluster\": 3, \"pop\": 60678045, \"life_expect\": 65.032, \"fertility\": 5.2505}, {\"year\": 1980, \"country\": \"Mexico\", \"cluster\": 3, \"pop\": 68347479, \"life_expect\": 67.405, \"fertility\": 4.25}, {\"year\": 1985, \"country\": \"Mexico\", \"cluster\": 3, \"pop\": 76767225, \"life_expect\": 69.498, \"fertility\": 3.6295}, {\"year\": 1990, \"country\": \"Mexico\", \"cluster\": 3, \"pop\": 84913652, \"life_expect\": 71.455, \"fertility\": 3.1905}, {\"year\": 1995, \"country\": \"Mexico\", \"cluster\": 3, \"pop\": 92880353, \"life_expect\": 73.67, \"fertility\": 2.6705}, {\"year\": 2000, \"country\": \"Mexico\", \"cluster\": 3, \"pop\": 99926620, \"life_expect\": 74.902, \"fertility\": 2.4005}, {\"year\": 2005, \"country\": \"Mexico\", \"cluster\": 3, \"pop\": 106202903, \"life_expect\": 76.195, \"fertility\": 2.211}, {\"year\": 1955, \"country\": \"Netherlands\", \"cluster\": 1, \"pop\": 10750842, \"life_expect\": 72.99, \"fertility\": 3.095}, {\"year\": 1960, \"country\": \"Netherlands\", \"cluster\": 1, \"pop\": 11486000, \"life_expect\": 73.23, \"fertility\": 3.168}, {\"year\": 1965, \"country\": \"Netherlands\", \"cluster\": 1, \"pop\": 12292000, \"life_expect\": 73.82, \"fertility\": 2.797}, {\"year\": 1970, \"country\": \"Netherlands\", \"cluster\": 1, \"pop\": 13032335, \"life_expect\": 73.75, \"fertility\": 2.059}, {\"year\": 1975, \"country\": \"Netherlands\", \"cluster\": 1, \"pop\": 13653438, \"life_expect\": 75.24, \"fertility\": 1.596}, {\"year\": 1980, \"country\": \"Netherlands\", \"cluster\": 1, \"pop\": 14143901, \"life_expect\": 76.05, \"fertility\": 1.5150000000000001}, {\"year\": 1985, \"country\": \"Netherlands\", \"cluster\": 1, \"pop\": 14491380, \"life_expect\": 76.83, \"fertility\": 1.5550000000000002}, {\"year\": 1990, \"country\": \"Netherlands\", \"cluster\": 1, \"pop\": 14951510, \"life_expect\": 77.42, \"fertility\": 1.583}, {\"year\": 1995, \"country\": \"Netherlands\", \"cluster\": 1, \"pop\": 15459054, \"life_expect\": 78.03, \"fertility\": 1.6}, {\"year\": 2000, \"country\": \"Netherlands\", \"cluster\": 1, \"pop\": 15907853, \"life_expect\": 78.53, \"fertility\": 1.726}, {\"year\": 2005, \"country\": \"Netherlands\", \"cluster\": 1, \"pop\": 16407491, \"life_expect\": 79.762, \"fertility\": 1.721}, {\"year\": 1955, \"country\": \"New Zealand\", \"cluster\": 4, \"pop\": 2136168, \"life_expect\": 70.26, \"fertility\": 4.07}, {\"year\": 1960, \"country\": \"New Zealand\", \"cluster\": 4, \"pop\": 2371746, \"life_expect\": 71.24, \"fertility\": 4.022}, {\"year\": 1965, \"country\": \"New Zealand\", \"cluster\": 4, \"pop\": 2640400, \"life_expect\": 71.52, \"fertility\": 3.348}, {\"year\": 1970, \"country\": \"New Zealand\", \"cluster\": 4, \"pop\": 2828050, \"life_expect\": 71.89, \"fertility\": 2.843}, {\"year\": 1975, \"country\": \"New Zealand\", \"cluster\": 4, \"pop\": 3117800, \"life_expect\": 72.22, \"fertility\": 2.178}, {\"year\": 1980, \"country\": \"New Zealand\", \"cluster\": 4, \"pop\": 3170150, \"life_expect\": 73.84, \"fertility\": 1.963}, {\"year\": 1985, \"country\": \"New Zealand\", \"cluster\": 4, \"pop\": 3298050, \"life_expect\": 74.32, \"fertility\": 2.053}, {\"year\": 1990, \"country\": \"New Zealand\", \"cluster\": 4, \"pop\": 3359604, \"life_expect\": 76.33, \"fertility\": 2.061}, {\"year\": 1995, \"country\": \"New Zealand\", \"cluster\": 4, \"pop\": 3565990, \"life_expect\": 77.55, \"fertility\": 1.952}, {\"year\": 2000, \"country\": \"New Zealand\", \"cluster\": 4, \"pop\": 3819762, \"life_expect\": 79.11, \"fertility\": 1.964}, {\"year\": 2005, \"country\": \"New Zealand\", \"cluster\": 4, \"pop\": 4035461, \"life_expect\": 80.204, \"fertility\": 1.994}, {\"year\": 1955, \"country\": \"Nigeria\", \"cluster\": 2, \"pop\": 35458978, \"life_expect\": 37.802, \"fertility\": 6.9}, {\"year\": 1960, \"country\": \"Nigeria\", \"cluster\": 2, \"pop\": 39914593, \"life_expect\": 39.36, \"fertility\": 6.9}, {\"year\": 1965, \"country\": \"Nigeria\", \"cluster\": 2, \"pop\": 45020052, \"life_expect\": 41.04, \"fertility\": 6.9}, {\"year\": 1970, \"country\": \"Nigeria\", \"cluster\": 2, \"pop\": 51027516, \"life_expect\": 42.821, \"fertility\": 6.9}, {\"year\": 1975, \"country\": \"Nigeria\", \"cluster\": 2, \"pop\": 58522112, \"life_expect\": 44.514, \"fertility\": 6.9}, {\"year\": 1980, \"country\": \"Nigeria\", \"cluster\": 2, \"pop\": 68550274, \"life_expect\": 45.826, \"fertility\": 6.9}, {\"year\": 1985, \"country\": \"Nigeria\", \"cluster\": 2, \"pop\": 77573154, \"life_expect\": 46.886, \"fertility\": 6.834}, {\"year\": 1990, \"country\": \"Nigeria\", \"cluster\": 2, \"pop\": 88510354, \"life_expect\": 47.472, \"fertility\": 6.635}, {\"year\": 1995, \"country\": \"Nigeria\", \"cluster\": 2, \"pop\": 100960105, \"life_expect\": 47.464, \"fertility\": 6.246}, {\"year\": 2000, \"country\": \"Nigeria\", \"cluster\": 2, \"pop\": 114306700, \"life_expect\": 46.608, \"fertility\": 5.845}, {\"year\": 2005, \"country\": \"Nigeria\", \"cluster\": 2, \"pop\": 128765768, \"life_expect\": 46.859, \"fertility\": 5.322}, {\"year\": 1955, \"country\": \"Norway\", \"cluster\": 1, \"pop\": 3427409, \"life_expect\": 73.44, \"fertility\": 2.8369999999999997}, {\"year\": 1960, \"country\": \"Norway\", \"cluster\": 1, \"pop\": 3581239, \"life_expect\": 73.47, \"fertility\": 2.898}, {\"year\": 1965, \"country\": \"Norway\", \"cluster\": 1, \"pop\": 3723153, \"life_expect\": 74.08, \"fertility\": 2.719}, {\"year\": 1970, \"country\": \"Norway\", \"cluster\": 1, \"pop\": 3877386, \"life_expect\": 74.34, \"fertility\": 2.248}, {\"year\": 1975, \"country\": \"Norway\", \"cluster\": 1, \"pop\": 4007313, \"life_expect\": 75.37, \"fertility\": 1.81}, {\"year\": 1980, \"country\": \"Norway\", \"cluster\": 1, \"pop\": 4085620, \"life_expect\": 75.97, \"fertility\": 1.687}, {\"year\": 1985, \"country\": \"Norway\", \"cluster\": 1, \"pop\": 4152419, \"life_expect\": 75.89, \"fertility\": 1.8}, {\"year\": 1990, \"country\": \"Norway\", \"cluster\": 1, \"pop\": 4242006, \"life_expect\": 77.32, \"fertility\": 1.8860000000000001}, {\"year\": 1995, \"country\": \"Norway\", \"cluster\": 1, \"pop\": 4359101, \"life_expect\": 78.32, \"fertility\": 1.853}, {\"year\": 2000, \"country\": \"Norway\", \"cluster\": 1, \"pop\": 4492400, \"life_expect\": 79.05, \"fertility\": 1.8010000000000002}, {\"year\": 2005, \"country\": \"Norway\", \"cluster\": 1, \"pop\": 4593041, \"life_expect\": 80.196, \"fertility\": 1.8479999999999999}, {\"year\": 1955, \"country\": \"Pakistan\", \"cluster\": 0, \"pop\": 44434445, \"life_expect\": 45.557, \"fertility\": 6.6}, {\"year\": 1960, \"country\": \"Pakistan\", \"cluster\": 0, \"pop\": 50386898, \"life_expect\": 47.67, \"fertility\": 6.6}, {\"year\": 1965, \"country\": \"Pakistan\", \"cluster\": 0, \"pop\": 57494940, \"life_expect\": 49.8, \"fertility\": 6.6}, {\"year\": 1970, \"country\": \"Pakistan\", \"cluster\": 0, \"pop\": 65705964, \"life_expect\": 51.929, \"fertility\": 6.6}, {\"year\": 1975, \"country\": \"Pakistan\", \"cluster\": 0, \"pop\": 74711541, \"life_expect\": 54.043, \"fertility\": 6.6}, {\"year\": 1980, \"country\": \"Pakistan\", \"cluster\": 0, \"pop\": 85219117, \"life_expect\": 56.158, \"fertility\": 6.6}, {\"year\": 1985, \"country\": \"Pakistan\", \"cluster\": 0, \"pop\": 99060352, \"life_expect\": 58.245, \"fertility\": 6.66}, {\"year\": 1990, \"country\": \"Pakistan\", \"cluster\": 0, \"pop\": 114578478, \"life_expect\": 60.838, \"fertility\": 5.8}, {\"year\": 1995, \"country\": \"Pakistan\", \"cluster\": 0, \"pop\": 128690285, \"life_expect\": 61.818, \"fertility\": 4.9596}, {\"year\": 2000, \"country\": \"Pakistan\", \"cluster\": 0, \"pop\": 146342958, \"life_expect\": 63.61, \"fertility\": 3.9936}, {\"year\": 2005, \"country\": \"Pakistan\", \"cluster\": 0, \"pop\": 162419946, \"life_expect\": 65.483, \"fertility\": 3.5211}, {\"year\": 1955, \"country\": \"Peru\", \"cluster\": 3, \"pop\": 8671500, \"life_expect\": 46.263, \"fertility\": 6.853}, {\"year\": 1960, \"country\": \"Peru\", \"cluster\": 3, \"pop\": 9931000, \"life_expect\": 49.096, \"fertility\": 6.853}, {\"year\": 1965, \"country\": \"Peru\", \"cluster\": 3, \"pop\": 11467300, \"life_expect\": 51.445, \"fertility\": 6.5600000000000005}, {\"year\": 1970, \"country\": \"Peru\", \"cluster\": 3, \"pop\": 13192800, \"life_expect\": 55.448, \"fertility\": 6.0}, {\"year\": 1975, \"country\": \"Peru\", \"cluster\": 3, \"pop\": 15161199, \"life_expect\": 58.447, \"fertility\": 5.378}, {\"year\": 1980, \"country\": \"Peru\", \"cluster\": 3, \"pop\": 17295298, \"life_expect\": 61.406, \"fertility\": 4.65}, {\"year\": 1985, \"country\": \"Peru\", \"cluster\": 3, \"pop\": 19348926, \"life_expect\": 64.134, \"fertility\": 4.1}, {\"year\": 1990, \"country\": \"Peru\", \"cluster\": 3, \"pop\": 21511443, \"life_expect\": 66.458, \"fertility\": 3.7}, {\"year\": 1995, \"country\": \"Peru\", \"cluster\": 3, \"pop\": 23846388, \"life_expect\": 68.386, \"fertility\": 3.0995}, {\"year\": 2000, \"country\": \"Peru\", \"cluster\": 3, \"pop\": 25979722, \"life_expect\": 69.906, \"fertility\": 2.7005}, {\"year\": 2005, \"country\": \"Peru\", \"cluster\": 3, \"pop\": 27925628, \"life_expect\": 71.421, \"fertility\": 2.5065}, {\"year\": 1955, \"country\": \"Philippines\", \"cluster\": 4, \"pop\": 24553055, \"life_expect\": 51.334, \"fertility\": 7.13}, {\"year\": 1960, \"country\": \"Philippines\", \"cluster\": 4, \"pop\": 28528939, \"life_expect\": 54.757, \"fertility\": 6.85}, {\"year\": 1965, \"country\": \"Philippines\", \"cluster\": 4, \"pop\": 33267569, \"life_expect\": 56.393, \"fertility\": 6.5}, {\"year\": 1970, \"country\": \"Philippines\", \"cluster\": 4, \"pop\": 38603696, \"life_expect\": 58.065, \"fertility\": 6.0}, {\"year\": 1975, \"country\": \"Philippines\", \"cluster\": 4, \"pop\": 44336842, \"life_expect\": 60.06, \"fertility\": 5.5}, {\"year\": 1980, \"country\": \"Philippines\", \"cluster\": 4, \"pop\": 50940182, \"life_expect\": 62.082, \"fertility\": 4.95}, {\"year\": 1985, \"country\": \"Philippines\", \"cluster\": 4, \"pop\": 57288037, \"life_expect\": 64.151, \"fertility\": 4.55}, {\"year\": 1990, \"country\": \"Philippines\", \"cluster\": 4, \"pop\": 64318120, \"life_expect\": 66.458, \"fertility\": 4.143}, {\"year\": 1995, \"country\": \"Philippines\", \"cluster\": 4, \"pop\": 71717437, \"life_expect\": 68.564, \"fertility\": 3.7248}, {\"year\": 2000, \"country\": \"Philippines\", \"cluster\": 4, \"pop\": 79739825, \"life_expect\": 70.303, \"fertility\": 3.5436}, {\"year\": 2005, \"country\": \"Philippines\", \"cluster\": 4, \"pop\": 87857473, \"life_expect\": 71.688, \"fertility\": 3.2327}, {\"year\": 1955, \"country\": \"Poland\", \"cluster\": 1, \"pop\": 27220668, \"life_expect\": 65.77, \"fertility\": 3.29}, {\"year\": 1960, \"country\": \"Poland\", \"cluster\": 1, \"pop\": 29589842, \"life_expect\": 67.64, \"fertility\": 2.65}, {\"year\": 1965, \"country\": \"Poland\", \"cluster\": 1, \"pop\": 31262358, \"life_expect\": 69.61, \"fertility\": 2.27}, {\"year\": 1970, \"country\": \"Poland\", \"cluster\": 1, \"pop\": 32526000, \"life_expect\": 70.85, \"fertility\": 2.25}, {\"year\": 1975, \"country\": \"Poland\", \"cluster\": 1, \"pop\": 33969240, \"life_expect\": 70.67, \"fertility\": 2.26}, {\"year\": 1980, \"country\": \"Poland\", \"cluster\": 1, \"pop\": 35578016, \"life_expect\": 71.32, \"fertility\": 2.33}, {\"year\": 1985, \"country\": \"Poland\", \"cluster\": 1, \"pop\": 37225792, \"life_expect\": 70.98, \"fertility\": 2.15}, {\"year\": 1990, \"country\": \"Poland\", \"cluster\": 1, \"pop\": 38119408, \"life_expect\": 70.99, \"fertility\": 1.8900000000000001}, {\"year\": 1995, \"country\": \"Poland\", \"cluster\": 1, \"pop\": 38600642, \"life_expect\": 72.75, \"fertility\": 1.478}, {\"year\": 2000, \"country\": \"Poland\", \"cluster\": 1, \"pop\": 38654164, \"life_expect\": 74.67, \"fertility\": 1.251}, {\"year\": 2005, \"country\": \"Poland\", \"cluster\": 1, \"pop\": 38557984, \"life_expect\": 75.563, \"fertility\": 1.227}, {\"year\": 1955, \"country\": \"Portugal\", \"cluster\": 1, \"pop\": 8692600, \"life_expect\": 61.51, \"fertility\": 3.03}, {\"year\": 1960, \"country\": \"Portugal\", \"cluster\": 1, \"pop\": 9036700, \"life_expect\": 64.39, \"fertility\": 3.074}, {\"year\": 1965, \"country\": \"Portugal\", \"cluster\": 1, \"pop\": 9128850, \"life_expect\": 66.6, \"fertility\": 2.849}, {\"year\": 1970, \"country\": \"Portugal\", \"cluster\": 1, \"pop\": 9044200, \"life_expect\": 69.26, \"fertility\": 2.748}, {\"year\": 1975, \"country\": \"Portugal\", \"cluster\": 1, \"pop\": 9411090, \"life_expect\": 70.41, \"fertility\": 2.41}, {\"year\": 1980, \"country\": \"Portugal\", \"cluster\": 1, \"pop\": 9777800, \"life_expect\": 72.77, \"fertility\": 1.982}, {\"year\": 1985, \"country\": \"Portugal\", \"cluster\": 1, \"pop\": 9897192, \"life_expect\": 74.06, \"fertility\": 1.5939999999999999}, {\"year\": 1990, \"country\": \"Portugal\", \"cluster\": 1, \"pop\": 9922689, \"life_expect\": 74.86, \"fertility\": 1.516}, {\"year\": 1995, \"country\": \"Portugal\", \"cluster\": 1, \"pop\": 10065543, \"life_expect\": 75.97, \"fertility\": 1.475}, {\"year\": 2000, \"country\": \"Portugal\", \"cluster\": 1, \"pop\": 10335597, \"life_expect\": 77.29, \"fertility\": 1.454}, {\"year\": 2005, \"country\": \"Portugal\", \"cluster\": 1, \"pop\": 10566212, \"life_expect\": 78.098, \"fertility\": 1.455}, {\"year\": 1955, \"country\": \"Rwanda\", \"cluster\": 2, \"pop\": 2698272, \"life_expect\": 41.5, \"fertility\": 8.0}, {\"year\": 1960, \"country\": \"Rwanda\", \"cluster\": 2, \"pop\": 3031804, \"life_expect\": 43.0, \"fertility\": 8.1}, {\"year\": 1965, \"country\": \"Rwanda\", \"cluster\": 2, \"pop\": 3264640, \"life_expect\": 44.1, \"fertility\": 8.2}, {\"year\": 1970, \"country\": \"Rwanda\", \"cluster\": 2, \"pop\": 3769171, \"life_expect\": 44.6, \"fertility\": 8.29}, {\"year\": 1975, \"country\": \"Rwanda\", \"cluster\": 2, \"pop\": 4356863, \"life_expect\": 45.0, \"fertility\": 8.492}, {\"year\": 1980, \"country\": \"Rwanda\", \"cluster\": 2, \"pop\": 5138689, \"life_expect\": 46.218, \"fertility\": 8.5}, {\"year\": 1985, \"country\": \"Rwanda\", \"cluster\": 2, \"pop\": 6009833, \"life_expect\": 44.02, \"fertility\": 8.25}, {\"year\": 1990, \"country\": \"Rwanda\", \"cluster\": 2, \"pop\": 6923738, \"life_expect\": 23.599, \"fertility\": 6.9}, {\"year\": 1995, \"country\": \"Rwanda\", \"cluster\": 2, \"pop\": 5706501, \"life_expect\": 36.087, \"fertility\": 6.0993}, {\"year\": 2000, \"country\": \"Rwanda\", \"cluster\": 2, \"pop\": 7507056, \"life_expect\": 43.413, \"fertility\": 6.01}, {\"year\": 2005, \"country\": \"Rwanda\", \"cluster\": 2, \"pop\": 8440820, \"life_expect\": 46.242, \"fertility\": 5.9169}, {\"year\": 1955, \"country\": \"Saudi Arabia\", \"cluster\": 5, \"pop\": 4243218, \"life_expect\": 42.868, \"fertility\": 7.175}, {\"year\": 1960, \"country\": \"Saudi Arabia\", \"cluster\": 5, \"pop\": 4718301, \"life_expect\": 45.914, \"fertility\": 7.257}, {\"year\": 1965, \"country\": \"Saudi Arabia\", \"cluster\": 5, \"pop\": 5327432, \"life_expect\": 49.901, \"fertility\": 7.257}, {\"year\": 1970, \"country\": \"Saudi Arabia\", \"cluster\": 5, \"pop\": 6109051, \"life_expect\": 53.886, \"fertility\": 7.298}, {\"year\": 1975, \"country\": \"Saudi Arabia\", \"cluster\": 5, \"pop\": 7204820, \"life_expect\": 58.69, \"fertility\": 7.2780000000000005}, {\"year\": 1980, \"country\": \"Saudi Arabia\", \"cluster\": 5, \"pop\": 9999161, \"life_expect\": 63.012, \"fertility\": 7.015}, {\"year\": 1985, \"country\": \"Saudi Arabia\", \"cluster\": 5, \"pop\": 13330067, \"life_expect\": 66.295, \"fertility\": 6.217}, {\"year\": 1990, \"country\": \"Saudi Arabia\", \"cluster\": 5, \"pop\": 16060761, \"life_expect\": 68.768, \"fertility\": 5.446}, {\"year\": 1995, \"country\": \"Saudi Arabia\", \"cluster\": 5, \"pop\": 19966998, \"life_expect\": 70.533, \"fertility\": 4.621}, {\"year\": 2000, \"country\": \"Saudi Arabia\", \"cluster\": 5, \"pop\": 23153090, \"life_expect\": 71.626, \"fertility\": 3.81}, {\"year\": 2005, \"country\": \"Saudi Arabia\", \"cluster\": 5, \"pop\": 26417599, \"life_expect\": 72.777, \"fertility\": 3.352}, {\"year\": 1955, \"country\": \"South Africa\", \"cluster\": 2, \"pop\": 15368551, \"life_expect\": 47.985, \"fertility\": 6.5}, {\"year\": 1960, \"country\": \"South Africa\", \"cluster\": 2, \"pop\": 17416653, \"life_expect\": 49.951, \"fertility\": 6.3}, {\"year\": 1965, \"country\": \"South Africa\", \"cluster\": 2, \"pop\": 19898242, \"life_expect\": 51.927, \"fertility\": 5.7}, {\"year\": 1970, \"country\": \"South Africa\", \"cluster\": 2, \"pop\": 22739921, \"life_expect\": 53.696, \"fertility\": 5.47}, {\"year\": 1975, \"country\": \"South Africa\", \"cluster\": 2, \"pop\": 25815144, \"life_expect\": 55.527, \"fertility\": 5.0}, {\"year\": 1980, \"country\": \"South Africa\", \"cluster\": 2, \"pop\": 29251588, \"life_expect\": 58.161, \"fertility\": 4.556}, {\"year\": 1985, \"country\": \"South Africa\", \"cluster\": 2, \"pop\": 34254092, \"life_expect\": 60.834, \"fertility\": 3.85}, {\"year\": 1990, \"country\": \"South Africa\", \"cluster\": 2, \"pop\": 38391094, \"life_expect\": 61.888, \"fertility\": 3.343}, {\"year\": 1995, \"country\": \"South Africa\", \"cluster\": 2, \"pop\": 41779149, \"life_expect\": 60.236, \"fertility\": 2.954}, {\"year\": 2000, \"country\": \"South Africa\", \"cluster\": 2, \"pop\": 44066197, \"life_expect\": 53.365, \"fertility\": 2.802}, {\"year\": 2005, \"country\": \"South Africa\", \"cluster\": 2, \"pop\": 44344136, \"life_expect\": 49.339, \"fertility\": 2.637}, {\"year\": 1955, \"country\": \"Spain\", \"cluster\": 1, \"pop\": 29318745, \"life_expect\": 66.66, \"fertility\": 2.75}, {\"year\": 1960, \"country\": \"Spain\", \"cluster\": 1, \"pop\": 30641187, \"life_expect\": 69.69, \"fertility\": 2.89}, {\"year\": 1965, \"country\": \"Spain\", \"cluster\": 1, \"pop\": 32084511, \"life_expect\": 71.44, \"fertility\": 2.92}, {\"year\": 1970, \"country\": \"Spain\", \"cluster\": 1, \"pop\": 33876479, \"life_expect\": 73.06, \"fertility\": 2.86}, {\"year\": 1975, \"country\": \"Spain\", \"cluster\": 1, \"pop\": 35563535, \"life_expect\": 74.39, \"fertility\": 2.5700000000000003}, {\"year\": 1980, \"country\": \"Spain\", \"cluster\": 1, \"pop\": 37488360, \"life_expect\": 76.3, \"fertility\": 1.8900000000000001}, {\"year\": 1985, \"country\": \"Spain\", \"cluster\": 1, \"pop\": 38534853, \"life_expect\": 76.9, \"fertility\": 1.48}, {\"year\": 1990, \"country\": \"Spain\", \"cluster\": 1, \"pop\": 39350769, \"life_expect\": 77.57, \"fertility\": 1.27}, {\"year\": 1995, \"country\": \"Spain\", \"cluster\": 1, \"pop\": 39749715, \"life_expect\": 78.77, \"fertility\": 1.182}, {\"year\": 2000, \"country\": \"Spain\", \"cluster\": 1, \"pop\": 40016081, \"life_expect\": 79.78, \"fertility\": 1.287}, {\"year\": 2005, \"country\": \"Spain\", \"cluster\": 1, \"pop\": 40341462, \"life_expect\": 80.941, \"fertility\": 1.409}, {\"year\": 1955, \"country\": \"Switzerland\", \"cluster\": 1, \"pop\": 4980000, \"life_expect\": 70.56, \"fertility\": 2.34}, {\"year\": 1960, \"country\": \"Switzerland\", \"cluster\": 1, \"pop\": 5362000, \"life_expect\": 71.32, \"fertility\": 2.51}, {\"year\": 1965, \"country\": \"Switzerland\", \"cluster\": 1, \"pop\": 5943000, \"life_expect\": 72.77, \"fertility\": 2.27}, {\"year\": 1970, \"country\": \"Switzerland\", \"cluster\": 1, \"pop\": 6267000, \"life_expect\": 73.78, \"fertility\": 1.82}, {\"year\": 1975, \"country\": \"Switzerland\", \"cluster\": 1, \"pop\": 6403500, \"life_expect\": 75.39, \"fertility\": 1.53}, {\"year\": 1980, \"country\": \"Switzerland\", \"cluster\": 1, \"pop\": 6385229, \"life_expect\": 76.21, \"fertility\": 1.53}, {\"year\": 1985, \"country\": \"Switzerland\", \"cluster\": 1, \"pop\": 6563770, \"life_expect\": 77.41, \"fertility\": 1.53}, {\"year\": 1990, \"country\": \"Switzerland\", \"cluster\": 1, \"pop\": 6836626, \"life_expect\": 78.03, \"fertility\": 1.54}, {\"year\": 1995, \"country\": \"Switzerland\", \"cluster\": 1, \"pop\": 7157106, \"life_expect\": 79.37, \"fertility\": 1.47}, {\"year\": 2000, \"country\": \"Switzerland\", \"cluster\": 1, \"pop\": 7266920, \"life_expect\": 80.62, \"fertility\": 1.415}, {\"year\": 2005, \"country\": \"Switzerland\", \"cluster\": 1, \"pop\": 7489370, \"life_expect\": 81.701, \"fertility\": 1.42}, {\"year\": 1955, \"country\": \"Turkey\", \"cluster\": 1, \"pop\": 24144571, \"life_expect\": 48.079, \"fertility\": 6.6}, {\"year\": 1960, \"country\": \"Turkey\", \"cluster\": 1, \"pop\": 28217122, \"life_expect\": 52.098, \"fertility\": 6.19}, {\"year\": 1965, \"country\": \"Turkey\", \"cluster\": 1, \"pop\": 31950718, \"life_expect\": 54.336, \"fertility\": 5.7}, {\"year\": 1970, \"country\": \"Turkey\", \"cluster\": 1, \"pop\": 35758382, \"life_expect\": 57.005, \"fertility\": 5.3}, {\"year\": 1975, \"country\": \"Turkey\", \"cluster\": 1, \"pop\": 40529798, \"life_expect\": 59.507, \"fertility\": 4.715}, {\"year\": 1980, \"country\": \"Turkey\", \"cluster\": 1, \"pop\": 45120802, \"life_expect\": 61.036, \"fertility\": 4.15}, {\"year\": 1985, \"country\": \"Turkey\", \"cluster\": 1, \"pop\": 50669003, \"life_expect\": 63.108, \"fertility\": 3.276}, {\"year\": 1990, \"country\": \"Turkey\", \"cluster\": 1, \"pop\": 56084632, \"life_expect\": 66.146, \"fertility\": 2.904}, {\"year\": 1995, \"country\": \"Turkey\", \"cluster\": 1, \"pop\": 61188984, \"life_expect\": 68.835, \"fertility\": 2.574}, {\"year\": 2000, \"country\": \"Turkey\", \"cluster\": 1, \"pop\": 65666677, \"life_expect\": 70.845, \"fertility\": 2.23}, {\"year\": 2005, \"country\": \"Turkey\", \"cluster\": 1, \"pop\": 69660559, \"life_expect\": 71.777, \"fertility\": 2.143}, {\"year\": 1955, \"country\": \"United Kingdom\", \"cluster\": 1, \"pop\": 50946000, \"life_expect\": 70.42, \"fertility\": 2.49}, {\"year\": 1960, \"country\": \"United Kingdom\", \"cluster\": 1, \"pop\": 52372000, \"life_expect\": 70.76, \"fertility\": 2.81}, {\"year\": 1965, \"country\": \"United Kingdom\", \"cluster\": 1, \"pop\": 54350000, \"life_expect\": 71.36, \"fertility\": 2.52}, {\"year\": 1970, \"country\": \"United Kingdom\", \"cluster\": 1, \"pop\": 55632000, \"life_expect\": 72.01, \"fertility\": 2.04}, {\"year\": 1975, \"country\": \"United Kingdom\", \"cluster\": 1, \"pop\": 56215000, \"life_expect\": 72.76, \"fertility\": 1.72}, {\"year\": 1980, \"country\": \"United Kingdom\", \"cluster\": 1, \"pop\": 56314000, \"life_expect\": 74.04, \"fertility\": 1.8}, {\"year\": 1985, \"country\": \"United Kingdom\", \"cluster\": 1, \"pop\": 56620240, \"life_expect\": 75.007, \"fertility\": 1.81}, {\"year\": 1990, \"country\": \"United Kingdom\", \"cluster\": 1, \"pop\": 57493307, \"life_expect\": 76.42, \"fertility\": 1.78}, {\"year\": 1995, \"country\": \"United Kingdom\", \"cluster\": 1, \"pop\": 58426014, \"life_expect\": 77.218, \"fertility\": 1.7000000000000002}, {\"year\": 2000, \"country\": \"United Kingdom\", \"cluster\": 1, \"pop\": 59522468, \"life_expect\": 78.471, \"fertility\": 1.695}, {\"year\": 2005, \"country\": \"United Kingdom\", \"cluster\": 1, \"pop\": 60441457, \"life_expect\": 79.425, \"fertility\": 1.815}, {\"year\": 1955, \"country\": \"United States\", \"cluster\": 3, \"pop\": 165931000, \"life_expect\": 69.49, \"fertility\": 3.706}, {\"year\": 1960, \"country\": \"United States\", \"cluster\": 3, \"pop\": 180671000, \"life_expect\": 70.21, \"fertility\": 3.314}, {\"year\": 1965, \"country\": \"United States\", \"cluster\": 3, \"pop\": 194303000, \"life_expect\": 70.76, \"fertility\": 2.545}, {\"year\": 1970, \"country\": \"United States\", \"cluster\": 3, \"pop\": 205052000, \"life_expect\": 71.34, \"fertility\": 2.016}, {\"year\": 1975, \"country\": \"United States\", \"cluster\": 3, \"pop\": 215973000, \"life_expect\": 73.38, \"fertility\": 1.788}, {\"year\": 1980, \"country\": \"United States\", \"cluster\": 3, \"pop\": 227726463, \"life_expect\": 74.65, \"fertility\": 1.8250000000000002}, {\"year\": 1985, \"country\": \"United States\", \"cluster\": 3, \"pop\": 238466283, \"life_expect\": 75.02, \"fertility\": 1.924}, {\"year\": 1990, \"country\": \"United States\", \"cluster\": 3, \"pop\": 250131894, \"life_expect\": 76.09, \"fertility\": 2.025}, {\"year\": 1995, \"country\": \"United States\", \"cluster\": 3, \"pop\": 266557091, \"life_expect\": 76.81, \"fertility\": 1.994}, {\"year\": 2000, \"country\": \"United States\", \"cluster\": 3, \"pop\": 282338631, \"life_expect\": 77.31, \"fertility\": 2.038}, {\"year\": 2005, \"country\": \"United States\", \"cluster\": 3, \"pop\": 295734134, \"life_expect\": 78.242, \"fertility\": 2.054}, {\"year\": 1955, \"country\": \"Venezuela\", \"cluster\": 3, \"pop\": 6170497, \"life_expect\": 57.907, \"fertility\": 6.4585}, {\"year\": 1960, \"country\": \"Venezuela\", \"cluster\": 3, \"pop\": 7556483, \"life_expect\": 60.77, \"fertility\": 6.657}, {\"year\": 1965, \"country\": \"Venezuela\", \"cluster\": 3, \"pop\": 9067735, \"life_expect\": 63.479, \"fertility\": 5.9045000000000005}, {\"year\": 1970, \"country\": \"Venezuela\", \"cluster\": 3, \"pop\": 10758017, \"life_expect\": 65.712, \"fertility\": 4.941}, {\"year\": 1975, \"country\": \"Venezuela\", \"cluster\": 3, \"pop\": 12674987, \"life_expect\": 67.456, \"fertility\": 4.4685}, {\"year\": 1980, \"country\": \"Venezuela\", \"cluster\": 3, \"pop\": 14767890, \"life_expect\": 68.557, \"fertility\": 3.957}, {\"year\": 1985, \"country\": \"Venezuela\", \"cluster\": 3, \"pop\": 16997509, \"life_expect\": 70.19, \"fertility\": 3.6485000000000003}, {\"year\": 1990, \"country\": \"Venezuela\", \"cluster\": 3, \"pop\": 19325222, \"life_expect\": 71.15, \"fertility\": 3.25}, {\"year\": 1995, \"country\": \"Venezuela\", \"cluster\": 3, \"pop\": 21555902, \"life_expect\": 72.146, \"fertility\": 2.9415}, {\"year\": 2000, \"country\": \"Venezuela\", \"cluster\": 3, \"pop\": 23542649, \"life_expect\": 72.766, \"fertility\": 2.723}, {\"year\": 2005, \"country\": \"Venezuela\", \"cluster\": 3, \"pop\": 25375281, \"life_expect\": 73.747, \"fertility\": 2.547}]}}, {\"mode\": \"vega-lite\"});\n",
       "</script>"
      ],
      "text/plain": [
       "alt.Chart(...)"
      ]
     },
     "execution_count": 22,
     "metadata": {},
     "output_type": "execute_result"
    }
   ],
   "source": [
    "select_year = alt.selection_single(\n",
    "    name='select', fields=['year'], init={'year': 1955},\n",
    "    bind=alt.binding_range(min=1955, max=2005, step=5)\n",
    ")\n",
    "\n",
    "alt.Chart(data).mark_point(filled=True).encode(\n",
    "    alt.X('fertility:Q', scale=alt.Scale(domain=[0,9])),\n",
    "    alt.Y('life_expect:Q', scale=alt.Scale(domain=[0,90])),\n",
    "    alt.Size('pop:Q', scale=alt.Scale(domain=[0, 1200000000], range=[0,1000])),\n",
    "    alt.Color('cluster:N', legend=None),\n",
    "    alt.OpacityValue(0.5),\n",
    "    alt.Tooltip('country:N'),\n",
    "    alt.Order('pop:Q', sort='descending')\n",
    ").add_selection(select_year).transform_filter(select_year)"
   ]
  },
  {
   "cell_type": "markdown",
   "metadata": {},
   "source": [
    "## 2.4 Marcas Gráficas"
   ]
  },
  {
   "cell_type": "markdown",
   "metadata": {},
   "source": [
    "Nossa exploração dos canais de codificação acima utiliza exclusivamente marcas de pontos, os `point`, para visualizar os dados. No entanto, a marca do tipo `point`  é apenas uma das muitas formas geométricas que podem ser usadas para representar visualmente os dados. O Altair inclui vários tipos de marcas integradas, incluindo:\n",
    "\n",
    "* `mark_area()` - Áreas preenchidas definidas por uma linha superior e uma linha de base.\n",
    "* `mark_bar()` - Barras retangulares.\n",
    "* `mark_circle()` - Pontos de dispersão como círculos preenchidos.\n",
    "* `mark_line()` - Segmentos de linha conectados.\n",
    "* `mark_point()` - Pontos de dispersão com formatos configuráveis.\n",
    "* `mark_rect()` - Retângulos preenchidos, úteis para mapas de calor.\n",
    "* `mark_rule()` - Linhas verticais ou horizontais que atravessam o eixo.\n",
    "* `mark_square()` - Pontos de dispersão como quadrados preenchidos.\n",
    "* `mark_text()` - Pontos de dispersão representados por texto.\n",
    "* `mark_tick()` - Traços verticais ou horizontais.\n",
    "Para uma lista completa, com links para exemplos, consulte a documentação de marcas do Altair. Em seguida, exploraremos alguns dos tipos de marcas mais comumente usados em gráficos estatísticos."
   ]
  },
  {
   "cell_type": "markdown",
   "metadata": {},
   "source": [
    "Para uma lista completa, com links para exemplos, consulte o [Altair marks documentation](https://altair-viz.github.io/user_guide/marks/index.html). Em seguida, exploraremos alguns dos tipos de marcas mais comumente usados em gráficos estatísticos."
   ]
  },
  {
   "cell_type": "markdown",
   "metadata": {},
   "source": [
    "### 2.4.1 Marcas de Pontos"
   ]
  },
  {
   "cell_type": "markdown",
   "metadata": {},
   "source": [
    "A marca do tipo `point` representa pontos específicos, como em _gráficos de dispersão e gráficos de pontos_. Além dos canais de codificação `x` e `y` (para especificar as posições dos pontos em 2D), as marcas de ponto podem usar os canais `color`, `size` e `shape` para transmitir informações adicionais de campos de dados.\n",
    "\n",
    "Abaixo está um gráfico de pontos de `fertility`, com o campo `cluster` codificado de forma redundante usando os canais `y` e `shape`."
   ]
  },
  {
   "cell_type": "code",
   "execution_count": 23,
   "metadata": {
    "colab": {
     "base_uri": "https://localhost:8080/",
     "height": 192
    },
    "colab_type": "code",
    "id": "3jrFfaKCtbyL",
    "outputId": "6332a348-f8f0-4dd8-9c4a-63687e286d4a"
   },
   "outputs": [
    {
     "data": {
      "text/html": [
       "\n",
       "<div id=\"altair-viz-ec17fc0bee7a42e2848aa545a363a9bb\"></div>\n",
       "<script type=\"text/javascript\">\n",
       "  (function(spec, embedOpt){\n",
       "    let outputDiv = document.currentScript.previousElementSibling;\n",
       "    if (outputDiv.id !== \"altair-viz-ec17fc0bee7a42e2848aa545a363a9bb\") {\n",
       "      outputDiv = document.getElementById(\"altair-viz-ec17fc0bee7a42e2848aa545a363a9bb\");\n",
       "    }\n",
       "    const paths = {\n",
       "      \"vega\": \"https://cdn.jsdelivr.net/npm//vega@5?noext\",\n",
       "      \"vega-lib\": \"https://cdn.jsdelivr.net/npm//vega-lib?noext\",\n",
       "      \"vega-lite\": \"https://cdn.jsdelivr.net/npm//vega-lite@4.8.1?noext\",\n",
       "      \"vega-embed\": \"https://cdn.jsdelivr.net/npm//vega-embed@6?noext\",\n",
       "    };\n",
       "\n",
       "    function loadScript(lib) {\n",
       "      return new Promise(function(resolve, reject) {\n",
       "        var s = document.createElement('script');\n",
       "        s.src = paths[lib];\n",
       "        s.async = true;\n",
       "        s.onload = () => resolve(paths[lib]);\n",
       "        s.onerror = () => reject(`Error loading script: ${paths[lib]}`);\n",
       "        document.getElementsByTagName(\"head\")[0].appendChild(s);\n",
       "      });\n",
       "    }\n",
       "\n",
       "    function showError(err) {\n",
       "      outputDiv.innerHTML = `<div class=\"error\" style=\"color:red;\">${err}</div>`;\n",
       "      throw err;\n",
       "    }\n",
       "\n",
       "    function displayChart(vegaEmbed) {\n",
       "      vegaEmbed(outputDiv, spec, embedOpt)\n",
       "        .catch(err => showError(`Javascript Error: ${err.message}<br>This usually means there's a typo in your chart specification. See the javascript console for the full traceback.`));\n",
       "    }\n",
       "\n",
       "    if(typeof define === \"function\" && define.amd) {\n",
       "      requirejs.config({paths});\n",
       "      require([\"vega-embed\"], displayChart, err => showError(`Error loading script: ${err.message}`));\n",
       "    } else if (typeof vegaEmbed === \"function\") {\n",
       "      displayChart(vegaEmbed);\n",
       "    } else {\n",
       "      loadScript(\"vega\")\n",
       "        .then(() => loadScript(\"vega-lite\"))\n",
       "        .then(() => loadScript(\"vega-embed\"))\n",
       "        .catch(showError)\n",
       "        .then(() => displayChart(vegaEmbed));\n",
       "    }\n",
       "  })({\"config\": {\"view\": {\"continuousWidth\": 400, \"continuousHeight\": 300}}, \"data\": {\"name\": \"data-fdeb0b749a6385830bd1445d39ad6ea0\"}, \"mark\": \"point\", \"encoding\": {\"shape\": {\"type\": \"nominal\", \"field\": \"cluster\"}, \"x\": {\"type\": \"quantitative\", \"field\": \"fertility\"}, \"y\": {\"type\": \"nominal\", \"field\": \"cluster\"}}, \"$schema\": \"https://vega.github.io/schema/vega-lite/v4.8.1.json\", \"datasets\": {\"data-fdeb0b749a6385830bd1445d39ad6ea0\": [{\"year\": 2000, \"country\": \"Afghanistan\", \"cluster\": 0, \"pop\": 23898198, \"life_expect\": 42.129, \"fertility\": 7.4792}, {\"year\": 2000, \"country\": \"Argentina\", \"cluster\": 3, \"pop\": 37497728, \"life_expect\": 74.34, \"fertility\": 2.35}, {\"year\": 2000, \"country\": \"Aruba\", \"cluster\": 3, \"pop\": 69539, \"life_expect\": 73.451, \"fertility\": 2.124}, {\"year\": 2000, \"country\": \"Australia\", \"cluster\": 4, \"pop\": 19164620, \"life_expect\": 80.37, \"fertility\": 1.756}, {\"year\": 2000, \"country\": \"Austria\", \"cluster\": 1, \"pop\": 8113413, \"life_expect\": 78.98, \"fertility\": 1.3820000000000001}, {\"year\": 2000, \"country\": \"Bahamas\", \"cluster\": 3, \"pop\": 290075, \"life_expect\": 71.068, \"fertility\": 2.1111}, {\"year\": 2000, \"country\": \"Bangladesh\", \"cluster\": 0, \"pop\": 130406594, \"life_expect\": 62.013, \"fertility\": 3.224}, {\"year\": 2000, \"country\": \"Barbados\", \"cluster\": 3, \"pop\": 273483, \"life_expect\": 75.97, \"fertility\": 1.5}, {\"year\": 2000, \"country\": \"Belgium\", \"cluster\": 1, \"pop\": 10263618, \"life_expect\": 78.32, \"fertility\": 1.638}, {\"year\": 2000, \"country\": \"Bolivia\", \"cluster\": 3, \"pop\": 8152620, \"life_expect\": 63.883, \"fertility\": 3.9585}, {\"year\": 2000, \"country\": \"Brazil\", \"cluster\": 3, \"pop\": 175552771, \"life_expect\": 71.006, \"fertility\": 2.345}, {\"year\": 2000, \"country\": \"Canada\", \"cluster\": 3, \"pop\": 31278097, \"life_expect\": 79.77, \"fertility\": 1.522}, {\"year\": 2000, \"country\": \"Chile\", \"cluster\": 3, \"pop\": 15153450, \"life_expect\": 77.86, \"fertility\": 2.0}, {\"year\": 2000, \"country\": \"China\", \"cluster\": 4, \"pop\": 1262645000, \"life_expect\": 72.028, \"fertility\": 1.7000000000000002}, {\"year\": 2000, \"country\": \"Colombia\", \"cluster\": 3, \"pop\": 39685655, \"life_expect\": 71.682, \"fertility\": 2.4705}, {\"year\": 2000, \"country\": \"Costa Rica\", \"cluster\": 3, \"pop\": 3710558, \"life_expect\": 78.123, \"fertility\": 2.2815}, {\"year\": 2000, \"country\": \"Croatia\", \"cluster\": 1, \"pop\": 4410830, \"life_expect\": 74.876, \"fertility\": 1.348}, {\"year\": 2000, \"country\": \"Cuba\", \"cluster\": 3, \"pop\": 11134273, \"life_expect\": 77.158, \"fertility\": 1.63}, {\"year\": 2000, \"country\": \"Dominican Republic\", \"cluster\": 3, \"pop\": 8385828, \"life_expect\": 70.847, \"fertility\": 2.95}, {\"year\": 2000, \"country\": \"Ecuador\", \"cluster\": 3, \"pop\": 12505204, \"life_expect\": 74.173, \"fertility\": 2.8175}, {\"year\": 2000, \"country\": \"Egypt\", \"cluster\": 5, \"pop\": 70492342, \"life_expect\": 69.806, \"fertility\": 3.174}, {\"year\": 2000, \"country\": \"El Salvador\", \"cluster\": 3, \"pop\": 6122515, \"life_expect\": 70.734, \"fertility\": 2.883}, {\"year\": 2000, \"country\": \"Finland\", \"cluster\": 1, \"pop\": 5168595, \"life_expect\": 78.37, \"fertility\": 1.754}, {\"year\": 2000, \"country\": \"France\", \"cluster\": 1, \"pop\": 59381628, \"life_expect\": 79.59, \"fertility\": 1.8833000000000002}, {\"year\": 2000, \"country\": \"Georgia\", \"cluster\": 1, \"pop\": 4777209, \"life_expect\": 70.476, \"fertility\": 1.478}, {\"year\": 2000, \"country\": \"Germany\", \"cluster\": 1, \"pop\": 82187909, \"life_expect\": 78.67, \"fertility\": 1.346}, {\"year\": 2000, \"country\": \"Greece\", \"cluster\": 1, \"pop\": 10559110, \"life_expect\": 78.256, \"fertility\": 1.2770000000000001}, {\"year\": 2000, \"country\": \"Grenada\", \"cluster\": 3, \"pop\": 89312, \"life_expect\": 67.746, \"fertility\": 2.429}, {\"year\": 2000, \"country\": \"Haiti\", \"cluster\": 3, \"pop\": 7306302, \"life_expect\": 58.137, \"fertility\": 4.0}, {\"year\": 2000, \"country\": \"Hong Kong\", \"cluster\": 4, \"pop\": 6658720, \"life_expect\": 81.495, \"fertility\": 0.9400000000000001}, {\"year\": 2000, \"country\": \"Iceland\", \"cluster\": 1, \"pop\": 281043, \"life_expect\": 80.5, \"fertility\": 1.9929999999999999}, {\"year\": 2000, \"country\": \"India\", \"cluster\": 0, \"pop\": 1007702000, \"life_expect\": 62.879, \"fertility\": 3.1132}, {\"year\": 2000, \"country\": \"Indonesia\", \"cluster\": 4, \"pop\": 206265000, \"life_expect\": 68.588, \"fertility\": 2.3761}, {\"year\": 2000, \"country\": \"Iran\", \"cluster\": 5, \"pop\": 65660289, \"life_expect\": 69.451, \"fertility\": 2.124}, {\"year\": 2000, \"country\": \"Iraq\", \"cluster\": 5, \"pop\": 22675617, \"life_expect\": 57.046, \"fertility\": 4.858}, {\"year\": 2000, \"country\": \"Ireland\", \"cluster\": 1, \"pop\": 3791690, \"life_expect\": 77.783, \"fertility\": 1.9689999999999999}, {\"year\": 2000, \"country\": \"Israel\", \"cluster\": 5, \"pop\": 5842454, \"life_expect\": 79.696, \"fertility\": 2.906}, {\"year\": 2000, \"country\": \"Italy\", \"cluster\": 1, \"pop\": 57719337, \"life_expect\": 80.24, \"fertility\": 1.286}, {\"year\": 2000, \"country\": \"Jamaica\", \"cluster\": 3, \"pop\": 2615467, \"life_expect\": 72.047, \"fertility\": 2.628}, {\"year\": 2000, \"country\": \"Japan\", \"cluster\": 4, \"pop\": 126699784, \"life_expect\": 82.0, \"fertility\": 1.291}, {\"year\": 2000, \"country\": \"Kenya\", \"cluster\": 2, \"pop\": 29985839, \"life_expect\": 50.992, \"fertility\": 5.0}, {\"year\": 2000, \"country\": \"South Korea\", \"cluster\": 4, \"pop\": 21647682, \"life_expect\": 66.662, \"fertility\": 1.9173}, {\"year\": 2000, \"country\": \"North Korea\", \"cluster\": 4, \"pop\": 47351083, \"life_expect\": 77.045, \"fertility\": 1.242}, {\"year\": 2000, \"country\": \"Lebanon\", \"cluster\": 5, \"pop\": 3578036, \"life_expect\": 71.028, \"fertility\": 2.319}, {\"year\": 2000, \"country\": \"Mexico\", \"cluster\": 3, \"pop\": 99926620, \"life_expect\": 74.902, \"fertility\": 2.4005}, {\"year\": 2000, \"country\": \"Netherlands\", \"cluster\": 1, \"pop\": 15907853, \"life_expect\": 78.53, \"fertility\": 1.726}, {\"year\": 2000, \"country\": \"New Zealand\", \"cluster\": 4, \"pop\": 3819762, \"life_expect\": 79.11, \"fertility\": 1.964}, {\"year\": 2000, \"country\": \"Nigeria\", \"cluster\": 2, \"pop\": 114306700, \"life_expect\": 46.608, \"fertility\": 5.845}, {\"year\": 2000, \"country\": \"Norway\", \"cluster\": 1, \"pop\": 4492400, \"life_expect\": 79.05, \"fertility\": 1.8010000000000002}, {\"year\": 2000, \"country\": \"Pakistan\", \"cluster\": 0, \"pop\": 146342958, \"life_expect\": 63.61, \"fertility\": 3.9936}, {\"year\": 2000, \"country\": \"Peru\", \"cluster\": 3, \"pop\": 25979722, \"life_expect\": 69.906, \"fertility\": 2.7005}, {\"year\": 2000, \"country\": \"Philippines\", \"cluster\": 4, \"pop\": 79739825, \"life_expect\": 70.303, \"fertility\": 3.5436}, {\"year\": 2000, \"country\": \"Poland\", \"cluster\": 1, \"pop\": 38654164, \"life_expect\": 74.67, \"fertility\": 1.251}, {\"year\": 2000, \"country\": \"Portugal\", \"cluster\": 1, \"pop\": 10335597, \"life_expect\": 77.29, \"fertility\": 1.454}, {\"year\": 2000, \"country\": \"Rwanda\", \"cluster\": 2, \"pop\": 7507056, \"life_expect\": 43.413, \"fertility\": 6.01}, {\"year\": 2000, \"country\": \"Saudi Arabia\", \"cluster\": 5, \"pop\": 23153090, \"life_expect\": 71.626, \"fertility\": 3.81}, {\"year\": 2000, \"country\": \"South Africa\", \"cluster\": 2, \"pop\": 44066197, \"life_expect\": 53.365, \"fertility\": 2.802}, {\"year\": 2000, \"country\": \"Spain\", \"cluster\": 1, \"pop\": 40016081, \"life_expect\": 79.78, \"fertility\": 1.287}, {\"year\": 2000, \"country\": \"Switzerland\", \"cluster\": 1, \"pop\": 7266920, \"life_expect\": 80.62, \"fertility\": 1.415}, {\"year\": 2000, \"country\": \"Turkey\", \"cluster\": 1, \"pop\": 65666677, \"life_expect\": 70.845, \"fertility\": 2.23}, {\"year\": 2000, \"country\": \"United Kingdom\", \"cluster\": 1, \"pop\": 59522468, \"life_expect\": 78.471, \"fertility\": 1.695}, {\"year\": 2000, \"country\": \"United States\", \"cluster\": 3, \"pop\": 282338631, \"life_expect\": 77.31, \"fertility\": 2.038}, {\"year\": 2000, \"country\": \"Venezuela\", \"cluster\": 3, \"pop\": 23542649, \"life_expect\": 72.766, \"fertility\": 2.723}]}}, {\"mode\": \"vega-lite\"});\n",
       "</script>"
      ],
      "text/plain": [
       "alt.Chart(...)"
      ]
     },
     "execution_count": 23,
     "metadata": {},
     "output_type": "execute_result"
    }
   ],
   "source": [
    "alt.Chart(data2000).mark_point().encode(\n",
    "    alt.X('fertility:Q'),\n",
    "    alt.Y('cluster:N'),\n",
    "    alt.Shape('cluster:N')\n",
    ")"
   ]
  },
  {
   "cell_type": "markdown",
   "metadata": {},
   "source": [
    "Além dos canais de codificação, as marcas podem ser estilizadas fornecendo valores para os métodos `mark_*()`.\n",
    "\n",
    "Por exemplo: as marcas de ponto são desenhadas com contornos traçados por padrão, mas podem ser especificadas para usar formas preenchidas com `filled`. Da mesma forma, é possível definir um valor padrão para `size` para ajustar a área total em pixels da marca de ponto."
   ]
  },
  {
   "cell_type": "code",
   "execution_count": 24,
   "metadata": {
    "colab": {
     "base_uri": "https://localhost:8080/",
     "height": 192
    },
    "colab_type": "code",
    "id": "3-HgJ1PjvKdH",
    "outputId": "dcf26fa9-281b-4297-da50-84c7f5ccd318"
   },
   "outputs": [
    {
     "data": {
      "text/html": [
       "\n",
       "<div id=\"altair-viz-0b64745263804c8a9bbf41a11f6d0422\"></div>\n",
       "<script type=\"text/javascript\">\n",
       "  (function(spec, embedOpt){\n",
       "    let outputDiv = document.currentScript.previousElementSibling;\n",
       "    if (outputDiv.id !== \"altair-viz-0b64745263804c8a9bbf41a11f6d0422\") {\n",
       "      outputDiv = document.getElementById(\"altair-viz-0b64745263804c8a9bbf41a11f6d0422\");\n",
       "    }\n",
       "    const paths = {\n",
       "      \"vega\": \"https://cdn.jsdelivr.net/npm//vega@5?noext\",\n",
       "      \"vega-lib\": \"https://cdn.jsdelivr.net/npm//vega-lib?noext\",\n",
       "      \"vega-lite\": \"https://cdn.jsdelivr.net/npm//vega-lite@4.8.1?noext\",\n",
       "      \"vega-embed\": \"https://cdn.jsdelivr.net/npm//vega-embed@6?noext\",\n",
       "    };\n",
       "\n",
       "    function loadScript(lib) {\n",
       "      return new Promise(function(resolve, reject) {\n",
       "        var s = document.createElement('script');\n",
       "        s.src = paths[lib];\n",
       "        s.async = true;\n",
       "        s.onload = () => resolve(paths[lib]);\n",
       "        s.onerror = () => reject(`Error loading script: ${paths[lib]}`);\n",
       "        document.getElementsByTagName(\"head\")[0].appendChild(s);\n",
       "      });\n",
       "    }\n",
       "\n",
       "    function showError(err) {\n",
       "      outputDiv.innerHTML = `<div class=\"error\" style=\"color:red;\">${err}</div>`;\n",
       "      throw err;\n",
       "    }\n",
       "\n",
       "    function displayChart(vegaEmbed) {\n",
       "      vegaEmbed(outputDiv, spec, embedOpt)\n",
       "        .catch(err => showError(`Javascript Error: ${err.message}<br>This usually means there's a typo in your chart specification. See the javascript console for the full traceback.`));\n",
       "    }\n",
       "\n",
       "    if(typeof define === \"function\" && define.amd) {\n",
       "      requirejs.config({paths});\n",
       "      require([\"vega-embed\"], displayChart, err => showError(`Error loading script: ${err.message}`));\n",
       "    } else if (typeof vegaEmbed === \"function\") {\n",
       "      displayChart(vegaEmbed);\n",
       "    } else {\n",
       "      loadScript(\"vega\")\n",
       "        .then(() => loadScript(\"vega-lite\"))\n",
       "        .then(() => loadScript(\"vega-embed\"))\n",
       "        .catch(showError)\n",
       "        .then(() => displayChart(vegaEmbed));\n",
       "    }\n",
       "  })({\"config\": {\"view\": {\"continuousWidth\": 400, \"continuousHeight\": 300}}, \"data\": {\"name\": \"data-fdeb0b749a6385830bd1445d39ad6ea0\"}, \"mark\": {\"type\": \"point\", \"filled\": true, \"size\": 100}, \"encoding\": {\"shape\": {\"type\": \"nominal\", \"field\": \"cluster\"}, \"x\": {\"type\": \"quantitative\", \"field\": \"fertility\"}, \"y\": {\"type\": \"nominal\", \"field\": \"cluster\"}}, \"$schema\": \"https://vega.github.io/schema/vega-lite/v4.8.1.json\", \"datasets\": {\"data-fdeb0b749a6385830bd1445d39ad6ea0\": [{\"year\": 2000, \"country\": \"Afghanistan\", \"cluster\": 0, \"pop\": 23898198, \"life_expect\": 42.129, \"fertility\": 7.4792}, {\"year\": 2000, \"country\": \"Argentina\", \"cluster\": 3, \"pop\": 37497728, \"life_expect\": 74.34, \"fertility\": 2.35}, {\"year\": 2000, \"country\": \"Aruba\", \"cluster\": 3, \"pop\": 69539, \"life_expect\": 73.451, \"fertility\": 2.124}, {\"year\": 2000, \"country\": \"Australia\", \"cluster\": 4, \"pop\": 19164620, \"life_expect\": 80.37, \"fertility\": 1.756}, {\"year\": 2000, \"country\": \"Austria\", \"cluster\": 1, \"pop\": 8113413, \"life_expect\": 78.98, \"fertility\": 1.3820000000000001}, {\"year\": 2000, \"country\": \"Bahamas\", \"cluster\": 3, \"pop\": 290075, \"life_expect\": 71.068, \"fertility\": 2.1111}, {\"year\": 2000, \"country\": \"Bangladesh\", \"cluster\": 0, \"pop\": 130406594, \"life_expect\": 62.013, \"fertility\": 3.224}, {\"year\": 2000, \"country\": \"Barbados\", \"cluster\": 3, \"pop\": 273483, \"life_expect\": 75.97, \"fertility\": 1.5}, {\"year\": 2000, \"country\": \"Belgium\", \"cluster\": 1, \"pop\": 10263618, \"life_expect\": 78.32, \"fertility\": 1.638}, {\"year\": 2000, \"country\": \"Bolivia\", \"cluster\": 3, \"pop\": 8152620, \"life_expect\": 63.883, \"fertility\": 3.9585}, {\"year\": 2000, \"country\": \"Brazil\", \"cluster\": 3, \"pop\": 175552771, \"life_expect\": 71.006, \"fertility\": 2.345}, {\"year\": 2000, \"country\": \"Canada\", \"cluster\": 3, \"pop\": 31278097, \"life_expect\": 79.77, \"fertility\": 1.522}, {\"year\": 2000, \"country\": \"Chile\", \"cluster\": 3, \"pop\": 15153450, \"life_expect\": 77.86, \"fertility\": 2.0}, {\"year\": 2000, \"country\": \"China\", \"cluster\": 4, \"pop\": 1262645000, \"life_expect\": 72.028, \"fertility\": 1.7000000000000002}, {\"year\": 2000, \"country\": \"Colombia\", \"cluster\": 3, \"pop\": 39685655, \"life_expect\": 71.682, \"fertility\": 2.4705}, {\"year\": 2000, \"country\": \"Costa Rica\", \"cluster\": 3, \"pop\": 3710558, \"life_expect\": 78.123, \"fertility\": 2.2815}, {\"year\": 2000, \"country\": \"Croatia\", \"cluster\": 1, \"pop\": 4410830, \"life_expect\": 74.876, \"fertility\": 1.348}, {\"year\": 2000, \"country\": \"Cuba\", \"cluster\": 3, \"pop\": 11134273, \"life_expect\": 77.158, \"fertility\": 1.63}, {\"year\": 2000, \"country\": \"Dominican Republic\", \"cluster\": 3, \"pop\": 8385828, \"life_expect\": 70.847, \"fertility\": 2.95}, {\"year\": 2000, \"country\": \"Ecuador\", \"cluster\": 3, \"pop\": 12505204, \"life_expect\": 74.173, \"fertility\": 2.8175}, {\"year\": 2000, \"country\": \"Egypt\", \"cluster\": 5, \"pop\": 70492342, \"life_expect\": 69.806, \"fertility\": 3.174}, {\"year\": 2000, \"country\": \"El Salvador\", \"cluster\": 3, \"pop\": 6122515, \"life_expect\": 70.734, \"fertility\": 2.883}, {\"year\": 2000, \"country\": \"Finland\", \"cluster\": 1, \"pop\": 5168595, \"life_expect\": 78.37, \"fertility\": 1.754}, {\"year\": 2000, \"country\": \"France\", \"cluster\": 1, \"pop\": 59381628, \"life_expect\": 79.59, \"fertility\": 1.8833000000000002}, {\"year\": 2000, \"country\": \"Georgia\", \"cluster\": 1, \"pop\": 4777209, \"life_expect\": 70.476, \"fertility\": 1.478}, {\"year\": 2000, \"country\": \"Germany\", \"cluster\": 1, \"pop\": 82187909, \"life_expect\": 78.67, \"fertility\": 1.346}, {\"year\": 2000, \"country\": \"Greece\", \"cluster\": 1, \"pop\": 10559110, \"life_expect\": 78.256, \"fertility\": 1.2770000000000001}, {\"year\": 2000, \"country\": \"Grenada\", \"cluster\": 3, \"pop\": 89312, \"life_expect\": 67.746, \"fertility\": 2.429}, {\"year\": 2000, \"country\": \"Haiti\", \"cluster\": 3, \"pop\": 7306302, \"life_expect\": 58.137, \"fertility\": 4.0}, {\"year\": 2000, \"country\": \"Hong Kong\", \"cluster\": 4, \"pop\": 6658720, \"life_expect\": 81.495, \"fertility\": 0.9400000000000001}, {\"year\": 2000, \"country\": \"Iceland\", \"cluster\": 1, \"pop\": 281043, \"life_expect\": 80.5, \"fertility\": 1.9929999999999999}, {\"year\": 2000, \"country\": \"India\", \"cluster\": 0, \"pop\": 1007702000, \"life_expect\": 62.879, \"fertility\": 3.1132}, {\"year\": 2000, \"country\": \"Indonesia\", \"cluster\": 4, \"pop\": 206265000, \"life_expect\": 68.588, \"fertility\": 2.3761}, {\"year\": 2000, \"country\": \"Iran\", \"cluster\": 5, \"pop\": 65660289, \"life_expect\": 69.451, \"fertility\": 2.124}, {\"year\": 2000, \"country\": \"Iraq\", \"cluster\": 5, \"pop\": 22675617, \"life_expect\": 57.046, \"fertility\": 4.858}, {\"year\": 2000, \"country\": \"Ireland\", \"cluster\": 1, \"pop\": 3791690, \"life_expect\": 77.783, \"fertility\": 1.9689999999999999}, {\"year\": 2000, \"country\": \"Israel\", \"cluster\": 5, \"pop\": 5842454, \"life_expect\": 79.696, \"fertility\": 2.906}, {\"year\": 2000, \"country\": \"Italy\", \"cluster\": 1, \"pop\": 57719337, \"life_expect\": 80.24, \"fertility\": 1.286}, {\"year\": 2000, \"country\": \"Jamaica\", \"cluster\": 3, \"pop\": 2615467, \"life_expect\": 72.047, \"fertility\": 2.628}, {\"year\": 2000, \"country\": \"Japan\", \"cluster\": 4, \"pop\": 126699784, \"life_expect\": 82.0, \"fertility\": 1.291}, {\"year\": 2000, \"country\": \"Kenya\", \"cluster\": 2, \"pop\": 29985839, \"life_expect\": 50.992, \"fertility\": 5.0}, {\"year\": 2000, \"country\": \"South Korea\", \"cluster\": 4, \"pop\": 21647682, \"life_expect\": 66.662, \"fertility\": 1.9173}, {\"year\": 2000, \"country\": \"North Korea\", \"cluster\": 4, \"pop\": 47351083, \"life_expect\": 77.045, \"fertility\": 1.242}, {\"year\": 2000, \"country\": \"Lebanon\", \"cluster\": 5, \"pop\": 3578036, \"life_expect\": 71.028, \"fertility\": 2.319}, {\"year\": 2000, \"country\": \"Mexico\", \"cluster\": 3, \"pop\": 99926620, \"life_expect\": 74.902, \"fertility\": 2.4005}, {\"year\": 2000, \"country\": \"Netherlands\", \"cluster\": 1, \"pop\": 15907853, \"life_expect\": 78.53, \"fertility\": 1.726}, {\"year\": 2000, \"country\": \"New Zealand\", \"cluster\": 4, \"pop\": 3819762, \"life_expect\": 79.11, \"fertility\": 1.964}, {\"year\": 2000, \"country\": \"Nigeria\", \"cluster\": 2, \"pop\": 114306700, \"life_expect\": 46.608, \"fertility\": 5.845}, {\"year\": 2000, \"country\": \"Norway\", \"cluster\": 1, \"pop\": 4492400, \"life_expect\": 79.05, \"fertility\": 1.8010000000000002}, {\"year\": 2000, \"country\": \"Pakistan\", \"cluster\": 0, \"pop\": 146342958, \"life_expect\": 63.61, \"fertility\": 3.9936}, {\"year\": 2000, \"country\": \"Peru\", \"cluster\": 3, \"pop\": 25979722, \"life_expect\": 69.906, \"fertility\": 2.7005}, {\"year\": 2000, \"country\": \"Philippines\", \"cluster\": 4, \"pop\": 79739825, \"life_expect\": 70.303, \"fertility\": 3.5436}, {\"year\": 2000, \"country\": \"Poland\", \"cluster\": 1, \"pop\": 38654164, \"life_expect\": 74.67, \"fertility\": 1.251}, {\"year\": 2000, \"country\": \"Portugal\", \"cluster\": 1, \"pop\": 10335597, \"life_expect\": 77.29, \"fertility\": 1.454}, {\"year\": 2000, \"country\": \"Rwanda\", \"cluster\": 2, \"pop\": 7507056, \"life_expect\": 43.413, \"fertility\": 6.01}, {\"year\": 2000, \"country\": \"Saudi Arabia\", \"cluster\": 5, \"pop\": 23153090, \"life_expect\": 71.626, \"fertility\": 3.81}, {\"year\": 2000, \"country\": \"South Africa\", \"cluster\": 2, \"pop\": 44066197, \"life_expect\": 53.365, \"fertility\": 2.802}, {\"year\": 2000, \"country\": \"Spain\", \"cluster\": 1, \"pop\": 40016081, \"life_expect\": 79.78, \"fertility\": 1.287}, {\"year\": 2000, \"country\": \"Switzerland\", \"cluster\": 1, \"pop\": 7266920, \"life_expect\": 80.62, \"fertility\": 1.415}, {\"year\": 2000, \"country\": \"Turkey\", \"cluster\": 1, \"pop\": 65666677, \"life_expect\": 70.845, \"fertility\": 2.23}, {\"year\": 2000, \"country\": \"United Kingdom\", \"cluster\": 1, \"pop\": 59522468, \"life_expect\": 78.471, \"fertility\": 1.695}, {\"year\": 2000, \"country\": \"United States\", \"cluster\": 3, \"pop\": 282338631, \"life_expect\": 77.31, \"fertility\": 2.038}, {\"year\": 2000, \"country\": \"Venezuela\", \"cluster\": 3, \"pop\": 23542649, \"life_expect\": 72.766, \"fertility\": 2.723}]}}, {\"mode\": \"vega-lite\"});\n",
       "</script>"
      ],
      "text/plain": [
       "alt.Chart(...)"
      ]
     },
     "execution_count": 24,
     "metadata": {},
     "output_type": "execute_result"
    }
   ],
   "source": [
    "alt.Chart(data2000).mark_point(filled=True, size=100).encode(\n",
    "    alt.X('fertility:Q'),\n",
    "    alt.Y('cluster:N'),\n",
    "    alt.Shape('cluster:N')\n",
    ")"
   ]
  },
  {
   "cell_type": "markdown",
   "metadata": {},
   "source": [
    "### 2.4.2 Marcas de Círculo"
   ]
  },
  {
   "cell_type": "markdown",
   "metadata": {},
   "source": [
    "A marca do tipo `circle` é uma abreviação conveniente para marcas `point` desenhadas como círculos preenchidos."
   ]
  },
  {
   "cell_type": "code",
   "execution_count": 25,
   "metadata": {
    "colab": {
     "base_uri": "https://localhost:8080/",
     "height": 192
    },
    "colab_type": "code",
    "id": "R7JgFhB-vn5X",
    "outputId": "80cd9d0f-c126-4673-bfcf-eaf5b34e0058"
   },
   "outputs": [
    {
     "data": {
      "text/html": [
       "\n",
       "<div id=\"altair-viz-9cb19ec99f5c48c39f43ee3e7e99d0d3\"></div>\n",
       "<script type=\"text/javascript\">\n",
       "  (function(spec, embedOpt){\n",
       "    let outputDiv = document.currentScript.previousElementSibling;\n",
       "    if (outputDiv.id !== \"altair-viz-9cb19ec99f5c48c39f43ee3e7e99d0d3\") {\n",
       "      outputDiv = document.getElementById(\"altair-viz-9cb19ec99f5c48c39f43ee3e7e99d0d3\");\n",
       "    }\n",
       "    const paths = {\n",
       "      \"vega\": \"https://cdn.jsdelivr.net/npm//vega@5?noext\",\n",
       "      \"vega-lib\": \"https://cdn.jsdelivr.net/npm//vega-lib?noext\",\n",
       "      \"vega-lite\": \"https://cdn.jsdelivr.net/npm//vega-lite@4.8.1?noext\",\n",
       "      \"vega-embed\": \"https://cdn.jsdelivr.net/npm//vega-embed@6?noext\",\n",
       "    };\n",
       "\n",
       "    function loadScript(lib) {\n",
       "      return new Promise(function(resolve, reject) {\n",
       "        var s = document.createElement('script');\n",
       "        s.src = paths[lib];\n",
       "        s.async = true;\n",
       "        s.onload = () => resolve(paths[lib]);\n",
       "        s.onerror = () => reject(`Error loading script: ${paths[lib]}`);\n",
       "        document.getElementsByTagName(\"head\")[0].appendChild(s);\n",
       "      });\n",
       "    }\n",
       "\n",
       "    function showError(err) {\n",
       "      outputDiv.innerHTML = `<div class=\"error\" style=\"color:red;\">${err}</div>`;\n",
       "      throw err;\n",
       "    }\n",
       "\n",
       "    function displayChart(vegaEmbed) {\n",
       "      vegaEmbed(outputDiv, spec, embedOpt)\n",
       "        .catch(err => showError(`Javascript Error: ${err.message}<br>This usually means there's a typo in your chart specification. See the javascript console for the full traceback.`));\n",
       "    }\n",
       "\n",
       "    if(typeof define === \"function\" && define.amd) {\n",
       "      requirejs.config({paths});\n",
       "      require([\"vega-embed\"], displayChart, err => showError(`Error loading script: ${err.message}`));\n",
       "    } else if (typeof vegaEmbed === \"function\") {\n",
       "      displayChart(vegaEmbed);\n",
       "    } else {\n",
       "      loadScript(\"vega\")\n",
       "        .then(() => loadScript(\"vega-lite\"))\n",
       "        .then(() => loadScript(\"vega-embed\"))\n",
       "        .catch(showError)\n",
       "        .then(() => displayChart(vegaEmbed));\n",
       "    }\n",
       "  })({\"config\": {\"view\": {\"continuousWidth\": 400, \"continuousHeight\": 300}}, \"data\": {\"name\": \"data-fdeb0b749a6385830bd1445d39ad6ea0\"}, \"mark\": {\"type\": \"circle\", \"size\": 100}, \"encoding\": {\"shape\": {\"type\": \"nominal\", \"field\": \"cluster\"}, \"x\": {\"type\": \"quantitative\", \"field\": \"fertility\"}, \"y\": {\"type\": \"nominal\", \"field\": \"cluster\"}}, \"$schema\": \"https://vega.github.io/schema/vega-lite/v4.8.1.json\", \"datasets\": {\"data-fdeb0b749a6385830bd1445d39ad6ea0\": [{\"year\": 2000, \"country\": \"Afghanistan\", \"cluster\": 0, \"pop\": 23898198, \"life_expect\": 42.129, \"fertility\": 7.4792}, {\"year\": 2000, \"country\": \"Argentina\", \"cluster\": 3, \"pop\": 37497728, \"life_expect\": 74.34, \"fertility\": 2.35}, {\"year\": 2000, \"country\": \"Aruba\", \"cluster\": 3, \"pop\": 69539, \"life_expect\": 73.451, \"fertility\": 2.124}, {\"year\": 2000, \"country\": \"Australia\", \"cluster\": 4, \"pop\": 19164620, \"life_expect\": 80.37, \"fertility\": 1.756}, {\"year\": 2000, \"country\": \"Austria\", \"cluster\": 1, \"pop\": 8113413, \"life_expect\": 78.98, \"fertility\": 1.3820000000000001}, {\"year\": 2000, \"country\": \"Bahamas\", \"cluster\": 3, \"pop\": 290075, \"life_expect\": 71.068, \"fertility\": 2.1111}, {\"year\": 2000, \"country\": \"Bangladesh\", \"cluster\": 0, \"pop\": 130406594, \"life_expect\": 62.013, \"fertility\": 3.224}, {\"year\": 2000, \"country\": \"Barbados\", \"cluster\": 3, \"pop\": 273483, \"life_expect\": 75.97, \"fertility\": 1.5}, {\"year\": 2000, \"country\": \"Belgium\", \"cluster\": 1, \"pop\": 10263618, \"life_expect\": 78.32, \"fertility\": 1.638}, {\"year\": 2000, \"country\": \"Bolivia\", \"cluster\": 3, \"pop\": 8152620, \"life_expect\": 63.883, \"fertility\": 3.9585}, {\"year\": 2000, \"country\": \"Brazil\", \"cluster\": 3, \"pop\": 175552771, \"life_expect\": 71.006, \"fertility\": 2.345}, {\"year\": 2000, \"country\": \"Canada\", \"cluster\": 3, \"pop\": 31278097, \"life_expect\": 79.77, \"fertility\": 1.522}, {\"year\": 2000, \"country\": \"Chile\", \"cluster\": 3, \"pop\": 15153450, \"life_expect\": 77.86, \"fertility\": 2.0}, {\"year\": 2000, \"country\": \"China\", \"cluster\": 4, \"pop\": 1262645000, \"life_expect\": 72.028, \"fertility\": 1.7000000000000002}, {\"year\": 2000, \"country\": \"Colombia\", \"cluster\": 3, \"pop\": 39685655, \"life_expect\": 71.682, \"fertility\": 2.4705}, {\"year\": 2000, \"country\": \"Costa Rica\", \"cluster\": 3, \"pop\": 3710558, \"life_expect\": 78.123, \"fertility\": 2.2815}, {\"year\": 2000, \"country\": \"Croatia\", \"cluster\": 1, \"pop\": 4410830, \"life_expect\": 74.876, \"fertility\": 1.348}, {\"year\": 2000, \"country\": \"Cuba\", \"cluster\": 3, \"pop\": 11134273, \"life_expect\": 77.158, \"fertility\": 1.63}, {\"year\": 2000, \"country\": \"Dominican Republic\", \"cluster\": 3, \"pop\": 8385828, \"life_expect\": 70.847, \"fertility\": 2.95}, {\"year\": 2000, \"country\": \"Ecuador\", \"cluster\": 3, \"pop\": 12505204, \"life_expect\": 74.173, \"fertility\": 2.8175}, {\"year\": 2000, \"country\": \"Egypt\", \"cluster\": 5, \"pop\": 70492342, \"life_expect\": 69.806, \"fertility\": 3.174}, {\"year\": 2000, \"country\": \"El Salvador\", \"cluster\": 3, \"pop\": 6122515, \"life_expect\": 70.734, \"fertility\": 2.883}, {\"year\": 2000, \"country\": \"Finland\", \"cluster\": 1, \"pop\": 5168595, \"life_expect\": 78.37, \"fertility\": 1.754}, {\"year\": 2000, \"country\": \"France\", \"cluster\": 1, \"pop\": 59381628, \"life_expect\": 79.59, \"fertility\": 1.8833000000000002}, {\"year\": 2000, \"country\": \"Georgia\", \"cluster\": 1, \"pop\": 4777209, \"life_expect\": 70.476, \"fertility\": 1.478}, {\"year\": 2000, \"country\": \"Germany\", \"cluster\": 1, \"pop\": 82187909, \"life_expect\": 78.67, \"fertility\": 1.346}, {\"year\": 2000, \"country\": \"Greece\", \"cluster\": 1, \"pop\": 10559110, \"life_expect\": 78.256, \"fertility\": 1.2770000000000001}, {\"year\": 2000, \"country\": \"Grenada\", \"cluster\": 3, \"pop\": 89312, \"life_expect\": 67.746, \"fertility\": 2.429}, {\"year\": 2000, \"country\": \"Haiti\", \"cluster\": 3, \"pop\": 7306302, \"life_expect\": 58.137, \"fertility\": 4.0}, {\"year\": 2000, \"country\": \"Hong Kong\", \"cluster\": 4, \"pop\": 6658720, \"life_expect\": 81.495, \"fertility\": 0.9400000000000001}, {\"year\": 2000, \"country\": \"Iceland\", \"cluster\": 1, \"pop\": 281043, \"life_expect\": 80.5, \"fertility\": 1.9929999999999999}, {\"year\": 2000, \"country\": \"India\", \"cluster\": 0, \"pop\": 1007702000, \"life_expect\": 62.879, \"fertility\": 3.1132}, {\"year\": 2000, \"country\": \"Indonesia\", \"cluster\": 4, \"pop\": 206265000, \"life_expect\": 68.588, \"fertility\": 2.3761}, {\"year\": 2000, \"country\": \"Iran\", \"cluster\": 5, \"pop\": 65660289, \"life_expect\": 69.451, \"fertility\": 2.124}, {\"year\": 2000, \"country\": \"Iraq\", \"cluster\": 5, \"pop\": 22675617, \"life_expect\": 57.046, \"fertility\": 4.858}, {\"year\": 2000, \"country\": \"Ireland\", \"cluster\": 1, \"pop\": 3791690, \"life_expect\": 77.783, \"fertility\": 1.9689999999999999}, {\"year\": 2000, \"country\": \"Israel\", \"cluster\": 5, \"pop\": 5842454, \"life_expect\": 79.696, \"fertility\": 2.906}, {\"year\": 2000, \"country\": \"Italy\", \"cluster\": 1, \"pop\": 57719337, \"life_expect\": 80.24, \"fertility\": 1.286}, {\"year\": 2000, \"country\": \"Jamaica\", \"cluster\": 3, \"pop\": 2615467, \"life_expect\": 72.047, \"fertility\": 2.628}, {\"year\": 2000, \"country\": \"Japan\", \"cluster\": 4, \"pop\": 126699784, \"life_expect\": 82.0, \"fertility\": 1.291}, {\"year\": 2000, \"country\": \"Kenya\", \"cluster\": 2, \"pop\": 29985839, \"life_expect\": 50.992, \"fertility\": 5.0}, {\"year\": 2000, \"country\": \"South Korea\", \"cluster\": 4, \"pop\": 21647682, \"life_expect\": 66.662, \"fertility\": 1.9173}, {\"year\": 2000, \"country\": \"North Korea\", \"cluster\": 4, \"pop\": 47351083, \"life_expect\": 77.045, \"fertility\": 1.242}, {\"year\": 2000, \"country\": \"Lebanon\", \"cluster\": 5, \"pop\": 3578036, \"life_expect\": 71.028, \"fertility\": 2.319}, {\"year\": 2000, \"country\": \"Mexico\", \"cluster\": 3, \"pop\": 99926620, \"life_expect\": 74.902, \"fertility\": 2.4005}, {\"year\": 2000, \"country\": \"Netherlands\", \"cluster\": 1, \"pop\": 15907853, \"life_expect\": 78.53, \"fertility\": 1.726}, {\"year\": 2000, \"country\": \"New Zealand\", \"cluster\": 4, \"pop\": 3819762, \"life_expect\": 79.11, \"fertility\": 1.964}, {\"year\": 2000, \"country\": \"Nigeria\", \"cluster\": 2, \"pop\": 114306700, \"life_expect\": 46.608, \"fertility\": 5.845}, {\"year\": 2000, \"country\": \"Norway\", \"cluster\": 1, \"pop\": 4492400, \"life_expect\": 79.05, \"fertility\": 1.8010000000000002}, {\"year\": 2000, \"country\": \"Pakistan\", \"cluster\": 0, \"pop\": 146342958, \"life_expect\": 63.61, \"fertility\": 3.9936}, {\"year\": 2000, \"country\": \"Peru\", \"cluster\": 3, \"pop\": 25979722, \"life_expect\": 69.906, \"fertility\": 2.7005}, {\"year\": 2000, \"country\": \"Philippines\", \"cluster\": 4, \"pop\": 79739825, \"life_expect\": 70.303, \"fertility\": 3.5436}, {\"year\": 2000, \"country\": \"Poland\", \"cluster\": 1, \"pop\": 38654164, \"life_expect\": 74.67, \"fertility\": 1.251}, {\"year\": 2000, \"country\": \"Portugal\", \"cluster\": 1, \"pop\": 10335597, \"life_expect\": 77.29, \"fertility\": 1.454}, {\"year\": 2000, \"country\": \"Rwanda\", \"cluster\": 2, \"pop\": 7507056, \"life_expect\": 43.413, \"fertility\": 6.01}, {\"year\": 2000, \"country\": \"Saudi Arabia\", \"cluster\": 5, \"pop\": 23153090, \"life_expect\": 71.626, \"fertility\": 3.81}, {\"year\": 2000, \"country\": \"South Africa\", \"cluster\": 2, \"pop\": 44066197, \"life_expect\": 53.365, \"fertility\": 2.802}, {\"year\": 2000, \"country\": \"Spain\", \"cluster\": 1, \"pop\": 40016081, \"life_expect\": 79.78, \"fertility\": 1.287}, {\"year\": 2000, \"country\": \"Switzerland\", \"cluster\": 1, \"pop\": 7266920, \"life_expect\": 80.62, \"fertility\": 1.415}, {\"year\": 2000, \"country\": \"Turkey\", \"cluster\": 1, \"pop\": 65666677, \"life_expect\": 70.845, \"fertility\": 2.23}, {\"year\": 2000, \"country\": \"United Kingdom\", \"cluster\": 1, \"pop\": 59522468, \"life_expect\": 78.471, \"fertility\": 1.695}, {\"year\": 2000, \"country\": \"United States\", \"cluster\": 3, \"pop\": 282338631, \"life_expect\": 77.31, \"fertility\": 2.038}, {\"year\": 2000, \"country\": \"Venezuela\", \"cluster\": 3, \"pop\": 23542649, \"life_expect\": 72.766, \"fertility\": 2.723}]}}, {\"mode\": \"vega-lite\"});\n",
       "</script>"
      ],
      "text/plain": [
       "alt.Chart(...)"
      ]
     },
     "execution_count": 25,
     "metadata": {},
     "output_type": "execute_result"
    }
   ],
   "source": [
    "alt.Chart(data2000).mark_circle(size=100).encode(\n",
    "    alt.X('fertility:Q'),\n",
    "    alt.Y('cluster:N'),\n",
    "    alt.Shape('cluster:N')\n",
    ")"
   ]
  },
  {
   "cell_type": "markdown",
   "metadata": {},
   "source": [
    "### 2.4.3 Marcas de Quadrado"
   ]
  },
  {
   "cell_type": "markdown",
   "metadata": {},
   "source": [
    "O tipo de marca `square` é uma abreviação conveniente para marcas `point` desenhadas como quadrados preenchidos."
   ]
  },
  {
   "cell_type": "code",
   "execution_count": 26,
   "metadata": {
    "colab": {
     "base_uri": "https://localhost:8080/",
     "height": 192
    },
    "colab_type": "code",
    "id": "rfby5R-Mvuwx",
    "outputId": "8ff4b0d4-f3ce-45e5-f597-1a6fd296ba47"
   },
   "outputs": [
    {
     "data": {
      "text/html": [
       "\n",
       "<div id=\"altair-viz-a0a1dd8bf3424f0791da703280eea9ca\"></div>\n",
       "<script type=\"text/javascript\">\n",
       "  (function(spec, embedOpt){\n",
       "    let outputDiv = document.currentScript.previousElementSibling;\n",
       "    if (outputDiv.id !== \"altair-viz-a0a1dd8bf3424f0791da703280eea9ca\") {\n",
       "      outputDiv = document.getElementById(\"altair-viz-a0a1dd8bf3424f0791da703280eea9ca\");\n",
       "    }\n",
       "    const paths = {\n",
       "      \"vega\": \"https://cdn.jsdelivr.net/npm//vega@5?noext\",\n",
       "      \"vega-lib\": \"https://cdn.jsdelivr.net/npm//vega-lib?noext\",\n",
       "      \"vega-lite\": \"https://cdn.jsdelivr.net/npm//vega-lite@4.8.1?noext\",\n",
       "      \"vega-embed\": \"https://cdn.jsdelivr.net/npm//vega-embed@6?noext\",\n",
       "    };\n",
       "\n",
       "    function loadScript(lib) {\n",
       "      return new Promise(function(resolve, reject) {\n",
       "        var s = document.createElement('script');\n",
       "        s.src = paths[lib];\n",
       "        s.async = true;\n",
       "        s.onload = () => resolve(paths[lib]);\n",
       "        s.onerror = () => reject(`Error loading script: ${paths[lib]}`);\n",
       "        document.getElementsByTagName(\"head\")[0].appendChild(s);\n",
       "      });\n",
       "    }\n",
       "\n",
       "    function showError(err) {\n",
       "      outputDiv.innerHTML = `<div class=\"error\" style=\"color:red;\">${err}</div>`;\n",
       "      throw err;\n",
       "    }\n",
       "\n",
       "    function displayChart(vegaEmbed) {\n",
       "      vegaEmbed(outputDiv, spec, embedOpt)\n",
       "        .catch(err => showError(`Javascript Error: ${err.message}<br>This usually means there's a typo in your chart specification. See the javascript console for the full traceback.`));\n",
       "    }\n",
       "\n",
       "    if(typeof define === \"function\" && define.amd) {\n",
       "      requirejs.config({paths});\n",
       "      require([\"vega-embed\"], displayChart, err => showError(`Error loading script: ${err.message}`));\n",
       "    } else if (typeof vegaEmbed === \"function\") {\n",
       "      displayChart(vegaEmbed);\n",
       "    } else {\n",
       "      loadScript(\"vega\")\n",
       "        .then(() => loadScript(\"vega-lite\"))\n",
       "        .then(() => loadScript(\"vega-embed\"))\n",
       "        .catch(showError)\n",
       "        .then(() => displayChart(vegaEmbed));\n",
       "    }\n",
       "  })({\"config\": {\"view\": {\"continuousWidth\": 400, \"continuousHeight\": 300}}, \"data\": {\"name\": \"data-fdeb0b749a6385830bd1445d39ad6ea0\"}, \"mark\": {\"type\": \"square\", \"size\": 100}, \"encoding\": {\"shape\": {\"type\": \"nominal\", \"field\": \"cluster\"}, \"x\": {\"type\": \"quantitative\", \"field\": \"fertility\"}, \"y\": {\"type\": \"nominal\", \"field\": \"cluster\"}}, \"$schema\": \"https://vega.github.io/schema/vega-lite/v4.8.1.json\", \"datasets\": {\"data-fdeb0b749a6385830bd1445d39ad6ea0\": [{\"year\": 2000, \"country\": \"Afghanistan\", \"cluster\": 0, \"pop\": 23898198, \"life_expect\": 42.129, \"fertility\": 7.4792}, {\"year\": 2000, \"country\": \"Argentina\", \"cluster\": 3, \"pop\": 37497728, \"life_expect\": 74.34, \"fertility\": 2.35}, {\"year\": 2000, \"country\": \"Aruba\", \"cluster\": 3, \"pop\": 69539, \"life_expect\": 73.451, \"fertility\": 2.124}, {\"year\": 2000, \"country\": \"Australia\", \"cluster\": 4, \"pop\": 19164620, \"life_expect\": 80.37, \"fertility\": 1.756}, {\"year\": 2000, \"country\": \"Austria\", \"cluster\": 1, \"pop\": 8113413, \"life_expect\": 78.98, \"fertility\": 1.3820000000000001}, {\"year\": 2000, \"country\": \"Bahamas\", \"cluster\": 3, \"pop\": 290075, \"life_expect\": 71.068, \"fertility\": 2.1111}, {\"year\": 2000, \"country\": \"Bangladesh\", \"cluster\": 0, \"pop\": 130406594, \"life_expect\": 62.013, \"fertility\": 3.224}, {\"year\": 2000, \"country\": \"Barbados\", \"cluster\": 3, \"pop\": 273483, \"life_expect\": 75.97, \"fertility\": 1.5}, {\"year\": 2000, \"country\": \"Belgium\", \"cluster\": 1, \"pop\": 10263618, \"life_expect\": 78.32, \"fertility\": 1.638}, {\"year\": 2000, \"country\": \"Bolivia\", \"cluster\": 3, \"pop\": 8152620, \"life_expect\": 63.883, \"fertility\": 3.9585}, {\"year\": 2000, \"country\": \"Brazil\", \"cluster\": 3, \"pop\": 175552771, \"life_expect\": 71.006, \"fertility\": 2.345}, {\"year\": 2000, \"country\": \"Canada\", \"cluster\": 3, \"pop\": 31278097, \"life_expect\": 79.77, \"fertility\": 1.522}, {\"year\": 2000, \"country\": \"Chile\", \"cluster\": 3, \"pop\": 15153450, \"life_expect\": 77.86, \"fertility\": 2.0}, {\"year\": 2000, \"country\": \"China\", \"cluster\": 4, \"pop\": 1262645000, \"life_expect\": 72.028, \"fertility\": 1.7000000000000002}, {\"year\": 2000, \"country\": \"Colombia\", \"cluster\": 3, \"pop\": 39685655, \"life_expect\": 71.682, \"fertility\": 2.4705}, {\"year\": 2000, \"country\": \"Costa Rica\", \"cluster\": 3, \"pop\": 3710558, \"life_expect\": 78.123, \"fertility\": 2.2815}, {\"year\": 2000, \"country\": \"Croatia\", \"cluster\": 1, \"pop\": 4410830, \"life_expect\": 74.876, \"fertility\": 1.348}, {\"year\": 2000, \"country\": \"Cuba\", \"cluster\": 3, \"pop\": 11134273, \"life_expect\": 77.158, \"fertility\": 1.63}, {\"year\": 2000, \"country\": \"Dominican Republic\", \"cluster\": 3, \"pop\": 8385828, \"life_expect\": 70.847, \"fertility\": 2.95}, {\"year\": 2000, \"country\": \"Ecuador\", \"cluster\": 3, \"pop\": 12505204, \"life_expect\": 74.173, \"fertility\": 2.8175}, {\"year\": 2000, \"country\": \"Egypt\", \"cluster\": 5, \"pop\": 70492342, \"life_expect\": 69.806, \"fertility\": 3.174}, {\"year\": 2000, \"country\": \"El Salvador\", \"cluster\": 3, \"pop\": 6122515, \"life_expect\": 70.734, \"fertility\": 2.883}, {\"year\": 2000, \"country\": \"Finland\", \"cluster\": 1, \"pop\": 5168595, \"life_expect\": 78.37, \"fertility\": 1.754}, {\"year\": 2000, \"country\": \"France\", \"cluster\": 1, \"pop\": 59381628, \"life_expect\": 79.59, \"fertility\": 1.8833000000000002}, {\"year\": 2000, \"country\": \"Georgia\", \"cluster\": 1, \"pop\": 4777209, \"life_expect\": 70.476, \"fertility\": 1.478}, {\"year\": 2000, \"country\": \"Germany\", \"cluster\": 1, \"pop\": 82187909, \"life_expect\": 78.67, \"fertility\": 1.346}, {\"year\": 2000, \"country\": \"Greece\", \"cluster\": 1, \"pop\": 10559110, \"life_expect\": 78.256, \"fertility\": 1.2770000000000001}, {\"year\": 2000, \"country\": \"Grenada\", \"cluster\": 3, \"pop\": 89312, \"life_expect\": 67.746, \"fertility\": 2.429}, {\"year\": 2000, \"country\": \"Haiti\", \"cluster\": 3, \"pop\": 7306302, \"life_expect\": 58.137, \"fertility\": 4.0}, {\"year\": 2000, \"country\": \"Hong Kong\", \"cluster\": 4, \"pop\": 6658720, \"life_expect\": 81.495, \"fertility\": 0.9400000000000001}, {\"year\": 2000, \"country\": \"Iceland\", \"cluster\": 1, \"pop\": 281043, \"life_expect\": 80.5, \"fertility\": 1.9929999999999999}, {\"year\": 2000, \"country\": \"India\", \"cluster\": 0, \"pop\": 1007702000, \"life_expect\": 62.879, \"fertility\": 3.1132}, {\"year\": 2000, \"country\": \"Indonesia\", \"cluster\": 4, \"pop\": 206265000, \"life_expect\": 68.588, \"fertility\": 2.3761}, {\"year\": 2000, \"country\": \"Iran\", \"cluster\": 5, \"pop\": 65660289, \"life_expect\": 69.451, \"fertility\": 2.124}, {\"year\": 2000, \"country\": \"Iraq\", \"cluster\": 5, \"pop\": 22675617, \"life_expect\": 57.046, \"fertility\": 4.858}, {\"year\": 2000, \"country\": \"Ireland\", \"cluster\": 1, \"pop\": 3791690, \"life_expect\": 77.783, \"fertility\": 1.9689999999999999}, {\"year\": 2000, \"country\": \"Israel\", \"cluster\": 5, \"pop\": 5842454, \"life_expect\": 79.696, \"fertility\": 2.906}, {\"year\": 2000, \"country\": \"Italy\", \"cluster\": 1, \"pop\": 57719337, \"life_expect\": 80.24, \"fertility\": 1.286}, {\"year\": 2000, \"country\": \"Jamaica\", \"cluster\": 3, \"pop\": 2615467, \"life_expect\": 72.047, \"fertility\": 2.628}, {\"year\": 2000, \"country\": \"Japan\", \"cluster\": 4, \"pop\": 126699784, \"life_expect\": 82.0, \"fertility\": 1.291}, {\"year\": 2000, \"country\": \"Kenya\", \"cluster\": 2, \"pop\": 29985839, \"life_expect\": 50.992, \"fertility\": 5.0}, {\"year\": 2000, \"country\": \"South Korea\", \"cluster\": 4, \"pop\": 21647682, \"life_expect\": 66.662, \"fertility\": 1.9173}, {\"year\": 2000, \"country\": \"North Korea\", \"cluster\": 4, \"pop\": 47351083, \"life_expect\": 77.045, \"fertility\": 1.242}, {\"year\": 2000, \"country\": \"Lebanon\", \"cluster\": 5, \"pop\": 3578036, \"life_expect\": 71.028, \"fertility\": 2.319}, {\"year\": 2000, \"country\": \"Mexico\", \"cluster\": 3, \"pop\": 99926620, \"life_expect\": 74.902, \"fertility\": 2.4005}, {\"year\": 2000, \"country\": \"Netherlands\", \"cluster\": 1, \"pop\": 15907853, \"life_expect\": 78.53, \"fertility\": 1.726}, {\"year\": 2000, \"country\": \"New Zealand\", \"cluster\": 4, \"pop\": 3819762, \"life_expect\": 79.11, \"fertility\": 1.964}, {\"year\": 2000, \"country\": \"Nigeria\", \"cluster\": 2, \"pop\": 114306700, \"life_expect\": 46.608, \"fertility\": 5.845}, {\"year\": 2000, \"country\": \"Norway\", \"cluster\": 1, \"pop\": 4492400, \"life_expect\": 79.05, \"fertility\": 1.8010000000000002}, {\"year\": 2000, \"country\": \"Pakistan\", \"cluster\": 0, \"pop\": 146342958, \"life_expect\": 63.61, \"fertility\": 3.9936}, {\"year\": 2000, \"country\": \"Peru\", \"cluster\": 3, \"pop\": 25979722, \"life_expect\": 69.906, \"fertility\": 2.7005}, {\"year\": 2000, \"country\": \"Philippines\", \"cluster\": 4, \"pop\": 79739825, \"life_expect\": 70.303, \"fertility\": 3.5436}, {\"year\": 2000, \"country\": \"Poland\", \"cluster\": 1, \"pop\": 38654164, \"life_expect\": 74.67, \"fertility\": 1.251}, {\"year\": 2000, \"country\": \"Portugal\", \"cluster\": 1, \"pop\": 10335597, \"life_expect\": 77.29, \"fertility\": 1.454}, {\"year\": 2000, \"country\": \"Rwanda\", \"cluster\": 2, \"pop\": 7507056, \"life_expect\": 43.413, \"fertility\": 6.01}, {\"year\": 2000, \"country\": \"Saudi Arabia\", \"cluster\": 5, \"pop\": 23153090, \"life_expect\": 71.626, \"fertility\": 3.81}, {\"year\": 2000, \"country\": \"South Africa\", \"cluster\": 2, \"pop\": 44066197, \"life_expect\": 53.365, \"fertility\": 2.802}, {\"year\": 2000, \"country\": \"Spain\", \"cluster\": 1, \"pop\": 40016081, \"life_expect\": 79.78, \"fertility\": 1.287}, {\"year\": 2000, \"country\": \"Switzerland\", \"cluster\": 1, \"pop\": 7266920, \"life_expect\": 80.62, \"fertility\": 1.415}, {\"year\": 2000, \"country\": \"Turkey\", \"cluster\": 1, \"pop\": 65666677, \"life_expect\": 70.845, \"fertility\": 2.23}, {\"year\": 2000, \"country\": \"United Kingdom\", \"cluster\": 1, \"pop\": 59522468, \"life_expect\": 78.471, \"fertility\": 1.695}, {\"year\": 2000, \"country\": \"United States\", \"cluster\": 3, \"pop\": 282338631, \"life_expect\": 77.31, \"fertility\": 2.038}, {\"year\": 2000, \"country\": \"Venezuela\", \"cluster\": 3, \"pop\": 23542649, \"life_expect\": 72.766, \"fertility\": 2.723}]}}, {\"mode\": \"vega-lite\"});\n",
       "</script>"
      ],
      "text/plain": [
       "alt.Chart(...)"
      ]
     },
     "execution_count": 26,
     "metadata": {},
     "output_type": "execute_result"
    }
   ],
   "source": [
    "alt.Chart(data2000).mark_square(size=100).encode(\n",
    "    alt.X('fertility:Q'),\n",
    "    alt.Y('cluster:N'),\n",
    "    alt.Shape('cluster:N')\n",
    ")"
   ]
  },
  {
   "cell_type": "markdown",
   "metadata": {},
   "source": [
    "### 2.4.4 Marcas de Traço"
   ]
  },
  {
   "cell_type": "markdown",
   "metadata": {},
   "source": [
    "A marca do tipo `tick` representa um ponto de dados usando um pequeno segmento de linha ou \"traço\". Essas marcas são particularmente úteis para comparar valores em uma única dimensão com mínimo sobreposição. Um _gráfico de pontos_ desenhado com marcas de traço é, às vezes, chamado de _gráfico de faixa_."
   ]
  },
  {
   "cell_type": "code",
   "execution_count": 27,
   "metadata": {
    "colab": {
     "base_uri": "https://localhost:8080/",
     "height": 192
    },
    "colab_type": "code",
    "id": "Thvp_VJ2v-xd",
    "outputId": "c6133250-333f-4c29-e217-221634dd8337"
   },
   "outputs": [
    {
     "data": {
      "text/html": [
       "\n",
       "<div id=\"altair-viz-67066ad0482c4928816062c15bafa4ec\"></div>\n",
       "<script type=\"text/javascript\">\n",
       "  (function(spec, embedOpt){\n",
       "    let outputDiv = document.currentScript.previousElementSibling;\n",
       "    if (outputDiv.id !== \"altair-viz-67066ad0482c4928816062c15bafa4ec\") {\n",
       "      outputDiv = document.getElementById(\"altair-viz-67066ad0482c4928816062c15bafa4ec\");\n",
       "    }\n",
       "    const paths = {\n",
       "      \"vega\": \"https://cdn.jsdelivr.net/npm//vega@5?noext\",\n",
       "      \"vega-lib\": \"https://cdn.jsdelivr.net/npm//vega-lib?noext\",\n",
       "      \"vega-lite\": \"https://cdn.jsdelivr.net/npm//vega-lite@4.8.1?noext\",\n",
       "      \"vega-embed\": \"https://cdn.jsdelivr.net/npm//vega-embed@6?noext\",\n",
       "    };\n",
       "\n",
       "    function loadScript(lib) {\n",
       "      return new Promise(function(resolve, reject) {\n",
       "        var s = document.createElement('script');\n",
       "        s.src = paths[lib];\n",
       "        s.async = true;\n",
       "        s.onload = () => resolve(paths[lib]);\n",
       "        s.onerror = () => reject(`Error loading script: ${paths[lib]}`);\n",
       "        document.getElementsByTagName(\"head\")[0].appendChild(s);\n",
       "      });\n",
       "    }\n",
       "\n",
       "    function showError(err) {\n",
       "      outputDiv.innerHTML = `<div class=\"error\" style=\"color:red;\">${err}</div>`;\n",
       "      throw err;\n",
       "    }\n",
       "\n",
       "    function displayChart(vegaEmbed) {\n",
       "      vegaEmbed(outputDiv, spec, embedOpt)\n",
       "        .catch(err => showError(`Javascript Error: ${err.message}<br>This usually means there's a typo in your chart specification. See the javascript console for the full traceback.`));\n",
       "    }\n",
       "\n",
       "    if(typeof define === \"function\" && define.amd) {\n",
       "      requirejs.config({paths});\n",
       "      require([\"vega-embed\"], displayChart, err => showError(`Error loading script: ${err.message}`));\n",
       "    } else if (typeof vegaEmbed === \"function\") {\n",
       "      displayChart(vegaEmbed);\n",
       "    } else {\n",
       "      loadScript(\"vega\")\n",
       "        .then(() => loadScript(\"vega-lite\"))\n",
       "        .then(() => loadScript(\"vega-embed\"))\n",
       "        .catch(showError)\n",
       "        .then(() => displayChart(vegaEmbed));\n",
       "    }\n",
       "  })({\"config\": {\"view\": {\"continuousWidth\": 400, \"continuousHeight\": 300}}, \"data\": {\"name\": \"data-fdeb0b749a6385830bd1445d39ad6ea0\"}, \"mark\": \"tick\", \"encoding\": {\"shape\": {\"type\": \"nominal\", \"field\": \"cluster\"}, \"x\": {\"type\": \"quantitative\", \"field\": \"fertility\"}, \"y\": {\"type\": \"nominal\", \"field\": \"cluster\"}}, \"$schema\": \"https://vega.github.io/schema/vega-lite/v4.8.1.json\", \"datasets\": {\"data-fdeb0b749a6385830bd1445d39ad6ea0\": [{\"year\": 2000, \"country\": \"Afghanistan\", \"cluster\": 0, \"pop\": 23898198, \"life_expect\": 42.129, \"fertility\": 7.4792}, {\"year\": 2000, \"country\": \"Argentina\", \"cluster\": 3, \"pop\": 37497728, \"life_expect\": 74.34, \"fertility\": 2.35}, {\"year\": 2000, \"country\": \"Aruba\", \"cluster\": 3, \"pop\": 69539, \"life_expect\": 73.451, \"fertility\": 2.124}, {\"year\": 2000, \"country\": \"Australia\", \"cluster\": 4, \"pop\": 19164620, \"life_expect\": 80.37, \"fertility\": 1.756}, {\"year\": 2000, \"country\": \"Austria\", \"cluster\": 1, \"pop\": 8113413, \"life_expect\": 78.98, \"fertility\": 1.3820000000000001}, {\"year\": 2000, \"country\": \"Bahamas\", \"cluster\": 3, \"pop\": 290075, \"life_expect\": 71.068, \"fertility\": 2.1111}, {\"year\": 2000, \"country\": \"Bangladesh\", \"cluster\": 0, \"pop\": 130406594, \"life_expect\": 62.013, \"fertility\": 3.224}, {\"year\": 2000, \"country\": \"Barbados\", \"cluster\": 3, \"pop\": 273483, \"life_expect\": 75.97, \"fertility\": 1.5}, {\"year\": 2000, \"country\": \"Belgium\", \"cluster\": 1, \"pop\": 10263618, \"life_expect\": 78.32, \"fertility\": 1.638}, {\"year\": 2000, \"country\": \"Bolivia\", \"cluster\": 3, \"pop\": 8152620, \"life_expect\": 63.883, \"fertility\": 3.9585}, {\"year\": 2000, \"country\": \"Brazil\", \"cluster\": 3, \"pop\": 175552771, \"life_expect\": 71.006, \"fertility\": 2.345}, {\"year\": 2000, \"country\": \"Canada\", \"cluster\": 3, \"pop\": 31278097, \"life_expect\": 79.77, \"fertility\": 1.522}, {\"year\": 2000, \"country\": \"Chile\", \"cluster\": 3, \"pop\": 15153450, \"life_expect\": 77.86, \"fertility\": 2.0}, {\"year\": 2000, \"country\": \"China\", \"cluster\": 4, \"pop\": 1262645000, \"life_expect\": 72.028, \"fertility\": 1.7000000000000002}, {\"year\": 2000, \"country\": \"Colombia\", \"cluster\": 3, \"pop\": 39685655, \"life_expect\": 71.682, \"fertility\": 2.4705}, {\"year\": 2000, \"country\": \"Costa Rica\", \"cluster\": 3, \"pop\": 3710558, \"life_expect\": 78.123, \"fertility\": 2.2815}, {\"year\": 2000, \"country\": \"Croatia\", \"cluster\": 1, \"pop\": 4410830, \"life_expect\": 74.876, \"fertility\": 1.348}, {\"year\": 2000, \"country\": \"Cuba\", \"cluster\": 3, \"pop\": 11134273, \"life_expect\": 77.158, \"fertility\": 1.63}, {\"year\": 2000, \"country\": \"Dominican Republic\", \"cluster\": 3, \"pop\": 8385828, \"life_expect\": 70.847, \"fertility\": 2.95}, {\"year\": 2000, \"country\": \"Ecuador\", \"cluster\": 3, \"pop\": 12505204, \"life_expect\": 74.173, \"fertility\": 2.8175}, {\"year\": 2000, \"country\": \"Egypt\", \"cluster\": 5, \"pop\": 70492342, \"life_expect\": 69.806, \"fertility\": 3.174}, {\"year\": 2000, \"country\": \"El Salvador\", \"cluster\": 3, \"pop\": 6122515, \"life_expect\": 70.734, \"fertility\": 2.883}, {\"year\": 2000, \"country\": \"Finland\", \"cluster\": 1, \"pop\": 5168595, \"life_expect\": 78.37, \"fertility\": 1.754}, {\"year\": 2000, \"country\": \"France\", \"cluster\": 1, \"pop\": 59381628, \"life_expect\": 79.59, \"fertility\": 1.8833000000000002}, {\"year\": 2000, \"country\": \"Georgia\", \"cluster\": 1, \"pop\": 4777209, \"life_expect\": 70.476, \"fertility\": 1.478}, {\"year\": 2000, \"country\": \"Germany\", \"cluster\": 1, \"pop\": 82187909, \"life_expect\": 78.67, \"fertility\": 1.346}, {\"year\": 2000, \"country\": \"Greece\", \"cluster\": 1, \"pop\": 10559110, \"life_expect\": 78.256, \"fertility\": 1.2770000000000001}, {\"year\": 2000, \"country\": \"Grenada\", \"cluster\": 3, \"pop\": 89312, \"life_expect\": 67.746, \"fertility\": 2.429}, {\"year\": 2000, \"country\": \"Haiti\", \"cluster\": 3, \"pop\": 7306302, \"life_expect\": 58.137, \"fertility\": 4.0}, {\"year\": 2000, \"country\": \"Hong Kong\", \"cluster\": 4, \"pop\": 6658720, \"life_expect\": 81.495, \"fertility\": 0.9400000000000001}, {\"year\": 2000, \"country\": \"Iceland\", \"cluster\": 1, \"pop\": 281043, \"life_expect\": 80.5, \"fertility\": 1.9929999999999999}, {\"year\": 2000, \"country\": \"India\", \"cluster\": 0, \"pop\": 1007702000, \"life_expect\": 62.879, \"fertility\": 3.1132}, {\"year\": 2000, \"country\": \"Indonesia\", \"cluster\": 4, \"pop\": 206265000, \"life_expect\": 68.588, \"fertility\": 2.3761}, {\"year\": 2000, \"country\": \"Iran\", \"cluster\": 5, \"pop\": 65660289, \"life_expect\": 69.451, \"fertility\": 2.124}, {\"year\": 2000, \"country\": \"Iraq\", \"cluster\": 5, \"pop\": 22675617, \"life_expect\": 57.046, \"fertility\": 4.858}, {\"year\": 2000, \"country\": \"Ireland\", \"cluster\": 1, \"pop\": 3791690, \"life_expect\": 77.783, \"fertility\": 1.9689999999999999}, {\"year\": 2000, \"country\": \"Israel\", \"cluster\": 5, \"pop\": 5842454, \"life_expect\": 79.696, \"fertility\": 2.906}, {\"year\": 2000, \"country\": \"Italy\", \"cluster\": 1, \"pop\": 57719337, \"life_expect\": 80.24, \"fertility\": 1.286}, {\"year\": 2000, \"country\": \"Jamaica\", \"cluster\": 3, \"pop\": 2615467, \"life_expect\": 72.047, \"fertility\": 2.628}, {\"year\": 2000, \"country\": \"Japan\", \"cluster\": 4, \"pop\": 126699784, \"life_expect\": 82.0, \"fertility\": 1.291}, {\"year\": 2000, \"country\": \"Kenya\", \"cluster\": 2, \"pop\": 29985839, \"life_expect\": 50.992, \"fertility\": 5.0}, {\"year\": 2000, \"country\": \"South Korea\", \"cluster\": 4, \"pop\": 21647682, \"life_expect\": 66.662, \"fertility\": 1.9173}, {\"year\": 2000, \"country\": \"North Korea\", \"cluster\": 4, \"pop\": 47351083, \"life_expect\": 77.045, \"fertility\": 1.242}, {\"year\": 2000, \"country\": \"Lebanon\", \"cluster\": 5, \"pop\": 3578036, \"life_expect\": 71.028, \"fertility\": 2.319}, {\"year\": 2000, \"country\": \"Mexico\", \"cluster\": 3, \"pop\": 99926620, \"life_expect\": 74.902, \"fertility\": 2.4005}, {\"year\": 2000, \"country\": \"Netherlands\", \"cluster\": 1, \"pop\": 15907853, \"life_expect\": 78.53, \"fertility\": 1.726}, {\"year\": 2000, \"country\": \"New Zealand\", \"cluster\": 4, \"pop\": 3819762, \"life_expect\": 79.11, \"fertility\": 1.964}, {\"year\": 2000, \"country\": \"Nigeria\", \"cluster\": 2, \"pop\": 114306700, \"life_expect\": 46.608, \"fertility\": 5.845}, {\"year\": 2000, \"country\": \"Norway\", \"cluster\": 1, \"pop\": 4492400, \"life_expect\": 79.05, \"fertility\": 1.8010000000000002}, {\"year\": 2000, \"country\": \"Pakistan\", \"cluster\": 0, \"pop\": 146342958, \"life_expect\": 63.61, \"fertility\": 3.9936}, {\"year\": 2000, \"country\": \"Peru\", \"cluster\": 3, \"pop\": 25979722, \"life_expect\": 69.906, \"fertility\": 2.7005}, {\"year\": 2000, \"country\": \"Philippines\", \"cluster\": 4, \"pop\": 79739825, \"life_expect\": 70.303, \"fertility\": 3.5436}, {\"year\": 2000, \"country\": \"Poland\", \"cluster\": 1, \"pop\": 38654164, \"life_expect\": 74.67, \"fertility\": 1.251}, {\"year\": 2000, \"country\": \"Portugal\", \"cluster\": 1, \"pop\": 10335597, \"life_expect\": 77.29, \"fertility\": 1.454}, {\"year\": 2000, \"country\": \"Rwanda\", \"cluster\": 2, \"pop\": 7507056, \"life_expect\": 43.413, \"fertility\": 6.01}, {\"year\": 2000, \"country\": \"Saudi Arabia\", \"cluster\": 5, \"pop\": 23153090, \"life_expect\": 71.626, \"fertility\": 3.81}, {\"year\": 2000, \"country\": \"South Africa\", \"cluster\": 2, \"pop\": 44066197, \"life_expect\": 53.365, \"fertility\": 2.802}, {\"year\": 2000, \"country\": \"Spain\", \"cluster\": 1, \"pop\": 40016081, \"life_expect\": 79.78, \"fertility\": 1.287}, {\"year\": 2000, \"country\": \"Switzerland\", \"cluster\": 1, \"pop\": 7266920, \"life_expect\": 80.62, \"fertility\": 1.415}, {\"year\": 2000, \"country\": \"Turkey\", \"cluster\": 1, \"pop\": 65666677, \"life_expect\": 70.845, \"fertility\": 2.23}, {\"year\": 2000, \"country\": \"United Kingdom\", \"cluster\": 1, \"pop\": 59522468, \"life_expect\": 78.471, \"fertility\": 1.695}, {\"year\": 2000, \"country\": \"United States\", \"cluster\": 3, \"pop\": 282338631, \"life_expect\": 77.31, \"fertility\": 2.038}, {\"year\": 2000, \"country\": \"Venezuela\", \"cluster\": 3, \"pop\": 23542649, \"life_expect\": 72.766, \"fertility\": 2.723}]}}, {\"mode\": \"vega-lite\"});\n",
       "</script>"
      ],
      "text/plain": [
       "alt.Chart(...)"
      ]
     },
     "execution_count": 27,
     "metadata": {},
     "output_type": "execute_result"
    }
   ],
   "source": [
    "alt.Chart(data2000).mark_tick().encode(\n",
    "    alt.X('fertility:Q'),\n",
    "    alt.Y('cluster:N'),\n",
    "    alt.Shape('cluster:N')\n",
    ")"
   ]
  },
  {
   "cell_type": "markdown",
   "metadata": {},
   "source": [
    "### 2.4.5 Marcas de Barra"
   ]
  },
  {
   "cell_type": "markdown",
   "metadata": {},
   "source": [
    "O tipo de marca `bar` desenha um retângulo com uma posição, largura e altura.\n",
    "\n",
    "O gráfico abaixo é um gráfico de barras simples da população (`pop`) de cada país."
   ]
  },
  {
   "cell_type": "code",
   "execution_count": 28,
   "metadata": {
    "colab": {
     "base_uri": "https://localhost:8080/",
     "height": 445
    },
    "colab_type": "code",
    "id": "eFN9Kw85xFQK",
    "outputId": "8da431d3-9ba7-4ecf-de55-e478c4527a39"
   },
   "outputs": [
    {
     "data": {
      "text/html": [
       "\n",
       "<div id=\"altair-viz-b7e3c593cb9c4a0bb2cc775acf761950\"></div>\n",
       "<script type=\"text/javascript\">\n",
       "  (function(spec, embedOpt){\n",
       "    let outputDiv = document.currentScript.previousElementSibling;\n",
       "    if (outputDiv.id !== \"altair-viz-b7e3c593cb9c4a0bb2cc775acf761950\") {\n",
       "      outputDiv = document.getElementById(\"altair-viz-b7e3c593cb9c4a0bb2cc775acf761950\");\n",
       "    }\n",
       "    const paths = {\n",
       "      \"vega\": \"https://cdn.jsdelivr.net/npm//vega@5?noext\",\n",
       "      \"vega-lib\": \"https://cdn.jsdelivr.net/npm//vega-lib?noext\",\n",
       "      \"vega-lite\": \"https://cdn.jsdelivr.net/npm//vega-lite@4.8.1?noext\",\n",
       "      \"vega-embed\": \"https://cdn.jsdelivr.net/npm//vega-embed@6?noext\",\n",
       "    };\n",
       "\n",
       "    function loadScript(lib) {\n",
       "      return new Promise(function(resolve, reject) {\n",
       "        var s = document.createElement('script');\n",
       "        s.src = paths[lib];\n",
       "        s.async = true;\n",
       "        s.onload = () => resolve(paths[lib]);\n",
       "        s.onerror = () => reject(`Error loading script: ${paths[lib]}`);\n",
       "        document.getElementsByTagName(\"head\")[0].appendChild(s);\n",
       "      });\n",
       "    }\n",
       "\n",
       "    function showError(err) {\n",
       "      outputDiv.innerHTML = `<div class=\"error\" style=\"color:red;\">${err}</div>`;\n",
       "      throw err;\n",
       "    }\n",
       "\n",
       "    function displayChart(vegaEmbed) {\n",
       "      vegaEmbed(outputDiv, spec, embedOpt)\n",
       "        .catch(err => showError(`Javascript Error: ${err.message}<br>This usually means there's a typo in your chart specification. See the javascript console for the full traceback.`));\n",
       "    }\n",
       "\n",
       "    if(typeof define === \"function\" && define.amd) {\n",
       "      requirejs.config({paths});\n",
       "      require([\"vega-embed\"], displayChart, err => showError(`Error loading script: ${err.message}`));\n",
       "    } else if (typeof vegaEmbed === \"function\") {\n",
       "      displayChart(vegaEmbed);\n",
       "    } else {\n",
       "      loadScript(\"vega\")\n",
       "        .then(() => loadScript(\"vega-lite\"))\n",
       "        .then(() => loadScript(\"vega-embed\"))\n",
       "        .catch(showError)\n",
       "        .then(() => displayChart(vegaEmbed));\n",
       "    }\n",
       "  })({\"config\": {\"view\": {\"continuousWidth\": 400, \"continuousHeight\": 300}}, \"data\": {\"name\": \"data-fdeb0b749a6385830bd1445d39ad6ea0\"}, \"mark\": \"bar\", \"encoding\": {\"x\": {\"type\": \"nominal\", \"field\": \"country\"}, \"y\": {\"type\": \"quantitative\", \"field\": \"pop\"}}, \"$schema\": \"https://vega.github.io/schema/vega-lite/v4.8.1.json\", \"datasets\": {\"data-fdeb0b749a6385830bd1445d39ad6ea0\": [{\"year\": 2000, \"country\": \"Afghanistan\", \"cluster\": 0, \"pop\": 23898198, \"life_expect\": 42.129, \"fertility\": 7.4792}, {\"year\": 2000, \"country\": \"Argentina\", \"cluster\": 3, \"pop\": 37497728, \"life_expect\": 74.34, \"fertility\": 2.35}, {\"year\": 2000, \"country\": \"Aruba\", \"cluster\": 3, \"pop\": 69539, \"life_expect\": 73.451, \"fertility\": 2.124}, {\"year\": 2000, \"country\": \"Australia\", \"cluster\": 4, \"pop\": 19164620, \"life_expect\": 80.37, \"fertility\": 1.756}, {\"year\": 2000, \"country\": \"Austria\", \"cluster\": 1, \"pop\": 8113413, \"life_expect\": 78.98, \"fertility\": 1.3820000000000001}, {\"year\": 2000, \"country\": \"Bahamas\", \"cluster\": 3, \"pop\": 290075, \"life_expect\": 71.068, \"fertility\": 2.1111}, {\"year\": 2000, \"country\": \"Bangladesh\", \"cluster\": 0, \"pop\": 130406594, \"life_expect\": 62.013, \"fertility\": 3.224}, {\"year\": 2000, \"country\": \"Barbados\", \"cluster\": 3, \"pop\": 273483, \"life_expect\": 75.97, \"fertility\": 1.5}, {\"year\": 2000, \"country\": \"Belgium\", \"cluster\": 1, \"pop\": 10263618, \"life_expect\": 78.32, \"fertility\": 1.638}, {\"year\": 2000, \"country\": \"Bolivia\", \"cluster\": 3, \"pop\": 8152620, \"life_expect\": 63.883, \"fertility\": 3.9585}, {\"year\": 2000, \"country\": \"Brazil\", \"cluster\": 3, \"pop\": 175552771, \"life_expect\": 71.006, \"fertility\": 2.345}, {\"year\": 2000, \"country\": \"Canada\", \"cluster\": 3, \"pop\": 31278097, \"life_expect\": 79.77, \"fertility\": 1.522}, {\"year\": 2000, \"country\": \"Chile\", \"cluster\": 3, \"pop\": 15153450, \"life_expect\": 77.86, \"fertility\": 2.0}, {\"year\": 2000, \"country\": \"China\", \"cluster\": 4, \"pop\": 1262645000, \"life_expect\": 72.028, \"fertility\": 1.7000000000000002}, {\"year\": 2000, \"country\": \"Colombia\", \"cluster\": 3, \"pop\": 39685655, \"life_expect\": 71.682, \"fertility\": 2.4705}, {\"year\": 2000, \"country\": \"Costa Rica\", \"cluster\": 3, \"pop\": 3710558, \"life_expect\": 78.123, \"fertility\": 2.2815}, {\"year\": 2000, \"country\": \"Croatia\", \"cluster\": 1, \"pop\": 4410830, \"life_expect\": 74.876, \"fertility\": 1.348}, {\"year\": 2000, \"country\": \"Cuba\", \"cluster\": 3, \"pop\": 11134273, \"life_expect\": 77.158, \"fertility\": 1.63}, {\"year\": 2000, \"country\": \"Dominican Republic\", \"cluster\": 3, \"pop\": 8385828, \"life_expect\": 70.847, \"fertility\": 2.95}, {\"year\": 2000, \"country\": \"Ecuador\", \"cluster\": 3, \"pop\": 12505204, \"life_expect\": 74.173, \"fertility\": 2.8175}, {\"year\": 2000, \"country\": \"Egypt\", \"cluster\": 5, \"pop\": 70492342, \"life_expect\": 69.806, \"fertility\": 3.174}, {\"year\": 2000, \"country\": \"El Salvador\", \"cluster\": 3, \"pop\": 6122515, \"life_expect\": 70.734, \"fertility\": 2.883}, {\"year\": 2000, \"country\": \"Finland\", \"cluster\": 1, \"pop\": 5168595, \"life_expect\": 78.37, \"fertility\": 1.754}, {\"year\": 2000, \"country\": \"France\", \"cluster\": 1, \"pop\": 59381628, \"life_expect\": 79.59, \"fertility\": 1.8833000000000002}, {\"year\": 2000, \"country\": \"Georgia\", \"cluster\": 1, \"pop\": 4777209, \"life_expect\": 70.476, \"fertility\": 1.478}, {\"year\": 2000, \"country\": \"Germany\", \"cluster\": 1, \"pop\": 82187909, \"life_expect\": 78.67, \"fertility\": 1.346}, {\"year\": 2000, \"country\": \"Greece\", \"cluster\": 1, \"pop\": 10559110, \"life_expect\": 78.256, \"fertility\": 1.2770000000000001}, {\"year\": 2000, \"country\": \"Grenada\", \"cluster\": 3, \"pop\": 89312, \"life_expect\": 67.746, \"fertility\": 2.429}, {\"year\": 2000, \"country\": \"Haiti\", \"cluster\": 3, \"pop\": 7306302, \"life_expect\": 58.137, \"fertility\": 4.0}, {\"year\": 2000, \"country\": \"Hong Kong\", \"cluster\": 4, \"pop\": 6658720, \"life_expect\": 81.495, \"fertility\": 0.9400000000000001}, {\"year\": 2000, \"country\": \"Iceland\", \"cluster\": 1, \"pop\": 281043, \"life_expect\": 80.5, \"fertility\": 1.9929999999999999}, {\"year\": 2000, \"country\": \"India\", \"cluster\": 0, \"pop\": 1007702000, \"life_expect\": 62.879, \"fertility\": 3.1132}, {\"year\": 2000, \"country\": \"Indonesia\", \"cluster\": 4, \"pop\": 206265000, \"life_expect\": 68.588, \"fertility\": 2.3761}, {\"year\": 2000, \"country\": \"Iran\", \"cluster\": 5, \"pop\": 65660289, \"life_expect\": 69.451, \"fertility\": 2.124}, {\"year\": 2000, \"country\": \"Iraq\", \"cluster\": 5, \"pop\": 22675617, \"life_expect\": 57.046, \"fertility\": 4.858}, {\"year\": 2000, \"country\": \"Ireland\", \"cluster\": 1, \"pop\": 3791690, \"life_expect\": 77.783, \"fertility\": 1.9689999999999999}, {\"year\": 2000, \"country\": \"Israel\", \"cluster\": 5, \"pop\": 5842454, \"life_expect\": 79.696, \"fertility\": 2.906}, {\"year\": 2000, \"country\": \"Italy\", \"cluster\": 1, \"pop\": 57719337, \"life_expect\": 80.24, \"fertility\": 1.286}, {\"year\": 2000, \"country\": \"Jamaica\", \"cluster\": 3, \"pop\": 2615467, \"life_expect\": 72.047, \"fertility\": 2.628}, {\"year\": 2000, \"country\": \"Japan\", \"cluster\": 4, \"pop\": 126699784, \"life_expect\": 82.0, \"fertility\": 1.291}, {\"year\": 2000, \"country\": \"Kenya\", \"cluster\": 2, \"pop\": 29985839, \"life_expect\": 50.992, \"fertility\": 5.0}, {\"year\": 2000, \"country\": \"South Korea\", \"cluster\": 4, \"pop\": 21647682, \"life_expect\": 66.662, \"fertility\": 1.9173}, {\"year\": 2000, \"country\": \"North Korea\", \"cluster\": 4, \"pop\": 47351083, \"life_expect\": 77.045, \"fertility\": 1.242}, {\"year\": 2000, \"country\": \"Lebanon\", \"cluster\": 5, \"pop\": 3578036, \"life_expect\": 71.028, \"fertility\": 2.319}, {\"year\": 2000, \"country\": \"Mexico\", \"cluster\": 3, \"pop\": 99926620, \"life_expect\": 74.902, \"fertility\": 2.4005}, {\"year\": 2000, \"country\": \"Netherlands\", \"cluster\": 1, \"pop\": 15907853, \"life_expect\": 78.53, \"fertility\": 1.726}, {\"year\": 2000, \"country\": \"New Zealand\", \"cluster\": 4, \"pop\": 3819762, \"life_expect\": 79.11, \"fertility\": 1.964}, {\"year\": 2000, \"country\": \"Nigeria\", \"cluster\": 2, \"pop\": 114306700, \"life_expect\": 46.608, \"fertility\": 5.845}, {\"year\": 2000, \"country\": \"Norway\", \"cluster\": 1, \"pop\": 4492400, \"life_expect\": 79.05, \"fertility\": 1.8010000000000002}, {\"year\": 2000, \"country\": \"Pakistan\", \"cluster\": 0, \"pop\": 146342958, \"life_expect\": 63.61, \"fertility\": 3.9936}, {\"year\": 2000, \"country\": \"Peru\", \"cluster\": 3, \"pop\": 25979722, \"life_expect\": 69.906, \"fertility\": 2.7005}, {\"year\": 2000, \"country\": \"Philippines\", \"cluster\": 4, \"pop\": 79739825, \"life_expect\": 70.303, \"fertility\": 3.5436}, {\"year\": 2000, \"country\": \"Poland\", \"cluster\": 1, \"pop\": 38654164, \"life_expect\": 74.67, \"fertility\": 1.251}, {\"year\": 2000, \"country\": \"Portugal\", \"cluster\": 1, \"pop\": 10335597, \"life_expect\": 77.29, \"fertility\": 1.454}, {\"year\": 2000, \"country\": \"Rwanda\", \"cluster\": 2, \"pop\": 7507056, \"life_expect\": 43.413, \"fertility\": 6.01}, {\"year\": 2000, \"country\": \"Saudi Arabia\", \"cluster\": 5, \"pop\": 23153090, \"life_expect\": 71.626, \"fertility\": 3.81}, {\"year\": 2000, \"country\": \"South Africa\", \"cluster\": 2, \"pop\": 44066197, \"life_expect\": 53.365, \"fertility\": 2.802}, {\"year\": 2000, \"country\": \"Spain\", \"cluster\": 1, \"pop\": 40016081, \"life_expect\": 79.78, \"fertility\": 1.287}, {\"year\": 2000, \"country\": \"Switzerland\", \"cluster\": 1, \"pop\": 7266920, \"life_expect\": 80.62, \"fertility\": 1.415}, {\"year\": 2000, \"country\": \"Turkey\", \"cluster\": 1, \"pop\": 65666677, \"life_expect\": 70.845, \"fertility\": 2.23}, {\"year\": 2000, \"country\": \"United Kingdom\", \"cluster\": 1, \"pop\": 59522468, \"life_expect\": 78.471, \"fertility\": 1.695}, {\"year\": 2000, \"country\": \"United States\", \"cluster\": 3, \"pop\": 282338631, \"life_expect\": 77.31, \"fertility\": 2.038}, {\"year\": 2000, \"country\": \"Venezuela\", \"cluster\": 3, \"pop\": 23542649, \"life_expect\": 72.766, \"fertility\": 2.723}]}}, {\"mode\": \"vega-lite\"});\n",
       "</script>"
      ],
      "text/plain": [
       "alt.Chart(...)"
      ]
     },
     "execution_count": 28,
     "metadata": {},
     "output_type": "execute_result"
    }
   ],
   "source": [
    "alt.Chart(data2000).mark_bar().encode(\n",
    "    alt.X('country:N'),\n",
    "    alt.Y('pop:Q')\n",
    ")"
   ]
  },
  {
   "cell_type": "markdown",
   "metadata": {},
   "source": [
    "\n",
    "A largura da barra é definida por um tamanho padrão. Vamos discutir como ajustar a largura da barra mais adiante neste notebook. (Um notebook subsequente analisará com mais detalhes como configurar os eixos, escalas e legendas.)\n",
    "\n",
    "As barras também podem ser empilhadas. Vamos mudar a codificação de `x` para usar o campo `cluster`, e codificar `country` usando o canal `color`. Também desativaremos a legenda (que seria muito longa com as cores de todos os países!) e usaremos tooltips para o nome do país."
   ]
  },
  {
   "cell_type": "code",
   "execution_count": 29,
   "metadata": {
    "colab": {
     "base_uri": "https://localhost:8080/",
     "height": 368
    },
    "colab_type": "code",
    "id": "x9maAWhOxsrq",
    "outputId": "7960be03-eefd-4c3f-a114-8405395c772c"
   },
   "outputs": [
    {
     "data": {
      "text/html": [
       "\n",
       "<div id=\"altair-viz-77700e0539644fe18b437031ae0d7a6f\"></div>\n",
       "<script type=\"text/javascript\">\n",
       "  (function(spec, embedOpt){\n",
       "    let outputDiv = document.currentScript.previousElementSibling;\n",
       "    if (outputDiv.id !== \"altair-viz-77700e0539644fe18b437031ae0d7a6f\") {\n",
       "      outputDiv = document.getElementById(\"altair-viz-77700e0539644fe18b437031ae0d7a6f\");\n",
       "    }\n",
       "    const paths = {\n",
       "      \"vega\": \"https://cdn.jsdelivr.net/npm//vega@5?noext\",\n",
       "      \"vega-lib\": \"https://cdn.jsdelivr.net/npm//vega-lib?noext\",\n",
       "      \"vega-lite\": \"https://cdn.jsdelivr.net/npm//vega-lite@4.8.1?noext\",\n",
       "      \"vega-embed\": \"https://cdn.jsdelivr.net/npm//vega-embed@6?noext\",\n",
       "    };\n",
       "\n",
       "    function loadScript(lib) {\n",
       "      return new Promise(function(resolve, reject) {\n",
       "        var s = document.createElement('script');\n",
       "        s.src = paths[lib];\n",
       "        s.async = true;\n",
       "        s.onload = () => resolve(paths[lib]);\n",
       "        s.onerror = () => reject(`Error loading script: ${paths[lib]}`);\n",
       "        document.getElementsByTagName(\"head\")[0].appendChild(s);\n",
       "      });\n",
       "    }\n",
       "\n",
       "    function showError(err) {\n",
       "      outputDiv.innerHTML = `<div class=\"error\" style=\"color:red;\">${err}</div>`;\n",
       "      throw err;\n",
       "    }\n",
       "\n",
       "    function displayChart(vegaEmbed) {\n",
       "      vegaEmbed(outputDiv, spec, embedOpt)\n",
       "        .catch(err => showError(`Javascript Error: ${err.message}<br>This usually means there's a typo in your chart specification. See the javascript console for the full traceback.`));\n",
       "    }\n",
       "\n",
       "    if(typeof define === \"function\" && define.amd) {\n",
       "      requirejs.config({paths});\n",
       "      require([\"vega-embed\"], displayChart, err => showError(`Error loading script: ${err.message}`));\n",
       "    } else if (typeof vegaEmbed === \"function\") {\n",
       "      displayChart(vegaEmbed);\n",
       "    } else {\n",
       "      loadScript(\"vega\")\n",
       "        .then(() => loadScript(\"vega-lite\"))\n",
       "        .then(() => loadScript(\"vega-embed\"))\n",
       "        .catch(showError)\n",
       "        .then(() => displayChart(vegaEmbed));\n",
       "    }\n",
       "  })({\"config\": {\"view\": {\"continuousWidth\": 400, \"continuousHeight\": 300}}, \"data\": {\"name\": \"data-fdeb0b749a6385830bd1445d39ad6ea0\"}, \"mark\": \"bar\", \"encoding\": {\"color\": {\"type\": \"nominal\", \"field\": \"country\", \"legend\": null}, \"tooltip\": {\"type\": \"nominal\", \"field\": \"country\"}, \"x\": {\"type\": \"nominal\", \"field\": \"cluster\"}, \"y\": {\"type\": \"quantitative\", \"field\": \"pop\"}}, \"$schema\": \"https://vega.github.io/schema/vega-lite/v4.8.1.json\", \"datasets\": {\"data-fdeb0b749a6385830bd1445d39ad6ea0\": [{\"year\": 2000, \"country\": \"Afghanistan\", \"cluster\": 0, \"pop\": 23898198, \"life_expect\": 42.129, \"fertility\": 7.4792}, {\"year\": 2000, \"country\": \"Argentina\", \"cluster\": 3, \"pop\": 37497728, \"life_expect\": 74.34, \"fertility\": 2.35}, {\"year\": 2000, \"country\": \"Aruba\", \"cluster\": 3, \"pop\": 69539, \"life_expect\": 73.451, \"fertility\": 2.124}, {\"year\": 2000, \"country\": \"Australia\", \"cluster\": 4, \"pop\": 19164620, \"life_expect\": 80.37, \"fertility\": 1.756}, {\"year\": 2000, \"country\": \"Austria\", \"cluster\": 1, \"pop\": 8113413, \"life_expect\": 78.98, \"fertility\": 1.3820000000000001}, {\"year\": 2000, \"country\": \"Bahamas\", \"cluster\": 3, \"pop\": 290075, \"life_expect\": 71.068, \"fertility\": 2.1111}, {\"year\": 2000, \"country\": \"Bangladesh\", \"cluster\": 0, \"pop\": 130406594, \"life_expect\": 62.013, \"fertility\": 3.224}, {\"year\": 2000, \"country\": \"Barbados\", \"cluster\": 3, \"pop\": 273483, \"life_expect\": 75.97, \"fertility\": 1.5}, {\"year\": 2000, \"country\": \"Belgium\", \"cluster\": 1, \"pop\": 10263618, \"life_expect\": 78.32, \"fertility\": 1.638}, {\"year\": 2000, \"country\": \"Bolivia\", \"cluster\": 3, \"pop\": 8152620, \"life_expect\": 63.883, \"fertility\": 3.9585}, {\"year\": 2000, \"country\": \"Brazil\", \"cluster\": 3, \"pop\": 175552771, \"life_expect\": 71.006, \"fertility\": 2.345}, {\"year\": 2000, \"country\": \"Canada\", \"cluster\": 3, \"pop\": 31278097, \"life_expect\": 79.77, \"fertility\": 1.522}, {\"year\": 2000, \"country\": \"Chile\", \"cluster\": 3, \"pop\": 15153450, \"life_expect\": 77.86, \"fertility\": 2.0}, {\"year\": 2000, \"country\": \"China\", \"cluster\": 4, \"pop\": 1262645000, \"life_expect\": 72.028, \"fertility\": 1.7000000000000002}, {\"year\": 2000, \"country\": \"Colombia\", \"cluster\": 3, \"pop\": 39685655, \"life_expect\": 71.682, \"fertility\": 2.4705}, {\"year\": 2000, \"country\": \"Costa Rica\", \"cluster\": 3, \"pop\": 3710558, \"life_expect\": 78.123, \"fertility\": 2.2815}, {\"year\": 2000, \"country\": \"Croatia\", \"cluster\": 1, \"pop\": 4410830, \"life_expect\": 74.876, \"fertility\": 1.348}, {\"year\": 2000, \"country\": \"Cuba\", \"cluster\": 3, \"pop\": 11134273, \"life_expect\": 77.158, \"fertility\": 1.63}, {\"year\": 2000, \"country\": \"Dominican Republic\", \"cluster\": 3, \"pop\": 8385828, \"life_expect\": 70.847, \"fertility\": 2.95}, {\"year\": 2000, \"country\": \"Ecuador\", \"cluster\": 3, \"pop\": 12505204, \"life_expect\": 74.173, \"fertility\": 2.8175}, {\"year\": 2000, \"country\": \"Egypt\", \"cluster\": 5, \"pop\": 70492342, \"life_expect\": 69.806, \"fertility\": 3.174}, {\"year\": 2000, \"country\": \"El Salvador\", \"cluster\": 3, \"pop\": 6122515, \"life_expect\": 70.734, \"fertility\": 2.883}, {\"year\": 2000, \"country\": \"Finland\", \"cluster\": 1, \"pop\": 5168595, \"life_expect\": 78.37, \"fertility\": 1.754}, {\"year\": 2000, \"country\": \"France\", \"cluster\": 1, \"pop\": 59381628, \"life_expect\": 79.59, \"fertility\": 1.8833000000000002}, {\"year\": 2000, \"country\": \"Georgia\", \"cluster\": 1, \"pop\": 4777209, \"life_expect\": 70.476, \"fertility\": 1.478}, {\"year\": 2000, \"country\": \"Germany\", \"cluster\": 1, \"pop\": 82187909, \"life_expect\": 78.67, \"fertility\": 1.346}, {\"year\": 2000, \"country\": \"Greece\", \"cluster\": 1, \"pop\": 10559110, \"life_expect\": 78.256, \"fertility\": 1.2770000000000001}, {\"year\": 2000, \"country\": \"Grenada\", \"cluster\": 3, \"pop\": 89312, \"life_expect\": 67.746, \"fertility\": 2.429}, {\"year\": 2000, \"country\": \"Haiti\", \"cluster\": 3, \"pop\": 7306302, \"life_expect\": 58.137, \"fertility\": 4.0}, {\"year\": 2000, \"country\": \"Hong Kong\", \"cluster\": 4, \"pop\": 6658720, \"life_expect\": 81.495, \"fertility\": 0.9400000000000001}, {\"year\": 2000, \"country\": \"Iceland\", \"cluster\": 1, \"pop\": 281043, \"life_expect\": 80.5, \"fertility\": 1.9929999999999999}, {\"year\": 2000, \"country\": \"India\", \"cluster\": 0, \"pop\": 1007702000, \"life_expect\": 62.879, \"fertility\": 3.1132}, {\"year\": 2000, \"country\": \"Indonesia\", \"cluster\": 4, \"pop\": 206265000, \"life_expect\": 68.588, \"fertility\": 2.3761}, {\"year\": 2000, \"country\": \"Iran\", \"cluster\": 5, \"pop\": 65660289, \"life_expect\": 69.451, \"fertility\": 2.124}, {\"year\": 2000, \"country\": \"Iraq\", \"cluster\": 5, \"pop\": 22675617, \"life_expect\": 57.046, \"fertility\": 4.858}, {\"year\": 2000, \"country\": \"Ireland\", \"cluster\": 1, \"pop\": 3791690, \"life_expect\": 77.783, \"fertility\": 1.9689999999999999}, {\"year\": 2000, \"country\": \"Israel\", \"cluster\": 5, \"pop\": 5842454, \"life_expect\": 79.696, \"fertility\": 2.906}, {\"year\": 2000, \"country\": \"Italy\", \"cluster\": 1, \"pop\": 57719337, \"life_expect\": 80.24, \"fertility\": 1.286}, {\"year\": 2000, \"country\": \"Jamaica\", \"cluster\": 3, \"pop\": 2615467, \"life_expect\": 72.047, \"fertility\": 2.628}, {\"year\": 2000, \"country\": \"Japan\", \"cluster\": 4, \"pop\": 126699784, \"life_expect\": 82.0, \"fertility\": 1.291}, {\"year\": 2000, \"country\": \"Kenya\", \"cluster\": 2, \"pop\": 29985839, \"life_expect\": 50.992, \"fertility\": 5.0}, {\"year\": 2000, \"country\": \"South Korea\", \"cluster\": 4, \"pop\": 21647682, \"life_expect\": 66.662, \"fertility\": 1.9173}, {\"year\": 2000, \"country\": \"North Korea\", \"cluster\": 4, \"pop\": 47351083, \"life_expect\": 77.045, \"fertility\": 1.242}, {\"year\": 2000, \"country\": \"Lebanon\", \"cluster\": 5, \"pop\": 3578036, \"life_expect\": 71.028, \"fertility\": 2.319}, {\"year\": 2000, \"country\": \"Mexico\", \"cluster\": 3, \"pop\": 99926620, \"life_expect\": 74.902, \"fertility\": 2.4005}, {\"year\": 2000, \"country\": \"Netherlands\", \"cluster\": 1, \"pop\": 15907853, \"life_expect\": 78.53, \"fertility\": 1.726}, {\"year\": 2000, \"country\": \"New Zealand\", \"cluster\": 4, \"pop\": 3819762, \"life_expect\": 79.11, \"fertility\": 1.964}, {\"year\": 2000, \"country\": \"Nigeria\", \"cluster\": 2, \"pop\": 114306700, \"life_expect\": 46.608, \"fertility\": 5.845}, {\"year\": 2000, \"country\": \"Norway\", \"cluster\": 1, \"pop\": 4492400, \"life_expect\": 79.05, \"fertility\": 1.8010000000000002}, {\"year\": 2000, \"country\": \"Pakistan\", \"cluster\": 0, \"pop\": 146342958, \"life_expect\": 63.61, \"fertility\": 3.9936}, {\"year\": 2000, \"country\": \"Peru\", \"cluster\": 3, \"pop\": 25979722, \"life_expect\": 69.906, \"fertility\": 2.7005}, {\"year\": 2000, \"country\": \"Philippines\", \"cluster\": 4, \"pop\": 79739825, \"life_expect\": 70.303, \"fertility\": 3.5436}, {\"year\": 2000, \"country\": \"Poland\", \"cluster\": 1, \"pop\": 38654164, \"life_expect\": 74.67, \"fertility\": 1.251}, {\"year\": 2000, \"country\": \"Portugal\", \"cluster\": 1, \"pop\": 10335597, \"life_expect\": 77.29, \"fertility\": 1.454}, {\"year\": 2000, \"country\": \"Rwanda\", \"cluster\": 2, \"pop\": 7507056, \"life_expect\": 43.413, \"fertility\": 6.01}, {\"year\": 2000, \"country\": \"Saudi Arabia\", \"cluster\": 5, \"pop\": 23153090, \"life_expect\": 71.626, \"fertility\": 3.81}, {\"year\": 2000, \"country\": \"South Africa\", \"cluster\": 2, \"pop\": 44066197, \"life_expect\": 53.365, \"fertility\": 2.802}, {\"year\": 2000, \"country\": \"Spain\", \"cluster\": 1, \"pop\": 40016081, \"life_expect\": 79.78, \"fertility\": 1.287}, {\"year\": 2000, \"country\": \"Switzerland\", \"cluster\": 1, \"pop\": 7266920, \"life_expect\": 80.62, \"fertility\": 1.415}, {\"year\": 2000, \"country\": \"Turkey\", \"cluster\": 1, \"pop\": 65666677, \"life_expect\": 70.845, \"fertility\": 2.23}, {\"year\": 2000, \"country\": \"United Kingdom\", \"cluster\": 1, \"pop\": 59522468, \"life_expect\": 78.471, \"fertility\": 1.695}, {\"year\": 2000, \"country\": \"United States\", \"cluster\": 3, \"pop\": 282338631, \"life_expect\": 77.31, \"fertility\": 2.038}, {\"year\": 2000, \"country\": \"Venezuela\", \"cluster\": 3, \"pop\": 23542649, \"life_expect\": 72.766, \"fertility\": 2.723}]}}, {\"mode\": \"vega-lite\"});\n",
       "</script>"
      ],
      "text/plain": [
       "alt.Chart(...)"
      ]
     },
     "execution_count": 29,
     "metadata": {},
     "output_type": "execute_result"
    }
   ],
   "source": [
    "alt.Chart(data2000).mark_bar().encode(\n",
    "    alt.X('cluster:N'),\n",
    "    alt.Y('pop:Q'),\n",
    "    alt.Color('country:N', legend=None),\n",
    "    alt.Tooltip('country:N')\n",
    ")"
   ]
  },
  {
   "cell_type": "markdown",
   "metadata": {},
   "source": [
    "\n",
    "No gráfico acima, o uso do canal de codificação `color` faz com que o Altair / Vega-Lite empilhe automaticamente as marcas de barra. Caso contrário, as barras seriam desenhadas uma sobre a outra! Tente adicionar o parâmetro `stack=None` ao canal de codificação `y` para ver o que acontece se não aplicarmos o empilhamento...\n",
    "\n",
    "Os exemplos acima criam gráficos de barras a partir de uma linha de base zero, e o canal `y` codifica apenas o valor (ou altura) não nulo da barra. No entanto, a marca de barra também permite especificar pontos de início e fim para transmitir intervalos.\n",
    "\n",
    "O gráfico abaixo usa os canais `x` (ponto de início) e `x2` (ponto de fim) para mostrar o intervalo de expectativas de vida dentro de cada cluster regional. Abaixo, usamos as funções de agregação `min` e `max` para determinar os pontos finais do intervalo; discutiremos agregação com mais detalhes no próximo notebook!\n",
    "\n",
    "Alternativamente, você pode usar `x` e `width` para fornecer um ponto de início mais um deslocamento, tal que `x2 = x + width`."
   ]
  },
  {
   "cell_type": "code",
   "execution_count": 30,
   "metadata": {
    "colab": {
     "base_uri": "https://localhost:8080/",
     "height": 192
    },
    "colab_type": "code",
    "id": "NxEVEQLj0l9t",
    "outputId": "2fa67514-b66c-4449-a1e3-c0b1b377ed3a"
   },
   "outputs": [
    {
     "data": {
      "text/html": [
       "\n",
       "<div id=\"altair-viz-93a4f60d781b4fdb9fb2dbf1d78cf284\"></div>\n",
       "<script type=\"text/javascript\">\n",
       "  (function(spec, embedOpt){\n",
       "    let outputDiv = document.currentScript.previousElementSibling;\n",
       "    if (outputDiv.id !== \"altair-viz-93a4f60d781b4fdb9fb2dbf1d78cf284\") {\n",
       "      outputDiv = document.getElementById(\"altair-viz-93a4f60d781b4fdb9fb2dbf1d78cf284\");\n",
       "    }\n",
       "    const paths = {\n",
       "      \"vega\": \"https://cdn.jsdelivr.net/npm//vega@5?noext\",\n",
       "      \"vega-lib\": \"https://cdn.jsdelivr.net/npm//vega-lib?noext\",\n",
       "      \"vega-lite\": \"https://cdn.jsdelivr.net/npm//vega-lite@4.8.1?noext\",\n",
       "      \"vega-embed\": \"https://cdn.jsdelivr.net/npm//vega-embed@6?noext\",\n",
       "    };\n",
       "\n",
       "    function loadScript(lib) {\n",
       "      return new Promise(function(resolve, reject) {\n",
       "        var s = document.createElement('script');\n",
       "        s.src = paths[lib];\n",
       "        s.async = true;\n",
       "        s.onload = () => resolve(paths[lib]);\n",
       "        s.onerror = () => reject(`Error loading script: ${paths[lib]}`);\n",
       "        document.getElementsByTagName(\"head\")[0].appendChild(s);\n",
       "      });\n",
       "    }\n",
       "\n",
       "    function showError(err) {\n",
       "      outputDiv.innerHTML = `<div class=\"error\" style=\"color:red;\">${err}</div>`;\n",
       "      throw err;\n",
       "    }\n",
       "\n",
       "    function displayChart(vegaEmbed) {\n",
       "      vegaEmbed(outputDiv, spec, embedOpt)\n",
       "        .catch(err => showError(`Javascript Error: ${err.message}<br>This usually means there's a typo in your chart specification. See the javascript console for the full traceback.`));\n",
       "    }\n",
       "\n",
       "    if(typeof define === \"function\" && define.amd) {\n",
       "      requirejs.config({paths});\n",
       "      require([\"vega-embed\"], displayChart, err => showError(`Error loading script: ${err.message}`));\n",
       "    } else if (typeof vegaEmbed === \"function\") {\n",
       "      displayChart(vegaEmbed);\n",
       "    } else {\n",
       "      loadScript(\"vega\")\n",
       "        .then(() => loadScript(\"vega-lite\"))\n",
       "        .then(() => loadScript(\"vega-embed\"))\n",
       "        .catch(showError)\n",
       "        .then(() => displayChart(vegaEmbed));\n",
       "    }\n",
       "  })({\"config\": {\"view\": {\"continuousWidth\": 400, \"continuousHeight\": 300}}, \"data\": {\"name\": \"data-fdeb0b749a6385830bd1445d39ad6ea0\"}, \"mark\": \"bar\", \"encoding\": {\"x\": {\"type\": \"quantitative\", \"aggregate\": \"min\", \"field\": \"life_expect\"}, \"x2\": {\"aggregate\": \"max\", \"field\": \"life_expect\"}, \"y\": {\"type\": \"nominal\", \"field\": \"cluster\"}}, \"$schema\": \"https://vega.github.io/schema/vega-lite/v4.8.1.json\", \"datasets\": {\"data-fdeb0b749a6385830bd1445d39ad6ea0\": [{\"year\": 2000, \"country\": \"Afghanistan\", \"cluster\": 0, \"pop\": 23898198, \"life_expect\": 42.129, \"fertility\": 7.4792}, {\"year\": 2000, \"country\": \"Argentina\", \"cluster\": 3, \"pop\": 37497728, \"life_expect\": 74.34, \"fertility\": 2.35}, {\"year\": 2000, \"country\": \"Aruba\", \"cluster\": 3, \"pop\": 69539, \"life_expect\": 73.451, \"fertility\": 2.124}, {\"year\": 2000, \"country\": \"Australia\", \"cluster\": 4, \"pop\": 19164620, \"life_expect\": 80.37, \"fertility\": 1.756}, {\"year\": 2000, \"country\": \"Austria\", \"cluster\": 1, \"pop\": 8113413, \"life_expect\": 78.98, \"fertility\": 1.3820000000000001}, {\"year\": 2000, \"country\": \"Bahamas\", \"cluster\": 3, \"pop\": 290075, \"life_expect\": 71.068, \"fertility\": 2.1111}, {\"year\": 2000, \"country\": \"Bangladesh\", \"cluster\": 0, \"pop\": 130406594, \"life_expect\": 62.013, \"fertility\": 3.224}, {\"year\": 2000, \"country\": \"Barbados\", \"cluster\": 3, \"pop\": 273483, \"life_expect\": 75.97, \"fertility\": 1.5}, {\"year\": 2000, \"country\": \"Belgium\", \"cluster\": 1, \"pop\": 10263618, \"life_expect\": 78.32, \"fertility\": 1.638}, {\"year\": 2000, \"country\": \"Bolivia\", \"cluster\": 3, \"pop\": 8152620, \"life_expect\": 63.883, \"fertility\": 3.9585}, {\"year\": 2000, \"country\": \"Brazil\", \"cluster\": 3, \"pop\": 175552771, \"life_expect\": 71.006, \"fertility\": 2.345}, {\"year\": 2000, \"country\": \"Canada\", \"cluster\": 3, \"pop\": 31278097, \"life_expect\": 79.77, \"fertility\": 1.522}, {\"year\": 2000, \"country\": \"Chile\", \"cluster\": 3, \"pop\": 15153450, \"life_expect\": 77.86, \"fertility\": 2.0}, {\"year\": 2000, \"country\": \"China\", \"cluster\": 4, \"pop\": 1262645000, \"life_expect\": 72.028, \"fertility\": 1.7000000000000002}, {\"year\": 2000, \"country\": \"Colombia\", \"cluster\": 3, \"pop\": 39685655, \"life_expect\": 71.682, \"fertility\": 2.4705}, {\"year\": 2000, \"country\": \"Costa Rica\", \"cluster\": 3, \"pop\": 3710558, \"life_expect\": 78.123, \"fertility\": 2.2815}, {\"year\": 2000, \"country\": \"Croatia\", \"cluster\": 1, \"pop\": 4410830, \"life_expect\": 74.876, \"fertility\": 1.348}, {\"year\": 2000, \"country\": \"Cuba\", \"cluster\": 3, \"pop\": 11134273, \"life_expect\": 77.158, \"fertility\": 1.63}, {\"year\": 2000, \"country\": \"Dominican Republic\", \"cluster\": 3, \"pop\": 8385828, \"life_expect\": 70.847, \"fertility\": 2.95}, {\"year\": 2000, \"country\": \"Ecuador\", \"cluster\": 3, \"pop\": 12505204, \"life_expect\": 74.173, \"fertility\": 2.8175}, {\"year\": 2000, \"country\": \"Egypt\", \"cluster\": 5, \"pop\": 70492342, \"life_expect\": 69.806, \"fertility\": 3.174}, {\"year\": 2000, \"country\": \"El Salvador\", \"cluster\": 3, \"pop\": 6122515, \"life_expect\": 70.734, \"fertility\": 2.883}, {\"year\": 2000, \"country\": \"Finland\", \"cluster\": 1, \"pop\": 5168595, \"life_expect\": 78.37, \"fertility\": 1.754}, {\"year\": 2000, \"country\": \"France\", \"cluster\": 1, \"pop\": 59381628, \"life_expect\": 79.59, \"fertility\": 1.8833000000000002}, {\"year\": 2000, \"country\": \"Georgia\", \"cluster\": 1, \"pop\": 4777209, \"life_expect\": 70.476, \"fertility\": 1.478}, {\"year\": 2000, \"country\": \"Germany\", \"cluster\": 1, \"pop\": 82187909, \"life_expect\": 78.67, \"fertility\": 1.346}, {\"year\": 2000, \"country\": \"Greece\", \"cluster\": 1, \"pop\": 10559110, \"life_expect\": 78.256, \"fertility\": 1.2770000000000001}, {\"year\": 2000, \"country\": \"Grenada\", \"cluster\": 3, \"pop\": 89312, \"life_expect\": 67.746, \"fertility\": 2.429}, {\"year\": 2000, \"country\": \"Haiti\", \"cluster\": 3, \"pop\": 7306302, \"life_expect\": 58.137, \"fertility\": 4.0}, {\"year\": 2000, \"country\": \"Hong Kong\", \"cluster\": 4, \"pop\": 6658720, \"life_expect\": 81.495, \"fertility\": 0.9400000000000001}, {\"year\": 2000, \"country\": \"Iceland\", \"cluster\": 1, \"pop\": 281043, \"life_expect\": 80.5, \"fertility\": 1.9929999999999999}, {\"year\": 2000, \"country\": \"India\", \"cluster\": 0, \"pop\": 1007702000, \"life_expect\": 62.879, \"fertility\": 3.1132}, {\"year\": 2000, \"country\": \"Indonesia\", \"cluster\": 4, \"pop\": 206265000, \"life_expect\": 68.588, \"fertility\": 2.3761}, {\"year\": 2000, \"country\": \"Iran\", \"cluster\": 5, \"pop\": 65660289, \"life_expect\": 69.451, \"fertility\": 2.124}, {\"year\": 2000, \"country\": \"Iraq\", \"cluster\": 5, \"pop\": 22675617, \"life_expect\": 57.046, \"fertility\": 4.858}, {\"year\": 2000, \"country\": \"Ireland\", \"cluster\": 1, \"pop\": 3791690, \"life_expect\": 77.783, \"fertility\": 1.9689999999999999}, {\"year\": 2000, \"country\": \"Israel\", \"cluster\": 5, \"pop\": 5842454, \"life_expect\": 79.696, \"fertility\": 2.906}, {\"year\": 2000, \"country\": \"Italy\", \"cluster\": 1, \"pop\": 57719337, \"life_expect\": 80.24, \"fertility\": 1.286}, {\"year\": 2000, \"country\": \"Jamaica\", \"cluster\": 3, \"pop\": 2615467, \"life_expect\": 72.047, \"fertility\": 2.628}, {\"year\": 2000, \"country\": \"Japan\", \"cluster\": 4, \"pop\": 126699784, \"life_expect\": 82.0, \"fertility\": 1.291}, {\"year\": 2000, \"country\": \"Kenya\", \"cluster\": 2, \"pop\": 29985839, \"life_expect\": 50.992, \"fertility\": 5.0}, {\"year\": 2000, \"country\": \"South Korea\", \"cluster\": 4, \"pop\": 21647682, \"life_expect\": 66.662, \"fertility\": 1.9173}, {\"year\": 2000, \"country\": \"North Korea\", \"cluster\": 4, \"pop\": 47351083, \"life_expect\": 77.045, \"fertility\": 1.242}, {\"year\": 2000, \"country\": \"Lebanon\", \"cluster\": 5, \"pop\": 3578036, \"life_expect\": 71.028, \"fertility\": 2.319}, {\"year\": 2000, \"country\": \"Mexico\", \"cluster\": 3, \"pop\": 99926620, \"life_expect\": 74.902, \"fertility\": 2.4005}, {\"year\": 2000, \"country\": \"Netherlands\", \"cluster\": 1, \"pop\": 15907853, \"life_expect\": 78.53, \"fertility\": 1.726}, {\"year\": 2000, \"country\": \"New Zealand\", \"cluster\": 4, \"pop\": 3819762, \"life_expect\": 79.11, \"fertility\": 1.964}, {\"year\": 2000, \"country\": \"Nigeria\", \"cluster\": 2, \"pop\": 114306700, \"life_expect\": 46.608, \"fertility\": 5.845}, {\"year\": 2000, \"country\": \"Norway\", \"cluster\": 1, \"pop\": 4492400, \"life_expect\": 79.05, \"fertility\": 1.8010000000000002}, {\"year\": 2000, \"country\": \"Pakistan\", \"cluster\": 0, \"pop\": 146342958, \"life_expect\": 63.61, \"fertility\": 3.9936}, {\"year\": 2000, \"country\": \"Peru\", \"cluster\": 3, \"pop\": 25979722, \"life_expect\": 69.906, \"fertility\": 2.7005}, {\"year\": 2000, \"country\": \"Philippines\", \"cluster\": 4, \"pop\": 79739825, \"life_expect\": 70.303, \"fertility\": 3.5436}, {\"year\": 2000, \"country\": \"Poland\", \"cluster\": 1, \"pop\": 38654164, \"life_expect\": 74.67, \"fertility\": 1.251}, {\"year\": 2000, \"country\": \"Portugal\", \"cluster\": 1, \"pop\": 10335597, \"life_expect\": 77.29, \"fertility\": 1.454}, {\"year\": 2000, \"country\": \"Rwanda\", \"cluster\": 2, \"pop\": 7507056, \"life_expect\": 43.413, \"fertility\": 6.01}, {\"year\": 2000, \"country\": \"Saudi Arabia\", \"cluster\": 5, \"pop\": 23153090, \"life_expect\": 71.626, \"fertility\": 3.81}, {\"year\": 2000, \"country\": \"South Africa\", \"cluster\": 2, \"pop\": 44066197, \"life_expect\": 53.365, \"fertility\": 2.802}, {\"year\": 2000, \"country\": \"Spain\", \"cluster\": 1, \"pop\": 40016081, \"life_expect\": 79.78, \"fertility\": 1.287}, {\"year\": 2000, \"country\": \"Switzerland\", \"cluster\": 1, \"pop\": 7266920, \"life_expect\": 80.62, \"fertility\": 1.415}, {\"year\": 2000, \"country\": \"Turkey\", \"cluster\": 1, \"pop\": 65666677, \"life_expect\": 70.845, \"fertility\": 2.23}, {\"year\": 2000, \"country\": \"United Kingdom\", \"cluster\": 1, \"pop\": 59522468, \"life_expect\": 78.471, \"fertility\": 1.695}, {\"year\": 2000, \"country\": \"United States\", \"cluster\": 3, \"pop\": 282338631, \"life_expect\": 77.31, \"fertility\": 2.038}, {\"year\": 2000, \"country\": \"Venezuela\", \"cluster\": 3, \"pop\": 23542649, \"life_expect\": 72.766, \"fertility\": 2.723}]}}, {\"mode\": \"vega-lite\"});\n",
       "</script>"
      ],
      "text/plain": [
       "alt.Chart(...)"
      ]
     },
     "execution_count": 30,
     "metadata": {},
     "output_type": "execute_result"
    }
   ],
   "source": [
    "alt.Chart(data2000).mark_bar().encode(\n",
    "    alt.X('min(life_expect):Q'),\n",
    "    alt.X2('max(life_expect):Q'),\n",
    "    alt.Y('cluster:N')\n",
    ")"
   ]
  },
  {
   "cell_type": "markdown",
   "metadata": {
    "colab_type": "text",
    "id": "bTnEQk1NcD7y"
   },
   "source": [
    "### 2.4.6 Marcas de Linha\n",
    "\n",
    "O tipo de marca `line` conecta pontos plotados com segmentos de linha,por exemplo, para que a inclinação de uma linha transmita informações sobre a taxa de mudança.\n",
    "\n",
    "Vamos criar um gráfico de linha de fertilidade por país ao passar dos anos, utilizando o conjunto de dados completo e nao filtrado de desenvolvimento global. Vamos esconder a legenda novamente e usar os tooltips em vez disso."
   ]
  },
  {
   "cell_type": "code",
   "execution_count": 31,
   "metadata": {
    "colab": {
     "base_uri": "https://localhost:8080/",
     "height": 385
    },
    "colab_type": "code",
    "id": "lTWmDwv1Jhzt",
    "outputId": "7bbd15a9-4b8f-4f66-fe7e-6a55f2c38449"
   },
   "outputs": [
    {
     "data": {
      "text/html": [
       "\n",
       "<div id=\"altair-viz-109aa0941bb34f34953600fb35cb42d8\"></div>\n",
       "<script type=\"text/javascript\">\n",
       "  (function(spec, embedOpt){\n",
       "    let outputDiv = document.currentScript.previousElementSibling;\n",
       "    if (outputDiv.id !== \"altair-viz-109aa0941bb34f34953600fb35cb42d8\") {\n",
       "      outputDiv = document.getElementById(\"altair-viz-109aa0941bb34f34953600fb35cb42d8\");\n",
       "    }\n",
       "    const paths = {\n",
       "      \"vega\": \"https://cdn.jsdelivr.net/npm//vega@5?noext\",\n",
       "      \"vega-lib\": \"https://cdn.jsdelivr.net/npm//vega-lib?noext\",\n",
       "      \"vega-lite\": \"https://cdn.jsdelivr.net/npm//vega-lite@4.8.1?noext\",\n",
       "      \"vega-embed\": \"https://cdn.jsdelivr.net/npm//vega-embed@6?noext\",\n",
       "    };\n",
       "\n",
       "    function loadScript(lib) {\n",
       "      return new Promise(function(resolve, reject) {\n",
       "        var s = document.createElement('script');\n",
       "        s.src = paths[lib];\n",
       "        s.async = true;\n",
       "        s.onload = () => resolve(paths[lib]);\n",
       "        s.onerror = () => reject(`Error loading script: ${paths[lib]}`);\n",
       "        document.getElementsByTagName(\"head\")[0].appendChild(s);\n",
       "      });\n",
       "    }\n",
       "\n",
       "    function showError(err) {\n",
       "      outputDiv.innerHTML = `<div class=\"error\" style=\"color:red;\">${err}</div>`;\n",
       "      throw err;\n",
       "    }\n",
       "\n",
       "    function displayChart(vegaEmbed) {\n",
       "      vegaEmbed(outputDiv, spec, embedOpt)\n",
       "        .catch(err => showError(`Javascript Error: ${err.message}<br>This usually means there's a typo in your chart specification. See the javascript console for the full traceback.`));\n",
       "    }\n",
       "\n",
       "    if(typeof define === \"function\" && define.amd) {\n",
       "      requirejs.config({paths});\n",
       "      require([\"vega-embed\"], displayChart, err => showError(`Error loading script: ${err.message}`));\n",
       "    } else if (typeof vegaEmbed === \"function\") {\n",
       "      displayChart(vegaEmbed);\n",
       "    } else {\n",
       "      loadScript(\"vega\")\n",
       "        .then(() => loadScript(\"vega-lite\"))\n",
       "        .then(() => loadScript(\"vega-embed\"))\n",
       "        .catch(showError)\n",
       "        .then(() => displayChart(vegaEmbed));\n",
       "    }\n",
       "  })({\"config\": {\"view\": {\"continuousWidth\": 400, \"continuousHeight\": 300}}, \"data\": {\"name\": \"data-89be1acdd14c7effd56f4dd0fabf92c3\"}, \"mark\": \"line\", \"encoding\": {\"color\": {\"type\": \"nominal\", \"field\": \"country\", \"legend\": null}, \"tooltip\": {\"type\": \"nominal\", \"field\": \"country\"}, \"x\": {\"type\": \"ordinal\", \"field\": \"year\"}, \"y\": {\"type\": \"quantitative\", \"field\": \"fertility\"}}, \"width\": 400, \"$schema\": \"https://vega.github.io/schema/vega-lite/v4.8.1.json\", \"datasets\": {\"data-89be1acdd14c7effd56f4dd0fabf92c3\": [{\"year\": 1955, \"country\": \"Afghanistan\", \"cluster\": 0, \"pop\": 8891209, \"life_expect\": 30.332, \"fertility\": 7.7}, {\"year\": 1960, \"country\": \"Afghanistan\", \"cluster\": 0, \"pop\": 9829450, \"life_expect\": 31.997, \"fertility\": 7.7}, {\"year\": 1965, \"country\": \"Afghanistan\", \"cluster\": 0, \"pop\": 10997885, \"life_expect\": 34.02, \"fertility\": 7.7}, {\"year\": 1970, \"country\": \"Afghanistan\", \"cluster\": 0, \"pop\": 12430623, \"life_expect\": 36.088, \"fertility\": 7.7}, {\"year\": 1975, \"country\": \"Afghanistan\", \"cluster\": 0, \"pop\": 14132019, \"life_expect\": 38.438, \"fertility\": 7.7}, {\"year\": 1980, \"country\": \"Afghanistan\", \"cluster\": 0, \"pop\": 15112149, \"life_expect\": 39.854, \"fertility\": 7.8}, {\"year\": 1985, \"country\": \"Afghanistan\", \"cluster\": 0, \"pop\": 13796928, \"life_expect\": 40.822, \"fertility\": 7.9}, {\"year\": 1990, \"country\": \"Afghanistan\", \"cluster\": 0, \"pop\": 14669339, \"life_expect\": 41.674, \"fertility\": 8.0}, {\"year\": 1995, \"country\": \"Afghanistan\", \"cluster\": 0, \"pop\": 20881480, \"life_expect\": 41.763, \"fertility\": 8.0}, {\"year\": 2000, \"country\": \"Afghanistan\", \"cluster\": 0, \"pop\": 23898198, \"life_expect\": 42.129, \"fertility\": 7.4792}, {\"year\": 2005, \"country\": \"Afghanistan\", \"cluster\": 0, \"pop\": 29928987, \"life_expect\": 43.828, \"fertility\": 7.0685}, {\"year\": 1955, \"country\": \"Argentina\", \"cluster\": 3, \"pop\": 18927821, \"life_expect\": 64.399, \"fertility\": 3.1265}, {\"year\": 1960, \"country\": \"Argentina\", \"cluster\": 3, \"pop\": 20616009, \"life_expect\": 65.142, \"fertility\": 3.0895}, {\"year\": 1965, \"country\": \"Argentina\", \"cluster\": 3, \"pop\": 22283100, \"life_expect\": 65.634, \"fertility\": 3.049}, {\"year\": 1970, \"country\": \"Argentina\", \"cluster\": 3, \"pop\": 23962313, \"life_expect\": 67.065, \"fertility\": 3.1455}, {\"year\": 1975, \"country\": \"Argentina\", \"cluster\": 3, \"pop\": 26081880, \"life_expect\": 68.481, \"fertility\": 3.44}, {\"year\": 1980, \"country\": \"Argentina\", \"cluster\": 3, \"pop\": 28369799, \"life_expect\": 69.942, \"fertility\": 3.15}, {\"year\": 1985, \"country\": \"Argentina\", \"cluster\": 3, \"pop\": 30675059, \"life_expect\": 70.774, \"fertility\": 3.053}, {\"year\": 1990, \"country\": \"Argentina\", \"cluster\": 3, \"pop\": 33022202, \"life_expect\": 71.868, \"fertility\": 2.9}, {\"year\": 1995, \"country\": \"Argentina\", \"cluster\": 3, \"pop\": 35311049, \"life_expect\": 73.275, \"fertility\": 2.63}, {\"year\": 2000, \"country\": \"Argentina\", \"cluster\": 3, \"pop\": 37497728, \"life_expect\": 74.34, \"fertility\": 2.35}, {\"year\": 2005, \"country\": \"Argentina\", \"cluster\": 3, \"pop\": 39537943, \"life_expect\": 75.32, \"fertility\": 2.254}, {\"year\": 1955, \"country\": \"Aruba\", \"cluster\": 3, \"pop\": 53865, \"life_expect\": 64.381, \"fertility\": 5.15}, {\"year\": 1960, \"country\": \"Aruba\", \"cluster\": 3, \"pop\": 57203, \"life_expect\": 66.606, \"fertility\": 4.399}, {\"year\": 1965, \"country\": \"Aruba\", \"cluster\": 3, \"pop\": 59020, \"life_expect\": 68.336, \"fertility\": 3.301}, {\"year\": 1970, \"country\": \"Aruba\", \"cluster\": 3, \"pop\": 59039, \"life_expect\": 70.941, \"fertility\": 2.651}, {\"year\": 1975, \"country\": \"Aruba\", \"cluster\": 3, \"pop\": 59390, \"life_expect\": 71.83, \"fertility\": 2.45}, {\"year\": 1980, \"country\": \"Aruba\", \"cluster\": 3, \"pop\": 60266, \"life_expect\": 74.116, \"fertility\": 2.358}, {\"year\": 1985, \"country\": \"Aruba\", \"cluster\": 3, \"pop\": 64129, \"life_expect\": 74.494, \"fertility\": 2.3}, {\"year\": 1990, \"country\": \"Aruba\", \"cluster\": 3, \"pop\": 66653, \"life_expect\": 74.108, \"fertility\": 2.2800000000000002}, {\"year\": 1995, \"country\": \"Aruba\", \"cluster\": 3, \"pop\": 67836, \"life_expect\": 73.011, \"fertility\": 2.208}, {\"year\": 2000, \"country\": \"Aruba\", \"cluster\": 3, \"pop\": 69539, \"life_expect\": 73.451, \"fertility\": 2.124}, {\"year\": 2005, \"country\": \"Aruba\", \"cluster\": 3, \"pop\": 71566, \"life_expect\": 74.239, \"fertility\": 2.04}, {\"year\": 1955, \"country\": \"Australia\", \"cluster\": 4, \"pop\": 9277087, \"life_expect\": 70.33, \"fertility\": 3.406}, {\"year\": 1960, \"country\": \"Australia\", \"cluster\": 4, \"pop\": 10361273, \"life_expect\": 70.93, \"fertility\": 3.274}, {\"year\": 1965, \"country\": \"Australia\", \"cluster\": 4, \"pop\": 11439384, \"life_expect\": 71.1, \"fertility\": 2.871}, {\"year\": 1970, \"country\": \"Australia\", \"cluster\": 4, \"pop\": 12660160, \"life_expect\": 71.93, \"fertility\": 2.535}, {\"year\": 1975, \"country\": \"Australia\", \"cluster\": 4, \"pop\": 13771400, \"life_expect\": 73.49, \"fertility\": 1.9889999999999999}, {\"year\": 1980, \"country\": \"Australia\", \"cluster\": 4, \"pop\": 14615900, \"life_expect\": 74.74, \"fertility\": 1.907}, {\"year\": 1985, \"country\": \"Australia\", \"cluster\": 4, \"pop\": 15788300, \"life_expect\": 76.32, \"fertility\": 1.859}, {\"year\": 1990, \"country\": \"Australia\", \"cluster\": 4, \"pop\": 17022133, \"life_expect\": 77.56, \"fertility\": 1.8599999999999999}, {\"year\": 1995, \"country\": \"Australia\", \"cluster\": 4, \"pop\": 18116171, \"life_expect\": 78.83, \"fertility\": 1.776}, {\"year\": 2000, \"country\": \"Australia\", \"cluster\": 4, \"pop\": 19164620, \"life_expect\": 80.37, \"fertility\": 1.756}, {\"year\": 2005, \"country\": \"Australia\", \"cluster\": 4, \"pop\": 20090437, \"life_expect\": 81.235, \"fertility\": 1.788}, {\"year\": 1955, \"country\": \"Austria\", \"cluster\": 1, \"pop\": 6946885, \"life_expect\": 67.48, \"fertility\": 2.52}, {\"year\": 1960, \"country\": \"Austria\", \"cluster\": 1, \"pop\": 7047437, \"life_expect\": 69.54, \"fertility\": 2.7800000000000002}, {\"year\": 1965, \"country\": \"Austria\", \"cluster\": 1, \"pop\": 7270889, \"life_expect\": 70.14, \"fertility\": 2.5300000000000002}, {\"year\": 1970, \"country\": \"Austria\", \"cluster\": 1, \"pop\": 7467086, \"life_expect\": 70.63, \"fertility\": 2.02}, {\"year\": 1975, \"country\": \"Austria\", \"cluster\": 1, \"pop\": 7578903, \"life_expect\": 72.17, \"fertility\": 1.6400000000000001}, {\"year\": 1980, \"country\": \"Austria\", \"cluster\": 1, \"pop\": 7549433, \"life_expect\": 73.18, \"fertility\": 1.62}, {\"year\": 1985, \"country\": \"Austria\", \"cluster\": 1, \"pop\": 7559776, \"life_expect\": 74.94, \"fertility\": 1.45}, {\"year\": 1990, \"country\": \"Austria\", \"cluster\": 1, \"pop\": 7722953, \"life_expect\": 76.04, \"fertility\": 1.47}, {\"year\": 1995, \"country\": \"Austria\", \"cluster\": 1, \"pop\": 8047433, \"life_expect\": 77.51, \"fertility\": 1.388}, {\"year\": 2000, \"country\": \"Austria\", \"cluster\": 1, \"pop\": 8113413, \"life_expect\": 78.98, \"fertility\": 1.3820000000000001}, {\"year\": 2005, \"country\": \"Austria\", \"cluster\": 1, \"pop\": 8184691, \"life_expect\": 79.829, \"fertility\": 1.42}, {\"year\": 1955, \"country\": \"Bahamas\", \"cluster\": 3, \"pop\": 87138, \"life_expect\": 62.405, \"fertility\": 4.305}, {\"year\": 1960, \"country\": \"Bahamas\", \"cluster\": 3, \"pop\": 112234, \"life_expect\": 64.209, \"fertility\": 4.503}, {\"year\": 1965, \"country\": \"Bahamas\", \"cluster\": 3, \"pop\": 139205, \"life_expect\": 65.795, \"fertility\": 3.794}, {\"year\": 1970, \"country\": \"Bahamas\", \"cluster\": 3, \"pop\": 170323, \"life_expect\": 66.515, \"fertility\": 3.444}, {\"year\": 1975, \"country\": \"Bahamas\", \"cluster\": 3, \"pop\": 189139, \"life_expect\": 67.199, \"fertility\": 3.221}, {\"year\": 1980, \"country\": \"Bahamas\", \"cluster\": 3, \"pop\": 209944, \"life_expect\": 67.874, \"fertility\": 3.16}, {\"year\": 1985, \"country\": \"Bahamas\", \"cluster\": 3, \"pop\": 234988, \"life_expect\": 69.524, \"fertility\": 2.62}, {\"year\": 1990, \"country\": \"Bahamas\", \"cluster\": 3, \"pop\": 257253, \"life_expect\": 69.171, \"fertility\": 2.6}, {\"year\": 1995, \"country\": \"Bahamas\", \"cluster\": 3, \"pop\": 275303, \"life_expect\": 68.472, \"fertility\": 2.4}, {\"year\": 2000, \"country\": \"Bahamas\", \"cluster\": 3, \"pop\": 290075, \"life_expect\": 71.068, \"fertility\": 2.1111}, {\"year\": 2005, \"country\": \"Bahamas\", \"cluster\": 3, \"pop\": 301790, \"life_expect\": 73.495, \"fertility\": 2.0221}, {\"year\": 1955, \"country\": \"Bangladesh\", \"cluster\": 0, \"pop\": 49601520, \"life_expect\": 39.348, \"fertility\": 6.76}, {\"year\": 1960, \"country\": \"Bangladesh\", \"cluster\": 0, \"pop\": 54621538, \"life_expect\": 41.216, \"fertility\": 6.85}, {\"year\": 1965, \"country\": \"Bangladesh\", \"cluster\": 0, \"pop\": 60332117, \"life_expect\": 43.453, \"fertility\": 6.6}, {\"year\": 1970, \"country\": \"Bangladesh\", \"cluster\": 0, \"pop\": 67402621, \"life_expect\": 45.252, \"fertility\": 6.15}, {\"year\": 1975, \"country\": \"Bangladesh\", \"cluster\": 0, \"pop\": 76253310, \"life_expect\": 46.923, \"fertility\": 5.6}, {\"year\": 1980, \"country\": \"Bangladesh\", \"cluster\": 0, \"pop\": 88076996, \"life_expect\": 50.009, \"fertility\": 5.25}, {\"year\": 1985, \"country\": \"Bangladesh\", \"cluster\": 0, \"pop\": 99752733, \"life_expect\": 52.819, \"fertility\": 4.629}, {\"year\": 1990, \"country\": \"Bangladesh\", \"cluster\": 0, \"pop\": 109896945, \"life_expect\": 56.018, \"fertility\": 4.117}, {\"year\": 1995, \"country\": \"Bangladesh\", \"cluster\": 0, \"pop\": 119186448, \"life_expect\": 59.412, \"fertility\": 3.5042999999999997}, {\"year\": 2000, \"country\": \"Bangladesh\", \"cluster\": 0, \"pop\": 130406594, \"life_expect\": 62.013, \"fertility\": 3.224}, {\"year\": 2005, \"country\": \"Bangladesh\", \"cluster\": 0, \"pop\": 144319628, \"life_expect\": 64.062, \"fertility\": 2.826}, {\"year\": 1955, \"country\": \"Barbados\", \"cluster\": 3, \"pop\": 227255, \"life_expect\": 62.57, \"fertility\": 4.67}, {\"year\": 1960, \"country\": \"Barbados\", \"cluster\": 3, \"pop\": 232339, \"life_expect\": 65.87, \"fertility\": 4.26}, {\"year\": 1965, \"country\": \"Barbados\", \"cluster\": 3, \"pop\": 234980, \"life_expect\": 67.62, \"fertility\": 3.45}, {\"year\": 1970, \"country\": \"Barbados\", \"cluster\": 3, \"pop\": 238756, \"life_expect\": 69.42, \"fertility\": 2.74}, {\"year\": 1975, \"country\": \"Barbados\", \"cluster\": 3, \"pop\": 247147, \"life_expect\": 71.27, \"fertility\": 2.19}, {\"year\": 1980, \"country\": \"Barbados\", \"cluster\": 3, \"pop\": 251966, \"life_expect\": 72.695, \"fertility\": 1.92}, {\"year\": 1985, \"country\": \"Barbados\", \"cluster\": 3, \"pop\": 257446, \"life_expect\": 74.027, \"fertility\": 1.75}, {\"year\": 1990, \"country\": \"Barbados\", \"cluster\": 3, \"pop\": 262624, \"life_expect\": 74.894, \"fertility\": 1.6}, {\"year\": 1995, \"country\": \"Barbados\", \"cluster\": 3, \"pop\": 267907, \"life_expect\": 74.912, \"fertility\": 1.5}, {\"year\": 2000, \"country\": \"Barbados\", \"cluster\": 3, \"pop\": 273483, \"life_expect\": 75.97, \"fertility\": 1.5}, {\"year\": 2005, \"country\": \"Barbados\", \"cluster\": 3, \"pop\": 278870, \"life_expect\": 77.296, \"fertility\": 1.5}, {\"year\": 1955, \"country\": \"Belgium\", \"cluster\": 1, \"pop\": 8868475, \"life_expect\": 69.24, \"fertility\": 2.496}, {\"year\": 1960, \"country\": \"Belgium\", \"cluster\": 1, \"pop\": 9118700, \"life_expect\": 70.25, \"fertility\": 2.644}, {\"year\": 1965, \"country\": \"Belgium\", \"cluster\": 1, \"pop\": 9448100, \"life_expect\": 70.94, \"fertility\": 2.392}, {\"year\": 1970, \"country\": \"Belgium\", \"cluster\": 1, \"pop\": 9637800, \"life_expect\": 71.44, \"fertility\": 2.015}, {\"year\": 1975, \"country\": \"Belgium\", \"cluster\": 1, \"pop\": 9794800, \"life_expect\": 72.8, \"fertility\": 1.705}, {\"year\": 1980, \"country\": \"Belgium\", \"cluster\": 1, \"pop\": 9846800, \"life_expect\": 73.93, \"fertility\": 1.595}, {\"year\": 1985, \"country\": \"Belgium\", \"cluster\": 1, \"pop\": 9858200, \"life_expect\": 75.35, \"fertility\": 1.5590000000000002}, {\"year\": 1990, \"country\": \"Belgium\", \"cluster\": 1, \"pop\": 9969310, \"life_expect\": 76.46, \"fertility\": 1.613}, {\"year\": 1995, \"country\": \"Belgium\", \"cluster\": 1, \"pop\": 10155459, \"life_expect\": 77.53, \"fertility\": 1.604}, {\"year\": 2000, \"country\": \"Belgium\", \"cluster\": 1, \"pop\": 10263618, \"life_expect\": 78.32, \"fertility\": 1.638}, {\"year\": 2005, \"country\": \"Belgium\", \"cluster\": 1, \"pop\": 10364388, \"life_expect\": 79.441, \"fertility\": 1.646}, {\"year\": 1955, \"country\": \"Bolivia\", \"cluster\": 3, \"pop\": 3074311, \"life_expect\": 41.89, \"fertility\": 6.75}, {\"year\": 1960, \"country\": \"Bolivia\", \"cluster\": 3, \"pop\": 3434073, \"life_expect\": 43.428, \"fertility\": 6.63}, {\"year\": 1965, \"country\": \"Bolivia\", \"cluster\": 3, \"pop\": 3853315, \"life_expect\": 45.032, \"fertility\": 6.5600000000000005}, {\"year\": 1970, \"country\": \"Bolivia\", \"cluster\": 3, \"pop\": 4346218, \"life_expect\": 46.714, \"fertility\": 6.5}, {\"year\": 1975, \"country\": \"Bolivia\", \"cluster\": 3, \"pop\": 4914316, \"life_expect\": 50.023, \"fertility\": 5.8}, {\"year\": 1980, \"country\": \"Bolivia\", \"cluster\": 3, \"pop\": 5441298, \"life_expect\": 53.859, \"fertility\": 5.2995}, {\"year\": 1985, \"country\": \"Bolivia\", \"cluster\": 3, \"pop\": 5934935, \"life_expect\": 57.251, \"fertility\": 5.0}, {\"year\": 1990, \"country\": \"Bolivia\", \"cluster\": 3, \"pop\": 6573900, \"life_expect\": 59.957, \"fertility\": 4.8}, {\"year\": 1995, \"country\": \"Bolivia\", \"cluster\": 3, \"pop\": 7376582, \"life_expect\": 62.05, \"fertility\": 4.324}, {\"year\": 2000, \"country\": \"Bolivia\", \"cluster\": 3, \"pop\": 8152620, \"life_expect\": 63.883, \"fertility\": 3.9585}, {\"year\": 2005, \"country\": \"Bolivia\", \"cluster\": 3, \"pop\": 8857870, \"life_expect\": 65.554, \"fertility\": 3.5}, {\"year\": 1955, \"country\": \"Brazil\", \"cluster\": 3, \"pop\": 61773546, \"life_expect\": 53.285, \"fertility\": 6.1501}, {\"year\": 1960, \"country\": \"Brazil\", \"cluster\": 3, \"pop\": 71694810, \"life_expect\": 55.665, \"fertility\": 6.1501}, {\"year\": 1965, \"country\": \"Brazil\", \"cluster\": 3, \"pop\": 83092908, \"life_expect\": 57.632, \"fertility\": 5.38}, {\"year\": 1970, \"country\": \"Brazil\", \"cluster\": 3, \"pop\": 95684297, \"life_expect\": 59.504, \"fertility\": 4.7175}, {\"year\": 1975, \"country\": \"Brazil\", \"cluster\": 3, \"pop\": 108823732, \"life_expect\": 61.489, \"fertility\": 4.305}, {\"year\": 1980, \"country\": \"Brazil\", \"cluster\": 3, \"pop\": 122958132, \"life_expect\": 63.336, \"fertility\": 3.8}, {\"year\": 1985, \"country\": \"Brazil\", \"cluster\": 3, \"pop\": 137302933, \"life_expect\": 65.205, \"fertility\": 3.1}, {\"year\": 1990, \"country\": \"Brazil\", \"cluster\": 3, \"pop\": 151083809, \"life_expect\": 67.057, \"fertility\": 2.6}, {\"year\": 1995, \"country\": \"Brazil\", \"cluster\": 3, \"pop\": 163542501, \"life_expect\": 69.388, \"fertility\": 2.45}, {\"year\": 2000, \"country\": \"Brazil\", \"cluster\": 3, \"pop\": 175552771, \"life_expect\": 71.006, \"fertility\": 2.345}, {\"year\": 2005, \"country\": \"Brazil\", \"cluster\": 3, \"pop\": 186112794, \"life_expect\": 72.39, \"fertility\": 2.245}, {\"year\": 1955, \"country\": \"Canada\", \"cluster\": 3, \"pop\": 16050356, \"life_expect\": 69.96, \"fertility\": 3.882}, {\"year\": 1960, \"country\": \"Canada\", \"cluster\": 3, \"pop\": 18266765, \"life_expect\": 71.3, \"fertility\": 3.675}, {\"year\": 1965, \"country\": \"Canada\", \"cluster\": 3, \"pop\": 20071104, \"life_expect\": 72.13, \"fertility\": 2.61}, {\"year\": 1970, \"country\": \"Canada\", \"cluster\": 3, \"pop\": 21749986, \"life_expect\": 72.88, \"fertility\": 1.976}, {\"year\": 1975, \"country\": \"Canada\", \"cluster\": 3, \"pop\": 23209200, \"life_expect\": 74.21, \"fertility\": 1.734}, {\"year\": 1980, \"country\": \"Canada\", \"cluster\": 3, \"pop\": 24593300, \"life_expect\": 75.76, \"fertility\": 1.634}, {\"year\": 1985, \"country\": \"Canada\", \"cluster\": 3, \"pop\": 25941600, \"life_expect\": 76.86, \"fertility\": 1.616}, {\"year\": 1990, \"country\": \"Canada\", \"cluster\": 3, \"pop\": 27790600, \"life_expect\": 77.95, \"fertility\": 1.694}, {\"year\": 1995, \"country\": \"Canada\", \"cluster\": 3, \"pop\": 29619002, \"life_expect\": 78.61, \"fertility\": 1.564}, {\"year\": 2000, \"country\": \"Canada\", \"cluster\": 3, \"pop\": 31278097, \"life_expect\": 79.77, \"fertility\": 1.522}, {\"year\": 2005, \"country\": \"Canada\", \"cluster\": 3, \"pop\": 32805041, \"life_expect\": 80.653, \"fertility\": 1.5270000000000001}, {\"year\": 1955, \"country\": \"Chile\", \"cluster\": 3, \"pop\": 6743269, \"life_expect\": 56.074, \"fertility\": 5.486}, {\"year\": 1960, \"country\": \"Chile\", \"cluster\": 3, \"pop\": 7585349, \"life_expect\": 57.924, \"fertility\": 5.4385}, {\"year\": 1965, \"country\": \"Chile\", \"cluster\": 3, \"pop\": 8509950, \"life_expect\": 60.523, \"fertility\": 4.4405}, {\"year\": 1970, \"country\": \"Chile\", \"cluster\": 3, \"pop\": 9368558, \"life_expect\": 63.441, \"fertility\": 3.63}, {\"year\": 1975, \"country\": \"Chile\", \"cluster\": 3, \"pop\": 10251542, \"life_expect\": 67.052, \"fertility\": 2.803}, {\"year\": 1980, \"country\": \"Chile\", \"cluster\": 3, \"pop\": 11093718, \"life_expect\": 70.565, \"fertility\": 2.6710000000000003}, {\"year\": 1985, \"country\": \"Chile\", \"cluster\": 3, \"pop\": 12066701, \"life_expect\": 72.492, \"fertility\": 2.65}, {\"year\": 1990, \"country\": \"Chile\", \"cluster\": 3, \"pop\": 13127760, \"life_expect\": 74.126, \"fertility\": 2.55}, {\"year\": 1995, \"country\": \"Chile\", \"cluster\": 3, \"pop\": 14205449, \"life_expect\": 75.816, \"fertility\": 2.21}, {\"year\": 2000, \"country\": \"Chile\", \"cluster\": 3, \"pop\": 15153450, \"life_expect\": 77.86, \"fertility\": 2.0}, {\"year\": 2005, \"country\": \"Chile\", \"cluster\": 3, \"pop\": 15980912, \"life_expect\": 78.553, \"fertility\": 1.944}, {\"year\": 1955, \"country\": \"China\", \"cluster\": 4, \"pop\": 608655000, \"life_expect\": 50.54896, \"fertility\": 5.59}, {\"year\": 1960, \"country\": \"China\", \"cluster\": 4, \"pop\": 667070000, \"life_expect\": 44.50136, \"fertility\": 5.72}, {\"year\": 1965, \"country\": \"China\", \"cluster\": 4, \"pop\": 715185000, \"life_expect\": 58.38112, \"fertility\": 6.06}, {\"year\": 1970, \"country\": \"China\", \"cluster\": 4, \"pop\": 818315000, \"life_expect\": 63.11888, \"fertility\": 4.86}, {\"year\": 1975, \"country\": \"China\", \"cluster\": 4, \"pop\": 916395000, \"life_expect\": 63.96736, \"fertility\": 3.32}, {\"year\": 1980, \"country\": \"China\", \"cluster\": 4, \"pop\": 981235000, \"life_expect\": 65.525, \"fertility\": 2.55}, {\"year\": 1985, \"country\": \"China\", \"cluster\": 4, \"pop\": 1051040000, \"life_expect\": 67.274, \"fertility\": 2.46}, {\"year\": 1990, \"country\": \"China\", \"cluster\": 4, \"pop\": 1135185000, \"life_expect\": 68.69, \"fertility\": 1.92}, {\"year\": 1995, \"country\": \"China\", \"cluster\": 4, \"pop\": 1204855000, \"life_expect\": 70.426, \"fertility\": 1.7810000000000001}, {\"year\": 2000, \"country\": \"China\", \"cluster\": 4, \"pop\": 1262645000, \"life_expect\": 72.028, \"fertility\": 1.7000000000000002}, {\"year\": 2005, \"country\": \"China\", \"cluster\": 4, \"pop\": 1303182268, \"life_expect\": 72.961, \"fertility\": 1.725}, {\"year\": 1955, \"country\": \"Colombia\", \"cluster\": 3, \"pop\": 13588405, \"life_expect\": 55.118, \"fertility\": 6.76}, {\"year\": 1960, \"country\": \"Colombia\", \"cluster\": 3, \"pop\": 15952727, \"life_expect\": 57.863, \"fertility\": 6.76}, {\"year\": 1965, \"country\": \"Colombia\", \"cluster\": 3, \"pop\": 18646175, \"life_expect\": 59.963, \"fertility\": 6.18}, {\"year\": 1970, \"country\": \"Colombia\", \"cluster\": 3, \"pop\": 21429658, \"life_expect\": 61.623, \"fertility\": 5.0005}, {\"year\": 1975, \"country\": \"Colombia\", \"cluster\": 3, \"pop\": 24114177, \"life_expect\": 63.837, \"fertility\": 4.3385}, {\"year\": 1980, \"country\": \"Colombia\", \"cluster\": 3, \"pop\": 26582811, \"life_expect\": 66.653, \"fertility\": 3.685}, {\"year\": 1985, \"country\": \"Colombia\", \"cluster\": 3, \"pop\": 29678395, \"life_expect\": 67.768, \"fertility\": 3.172}, {\"year\": 1990, \"country\": \"Colombia\", \"cluster\": 3, \"pop\": 32858579, \"life_expect\": 68.421, \"fertility\": 2.93005}, {\"year\": 1995, \"country\": \"Colombia\", \"cluster\": 3, \"pop\": 36280883, \"life_expect\": 70.313, \"fertility\": 2.7}, {\"year\": 2000, \"country\": \"Colombia\", \"cluster\": 3, \"pop\": 39685655, \"life_expect\": 71.682, \"fertility\": 2.4705}, {\"year\": 2005, \"country\": \"Colombia\", \"cluster\": 3, \"pop\": 42954279, \"life_expect\": 72.889, \"fertility\": 2.2205}, {\"year\": 1955, \"country\": \"Costa Rica\", \"cluster\": 3, \"pop\": 1031782, \"life_expect\": 60.026, \"fertility\": 7.1135}, {\"year\": 1960, \"country\": \"Costa Rica\", \"cluster\": 3, \"pop\": 1248022, \"life_expect\": 62.842, \"fertility\": 7.2245}, {\"year\": 1965, \"country\": \"Costa Rica\", \"cluster\": 3, \"pop\": 1487605, \"life_expect\": 65.424, \"fertility\": 5.801}, {\"year\": 1970, \"country\": \"Costa Rica\", \"cluster\": 3, \"pop\": 1735523, \"life_expect\": 67.849, \"fertility\": 4.346}, {\"year\": 1975, \"country\": \"Costa Rica\", \"cluster\": 3, \"pop\": 1991580, \"life_expect\": 70.75, \"fertility\": 3.7755}, {\"year\": 1980, \"country\": \"Costa Rica\", \"cluster\": 3, \"pop\": 2299124, \"life_expect\": 73.45, \"fertility\": 3.527}, {\"year\": 1985, \"country\": \"Costa Rica\", \"cluster\": 3, \"pop\": 2643808, \"life_expect\": 74.752, \"fertility\": 3.374}, {\"year\": 1990, \"country\": \"Costa Rica\", \"cluster\": 3, \"pop\": 3027175, \"life_expect\": 75.713, \"fertility\": 2.9450000000000003}, {\"year\": 1995, \"country\": \"Costa Rica\", \"cluster\": 3, \"pop\": 3383786, \"life_expect\": 77.26, \"fertility\": 2.5835}, {\"year\": 2000, \"country\": \"Costa Rica\", \"cluster\": 3, \"pop\": 3710558, \"life_expect\": 78.123, \"fertility\": 2.2815}, {\"year\": 2005, \"country\": \"Costa Rica\", \"cluster\": 3, \"pop\": 4016173, \"life_expect\": 78.782, \"fertility\": 2.0985}, {\"year\": 1955, \"country\": \"Croatia\", \"cluster\": 1, \"pop\": 3955526, \"life_expect\": 64.77, \"fertility\": 2.42}, {\"year\": 1960, \"country\": \"Croatia\", \"cluster\": 1, \"pop\": 4036145, \"life_expect\": 67.13, \"fertility\": 2.27}, {\"year\": 1965, \"country\": \"Croatia\", \"cluster\": 1, \"pop\": 4133313, \"life_expect\": 68.5, \"fertility\": 2.09}, {\"year\": 1970, \"country\": \"Croatia\", \"cluster\": 1, \"pop\": 4205389, \"life_expect\": 69.61, \"fertility\": 1.96}, {\"year\": 1975, \"country\": \"Croatia\", \"cluster\": 1, \"pop\": 4255000, \"life_expect\": 70.64, \"fertility\": 2.02}, {\"year\": 1980, \"country\": \"Croatia\", \"cluster\": 1, \"pop\": 4383000, \"life_expect\": 70.46, \"fertility\": 1.96}, {\"year\": 1985, \"country\": \"Croatia\", \"cluster\": 1, \"pop\": 4457874, \"life_expect\": 71.52, \"fertility\": 1.8399999999999999}, {\"year\": 1990, \"country\": \"Croatia\", \"cluster\": 1, \"pop\": 4508347, \"life_expect\": 72.527, \"fertility\": 1.52}, {\"year\": 1995, \"country\": \"Croatia\", \"cluster\": 1, \"pop\": 4496683, \"life_expect\": 73.68, \"fertility\": 1.537}, {\"year\": 2000, \"country\": \"Croatia\", \"cluster\": 1, \"pop\": 4410830, \"life_expect\": 74.876, \"fertility\": 1.348}, {\"year\": 2005, \"country\": \"Croatia\", \"cluster\": 1, \"pop\": 4495904, \"life_expect\": 75.748, \"fertility\": 1.346}, {\"year\": 1955, \"country\": \"Cuba\", \"cluster\": 3, \"pop\": 6381106, \"life_expect\": 62.325, \"fertility\": 3.6995}, {\"year\": 1960, \"country\": \"Cuba\", \"cluster\": 3, \"pop\": 7027210, \"life_expect\": 65.246, \"fertility\": 4.6805}, {\"year\": 1965, \"country\": \"Cuba\", \"cluster\": 3, \"pop\": 7809916, \"life_expect\": 68.29, \"fertility\": 4.3}, {\"year\": 1970, \"country\": \"Cuba\", \"cluster\": 3, \"pop\": 8542746, \"life_expect\": 70.723, \"fertility\": 3.6}, {\"year\": 1975, \"country\": \"Cuba\", \"cluster\": 3, \"pop\": 9290074, \"life_expect\": 72.649, \"fertility\": 2.15}, {\"year\": 1980, \"country\": \"Cuba\", \"cluster\": 3, \"pop\": 9652975, \"life_expect\": 73.717, \"fertility\": 1.8495}, {\"year\": 1985, \"country\": \"Cuba\", \"cluster\": 3, \"pop\": 10078658, \"life_expect\": 74.174, \"fertility\": 1.8495}, {\"year\": 1990, \"country\": \"Cuba\", \"cluster\": 3, \"pop\": 10544793, \"life_expect\": 74.414, \"fertility\": 1.6505}, {\"year\": 1995, \"country\": \"Cuba\", \"cluster\": 3, \"pop\": 10896802, \"life_expect\": 76.151, \"fertility\": 1.6095000000000002}, {\"year\": 2000, \"country\": \"Cuba\", \"cluster\": 3, \"pop\": 11134273, \"life_expect\": 77.158, \"fertility\": 1.63}, {\"year\": 2005, \"country\": \"Cuba\", \"cluster\": 3, \"pop\": 11346670, \"life_expect\": 78.273, \"fertility\": 1.49}, {\"year\": 1955, \"country\": \"Dominican Republic\", \"cluster\": 3, \"pop\": 2737257, \"life_expect\": 49.828, \"fertility\": 7.6405}, {\"year\": 1960, \"country\": \"Dominican Republic\", \"cluster\": 3, \"pop\": 3231488, \"life_expect\": 53.459, \"fertility\": 7.3505}, {\"year\": 1965, \"country\": \"Dominican Republic\", \"cluster\": 3, \"pop\": 3805881, \"life_expect\": 56.751, \"fertility\": 6.6495}, {\"year\": 1970, \"country\": \"Dominican Republic\", \"cluster\": 3, \"pop\": 4422755, \"life_expect\": 59.631, \"fertility\": 5.71}, {\"year\": 1975, \"country\": \"Dominican Republic\", \"cluster\": 3, \"pop\": 5048499, \"life_expect\": 61.788, \"fertility\": 4.76}, {\"year\": 1980, \"country\": \"Dominican Republic\", \"cluster\": 3, \"pop\": 5696855, \"life_expect\": 63.727, \"fertility\": 4.0}, {\"year\": 1985, \"country\": \"Dominican Republic\", \"cluster\": 3, \"pop\": 6377765, \"life_expect\": 66.046, \"fertility\": 3.47}, {\"year\": 1990, \"country\": \"Dominican Republic\", \"cluster\": 3, \"pop\": 7077651, \"life_expect\": 68.457, \"fertility\": 3.1995}, {\"year\": 1995, \"country\": \"Dominican Republic\", \"cluster\": 3, \"pop\": 7730224, \"life_expect\": 69.957, \"fertility\": 3.05}, {\"year\": 2000, \"country\": \"Dominican Republic\", \"cluster\": 3, \"pop\": 8385828, \"life_expect\": 70.847, \"fertility\": 2.95}, {\"year\": 2005, \"country\": \"Dominican Republic\", \"cluster\": 3, \"pop\": 9049595, \"life_expect\": 72.235, \"fertility\": 2.81}, {\"year\": 1955, \"country\": \"Ecuador\", \"cluster\": 3, \"pop\": 3842399, \"life_expect\": 51.356, \"fertility\": 6.7}, {\"year\": 1960, \"country\": \"Ecuador\", \"cluster\": 3, \"pop\": 4415956, \"life_expect\": 54.64, \"fertility\": 6.7}, {\"year\": 1965, \"country\": \"Ecuador\", \"cluster\": 3, \"pop\": 5117779, \"life_expect\": 56.678, \"fertility\": 6.5}, {\"year\": 1970, \"country\": \"Ecuador\", \"cluster\": 3, \"pop\": 5939246, \"life_expect\": 58.796, \"fertility\": 6.0005}, {\"year\": 1975, \"country\": \"Ecuador\", \"cluster\": 3, \"pop\": 6871698, \"life_expect\": 61.31, \"fertility\": 5.4005}, {\"year\": 1980, \"country\": \"Ecuador\", \"cluster\": 3, \"pop\": 7920499, \"life_expect\": 64.342, \"fertility\": 4.7005}, {\"year\": 1985, \"country\": \"Ecuador\", \"cluster\": 3, \"pop\": 9061664, \"life_expect\": 67.231, \"fertility\": 4.0}, {\"year\": 1990, \"country\": \"Ecuador\", \"cluster\": 3, \"pop\": 10318036, \"life_expect\": 69.613, \"fertility\": 3.4005}, {\"year\": 1995, \"country\": \"Ecuador\", \"cluster\": 3, \"pop\": 11438004, \"life_expect\": 72.312, \"fertility\": 3.1}, {\"year\": 2000, \"country\": \"Ecuador\", \"cluster\": 3, \"pop\": 12505204, \"life_expect\": 74.173, \"fertility\": 2.8175}, {\"year\": 2005, \"country\": \"Ecuador\", \"cluster\": 3, \"pop\": 13363593, \"life_expect\": 74.994, \"fertility\": 2.578}, {\"year\": 1955, \"country\": \"Egypt\", \"cluster\": 5, \"pop\": 23855527, \"life_expect\": 44.444, \"fertility\": 6.97}, {\"year\": 1960, \"country\": \"Egypt\", \"cluster\": 5, \"pop\": 26846610, \"life_expect\": 46.992, \"fertility\": 7.073}, {\"year\": 1965, \"country\": \"Egypt\", \"cluster\": 5, \"pop\": 30265148, \"life_expect\": 49.293, \"fertility\": 6.5600000000000005}, {\"year\": 1970, \"country\": \"Egypt\", \"cluster\": 5, \"pop\": 33574026, \"life_expect\": 51.137, \"fertility\": 5.855}, {\"year\": 1975, \"country\": \"Egypt\", \"cluster\": 5, \"pop\": 36952499, \"life_expect\": 53.319, \"fertility\": 5.609}, {\"year\": 1980, \"country\": \"Egypt\", \"cluster\": 5, \"pop\": 42634215, \"life_expect\": 56.006, \"fertility\": 5.332}, {\"year\": 1985, \"country\": \"Egypt\", \"cluster\": 5, \"pop\": 50052381, \"life_expect\": 59.797, \"fertility\": 4.833}, {\"year\": 1990, \"country\": \"Egypt\", \"cluster\": 5, \"pop\": 56694413, \"life_expect\": 63.674, \"fertility\": 3.908}, {\"year\": 1995, \"country\": \"Egypt\", \"cluster\": 5, \"pop\": 63321615, \"life_expect\": 67.217, \"fertility\": 3.5}, {\"year\": 2000, \"country\": \"Egypt\", \"cluster\": 5, \"pop\": 70492342, \"life_expect\": 69.806, \"fertility\": 3.174}, {\"year\": 2005, \"country\": \"Egypt\", \"cluster\": 5, \"pop\": 77505756, \"life_expect\": 71.338, \"fertility\": 2.891}, {\"year\": 1955, \"country\": \"El Salvador\", \"cluster\": 3, \"pop\": 2221139, \"life_expect\": 48.57, \"fertility\": 6.8065}, {\"year\": 1960, \"country\": \"El Salvador\", \"cluster\": 3, \"pop\": 2581583, \"life_expect\": 52.307, \"fertility\": 6.8469999999999995}, {\"year\": 1965, \"country\": \"El Salvador\", \"cluster\": 3, \"pop\": 3017852, \"life_expect\": 55.855, \"fertility\": 6.621}, {\"year\": 1970, \"country\": \"El Salvador\", \"cluster\": 3, \"pop\": 3603907, \"life_expect\": 58.207, \"fertility\": 6.0995}, {\"year\": 1975, \"country\": \"El Salvador\", \"cluster\": 3, \"pop\": 4071179, \"life_expect\": 56.696, \"fertility\": 5.5996}, {\"year\": 1980, \"country\": \"El Salvador\", \"cluster\": 3, \"pop\": 4566199, \"life_expect\": 56.604, \"fertility\": 4.5}, {\"year\": 1985, \"country\": \"El Salvador\", \"cluster\": 3, \"pop\": 4664361, \"life_expect\": 63.154, \"fertility\": 3.901}, {\"year\": 1990, \"country\": \"El Salvador\", \"cluster\": 3, \"pop\": 5099884, \"life_expect\": 66.798, \"fertility\": 3.52}, {\"year\": 1995, \"country\": \"El Salvador\", \"cluster\": 3, \"pop\": 5568437, \"life_expect\": 69.535, \"fertility\": 3.17}, {\"year\": 2000, \"country\": \"El Salvador\", \"cluster\": 3, \"pop\": 6122515, \"life_expect\": 70.734, \"fertility\": 2.883}, {\"year\": 2005, \"country\": \"El Salvador\", \"cluster\": 3, \"pop\": 6704932, \"life_expect\": 71.878, \"fertility\": 2.6825}, {\"year\": 1955, \"country\": \"Finland\", \"cluster\": 1, \"pop\": 4234900, \"life_expect\": 67.49, \"fertility\": 2.769}, {\"year\": 1960, \"country\": \"Finland\", \"cluster\": 1, \"pop\": 4429600, \"life_expect\": 68.75, \"fertility\": 2.66}, {\"year\": 1965, \"country\": \"Finland\", \"cluster\": 1, \"pop\": 4563732, \"life_expect\": 69.83, \"fertility\": 2.191}, {\"year\": 1970, \"country\": \"Finland\", \"cluster\": 1, \"pop\": 4606307, \"life_expect\": 70.87, \"fertility\": 1.623}, {\"year\": 1975, \"country\": \"Finland\", \"cluster\": 1, \"pop\": 4711439, \"life_expect\": 72.52, \"fertility\": 1.663}, {\"year\": 1980, \"country\": \"Finland\", \"cluster\": 1, \"pop\": 4779535, \"life_expect\": 74.55, \"fertility\": 1.685}, {\"year\": 1985, \"country\": \"Finland\", \"cluster\": 1, \"pop\": 4901783, \"life_expect\": 74.83, \"fertility\": 1.6600000000000001}, {\"year\": 1990, \"country\": \"Finland\", \"cluster\": 1, \"pop\": 4986431, \"life_expect\": 75.7, \"fertility\": 1.819}, {\"year\": 1995, \"country\": \"Finland\", \"cluster\": 1, \"pop\": 5104654, \"life_expect\": 77.13, \"fertility\": 1.7429999999999999}, {\"year\": 2000, \"country\": \"Finland\", \"cluster\": 1, \"pop\": 5168595, \"life_expect\": 78.37, \"fertility\": 1.754}, {\"year\": 2005, \"country\": \"Finland\", \"cluster\": 1, \"pop\": 5223442, \"life_expect\": 79.313, \"fertility\": 1.8250000000000002}, {\"year\": 1955, \"country\": \"France\", \"cluster\": 1, \"pop\": 43427669, \"life_expect\": 68.93, \"fertility\": 2.7119999999999997}, {\"year\": 1960, \"country\": \"France\", \"cluster\": 1, \"pop\": 45670000, \"life_expect\": 70.51, \"fertility\": 2.85}, {\"year\": 1965, \"country\": \"France\", \"cluster\": 1, \"pop\": 48763000, \"life_expect\": 71.55, \"fertility\": 2.607}, {\"year\": 1970, \"country\": \"France\", \"cluster\": 1, \"pop\": 50787000, \"life_expect\": 72.38, \"fertility\": 2.31}, {\"year\": 1975, \"country\": \"France\", \"cluster\": 1, \"pop\": 52758427, \"life_expect\": 73.83, \"fertility\": 1.862}, {\"year\": 1980, \"country\": \"France\", \"cluster\": 1, \"pop\": 53869743, \"life_expect\": 74.89, \"fertility\": 1.866}, {\"year\": 1985, \"country\": \"France\", \"cluster\": 1, \"pop\": 55171224, \"life_expect\": 76.34, \"fertility\": 1.8050000000000002}, {\"year\": 1990, \"country\": \"France\", \"cluster\": 1, \"pop\": 56735161, \"life_expect\": 77.46, \"fertility\": 1.713}, {\"year\": 1995, \"country\": \"France\", \"cluster\": 1, \"pop\": 58149727, \"life_expect\": 78.64, \"fertility\": 1.7624}, {\"year\": 2000, \"country\": \"France\", \"cluster\": 1, \"pop\": 59381628, \"life_expect\": 79.59, \"fertility\": 1.8833000000000002}, {\"year\": 2005, \"country\": \"France\", \"cluster\": 1, \"pop\": 60656178, \"life_expect\": 80.657, \"fertility\": 1.8916}, {\"year\": 1955, \"country\": \"Georgia\", \"cluster\": 1, \"pop\": 3827154, \"life_expect\": 62.625, \"fertility\": 2.909}, {\"year\": 1960, \"country\": \"Georgia\", \"cluster\": 1, \"pop\": 4146570, \"life_expect\": 64.644, \"fertility\": 2.979}, {\"year\": 1965, \"country\": \"Georgia\", \"cluster\": 1, \"pop\": 4464959, \"life_expect\": 66.654, \"fertility\": 2.6109999999999998}, {\"year\": 1970, \"country\": \"Georgia\", \"cluster\": 1, \"pop\": 4694491, \"life_expect\": 68.158, \"fertility\": 2.601}, {\"year\": 1975, \"country\": \"Georgia\", \"cluster\": 1, \"pop\": 4897656, \"life_expect\": 69.634, \"fertility\": 2.39}, {\"year\": 1980, \"country\": \"Georgia\", \"cluster\": 1, \"pop\": 5045697, \"life_expect\": 69.638, \"fertility\": 2.269}, {\"year\": 1985, \"country\": \"Georgia\", \"cluster\": 1, \"pop\": 5192957, \"life_expect\": 70.45, \"fertility\": 2.263}, {\"year\": 1990, \"country\": \"Georgia\", \"cluster\": 1, \"pop\": 5426207, \"life_expect\": 70.465, \"fertility\": 1.9500000000000002}, {\"year\": 1995, \"country\": \"Georgia\", \"cluster\": 1, \"pop\": 5012952, \"life_expect\": 70.49, \"fertility\": 1.58}, {\"year\": 2000, \"country\": \"Georgia\", \"cluster\": 1, \"pop\": 4777209, \"life_expect\": 70.476, \"fertility\": 1.478}, {\"year\": 2005, \"country\": \"Georgia\", \"cluster\": 1, \"pop\": 4677401, \"life_expect\": 70.987, \"fertility\": 1.407}, {\"year\": 1955, \"country\": \"Germany\", \"cluster\": 1, \"pop\": 70195612, \"life_expect\": 69.1, \"fertility\": 2.3}, {\"year\": 1960, \"country\": \"Germany\", \"cluster\": 1, \"pop\": 72480869, \"life_expect\": 70.3, \"fertility\": 2.49}, {\"year\": 1965, \"country\": \"Germany\", \"cluster\": 1, \"pop\": 75638851, \"life_expect\": 70.8, \"fertility\": 2.32}, {\"year\": 1970, \"country\": \"Germany\", \"cluster\": 1, \"pop\": 77783164, \"life_expect\": 71.0, \"fertility\": 1.6400000000000001}, {\"year\": 1975, \"country\": \"Germany\", \"cluster\": 1, \"pop\": 78682325, \"life_expect\": 72.5, \"fertility\": 1.52}, {\"year\": 1980, \"country\": \"Germany\", \"cluster\": 1, \"pop\": 78297904, \"life_expect\": 73.8, \"fertility\": 1.46}, {\"year\": 1985, \"country\": \"Germany\", \"cluster\": 1, \"pop\": 77684907, \"life_expect\": 74.847, \"fertility\": 1.43}, {\"year\": 1990, \"country\": \"Germany\", \"cluster\": 1, \"pop\": 79380394, \"life_expect\": 76.07, \"fertility\": 1.31}, {\"year\": 1995, \"country\": \"Germany\", \"cluster\": 1, \"pop\": 81653702, \"life_expect\": 77.34, \"fertility\": 1.34}, {\"year\": 2000, \"country\": \"Germany\", \"cluster\": 1, \"pop\": 82187909, \"life_expect\": 78.67, \"fertility\": 1.346}, {\"year\": 2005, \"country\": \"Germany\", \"cluster\": 1, \"pop\": 82431390, \"life_expect\": 79.406, \"fertility\": 1.3599999999999999}, {\"year\": 1955, \"country\": \"Greece\", \"cluster\": 1, \"pop\": 7965538, \"life_expect\": 67.86, \"fertility\": 2.27}, {\"year\": 1960, \"country\": \"Greece\", \"cluster\": 1, \"pop\": 8327405, \"life_expect\": 69.51, \"fertility\": 2.2}, {\"year\": 1965, \"country\": \"Greece\", \"cluster\": 1, \"pop\": 8550333, \"life_expect\": 71.0, \"fertility\": 2.38}, {\"year\": 1970, \"country\": \"Greece\", \"cluster\": 1, \"pop\": 8792806, \"life_expect\": 72.34, \"fertility\": 2.32}, {\"year\": 1975, \"country\": \"Greece\", \"cluster\": 1, \"pop\": 9046542, \"life_expect\": 73.68, \"fertility\": 2.32}, {\"year\": 1980, \"country\": \"Greece\", \"cluster\": 1, \"pop\": 9642505, \"life_expect\": 75.24, \"fertility\": 1.96}, {\"year\": 1985, \"country\": \"Greece\", \"cluster\": 1, \"pop\": 9923253, \"life_expect\": 76.67, \"fertility\": 1.53}, {\"year\": 1990, \"country\": \"Greece\", \"cluster\": 1, \"pop\": 10129603, \"life_expect\": 77.03, \"fertility\": 1.37}, {\"year\": 1995, \"country\": \"Greece\", \"cluster\": 1, \"pop\": 10457554, \"life_expect\": 77.869, \"fertility\": 1.296}, {\"year\": 2000, \"country\": \"Greece\", \"cluster\": 1, \"pop\": 10559110, \"life_expect\": 78.256, \"fertility\": 1.2770000000000001}, {\"year\": 2005, \"country\": \"Greece\", \"cluster\": 1, \"pop\": 10668354, \"life_expect\": 79.483, \"fertility\": 1.325}, {\"year\": 1955, \"country\": \"Grenada\", \"cluster\": 3, \"pop\": 84621, \"life_expect\": 63.114, \"fertility\": 6.7}, {\"year\": 1960, \"country\": \"Grenada\", \"cluster\": 3, \"pop\": 90148, \"life_expect\": 63.608, \"fertility\": 6.4}, {\"year\": 1965, \"country\": \"Grenada\", \"cluster\": 3, \"pop\": 93290, \"life_expect\": 64.091, \"fertility\": 4.8}, {\"year\": 1970, \"country\": \"Grenada\", \"cluster\": 3, \"pop\": 95410, \"life_expect\": 64.577, \"fertility\": 4.6}, {\"year\": 1975, \"country\": \"Grenada\", \"cluster\": 3, \"pop\": 95819, \"life_expect\": 65.035, \"fertility\": 4.3}, {\"year\": 1980, \"country\": \"Grenada\", \"cluster\": 3, \"pop\": 90164, \"life_expect\": 65.503, \"fertility\": 4.23}, {\"year\": 1985, \"country\": \"Grenada\", \"cluster\": 3, \"pop\": 92203, \"life_expect\": 66.002, \"fertility\": 4.14}, {\"year\": 1990, \"country\": \"Grenada\", \"cluster\": 3, \"pop\": 92360, \"life_expect\": 66.469, \"fertility\": 3.26}, {\"year\": 1995, \"country\": \"Grenada\", \"cluster\": 3, \"pop\": 90603, \"life_expect\": 66.986, \"fertility\": 2.814}, {\"year\": 2000, \"country\": \"Grenada\", \"cluster\": 3, \"pop\": 89312, \"life_expect\": 67.746, \"fertility\": 2.429}, {\"year\": 2005, \"country\": \"Grenada\", \"cluster\": 3, \"pop\": 89502, \"life_expect\": 68.724, \"fertility\": 2.302}, {\"year\": 1955, \"country\": \"Haiti\", \"cluster\": 3, \"pop\": 3376419, \"life_expect\": 40.696, \"fertility\": 6.3}, {\"year\": 1960, \"country\": \"Haiti\", \"cluster\": 3, \"pop\": 3722743, \"life_expect\": 43.59, \"fertility\": 6.3}, {\"year\": 1965, \"country\": \"Haiti\", \"cluster\": 3, \"pop\": 4137405, \"life_expect\": 46.243, \"fertility\": 6.0}, {\"year\": 1970, \"country\": \"Haiti\", \"cluster\": 3, \"pop\": 4604915, \"life_expect\": 48.042, \"fertility\": 5.6005}, {\"year\": 1975, \"country\": \"Haiti\", \"cluster\": 3, \"pop\": 4828338, \"life_expect\": 49.923, \"fertility\": 5.8}, {\"year\": 1980, \"country\": \"Haiti\", \"cluster\": 3, \"pop\": 5029725, \"life_expect\": 51.461, \"fertility\": 6.2099}, {\"year\": 1985, \"country\": \"Haiti\", \"cluster\": 3, \"pop\": 5517977, \"life_expect\": 53.636, \"fertility\": 5.69985}, {\"year\": 1990, \"country\": \"Haiti\", \"cluster\": 3, \"pop\": 6126101, \"life_expect\": 55.089, \"fertility\": 5.14985}, {\"year\": 1995, \"country\": \"Haiti\", \"cluster\": 3, \"pop\": 6675578, \"life_expect\": 56.671, \"fertility\": 4.61995}, {\"year\": 2000, \"country\": \"Haiti\", \"cluster\": 3, \"pop\": 7306302, \"life_expect\": 58.137, \"fertility\": 4.0}, {\"year\": 2005, \"country\": \"Haiti\", \"cluster\": 3, \"pop\": 8121622, \"life_expect\": 60.916, \"fertility\": 3.5445}, {\"year\": 1955, \"country\": \"Hong Kong\", \"cluster\": 4, \"pop\": 2490400, \"life_expect\": 64.75, \"fertility\": 4.72}, {\"year\": 1960, \"country\": \"Hong Kong\", \"cluster\": 4, \"pop\": 3075300, \"life_expect\": 67.65, \"fertility\": 5.31}, {\"year\": 1965, \"country\": \"Hong Kong\", \"cluster\": 4, \"pop\": 3597900, \"life_expect\": 70.0, \"fertility\": 4.02}, {\"year\": 1970, \"country\": \"Hong Kong\", \"cluster\": 4, \"pop\": 3959000, \"life_expect\": 72.0, \"fertility\": 2.89}, {\"year\": 1975, \"country\": \"Hong Kong\", \"cluster\": 4, \"pop\": 4395800, \"life_expect\": 73.6, \"fertility\": 2.32}, {\"year\": 1980, \"country\": \"Hong Kong\", \"cluster\": 4, \"pop\": 5063100, \"life_expect\": 75.45, \"fertility\": 1.8}, {\"year\": 1985, \"country\": \"Hong Kong\", \"cluster\": 4, \"pop\": 5456200, \"life_expect\": 76.2, \"fertility\": 1.31}, {\"year\": 1990, \"country\": \"Hong Kong\", \"cluster\": 4, \"pop\": 5687959, \"life_expect\": 77.601, \"fertility\": 1.288}, {\"year\": 1995, \"country\": \"Hong Kong\", \"cluster\": 4, \"pop\": 6225347, \"life_expect\": 80.0, \"fertility\": 1.08}, {\"year\": 2000, \"country\": \"Hong Kong\", \"cluster\": 4, \"pop\": 6658720, \"life_expect\": 81.495, \"fertility\": 0.9400000000000001}, {\"year\": 2005, \"country\": \"Hong Kong\", \"cluster\": 4, \"pop\": 6898686, \"life_expect\": 82.208, \"fertility\": 0.966}, {\"year\": 1955, \"country\": \"Iceland\", \"cluster\": 1, \"pop\": 158044, \"life_expect\": 73.47, \"fertility\": 4.023}, {\"year\": 1960, \"country\": \"Iceland\", \"cluster\": 1, \"pop\": 175860, \"life_expect\": 73.68, \"fertility\": 3.943}, {\"year\": 1965, \"country\": \"Iceland\", \"cluster\": 1, \"pop\": 192288, \"life_expect\": 73.73, \"fertility\": 3.154}, {\"year\": 1970, \"country\": \"Iceland\", \"cluster\": 1, \"pop\": 204104, \"life_expect\": 74.46, \"fertility\": 2.843}, {\"year\": 1975, \"country\": \"Iceland\", \"cluster\": 1, \"pop\": 218031, \"life_expect\": 76.11, \"fertility\": 2.287}, {\"year\": 1980, \"country\": \"Iceland\", \"cluster\": 1, \"pop\": 228161, \"life_expect\": 76.99, \"fertility\": 2.248}, {\"year\": 1985, \"country\": \"Iceland\", \"cluster\": 1, \"pop\": 241403, \"life_expect\": 77.23, \"fertility\": 2.116}, {\"year\": 1990, \"country\": \"Iceland\", \"cluster\": 1, \"pop\": 254719, \"life_expect\": 78.77, \"fertility\": 2.194}, {\"year\": 1995, \"country\": \"Iceland\", \"cluster\": 1, \"pop\": 267527, \"life_expect\": 78.95, \"fertility\": 2.056}, {\"year\": 2000, \"country\": \"Iceland\", \"cluster\": 1, \"pop\": 281043, \"life_expect\": 80.5, \"fertility\": 1.9929999999999999}, {\"year\": 2005, \"country\": \"Iceland\", \"cluster\": 1, \"pop\": 296737, \"life_expect\": 81.757, \"fertility\": 2.052}, {\"year\": 1955, \"country\": \"India\", \"cluster\": 0, \"pop\": 393000000, \"life_expect\": 40.249, \"fertility\": 5.8961}, {\"year\": 1960, \"country\": \"India\", \"cluster\": 0, \"pop\": 434000000, \"life_expect\": 43.605, \"fertility\": 5.8216}, {\"year\": 1965, \"country\": \"India\", \"cluster\": 0, \"pop\": 485000000, \"life_expect\": 47.193, \"fertility\": 5.6058}, {\"year\": 1970, \"country\": \"India\", \"cluster\": 0, \"pop\": 541000000, \"life_expect\": 50.651, \"fertility\": 5.264}, {\"year\": 1975, \"country\": \"India\", \"cluster\": 0, \"pop\": 607000000, \"life_expect\": 54.208, \"fertility\": 4.8888}, {\"year\": 1980, \"country\": \"India\", \"cluster\": 0, \"pop\": 679000000, \"life_expect\": 56.596, \"fertility\": 4.4975}, {\"year\": 1985, \"country\": \"India\", \"cluster\": 0, \"pop\": 755000000, \"life_expect\": 58.553, \"fertility\": 4.15}, {\"year\": 1990, \"country\": \"India\", \"cluster\": 0, \"pop\": 839000000, \"life_expect\": 60.223, \"fertility\": 3.8648}, {\"year\": 1995, \"country\": \"India\", \"cluster\": 0, \"pop\": 927000000, \"life_expect\": 61.765, \"fertility\": 3.4551}, {\"year\": 2000, \"country\": \"India\", \"cluster\": 0, \"pop\": 1007702000, \"life_expect\": 62.879, \"fertility\": 3.1132}, {\"year\": 2005, \"country\": \"India\", \"cluster\": 0, \"pop\": 1080264388, \"life_expect\": 64.698, \"fertility\": 2.8073}, {\"year\": 1955, \"country\": \"Indonesia\", \"cluster\": 4, \"pop\": 86807000, \"life_expect\": 39.918, \"fertility\": 5.672}, {\"year\": 1960, \"country\": \"Indonesia\", \"cluster\": 4, \"pop\": 95254000, \"life_expect\": 42.518, \"fertility\": 5.62}, {\"year\": 1965, \"country\": \"Indonesia\", \"cluster\": 4, \"pop\": 105093000, \"life_expect\": 45.964, \"fertility\": 5.568}, {\"year\": 1970, \"country\": \"Indonesia\", \"cluster\": 4, \"pop\": 116044000, \"life_expect\": 49.203, \"fertility\": 5.3}, {\"year\": 1975, \"country\": \"Indonesia\", \"cluster\": 4, \"pop\": 130297000, \"life_expect\": 52.702, \"fertility\": 4.73}, {\"year\": 1980, \"country\": \"Indonesia\", \"cluster\": 4, \"pop\": 146995000, \"life_expect\": 56.159, \"fertility\": 4.109}, {\"year\": 1985, \"country\": \"Indonesia\", \"cluster\": 4, \"pop\": 163403000, \"life_expect\": 60.137, \"fertility\": 3.4}, {\"year\": 1990, \"country\": \"Indonesia\", \"cluster\": 4, \"pop\": 178500000, \"life_expect\": 62.681, \"fertility\": 2.9}, {\"year\": 1995, \"country\": \"Indonesia\", \"cluster\": 4, \"pop\": 194755000, \"life_expect\": 66.041, \"fertility\": 2.55}, {\"year\": 2000, \"country\": \"Indonesia\", \"cluster\": 4, \"pop\": 206265000, \"life_expect\": 68.588, \"fertility\": 2.3761}, {\"year\": 2005, \"country\": \"Indonesia\", \"cluster\": 4, \"pop\": 218465000, \"life_expect\": 70.65, \"fertility\": 2.182}, {\"year\": 1955, \"country\": \"Iran\", \"cluster\": 5, \"pop\": 18729000, \"life_expect\": 47.181, \"fertility\": 7.0}, {\"year\": 1960, \"country\": \"Iran\", \"cluster\": 5, \"pop\": 21577000, \"life_expect\": 49.325, \"fertility\": 7.0}, {\"year\": 1965, \"country\": \"Iran\", \"cluster\": 5, \"pop\": 25000000, \"life_expect\": 52.469, \"fertility\": 6.8}, {\"year\": 1970, \"country\": \"Iran\", \"cluster\": 5, \"pop\": 28933000, \"life_expect\": 55.234, \"fertility\": 6.4}, {\"year\": 1975, \"country\": \"Iran\", \"cluster\": 5, \"pop\": 33379000, \"life_expect\": 57.702, \"fertility\": 6.5}, {\"year\": 1980, \"country\": \"Iran\", \"cluster\": 5, \"pop\": 39583397, \"life_expect\": 59.62, \"fertility\": 6.63}, {\"year\": 1985, \"country\": \"Iran\", \"cluster\": 5, \"pop\": 48439952, \"life_expect\": 63.04, \"fertility\": 5.62}, {\"year\": 1990, \"country\": \"Iran\", \"cluster\": 5, \"pop\": 57035717, \"life_expect\": 65.742, \"fertility\": 4.328}, {\"year\": 1995, \"country\": \"Iran\", \"cluster\": 5, \"pop\": 61628116, \"life_expect\": 68.042, \"fertility\": 2.534}, {\"year\": 2000, \"country\": \"Iran\", \"cluster\": 5, \"pop\": 65660289, \"life_expect\": 69.451, \"fertility\": 2.124}, {\"year\": 2005, \"country\": \"Iran\", \"cluster\": 5, \"pop\": 68017860, \"life_expect\": 70.964, \"fertility\": 2.04}, {\"year\": 1955, \"country\": \"Iraq\", \"cluster\": 5, \"pop\": 5903253, \"life_expect\": 48.437, \"fertility\": 7.3}, {\"year\": 1960, \"country\": \"Iraq\", \"cluster\": 5, \"pop\": 6822030, \"life_expect\": 51.457, \"fertility\": 7.25}, {\"year\": 1965, \"country\": \"Iraq\", \"cluster\": 5, \"pop\": 7970746, \"life_expect\": 54.459, \"fertility\": 7.2}, {\"year\": 1970, \"country\": \"Iraq\", \"cluster\": 5, \"pop\": 9413671, \"life_expect\": 56.95, \"fertility\": 7.15}, {\"year\": 1975, \"country\": \"Iraq\", \"cluster\": 5, \"pop\": 11117804, \"life_expect\": 60.413, \"fertility\": 6.8}, {\"year\": 1980, \"country\": \"Iraq\", \"cluster\": 5, \"pop\": 13232839, \"life_expect\": 62.038, \"fertility\": 6.35}, {\"year\": 1985, \"country\": \"Iraq\", \"cluster\": 5, \"pop\": 15693620, \"life_expect\": 65.044, \"fertility\": 6.15}, {\"year\": 1990, \"country\": \"Iraq\", \"cluster\": 5, \"pop\": 18134702, \"life_expect\": 59.461, \"fertility\": 5.7}, {\"year\": 1995, \"country\": \"Iraq\", \"cluster\": 5, \"pop\": 19557247, \"life_expect\": 58.811, \"fertility\": 5.37}, {\"year\": 2000, \"country\": \"Iraq\", \"cluster\": 5, \"pop\": 22675617, \"life_expect\": 57.046, \"fertility\": 4.858}, {\"year\": 2005, \"country\": \"Iraq\", \"cluster\": 5, \"pop\": 26074906, \"life_expect\": 59.545, \"fertility\": 4.264}, {\"year\": 1955, \"country\": \"Ireland\", \"cluster\": 1, \"pop\": 2916133, \"life_expect\": 68.9, \"fertility\": 3.68}, {\"year\": 1960, \"country\": \"Ireland\", \"cluster\": 1, \"pop\": 2832000, \"life_expect\": 70.29, \"fertility\": 3.979}, {\"year\": 1965, \"country\": \"Ireland\", \"cluster\": 1, \"pop\": 2876000, \"life_expect\": 71.08, \"fertility\": 3.873}, {\"year\": 1970, \"country\": \"Ireland\", \"cluster\": 1, \"pop\": 2950100, \"life_expect\": 71.28, \"fertility\": 3.815}, {\"year\": 1975, \"country\": \"Ireland\", \"cluster\": 1, \"pop\": 3177300, \"life_expect\": 72.03, \"fertility\": 3.478}, {\"year\": 1980, \"country\": \"Ireland\", \"cluster\": 1, \"pop\": 3401000, \"life_expect\": 73.1, \"fertility\": 2.877}, {\"year\": 1985, \"country\": \"Ireland\", \"cluster\": 1, \"pop\": 3540000, \"life_expect\": 74.36, \"fertility\": 2.287}, {\"year\": 1990, \"country\": \"Ireland\", \"cluster\": 1, \"pop\": 3508200, \"life_expect\": 75.467, \"fertility\": 1.9689999999999999}, {\"year\": 1995, \"country\": \"Ireland\", \"cluster\": 1, \"pop\": 3613890, \"life_expect\": 76.122, \"fertility\": 1.9}, {\"year\": 2000, \"country\": \"Ireland\", \"cluster\": 1, \"pop\": 3791690, \"life_expect\": 77.783, \"fertility\": 1.9689999999999999}, {\"year\": 2005, \"country\": \"Ireland\", \"cluster\": 1, \"pop\": 4015676, \"life_expect\": 78.885, \"fertility\": 1.964}, {\"year\": 1955, \"country\": \"Israel\", \"cluster\": 5, \"pop\": 1772032, \"life_expect\": 67.84, \"fertility\": 3.893}, {\"year\": 1960, \"country\": \"Israel\", \"cluster\": 5, \"pop\": 2141495, \"life_expect\": 69.39, \"fertility\": 3.852}, {\"year\": 1965, \"country\": \"Israel\", \"cluster\": 5, \"pop\": 2578184, \"life_expect\": 70.75, \"fertility\": 3.79}, {\"year\": 1970, \"country\": \"Israel\", \"cluster\": 5, \"pop\": 2903434, \"life_expect\": 71.63, \"fertility\": 3.77}, {\"year\": 1975, \"country\": \"Israel\", \"cluster\": 5, \"pop\": 3354242, \"life_expect\": 73.06, \"fertility\": 3.409}, {\"year\": 1980, \"country\": \"Israel\", \"cluster\": 5, \"pop\": 3737473, \"life_expect\": 74.45, \"fertility\": 3.125}, {\"year\": 1985, \"country\": \"Israel\", \"cluster\": 5, \"pop\": 4074965, \"life_expect\": 75.6, \"fertility\": 3.051}, {\"year\": 1990, \"country\": \"Israel\", \"cluster\": 5, \"pop\": 4512068, \"life_expect\": 76.93, \"fertility\": 2.933}, {\"year\": 1995, \"country\": \"Israel\", \"cluster\": 5, \"pop\": 5305120, \"life_expect\": 78.269, \"fertility\": 2.942}, {\"year\": 2000, \"country\": \"Israel\", \"cluster\": 5, \"pop\": 5842454, \"life_expect\": 79.696, \"fertility\": 2.906}, {\"year\": 2005, \"country\": \"Israel\", \"cluster\": 5, \"pop\": 6276883, \"life_expect\": 80.745, \"fertility\": 2.75}, {\"year\": 1955, \"country\": \"Italy\", \"cluster\": 1, \"pop\": 48633000, \"life_expect\": 67.81, \"fertility\": 2.35}, {\"year\": 1960, \"country\": \"Italy\", \"cluster\": 1, \"pop\": 50197600, \"life_expect\": 69.24, \"fertility\": 2.498}, {\"year\": 1965, \"country\": \"Italy\", \"cluster\": 1, \"pop\": 51987100, \"life_expect\": 71.06, \"fertility\": 2.493}, {\"year\": 1970, \"country\": \"Italy\", \"cluster\": 1, \"pop\": 53661100, \"life_expect\": 72.19, \"fertility\": 2.325}, {\"year\": 1975, \"country\": \"Italy\", \"cluster\": 1, \"pop\": 55571894, \"life_expect\": 73.48, \"fertility\": 1.889}, {\"year\": 1980, \"country\": \"Italy\", \"cluster\": 1, \"pop\": 56451247, \"life_expect\": 74.98, \"fertility\": 1.53}, {\"year\": 1985, \"country\": \"Italy\", \"cluster\": 1, \"pop\": 56731215, \"life_expect\": 76.42, \"fertility\": 1.349}, {\"year\": 1990, \"country\": \"Italy\", \"cluster\": 1, \"pop\": 56742886, \"life_expect\": 77.44, \"fertility\": 1.275}, {\"year\": 1995, \"country\": \"Italy\", \"cluster\": 1, \"pop\": 57274531, \"life_expect\": 78.82, \"fertility\": 1.213}, {\"year\": 2000, \"country\": \"Italy\", \"cluster\": 1, \"pop\": 57719337, \"life_expect\": 80.24, \"fertility\": 1.286}, {\"year\": 2005, \"country\": \"Italy\", \"cluster\": 1, \"pop\": 58103033, \"life_expect\": 80.546, \"fertility\": 1.379}, {\"year\": 1955, \"country\": \"Jamaica\", \"cluster\": 3, \"pop\": 1488805, \"life_expect\": 62.61, \"fertility\": 5.08}, {\"year\": 1960, \"country\": \"Jamaica\", \"cluster\": 3, \"pop\": 1631784, \"life_expect\": 65.61, \"fertility\": 5.64}, {\"year\": 1965, \"country\": \"Jamaica\", \"cluster\": 3, \"pop\": 1777397, \"life_expect\": 67.51, \"fertility\": 5.78}, {\"year\": 1970, \"country\": \"Jamaica\", \"cluster\": 3, \"pop\": 1943787, \"life_expect\": 69.0, \"fertility\": 5.0}, {\"year\": 1975, \"country\": \"Jamaica\", \"cluster\": 3, \"pop\": 2104879, \"life_expect\": 70.11, \"fertility\": 4.0}, {\"year\": 1980, \"country\": \"Jamaica\", \"cluster\": 3, \"pop\": 2228803, \"life_expect\": 71.21, \"fertility\": 3.55}, {\"year\": 1985, \"country\": \"Jamaica\", \"cluster\": 3, \"pop\": 2318652, \"life_expect\": 71.77, \"fertility\": 3.1}, {\"year\": 1990, \"country\": \"Jamaica\", \"cluster\": 3, \"pop\": 2347922, \"life_expect\": 71.766, \"fertility\": 2.84}, {\"year\": 1995, \"country\": \"Jamaica\", \"cluster\": 3, \"pop\": 2469389, \"life_expect\": 72.262, \"fertility\": 2.67}, {\"year\": 2000, \"country\": \"Jamaica\", \"cluster\": 3, \"pop\": 2615467, \"life_expect\": 72.047, \"fertility\": 2.628}, {\"year\": 2005, \"country\": \"Jamaica\", \"cluster\": 3, \"pop\": 2735520, \"life_expect\": 72.567, \"fertility\": 2.4289}, {\"year\": 1955, \"country\": \"Japan\", \"cluster\": 4, \"pop\": 89815060, \"life_expect\": 65.5, \"fertility\": 2.08}, {\"year\": 1960, \"country\": \"Japan\", \"cluster\": 4, \"pop\": 94091638, \"life_expect\": 68.73, \"fertility\": 2.02}, {\"year\": 1965, \"country\": \"Japan\", \"cluster\": 4, \"pop\": 98882534, \"life_expect\": 71.43, \"fertility\": 2.0}, {\"year\": 1970, \"country\": \"Japan\", \"cluster\": 4, \"pop\": 104344973, \"life_expect\": 73.42, \"fertility\": 2.07}, {\"year\": 1975, \"country\": \"Japan\", \"cluster\": 4, \"pop\": 111573116, \"life_expect\": 75.38, \"fertility\": 1.81}, {\"year\": 1980, \"country\": \"Japan\", \"cluster\": 4, \"pop\": 116807309, \"life_expect\": 77.11, \"fertility\": 1.76}, {\"year\": 1985, \"country\": \"Japan\", \"cluster\": 4, \"pop\": 120754335, \"life_expect\": 78.67, \"fertility\": 1.6600000000000001}, {\"year\": 1990, \"country\": \"Japan\", \"cluster\": 4, \"pop\": 123537399, \"life_expect\": 79.36, \"fertility\": 1.49}, {\"year\": 1995, \"country\": \"Japan\", \"cluster\": 4, \"pop\": 125341354, \"life_expect\": 80.69, \"fertility\": 1.3900000000000001}, {\"year\": 2000, \"country\": \"Japan\", \"cluster\": 4, \"pop\": 126699784, \"life_expect\": 82.0, \"fertility\": 1.291}, {\"year\": 2005, \"country\": \"Japan\", \"cluster\": 4, \"pop\": 127417244, \"life_expect\": 82.603, \"fertility\": 1.27}, {\"year\": 1955, \"country\": \"Kenya\", \"cluster\": 2, \"pop\": 7033999, \"life_expect\": 44.686, \"fertility\": 7.816}, {\"year\": 1960, \"country\": \"Kenya\", \"cluster\": 2, \"pop\": 8156827, \"life_expect\": 47.949, \"fertility\": 8.12}, {\"year\": 1965, \"country\": \"Kenya\", \"cluster\": 2, \"pop\": 9549179, \"life_expect\": 50.654, \"fertility\": 8.12}, {\"year\": 1970, \"country\": \"Kenya\", \"cluster\": 2, \"pop\": 11247182, \"life_expect\": 53.559, \"fertility\": 8.0}, {\"year\": 1975, \"country\": \"Kenya\", \"cluster\": 2, \"pop\": 13433414, \"life_expect\": 56.155, \"fertility\": 7.6}, {\"year\": 1980, \"country\": \"Kenya\", \"cluster\": 2, \"pop\": 16331401, \"life_expect\": 58.766, \"fertility\": 7.2}, {\"year\": 1985, \"country\": \"Kenya\", \"cluster\": 2, \"pop\": 19763285, \"life_expect\": 59.339, \"fertility\": 6.5}, {\"year\": 1990, \"country\": \"Kenya\", \"cluster\": 2, \"pop\": 23358413, \"life_expect\": 59.285, \"fertility\": 5.4}, {\"year\": 1995, \"country\": \"Kenya\", \"cluster\": 2, \"pop\": 27060142, \"life_expect\": 54.407, \"fertility\": 5.0}, {\"year\": 2000, \"country\": \"Kenya\", \"cluster\": 2, \"pop\": 29985839, \"life_expect\": 50.992, \"fertility\": 5.0}, {\"year\": 2005, \"country\": \"Kenya\", \"cluster\": 2, \"pop\": 33829590, \"life_expect\": 54.11, \"fertility\": 4.959}, {\"year\": 1955, \"country\": \"South Korea\", \"cluster\": 4, \"pop\": 8839427, \"life_expect\": 54.081, \"fertility\": 3.8}, {\"year\": 1960, \"country\": \"South Korea\", \"cluster\": 4, \"pop\": 10391909, \"life_expect\": 56.656, \"fertility\": 3.41}, {\"year\": 1965, \"country\": \"South Korea\", \"cluster\": 4, \"pop\": 11868751, \"life_expect\": 59.942, \"fertility\": 4.09}, {\"year\": 1970, \"country\": \"South Korea\", \"cluster\": 4, \"pop\": 13911902, \"life_expect\": 63.983, \"fertility\": 3.7199999999999998}, {\"year\": 1975, \"country\": \"South Korea\", \"cluster\": 4, \"pop\": 15801308, \"life_expect\": 67.159, \"fertility\": 2.58}, {\"year\": 1980, \"country\": \"South Korea\", \"cluster\": 4, \"pop\": 17113626, \"life_expect\": 69.1, \"fertility\": 2.93}, {\"year\": 1985, \"country\": \"South Korea\", \"cluster\": 4, \"pop\": 18481420, \"life_expect\": 70.647, \"fertility\": 2.45}, {\"year\": 1990, \"country\": \"South Korea\", \"cluster\": 4, \"pop\": 20018546, \"life_expect\": 69.978, \"fertility\": 2.35}, {\"year\": 1995, \"country\": \"South Korea\", \"cluster\": 4, \"pop\": 21561856, \"life_expect\": 67.727, \"fertility\": 2.0938}, {\"year\": 2000, \"country\": \"South Korea\", \"cluster\": 4, \"pop\": 21647682, \"life_expect\": 66.662, \"fertility\": 1.9173}, {\"year\": 2005, \"country\": \"South Korea\", \"cluster\": 4, \"pop\": 22912177, \"life_expect\": 67.297, \"fertility\": 1.85}, {\"year\": 1955, \"country\": \"North Korea\", \"cluster\": 4, \"pop\": 21551834, \"life_expect\": 52.681, \"fertility\": 6.332}, {\"year\": 1960, \"country\": \"North Korea\", \"cluster\": 4, \"pop\": 24784140, \"life_expect\": 55.292, \"fertility\": 5.63}, {\"year\": 1965, \"country\": \"North Korea\", \"cluster\": 4, \"pop\": 28705000, \"life_expect\": 57.716, \"fertility\": 4.708}, {\"year\": 1970, \"country\": \"North Korea\", \"cluster\": 4, \"pop\": 32241000, \"life_expect\": 62.612, \"fertility\": 4.281}, {\"year\": 1975, \"country\": \"North Korea\", \"cluster\": 4, \"pop\": 35281000, \"life_expect\": 64.766, \"fertility\": 2.919}, {\"year\": 1980, \"country\": \"North Korea\", \"cluster\": 4, \"pop\": 38124000, \"life_expect\": 67.123, \"fertility\": 2.234}, {\"year\": 1985, \"country\": \"North Korea\", \"cluster\": 4, \"pop\": 40806000, \"life_expect\": 69.81, \"fertility\": 1.601}, {\"year\": 1990, \"country\": \"North Korea\", \"cluster\": 4, \"pop\": 42869000, \"life_expect\": 72.244, \"fertility\": 1.6960000000000002}, {\"year\": 1995, \"country\": \"North Korea\", \"cluster\": 4, \"pop\": 45264146, \"life_expect\": 74.647, \"fertility\": 1.514}, {\"year\": 2000, \"country\": \"North Korea\", \"cluster\": 4, \"pop\": 47351083, \"life_expect\": 77.045, \"fertility\": 1.242}, {\"year\": 2005, \"country\": \"North Korea\", \"cluster\": 4, \"pop\": 48640671, \"life_expect\": 78.623, \"fertility\": 1.21}, {\"year\": 1955, \"country\": \"Lebanon\", \"cluster\": 5, \"pop\": 1560985, \"life_expect\": 59.489, \"fertility\": 5.72}, {\"year\": 1960, \"country\": \"Lebanon\", \"cluster\": 5, \"pop\": 1786235, \"life_expect\": 62.094, \"fertility\": 5.689}, {\"year\": 1965, \"country\": \"Lebanon\", \"cluster\": 5, \"pop\": 2057945, \"life_expect\": 63.87, \"fertility\": 5.336}, {\"year\": 1970, \"country\": \"Lebanon\", \"cluster\": 5, \"pop\": 2383029, \"life_expect\": 65.421, \"fertility\": 4.78}, {\"year\": 1975, \"country\": \"Lebanon\", \"cluster\": 5, \"pop\": 3098159, \"life_expect\": 66.099, \"fertility\": 4.311}, {\"year\": 1980, \"country\": \"Lebanon\", \"cluster\": 5, \"pop\": 3085876, \"life_expect\": 66.983, \"fertility\": 3.895}, {\"year\": 1985, \"country\": \"Lebanon\", \"cluster\": 5, \"pop\": 3088235, \"life_expect\": 67.926, \"fertility\": 3.313}, {\"year\": 1990, \"country\": \"Lebanon\", \"cluster\": 5, \"pop\": 3147267, \"life_expect\": 69.292, \"fertility\": 3.0}, {\"year\": 1995, \"country\": \"Lebanon\", \"cluster\": 5, \"pop\": 3334733, \"life_expect\": 70.265, \"fertility\": 2.6950000000000003}, {\"year\": 2000, \"country\": \"Lebanon\", \"cluster\": 5, \"pop\": 3578036, \"life_expect\": 71.028, \"fertility\": 2.319}, {\"year\": 2005, \"country\": \"Lebanon\", \"cluster\": 5, \"pop\": 3826018, \"life_expect\": 71.993, \"fertility\": 2.209}, {\"year\": 1955, \"country\": \"Mexico\", \"cluster\": 3, \"pop\": 32929914, \"life_expect\": 55.19, \"fertility\": 6.8}, {\"year\": 1960, \"country\": \"Mexico\", \"cluster\": 3, \"pop\": 38578505, \"life_expect\": 58.299, \"fertility\": 6.7495}, {\"year\": 1965, \"country\": \"Mexico\", \"cluster\": 3, \"pop\": 45142399, \"life_expect\": 60.11, \"fertility\": 6.7495}, {\"year\": 1970, \"country\": \"Mexico\", \"cluster\": 3, \"pop\": 52775158, \"life_expect\": 62.361, \"fertility\": 6.5}, {\"year\": 1975, \"country\": \"Mexico\", \"cluster\": 3, \"pop\": 60678045, \"life_expect\": 65.032, \"fertility\": 5.2505}, {\"year\": 1980, \"country\": \"Mexico\", \"cluster\": 3, \"pop\": 68347479, \"life_expect\": 67.405, \"fertility\": 4.25}, {\"year\": 1985, \"country\": \"Mexico\", \"cluster\": 3, \"pop\": 76767225, \"life_expect\": 69.498, \"fertility\": 3.6295}, {\"year\": 1990, \"country\": \"Mexico\", \"cluster\": 3, \"pop\": 84913652, \"life_expect\": 71.455, \"fertility\": 3.1905}, {\"year\": 1995, \"country\": \"Mexico\", \"cluster\": 3, \"pop\": 92880353, \"life_expect\": 73.67, \"fertility\": 2.6705}, {\"year\": 2000, \"country\": \"Mexico\", \"cluster\": 3, \"pop\": 99926620, \"life_expect\": 74.902, \"fertility\": 2.4005}, {\"year\": 2005, \"country\": \"Mexico\", \"cluster\": 3, \"pop\": 106202903, \"life_expect\": 76.195, \"fertility\": 2.211}, {\"year\": 1955, \"country\": \"Netherlands\", \"cluster\": 1, \"pop\": 10750842, \"life_expect\": 72.99, \"fertility\": 3.095}, {\"year\": 1960, \"country\": \"Netherlands\", \"cluster\": 1, \"pop\": 11486000, \"life_expect\": 73.23, \"fertility\": 3.168}, {\"year\": 1965, \"country\": \"Netherlands\", \"cluster\": 1, \"pop\": 12292000, \"life_expect\": 73.82, \"fertility\": 2.797}, {\"year\": 1970, \"country\": \"Netherlands\", \"cluster\": 1, \"pop\": 13032335, \"life_expect\": 73.75, \"fertility\": 2.059}, {\"year\": 1975, \"country\": \"Netherlands\", \"cluster\": 1, \"pop\": 13653438, \"life_expect\": 75.24, \"fertility\": 1.596}, {\"year\": 1980, \"country\": \"Netherlands\", \"cluster\": 1, \"pop\": 14143901, \"life_expect\": 76.05, \"fertility\": 1.5150000000000001}, {\"year\": 1985, \"country\": \"Netherlands\", \"cluster\": 1, \"pop\": 14491380, \"life_expect\": 76.83, \"fertility\": 1.5550000000000002}, {\"year\": 1990, \"country\": \"Netherlands\", \"cluster\": 1, \"pop\": 14951510, \"life_expect\": 77.42, \"fertility\": 1.583}, {\"year\": 1995, \"country\": \"Netherlands\", \"cluster\": 1, \"pop\": 15459054, \"life_expect\": 78.03, \"fertility\": 1.6}, {\"year\": 2000, \"country\": \"Netherlands\", \"cluster\": 1, \"pop\": 15907853, \"life_expect\": 78.53, \"fertility\": 1.726}, {\"year\": 2005, \"country\": \"Netherlands\", \"cluster\": 1, \"pop\": 16407491, \"life_expect\": 79.762, \"fertility\": 1.721}, {\"year\": 1955, \"country\": \"New Zealand\", \"cluster\": 4, \"pop\": 2136168, \"life_expect\": 70.26, \"fertility\": 4.07}, {\"year\": 1960, \"country\": \"New Zealand\", \"cluster\": 4, \"pop\": 2371746, \"life_expect\": 71.24, \"fertility\": 4.022}, {\"year\": 1965, \"country\": \"New Zealand\", \"cluster\": 4, \"pop\": 2640400, \"life_expect\": 71.52, \"fertility\": 3.348}, {\"year\": 1970, \"country\": \"New Zealand\", \"cluster\": 4, \"pop\": 2828050, \"life_expect\": 71.89, \"fertility\": 2.843}, {\"year\": 1975, \"country\": \"New Zealand\", \"cluster\": 4, \"pop\": 3117800, \"life_expect\": 72.22, \"fertility\": 2.178}, {\"year\": 1980, \"country\": \"New Zealand\", \"cluster\": 4, \"pop\": 3170150, \"life_expect\": 73.84, \"fertility\": 1.963}, {\"year\": 1985, \"country\": \"New Zealand\", \"cluster\": 4, \"pop\": 3298050, \"life_expect\": 74.32, \"fertility\": 2.053}, {\"year\": 1990, \"country\": \"New Zealand\", \"cluster\": 4, \"pop\": 3359604, \"life_expect\": 76.33, \"fertility\": 2.061}, {\"year\": 1995, \"country\": \"New Zealand\", \"cluster\": 4, \"pop\": 3565990, \"life_expect\": 77.55, \"fertility\": 1.952}, {\"year\": 2000, \"country\": \"New Zealand\", \"cluster\": 4, \"pop\": 3819762, \"life_expect\": 79.11, \"fertility\": 1.964}, {\"year\": 2005, \"country\": \"New Zealand\", \"cluster\": 4, \"pop\": 4035461, \"life_expect\": 80.204, \"fertility\": 1.994}, {\"year\": 1955, \"country\": \"Nigeria\", \"cluster\": 2, \"pop\": 35458978, \"life_expect\": 37.802, \"fertility\": 6.9}, {\"year\": 1960, \"country\": \"Nigeria\", \"cluster\": 2, \"pop\": 39914593, \"life_expect\": 39.36, \"fertility\": 6.9}, {\"year\": 1965, \"country\": \"Nigeria\", \"cluster\": 2, \"pop\": 45020052, \"life_expect\": 41.04, \"fertility\": 6.9}, {\"year\": 1970, \"country\": \"Nigeria\", \"cluster\": 2, \"pop\": 51027516, \"life_expect\": 42.821, \"fertility\": 6.9}, {\"year\": 1975, \"country\": \"Nigeria\", \"cluster\": 2, \"pop\": 58522112, \"life_expect\": 44.514, \"fertility\": 6.9}, {\"year\": 1980, \"country\": \"Nigeria\", \"cluster\": 2, \"pop\": 68550274, \"life_expect\": 45.826, \"fertility\": 6.9}, {\"year\": 1985, \"country\": \"Nigeria\", \"cluster\": 2, \"pop\": 77573154, \"life_expect\": 46.886, \"fertility\": 6.834}, {\"year\": 1990, \"country\": \"Nigeria\", \"cluster\": 2, \"pop\": 88510354, \"life_expect\": 47.472, \"fertility\": 6.635}, {\"year\": 1995, \"country\": \"Nigeria\", \"cluster\": 2, \"pop\": 100960105, \"life_expect\": 47.464, \"fertility\": 6.246}, {\"year\": 2000, \"country\": \"Nigeria\", \"cluster\": 2, \"pop\": 114306700, \"life_expect\": 46.608, \"fertility\": 5.845}, {\"year\": 2005, \"country\": \"Nigeria\", \"cluster\": 2, \"pop\": 128765768, \"life_expect\": 46.859, \"fertility\": 5.322}, {\"year\": 1955, \"country\": \"Norway\", \"cluster\": 1, \"pop\": 3427409, \"life_expect\": 73.44, \"fertility\": 2.8369999999999997}, {\"year\": 1960, \"country\": \"Norway\", \"cluster\": 1, \"pop\": 3581239, \"life_expect\": 73.47, \"fertility\": 2.898}, {\"year\": 1965, \"country\": \"Norway\", \"cluster\": 1, \"pop\": 3723153, \"life_expect\": 74.08, \"fertility\": 2.719}, {\"year\": 1970, \"country\": \"Norway\", \"cluster\": 1, \"pop\": 3877386, \"life_expect\": 74.34, \"fertility\": 2.248}, {\"year\": 1975, \"country\": \"Norway\", \"cluster\": 1, \"pop\": 4007313, \"life_expect\": 75.37, \"fertility\": 1.81}, {\"year\": 1980, \"country\": \"Norway\", \"cluster\": 1, \"pop\": 4085620, \"life_expect\": 75.97, \"fertility\": 1.687}, {\"year\": 1985, \"country\": \"Norway\", \"cluster\": 1, \"pop\": 4152419, \"life_expect\": 75.89, \"fertility\": 1.8}, {\"year\": 1990, \"country\": \"Norway\", \"cluster\": 1, \"pop\": 4242006, \"life_expect\": 77.32, \"fertility\": 1.8860000000000001}, {\"year\": 1995, \"country\": \"Norway\", \"cluster\": 1, \"pop\": 4359101, \"life_expect\": 78.32, \"fertility\": 1.853}, {\"year\": 2000, \"country\": \"Norway\", \"cluster\": 1, \"pop\": 4492400, \"life_expect\": 79.05, \"fertility\": 1.8010000000000002}, {\"year\": 2005, \"country\": \"Norway\", \"cluster\": 1, \"pop\": 4593041, \"life_expect\": 80.196, \"fertility\": 1.8479999999999999}, {\"year\": 1955, \"country\": \"Pakistan\", \"cluster\": 0, \"pop\": 44434445, \"life_expect\": 45.557, \"fertility\": 6.6}, {\"year\": 1960, \"country\": \"Pakistan\", \"cluster\": 0, \"pop\": 50386898, \"life_expect\": 47.67, \"fertility\": 6.6}, {\"year\": 1965, \"country\": \"Pakistan\", \"cluster\": 0, \"pop\": 57494940, \"life_expect\": 49.8, \"fertility\": 6.6}, {\"year\": 1970, \"country\": \"Pakistan\", \"cluster\": 0, \"pop\": 65705964, \"life_expect\": 51.929, \"fertility\": 6.6}, {\"year\": 1975, \"country\": \"Pakistan\", \"cluster\": 0, \"pop\": 74711541, \"life_expect\": 54.043, \"fertility\": 6.6}, {\"year\": 1980, \"country\": \"Pakistan\", \"cluster\": 0, \"pop\": 85219117, \"life_expect\": 56.158, \"fertility\": 6.6}, {\"year\": 1985, \"country\": \"Pakistan\", \"cluster\": 0, \"pop\": 99060352, \"life_expect\": 58.245, \"fertility\": 6.66}, {\"year\": 1990, \"country\": \"Pakistan\", \"cluster\": 0, \"pop\": 114578478, \"life_expect\": 60.838, \"fertility\": 5.8}, {\"year\": 1995, \"country\": \"Pakistan\", \"cluster\": 0, \"pop\": 128690285, \"life_expect\": 61.818, \"fertility\": 4.9596}, {\"year\": 2000, \"country\": \"Pakistan\", \"cluster\": 0, \"pop\": 146342958, \"life_expect\": 63.61, \"fertility\": 3.9936}, {\"year\": 2005, \"country\": \"Pakistan\", \"cluster\": 0, \"pop\": 162419946, \"life_expect\": 65.483, \"fertility\": 3.5211}, {\"year\": 1955, \"country\": \"Peru\", \"cluster\": 3, \"pop\": 8671500, \"life_expect\": 46.263, \"fertility\": 6.853}, {\"year\": 1960, \"country\": \"Peru\", \"cluster\": 3, \"pop\": 9931000, \"life_expect\": 49.096, \"fertility\": 6.853}, {\"year\": 1965, \"country\": \"Peru\", \"cluster\": 3, \"pop\": 11467300, \"life_expect\": 51.445, \"fertility\": 6.5600000000000005}, {\"year\": 1970, \"country\": \"Peru\", \"cluster\": 3, \"pop\": 13192800, \"life_expect\": 55.448, \"fertility\": 6.0}, {\"year\": 1975, \"country\": \"Peru\", \"cluster\": 3, \"pop\": 15161199, \"life_expect\": 58.447, \"fertility\": 5.378}, {\"year\": 1980, \"country\": \"Peru\", \"cluster\": 3, \"pop\": 17295298, \"life_expect\": 61.406, \"fertility\": 4.65}, {\"year\": 1985, \"country\": \"Peru\", \"cluster\": 3, \"pop\": 19348926, \"life_expect\": 64.134, \"fertility\": 4.1}, {\"year\": 1990, \"country\": \"Peru\", \"cluster\": 3, \"pop\": 21511443, \"life_expect\": 66.458, \"fertility\": 3.7}, {\"year\": 1995, \"country\": \"Peru\", \"cluster\": 3, \"pop\": 23846388, \"life_expect\": 68.386, \"fertility\": 3.0995}, {\"year\": 2000, \"country\": \"Peru\", \"cluster\": 3, \"pop\": 25979722, \"life_expect\": 69.906, \"fertility\": 2.7005}, {\"year\": 2005, \"country\": \"Peru\", \"cluster\": 3, \"pop\": 27925628, \"life_expect\": 71.421, \"fertility\": 2.5065}, {\"year\": 1955, \"country\": \"Philippines\", \"cluster\": 4, \"pop\": 24553055, \"life_expect\": 51.334, \"fertility\": 7.13}, {\"year\": 1960, \"country\": \"Philippines\", \"cluster\": 4, \"pop\": 28528939, \"life_expect\": 54.757, \"fertility\": 6.85}, {\"year\": 1965, \"country\": \"Philippines\", \"cluster\": 4, \"pop\": 33267569, \"life_expect\": 56.393, \"fertility\": 6.5}, {\"year\": 1970, \"country\": \"Philippines\", \"cluster\": 4, \"pop\": 38603696, \"life_expect\": 58.065, \"fertility\": 6.0}, {\"year\": 1975, \"country\": \"Philippines\", \"cluster\": 4, \"pop\": 44336842, \"life_expect\": 60.06, \"fertility\": 5.5}, {\"year\": 1980, \"country\": \"Philippines\", \"cluster\": 4, \"pop\": 50940182, \"life_expect\": 62.082, \"fertility\": 4.95}, {\"year\": 1985, \"country\": \"Philippines\", \"cluster\": 4, \"pop\": 57288037, \"life_expect\": 64.151, \"fertility\": 4.55}, {\"year\": 1990, \"country\": \"Philippines\", \"cluster\": 4, \"pop\": 64318120, \"life_expect\": 66.458, \"fertility\": 4.143}, {\"year\": 1995, \"country\": \"Philippines\", \"cluster\": 4, \"pop\": 71717437, \"life_expect\": 68.564, \"fertility\": 3.7248}, {\"year\": 2000, \"country\": \"Philippines\", \"cluster\": 4, \"pop\": 79739825, \"life_expect\": 70.303, \"fertility\": 3.5436}, {\"year\": 2005, \"country\": \"Philippines\", \"cluster\": 4, \"pop\": 87857473, \"life_expect\": 71.688, \"fertility\": 3.2327}, {\"year\": 1955, \"country\": \"Poland\", \"cluster\": 1, \"pop\": 27220668, \"life_expect\": 65.77, \"fertility\": 3.29}, {\"year\": 1960, \"country\": \"Poland\", \"cluster\": 1, \"pop\": 29589842, \"life_expect\": 67.64, \"fertility\": 2.65}, {\"year\": 1965, \"country\": \"Poland\", \"cluster\": 1, \"pop\": 31262358, \"life_expect\": 69.61, \"fertility\": 2.27}, {\"year\": 1970, \"country\": \"Poland\", \"cluster\": 1, \"pop\": 32526000, \"life_expect\": 70.85, \"fertility\": 2.25}, {\"year\": 1975, \"country\": \"Poland\", \"cluster\": 1, \"pop\": 33969240, \"life_expect\": 70.67, \"fertility\": 2.26}, {\"year\": 1980, \"country\": \"Poland\", \"cluster\": 1, \"pop\": 35578016, \"life_expect\": 71.32, \"fertility\": 2.33}, {\"year\": 1985, \"country\": \"Poland\", \"cluster\": 1, \"pop\": 37225792, \"life_expect\": 70.98, \"fertility\": 2.15}, {\"year\": 1990, \"country\": \"Poland\", \"cluster\": 1, \"pop\": 38119408, \"life_expect\": 70.99, \"fertility\": 1.8900000000000001}, {\"year\": 1995, \"country\": \"Poland\", \"cluster\": 1, \"pop\": 38600642, \"life_expect\": 72.75, \"fertility\": 1.478}, {\"year\": 2000, \"country\": \"Poland\", \"cluster\": 1, \"pop\": 38654164, \"life_expect\": 74.67, \"fertility\": 1.251}, {\"year\": 2005, \"country\": \"Poland\", \"cluster\": 1, \"pop\": 38557984, \"life_expect\": 75.563, \"fertility\": 1.227}, {\"year\": 1955, \"country\": \"Portugal\", \"cluster\": 1, \"pop\": 8692600, \"life_expect\": 61.51, \"fertility\": 3.03}, {\"year\": 1960, \"country\": \"Portugal\", \"cluster\": 1, \"pop\": 9036700, \"life_expect\": 64.39, \"fertility\": 3.074}, {\"year\": 1965, \"country\": \"Portugal\", \"cluster\": 1, \"pop\": 9128850, \"life_expect\": 66.6, \"fertility\": 2.849}, {\"year\": 1970, \"country\": \"Portugal\", \"cluster\": 1, \"pop\": 9044200, \"life_expect\": 69.26, \"fertility\": 2.748}, {\"year\": 1975, \"country\": \"Portugal\", \"cluster\": 1, \"pop\": 9411090, \"life_expect\": 70.41, \"fertility\": 2.41}, {\"year\": 1980, \"country\": \"Portugal\", \"cluster\": 1, \"pop\": 9777800, \"life_expect\": 72.77, \"fertility\": 1.982}, {\"year\": 1985, \"country\": \"Portugal\", \"cluster\": 1, \"pop\": 9897192, \"life_expect\": 74.06, \"fertility\": 1.5939999999999999}, {\"year\": 1990, \"country\": \"Portugal\", \"cluster\": 1, \"pop\": 9922689, \"life_expect\": 74.86, \"fertility\": 1.516}, {\"year\": 1995, \"country\": \"Portugal\", \"cluster\": 1, \"pop\": 10065543, \"life_expect\": 75.97, \"fertility\": 1.475}, {\"year\": 2000, \"country\": \"Portugal\", \"cluster\": 1, \"pop\": 10335597, \"life_expect\": 77.29, \"fertility\": 1.454}, {\"year\": 2005, \"country\": \"Portugal\", \"cluster\": 1, \"pop\": 10566212, \"life_expect\": 78.098, \"fertility\": 1.455}, {\"year\": 1955, \"country\": \"Rwanda\", \"cluster\": 2, \"pop\": 2698272, \"life_expect\": 41.5, \"fertility\": 8.0}, {\"year\": 1960, \"country\": \"Rwanda\", \"cluster\": 2, \"pop\": 3031804, \"life_expect\": 43.0, \"fertility\": 8.1}, {\"year\": 1965, \"country\": \"Rwanda\", \"cluster\": 2, \"pop\": 3264640, \"life_expect\": 44.1, \"fertility\": 8.2}, {\"year\": 1970, \"country\": \"Rwanda\", \"cluster\": 2, \"pop\": 3769171, \"life_expect\": 44.6, \"fertility\": 8.29}, {\"year\": 1975, \"country\": \"Rwanda\", \"cluster\": 2, \"pop\": 4356863, \"life_expect\": 45.0, \"fertility\": 8.492}, {\"year\": 1980, \"country\": \"Rwanda\", \"cluster\": 2, \"pop\": 5138689, \"life_expect\": 46.218, \"fertility\": 8.5}, {\"year\": 1985, \"country\": \"Rwanda\", \"cluster\": 2, \"pop\": 6009833, \"life_expect\": 44.02, \"fertility\": 8.25}, {\"year\": 1990, \"country\": \"Rwanda\", \"cluster\": 2, \"pop\": 6923738, \"life_expect\": 23.599, \"fertility\": 6.9}, {\"year\": 1995, \"country\": \"Rwanda\", \"cluster\": 2, \"pop\": 5706501, \"life_expect\": 36.087, \"fertility\": 6.0993}, {\"year\": 2000, \"country\": \"Rwanda\", \"cluster\": 2, \"pop\": 7507056, \"life_expect\": 43.413, \"fertility\": 6.01}, {\"year\": 2005, \"country\": \"Rwanda\", \"cluster\": 2, \"pop\": 8440820, \"life_expect\": 46.242, \"fertility\": 5.9169}, {\"year\": 1955, \"country\": \"Saudi Arabia\", \"cluster\": 5, \"pop\": 4243218, \"life_expect\": 42.868, \"fertility\": 7.175}, {\"year\": 1960, \"country\": \"Saudi Arabia\", \"cluster\": 5, \"pop\": 4718301, \"life_expect\": 45.914, \"fertility\": 7.257}, {\"year\": 1965, \"country\": \"Saudi Arabia\", \"cluster\": 5, \"pop\": 5327432, \"life_expect\": 49.901, \"fertility\": 7.257}, {\"year\": 1970, \"country\": \"Saudi Arabia\", \"cluster\": 5, \"pop\": 6109051, \"life_expect\": 53.886, \"fertility\": 7.298}, {\"year\": 1975, \"country\": \"Saudi Arabia\", \"cluster\": 5, \"pop\": 7204820, \"life_expect\": 58.69, \"fertility\": 7.2780000000000005}, {\"year\": 1980, \"country\": \"Saudi Arabia\", \"cluster\": 5, \"pop\": 9999161, \"life_expect\": 63.012, \"fertility\": 7.015}, {\"year\": 1985, \"country\": \"Saudi Arabia\", \"cluster\": 5, \"pop\": 13330067, \"life_expect\": 66.295, \"fertility\": 6.217}, {\"year\": 1990, \"country\": \"Saudi Arabia\", \"cluster\": 5, \"pop\": 16060761, \"life_expect\": 68.768, \"fertility\": 5.446}, {\"year\": 1995, \"country\": \"Saudi Arabia\", \"cluster\": 5, \"pop\": 19966998, \"life_expect\": 70.533, \"fertility\": 4.621}, {\"year\": 2000, \"country\": \"Saudi Arabia\", \"cluster\": 5, \"pop\": 23153090, \"life_expect\": 71.626, \"fertility\": 3.81}, {\"year\": 2005, \"country\": \"Saudi Arabia\", \"cluster\": 5, \"pop\": 26417599, \"life_expect\": 72.777, \"fertility\": 3.352}, {\"year\": 1955, \"country\": \"South Africa\", \"cluster\": 2, \"pop\": 15368551, \"life_expect\": 47.985, \"fertility\": 6.5}, {\"year\": 1960, \"country\": \"South Africa\", \"cluster\": 2, \"pop\": 17416653, \"life_expect\": 49.951, \"fertility\": 6.3}, {\"year\": 1965, \"country\": \"South Africa\", \"cluster\": 2, \"pop\": 19898242, \"life_expect\": 51.927, \"fertility\": 5.7}, {\"year\": 1970, \"country\": \"South Africa\", \"cluster\": 2, \"pop\": 22739921, \"life_expect\": 53.696, \"fertility\": 5.47}, {\"year\": 1975, \"country\": \"South Africa\", \"cluster\": 2, \"pop\": 25815144, \"life_expect\": 55.527, \"fertility\": 5.0}, {\"year\": 1980, \"country\": \"South Africa\", \"cluster\": 2, \"pop\": 29251588, \"life_expect\": 58.161, \"fertility\": 4.556}, {\"year\": 1985, \"country\": \"South Africa\", \"cluster\": 2, \"pop\": 34254092, \"life_expect\": 60.834, \"fertility\": 3.85}, {\"year\": 1990, \"country\": \"South Africa\", \"cluster\": 2, \"pop\": 38391094, \"life_expect\": 61.888, \"fertility\": 3.343}, {\"year\": 1995, \"country\": \"South Africa\", \"cluster\": 2, \"pop\": 41779149, \"life_expect\": 60.236, \"fertility\": 2.954}, {\"year\": 2000, \"country\": \"South Africa\", \"cluster\": 2, \"pop\": 44066197, \"life_expect\": 53.365, \"fertility\": 2.802}, {\"year\": 2005, \"country\": \"South Africa\", \"cluster\": 2, \"pop\": 44344136, \"life_expect\": 49.339, \"fertility\": 2.637}, {\"year\": 1955, \"country\": \"Spain\", \"cluster\": 1, \"pop\": 29318745, \"life_expect\": 66.66, \"fertility\": 2.75}, {\"year\": 1960, \"country\": \"Spain\", \"cluster\": 1, \"pop\": 30641187, \"life_expect\": 69.69, \"fertility\": 2.89}, {\"year\": 1965, \"country\": \"Spain\", \"cluster\": 1, \"pop\": 32084511, \"life_expect\": 71.44, \"fertility\": 2.92}, {\"year\": 1970, \"country\": \"Spain\", \"cluster\": 1, \"pop\": 33876479, \"life_expect\": 73.06, \"fertility\": 2.86}, {\"year\": 1975, \"country\": \"Spain\", \"cluster\": 1, \"pop\": 35563535, \"life_expect\": 74.39, \"fertility\": 2.5700000000000003}, {\"year\": 1980, \"country\": \"Spain\", \"cluster\": 1, \"pop\": 37488360, \"life_expect\": 76.3, \"fertility\": 1.8900000000000001}, {\"year\": 1985, \"country\": \"Spain\", \"cluster\": 1, \"pop\": 38534853, \"life_expect\": 76.9, \"fertility\": 1.48}, {\"year\": 1990, \"country\": \"Spain\", \"cluster\": 1, \"pop\": 39350769, \"life_expect\": 77.57, \"fertility\": 1.27}, {\"year\": 1995, \"country\": \"Spain\", \"cluster\": 1, \"pop\": 39749715, \"life_expect\": 78.77, \"fertility\": 1.182}, {\"year\": 2000, \"country\": \"Spain\", \"cluster\": 1, \"pop\": 40016081, \"life_expect\": 79.78, \"fertility\": 1.287}, {\"year\": 2005, \"country\": \"Spain\", \"cluster\": 1, \"pop\": 40341462, \"life_expect\": 80.941, \"fertility\": 1.409}, {\"year\": 1955, \"country\": \"Switzerland\", \"cluster\": 1, \"pop\": 4980000, \"life_expect\": 70.56, \"fertility\": 2.34}, {\"year\": 1960, \"country\": \"Switzerland\", \"cluster\": 1, \"pop\": 5362000, \"life_expect\": 71.32, \"fertility\": 2.51}, {\"year\": 1965, \"country\": \"Switzerland\", \"cluster\": 1, \"pop\": 5943000, \"life_expect\": 72.77, \"fertility\": 2.27}, {\"year\": 1970, \"country\": \"Switzerland\", \"cluster\": 1, \"pop\": 6267000, \"life_expect\": 73.78, \"fertility\": 1.82}, {\"year\": 1975, \"country\": \"Switzerland\", \"cluster\": 1, \"pop\": 6403500, \"life_expect\": 75.39, \"fertility\": 1.53}, {\"year\": 1980, \"country\": \"Switzerland\", \"cluster\": 1, \"pop\": 6385229, \"life_expect\": 76.21, \"fertility\": 1.53}, {\"year\": 1985, \"country\": \"Switzerland\", \"cluster\": 1, \"pop\": 6563770, \"life_expect\": 77.41, \"fertility\": 1.53}, {\"year\": 1990, \"country\": \"Switzerland\", \"cluster\": 1, \"pop\": 6836626, \"life_expect\": 78.03, \"fertility\": 1.54}, {\"year\": 1995, \"country\": \"Switzerland\", \"cluster\": 1, \"pop\": 7157106, \"life_expect\": 79.37, \"fertility\": 1.47}, {\"year\": 2000, \"country\": \"Switzerland\", \"cluster\": 1, \"pop\": 7266920, \"life_expect\": 80.62, \"fertility\": 1.415}, {\"year\": 2005, \"country\": \"Switzerland\", \"cluster\": 1, \"pop\": 7489370, \"life_expect\": 81.701, \"fertility\": 1.42}, {\"year\": 1955, \"country\": \"Turkey\", \"cluster\": 1, \"pop\": 24144571, \"life_expect\": 48.079, \"fertility\": 6.6}, {\"year\": 1960, \"country\": \"Turkey\", \"cluster\": 1, \"pop\": 28217122, \"life_expect\": 52.098, \"fertility\": 6.19}, {\"year\": 1965, \"country\": \"Turkey\", \"cluster\": 1, \"pop\": 31950718, \"life_expect\": 54.336, \"fertility\": 5.7}, {\"year\": 1970, \"country\": \"Turkey\", \"cluster\": 1, \"pop\": 35758382, \"life_expect\": 57.005, \"fertility\": 5.3}, {\"year\": 1975, \"country\": \"Turkey\", \"cluster\": 1, \"pop\": 40529798, \"life_expect\": 59.507, \"fertility\": 4.715}, {\"year\": 1980, \"country\": \"Turkey\", \"cluster\": 1, \"pop\": 45120802, \"life_expect\": 61.036, \"fertility\": 4.15}, {\"year\": 1985, \"country\": \"Turkey\", \"cluster\": 1, \"pop\": 50669003, \"life_expect\": 63.108, \"fertility\": 3.276}, {\"year\": 1990, \"country\": \"Turkey\", \"cluster\": 1, \"pop\": 56084632, \"life_expect\": 66.146, \"fertility\": 2.904}, {\"year\": 1995, \"country\": \"Turkey\", \"cluster\": 1, \"pop\": 61188984, \"life_expect\": 68.835, \"fertility\": 2.574}, {\"year\": 2000, \"country\": \"Turkey\", \"cluster\": 1, \"pop\": 65666677, \"life_expect\": 70.845, \"fertility\": 2.23}, {\"year\": 2005, \"country\": \"Turkey\", \"cluster\": 1, \"pop\": 69660559, \"life_expect\": 71.777, \"fertility\": 2.143}, {\"year\": 1955, \"country\": \"United Kingdom\", \"cluster\": 1, \"pop\": 50946000, \"life_expect\": 70.42, \"fertility\": 2.49}, {\"year\": 1960, \"country\": \"United Kingdom\", \"cluster\": 1, \"pop\": 52372000, \"life_expect\": 70.76, \"fertility\": 2.81}, {\"year\": 1965, \"country\": \"United Kingdom\", \"cluster\": 1, \"pop\": 54350000, \"life_expect\": 71.36, \"fertility\": 2.52}, {\"year\": 1970, \"country\": \"United Kingdom\", \"cluster\": 1, \"pop\": 55632000, \"life_expect\": 72.01, \"fertility\": 2.04}, {\"year\": 1975, \"country\": \"United Kingdom\", \"cluster\": 1, \"pop\": 56215000, \"life_expect\": 72.76, \"fertility\": 1.72}, {\"year\": 1980, \"country\": \"United Kingdom\", \"cluster\": 1, \"pop\": 56314000, \"life_expect\": 74.04, \"fertility\": 1.8}, {\"year\": 1985, \"country\": \"United Kingdom\", \"cluster\": 1, \"pop\": 56620240, \"life_expect\": 75.007, \"fertility\": 1.81}, {\"year\": 1990, \"country\": \"United Kingdom\", \"cluster\": 1, \"pop\": 57493307, \"life_expect\": 76.42, \"fertility\": 1.78}, {\"year\": 1995, \"country\": \"United Kingdom\", \"cluster\": 1, \"pop\": 58426014, \"life_expect\": 77.218, \"fertility\": 1.7000000000000002}, {\"year\": 2000, \"country\": \"United Kingdom\", \"cluster\": 1, \"pop\": 59522468, \"life_expect\": 78.471, \"fertility\": 1.695}, {\"year\": 2005, \"country\": \"United Kingdom\", \"cluster\": 1, \"pop\": 60441457, \"life_expect\": 79.425, \"fertility\": 1.815}, {\"year\": 1955, \"country\": \"United States\", \"cluster\": 3, \"pop\": 165931000, \"life_expect\": 69.49, \"fertility\": 3.706}, {\"year\": 1960, \"country\": \"United States\", \"cluster\": 3, \"pop\": 180671000, \"life_expect\": 70.21, \"fertility\": 3.314}, {\"year\": 1965, \"country\": \"United States\", \"cluster\": 3, \"pop\": 194303000, \"life_expect\": 70.76, \"fertility\": 2.545}, {\"year\": 1970, \"country\": \"United States\", \"cluster\": 3, \"pop\": 205052000, \"life_expect\": 71.34, \"fertility\": 2.016}, {\"year\": 1975, \"country\": \"United States\", \"cluster\": 3, \"pop\": 215973000, \"life_expect\": 73.38, \"fertility\": 1.788}, {\"year\": 1980, \"country\": \"United States\", \"cluster\": 3, \"pop\": 227726463, \"life_expect\": 74.65, \"fertility\": 1.8250000000000002}, {\"year\": 1985, \"country\": \"United States\", \"cluster\": 3, \"pop\": 238466283, \"life_expect\": 75.02, \"fertility\": 1.924}, {\"year\": 1990, \"country\": \"United States\", \"cluster\": 3, \"pop\": 250131894, \"life_expect\": 76.09, \"fertility\": 2.025}, {\"year\": 1995, \"country\": \"United States\", \"cluster\": 3, \"pop\": 266557091, \"life_expect\": 76.81, \"fertility\": 1.994}, {\"year\": 2000, \"country\": \"United States\", \"cluster\": 3, \"pop\": 282338631, \"life_expect\": 77.31, \"fertility\": 2.038}, {\"year\": 2005, \"country\": \"United States\", \"cluster\": 3, \"pop\": 295734134, \"life_expect\": 78.242, \"fertility\": 2.054}, {\"year\": 1955, \"country\": \"Venezuela\", \"cluster\": 3, \"pop\": 6170497, \"life_expect\": 57.907, \"fertility\": 6.4585}, {\"year\": 1960, \"country\": \"Venezuela\", \"cluster\": 3, \"pop\": 7556483, \"life_expect\": 60.77, \"fertility\": 6.657}, {\"year\": 1965, \"country\": \"Venezuela\", \"cluster\": 3, \"pop\": 9067735, \"life_expect\": 63.479, \"fertility\": 5.9045000000000005}, {\"year\": 1970, \"country\": \"Venezuela\", \"cluster\": 3, \"pop\": 10758017, \"life_expect\": 65.712, \"fertility\": 4.941}, {\"year\": 1975, \"country\": \"Venezuela\", \"cluster\": 3, \"pop\": 12674987, \"life_expect\": 67.456, \"fertility\": 4.4685}, {\"year\": 1980, \"country\": \"Venezuela\", \"cluster\": 3, \"pop\": 14767890, \"life_expect\": 68.557, \"fertility\": 3.957}, {\"year\": 1985, \"country\": \"Venezuela\", \"cluster\": 3, \"pop\": 16997509, \"life_expect\": 70.19, \"fertility\": 3.6485000000000003}, {\"year\": 1990, \"country\": \"Venezuela\", \"cluster\": 3, \"pop\": 19325222, \"life_expect\": 71.15, \"fertility\": 3.25}, {\"year\": 1995, \"country\": \"Venezuela\", \"cluster\": 3, \"pop\": 21555902, \"life_expect\": 72.146, \"fertility\": 2.9415}, {\"year\": 2000, \"country\": \"Venezuela\", \"cluster\": 3, \"pop\": 23542649, \"life_expect\": 72.766, \"fertility\": 2.723}, {\"year\": 2005, \"country\": \"Venezuela\", \"cluster\": 3, \"pop\": 25375281, \"life_expect\": 73.747, \"fertility\": 2.547}]}}, {\"mode\": \"vega-lite\"});\n",
       "</script>"
      ],
      "text/plain": [
       "alt.Chart(...)"
      ]
     },
     "execution_count": 31,
     "metadata": {},
     "output_type": "execute_result"
    }
   ],
   "source": [
    "alt.Chart(data).mark_line().encode(\n",
    "    alt.X('year:O'),\n",
    "    alt.Y('fertility:Q'),\n",
    "    alt.Color('country:N', legend=None),\n",
    "    alt.Tooltip('country:N')\n",
    ").properties(\n",
    "    width=400\n",
    ")"
   ]
  },
  {
   "cell_type": "markdown",
   "metadata": {
    "colab_type": "text",
    "id": "qmV54UhSMPxU"
   },
   "source": [
    "Podemos ver variações interessantes por país, mas tendências gerais para números menores de crianças por família ao longo do tempo. Observe também que definimos uma largura customizada de 400 pixels. _Tente mudar (ou remover) as larguras e veja o que acontece!_\n",
    "\n",
    "Vamos mudar alguns dos parâmetros de marca padrão para customizar o gráfico. Podemos definior o `strokeWidth` para determinar a espessura das linhas e o `opacity` para adicionar transparência. Por padrão, a marca `line` usa segmentos de linha reta para conectar pontos de dados. Em alguns casos, podemos querer suavizar as linhas. Podemos ajustar a interpolação usada para conectar pontos de dados definindo o parâmetro de marca `interpolate`. Vamos usar interpolação `monotone` para fornecer linhas suaves que também são garantidas para nao gerar advertidamente valores mínimos ou máximos \"falsos\" como resultado da interpolação."
   ]
  },
  {
   "cell_type": "code",
   "execution_count": 32,
   "metadata": {
    "colab": {
     "base_uri": "https://localhost:8080/",
     "height": 385
    },
    "colab_type": "code",
    "id": "PbdSZMs43rgW",
    "outputId": "07007338-a2c7-4dc2-9f36-bb344e4103ec"
   },
   "outputs": [
    {
     "data": {
      "text/html": [
       "\n",
       "<div id=\"altair-viz-74ed2e6d4eb94fe3b68d90e1cdd80ad8\"></div>\n",
       "<script type=\"text/javascript\">\n",
       "  (function(spec, embedOpt){\n",
       "    let outputDiv = document.currentScript.previousElementSibling;\n",
       "    if (outputDiv.id !== \"altair-viz-74ed2e6d4eb94fe3b68d90e1cdd80ad8\") {\n",
       "      outputDiv = document.getElementById(\"altair-viz-74ed2e6d4eb94fe3b68d90e1cdd80ad8\");\n",
       "    }\n",
       "    const paths = {\n",
       "      \"vega\": \"https://cdn.jsdelivr.net/npm//vega@5?noext\",\n",
       "      \"vega-lib\": \"https://cdn.jsdelivr.net/npm//vega-lib?noext\",\n",
       "      \"vega-lite\": \"https://cdn.jsdelivr.net/npm//vega-lite@4.8.1?noext\",\n",
       "      \"vega-embed\": \"https://cdn.jsdelivr.net/npm//vega-embed@6?noext\",\n",
       "    };\n",
       "\n",
       "    function loadScript(lib) {\n",
       "      return new Promise(function(resolve, reject) {\n",
       "        var s = document.createElement('script');\n",
       "        s.src = paths[lib];\n",
       "        s.async = true;\n",
       "        s.onload = () => resolve(paths[lib]);\n",
       "        s.onerror = () => reject(`Error loading script: ${paths[lib]}`);\n",
       "        document.getElementsByTagName(\"head\")[0].appendChild(s);\n",
       "      });\n",
       "    }\n",
       "\n",
       "    function showError(err) {\n",
       "      outputDiv.innerHTML = `<div class=\"error\" style=\"color:red;\">${err}</div>`;\n",
       "      throw err;\n",
       "    }\n",
       "\n",
       "    function displayChart(vegaEmbed) {\n",
       "      vegaEmbed(outputDiv, spec, embedOpt)\n",
       "        .catch(err => showError(`Javascript Error: ${err.message}<br>This usually means there's a typo in your chart specification. See the javascript console for the full traceback.`));\n",
       "    }\n",
       "\n",
       "    if(typeof define === \"function\" && define.amd) {\n",
       "      requirejs.config({paths});\n",
       "      require([\"vega-embed\"], displayChart, err => showError(`Error loading script: ${err.message}`));\n",
       "    } else if (typeof vegaEmbed === \"function\") {\n",
       "      displayChart(vegaEmbed);\n",
       "    } else {\n",
       "      loadScript(\"vega\")\n",
       "        .then(() => loadScript(\"vega-lite\"))\n",
       "        .then(() => loadScript(\"vega-embed\"))\n",
       "        .catch(showError)\n",
       "        .then(() => displayChart(vegaEmbed));\n",
       "    }\n",
       "  })({\"config\": {\"view\": {\"continuousWidth\": 400, \"continuousHeight\": 300}}, \"data\": {\"name\": \"data-89be1acdd14c7effd56f4dd0fabf92c3\"}, \"mark\": {\"type\": \"line\", \"interpolate\": \"monotone\", \"opacity\": 0.5, \"strokeWidth\": 3}, \"encoding\": {\"color\": {\"type\": \"nominal\", \"field\": \"country\", \"legend\": null}, \"tooltip\": {\"type\": \"nominal\", \"field\": \"country\"}, \"x\": {\"type\": \"ordinal\", \"field\": \"year\"}, \"y\": {\"type\": \"quantitative\", \"field\": \"fertility\"}}, \"width\": 400, \"$schema\": \"https://vega.github.io/schema/vega-lite/v4.8.1.json\", \"datasets\": {\"data-89be1acdd14c7effd56f4dd0fabf92c3\": [{\"year\": 1955, \"country\": \"Afghanistan\", \"cluster\": 0, \"pop\": 8891209, \"life_expect\": 30.332, \"fertility\": 7.7}, {\"year\": 1960, \"country\": \"Afghanistan\", \"cluster\": 0, \"pop\": 9829450, \"life_expect\": 31.997, \"fertility\": 7.7}, {\"year\": 1965, \"country\": \"Afghanistan\", \"cluster\": 0, \"pop\": 10997885, \"life_expect\": 34.02, \"fertility\": 7.7}, {\"year\": 1970, \"country\": \"Afghanistan\", \"cluster\": 0, \"pop\": 12430623, \"life_expect\": 36.088, \"fertility\": 7.7}, {\"year\": 1975, \"country\": \"Afghanistan\", \"cluster\": 0, \"pop\": 14132019, \"life_expect\": 38.438, \"fertility\": 7.7}, {\"year\": 1980, \"country\": \"Afghanistan\", \"cluster\": 0, \"pop\": 15112149, \"life_expect\": 39.854, \"fertility\": 7.8}, {\"year\": 1985, \"country\": \"Afghanistan\", \"cluster\": 0, \"pop\": 13796928, \"life_expect\": 40.822, \"fertility\": 7.9}, {\"year\": 1990, \"country\": \"Afghanistan\", \"cluster\": 0, \"pop\": 14669339, \"life_expect\": 41.674, \"fertility\": 8.0}, {\"year\": 1995, \"country\": \"Afghanistan\", \"cluster\": 0, \"pop\": 20881480, \"life_expect\": 41.763, \"fertility\": 8.0}, {\"year\": 2000, \"country\": \"Afghanistan\", \"cluster\": 0, \"pop\": 23898198, \"life_expect\": 42.129, \"fertility\": 7.4792}, {\"year\": 2005, \"country\": \"Afghanistan\", \"cluster\": 0, \"pop\": 29928987, \"life_expect\": 43.828, \"fertility\": 7.0685}, {\"year\": 1955, \"country\": \"Argentina\", \"cluster\": 3, \"pop\": 18927821, \"life_expect\": 64.399, \"fertility\": 3.1265}, {\"year\": 1960, \"country\": \"Argentina\", \"cluster\": 3, \"pop\": 20616009, \"life_expect\": 65.142, \"fertility\": 3.0895}, {\"year\": 1965, \"country\": \"Argentina\", \"cluster\": 3, \"pop\": 22283100, \"life_expect\": 65.634, \"fertility\": 3.049}, {\"year\": 1970, \"country\": \"Argentina\", \"cluster\": 3, \"pop\": 23962313, \"life_expect\": 67.065, \"fertility\": 3.1455}, {\"year\": 1975, \"country\": \"Argentina\", \"cluster\": 3, \"pop\": 26081880, \"life_expect\": 68.481, \"fertility\": 3.44}, {\"year\": 1980, \"country\": \"Argentina\", \"cluster\": 3, \"pop\": 28369799, \"life_expect\": 69.942, \"fertility\": 3.15}, {\"year\": 1985, \"country\": \"Argentina\", \"cluster\": 3, \"pop\": 30675059, \"life_expect\": 70.774, \"fertility\": 3.053}, {\"year\": 1990, \"country\": \"Argentina\", \"cluster\": 3, \"pop\": 33022202, \"life_expect\": 71.868, \"fertility\": 2.9}, {\"year\": 1995, \"country\": \"Argentina\", \"cluster\": 3, \"pop\": 35311049, \"life_expect\": 73.275, \"fertility\": 2.63}, {\"year\": 2000, \"country\": \"Argentina\", \"cluster\": 3, \"pop\": 37497728, \"life_expect\": 74.34, \"fertility\": 2.35}, {\"year\": 2005, \"country\": \"Argentina\", \"cluster\": 3, \"pop\": 39537943, \"life_expect\": 75.32, \"fertility\": 2.254}, {\"year\": 1955, \"country\": \"Aruba\", \"cluster\": 3, \"pop\": 53865, \"life_expect\": 64.381, \"fertility\": 5.15}, {\"year\": 1960, \"country\": \"Aruba\", \"cluster\": 3, \"pop\": 57203, \"life_expect\": 66.606, \"fertility\": 4.399}, {\"year\": 1965, \"country\": \"Aruba\", \"cluster\": 3, \"pop\": 59020, \"life_expect\": 68.336, \"fertility\": 3.301}, {\"year\": 1970, \"country\": \"Aruba\", \"cluster\": 3, \"pop\": 59039, \"life_expect\": 70.941, \"fertility\": 2.651}, {\"year\": 1975, \"country\": \"Aruba\", \"cluster\": 3, \"pop\": 59390, \"life_expect\": 71.83, \"fertility\": 2.45}, {\"year\": 1980, \"country\": \"Aruba\", \"cluster\": 3, \"pop\": 60266, \"life_expect\": 74.116, \"fertility\": 2.358}, {\"year\": 1985, \"country\": \"Aruba\", \"cluster\": 3, \"pop\": 64129, \"life_expect\": 74.494, \"fertility\": 2.3}, {\"year\": 1990, \"country\": \"Aruba\", \"cluster\": 3, \"pop\": 66653, \"life_expect\": 74.108, \"fertility\": 2.2800000000000002}, {\"year\": 1995, \"country\": \"Aruba\", \"cluster\": 3, \"pop\": 67836, \"life_expect\": 73.011, \"fertility\": 2.208}, {\"year\": 2000, \"country\": \"Aruba\", \"cluster\": 3, \"pop\": 69539, \"life_expect\": 73.451, \"fertility\": 2.124}, {\"year\": 2005, \"country\": \"Aruba\", \"cluster\": 3, \"pop\": 71566, \"life_expect\": 74.239, \"fertility\": 2.04}, {\"year\": 1955, \"country\": \"Australia\", \"cluster\": 4, \"pop\": 9277087, \"life_expect\": 70.33, \"fertility\": 3.406}, {\"year\": 1960, \"country\": \"Australia\", \"cluster\": 4, \"pop\": 10361273, \"life_expect\": 70.93, \"fertility\": 3.274}, {\"year\": 1965, \"country\": \"Australia\", \"cluster\": 4, \"pop\": 11439384, \"life_expect\": 71.1, \"fertility\": 2.871}, {\"year\": 1970, \"country\": \"Australia\", \"cluster\": 4, \"pop\": 12660160, \"life_expect\": 71.93, \"fertility\": 2.535}, {\"year\": 1975, \"country\": \"Australia\", \"cluster\": 4, \"pop\": 13771400, \"life_expect\": 73.49, \"fertility\": 1.9889999999999999}, {\"year\": 1980, \"country\": \"Australia\", \"cluster\": 4, \"pop\": 14615900, \"life_expect\": 74.74, \"fertility\": 1.907}, {\"year\": 1985, \"country\": \"Australia\", \"cluster\": 4, \"pop\": 15788300, \"life_expect\": 76.32, \"fertility\": 1.859}, {\"year\": 1990, \"country\": \"Australia\", \"cluster\": 4, \"pop\": 17022133, \"life_expect\": 77.56, \"fertility\": 1.8599999999999999}, {\"year\": 1995, \"country\": \"Australia\", \"cluster\": 4, \"pop\": 18116171, \"life_expect\": 78.83, \"fertility\": 1.776}, {\"year\": 2000, \"country\": \"Australia\", \"cluster\": 4, \"pop\": 19164620, \"life_expect\": 80.37, \"fertility\": 1.756}, {\"year\": 2005, \"country\": \"Australia\", \"cluster\": 4, \"pop\": 20090437, \"life_expect\": 81.235, \"fertility\": 1.788}, {\"year\": 1955, \"country\": \"Austria\", \"cluster\": 1, \"pop\": 6946885, \"life_expect\": 67.48, \"fertility\": 2.52}, {\"year\": 1960, \"country\": \"Austria\", \"cluster\": 1, \"pop\": 7047437, \"life_expect\": 69.54, \"fertility\": 2.7800000000000002}, {\"year\": 1965, \"country\": \"Austria\", \"cluster\": 1, \"pop\": 7270889, \"life_expect\": 70.14, \"fertility\": 2.5300000000000002}, {\"year\": 1970, \"country\": \"Austria\", \"cluster\": 1, \"pop\": 7467086, \"life_expect\": 70.63, \"fertility\": 2.02}, {\"year\": 1975, \"country\": \"Austria\", \"cluster\": 1, \"pop\": 7578903, \"life_expect\": 72.17, \"fertility\": 1.6400000000000001}, {\"year\": 1980, \"country\": \"Austria\", \"cluster\": 1, \"pop\": 7549433, \"life_expect\": 73.18, \"fertility\": 1.62}, {\"year\": 1985, \"country\": \"Austria\", \"cluster\": 1, \"pop\": 7559776, \"life_expect\": 74.94, \"fertility\": 1.45}, {\"year\": 1990, \"country\": \"Austria\", \"cluster\": 1, \"pop\": 7722953, \"life_expect\": 76.04, \"fertility\": 1.47}, {\"year\": 1995, \"country\": \"Austria\", \"cluster\": 1, \"pop\": 8047433, \"life_expect\": 77.51, \"fertility\": 1.388}, {\"year\": 2000, \"country\": \"Austria\", \"cluster\": 1, \"pop\": 8113413, \"life_expect\": 78.98, \"fertility\": 1.3820000000000001}, {\"year\": 2005, \"country\": \"Austria\", \"cluster\": 1, \"pop\": 8184691, \"life_expect\": 79.829, \"fertility\": 1.42}, {\"year\": 1955, \"country\": \"Bahamas\", \"cluster\": 3, \"pop\": 87138, \"life_expect\": 62.405, \"fertility\": 4.305}, {\"year\": 1960, \"country\": \"Bahamas\", \"cluster\": 3, \"pop\": 112234, \"life_expect\": 64.209, \"fertility\": 4.503}, {\"year\": 1965, \"country\": \"Bahamas\", \"cluster\": 3, \"pop\": 139205, \"life_expect\": 65.795, \"fertility\": 3.794}, {\"year\": 1970, \"country\": \"Bahamas\", \"cluster\": 3, \"pop\": 170323, \"life_expect\": 66.515, \"fertility\": 3.444}, {\"year\": 1975, \"country\": \"Bahamas\", \"cluster\": 3, \"pop\": 189139, \"life_expect\": 67.199, \"fertility\": 3.221}, {\"year\": 1980, \"country\": \"Bahamas\", \"cluster\": 3, \"pop\": 209944, \"life_expect\": 67.874, \"fertility\": 3.16}, {\"year\": 1985, \"country\": \"Bahamas\", \"cluster\": 3, \"pop\": 234988, \"life_expect\": 69.524, \"fertility\": 2.62}, {\"year\": 1990, \"country\": \"Bahamas\", \"cluster\": 3, \"pop\": 257253, \"life_expect\": 69.171, \"fertility\": 2.6}, {\"year\": 1995, \"country\": \"Bahamas\", \"cluster\": 3, \"pop\": 275303, \"life_expect\": 68.472, \"fertility\": 2.4}, {\"year\": 2000, \"country\": \"Bahamas\", \"cluster\": 3, \"pop\": 290075, \"life_expect\": 71.068, \"fertility\": 2.1111}, {\"year\": 2005, \"country\": \"Bahamas\", \"cluster\": 3, \"pop\": 301790, \"life_expect\": 73.495, \"fertility\": 2.0221}, {\"year\": 1955, \"country\": \"Bangladesh\", \"cluster\": 0, \"pop\": 49601520, \"life_expect\": 39.348, \"fertility\": 6.76}, {\"year\": 1960, \"country\": \"Bangladesh\", \"cluster\": 0, \"pop\": 54621538, \"life_expect\": 41.216, \"fertility\": 6.85}, {\"year\": 1965, \"country\": \"Bangladesh\", \"cluster\": 0, \"pop\": 60332117, \"life_expect\": 43.453, \"fertility\": 6.6}, {\"year\": 1970, \"country\": \"Bangladesh\", \"cluster\": 0, \"pop\": 67402621, \"life_expect\": 45.252, \"fertility\": 6.15}, {\"year\": 1975, \"country\": \"Bangladesh\", \"cluster\": 0, \"pop\": 76253310, \"life_expect\": 46.923, \"fertility\": 5.6}, {\"year\": 1980, \"country\": \"Bangladesh\", \"cluster\": 0, \"pop\": 88076996, \"life_expect\": 50.009, \"fertility\": 5.25}, {\"year\": 1985, \"country\": \"Bangladesh\", \"cluster\": 0, \"pop\": 99752733, \"life_expect\": 52.819, \"fertility\": 4.629}, {\"year\": 1990, \"country\": \"Bangladesh\", \"cluster\": 0, \"pop\": 109896945, \"life_expect\": 56.018, \"fertility\": 4.117}, {\"year\": 1995, \"country\": \"Bangladesh\", \"cluster\": 0, \"pop\": 119186448, \"life_expect\": 59.412, \"fertility\": 3.5042999999999997}, {\"year\": 2000, \"country\": \"Bangladesh\", \"cluster\": 0, \"pop\": 130406594, \"life_expect\": 62.013, \"fertility\": 3.224}, {\"year\": 2005, \"country\": \"Bangladesh\", \"cluster\": 0, \"pop\": 144319628, \"life_expect\": 64.062, \"fertility\": 2.826}, {\"year\": 1955, \"country\": \"Barbados\", \"cluster\": 3, \"pop\": 227255, \"life_expect\": 62.57, \"fertility\": 4.67}, {\"year\": 1960, \"country\": \"Barbados\", \"cluster\": 3, \"pop\": 232339, \"life_expect\": 65.87, \"fertility\": 4.26}, {\"year\": 1965, \"country\": \"Barbados\", \"cluster\": 3, \"pop\": 234980, \"life_expect\": 67.62, \"fertility\": 3.45}, {\"year\": 1970, \"country\": \"Barbados\", \"cluster\": 3, \"pop\": 238756, \"life_expect\": 69.42, \"fertility\": 2.74}, {\"year\": 1975, \"country\": \"Barbados\", \"cluster\": 3, \"pop\": 247147, \"life_expect\": 71.27, \"fertility\": 2.19}, {\"year\": 1980, \"country\": \"Barbados\", \"cluster\": 3, \"pop\": 251966, \"life_expect\": 72.695, \"fertility\": 1.92}, {\"year\": 1985, \"country\": \"Barbados\", \"cluster\": 3, \"pop\": 257446, \"life_expect\": 74.027, \"fertility\": 1.75}, {\"year\": 1990, \"country\": \"Barbados\", \"cluster\": 3, \"pop\": 262624, \"life_expect\": 74.894, \"fertility\": 1.6}, {\"year\": 1995, \"country\": \"Barbados\", \"cluster\": 3, \"pop\": 267907, \"life_expect\": 74.912, \"fertility\": 1.5}, {\"year\": 2000, \"country\": \"Barbados\", \"cluster\": 3, \"pop\": 273483, \"life_expect\": 75.97, \"fertility\": 1.5}, {\"year\": 2005, \"country\": \"Barbados\", \"cluster\": 3, \"pop\": 278870, \"life_expect\": 77.296, \"fertility\": 1.5}, {\"year\": 1955, \"country\": \"Belgium\", \"cluster\": 1, \"pop\": 8868475, \"life_expect\": 69.24, \"fertility\": 2.496}, {\"year\": 1960, \"country\": \"Belgium\", \"cluster\": 1, \"pop\": 9118700, \"life_expect\": 70.25, \"fertility\": 2.644}, {\"year\": 1965, \"country\": \"Belgium\", \"cluster\": 1, \"pop\": 9448100, \"life_expect\": 70.94, \"fertility\": 2.392}, {\"year\": 1970, \"country\": \"Belgium\", \"cluster\": 1, \"pop\": 9637800, \"life_expect\": 71.44, \"fertility\": 2.015}, {\"year\": 1975, \"country\": \"Belgium\", \"cluster\": 1, \"pop\": 9794800, \"life_expect\": 72.8, \"fertility\": 1.705}, {\"year\": 1980, \"country\": \"Belgium\", \"cluster\": 1, \"pop\": 9846800, \"life_expect\": 73.93, \"fertility\": 1.595}, {\"year\": 1985, \"country\": \"Belgium\", \"cluster\": 1, \"pop\": 9858200, \"life_expect\": 75.35, \"fertility\": 1.5590000000000002}, {\"year\": 1990, \"country\": \"Belgium\", \"cluster\": 1, \"pop\": 9969310, \"life_expect\": 76.46, \"fertility\": 1.613}, {\"year\": 1995, \"country\": \"Belgium\", \"cluster\": 1, \"pop\": 10155459, \"life_expect\": 77.53, \"fertility\": 1.604}, {\"year\": 2000, \"country\": \"Belgium\", \"cluster\": 1, \"pop\": 10263618, \"life_expect\": 78.32, \"fertility\": 1.638}, {\"year\": 2005, \"country\": \"Belgium\", \"cluster\": 1, \"pop\": 10364388, \"life_expect\": 79.441, \"fertility\": 1.646}, {\"year\": 1955, \"country\": \"Bolivia\", \"cluster\": 3, \"pop\": 3074311, \"life_expect\": 41.89, \"fertility\": 6.75}, {\"year\": 1960, \"country\": \"Bolivia\", \"cluster\": 3, \"pop\": 3434073, \"life_expect\": 43.428, \"fertility\": 6.63}, {\"year\": 1965, \"country\": \"Bolivia\", \"cluster\": 3, \"pop\": 3853315, \"life_expect\": 45.032, \"fertility\": 6.5600000000000005}, {\"year\": 1970, \"country\": \"Bolivia\", \"cluster\": 3, \"pop\": 4346218, \"life_expect\": 46.714, \"fertility\": 6.5}, {\"year\": 1975, \"country\": \"Bolivia\", \"cluster\": 3, \"pop\": 4914316, \"life_expect\": 50.023, \"fertility\": 5.8}, {\"year\": 1980, \"country\": \"Bolivia\", \"cluster\": 3, \"pop\": 5441298, \"life_expect\": 53.859, \"fertility\": 5.2995}, {\"year\": 1985, \"country\": \"Bolivia\", \"cluster\": 3, \"pop\": 5934935, \"life_expect\": 57.251, \"fertility\": 5.0}, {\"year\": 1990, \"country\": \"Bolivia\", \"cluster\": 3, \"pop\": 6573900, \"life_expect\": 59.957, \"fertility\": 4.8}, {\"year\": 1995, \"country\": \"Bolivia\", \"cluster\": 3, \"pop\": 7376582, \"life_expect\": 62.05, \"fertility\": 4.324}, {\"year\": 2000, \"country\": \"Bolivia\", \"cluster\": 3, \"pop\": 8152620, \"life_expect\": 63.883, \"fertility\": 3.9585}, {\"year\": 2005, \"country\": \"Bolivia\", \"cluster\": 3, \"pop\": 8857870, \"life_expect\": 65.554, \"fertility\": 3.5}, {\"year\": 1955, \"country\": \"Brazil\", \"cluster\": 3, \"pop\": 61773546, \"life_expect\": 53.285, \"fertility\": 6.1501}, {\"year\": 1960, \"country\": \"Brazil\", \"cluster\": 3, \"pop\": 71694810, \"life_expect\": 55.665, \"fertility\": 6.1501}, {\"year\": 1965, \"country\": \"Brazil\", \"cluster\": 3, \"pop\": 83092908, \"life_expect\": 57.632, \"fertility\": 5.38}, {\"year\": 1970, \"country\": \"Brazil\", \"cluster\": 3, \"pop\": 95684297, \"life_expect\": 59.504, \"fertility\": 4.7175}, {\"year\": 1975, \"country\": \"Brazil\", \"cluster\": 3, \"pop\": 108823732, \"life_expect\": 61.489, \"fertility\": 4.305}, {\"year\": 1980, \"country\": \"Brazil\", \"cluster\": 3, \"pop\": 122958132, \"life_expect\": 63.336, \"fertility\": 3.8}, {\"year\": 1985, \"country\": \"Brazil\", \"cluster\": 3, \"pop\": 137302933, \"life_expect\": 65.205, \"fertility\": 3.1}, {\"year\": 1990, \"country\": \"Brazil\", \"cluster\": 3, \"pop\": 151083809, \"life_expect\": 67.057, \"fertility\": 2.6}, {\"year\": 1995, \"country\": \"Brazil\", \"cluster\": 3, \"pop\": 163542501, \"life_expect\": 69.388, \"fertility\": 2.45}, {\"year\": 2000, \"country\": \"Brazil\", \"cluster\": 3, \"pop\": 175552771, \"life_expect\": 71.006, \"fertility\": 2.345}, {\"year\": 2005, \"country\": \"Brazil\", \"cluster\": 3, \"pop\": 186112794, \"life_expect\": 72.39, \"fertility\": 2.245}, {\"year\": 1955, \"country\": \"Canada\", \"cluster\": 3, \"pop\": 16050356, \"life_expect\": 69.96, \"fertility\": 3.882}, {\"year\": 1960, \"country\": \"Canada\", \"cluster\": 3, \"pop\": 18266765, \"life_expect\": 71.3, \"fertility\": 3.675}, {\"year\": 1965, \"country\": \"Canada\", \"cluster\": 3, \"pop\": 20071104, \"life_expect\": 72.13, \"fertility\": 2.61}, {\"year\": 1970, \"country\": \"Canada\", \"cluster\": 3, \"pop\": 21749986, \"life_expect\": 72.88, \"fertility\": 1.976}, {\"year\": 1975, \"country\": \"Canada\", \"cluster\": 3, \"pop\": 23209200, \"life_expect\": 74.21, \"fertility\": 1.734}, {\"year\": 1980, \"country\": \"Canada\", \"cluster\": 3, \"pop\": 24593300, \"life_expect\": 75.76, \"fertility\": 1.634}, {\"year\": 1985, \"country\": \"Canada\", \"cluster\": 3, \"pop\": 25941600, \"life_expect\": 76.86, \"fertility\": 1.616}, {\"year\": 1990, \"country\": \"Canada\", \"cluster\": 3, \"pop\": 27790600, \"life_expect\": 77.95, \"fertility\": 1.694}, {\"year\": 1995, \"country\": \"Canada\", \"cluster\": 3, \"pop\": 29619002, \"life_expect\": 78.61, \"fertility\": 1.564}, {\"year\": 2000, \"country\": \"Canada\", \"cluster\": 3, \"pop\": 31278097, \"life_expect\": 79.77, \"fertility\": 1.522}, {\"year\": 2005, \"country\": \"Canada\", \"cluster\": 3, \"pop\": 32805041, \"life_expect\": 80.653, \"fertility\": 1.5270000000000001}, {\"year\": 1955, \"country\": \"Chile\", \"cluster\": 3, \"pop\": 6743269, \"life_expect\": 56.074, \"fertility\": 5.486}, {\"year\": 1960, \"country\": \"Chile\", \"cluster\": 3, \"pop\": 7585349, \"life_expect\": 57.924, \"fertility\": 5.4385}, {\"year\": 1965, \"country\": \"Chile\", \"cluster\": 3, \"pop\": 8509950, \"life_expect\": 60.523, \"fertility\": 4.4405}, {\"year\": 1970, \"country\": \"Chile\", \"cluster\": 3, \"pop\": 9368558, \"life_expect\": 63.441, \"fertility\": 3.63}, {\"year\": 1975, \"country\": \"Chile\", \"cluster\": 3, \"pop\": 10251542, \"life_expect\": 67.052, \"fertility\": 2.803}, {\"year\": 1980, \"country\": \"Chile\", \"cluster\": 3, \"pop\": 11093718, \"life_expect\": 70.565, \"fertility\": 2.6710000000000003}, {\"year\": 1985, \"country\": \"Chile\", \"cluster\": 3, \"pop\": 12066701, \"life_expect\": 72.492, \"fertility\": 2.65}, {\"year\": 1990, \"country\": \"Chile\", \"cluster\": 3, \"pop\": 13127760, \"life_expect\": 74.126, \"fertility\": 2.55}, {\"year\": 1995, \"country\": \"Chile\", \"cluster\": 3, \"pop\": 14205449, \"life_expect\": 75.816, \"fertility\": 2.21}, {\"year\": 2000, \"country\": \"Chile\", \"cluster\": 3, \"pop\": 15153450, \"life_expect\": 77.86, \"fertility\": 2.0}, {\"year\": 2005, \"country\": \"Chile\", \"cluster\": 3, \"pop\": 15980912, \"life_expect\": 78.553, \"fertility\": 1.944}, {\"year\": 1955, \"country\": \"China\", \"cluster\": 4, \"pop\": 608655000, \"life_expect\": 50.54896, \"fertility\": 5.59}, {\"year\": 1960, \"country\": \"China\", \"cluster\": 4, \"pop\": 667070000, \"life_expect\": 44.50136, \"fertility\": 5.72}, {\"year\": 1965, \"country\": \"China\", \"cluster\": 4, \"pop\": 715185000, \"life_expect\": 58.38112, \"fertility\": 6.06}, {\"year\": 1970, \"country\": \"China\", \"cluster\": 4, \"pop\": 818315000, \"life_expect\": 63.11888, \"fertility\": 4.86}, {\"year\": 1975, \"country\": \"China\", \"cluster\": 4, \"pop\": 916395000, \"life_expect\": 63.96736, \"fertility\": 3.32}, {\"year\": 1980, \"country\": \"China\", \"cluster\": 4, \"pop\": 981235000, \"life_expect\": 65.525, \"fertility\": 2.55}, {\"year\": 1985, \"country\": \"China\", \"cluster\": 4, \"pop\": 1051040000, \"life_expect\": 67.274, \"fertility\": 2.46}, {\"year\": 1990, \"country\": \"China\", \"cluster\": 4, \"pop\": 1135185000, \"life_expect\": 68.69, \"fertility\": 1.92}, {\"year\": 1995, \"country\": \"China\", \"cluster\": 4, \"pop\": 1204855000, \"life_expect\": 70.426, \"fertility\": 1.7810000000000001}, {\"year\": 2000, \"country\": \"China\", \"cluster\": 4, \"pop\": 1262645000, \"life_expect\": 72.028, \"fertility\": 1.7000000000000002}, {\"year\": 2005, \"country\": \"China\", \"cluster\": 4, \"pop\": 1303182268, \"life_expect\": 72.961, \"fertility\": 1.725}, {\"year\": 1955, \"country\": \"Colombia\", \"cluster\": 3, \"pop\": 13588405, \"life_expect\": 55.118, \"fertility\": 6.76}, {\"year\": 1960, \"country\": \"Colombia\", \"cluster\": 3, \"pop\": 15952727, \"life_expect\": 57.863, \"fertility\": 6.76}, {\"year\": 1965, \"country\": \"Colombia\", \"cluster\": 3, \"pop\": 18646175, \"life_expect\": 59.963, \"fertility\": 6.18}, {\"year\": 1970, \"country\": \"Colombia\", \"cluster\": 3, \"pop\": 21429658, \"life_expect\": 61.623, \"fertility\": 5.0005}, {\"year\": 1975, \"country\": \"Colombia\", \"cluster\": 3, \"pop\": 24114177, \"life_expect\": 63.837, \"fertility\": 4.3385}, {\"year\": 1980, \"country\": \"Colombia\", \"cluster\": 3, \"pop\": 26582811, \"life_expect\": 66.653, \"fertility\": 3.685}, {\"year\": 1985, \"country\": \"Colombia\", \"cluster\": 3, \"pop\": 29678395, \"life_expect\": 67.768, \"fertility\": 3.172}, {\"year\": 1990, \"country\": \"Colombia\", \"cluster\": 3, \"pop\": 32858579, \"life_expect\": 68.421, \"fertility\": 2.93005}, {\"year\": 1995, \"country\": \"Colombia\", \"cluster\": 3, \"pop\": 36280883, \"life_expect\": 70.313, \"fertility\": 2.7}, {\"year\": 2000, \"country\": \"Colombia\", \"cluster\": 3, \"pop\": 39685655, \"life_expect\": 71.682, \"fertility\": 2.4705}, {\"year\": 2005, \"country\": \"Colombia\", \"cluster\": 3, \"pop\": 42954279, \"life_expect\": 72.889, \"fertility\": 2.2205}, {\"year\": 1955, \"country\": \"Costa Rica\", \"cluster\": 3, \"pop\": 1031782, \"life_expect\": 60.026, \"fertility\": 7.1135}, {\"year\": 1960, \"country\": \"Costa Rica\", \"cluster\": 3, \"pop\": 1248022, \"life_expect\": 62.842, \"fertility\": 7.2245}, {\"year\": 1965, \"country\": \"Costa Rica\", \"cluster\": 3, \"pop\": 1487605, \"life_expect\": 65.424, \"fertility\": 5.801}, {\"year\": 1970, \"country\": \"Costa Rica\", \"cluster\": 3, \"pop\": 1735523, \"life_expect\": 67.849, \"fertility\": 4.346}, {\"year\": 1975, \"country\": \"Costa Rica\", \"cluster\": 3, \"pop\": 1991580, \"life_expect\": 70.75, \"fertility\": 3.7755}, {\"year\": 1980, \"country\": \"Costa Rica\", \"cluster\": 3, \"pop\": 2299124, \"life_expect\": 73.45, \"fertility\": 3.527}, {\"year\": 1985, \"country\": \"Costa Rica\", \"cluster\": 3, \"pop\": 2643808, \"life_expect\": 74.752, \"fertility\": 3.374}, {\"year\": 1990, \"country\": \"Costa Rica\", \"cluster\": 3, \"pop\": 3027175, \"life_expect\": 75.713, \"fertility\": 2.9450000000000003}, {\"year\": 1995, \"country\": \"Costa Rica\", \"cluster\": 3, \"pop\": 3383786, \"life_expect\": 77.26, \"fertility\": 2.5835}, {\"year\": 2000, \"country\": \"Costa Rica\", \"cluster\": 3, \"pop\": 3710558, \"life_expect\": 78.123, \"fertility\": 2.2815}, {\"year\": 2005, \"country\": \"Costa Rica\", \"cluster\": 3, \"pop\": 4016173, \"life_expect\": 78.782, \"fertility\": 2.0985}, {\"year\": 1955, \"country\": \"Croatia\", \"cluster\": 1, \"pop\": 3955526, \"life_expect\": 64.77, \"fertility\": 2.42}, {\"year\": 1960, \"country\": \"Croatia\", \"cluster\": 1, \"pop\": 4036145, \"life_expect\": 67.13, \"fertility\": 2.27}, {\"year\": 1965, \"country\": \"Croatia\", \"cluster\": 1, \"pop\": 4133313, \"life_expect\": 68.5, \"fertility\": 2.09}, {\"year\": 1970, \"country\": \"Croatia\", \"cluster\": 1, \"pop\": 4205389, \"life_expect\": 69.61, \"fertility\": 1.96}, {\"year\": 1975, \"country\": \"Croatia\", \"cluster\": 1, \"pop\": 4255000, \"life_expect\": 70.64, \"fertility\": 2.02}, {\"year\": 1980, \"country\": \"Croatia\", \"cluster\": 1, \"pop\": 4383000, \"life_expect\": 70.46, \"fertility\": 1.96}, {\"year\": 1985, \"country\": \"Croatia\", \"cluster\": 1, \"pop\": 4457874, \"life_expect\": 71.52, \"fertility\": 1.8399999999999999}, {\"year\": 1990, \"country\": \"Croatia\", \"cluster\": 1, \"pop\": 4508347, \"life_expect\": 72.527, \"fertility\": 1.52}, {\"year\": 1995, \"country\": \"Croatia\", \"cluster\": 1, \"pop\": 4496683, \"life_expect\": 73.68, \"fertility\": 1.537}, {\"year\": 2000, \"country\": \"Croatia\", \"cluster\": 1, \"pop\": 4410830, \"life_expect\": 74.876, \"fertility\": 1.348}, {\"year\": 2005, \"country\": \"Croatia\", \"cluster\": 1, \"pop\": 4495904, \"life_expect\": 75.748, \"fertility\": 1.346}, {\"year\": 1955, \"country\": \"Cuba\", \"cluster\": 3, \"pop\": 6381106, \"life_expect\": 62.325, \"fertility\": 3.6995}, {\"year\": 1960, \"country\": \"Cuba\", \"cluster\": 3, \"pop\": 7027210, \"life_expect\": 65.246, \"fertility\": 4.6805}, {\"year\": 1965, \"country\": \"Cuba\", \"cluster\": 3, \"pop\": 7809916, \"life_expect\": 68.29, \"fertility\": 4.3}, {\"year\": 1970, \"country\": \"Cuba\", \"cluster\": 3, \"pop\": 8542746, \"life_expect\": 70.723, \"fertility\": 3.6}, {\"year\": 1975, \"country\": \"Cuba\", \"cluster\": 3, \"pop\": 9290074, \"life_expect\": 72.649, \"fertility\": 2.15}, {\"year\": 1980, \"country\": \"Cuba\", \"cluster\": 3, \"pop\": 9652975, \"life_expect\": 73.717, \"fertility\": 1.8495}, {\"year\": 1985, \"country\": \"Cuba\", \"cluster\": 3, \"pop\": 10078658, \"life_expect\": 74.174, \"fertility\": 1.8495}, {\"year\": 1990, \"country\": \"Cuba\", \"cluster\": 3, \"pop\": 10544793, \"life_expect\": 74.414, \"fertility\": 1.6505}, {\"year\": 1995, \"country\": \"Cuba\", \"cluster\": 3, \"pop\": 10896802, \"life_expect\": 76.151, \"fertility\": 1.6095000000000002}, {\"year\": 2000, \"country\": \"Cuba\", \"cluster\": 3, \"pop\": 11134273, \"life_expect\": 77.158, \"fertility\": 1.63}, {\"year\": 2005, \"country\": \"Cuba\", \"cluster\": 3, \"pop\": 11346670, \"life_expect\": 78.273, \"fertility\": 1.49}, {\"year\": 1955, \"country\": \"Dominican Republic\", \"cluster\": 3, \"pop\": 2737257, \"life_expect\": 49.828, \"fertility\": 7.6405}, {\"year\": 1960, \"country\": \"Dominican Republic\", \"cluster\": 3, \"pop\": 3231488, \"life_expect\": 53.459, \"fertility\": 7.3505}, {\"year\": 1965, \"country\": \"Dominican Republic\", \"cluster\": 3, \"pop\": 3805881, \"life_expect\": 56.751, \"fertility\": 6.6495}, {\"year\": 1970, \"country\": \"Dominican Republic\", \"cluster\": 3, \"pop\": 4422755, \"life_expect\": 59.631, \"fertility\": 5.71}, {\"year\": 1975, \"country\": \"Dominican Republic\", \"cluster\": 3, \"pop\": 5048499, \"life_expect\": 61.788, \"fertility\": 4.76}, {\"year\": 1980, \"country\": \"Dominican Republic\", \"cluster\": 3, \"pop\": 5696855, \"life_expect\": 63.727, \"fertility\": 4.0}, {\"year\": 1985, \"country\": \"Dominican Republic\", \"cluster\": 3, \"pop\": 6377765, \"life_expect\": 66.046, \"fertility\": 3.47}, {\"year\": 1990, \"country\": \"Dominican Republic\", \"cluster\": 3, \"pop\": 7077651, \"life_expect\": 68.457, \"fertility\": 3.1995}, {\"year\": 1995, \"country\": \"Dominican Republic\", \"cluster\": 3, \"pop\": 7730224, \"life_expect\": 69.957, \"fertility\": 3.05}, {\"year\": 2000, \"country\": \"Dominican Republic\", \"cluster\": 3, \"pop\": 8385828, \"life_expect\": 70.847, \"fertility\": 2.95}, {\"year\": 2005, \"country\": \"Dominican Republic\", \"cluster\": 3, \"pop\": 9049595, \"life_expect\": 72.235, \"fertility\": 2.81}, {\"year\": 1955, \"country\": \"Ecuador\", \"cluster\": 3, \"pop\": 3842399, \"life_expect\": 51.356, \"fertility\": 6.7}, {\"year\": 1960, \"country\": \"Ecuador\", \"cluster\": 3, \"pop\": 4415956, \"life_expect\": 54.64, \"fertility\": 6.7}, {\"year\": 1965, \"country\": \"Ecuador\", \"cluster\": 3, \"pop\": 5117779, \"life_expect\": 56.678, \"fertility\": 6.5}, {\"year\": 1970, \"country\": \"Ecuador\", \"cluster\": 3, \"pop\": 5939246, \"life_expect\": 58.796, \"fertility\": 6.0005}, {\"year\": 1975, \"country\": \"Ecuador\", \"cluster\": 3, \"pop\": 6871698, \"life_expect\": 61.31, \"fertility\": 5.4005}, {\"year\": 1980, \"country\": \"Ecuador\", \"cluster\": 3, \"pop\": 7920499, \"life_expect\": 64.342, \"fertility\": 4.7005}, {\"year\": 1985, \"country\": \"Ecuador\", \"cluster\": 3, \"pop\": 9061664, \"life_expect\": 67.231, \"fertility\": 4.0}, {\"year\": 1990, \"country\": \"Ecuador\", \"cluster\": 3, \"pop\": 10318036, \"life_expect\": 69.613, \"fertility\": 3.4005}, {\"year\": 1995, \"country\": \"Ecuador\", \"cluster\": 3, \"pop\": 11438004, \"life_expect\": 72.312, \"fertility\": 3.1}, {\"year\": 2000, \"country\": \"Ecuador\", \"cluster\": 3, \"pop\": 12505204, \"life_expect\": 74.173, \"fertility\": 2.8175}, {\"year\": 2005, \"country\": \"Ecuador\", \"cluster\": 3, \"pop\": 13363593, \"life_expect\": 74.994, \"fertility\": 2.578}, {\"year\": 1955, \"country\": \"Egypt\", \"cluster\": 5, \"pop\": 23855527, \"life_expect\": 44.444, \"fertility\": 6.97}, {\"year\": 1960, \"country\": \"Egypt\", \"cluster\": 5, \"pop\": 26846610, \"life_expect\": 46.992, \"fertility\": 7.073}, {\"year\": 1965, \"country\": \"Egypt\", \"cluster\": 5, \"pop\": 30265148, \"life_expect\": 49.293, \"fertility\": 6.5600000000000005}, {\"year\": 1970, \"country\": \"Egypt\", \"cluster\": 5, \"pop\": 33574026, \"life_expect\": 51.137, \"fertility\": 5.855}, {\"year\": 1975, \"country\": \"Egypt\", \"cluster\": 5, \"pop\": 36952499, \"life_expect\": 53.319, \"fertility\": 5.609}, {\"year\": 1980, \"country\": \"Egypt\", \"cluster\": 5, \"pop\": 42634215, \"life_expect\": 56.006, \"fertility\": 5.332}, {\"year\": 1985, \"country\": \"Egypt\", \"cluster\": 5, \"pop\": 50052381, \"life_expect\": 59.797, \"fertility\": 4.833}, {\"year\": 1990, \"country\": \"Egypt\", \"cluster\": 5, \"pop\": 56694413, \"life_expect\": 63.674, \"fertility\": 3.908}, {\"year\": 1995, \"country\": \"Egypt\", \"cluster\": 5, \"pop\": 63321615, \"life_expect\": 67.217, \"fertility\": 3.5}, {\"year\": 2000, \"country\": \"Egypt\", \"cluster\": 5, \"pop\": 70492342, \"life_expect\": 69.806, \"fertility\": 3.174}, {\"year\": 2005, \"country\": \"Egypt\", \"cluster\": 5, \"pop\": 77505756, \"life_expect\": 71.338, \"fertility\": 2.891}, {\"year\": 1955, \"country\": \"El Salvador\", \"cluster\": 3, \"pop\": 2221139, \"life_expect\": 48.57, \"fertility\": 6.8065}, {\"year\": 1960, \"country\": \"El Salvador\", \"cluster\": 3, \"pop\": 2581583, \"life_expect\": 52.307, \"fertility\": 6.8469999999999995}, {\"year\": 1965, \"country\": \"El Salvador\", \"cluster\": 3, \"pop\": 3017852, \"life_expect\": 55.855, \"fertility\": 6.621}, {\"year\": 1970, \"country\": \"El Salvador\", \"cluster\": 3, \"pop\": 3603907, \"life_expect\": 58.207, \"fertility\": 6.0995}, {\"year\": 1975, \"country\": \"El Salvador\", \"cluster\": 3, \"pop\": 4071179, \"life_expect\": 56.696, \"fertility\": 5.5996}, {\"year\": 1980, \"country\": \"El Salvador\", \"cluster\": 3, \"pop\": 4566199, \"life_expect\": 56.604, \"fertility\": 4.5}, {\"year\": 1985, \"country\": \"El Salvador\", \"cluster\": 3, \"pop\": 4664361, \"life_expect\": 63.154, \"fertility\": 3.901}, {\"year\": 1990, \"country\": \"El Salvador\", \"cluster\": 3, \"pop\": 5099884, \"life_expect\": 66.798, \"fertility\": 3.52}, {\"year\": 1995, \"country\": \"El Salvador\", \"cluster\": 3, \"pop\": 5568437, \"life_expect\": 69.535, \"fertility\": 3.17}, {\"year\": 2000, \"country\": \"El Salvador\", \"cluster\": 3, \"pop\": 6122515, \"life_expect\": 70.734, \"fertility\": 2.883}, {\"year\": 2005, \"country\": \"El Salvador\", \"cluster\": 3, \"pop\": 6704932, \"life_expect\": 71.878, \"fertility\": 2.6825}, {\"year\": 1955, \"country\": \"Finland\", \"cluster\": 1, \"pop\": 4234900, \"life_expect\": 67.49, \"fertility\": 2.769}, {\"year\": 1960, \"country\": \"Finland\", \"cluster\": 1, \"pop\": 4429600, \"life_expect\": 68.75, \"fertility\": 2.66}, {\"year\": 1965, \"country\": \"Finland\", \"cluster\": 1, \"pop\": 4563732, \"life_expect\": 69.83, \"fertility\": 2.191}, {\"year\": 1970, \"country\": \"Finland\", \"cluster\": 1, \"pop\": 4606307, \"life_expect\": 70.87, \"fertility\": 1.623}, {\"year\": 1975, \"country\": \"Finland\", \"cluster\": 1, \"pop\": 4711439, \"life_expect\": 72.52, \"fertility\": 1.663}, {\"year\": 1980, \"country\": \"Finland\", \"cluster\": 1, \"pop\": 4779535, \"life_expect\": 74.55, \"fertility\": 1.685}, {\"year\": 1985, \"country\": \"Finland\", \"cluster\": 1, \"pop\": 4901783, \"life_expect\": 74.83, \"fertility\": 1.6600000000000001}, {\"year\": 1990, \"country\": \"Finland\", \"cluster\": 1, \"pop\": 4986431, \"life_expect\": 75.7, \"fertility\": 1.819}, {\"year\": 1995, \"country\": \"Finland\", \"cluster\": 1, \"pop\": 5104654, \"life_expect\": 77.13, \"fertility\": 1.7429999999999999}, {\"year\": 2000, \"country\": \"Finland\", \"cluster\": 1, \"pop\": 5168595, \"life_expect\": 78.37, \"fertility\": 1.754}, {\"year\": 2005, \"country\": \"Finland\", \"cluster\": 1, \"pop\": 5223442, \"life_expect\": 79.313, \"fertility\": 1.8250000000000002}, {\"year\": 1955, \"country\": \"France\", \"cluster\": 1, \"pop\": 43427669, \"life_expect\": 68.93, \"fertility\": 2.7119999999999997}, {\"year\": 1960, \"country\": \"France\", \"cluster\": 1, \"pop\": 45670000, \"life_expect\": 70.51, \"fertility\": 2.85}, {\"year\": 1965, \"country\": \"France\", \"cluster\": 1, \"pop\": 48763000, \"life_expect\": 71.55, \"fertility\": 2.607}, {\"year\": 1970, \"country\": \"France\", \"cluster\": 1, \"pop\": 50787000, \"life_expect\": 72.38, \"fertility\": 2.31}, {\"year\": 1975, \"country\": \"France\", \"cluster\": 1, \"pop\": 52758427, \"life_expect\": 73.83, \"fertility\": 1.862}, {\"year\": 1980, \"country\": \"France\", \"cluster\": 1, \"pop\": 53869743, \"life_expect\": 74.89, \"fertility\": 1.866}, {\"year\": 1985, \"country\": \"France\", \"cluster\": 1, \"pop\": 55171224, \"life_expect\": 76.34, \"fertility\": 1.8050000000000002}, {\"year\": 1990, \"country\": \"France\", \"cluster\": 1, \"pop\": 56735161, \"life_expect\": 77.46, \"fertility\": 1.713}, {\"year\": 1995, \"country\": \"France\", \"cluster\": 1, \"pop\": 58149727, \"life_expect\": 78.64, \"fertility\": 1.7624}, {\"year\": 2000, \"country\": \"France\", \"cluster\": 1, \"pop\": 59381628, \"life_expect\": 79.59, \"fertility\": 1.8833000000000002}, {\"year\": 2005, \"country\": \"France\", \"cluster\": 1, \"pop\": 60656178, \"life_expect\": 80.657, \"fertility\": 1.8916}, {\"year\": 1955, \"country\": \"Georgia\", \"cluster\": 1, \"pop\": 3827154, \"life_expect\": 62.625, \"fertility\": 2.909}, {\"year\": 1960, \"country\": \"Georgia\", \"cluster\": 1, \"pop\": 4146570, \"life_expect\": 64.644, \"fertility\": 2.979}, {\"year\": 1965, \"country\": \"Georgia\", \"cluster\": 1, \"pop\": 4464959, \"life_expect\": 66.654, \"fertility\": 2.6109999999999998}, {\"year\": 1970, \"country\": \"Georgia\", \"cluster\": 1, \"pop\": 4694491, \"life_expect\": 68.158, \"fertility\": 2.601}, {\"year\": 1975, \"country\": \"Georgia\", \"cluster\": 1, \"pop\": 4897656, \"life_expect\": 69.634, \"fertility\": 2.39}, {\"year\": 1980, \"country\": \"Georgia\", \"cluster\": 1, \"pop\": 5045697, \"life_expect\": 69.638, \"fertility\": 2.269}, {\"year\": 1985, \"country\": \"Georgia\", \"cluster\": 1, \"pop\": 5192957, \"life_expect\": 70.45, \"fertility\": 2.263}, {\"year\": 1990, \"country\": \"Georgia\", \"cluster\": 1, \"pop\": 5426207, \"life_expect\": 70.465, \"fertility\": 1.9500000000000002}, {\"year\": 1995, \"country\": \"Georgia\", \"cluster\": 1, \"pop\": 5012952, \"life_expect\": 70.49, \"fertility\": 1.58}, {\"year\": 2000, \"country\": \"Georgia\", \"cluster\": 1, \"pop\": 4777209, \"life_expect\": 70.476, \"fertility\": 1.478}, {\"year\": 2005, \"country\": \"Georgia\", \"cluster\": 1, \"pop\": 4677401, \"life_expect\": 70.987, \"fertility\": 1.407}, {\"year\": 1955, \"country\": \"Germany\", \"cluster\": 1, \"pop\": 70195612, \"life_expect\": 69.1, \"fertility\": 2.3}, {\"year\": 1960, \"country\": \"Germany\", \"cluster\": 1, \"pop\": 72480869, \"life_expect\": 70.3, \"fertility\": 2.49}, {\"year\": 1965, \"country\": \"Germany\", \"cluster\": 1, \"pop\": 75638851, \"life_expect\": 70.8, \"fertility\": 2.32}, {\"year\": 1970, \"country\": \"Germany\", \"cluster\": 1, \"pop\": 77783164, \"life_expect\": 71.0, \"fertility\": 1.6400000000000001}, {\"year\": 1975, \"country\": \"Germany\", \"cluster\": 1, \"pop\": 78682325, \"life_expect\": 72.5, \"fertility\": 1.52}, {\"year\": 1980, \"country\": \"Germany\", \"cluster\": 1, \"pop\": 78297904, \"life_expect\": 73.8, \"fertility\": 1.46}, {\"year\": 1985, \"country\": \"Germany\", \"cluster\": 1, \"pop\": 77684907, \"life_expect\": 74.847, \"fertility\": 1.43}, {\"year\": 1990, \"country\": \"Germany\", \"cluster\": 1, \"pop\": 79380394, \"life_expect\": 76.07, \"fertility\": 1.31}, {\"year\": 1995, \"country\": \"Germany\", \"cluster\": 1, \"pop\": 81653702, \"life_expect\": 77.34, \"fertility\": 1.34}, {\"year\": 2000, \"country\": \"Germany\", \"cluster\": 1, \"pop\": 82187909, \"life_expect\": 78.67, \"fertility\": 1.346}, {\"year\": 2005, \"country\": \"Germany\", \"cluster\": 1, \"pop\": 82431390, \"life_expect\": 79.406, \"fertility\": 1.3599999999999999}, {\"year\": 1955, \"country\": \"Greece\", \"cluster\": 1, \"pop\": 7965538, \"life_expect\": 67.86, \"fertility\": 2.27}, {\"year\": 1960, \"country\": \"Greece\", \"cluster\": 1, \"pop\": 8327405, \"life_expect\": 69.51, \"fertility\": 2.2}, {\"year\": 1965, \"country\": \"Greece\", \"cluster\": 1, \"pop\": 8550333, \"life_expect\": 71.0, \"fertility\": 2.38}, {\"year\": 1970, \"country\": \"Greece\", \"cluster\": 1, \"pop\": 8792806, \"life_expect\": 72.34, \"fertility\": 2.32}, {\"year\": 1975, \"country\": \"Greece\", \"cluster\": 1, \"pop\": 9046542, \"life_expect\": 73.68, \"fertility\": 2.32}, {\"year\": 1980, \"country\": \"Greece\", \"cluster\": 1, \"pop\": 9642505, \"life_expect\": 75.24, \"fertility\": 1.96}, {\"year\": 1985, \"country\": \"Greece\", \"cluster\": 1, \"pop\": 9923253, \"life_expect\": 76.67, \"fertility\": 1.53}, {\"year\": 1990, \"country\": \"Greece\", \"cluster\": 1, \"pop\": 10129603, \"life_expect\": 77.03, \"fertility\": 1.37}, {\"year\": 1995, \"country\": \"Greece\", \"cluster\": 1, \"pop\": 10457554, \"life_expect\": 77.869, \"fertility\": 1.296}, {\"year\": 2000, \"country\": \"Greece\", \"cluster\": 1, \"pop\": 10559110, \"life_expect\": 78.256, \"fertility\": 1.2770000000000001}, {\"year\": 2005, \"country\": \"Greece\", \"cluster\": 1, \"pop\": 10668354, \"life_expect\": 79.483, \"fertility\": 1.325}, {\"year\": 1955, \"country\": \"Grenada\", \"cluster\": 3, \"pop\": 84621, \"life_expect\": 63.114, \"fertility\": 6.7}, {\"year\": 1960, \"country\": \"Grenada\", \"cluster\": 3, \"pop\": 90148, \"life_expect\": 63.608, \"fertility\": 6.4}, {\"year\": 1965, \"country\": \"Grenada\", \"cluster\": 3, \"pop\": 93290, \"life_expect\": 64.091, \"fertility\": 4.8}, {\"year\": 1970, \"country\": \"Grenada\", \"cluster\": 3, \"pop\": 95410, \"life_expect\": 64.577, \"fertility\": 4.6}, {\"year\": 1975, \"country\": \"Grenada\", \"cluster\": 3, \"pop\": 95819, \"life_expect\": 65.035, \"fertility\": 4.3}, {\"year\": 1980, \"country\": \"Grenada\", \"cluster\": 3, \"pop\": 90164, \"life_expect\": 65.503, \"fertility\": 4.23}, {\"year\": 1985, \"country\": \"Grenada\", \"cluster\": 3, \"pop\": 92203, \"life_expect\": 66.002, \"fertility\": 4.14}, {\"year\": 1990, \"country\": \"Grenada\", \"cluster\": 3, \"pop\": 92360, \"life_expect\": 66.469, \"fertility\": 3.26}, {\"year\": 1995, \"country\": \"Grenada\", \"cluster\": 3, \"pop\": 90603, \"life_expect\": 66.986, \"fertility\": 2.814}, {\"year\": 2000, \"country\": \"Grenada\", \"cluster\": 3, \"pop\": 89312, \"life_expect\": 67.746, \"fertility\": 2.429}, {\"year\": 2005, \"country\": \"Grenada\", \"cluster\": 3, \"pop\": 89502, \"life_expect\": 68.724, \"fertility\": 2.302}, {\"year\": 1955, \"country\": \"Haiti\", \"cluster\": 3, \"pop\": 3376419, \"life_expect\": 40.696, \"fertility\": 6.3}, {\"year\": 1960, \"country\": \"Haiti\", \"cluster\": 3, \"pop\": 3722743, \"life_expect\": 43.59, \"fertility\": 6.3}, {\"year\": 1965, \"country\": \"Haiti\", \"cluster\": 3, \"pop\": 4137405, \"life_expect\": 46.243, \"fertility\": 6.0}, {\"year\": 1970, \"country\": \"Haiti\", \"cluster\": 3, \"pop\": 4604915, \"life_expect\": 48.042, \"fertility\": 5.6005}, {\"year\": 1975, \"country\": \"Haiti\", \"cluster\": 3, \"pop\": 4828338, \"life_expect\": 49.923, \"fertility\": 5.8}, {\"year\": 1980, \"country\": \"Haiti\", \"cluster\": 3, \"pop\": 5029725, \"life_expect\": 51.461, \"fertility\": 6.2099}, {\"year\": 1985, \"country\": \"Haiti\", \"cluster\": 3, \"pop\": 5517977, \"life_expect\": 53.636, \"fertility\": 5.69985}, {\"year\": 1990, \"country\": \"Haiti\", \"cluster\": 3, \"pop\": 6126101, \"life_expect\": 55.089, \"fertility\": 5.14985}, {\"year\": 1995, \"country\": \"Haiti\", \"cluster\": 3, \"pop\": 6675578, \"life_expect\": 56.671, \"fertility\": 4.61995}, {\"year\": 2000, \"country\": \"Haiti\", \"cluster\": 3, \"pop\": 7306302, \"life_expect\": 58.137, \"fertility\": 4.0}, {\"year\": 2005, \"country\": \"Haiti\", \"cluster\": 3, \"pop\": 8121622, \"life_expect\": 60.916, \"fertility\": 3.5445}, {\"year\": 1955, \"country\": \"Hong Kong\", \"cluster\": 4, \"pop\": 2490400, \"life_expect\": 64.75, \"fertility\": 4.72}, {\"year\": 1960, \"country\": \"Hong Kong\", \"cluster\": 4, \"pop\": 3075300, \"life_expect\": 67.65, \"fertility\": 5.31}, {\"year\": 1965, \"country\": \"Hong Kong\", \"cluster\": 4, \"pop\": 3597900, \"life_expect\": 70.0, \"fertility\": 4.02}, {\"year\": 1970, \"country\": \"Hong Kong\", \"cluster\": 4, \"pop\": 3959000, \"life_expect\": 72.0, \"fertility\": 2.89}, {\"year\": 1975, \"country\": \"Hong Kong\", \"cluster\": 4, \"pop\": 4395800, \"life_expect\": 73.6, \"fertility\": 2.32}, {\"year\": 1980, \"country\": \"Hong Kong\", \"cluster\": 4, \"pop\": 5063100, \"life_expect\": 75.45, \"fertility\": 1.8}, {\"year\": 1985, \"country\": \"Hong Kong\", \"cluster\": 4, \"pop\": 5456200, \"life_expect\": 76.2, \"fertility\": 1.31}, {\"year\": 1990, \"country\": \"Hong Kong\", \"cluster\": 4, \"pop\": 5687959, \"life_expect\": 77.601, \"fertility\": 1.288}, {\"year\": 1995, \"country\": \"Hong Kong\", \"cluster\": 4, \"pop\": 6225347, \"life_expect\": 80.0, \"fertility\": 1.08}, {\"year\": 2000, \"country\": \"Hong Kong\", \"cluster\": 4, \"pop\": 6658720, \"life_expect\": 81.495, \"fertility\": 0.9400000000000001}, {\"year\": 2005, \"country\": \"Hong Kong\", \"cluster\": 4, \"pop\": 6898686, \"life_expect\": 82.208, \"fertility\": 0.966}, {\"year\": 1955, \"country\": \"Iceland\", \"cluster\": 1, \"pop\": 158044, \"life_expect\": 73.47, \"fertility\": 4.023}, {\"year\": 1960, \"country\": \"Iceland\", \"cluster\": 1, \"pop\": 175860, \"life_expect\": 73.68, \"fertility\": 3.943}, {\"year\": 1965, \"country\": \"Iceland\", \"cluster\": 1, \"pop\": 192288, \"life_expect\": 73.73, \"fertility\": 3.154}, {\"year\": 1970, \"country\": \"Iceland\", \"cluster\": 1, \"pop\": 204104, \"life_expect\": 74.46, \"fertility\": 2.843}, {\"year\": 1975, \"country\": \"Iceland\", \"cluster\": 1, \"pop\": 218031, \"life_expect\": 76.11, \"fertility\": 2.287}, {\"year\": 1980, \"country\": \"Iceland\", \"cluster\": 1, \"pop\": 228161, \"life_expect\": 76.99, \"fertility\": 2.248}, {\"year\": 1985, \"country\": \"Iceland\", \"cluster\": 1, \"pop\": 241403, \"life_expect\": 77.23, \"fertility\": 2.116}, {\"year\": 1990, \"country\": \"Iceland\", \"cluster\": 1, \"pop\": 254719, \"life_expect\": 78.77, \"fertility\": 2.194}, {\"year\": 1995, \"country\": \"Iceland\", \"cluster\": 1, \"pop\": 267527, \"life_expect\": 78.95, \"fertility\": 2.056}, {\"year\": 2000, \"country\": \"Iceland\", \"cluster\": 1, \"pop\": 281043, \"life_expect\": 80.5, \"fertility\": 1.9929999999999999}, {\"year\": 2005, \"country\": \"Iceland\", \"cluster\": 1, \"pop\": 296737, \"life_expect\": 81.757, \"fertility\": 2.052}, {\"year\": 1955, \"country\": \"India\", \"cluster\": 0, \"pop\": 393000000, \"life_expect\": 40.249, \"fertility\": 5.8961}, {\"year\": 1960, \"country\": \"India\", \"cluster\": 0, \"pop\": 434000000, \"life_expect\": 43.605, \"fertility\": 5.8216}, {\"year\": 1965, \"country\": \"India\", \"cluster\": 0, \"pop\": 485000000, \"life_expect\": 47.193, \"fertility\": 5.6058}, {\"year\": 1970, \"country\": \"India\", \"cluster\": 0, \"pop\": 541000000, \"life_expect\": 50.651, \"fertility\": 5.264}, {\"year\": 1975, \"country\": \"India\", \"cluster\": 0, \"pop\": 607000000, \"life_expect\": 54.208, \"fertility\": 4.8888}, {\"year\": 1980, \"country\": \"India\", \"cluster\": 0, \"pop\": 679000000, \"life_expect\": 56.596, \"fertility\": 4.4975}, {\"year\": 1985, \"country\": \"India\", \"cluster\": 0, \"pop\": 755000000, \"life_expect\": 58.553, \"fertility\": 4.15}, {\"year\": 1990, \"country\": \"India\", \"cluster\": 0, \"pop\": 839000000, \"life_expect\": 60.223, \"fertility\": 3.8648}, {\"year\": 1995, \"country\": \"India\", \"cluster\": 0, \"pop\": 927000000, \"life_expect\": 61.765, \"fertility\": 3.4551}, {\"year\": 2000, \"country\": \"India\", \"cluster\": 0, \"pop\": 1007702000, \"life_expect\": 62.879, \"fertility\": 3.1132}, {\"year\": 2005, \"country\": \"India\", \"cluster\": 0, \"pop\": 1080264388, \"life_expect\": 64.698, \"fertility\": 2.8073}, {\"year\": 1955, \"country\": \"Indonesia\", \"cluster\": 4, \"pop\": 86807000, \"life_expect\": 39.918, \"fertility\": 5.672}, {\"year\": 1960, \"country\": \"Indonesia\", \"cluster\": 4, \"pop\": 95254000, \"life_expect\": 42.518, \"fertility\": 5.62}, {\"year\": 1965, \"country\": \"Indonesia\", \"cluster\": 4, \"pop\": 105093000, \"life_expect\": 45.964, \"fertility\": 5.568}, {\"year\": 1970, \"country\": \"Indonesia\", \"cluster\": 4, \"pop\": 116044000, \"life_expect\": 49.203, \"fertility\": 5.3}, {\"year\": 1975, \"country\": \"Indonesia\", \"cluster\": 4, \"pop\": 130297000, \"life_expect\": 52.702, \"fertility\": 4.73}, {\"year\": 1980, \"country\": \"Indonesia\", \"cluster\": 4, \"pop\": 146995000, \"life_expect\": 56.159, \"fertility\": 4.109}, {\"year\": 1985, \"country\": \"Indonesia\", \"cluster\": 4, \"pop\": 163403000, \"life_expect\": 60.137, \"fertility\": 3.4}, {\"year\": 1990, \"country\": \"Indonesia\", \"cluster\": 4, \"pop\": 178500000, \"life_expect\": 62.681, \"fertility\": 2.9}, {\"year\": 1995, \"country\": \"Indonesia\", \"cluster\": 4, \"pop\": 194755000, \"life_expect\": 66.041, \"fertility\": 2.55}, {\"year\": 2000, \"country\": \"Indonesia\", \"cluster\": 4, \"pop\": 206265000, \"life_expect\": 68.588, \"fertility\": 2.3761}, {\"year\": 2005, \"country\": \"Indonesia\", \"cluster\": 4, \"pop\": 218465000, \"life_expect\": 70.65, \"fertility\": 2.182}, {\"year\": 1955, \"country\": \"Iran\", \"cluster\": 5, \"pop\": 18729000, \"life_expect\": 47.181, \"fertility\": 7.0}, {\"year\": 1960, \"country\": \"Iran\", \"cluster\": 5, \"pop\": 21577000, \"life_expect\": 49.325, \"fertility\": 7.0}, {\"year\": 1965, \"country\": \"Iran\", \"cluster\": 5, \"pop\": 25000000, \"life_expect\": 52.469, \"fertility\": 6.8}, {\"year\": 1970, \"country\": \"Iran\", \"cluster\": 5, \"pop\": 28933000, \"life_expect\": 55.234, \"fertility\": 6.4}, {\"year\": 1975, \"country\": \"Iran\", \"cluster\": 5, \"pop\": 33379000, \"life_expect\": 57.702, \"fertility\": 6.5}, {\"year\": 1980, \"country\": \"Iran\", \"cluster\": 5, \"pop\": 39583397, \"life_expect\": 59.62, \"fertility\": 6.63}, {\"year\": 1985, \"country\": \"Iran\", \"cluster\": 5, \"pop\": 48439952, \"life_expect\": 63.04, \"fertility\": 5.62}, {\"year\": 1990, \"country\": \"Iran\", \"cluster\": 5, \"pop\": 57035717, \"life_expect\": 65.742, \"fertility\": 4.328}, {\"year\": 1995, \"country\": \"Iran\", \"cluster\": 5, \"pop\": 61628116, \"life_expect\": 68.042, \"fertility\": 2.534}, {\"year\": 2000, \"country\": \"Iran\", \"cluster\": 5, \"pop\": 65660289, \"life_expect\": 69.451, \"fertility\": 2.124}, {\"year\": 2005, \"country\": \"Iran\", \"cluster\": 5, \"pop\": 68017860, \"life_expect\": 70.964, \"fertility\": 2.04}, {\"year\": 1955, \"country\": \"Iraq\", \"cluster\": 5, \"pop\": 5903253, \"life_expect\": 48.437, \"fertility\": 7.3}, {\"year\": 1960, \"country\": \"Iraq\", \"cluster\": 5, \"pop\": 6822030, \"life_expect\": 51.457, \"fertility\": 7.25}, {\"year\": 1965, \"country\": \"Iraq\", \"cluster\": 5, \"pop\": 7970746, \"life_expect\": 54.459, \"fertility\": 7.2}, {\"year\": 1970, \"country\": \"Iraq\", \"cluster\": 5, \"pop\": 9413671, \"life_expect\": 56.95, \"fertility\": 7.15}, {\"year\": 1975, \"country\": \"Iraq\", \"cluster\": 5, \"pop\": 11117804, \"life_expect\": 60.413, \"fertility\": 6.8}, {\"year\": 1980, \"country\": \"Iraq\", \"cluster\": 5, \"pop\": 13232839, \"life_expect\": 62.038, \"fertility\": 6.35}, {\"year\": 1985, \"country\": \"Iraq\", \"cluster\": 5, \"pop\": 15693620, \"life_expect\": 65.044, \"fertility\": 6.15}, {\"year\": 1990, \"country\": \"Iraq\", \"cluster\": 5, \"pop\": 18134702, \"life_expect\": 59.461, \"fertility\": 5.7}, {\"year\": 1995, \"country\": \"Iraq\", \"cluster\": 5, \"pop\": 19557247, \"life_expect\": 58.811, \"fertility\": 5.37}, {\"year\": 2000, \"country\": \"Iraq\", \"cluster\": 5, \"pop\": 22675617, \"life_expect\": 57.046, \"fertility\": 4.858}, {\"year\": 2005, \"country\": \"Iraq\", \"cluster\": 5, \"pop\": 26074906, \"life_expect\": 59.545, \"fertility\": 4.264}, {\"year\": 1955, \"country\": \"Ireland\", \"cluster\": 1, \"pop\": 2916133, \"life_expect\": 68.9, \"fertility\": 3.68}, {\"year\": 1960, \"country\": \"Ireland\", \"cluster\": 1, \"pop\": 2832000, \"life_expect\": 70.29, \"fertility\": 3.979}, {\"year\": 1965, \"country\": \"Ireland\", \"cluster\": 1, \"pop\": 2876000, \"life_expect\": 71.08, \"fertility\": 3.873}, {\"year\": 1970, \"country\": \"Ireland\", \"cluster\": 1, \"pop\": 2950100, \"life_expect\": 71.28, \"fertility\": 3.815}, {\"year\": 1975, \"country\": \"Ireland\", \"cluster\": 1, \"pop\": 3177300, \"life_expect\": 72.03, \"fertility\": 3.478}, {\"year\": 1980, \"country\": \"Ireland\", \"cluster\": 1, \"pop\": 3401000, \"life_expect\": 73.1, \"fertility\": 2.877}, {\"year\": 1985, \"country\": \"Ireland\", \"cluster\": 1, \"pop\": 3540000, \"life_expect\": 74.36, \"fertility\": 2.287}, {\"year\": 1990, \"country\": \"Ireland\", \"cluster\": 1, \"pop\": 3508200, \"life_expect\": 75.467, \"fertility\": 1.9689999999999999}, {\"year\": 1995, \"country\": \"Ireland\", \"cluster\": 1, \"pop\": 3613890, \"life_expect\": 76.122, \"fertility\": 1.9}, {\"year\": 2000, \"country\": \"Ireland\", \"cluster\": 1, \"pop\": 3791690, \"life_expect\": 77.783, \"fertility\": 1.9689999999999999}, {\"year\": 2005, \"country\": \"Ireland\", \"cluster\": 1, \"pop\": 4015676, \"life_expect\": 78.885, \"fertility\": 1.964}, {\"year\": 1955, \"country\": \"Israel\", \"cluster\": 5, \"pop\": 1772032, \"life_expect\": 67.84, \"fertility\": 3.893}, {\"year\": 1960, \"country\": \"Israel\", \"cluster\": 5, \"pop\": 2141495, \"life_expect\": 69.39, \"fertility\": 3.852}, {\"year\": 1965, \"country\": \"Israel\", \"cluster\": 5, \"pop\": 2578184, \"life_expect\": 70.75, \"fertility\": 3.79}, {\"year\": 1970, \"country\": \"Israel\", \"cluster\": 5, \"pop\": 2903434, \"life_expect\": 71.63, \"fertility\": 3.77}, {\"year\": 1975, \"country\": \"Israel\", \"cluster\": 5, \"pop\": 3354242, \"life_expect\": 73.06, \"fertility\": 3.409}, {\"year\": 1980, \"country\": \"Israel\", \"cluster\": 5, \"pop\": 3737473, \"life_expect\": 74.45, \"fertility\": 3.125}, {\"year\": 1985, \"country\": \"Israel\", \"cluster\": 5, \"pop\": 4074965, \"life_expect\": 75.6, \"fertility\": 3.051}, {\"year\": 1990, \"country\": \"Israel\", \"cluster\": 5, \"pop\": 4512068, \"life_expect\": 76.93, \"fertility\": 2.933}, {\"year\": 1995, \"country\": \"Israel\", \"cluster\": 5, \"pop\": 5305120, \"life_expect\": 78.269, \"fertility\": 2.942}, {\"year\": 2000, \"country\": \"Israel\", \"cluster\": 5, \"pop\": 5842454, \"life_expect\": 79.696, \"fertility\": 2.906}, {\"year\": 2005, \"country\": \"Israel\", \"cluster\": 5, \"pop\": 6276883, \"life_expect\": 80.745, \"fertility\": 2.75}, {\"year\": 1955, \"country\": \"Italy\", \"cluster\": 1, \"pop\": 48633000, \"life_expect\": 67.81, \"fertility\": 2.35}, {\"year\": 1960, \"country\": \"Italy\", \"cluster\": 1, \"pop\": 50197600, \"life_expect\": 69.24, \"fertility\": 2.498}, {\"year\": 1965, \"country\": \"Italy\", \"cluster\": 1, \"pop\": 51987100, \"life_expect\": 71.06, \"fertility\": 2.493}, {\"year\": 1970, \"country\": \"Italy\", \"cluster\": 1, \"pop\": 53661100, \"life_expect\": 72.19, \"fertility\": 2.325}, {\"year\": 1975, \"country\": \"Italy\", \"cluster\": 1, \"pop\": 55571894, \"life_expect\": 73.48, \"fertility\": 1.889}, {\"year\": 1980, \"country\": \"Italy\", \"cluster\": 1, \"pop\": 56451247, \"life_expect\": 74.98, \"fertility\": 1.53}, {\"year\": 1985, \"country\": \"Italy\", \"cluster\": 1, \"pop\": 56731215, \"life_expect\": 76.42, \"fertility\": 1.349}, {\"year\": 1990, \"country\": \"Italy\", \"cluster\": 1, \"pop\": 56742886, \"life_expect\": 77.44, \"fertility\": 1.275}, {\"year\": 1995, \"country\": \"Italy\", \"cluster\": 1, \"pop\": 57274531, \"life_expect\": 78.82, \"fertility\": 1.213}, {\"year\": 2000, \"country\": \"Italy\", \"cluster\": 1, \"pop\": 57719337, \"life_expect\": 80.24, \"fertility\": 1.286}, {\"year\": 2005, \"country\": \"Italy\", \"cluster\": 1, \"pop\": 58103033, \"life_expect\": 80.546, \"fertility\": 1.379}, {\"year\": 1955, \"country\": \"Jamaica\", \"cluster\": 3, \"pop\": 1488805, \"life_expect\": 62.61, \"fertility\": 5.08}, {\"year\": 1960, \"country\": \"Jamaica\", \"cluster\": 3, \"pop\": 1631784, \"life_expect\": 65.61, \"fertility\": 5.64}, {\"year\": 1965, \"country\": \"Jamaica\", \"cluster\": 3, \"pop\": 1777397, \"life_expect\": 67.51, \"fertility\": 5.78}, {\"year\": 1970, \"country\": \"Jamaica\", \"cluster\": 3, \"pop\": 1943787, \"life_expect\": 69.0, \"fertility\": 5.0}, {\"year\": 1975, \"country\": \"Jamaica\", \"cluster\": 3, \"pop\": 2104879, \"life_expect\": 70.11, \"fertility\": 4.0}, {\"year\": 1980, \"country\": \"Jamaica\", \"cluster\": 3, \"pop\": 2228803, \"life_expect\": 71.21, \"fertility\": 3.55}, {\"year\": 1985, \"country\": \"Jamaica\", \"cluster\": 3, \"pop\": 2318652, \"life_expect\": 71.77, \"fertility\": 3.1}, {\"year\": 1990, \"country\": \"Jamaica\", \"cluster\": 3, \"pop\": 2347922, \"life_expect\": 71.766, \"fertility\": 2.84}, {\"year\": 1995, \"country\": \"Jamaica\", \"cluster\": 3, \"pop\": 2469389, \"life_expect\": 72.262, \"fertility\": 2.67}, {\"year\": 2000, \"country\": \"Jamaica\", \"cluster\": 3, \"pop\": 2615467, \"life_expect\": 72.047, \"fertility\": 2.628}, {\"year\": 2005, \"country\": \"Jamaica\", \"cluster\": 3, \"pop\": 2735520, \"life_expect\": 72.567, \"fertility\": 2.4289}, {\"year\": 1955, \"country\": \"Japan\", \"cluster\": 4, \"pop\": 89815060, \"life_expect\": 65.5, \"fertility\": 2.08}, {\"year\": 1960, \"country\": \"Japan\", \"cluster\": 4, \"pop\": 94091638, \"life_expect\": 68.73, \"fertility\": 2.02}, {\"year\": 1965, \"country\": \"Japan\", \"cluster\": 4, \"pop\": 98882534, \"life_expect\": 71.43, \"fertility\": 2.0}, {\"year\": 1970, \"country\": \"Japan\", \"cluster\": 4, \"pop\": 104344973, \"life_expect\": 73.42, \"fertility\": 2.07}, {\"year\": 1975, \"country\": \"Japan\", \"cluster\": 4, \"pop\": 111573116, \"life_expect\": 75.38, \"fertility\": 1.81}, {\"year\": 1980, \"country\": \"Japan\", \"cluster\": 4, \"pop\": 116807309, \"life_expect\": 77.11, \"fertility\": 1.76}, {\"year\": 1985, \"country\": \"Japan\", \"cluster\": 4, \"pop\": 120754335, \"life_expect\": 78.67, \"fertility\": 1.6600000000000001}, {\"year\": 1990, \"country\": \"Japan\", \"cluster\": 4, \"pop\": 123537399, \"life_expect\": 79.36, \"fertility\": 1.49}, {\"year\": 1995, \"country\": \"Japan\", \"cluster\": 4, \"pop\": 125341354, \"life_expect\": 80.69, \"fertility\": 1.3900000000000001}, {\"year\": 2000, \"country\": \"Japan\", \"cluster\": 4, \"pop\": 126699784, \"life_expect\": 82.0, \"fertility\": 1.291}, {\"year\": 2005, \"country\": \"Japan\", \"cluster\": 4, \"pop\": 127417244, \"life_expect\": 82.603, \"fertility\": 1.27}, {\"year\": 1955, \"country\": \"Kenya\", \"cluster\": 2, \"pop\": 7033999, \"life_expect\": 44.686, \"fertility\": 7.816}, {\"year\": 1960, \"country\": \"Kenya\", \"cluster\": 2, \"pop\": 8156827, \"life_expect\": 47.949, \"fertility\": 8.12}, {\"year\": 1965, \"country\": \"Kenya\", \"cluster\": 2, \"pop\": 9549179, \"life_expect\": 50.654, \"fertility\": 8.12}, {\"year\": 1970, \"country\": \"Kenya\", \"cluster\": 2, \"pop\": 11247182, \"life_expect\": 53.559, \"fertility\": 8.0}, {\"year\": 1975, \"country\": \"Kenya\", \"cluster\": 2, \"pop\": 13433414, \"life_expect\": 56.155, \"fertility\": 7.6}, {\"year\": 1980, \"country\": \"Kenya\", \"cluster\": 2, \"pop\": 16331401, \"life_expect\": 58.766, \"fertility\": 7.2}, {\"year\": 1985, \"country\": \"Kenya\", \"cluster\": 2, \"pop\": 19763285, \"life_expect\": 59.339, \"fertility\": 6.5}, {\"year\": 1990, \"country\": \"Kenya\", \"cluster\": 2, \"pop\": 23358413, \"life_expect\": 59.285, \"fertility\": 5.4}, {\"year\": 1995, \"country\": \"Kenya\", \"cluster\": 2, \"pop\": 27060142, \"life_expect\": 54.407, \"fertility\": 5.0}, {\"year\": 2000, \"country\": \"Kenya\", \"cluster\": 2, \"pop\": 29985839, \"life_expect\": 50.992, \"fertility\": 5.0}, {\"year\": 2005, \"country\": \"Kenya\", \"cluster\": 2, \"pop\": 33829590, \"life_expect\": 54.11, \"fertility\": 4.959}, {\"year\": 1955, \"country\": \"South Korea\", \"cluster\": 4, \"pop\": 8839427, \"life_expect\": 54.081, \"fertility\": 3.8}, {\"year\": 1960, \"country\": \"South Korea\", \"cluster\": 4, \"pop\": 10391909, \"life_expect\": 56.656, \"fertility\": 3.41}, {\"year\": 1965, \"country\": \"South Korea\", \"cluster\": 4, \"pop\": 11868751, \"life_expect\": 59.942, \"fertility\": 4.09}, {\"year\": 1970, \"country\": \"South Korea\", \"cluster\": 4, \"pop\": 13911902, \"life_expect\": 63.983, \"fertility\": 3.7199999999999998}, {\"year\": 1975, \"country\": \"South Korea\", \"cluster\": 4, \"pop\": 15801308, \"life_expect\": 67.159, \"fertility\": 2.58}, {\"year\": 1980, \"country\": \"South Korea\", \"cluster\": 4, \"pop\": 17113626, \"life_expect\": 69.1, \"fertility\": 2.93}, {\"year\": 1985, \"country\": \"South Korea\", \"cluster\": 4, \"pop\": 18481420, \"life_expect\": 70.647, \"fertility\": 2.45}, {\"year\": 1990, \"country\": \"South Korea\", \"cluster\": 4, \"pop\": 20018546, \"life_expect\": 69.978, \"fertility\": 2.35}, {\"year\": 1995, \"country\": \"South Korea\", \"cluster\": 4, \"pop\": 21561856, \"life_expect\": 67.727, \"fertility\": 2.0938}, {\"year\": 2000, \"country\": \"South Korea\", \"cluster\": 4, \"pop\": 21647682, \"life_expect\": 66.662, \"fertility\": 1.9173}, {\"year\": 2005, \"country\": \"South Korea\", \"cluster\": 4, \"pop\": 22912177, \"life_expect\": 67.297, \"fertility\": 1.85}, {\"year\": 1955, \"country\": \"North Korea\", \"cluster\": 4, \"pop\": 21551834, \"life_expect\": 52.681, \"fertility\": 6.332}, {\"year\": 1960, \"country\": \"North Korea\", \"cluster\": 4, \"pop\": 24784140, \"life_expect\": 55.292, \"fertility\": 5.63}, {\"year\": 1965, \"country\": \"North Korea\", \"cluster\": 4, \"pop\": 28705000, \"life_expect\": 57.716, \"fertility\": 4.708}, {\"year\": 1970, \"country\": \"North Korea\", \"cluster\": 4, \"pop\": 32241000, \"life_expect\": 62.612, \"fertility\": 4.281}, {\"year\": 1975, \"country\": \"North Korea\", \"cluster\": 4, \"pop\": 35281000, \"life_expect\": 64.766, \"fertility\": 2.919}, {\"year\": 1980, \"country\": \"North Korea\", \"cluster\": 4, \"pop\": 38124000, \"life_expect\": 67.123, \"fertility\": 2.234}, {\"year\": 1985, \"country\": \"North Korea\", \"cluster\": 4, \"pop\": 40806000, \"life_expect\": 69.81, \"fertility\": 1.601}, {\"year\": 1990, \"country\": \"North Korea\", \"cluster\": 4, \"pop\": 42869000, \"life_expect\": 72.244, \"fertility\": 1.6960000000000002}, {\"year\": 1995, \"country\": \"North Korea\", \"cluster\": 4, \"pop\": 45264146, \"life_expect\": 74.647, \"fertility\": 1.514}, {\"year\": 2000, \"country\": \"North Korea\", \"cluster\": 4, \"pop\": 47351083, \"life_expect\": 77.045, \"fertility\": 1.242}, {\"year\": 2005, \"country\": \"North Korea\", \"cluster\": 4, \"pop\": 48640671, \"life_expect\": 78.623, \"fertility\": 1.21}, {\"year\": 1955, \"country\": \"Lebanon\", \"cluster\": 5, \"pop\": 1560985, \"life_expect\": 59.489, \"fertility\": 5.72}, {\"year\": 1960, \"country\": \"Lebanon\", \"cluster\": 5, \"pop\": 1786235, \"life_expect\": 62.094, \"fertility\": 5.689}, {\"year\": 1965, \"country\": \"Lebanon\", \"cluster\": 5, \"pop\": 2057945, \"life_expect\": 63.87, \"fertility\": 5.336}, {\"year\": 1970, \"country\": \"Lebanon\", \"cluster\": 5, \"pop\": 2383029, \"life_expect\": 65.421, \"fertility\": 4.78}, {\"year\": 1975, \"country\": \"Lebanon\", \"cluster\": 5, \"pop\": 3098159, \"life_expect\": 66.099, \"fertility\": 4.311}, {\"year\": 1980, \"country\": \"Lebanon\", \"cluster\": 5, \"pop\": 3085876, \"life_expect\": 66.983, \"fertility\": 3.895}, {\"year\": 1985, \"country\": \"Lebanon\", \"cluster\": 5, \"pop\": 3088235, \"life_expect\": 67.926, \"fertility\": 3.313}, {\"year\": 1990, \"country\": \"Lebanon\", \"cluster\": 5, \"pop\": 3147267, \"life_expect\": 69.292, \"fertility\": 3.0}, {\"year\": 1995, \"country\": \"Lebanon\", \"cluster\": 5, \"pop\": 3334733, \"life_expect\": 70.265, \"fertility\": 2.6950000000000003}, {\"year\": 2000, \"country\": \"Lebanon\", \"cluster\": 5, \"pop\": 3578036, \"life_expect\": 71.028, \"fertility\": 2.319}, {\"year\": 2005, \"country\": \"Lebanon\", \"cluster\": 5, \"pop\": 3826018, \"life_expect\": 71.993, \"fertility\": 2.209}, {\"year\": 1955, \"country\": \"Mexico\", \"cluster\": 3, \"pop\": 32929914, \"life_expect\": 55.19, \"fertility\": 6.8}, {\"year\": 1960, \"country\": \"Mexico\", \"cluster\": 3, \"pop\": 38578505, \"life_expect\": 58.299, \"fertility\": 6.7495}, {\"year\": 1965, \"country\": \"Mexico\", \"cluster\": 3, \"pop\": 45142399, \"life_expect\": 60.11, \"fertility\": 6.7495}, {\"year\": 1970, \"country\": \"Mexico\", \"cluster\": 3, \"pop\": 52775158, \"life_expect\": 62.361, \"fertility\": 6.5}, {\"year\": 1975, \"country\": \"Mexico\", \"cluster\": 3, \"pop\": 60678045, \"life_expect\": 65.032, \"fertility\": 5.2505}, {\"year\": 1980, \"country\": \"Mexico\", \"cluster\": 3, \"pop\": 68347479, \"life_expect\": 67.405, \"fertility\": 4.25}, {\"year\": 1985, \"country\": \"Mexico\", \"cluster\": 3, \"pop\": 76767225, \"life_expect\": 69.498, \"fertility\": 3.6295}, {\"year\": 1990, \"country\": \"Mexico\", \"cluster\": 3, \"pop\": 84913652, \"life_expect\": 71.455, \"fertility\": 3.1905}, {\"year\": 1995, \"country\": \"Mexico\", \"cluster\": 3, \"pop\": 92880353, \"life_expect\": 73.67, \"fertility\": 2.6705}, {\"year\": 2000, \"country\": \"Mexico\", \"cluster\": 3, \"pop\": 99926620, \"life_expect\": 74.902, \"fertility\": 2.4005}, {\"year\": 2005, \"country\": \"Mexico\", \"cluster\": 3, \"pop\": 106202903, \"life_expect\": 76.195, \"fertility\": 2.211}, {\"year\": 1955, \"country\": \"Netherlands\", \"cluster\": 1, \"pop\": 10750842, \"life_expect\": 72.99, \"fertility\": 3.095}, {\"year\": 1960, \"country\": \"Netherlands\", \"cluster\": 1, \"pop\": 11486000, \"life_expect\": 73.23, \"fertility\": 3.168}, {\"year\": 1965, \"country\": \"Netherlands\", \"cluster\": 1, \"pop\": 12292000, \"life_expect\": 73.82, \"fertility\": 2.797}, {\"year\": 1970, \"country\": \"Netherlands\", \"cluster\": 1, \"pop\": 13032335, \"life_expect\": 73.75, \"fertility\": 2.059}, {\"year\": 1975, \"country\": \"Netherlands\", \"cluster\": 1, \"pop\": 13653438, \"life_expect\": 75.24, \"fertility\": 1.596}, {\"year\": 1980, \"country\": \"Netherlands\", \"cluster\": 1, \"pop\": 14143901, \"life_expect\": 76.05, \"fertility\": 1.5150000000000001}, {\"year\": 1985, \"country\": \"Netherlands\", \"cluster\": 1, \"pop\": 14491380, \"life_expect\": 76.83, \"fertility\": 1.5550000000000002}, {\"year\": 1990, \"country\": \"Netherlands\", \"cluster\": 1, \"pop\": 14951510, \"life_expect\": 77.42, \"fertility\": 1.583}, {\"year\": 1995, \"country\": \"Netherlands\", \"cluster\": 1, \"pop\": 15459054, \"life_expect\": 78.03, \"fertility\": 1.6}, {\"year\": 2000, \"country\": \"Netherlands\", \"cluster\": 1, \"pop\": 15907853, \"life_expect\": 78.53, \"fertility\": 1.726}, {\"year\": 2005, \"country\": \"Netherlands\", \"cluster\": 1, \"pop\": 16407491, \"life_expect\": 79.762, \"fertility\": 1.721}, {\"year\": 1955, \"country\": \"New Zealand\", \"cluster\": 4, \"pop\": 2136168, \"life_expect\": 70.26, \"fertility\": 4.07}, {\"year\": 1960, \"country\": \"New Zealand\", \"cluster\": 4, \"pop\": 2371746, \"life_expect\": 71.24, \"fertility\": 4.022}, {\"year\": 1965, \"country\": \"New Zealand\", \"cluster\": 4, \"pop\": 2640400, \"life_expect\": 71.52, \"fertility\": 3.348}, {\"year\": 1970, \"country\": \"New Zealand\", \"cluster\": 4, \"pop\": 2828050, \"life_expect\": 71.89, \"fertility\": 2.843}, {\"year\": 1975, \"country\": \"New Zealand\", \"cluster\": 4, \"pop\": 3117800, \"life_expect\": 72.22, \"fertility\": 2.178}, {\"year\": 1980, \"country\": \"New Zealand\", \"cluster\": 4, \"pop\": 3170150, \"life_expect\": 73.84, \"fertility\": 1.963}, {\"year\": 1985, \"country\": \"New Zealand\", \"cluster\": 4, \"pop\": 3298050, \"life_expect\": 74.32, \"fertility\": 2.053}, {\"year\": 1990, \"country\": \"New Zealand\", \"cluster\": 4, \"pop\": 3359604, \"life_expect\": 76.33, \"fertility\": 2.061}, {\"year\": 1995, \"country\": \"New Zealand\", \"cluster\": 4, \"pop\": 3565990, \"life_expect\": 77.55, \"fertility\": 1.952}, {\"year\": 2000, \"country\": \"New Zealand\", \"cluster\": 4, \"pop\": 3819762, \"life_expect\": 79.11, \"fertility\": 1.964}, {\"year\": 2005, \"country\": \"New Zealand\", \"cluster\": 4, \"pop\": 4035461, \"life_expect\": 80.204, \"fertility\": 1.994}, {\"year\": 1955, \"country\": \"Nigeria\", \"cluster\": 2, \"pop\": 35458978, \"life_expect\": 37.802, \"fertility\": 6.9}, {\"year\": 1960, \"country\": \"Nigeria\", \"cluster\": 2, \"pop\": 39914593, \"life_expect\": 39.36, \"fertility\": 6.9}, {\"year\": 1965, \"country\": \"Nigeria\", \"cluster\": 2, \"pop\": 45020052, \"life_expect\": 41.04, \"fertility\": 6.9}, {\"year\": 1970, \"country\": \"Nigeria\", \"cluster\": 2, \"pop\": 51027516, \"life_expect\": 42.821, \"fertility\": 6.9}, {\"year\": 1975, \"country\": \"Nigeria\", \"cluster\": 2, \"pop\": 58522112, \"life_expect\": 44.514, \"fertility\": 6.9}, {\"year\": 1980, \"country\": \"Nigeria\", \"cluster\": 2, \"pop\": 68550274, \"life_expect\": 45.826, \"fertility\": 6.9}, {\"year\": 1985, \"country\": \"Nigeria\", \"cluster\": 2, \"pop\": 77573154, \"life_expect\": 46.886, \"fertility\": 6.834}, {\"year\": 1990, \"country\": \"Nigeria\", \"cluster\": 2, \"pop\": 88510354, \"life_expect\": 47.472, \"fertility\": 6.635}, {\"year\": 1995, \"country\": \"Nigeria\", \"cluster\": 2, \"pop\": 100960105, \"life_expect\": 47.464, \"fertility\": 6.246}, {\"year\": 2000, \"country\": \"Nigeria\", \"cluster\": 2, \"pop\": 114306700, \"life_expect\": 46.608, \"fertility\": 5.845}, {\"year\": 2005, \"country\": \"Nigeria\", \"cluster\": 2, \"pop\": 128765768, \"life_expect\": 46.859, \"fertility\": 5.322}, {\"year\": 1955, \"country\": \"Norway\", \"cluster\": 1, \"pop\": 3427409, \"life_expect\": 73.44, \"fertility\": 2.8369999999999997}, {\"year\": 1960, \"country\": \"Norway\", \"cluster\": 1, \"pop\": 3581239, \"life_expect\": 73.47, \"fertility\": 2.898}, {\"year\": 1965, \"country\": \"Norway\", \"cluster\": 1, \"pop\": 3723153, \"life_expect\": 74.08, \"fertility\": 2.719}, {\"year\": 1970, \"country\": \"Norway\", \"cluster\": 1, \"pop\": 3877386, \"life_expect\": 74.34, \"fertility\": 2.248}, {\"year\": 1975, \"country\": \"Norway\", \"cluster\": 1, \"pop\": 4007313, \"life_expect\": 75.37, \"fertility\": 1.81}, {\"year\": 1980, \"country\": \"Norway\", \"cluster\": 1, \"pop\": 4085620, \"life_expect\": 75.97, \"fertility\": 1.687}, {\"year\": 1985, \"country\": \"Norway\", \"cluster\": 1, \"pop\": 4152419, \"life_expect\": 75.89, \"fertility\": 1.8}, {\"year\": 1990, \"country\": \"Norway\", \"cluster\": 1, \"pop\": 4242006, \"life_expect\": 77.32, \"fertility\": 1.8860000000000001}, {\"year\": 1995, \"country\": \"Norway\", \"cluster\": 1, \"pop\": 4359101, \"life_expect\": 78.32, \"fertility\": 1.853}, {\"year\": 2000, \"country\": \"Norway\", \"cluster\": 1, \"pop\": 4492400, \"life_expect\": 79.05, \"fertility\": 1.8010000000000002}, {\"year\": 2005, \"country\": \"Norway\", \"cluster\": 1, \"pop\": 4593041, \"life_expect\": 80.196, \"fertility\": 1.8479999999999999}, {\"year\": 1955, \"country\": \"Pakistan\", \"cluster\": 0, \"pop\": 44434445, \"life_expect\": 45.557, \"fertility\": 6.6}, {\"year\": 1960, \"country\": \"Pakistan\", \"cluster\": 0, \"pop\": 50386898, \"life_expect\": 47.67, \"fertility\": 6.6}, {\"year\": 1965, \"country\": \"Pakistan\", \"cluster\": 0, \"pop\": 57494940, \"life_expect\": 49.8, \"fertility\": 6.6}, {\"year\": 1970, \"country\": \"Pakistan\", \"cluster\": 0, \"pop\": 65705964, \"life_expect\": 51.929, \"fertility\": 6.6}, {\"year\": 1975, \"country\": \"Pakistan\", \"cluster\": 0, \"pop\": 74711541, \"life_expect\": 54.043, \"fertility\": 6.6}, {\"year\": 1980, \"country\": \"Pakistan\", \"cluster\": 0, \"pop\": 85219117, \"life_expect\": 56.158, \"fertility\": 6.6}, {\"year\": 1985, \"country\": \"Pakistan\", \"cluster\": 0, \"pop\": 99060352, \"life_expect\": 58.245, \"fertility\": 6.66}, {\"year\": 1990, \"country\": \"Pakistan\", \"cluster\": 0, \"pop\": 114578478, \"life_expect\": 60.838, \"fertility\": 5.8}, {\"year\": 1995, \"country\": \"Pakistan\", \"cluster\": 0, \"pop\": 128690285, \"life_expect\": 61.818, \"fertility\": 4.9596}, {\"year\": 2000, \"country\": \"Pakistan\", \"cluster\": 0, \"pop\": 146342958, \"life_expect\": 63.61, \"fertility\": 3.9936}, {\"year\": 2005, \"country\": \"Pakistan\", \"cluster\": 0, \"pop\": 162419946, \"life_expect\": 65.483, \"fertility\": 3.5211}, {\"year\": 1955, \"country\": \"Peru\", \"cluster\": 3, \"pop\": 8671500, \"life_expect\": 46.263, \"fertility\": 6.853}, {\"year\": 1960, \"country\": \"Peru\", \"cluster\": 3, \"pop\": 9931000, \"life_expect\": 49.096, \"fertility\": 6.853}, {\"year\": 1965, \"country\": \"Peru\", \"cluster\": 3, \"pop\": 11467300, \"life_expect\": 51.445, \"fertility\": 6.5600000000000005}, {\"year\": 1970, \"country\": \"Peru\", \"cluster\": 3, \"pop\": 13192800, \"life_expect\": 55.448, \"fertility\": 6.0}, {\"year\": 1975, \"country\": \"Peru\", \"cluster\": 3, \"pop\": 15161199, \"life_expect\": 58.447, \"fertility\": 5.378}, {\"year\": 1980, \"country\": \"Peru\", \"cluster\": 3, \"pop\": 17295298, \"life_expect\": 61.406, \"fertility\": 4.65}, {\"year\": 1985, \"country\": \"Peru\", \"cluster\": 3, \"pop\": 19348926, \"life_expect\": 64.134, \"fertility\": 4.1}, {\"year\": 1990, \"country\": \"Peru\", \"cluster\": 3, \"pop\": 21511443, \"life_expect\": 66.458, \"fertility\": 3.7}, {\"year\": 1995, \"country\": \"Peru\", \"cluster\": 3, \"pop\": 23846388, \"life_expect\": 68.386, \"fertility\": 3.0995}, {\"year\": 2000, \"country\": \"Peru\", \"cluster\": 3, \"pop\": 25979722, \"life_expect\": 69.906, \"fertility\": 2.7005}, {\"year\": 2005, \"country\": \"Peru\", \"cluster\": 3, \"pop\": 27925628, \"life_expect\": 71.421, \"fertility\": 2.5065}, {\"year\": 1955, \"country\": \"Philippines\", \"cluster\": 4, \"pop\": 24553055, \"life_expect\": 51.334, \"fertility\": 7.13}, {\"year\": 1960, \"country\": \"Philippines\", \"cluster\": 4, \"pop\": 28528939, \"life_expect\": 54.757, \"fertility\": 6.85}, {\"year\": 1965, \"country\": \"Philippines\", \"cluster\": 4, \"pop\": 33267569, \"life_expect\": 56.393, \"fertility\": 6.5}, {\"year\": 1970, \"country\": \"Philippines\", \"cluster\": 4, \"pop\": 38603696, \"life_expect\": 58.065, \"fertility\": 6.0}, {\"year\": 1975, \"country\": \"Philippines\", \"cluster\": 4, \"pop\": 44336842, \"life_expect\": 60.06, \"fertility\": 5.5}, {\"year\": 1980, \"country\": \"Philippines\", \"cluster\": 4, \"pop\": 50940182, \"life_expect\": 62.082, \"fertility\": 4.95}, {\"year\": 1985, \"country\": \"Philippines\", \"cluster\": 4, \"pop\": 57288037, \"life_expect\": 64.151, \"fertility\": 4.55}, {\"year\": 1990, \"country\": \"Philippines\", \"cluster\": 4, \"pop\": 64318120, \"life_expect\": 66.458, \"fertility\": 4.143}, {\"year\": 1995, \"country\": \"Philippines\", \"cluster\": 4, \"pop\": 71717437, \"life_expect\": 68.564, \"fertility\": 3.7248}, {\"year\": 2000, \"country\": \"Philippines\", \"cluster\": 4, \"pop\": 79739825, \"life_expect\": 70.303, \"fertility\": 3.5436}, {\"year\": 2005, \"country\": \"Philippines\", \"cluster\": 4, \"pop\": 87857473, \"life_expect\": 71.688, \"fertility\": 3.2327}, {\"year\": 1955, \"country\": \"Poland\", \"cluster\": 1, \"pop\": 27220668, \"life_expect\": 65.77, \"fertility\": 3.29}, {\"year\": 1960, \"country\": \"Poland\", \"cluster\": 1, \"pop\": 29589842, \"life_expect\": 67.64, \"fertility\": 2.65}, {\"year\": 1965, \"country\": \"Poland\", \"cluster\": 1, \"pop\": 31262358, \"life_expect\": 69.61, \"fertility\": 2.27}, {\"year\": 1970, \"country\": \"Poland\", \"cluster\": 1, \"pop\": 32526000, \"life_expect\": 70.85, \"fertility\": 2.25}, {\"year\": 1975, \"country\": \"Poland\", \"cluster\": 1, \"pop\": 33969240, \"life_expect\": 70.67, \"fertility\": 2.26}, {\"year\": 1980, \"country\": \"Poland\", \"cluster\": 1, \"pop\": 35578016, \"life_expect\": 71.32, \"fertility\": 2.33}, {\"year\": 1985, \"country\": \"Poland\", \"cluster\": 1, \"pop\": 37225792, \"life_expect\": 70.98, \"fertility\": 2.15}, {\"year\": 1990, \"country\": \"Poland\", \"cluster\": 1, \"pop\": 38119408, \"life_expect\": 70.99, \"fertility\": 1.8900000000000001}, {\"year\": 1995, \"country\": \"Poland\", \"cluster\": 1, \"pop\": 38600642, \"life_expect\": 72.75, \"fertility\": 1.478}, {\"year\": 2000, \"country\": \"Poland\", \"cluster\": 1, \"pop\": 38654164, \"life_expect\": 74.67, \"fertility\": 1.251}, {\"year\": 2005, \"country\": \"Poland\", \"cluster\": 1, \"pop\": 38557984, \"life_expect\": 75.563, \"fertility\": 1.227}, {\"year\": 1955, \"country\": \"Portugal\", \"cluster\": 1, \"pop\": 8692600, \"life_expect\": 61.51, \"fertility\": 3.03}, {\"year\": 1960, \"country\": \"Portugal\", \"cluster\": 1, \"pop\": 9036700, \"life_expect\": 64.39, \"fertility\": 3.074}, {\"year\": 1965, \"country\": \"Portugal\", \"cluster\": 1, \"pop\": 9128850, \"life_expect\": 66.6, \"fertility\": 2.849}, {\"year\": 1970, \"country\": \"Portugal\", \"cluster\": 1, \"pop\": 9044200, \"life_expect\": 69.26, \"fertility\": 2.748}, {\"year\": 1975, \"country\": \"Portugal\", \"cluster\": 1, \"pop\": 9411090, \"life_expect\": 70.41, \"fertility\": 2.41}, {\"year\": 1980, \"country\": \"Portugal\", \"cluster\": 1, \"pop\": 9777800, \"life_expect\": 72.77, \"fertility\": 1.982}, {\"year\": 1985, \"country\": \"Portugal\", \"cluster\": 1, \"pop\": 9897192, \"life_expect\": 74.06, \"fertility\": 1.5939999999999999}, {\"year\": 1990, \"country\": \"Portugal\", \"cluster\": 1, \"pop\": 9922689, \"life_expect\": 74.86, \"fertility\": 1.516}, {\"year\": 1995, \"country\": \"Portugal\", \"cluster\": 1, \"pop\": 10065543, \"life_expect\": 75.97, \"fertility\": 1.475}, {\"year\": 2000, \"country\": \"Portugal\", \"cluster\": 1, \"pop\": 10335597, \"life_expect\": 77.29, \"fertility\": 1.454}, {\"year\": 2005, \"country\": \"Portugal\", \"cluster\": 1, \"pop\": 10566212, \"life_expect\": 78.098, \"fertility\": 1.455}, {\"year\": 1955, \"country\": \"Rwanda\", \"cluster\": 2, \"pop\": 2698272, \"life_expect\": 41.5, \"fertility\": 8.0}, {\"year\": 1960, \"country\": \"Rwanda\", \"cluster\": 2, \"pop\": 3031804, \"life_expect\": 43.0, \"fertility\": 8.1}, {\"year\": 1965, \"country\": \"Rwanda\", \"cluster\": 2, \"pop\": 3264640, \"life_expect\": 44.1, \"fertility\": 8.2}, {\"year\": 1970, \"country\": \"Rwanda\", \"cluster\": 2, \"pop\": 3769171, \"life_expect\": 44.6, \"fertility\": 8.29}, {\"year\": 1975, \"country\": \"Rwanda\", \"cluster\": 2, \"pop\": 4356863, \"life_expect\": 45.0, \"fertility\": 8.492}, {\"year\": 1980, \"country\": \"Rwanda\", \"cluster\": 2, \"pop\": 5138689, \"life_expect\": 46.218, \"fertility\": 8.5}, {\"year\": 1985, \"country\": \"Rwanda\", \"cluster\": 2, \"pop\": 6009833, \"life_expect\": 44.02, \"fertility\": 8.25}, {\"year\": 1990, \"country\": \"Rwanda\", \"cluster\": 2, \"pop\": 6923738, \"life_expect\": 23.599, \"fertility\": 6.9}, {\"year\": 1995, \"country\": \"Rwanda\", \"cluster\": 2, \"pop\": 5706501, \"life_expect\": 36.087, \"fertility\": 6.0993}, {\"year\": 2000, \"country\": \"Rwanda\", \"cluster\": 2, \"pop\": 7507056, \"life_expect\": 43.413, \"fertility\": 6.01}, {\"year\": 2005, \"country\": \"Rwanda\", \"cluster\": 2, \"pop\": 8440820, \"life_expect\": 46.242, \"fertility\": 5.9169}, {\"year\": 1955, \"country\": \"Saudi Arabia\", \"cluster\": 5, \"pop\": 4243218, \"life_expect\": 42.868, \"fertility\": 7.175}, {\"year\": 1960, \"country\": \"Saudi Arabia\", \"cluster\": 5, \"pop\": 4718301, \"life_expect\": 45.914, \"fertility\": 7.257}, {\"year\": 1965, \"country\": \"Saudi Arabia\", \"cluster\": 5, \"pop\": 5327432, \"life_expect\": 49.901, \"fertility\": 7.257}, {\"year\": 1970, \"country\": \"Saudi Arabia\", \"cluster\": 5, \"pop\": 6109051, \"life_expect\": 53.886, \"fertility\": 7.298}, {\"year\": 1975, \"country\": \"Saudi Arabia\", \"cluster\": 5, \"pop\": 7204820, \"life_expect\": 58.69, \"fertility\": 7.2780000000000005}, {\"year\": 1980, \"country\": \"Saudi Arabia\", \"cluster\": 5, \"pop\": 9999161, \"life_expect\": 63.012, \"fertility\": 7.015}, {\"year\": 1985, \"country\": \"Saudi Arabia\", \"cluster\": 5, \"pop\": 13330067, \"life_expect\": 66.295, \"fertility\": 6.217}, {\"year\": 1990, \"country\": \"Saudi Arabia\", \"cluster\": 5, \"pop\": 16060761, \"life_expect\": 68.768, \"fertility\": 5.446}, {\"year\": 1995, \"country\": \"Saudi Arabia\", \"cluster\": 5, \"pop\": 19966998, \"life_expect\": 70.533, \"fertility\": 4.621}, {\"year\": 2000, \"country\": \"Saudi Arabia\", \"cluster\": 5, \"pop\": 23153090, \"life_expect\": 71.626, \"fertility\": 3.81}, {\"year\": 2005, \"country\": \"Saudi Arabia\", \"cluster\": 5, \"pop\": 26417599, \"life_expect\": 72.777, \"fertility\": 3.352}, {\"year\": 1955, \"country\": \"South Africa\", \"cluster\": 2, \"pop\": 15368551, \"life_expect\": 47.985, \"fertility\": 6.5}, {\"year\": 1960, \"country\": \"South Africa\", \"cluster\": 2, \"pop\": 17416653, \"life_expect\": 49.951, \"fertility\": 6.3}, {\"year\": 1965, \"country\": \"South Africa\", \"cluster\": 2, \"pop\": 19898242, \"life_expect\": 51.927, \"fertility\": 5.7}, {\"year\": 1970, \"country\": \"South Africa\", \"cluster\": 2, \"pop\": 22739921, \"life_expect\": 53.696, \"fertility\": 5.47}, {\"year\": 1975, \"country\": \"South Africa\", \"cluster\": 2, \"pop\": 25815144, \"life_expect\": 55.527, \"fertility\": 5.0}, {\"year\": 1980, \"country\": \"South Africa\", \"cluster\": 2, \"pop\": 29251588, \"life_expect\": 58.161, \"fertility\": 4.556}, {\"year\": 1985, \"country\": \"South Africa\", \"cluster\": 2, \"pop\": 34254092, \"life_expect\": 60.834, \"fertility\": 3.85}, {\"year\": 1990, \"country\": \"South Africa\", \"cluster\": 2, \"pop\": 38391094, \"life_expect\": 61.888, \"fertility\": 3.343}, {\"year\": 1995, \"country\": \"South Africa\", \"cluster\": 2, \"pop\": 41779149, \"life_expect\": 60.236, \"fertility\": 2.954}, {\"year\": 2000, \"country\": \"South Africa\", \"cluster\": 2, \"pop\": 44066197, \"life_expect\": 53.365, \"fertility\": 2.802}, {\"year\": 2005, \"country\": \"South Africa\", \"cluster\": 2, \"pop\": 44344136, \"life_expect\": 49.339, \"fertility\": 2.637}, {\"year\": 1955, \"country\": \"Spain\", \"cluster\": 1, \"pop\": 29318745, \"life_expect\": 66.66, \"fertility\": 2.75}, {\"year\": 1960, \"country\": \"Spain\", \"cluster\": 1, \"pop\": 30641187, \"life_expect\": 69.69, \"fertility\": 2.89}, {\"year\": 1965, \"country\": \"Spain\", \"cluster\": 1, \"pop\": 32084511, \"life_expect\": 71.44, \"fertility\": 2.92}, {\"year\": 1970, \"country\": \"Spain\", \"cluster\": 1, \"pop\": 33876479, \"life_expect\": 73.06, \"fertility\": 2.86}, {\"year\": 1975, \"country\": \"Spain\", \"cluster\": 1, \"pop\": 35563535, \"life_expect\": 74.39, \"fertility\": 2.5700000000000003}, {\"year\": 1980, \"country\": \"Spain\", \"cluster\": 1, \"pop\": 37488360, \"life_expect\": 76.3, \"fertility\": 1.8900000000000001}, {\"year\": 1985, \"country\": \"Spain\", \"cluster\": 1, \"pop\": 38534853, \"life_expect\": 76.9, \"fertility\": 1.48}, {\"year\": 1990, \"country\": \"Spain\", \"cluster\": 1, \"pop\": 39350769, \"life_expect\": 77.57, \"fertility\": 1.27}, {\"year\": 1995, \"country\": \"Spain\", \"cluster\": 1, \"pop\": 39749715, \"life_expect\": 78.77, \"fertility\": 1.182}, {\"year\": 2000, \"country\": \"Spain\", \"cluster\": 1, \"pop\": 40016081, \"life_expect\": 79.78, \"fertility\": 1.287}, {\"year\": 2005, \"country\": \"Spain\", \"cluster\": 1, \"pop\": 40341462, \"life_expect\": 80.941, \"fertility\": 1.409}, {\"year\": 1955, \"country\": \"Switzerland\", \"cluster\": 1, \"pop\": 4980000, \"life_expect\": 70.56, \"fertility\": 2.34}, {\"year\": 1960, \"country\": \"Switzerland\", \"cluster\": 1, \"pop\": 5362000, \"life_expect\": 71.32, \"fertility\": 2.51}, {\"year\": 1965, \"country\": \"Switzerland\", \"cluster\": 1, \"pop\": 5943000, \"life_expect\": 72.77, \"fertility\": 2.27}, {\"year\": 1970, \"country\": \"Switzerland\", \"cluster\": 1, \"pop\": 6267000, \"life_expect\": 73.78, \"fertility\": 1.82}, {\"year\": 1975, \"country\": \"Switzerland\", \"cluster\": 1, \"pop\": 6403500, \"life_expect\": 75.39, \"fertility\": 1.53}, {\"year\": 1980, \"country\": \"Switzerland\", \"cluster\": 1, \"pop\": 6385229, \"life_expect\": 76.21, \"fertility\": 1.53}, {\"year\": 1985, \"country\": \"Switzerland\", \"cluster\": 1, \"pop\": 6563770, \"life_expect\": 77.41, \"fertility\": 1.53}, {\"year\": 1990, \"country\": \"Switzerland\", \"cluster\": 1, \"pop\": 6836626, \"life_expect\": 78.03, \"fertility\": 1.54}, {\"year\": 1995, \"country\": \"Switzerland\", \"cluster\": 1, \"pop\": 7157106, \"life_expect\": 79.37, \"fertility\": 1.47}, {\"year\": 2000, \"country\": \"Switzerland\", \"cluster\": 1, \"pop\": 7266920, \"life_expect\": 80.62, \"fertility\": 1.415}, {\"year\": 2005, \"country\": \"Switzerland\", \"cluster\": 1, \"pop\": 7489370, \"life_expect\": 81.701, \"fertility\": 1.42}, {\"year\": 1955, \"country\": \"Turkey\", \"cluster\": 1, \"pop\": 24144571, \"life_expect\": 48.079, \"fertility\": 6.6}, {\"year\": 1960, \"country\": \"Turkey\", \"cluster\": 1, \"pop\": 28217122, \"life_expect\": 52.098, \"fertility\": 6.19}, {\"year\": 1965, \"country\": \"Turkey\", \"cluster\": 1, \"pop\": 31950718, \"life_expect\": 54.336, \"fertility\": 5.7}, {\"year\": 1970, \"country\": \"Turkey\", \"cluster\": 1, \"pop\": 35758382, \"life_expect\": 57.005, \"fertility\": 5.3}, {\"year\": 1975, \"country\": \"Turkey\", \"cluster\": 1, \"pop\": 40529798, \"life_expect\": 59.507, \"fertility\": 4.715}, {\"year\": 1980, \"country\": \"Turkey\", \"cluster\": 1, \"pop\": 45120802, \"life_expect\": 61.036, \"fertility\": 4.15}, {\"year\": 1985, \"country\": \"Turkey\", \"cluster\": 1, \"pop\": 50669003, \"life_expect\": 63.108, \"fertility\": 3.276}, {\"year\": 1990, \"country\": \"Turkey\", \"cluster\": 1, \"pop\": 56084632, \"life_expect\": 66.146, \"fertility\": 2.904}, {\"year\": 1995, \"country\": \"Turkey\", \"cluster\": 1, \"pop\": 61188984, \"life_expect\": 68.835, \"fertility\": 2.574}, {\"year\": 2000, \"country\": \"Turkey\", \"cluster\": 1, \"pop\": 65666677, \"life_expect\": 70.845, \"fertility\": 2.23}, {\"year\": 2005, \"country\": \"Turkey\", \"cluster\": 1, \"pop\": 69660559, \"life_expect\": 71.777, \"fertility\": 2.143}, {\"year\": 1955, \"country\": \"United Kingdom\", \"cluster\": 1, \"pop\": 50946000, \"life_expect\": 70.42, \"fertility\": 2.49}, {\"year\": 1960, \"country\": \"United Kingdom\", \"cluster\": 1, \"pop\": 52372000, \"life_expect\": 70.76, \"fertility\": 2.81}, {\"year\": 1965, \"country\": \"United Kingdom\", \"cluster\": 1, \"pop\": 54350000, \"life_expect\": 71.36, \"fertility\": 2.52}, {\"year\": 1970, \"country\": \"United Kingdom\", \"cluster\": 1, \"pop\": 55632000, \"life_expect\": 72.01, \"fertility\": 2.04}, {\"year\": 1975, \"country\": \"United Kingdom\", \"cluster\": 1, \"pop\": 56215000, \"life_expect\": 72.76, \"fertility\": 1.72}, {\"year\": 1980, \"country\": \"United Kingdom\", \"cluster\": 1, \"pop\": 56314000, \"life_expect\": 74.04, \"fertility\": 1.8}, {\"year\": 1985, \"country\": \"United Kingdom\", \"cluster\": 1, \"pop\": 56620240, \"life_expect\": 75.007, \"fertility\": 1.81}, {\"year\": 1990, \"country\": \"United Kingdom\", \"cluster\": 1, \"pop\": 57493307, \"life_expect\": 76.42, \"fertility\": 1.78}, {\"year\": 1995, \"country\": \"United Kingdom\", \"cluster\": 1, \"pop\": 58426014, \"life_expect\": 77.218, \"fertility\": 1.7000000000000002}, {\"year\": 2000, \"country\": \"United Kingdom\", \"cluster\": 1, \"pop\": 59522468, \"life_expect\": 78.471, \"fertility\": 1.695}, {\"year\": 2005, \"country\": \"United Kingdom\", \"cluster\": 1, \"pop\": 60441457, \"life_expect\": 79.425, \"fertility\": 1.815}, {\"year\": 1955, \"country\": \"United States\", \"cluster\": 3, \"pop\": 165931000, \"life_expect\": 69.49, \"fertility\": 3.706}, {\"year\": 1960, \"country\": \"United States\", \"cluster\": 3, \"pop\": 180671000, \"life_expect\": 70.21, \"fertility\": 3.314}, {\"year\": 1965, \"country\": \"United States\", \"cluster\": 3, \"pop\": 194303000, \"life_expect\": 70.76, \"fertility\": 2.545}, {\"year\": 1970, \"country\": \"United States\", \"cluster\": 3, \"pop\": 205052000, \"life_expect\": 71.34, \"fertility\": 2.016}, {\"year\": 1975, \"country\": \"United States\", \"cluster\": 3, \"pop\": 215973000, \"life_expect\": 73.38, \"fertility\": 1.788}, {\"year\": 1980, \"country\": \"United States\", \"cluster\": 3, \"pop\": 227726463, \"life_expect\": 74.65, \"fertility\": 1.8250000000000002}, {\"year\": 1985, \"country\": \"United States\", \"cluster\": 3, \"pop\": 238466283, \"life_expect\": 75.02, \"fertility\": 1.924}, {\"year\": 1990, \"country\": \"United States\", \"cluster\": 3, \"pop\": 250131894, \"life_expect\": 76.09, \"fertility\": 2.025}, {\"year\": 1995, \"country\": \"United States\", \"cluster\": 3, \"pop\": 266557091, \"life_expect\": 76.81, \"fertility\": 1.994}, {\"year\": 2000, \"country\": \"United States\", \"cluster\": 3, \"pop\": 282338631, \"life_expect\": 77.31, \"fertility\": 2.038}, {\"year\": 2005, \"country\": \"United States\", \"cluster\": 3, \"pop\": 295734134, \"life_expect\": 78.242, \"fertility\": 2.054}, {\"year\": 1955, \"country\": \"Venezuela\", \"cluster\": 3, \"pop\": 6170497, \"life_expect\": 57.907, \"fertility\": 6.4585}, {\"year\": 1960, \"country\": \"Venezuela\", \"cluster\": 3, \"pop\": 7556483, \"life_expect\": 60.77, \"fertility\": 6.657}, {\"year\": 1965, \"country\": \"Venezuela\", \"cluster\": 3, \"pop\": 9067735, \"life_expect\": 63.479, \"fertility\": 5.9045000000000005}, {\"year\": 1970, \"country\": \"Venezuela\", \"cluster\": 3, \"pop\": 10758017, \"life_expect\": 65.712, \"fertility\": 4.941}, {\"year\": 1975, \"country\": \"Venezuela\", \"cluster\": 3, \"pop\": 12674987, \"life_expect\": 67.456, \"fertility\": 4.4685}, {\"year\": 1980, \"country\": \"Venezuela\", \"cluster\": 3, \"pop\": 14767890, \"life_expect\": 68.557, \"fertility\": 3.957}, {\"year\": 1985, \"country\": \"Venezuela\", \"cluster\": 3, \"pop\": 16997509, \"life_expect\": 70.19, \"fertility\": 3.6485000000000003}, {\"year\": 1990, \"country\": \"Venezuela\", \"cluster\": 3, \"pop\": 19325222, \"life_expect\": 71.15, \"fertility\": 3.25}, {\"year\": 1995, \"country\": \"Venezuela\", \"cluster\": 3, \"pop\": 21555902, \"life_expect\": 72.146, \"fertility\": 2.9415}, {\"year\": 2000, \"country\": \"Venezuela\", \"cluster\": 3, \"pop\": 23542649, \"life_expect\": 72.766, \"fertility\": 2.723}, {\"year\": 2005, \"country\": \"Venezuela\", \"cluster\": 3, \"pop\": 25375281, \"life_expect\": 73.747, \"fertility\": 2.547}]}}, {\"mode\": \"vega-lite\"});\n",
       "</script>"
      ],
      "text/plain": [
       "alt.Chart(...)"
      ]
     },
     "execution_count": 32,
     "metadata": {},
     "output_type": "execute_result"
    }
   ],
   "source": [
    "alt.Chart(data).mark_line(\n",
    "    strokeWidth=3,\n",
    "    opacity=0.5,\n",
    "    interpolate='monotone'\n",
    ").encode(\n",
    "    alt.X('year:O'),\n",
    "    alt.Y('fertility:Q'),\n",
    "    alt.Color('country:N', legend=None),\n",
    "    alt.Tooltip('country:N')\n",
    ").properties(\n",
    "    width=400\n",
    ")"
   ]
  },
  {
   "cell_type": "markdown",
   "metadata": {
    "colab_type": "text",
    "id": "_PZcXCF6OZm2"
   },
   "source": [
    "A marca `line` também pode ser usada para criar *gráficos de inclinação*, tabelas que destacam a mudança de valor entre dois pontos de comparação usando inclinações de linha.\n",
    "\n",
    "Abaixo, vamos criar um gráfico de inclinação comparando as populações de cada país nos anos minímo e máximo em nosso conjunto de dados:1955 e 2005. Primeiro criamos um novo conjunto de dados Pandas filtrado para esses anos, então usar o Altaris para criar o gráfico de inclinação.\n",
    "\n",
    "Por padrão, o Altair coloca os anos juntos. Para espaçar melhor os anos ao longo do eixo, podemos indicar o tamanho(em pixels) de passos discretos ao longo da largura do nosso gráfico, conforme indicado no comentário abaixo. Tente ajustar o valor da largura `step` abaixo e veja como o gráfico muda com a resposta."
   ]
  },
  {
   "cell_type": "code",
   "execution_count": null,
   "metadata": {
    "colab": {
     "base_uri": "https://localhost:8080/",
     "height": 385
    },
    "colab_type": "code",
    "id": "glipk3XoKUcc",
    "outputId": "edd1292a-97a7-44d1-b2ec-c5b8d755aa86"
   },
   "outputs": [
    {
     "data": {
      "text/html": [
       "\n",
       "<div id=\"altair-viz-7ec0d906376f4e05a012e5600803452d\"></div>\n",
       "<script type=\"text/javascript\">\n",
       "  (function(spec, embedOpt){\n",
       "    let outputDiv = document.currentScript.previousElementSibling;\n",
       "    if (outputDiv.id !== \"altair-viz-7ec0d906376f4e05a012e5600803452d\") {\n",
       "      outputDiv = document.getElementById(\"altair-viz-7ec0d906376f4e05a012e5600803452d\");\n",
       "    }\n",
       "    const paths = {\n",
       "      \"vega\": \"https://cdn.jsdelivr.net/npm//vega@5?noext\",\n",
       "      \"vega-lib\": \"https://cdn.jsdelivr.net/npm//vega-lib?noext\",\n",
       "      \"vega-lite\": \"https://cdn.jsdelivr.net/npm//vega-lite@4.8.1?noext\",\n",
       "      \"vega-embed\": \"https://cdn.jsdelivr.net/npm//vega-embed@6?noext\",\n",
       "    };\n",
       "\n",
       "    function loadScript(lib) {\n",
       "      return new Promise(function(resolve, reject) {\n",
       "        var s = document.createElement('script');\n",
       "        s.src = paths[lib];\n",
       "        s.async = true;\n",
       "        s.onload = () => resolve(paths[lib]);\n",
       "        s.onerror = () => reject(`Error loading script: ${paths[lib]}`);\n",
       "        document.getElementsByTagName(\"head\")[0].appendChild(s);\n",
       "      });\n",
       "    }\n",
       "\n",
       "    function showError(err) {\n",
       "      outputDiv.innerHTML = `<div class=\"error\" style=\"color:red;\">${err}</div>`;\n",
       "      throw err;\n",
       "    }\n",
       "\n",
       "    function displayChart(vegaEmbed) {\n",
       "      vegaEmbed(outputDiv, spec, embedOpt)\n",
       "        .catch(err => showError(`Javascript Error: ${err.message}<br>This usually means there's a typo in your chart specification. See the javascript console for the full traceback.`));\n",
       "    }\n",
       "\n",
       "    if(typeof define === \"function\" && define.amd) {\n",
       "      requirejs.config({paths});\n",
       "      require([\"vega-embed\"], displayChart, err => showError(`Error loading script: ${err.message}`));\n",
       "    } else if (typeof vegaEmbed === \"function\") {\n",
       "      displayChart(vegaEmbed);\n",
       "    } else {\n",
       "      loadScript(\"vega\")\n",
       "        .then(() => loadScript(\"vega-lite\"))\n",
       "        .then(() => loadScript(\"vega-embed\"))\n",
       "        .catch(showError)\n",
       "        .then(() => displayChart(vegaEmbed));\n",
       "    }\n",
       "  })({\"config\": {\"view\": {\"continuousWidth\": 400, \"continuousHeight\": 300}}, \"data\": {\"name\": \"data-cb152d9c221aa74672d5bedc49a3e5c7\"}, \"mark\": {\"type\": \"line\", \"opacity\": 0.5}, \"encoding\": {\"color\": {\"type\": \"nominal\", \"field\": \"country\", \"legend\": null}, \"tooltip\": {\"type\": \"nominal\", \"field\": \"country\"}, \"x\": {\"type\": \"ordinal\", \"field\": \"year\"}, \"y\": {\"type\": \"quantitative\", \"field\": \"pop\"}}, \"width\": {\"step\": 50}, \"$schema\": \"https://vega.github.io/schema/vega-lite/v4.8.1.json\", \"datasets\": {\"data-cb152d9c221aa74672d5bedc49a3e5c7\": [{\"year\": 1955, \"country\": \"Afghanistan\", \"cluster\": 0, \"pop\": 8891209, \"life_expect\": 30.332, \"fertility\": 7.7}, {\"year\": 2005, \"country\": \"Afghanistan\", \"cluster\": 0, \"pop\": 29928987, \"life_expect\": 43.828, \"fertility\": 7.0685}, {\"year\": 1955, \"country\": \"Argentina\", \"cluster\": 3, \"pop\": 18927821, \"life_expect\": 64.399, \"fertility\": 3.1265}, {\"year\": 2005, \"country\": \"Argentina\", \"cluster\": 3, \"pop\": 39537943, \"life_expect\": 75.32, \"fertility\": 2.254}, {\"year\": 1955, \"country\": \"Aruba\", \"cluster\": 3, \"pop\": 53865, \"life_expect\": 64.381, \"fertility\": 5.15}, {\"year\": 2005, \"country\": \"Aruba\", \"cluster\": 3, \"pop\": 71566, \"life_expect\": 74.239, \"fertility\": 2.04}, {\"year\": 1955, \"country\": \"Australia\", \"cluster\": 4, \"pop\": 9277087, \"life_expect\": 70.33, \"fertility\": 3.406}, {\"year\": 2005, \"country\": \"Australia\", \"cluster\": 4, \"pop\": 20090437, \"life_expect\": 81.235, \"fertility\": 1.788}, {\"year\": 1955, \"country\": \"Austria\", \"cluster\": 1, \"pop\": 6946885, \"life_expect\": 67.48, \"fertility\": 2.52}, {\"year\": 2005, \"country\": \"Austria\", \"cluster\": 1, \"pop\": 8184691, \"life_expect\": 79.829, \"fertility\": 1.42}, {\"year\": 1955, \"country\": \"Bahamas\", \"cluster\": 3, \"pop\": 87138, \"life_expect\": 62.405, \"fertility\": 4.305}, {\"year\": 2005, \"country\": \"Bahamas\", \"cluster\": 3, \"pop\": 301790, \"life_expect\": 73.495, \"fertility\": 2.0221}, {\"year\": 1955, \"country\": \"Bangladesh\", \"cluster\": 0, \"pop\": 49601520, \"life_expect\": 39.348, \"fertility\": 6.76}, {\"year\": 2005, \"country\": \"Bangladesh\", \"cluster\": 0, \"pop\": 144319628, \"life_expect\": 64.062, \"fertility\": 2.826}, {\"year\": 1955, \"country\": \"Barbados\", \"cluster\": 3, \"pop\": 227255, \"life_expect\": 62.57, \"fertility\": 4.67}, {\"year\": 2005, \"country\": \"Barbados\", \"cluster\": 3, \"pop\": 278870, \"life_expect\": 77.296, \"fertility\": 1.5}, {\"year\": 1955, \"country\": \"Belgium\", \"cluster\": 1, \"pop\": 8868475, \"life_expect\": 69.24, \"fertility\": 2.496}, {\"year\": 2005, \"country\": \"Belgium\", \"cluster\": 1, \"pop\": 10364388, \"life_expect\": 79.441, \"fertility\": 1.646}, {\"year\": 1955, \"country\": \"Bolivia\", \"cluster\": 3, \"pop\": 3074311, \"life_expect\": 41.89, \"fertility\": 6.75}, {\"year\": 2005, \"country\": \"Bolivia\", \"cluster\": 3, \"pop\": 8857870, \"life_expect\": 65.554, \"fertility\": 3.5}, {\"year\": 1955, \"country\": \"Brazil\", \"cluster\": 3, \"pop\": 61773546, \"life_expect\": 53.285, \"fertility\": 6.1501}, {\"year\": 2005, \"country\": \"Brazil\", \"cluster\": 3, \"pop\": 186112794, \"life_expect\": 72.39, \"fertility\": 2.245}, {\"year\": 1955, \"country\": \"Canada\", \"cluster\": 3, \"pop\": 16050356, \"life_expect\": 69.96, \"fertility\": 3.882}, {\"year\": 2005, \"country\": \"Canada\", \"cluster\": 3, \"pop\": 32805041, \"life_expect\": 80.653, \"fertility\": 1.5270000000000001}, {\"year\": 1955, \"country\": \"Chile\", \"cluster\": 3, \"pop\": 6743269, \"life_expect\": 56.074, \"fertility\": 5.486}, {\"year\": 2005, \"country\": \"Chile\", \"cluster\": 3, \"pop\": 15980912, \"life_expect\": 78.553, \"fertility\": 1.944}, {\"year\": 1955, \"country\": \"China\", \"cluster\": 4, \"pop\": 608655000, \"life_expect\": 50.54896, \"fertility\": 5.59}, {\"year\": 2005, \"country\": \"China\", \"cluster\": 4, \"pop\": 1303182268, \"life_expect\": 72.961, \"fertility\": 1.725}, {\"year\": 1955, \"country\": \"Colombia\", \"cluster\": 3, \"pop\": 13588405, \"life_expect\": 55.118, \"fertility\": 6.76}, {\"year\": 2005, \"country\": \"Colombia\", \"cluster\": 3, \"pop\": 42954279, \"life_expect\": 72.889, \"fertility\": 2.2205}, {\"year\": 1955, \"country\": \"Costa Rica\", \"cluster\": 3, \"pop\": 1031782, \"life_expect\": 60.026, \"fertility\": 7.1135}, {\"year\": 2005, \"country\": \"Costa Rica\", \"cluster\": 3, \"pop\": 4016173, \"life_expect\": 78.782, \"fertility\": 2.0985}, {\"year\": 1955, \"country\": \"Croatia\", \"cluster\": 1, \"pop\": 3955526, \"life_expect\": 64.77, \"fertility\": 2.42}, {\"year\": 2005, \"country\": \"Croatia\", \"cluster\": 1, \"pop\": 4495904, \"life_expect\": 75.748, \"fertility\": 1.346}, {\"year\": 1955, \"country\": \"Cuba\", \"cluster\": 3, \"pop\": 6381106, \"life_expect\": 62.325, \"fertility\": 3.6995}, {\"year\": 2005, \"country\": \"Cuba\", \"cluster\": 3, \"pop\": 11346670, \"life_expect\": 78.273, \"fertility\": 1.49}, {\"year\": 1955, \"country\": \"Dominican Republic\", \"cluster\": 3, \"pop\": 2737257, \"life_expect\": 49.828, \"fertility\": 7.6405}, {\"year\": 2005, \"country\": \"Dominican Republic\", \"cluster\": 3, \"pop\": 9049595, \"life_expect\": 72.235, \"fertility\": 2.81}, {\"year\": 1955, \"country\": \"Ecuador\", \"cluster\": 3, \"pop\": 3842399, \"life_expect\": 51.356, \"fertility\": 6.7}, {\"year\": 2005, \"country\": \"Ecuador\", \"cluster\": 3, \"pop\": 13363593, \"life_expect\": 74.994, \"fertility\": 2.578}, {\"year\": 1955, \"country\": \"Egypt\", \"cluster\": 5, \"pop\": 23855527, \"life_expect\": 44.444, \"fertility\": 6.97}, {\"year\": 2005, \"country\": \"Egypt\", \"cluster\": 5, \"pop\": 77505756, \"life_expect\": 71.338, \"fertility\": 2.891}, {\"year\": 1955, \"country\": \"El Salvador\", \"cluster\": 3, \"pop\": 2221139, \"life_expect\": 48.57, \"fertility\": 6.8065}, {\"year\": 2005, \"country\": \"El Salvador\", \"cluster\": 3, \"pop\": 6704932, \"life_expect\": 71.878, \"fertility\": 2.6825}, {\"year\": 1955, \"country\": \"Finland\", \"cluster\": 1, \"pop\": 4234900, \"life_expect\": 67.49, \"fertility\": 2.769}, {\"year\": 2005, \"country\": \"Finland\", \"cluster\": 1, \"pop\": 5223442, \"life_expect\": 79.313, \"fertility\": 1.8250000000000002}, {\"year\": 1955, \"country\": \"France\", \"cluster\": 1, \"pop\": 43427669, \"life_expect\": 68.93, \"fertility\": 2.7119999999999997}, {\"year\": 2005, \"country\": \"France\", \"cluster\": 1, \"pop\": 60656178, \"life_expect\": 80.657, \"fertility\": 1.8916}, {\"year\": 1955, \"country\": \"Georgia\", \"cluster\": 1, \"pop\": 3827154, \"life_expect\": 62.625, \"fertility\": 2.909}, {\"year\": 2005, \"country\": \"Georgia\", \"cluster\": 1, \"pop\": 4677401, \"life_expect\": 70.987, \"fertility\": 1.407}, {\"year\": 1955, \"country\": \"Germany\", \"cluster\": 1, \"pop\": 70195612, \"life_expect\": 69.1, \"fertility\": 2.3}, {\"year\": 2005, \"country\": \"Germany\", \"cluster\": 1, \"pop\": 82431390, \"life_expect\": 79.406, \"fertility\": 1.3599999999999999}, {\"year\": 1955, \"country\": \"Greece\", \"cluster\": 1, \"pop\": 7965538, \"life_expect\": 67.86, \"fertility\": 2.27}, {\"year\": 2005, \"country\": \"Greece\", \"cluster\": 1, \"pop\": 10668354, \"life_expect\": 79.483, \"fertility\": 1.325}, {\"year\": 1955, \"country\": \"Grenada\", \"cluster\": 3, \"pop\": 84621, \"life_expect\": 63.114, \"fertility\": 6.7}, {\"year\": 2005, \"country\": \"Grenada\", \"cluster\": 3, \"pop\": 89502, \"life_expect\": 68.724, \"fertility\": 2.302}, {\"year\": 1955, \"country\": \"Haiti\", \"cluster\": 3, \"pop\": 3376419, \"life_expect\": 40.696, \"fertility\": 6.3}, {\"year\": 2005, \"country\": \"Haiti\", \"cluster\": 3, \"pop\": 8121622, \"life_expect\": 60.916, \"fertility\": 3.5445}, {\"year\": 1955, \"country\": \"Hong Kong\", \"cluster\": 4, \"pop\": 2490400, \"life_expect\": 64.75, \"fertility\": 4.72}, {\"year\": 2005, \"country\": \"Hong Kong\", \"cluster\": 4, \"pop\": 6898686, \"life_expect\": 82.208, \"fertility\": 0.966}, {\"year\": 1955, \"country\": \"Iceland\", \"cluster\": 1, \"pop\": 158044, \"life_expect\": 73.47, \"fertility\": 4.023}, {\"year\": 2005, \"country\": \"Iceland\", \"cluster\": 1, \"pop\": 296737, \"life_expect\": 81.757, \"fertility\": 2.052}, {\"year\": 1955, \"country\": \"India\", \"cluster\": 0, \"pop\": 393000000, \"life_expect\": 40.249, \"fertility\": 5.8961}, {\"year\": 2005, \"country\": \"India\", \"cluster\": 0, \"pop\": 1080264388, \"life_expect\": 64.698, \"fertility\": 2.8073}, {\"year\": 1955, \"country\": \"Indonesia\", \"cluster\": 4, \"pop\": 86807000, \"life_expect\": 39.918, \"fertility\": 5.672}, {\"year\": 2005, \"country\": \"Indonesia\", \"cluster\": 4, \"pop\": 218465000, \"life_expect\": 70.65, \"fertility\": 2.182}, {\"year\": 1955, \"country\": \"Iran\", \"cluster\": 5, \"pop\": 18729000, \"life_expect\": 47.181, \"fertility\": 7.0}, {\"year\": 2005, \"country\": \"Iran\", \"cluster\": 5, \"pop\": 68017860, \"life_expect\": 70.964, \"fertility\": 2.04}, {\"year\": 1955, \"country\": \"Iraq\", \"cluster\": 5, \"pop\": 5903253, \"life_expect\": 48.437, \"fertility\": 7.3}, {\"year\": 2005, \"country\": \"Iraq\", \"cluster\": 5, \"pop\": 26074906, \"life_expect\": 59.545, \"fertility\": 4.264}, {\"year\": 1955, \"country\": \"Ireland\", \"cluster\": 1, \"pop\": 2916133, \"life_expect\": 68.9, \"fertility\": 3.68}, {\"year\": 2005, \"country\": \"Ireland\", \"cluster\": 1, \"pop\": 4015676, \"life_expect\": 78.885, \"fertility\": 1.964}, {\"year\": 1955, \"country\": \"Israel\", \"cluster\": 5, \"pop\": 1772032, \"life_expect\": 67.84, \"fertility\": 3.893}, {\"year\": 2005, \"country\": \"Israel\", \"cluster\": 5, \"pop\": 6276883, \"life_expect\": 80.745, \"fertility\": 2.75}, {\"year\": 1955, \"country\": \"Italy\", \"cluster\": 1, \"pop\": 48633000, \"life_expect\": 67.81, \"fertility\": 2.35}, {\"year\": 2005, \"country\": \"Italy\", \"cluster\": 1, \"pop\": 58103033, \"life_expect\": 80.546, \"fertility\": 1.379}, {\"year\": 1955, \"country\": \"Jamaica\", \"cluster\": 3, \"pop\": 1488805, \"life_expect\": 62.61, \"fertility\": 5.08}, {\"year\": 2005, \"country\": \"Jamaica\", \"cluster\": 3, \"pop\": 2735520, \"life_expect\": 72.567, \"fertility\": 2.4289}, {\"year\": 1955, \"country\": \"Japan\", \"cluster\": 4, \"pop\": 89815060, \"life_expect\": 65.5, \"fertility\": 2.08}, {\"year\": 2005, \"country\": \"Japan\", \"cluster\": 4, \"pop\": 127417244, \"life_expect\": 82.603, \"fertility\": 1.27}, {\"year\": 1955, \"country\": \"Kenya\", \"cluster\": 2, \"pop\": 7033999, \"life_expect\": 44.686, \"fertility\": 7.816}, {\"year\": 2005, \"country\": \"Kenya\", \"cluster\": 2, \"pop\": 33829590, \"life_expect\": 54.11, \"fertility\": 4.959}, {\"year\": 1955, \"country\": \"South Korea\", \"cluster\": 4, \"pop\": 8839427, \"life_expect\": 54.081, \"fertility\": 3.8}, {\"year\": 2005, \"country\": \"South Korea\", \"cluster\": 4, \"pop\": 22912177, \"life_expect\": 67.297, \"fertility\": 1.85}, {\"year\": 1955, \"country\": \"North Korea\", \"cluster\": 4, \"pop\": 21551834, \"life_expect\": 52.681, \"fertility\": 6.332}, {\"year\": 2005, \"country\": \"North Korea\", \"cluster\": 4, \"pop\": 48640671, \"life_expect\": 78.623, \"fertility\": 1.21}, {\"year\": 1955, \"country\": \"Lebanon\", \"cluster\": 5, \"pop\": 1560985, \"life_expect\": 59.489, \"fertility\": 5.72}, {\"year\": 2005, \"country\": \"Lebanon\", \"cluster\": 5, \"pop\": 3826018, \"life_expect\": 71.993, \"fertility\": 2.209}, {\"year\": 1955, \"country\": \"Mexico\", \"cluster\": 3, \"pop\": 32929914, \"life_expect\": 55.19, \"fertility\": 6.8}, {\"year\": 2005, \"country\": \"Mexico\", \"cluster\": 3, \"pop\": 106202903, \"life_expect\": 76.195, \"fertility\": 2.211}, {\"year\": 1955, \"country\": \"Netherlands\", \"cluster\": 1, \"pop\": 10750842, \"life_expect\": 72.99, \"fertility\": 3.095}, {\"year\": 2005, \"country\": \"Netherlands\", \"cluster\": 1, \"pop\": 16407491, \"life_expect\": 79.762, \"fertility\": 1.721}, {\"year\": 1955, \"country\": \"New Zealand\", \"cluster\": 4, \"pop\": 2136168, \"life_expect\": 70.26, \"fertility\": 4.07}, {\"year\": 2005, \"country\": \"New Zealand\", \"cluster\": 4, \"pop\": 4035461, \"life_expect\": 80.204, \"fertility\": 1.994}, {\"year\": 1955, \"country\": \"Nigeria\", \"cluster\": 2, \"pop\": 35458978, \"life_expect\": 37.802, \"fertility\": 6.9}, {\"year\": 2005, \"country\": \"Nigeria\", \"cluster\": 2, \"pop\": 128765768, \"life_expect\": 46.859, \"fertility\": 5.322}, {\"year\": 1955, \"country\": \"Norway\", \"cluster\": 1, \"pop\": 3427409, \"life_expect\": 73.44, \"fertility\": 2.8369999999999997}, {\"year\": 2005, \"country\": \"Norway\", \"cluster\": 1, \"pop\": 4593041, \"life_expect\": 80.196, \"fertility\": 1.8479999999999999}, {\"year\": 1955, \"country\": \"Pakistan\", \"cluster\": 0, \"pop\": 44434445, \"life_expect\": 45.557, \"fertility\": 6.6}, {\"year\": 2005, \"country\": \"Pakistan\", \"cluster\": 0, \"pop\": 162419946, \"life_expect\": 65.483, \"fertility\": 3.5211}, {\"year\": 1955, \"country\": \"Peru\", \"cluster\": 3, \"pop\": 8671500, \"life_expect\": 46.263, \"fertility\": 6.853}, {\"year\": 2005, \"country\": \"Peru\", \"cluster\": 3, \"pop\": 27925628, \"life_expect\": 71.421, \"fertility\": 2.5065}, {\"year\": 1955, \"country\": \"Philippines\", \"cluster\": 4, \"pop\": 24553055, \"life_expect\": 51.334, \"fertility\": 7.13}, {\"year\": 2005, \"country\": \"Philippines\", \"cluster\": 4, \"pop\": 87857473, \"life_expect\": 71.688, \"fertility\": 3.2327}, {\"year\": 1955, \"country\": \"Poland\", \"cluster\": 1, \"pop\": 27220668, \"life_expect\": 65.77, \"fertility\": 3.29}, {\"year\": 2005, \"country\": \"Poland\", \"cluster\": 1, \"pop\": 38557984, \"life_expect\": 75.563, \"fertility\": 1.227}, {\"year\": 1955, \"country\": \"Portugal\", \"cluster\": 1, \"pop\": 8692600, \"life_expect\": 61.51, \"fertility\": 3.03}, {\"year\": 2005, \"country\": \"Portugal\", \"cluster\": 1, \"pop\": 10566212, \"life_expect\": 78.098, \"fertility\": 1.455}, {\"year\": 1955, \"country\": \"Rwanda\", \"cluster\": 2, \"pop\": 2698272, \"life_expect\": 41.5, \"fertility\": 8.0}, {\"year\": 2005, \"country\": \"Rwanda\", \"cluster\": 2, \"pop\": 8440820, \"life_expect\": 46.242, \"fertility\": 5.9169}, {\"year\": 1955, \"country\": \"Saudi Arabia\", \"cluster\": 5, \"pop\": 4243218, \"life_expect\": 42.868, \"fertility\": 7.175}, {\"year\": 2005, \"country\": \"Saudi Arabia\", \"cluster\": 5, \"pop\": 26417599, \"life_expect\": 72.777, \"fertility\": 3.352}, {\"year\": 1955, \"country\": \"South Africa\", \"cluster\": 2, \"pop\": 15368551, \"life_expect\": 47.985, \"fertility\": 6.5}, {\"year\": 2005, \"country\": \"South Africa\", \"cluster\": 2, \"pop\": 44344136, \"life_expect\": 49.339, \"fertility\": 2.637}, {\"year\": 1955, \"country\": \"Spain\", \"cluster\": 1, \"pop\": 29318745, \"life_expect\": 66.66, \"fertility\": 2.75}, {\"year\": 2005, \"country\": \"Spain\", \"cluster\": 1, \"pop\": 40341462, \"life_expect\": 80.941, \"fertility\": 1.409}, {\"year\": 1955, \"country\": \"Switzerland\", \"cluster\": 1, \"pop\": 4980000, \"life_expect\": 70.56, \"fertility\": 2.34}, {\"year\": 2005, \"country\": \"Switzerland\", \"cluster\": 1, \"pop\": 7489370, \"life_expect\": 81.701, \"fertility\": 1.42}, {\"year\": 1955, \"country\": \"Turkey\", \"cluster\": 1, \"pop\": 24144571, \"life_expect\": 48.079, \"fertility\": 6.6}, {\"year\": 2005, \"country\": \"Turkey\", \"cluster\": 1, \"pop\": 69660559, \"life_expect\": 71.777, \"fertility\": 2.143}, {\"year\": 1955, \"country\": \"United Kingdom\", \"cluster\": 1, \"pop\": 50946000, \"life_expect\": 70.42, \"fertility\": 2.49}, {\"year\": 2005, \"country\": \"United Kingdom\", \"cluster\": 1, \"pop\": 60441457, \"life_expect\": 79.425, \"fertility\": 1.815}, {\"year\": 1955, \"country\": \"United States\", \"cluster\": 3, \"pop\": 165931000, \"life_expect\": 69.49, \"fertility\": 3.706}, {\"year\": 2005, \"country\": \"United States\", \"cluster\": 3, \"pop\": 295734134, \"life_expect\": 78.242, \"fertility\": 2.054}, {\"year\": 1955, \"country\": \"Venezuela\", \"cluster\": 3, \"pop\": 6170497, \"life_expect\": 57.907, \"fertility\": 6.4585}, {\"year\": 2005, \"country\": \"Venezuela\", \"cluster\": 3, \"pop\": 25375281, \"life_expect\": 73.747, \"fertility\": 2.547}]}}, {\"mode\": \"vega-lite\"});\n",
       "</script>"
      ],
      "text/plain": [
       "alt.Chart(...)"
      ]
     },
     "execution_count": 33,
     "metadata": {},
     "output_type": "execute_result"
    }
   ],
   "source": [
    "dataTime = data.loc[(data['year'] == 1955) | (data['year'] == 2005)]\n",
    "\n",
    "alt.Chart(dataTime).mark_line(opacity=0.5).encode(\n",
    "    alt.X('year:O'),\n",
    "    alt.Y('pop:Q'),\n",
    "    alt.Color('country:N', legend=None),\n",
    "    alt.Tooltip('country:N')\n",
    ").properties(\n",
    "    width={\"step\": 50} # ajusta o parâmetro step\n",
    ")"
   ]
  },
  {
   "cell_type": "markdown",
   "metadata": {
    "colab_type": "text",
    "id": "LLo0NmuncGAa"
   },
   "source": [
    "### 2.4.7 Marcas de Área\n",
    "\n",
    "O tipo de marca `area` combina aspectos de marcas `line` e `bar`: ele visualiza conexões (inclinações) entre pontos de dados, mas também mostra uma região preenchida, com uma aresta assumindo como padrão uma linha de base de valor zero."
   ]
  },
  {
   "cell_type": "markdown",
   "metadata": {
    "colab_type": "text",
    "id": "mYtoHUPuPpxW"
   },
   "source": [
    "O gráfico abaixo é um gráfico de área da população ao longo do tempo apenas para os Estados Unidos:"
   ]
  },
  {
   "cell_type": "code",
   "execution_count": 34,
   "metadata": {
    "colab": {
     "base_uri": "https://localhost:8080/",
     "height": 385
    },
    "colab_type": "code",
    "id": "cXdOREmBHiaH",
    "outputId": "37cd899d-2ad1-42ea-fbe0-12e591a28326"
   },
   "outputs": [
    {
     "data": {
      "text/html": [
       "\n",
       "<div id=\"altair-viz-2ef819792a4d4d3a9e01e2cd379cfe27\"></div>\n",
       "<script type=\"text/javascript\">\n",
       "  (function(spec, embedOpt){\n",
       "    let outputDiv = document.currentScript.previousElementSibling;\n",
       "    if (outputDiv.id !== \"altair-viz-2ef819792a4d4d3a9e01e2cd379cfe27\") {\n",
       "      outputDiv = document.getElementById(\"altair-viz-2ef819792a4d4d3a9e01e2cd379cfe27\");\n",
       "    }\n",
       "    const paths = {\n",
       "      \"vega\": \"https://cdn.jsdelivr.net/npm//vega@5?noext\",\n",
       "      \"vega-lib\": \"https://cdn.jsdelivr.net/npm//vega-lib?noext\",\n",
       "      \"vega-lite\": \"https://cdn.jsdelivr.net/npm//vega-lite@4.8.1?noext\",\n",
       "      \"vega-embed\": \"https://cdn.jsdelivr.net/npm//vega-embed@6?noext\",\n",
       "    };\n",
       "\n",
       "    function loadScript(lib) {\n",
       "      return new Promise(function(resolve, reject) {\n",
       "        var s = document.createElement('script');\n",
       "        s.src = paths[lib];\n",
       "        s.async = true;\n",
       "        s.onload = () => resolve(paths[lib]);\n",
       "        s.onerror = () => reject(`Error loading script: ${paths[lib]}`);\n",
       "        document.getElementsByTagName(\"head\")[0].appendChild(s);\n",
       "      });\n",
       "    }\n",
       "\n",
       "    function showError(err) {\n",
       "      outputDiv.innerHTML = `<div class=\"error\" style=\"color:red;\">${err}</div>`;\n",
       "      throw err;\n",
       "    }\n",
       "\n",
       "    function displayChart(vegaEmbed) {\n",
       "      vegaEmbed(outputDiv, spec, embedOpt)\n",
       "        .catch(err => showError(`Javascript Error: ${err.message}<br>This usually means there's a typo in your chart specification. See the javascript console for the full traceback.`));\n",
       "    }\n",
       "\n",
       "    if(typeof define === \"function\" && define.amd) {\n",
       "      requirejs.config({paths});\n",
       "      require([\"vega-embed\"], displayChart, err => showError(`Error loading script: ${err.message}`));\n",
       "    } else if (typeof vegaEmbed === \"function\") {\n",
       "      displayChart(vegaEmbed);\n",
       "    } else {\n",
       "      loadScript(\"vega\")\n",
       "        .then(() => loadScript(\"vega-lite\"))\n",
       "        .then(() => loadScript(\"vega-embed\"))\n",
       "        .catch(showError)\n",
       "        .then(() => displayChart(vegaEmbed));\n",
       "    }\n",
       "  })({\"config\": {\"view\": {\"continuousWidth\": 400, \"continuousHeight\": 300}}, \"data\": {\"name\": \"data-5ec75749a8b91a020fd2730b61b83888\"}, \"mark\": \"area\", \"encoding\": {\"x\": {\"type\": \"ordinal\", \"field\": \"year\"}, \"y\": {\"type\": \"quantitative\", \"field\": \"fertility\"}}, \"$schema\": \"https://vega.github.io/schema/vega-lite/v4.8.1.json\", \"datasets\": {\"data-5ec75749a8b91a020fd2730b61b83888\": [{\"year\": 1955, \"country\": \"United States\", \"cluster\": 3, \"pop\": 165931000, \"life_expect\": 69.49, \"fertility\": 3.706}, {\"year\": 1960, \"country\": \"United States\", \"cluster\": 3, \"pop\": 180671000, \"life_expect\": 70.21, \"fertility\": 3.314}, {\"year\": 1965, \"country\": \"United States\", \"cluster\": 3, \"pop\": 194303000, \"life_expect\": 70.76, \"fertility\": 2.545}, {\"year\": 1970, \"country\": \"United States\", \"cluster\": 3, \"pop\": 205052000, \"life_expect\": 71.34, \"fertility\": 2.016}, {\"year\": 1975, \"country\": \"United States\", \"cluster\": 3, \"pop\": 215973000, \"life_expect\": 73.38, \"fertility\": 1.788}, {\"year\": 1980, \"country\": \"United States\", \"cluster\": 3, \"pop\": 227726463, \"life_expect\": 74.65, \"fertility\": 1.8250000000000002}, {\"year\": 1985, \"country\": \"United States\", \"cluster\": 3, \"pop\": 238466283, \"life_expect\": 75.02, \"fertility\": 1.924}, {\"year\": 1990, \"country\": \"United States\", \"cluster\": 3, \"pop\": 250131894, \"life_expect\": 76.09, \"fertility\": 2.025}, {\"year\": 1995, \"country\": \"United States\", \"cluster\": 3, \"pop\": 266557091, \"life_expect\": 76.81, \"fertility\": 1.994}, {\"year\": 2000, \"country\": \"United States\", \"cluster\": 3, \"pop\": 282338631, \"life_expect\": 77.31, \"fertility\": 2.038}, {\"year\": 2005, \"country\": \"United States\", \"cluster\": 3, \"pop\": 295734134, \"life_expect\": 78.242, \"fertility\": 2.054}]}}, {\"mode\": \"vega-lite\"});\n",
       "</script>"
      ],
      "text/plain": [
       "alt.Chart(...)"
      ]
     },
     "execution_count": 34,
     "metadata": {},
     "output_type": "execute_result"
    }
   ],
   "source": [
    "dataUS = data.loc[data['country'] == 'United States']\n",
    "\n",
    "alt.Chart(dataUS).mark_area().encode(\n",
    "    alt.X('year:O'),\n",
    "    alt.Y('fertility:Q')\n",
    ")"
   ]
  },
  {
   "cell_type": "markdown",
   "metadata": {
    "colab_type": "text",
    "id": "aDPZ6bWEPv2_"
   },
   "source": [
    "Semelhante as marcas `line`, as marcas `area` suportam o parametro `interpolate`."
   ]
  },
  {
   "cell_type": "code",
   "execution_count": 35,
   "metadata": {
    "colab": {
     "base_uri": "https://localhost:8080/",
     "height": 385
    },
    "colab_type": "code",
    "id": "-ZpfjqMxJvXF",
    "outputId": "eba5baab-44be-46ac-c9ae-0ad3b094573a"
   },
   "outputs": [
    {
     "data": {
      "text/html": [
       "\n",
       "<div id=\"altair-viz-1c5534c27fee4abe8ac50c9b485d1033\"></div>\n",
       "<script type=\"text/javascript\">\n",
       "  (function(spec, embedOpt){\n",
       "    let outputDiv = document.currentScript.previousElementSibling;\n",
       "    if (outputDiv.id !== \"altair-viz-1c5534c27fee4abe8ac50c9b485d1033\") {\n",
       "      outputDiv = document.getElementById(\"altair-viz-1c5534c27fee4abe8ac50c9b485d1033\");\n",
       "    }\n",
       "    const paths = {\n",
       "      \"vega\": \"https://cdn.jsdelivr.net/npm//vega@5?noext\",\n",
       "      \"vega-lib\": \"https://cdn.jsdelivr.net/npm//vega-lib?noext\",\n",
       "      \"vega-lite\": \"https://cdn.jsdelivr.net/npm//vega-lite@4.8.1?noext\",\n",
       "      \"vega-embed\": \"https://cdn.jsdelivr.net/npm//vega-embed@6?noext\",\n",
       "    };\n",
       "\n",
       "    function loadScript(lib) {\n",
       "      return new Promise(function(resolve, reject) {\n",
       "        var s = document.createElement('script');\n",
       "        s.src = paths[lib];\n",
       "        s.async = true;\n",
       "        s.onload = () => resolve(paths[lib]);\n",
       "        s.onerror = () => reject(`Error loading script: ${paths[lib]}`);\n",
       "        document.getElementsByTagName(\"head\")[0].appendChild(s);\n",
       "      });\n",
       "    }\n",
       "\n",
       "    function showError(err) {\n",
       "      outputDiv.innerHTML = `<div class=\"error\" style=\"color:red;\">${err}</div>`;\n",
       "      throw err;\n",
       "    }\n",
       "\n",
       "    function displayChart(vegaEmbed) {\n",
       "      vegaEmbed(outputDiv, spec, embedOpt)\n",
       "        .catch(err => showError(`Javascript Error: ${err.message}<br>This usually means there's a typo in your chart specification. See the javascript console for the full traceback.`));\n",
       "    }\n",
       "\n",
       "    if(typeof define === \"function\" && define.amd) {\n",
       "      requirejs.config({paths});\n",
       "      require([\"vega-embed\"], displayChart, err => showError(`Error loading script: ${err.message}`));\n",
       "    } else if (typeof vegaEmbed === \"function\") {\n",
       "      displayChart(vegaEmbed);\n",
       "    } else {\n",
       "      loadScript(\"vega\")\n",
       "        .then(() => loadScript(\"vega-lite\"))\n",
       "        .then(() => loadScript(\"vega-embed\"))\n",
       "        .catch(showError)\n",
       "        .then(() => displayChart(vegaEmbed));\n",
       "    }\n",
       "  })({\"config\": {\"view\": {\"continuousWidth\": 400, \"continuousHeight\": 300}}, \"data\": {\"name\": \"data-5ec75749a8b91a020fd2730b61b83888\"}, \"mark\": {\"type\": \"area\", \"interpolate\": \"monotone\"}, \"encoding\": {\"x\": {\"type\": \"ordinal\", \"field\": \"year\"}, \"y\": {\"type\": \"quantitative\", \"field\": \"fertility\"}}, \"$schema\": \"https://vega.github.io/schema/vega-lite/v4.8.1.json\", \"datasets\": {\"data-5ec75749a8b91a020fd2730b61b83888\": [{\"year\": 1955, \"country\": \"United States\", \"cluster\": 3, \"pop\": 165931000, \"life_expect\": 69.49, \"fertility\": 3.706}, {\"year\": 1960, \"country\": \"United States\", \"cluster\": 3, \"pop\": 180671000, \"life_expect\": 70.21, \"fertility\": 3.314}, {\"year\": 1965, \"country\": \"United States\", \"cluster\": 3, \"pop\": 194303000, \"life_expect\": 70.76, \"fertility\": 2.545}, {\"year\": 1970, \"country\": \"United States\", \"cluster\": 3, \"pop\": 205052000, \"life_expect\": 71.34, \"fertility\": 2.016}, {\"year\": 1975, \"country\": \"United States\", \"cluster\": 3, \"pop\": 215973000, \"life_expect\": 73.38, \"fertility\": 1.788}, {\"year\": 1980, \"country\": \"United States\", \"cluster\": 3, \"pop\": 227726463, \"life_expect\": 74.65, \"fertility\": 1.8250000000000002}, {\"year\": 1985, \"country\": \"United States\", \"cluster\": 3, \"pop\": 238466283, \"life_expect\": 75.02, \"fertility\": 1.924}, {\"year\": 1990, \"country\": \"United States\", \"cluster\": 3, \"pop\": 250131894, \"life_expect\": 76.09, \"fertility\": 2.025}, {\"year\": 1995, \"country\": \"United States\", \"cluster\": 3, \"pop\": 266557091, \"life_expect\": 76.81, \"fertility\": 1.994}, {\"year\": 2000, \"country\": \"United States\", \"cluster\": 3, \"pop\": 282338631, \"life_expect\": 77.31, \"fertility\": 2.038}, {\"year\": 2005, \"country\": \"United States\", \"cluster\": 3, \"pop\": 295734134, \"life_expect\": 78.242, \"fertility\": 2.054}]}}, {\"mode\": \"vega-lite\"});\n",
       "</script>"
      ],
      "text/plain": [
       "alt.Chart(...)"
      ]
     },
     "execution_count": 35,
     "metadata": {},
     "output_type": "execute_result"
    }
   ],
   "source": [
    "alt.Chart(dataUS).mark_area(interpolate='monotone').encode(\n",
    "    alt.X('year:O'),\n",
    "    alt.Y('fertility:Q')\n",
    ")"
   ]
  },
  {
   "cell_type": "markdown",
   "metadata": {
    "colab_type": "text",
    "id": "_YolZaDbP7jh"
   },
   "source": [
    "Semelhante às marcas `bar`, as marcas `area` também suportam empilhamento. Aqui, criamos um novo dataframe com dados para os três países da América do Norte, então os plotamos usando a marca `area` e um canal de codificação `color` para empilhar por país."
   ]
  },
  {
   "cell_type": "code",
   "execution_count": 36,
   "metadata": {
    "colab": {
     "base_uri": "https://localhost:8080/",
     "height": 385
    },
    "colab_type": "code",
    "id": "tYOS0Il_H8h3",
    "outputId": "70e210aa-4771-4ed9-e5a3-0af587d03c60"
   },
   "outputs": [
    {
     "data": {
      "text/html": [
       "\n",
       "<div id=\"altair-viz-459a975c45e341bb924541fa9ac60e97\"></div>\n",
       "<script type=\"text/javascript\">\n",
       "  (function(spec, embedOpt){\n",
       "    let outputDiv = document.currentScript.previousElementSibling;\n",
       "    if (outputDiv.id !== \"altair-viz-459a975c45e341bb924541fa9ac60e97\") {\n",
       "      outputDiv = document.getElementById(\"altair-viz-459a975c45e341bb924541fa9ac60e97\");\n",
       "    }\n",
       "    const paths = {\n",
       "      \"vega\": \"https://cdn.jsdelivr.net/npm//vega@5?noext\",\n",
       "      \"vega-lib\": \"https://cdn.jsdelivr.net/npm//vega-lib?noext\",\n",
       "      \"vega-lite\": \"https://cdn.jsdelivr.net/npm//vega-lite@4.8.1?noext\",\n",
       "      \"vega-embed\": \"https://cdn.jsdelivr.net/npm//vega-embed@6?noext\",\n",
       "    };\n",
       "\n",
       "    function loadScript(lib) {\n",
       "      return new Promise(function(resolve, reject) {\n",
       "        var s = document.createElement('script');\n",
       "        s.src = paths[lib];\n",
       "        s.async = true;\n",
       "        s.onload = () => resolve(paths[lib]);\n",
       "        s.onerror = () => reject(`Error loading script: ${paths[lib]}`);\n",
       "        document.getElementsByTagName(\"head\")[0].appendChild(s);\n",
       "      });\n",
       "    }\n",
       "\n",
       "    function showError(err) {\n",
       "      outputDiv.innerHTML = `<div class=\"error\" style=\"color:red;\">${err}</div>`;\n",
       "      throw err;\n",
       "    }\n",
       "\n",
       "    function displayChart(vegaEmbed) {\n",
       "      vegaEmbed(outputDiv, spec, embedOpt)\n",
       "        .catch(err => showError(`Javascript Error: ${err.message}<br>This usually means there's a typo in your chart specification. See the javascript console for the full traceback.`));\n",
       "    }\n",
       "\n",
       "    if(typeof define === \"function\" && define.amd) {\n",
       "      requirejs.config({paths});\n",
       "      require([\"vega-embed\"], displayChart, err => showError(`Error loading script: ${err.message}`));\n",
       "    } else if (typeof vegaEmbed === \"function\") {\n",
       "      displayChart(vegaEmbed);\n",
       "    } else {\n",
       "      loadScript(\"vega\")\n",
       "        .then(() => loadScript(\"vega-lite\"))\n",
       "        .then(() => loadScript(\"vega-embed\"))\n",
       "        .catch(showError)\n",
       "        .then(() => displayChart(vegaEmbed));\n",
       "    }\n",
       "  })({\"config\": {\"view\": {\"continuousWidth\": 400, \"continuousHeight\": 300}}, \"data\": {\"name\": \"data-90247f35efb014c7706cfdd66a0e9a4d\"}, \"mark\": \"area\", \"encoding\": {\"color\": {\"type\": \"nominal\", \"field\": \"country\"}, \"x\": {\"type\": \"ordinal\", \"field\": \"year\"}, \"y\": {\"type\": \"quantitative\", \"field\": \"pop\"}}, \"$schema\": \"https://vega.github.io/schema/vega-lite/v4.8.1.json\", \"datasets\": {\"data-90247f35efb014c7706cfdd66a0e9a4d\": [{\"year\": 1955, \"country\": \"Canada\", \"cluster\": 3, \"pop\": 16050356, \"life_expect\": 69.96, \"fertility\": 3.882}, {\"year\": 1960, \"country\": \"Canada\", \"cluster\": 3, \"pop\": 18266765, \"life_expect\": 71.3, \"fertility\": 3.675}, {\"year\": 1965, \"country\": \"Canada\", \"cluster\": 3, \"pop\": 20071104, \"life_expect\": 72.13, \"fertility\": 2.61}, {\"year\": 1970, \"country\": \"Canada\", \"cluster\": 3, \"pop\": 21749986, \"life_expect\": 72.88, \"fertility\": 1.976}, {\"year\": 1975, \"country\": \"Canada\", \"cluster\": 3, \"pop\": 23209200, \"life_expect\": 74.21, \"fertility\": 1.734}, {\"year\": 1980, \"country\": \"Canada\", \"cluster\": 3, \"pop\": 24593300, \"life_expect\": 75.76, \"fertility\": 1.634}, {\"year\": 1985, \"country\": \"Canada\", \"cluster\": 3, \"pop\": 25941600, \"life_expect\": 76.86, \"fertility\": 1.616}, {\"year\": 1990, \"country\": \"Canada\", \"cluster\": 3, \"pop\": 27790600, \"life_expect\": 77.95, \"fertility\": 1.694}, {\"year\": 1995, \"country\": \"Canada\", \"cluster\": 3, \"pop\": 29619002, \"life_expect\": 78.61, \"fertility\": 1.564}, {\"year\": 2000, \"country\": \"Canada\", \"cluster\": 3, \"pop\": 31278097, \"life_expect\": 79.77, \"fertility\": 1.522}, {\"year\": 2005, \"country\": \"Canada\", \"cluster\": 3, \"pop\": 32805041, \"life_expect\": 80.653, \"fertility\": 1.5270000000000001}, {\"year\": 1955, \"country\": \"Mexico\", \"cluster\": 3, \"pop\": 32929914, \"life_expect\": 55.19, \"fertility\": 6.8}, {\"year\": 1960, \"country\": \"Mexico\", \"cluster\": 3, \"pop\": 38578505, \"life_expect\": 58.299, \"fertility\": 6.7495}, {\"year\": 1965, \"country\": \"Mexico\", \"cluster\": 3, \"pop\": 45142399, \"life_expect\": 60.11, \"fertility\": 6.7495}, {\"year\": 1970, \"country\": \"Mexico\", \"cluster\": 3, \"pop\": 52775158, \"life_expect\": 62.361, \"fertility\": 6.5}, {\"year\": 1975, \"country\": \"Mexico\", \"cluster\": 3, \"pop\": 60678045, \"life_expect\": 65.032, \"fertility\": 5.2505}, {\"year\": 1980, \"country\": \"Mexico\", \"cluster\": 3, \"pop\": 68347479, \"life_expect\": 67.405, \"fertility\": 4.25}, {\"year\": 1985, \"country\": \"Mexico\", \"cluster\": 3, \"pop\": 76767225, \"life_expect\": 69.498, \"fertility\": 3.6295}, {\"year\": 1990, \"country\": \"Mexico\", \"cluster\": 3, \"pop\": 84913652, \"life_expect\": 71.455, \"fertility\": 3.1905}, {\"year\": 1995, \"country\": \"Mexico\", \"cluster\": 3, \"pop\": 92880353, \"life_expect\": 73.67, \"fertility\": 2.6705}, {\"year\": 2000, \"country\": \"Mexico\", \"cluster\": 3, \"pop\": 99926620, \"life_expect\": 74.902, \"fertility\": 2.4005}, {\"year\": 2005, \"country\": \"Mexico\", \"cluster\": 3, \"pop\": 106202903, \"life_expect\": 76.195, \"fertility\": 2.211}, {\"year\": 1955, \"country\": \"United States\", \"cluster\": 3, \"pop\": 165931000, \"life_expect\": 69.49, \"fertility\": 3.706}, {\"year\": 1960, \"country\": \"United States\", \"cluster\": 3, \"pop\": 180671000, \"life_expect\": 70.21, \"fertility\": 3.314}, {\"year\": 1965, \"country\": \"United States\", \"cluster\": 3, \"pop\": 194303000, \"life_expect\": 70.76, \"fertility\": 2.545}, {\"year\": 1970, \"country\": \"United States\", \"cluster\": 3, \"pop\": 205052000, \"life_expect\": 71.34, \"fertility\": 2.016}, {\"year\": 1975, \"country\": \"United States\", \"cluster\": 3, \"pop\": 215973000, \"life_expect\": 73.38, \"fertility\": 1.788}, {\"year\": 1980, \"country\": \"United States\", \"cluster\": 3, \"pop\": 227726463, \"life_expect\": 74.65, \"fertility\": 1.8250000000000002}, {\"year\": 1985, \"country\": \"United States\", \"cluster\": 3, \"pop\": 238466283, \"life_expect\": 75.02, \"fertility\": 1.924}, {\"year\": 1990, \"country\": \"United States\", \"cluster\": 3, \"pop\": 250131894, \"life_expect\": 76.09, \"fertility\": 2.025}, {\"year\": 1995, \"country\": \"United States\", \"cluster\": 3, \"pop\": 266557091, \"life_expect\": 76.81, \"fertility\": 1.994}, {\"year\": 2000, \"country\": \"United States\", \"cluster\": 3, \"pop\": 282338631, \"life_expect\": 77.31, \"fertility\": 2.038}, {\"year\": 2005, \"country\": \"United States\", \"cluster\": 3, \"pop\": 295734134, \"life_expect\": 78.242, \"fertility\": 2.054}]}}, {\"mode\": \"vega-lite\"});\n",
       "</script>"
      ],
      "text/plain": [
       "alt.Chart(...)"
      ]
     },
     "execution_count": 36,
     "metadata": {},
     "output_type": "execute_result"
    }
   ],
   "source": [
    "dataNA = data.loc[\n",
    "    (data['country'] == 'United States') |\n",
    "    (data['country'] == 'Canada') |\n",
    "    (data['country'] == 'Mexico')\n",
    "]\n",
    "\n",
    "alt.Chart(dataNA).mark_area().encode(\n",
    "    alt.X('year:O'),\n",
    "    alt.Y('pop:Q'),\n",
    "    alt.Color('country:N')\n",
    ")"
   ]
  },
  {
   "cell_type": "markdown",
   "metadata": {
    "colab_type": "text",
    "id": "oVinPfTZpNtY"
   },
   "source": [
    "Por padrão, o empilhamento é realizado em relação a uma linha de base zero. No entanto, outras opções `stack` estão disponíveis:\n",
    "\n",
    "* `center` - empilhar em relação a uma linha de base no centro do gráfico, criando uma visualização de *gráfico de fluxo*, e\n",
    "* `normalize` - para normalizar os dados somados em cada ponto de empilhamento para 100%, permitindo comparações percentuais.\n",
    "\n",
    "Abaixo, adaptamos o gráfico definindo `y` o atributo de codificação `stack` para `center`. O que acontece se você defini-lo como `normalize`?"
   ]
  },
  {
   "cell_type": "code",
   "execution_count": 37,
   "metadata": {
    "colab": {
     "base_uri": "https://localhost:8080/",
     "height": 385
    },
    "colab_type": "code",
    "id": "6SQpyJzqpB5G",
    "outputId": "3a7cb75a-3acf-4b0e-d0e8-cdc7c85fd5ee"
   },
   "outputs": [
    {
     "data": {
      "text/html": [
       "\n",
       "<div id=\"altair-viz-dd3276700f9447e4afa7c63df977e5c1\"></div>\n",
       "<script type=\"text/javascript\">\n",
       "  (function(spec, embedOpt){\n",
       "    let outputDiv = document.currentScript.previousElementSibling;\n",
       "    if (outputDiv.id !== \"altair-viz-dd3276700f9447e4afa7c63df977e5c1\") {\n",
       "      outputDiv = document.getElementById(\"altair-viz-dd3276700f9447e4afa7c63df977e5c1\");\n",
       "    }\n",
       "    const paths = {\n",
       "      \"vega\": \"https://cdn.jsdelivr.net/npm//vega@5?noext\",\n",
       "      \"vega-lib\": \"https://cdn.jsdelivr.net/npm//vega-lib?noext\",\n",
       "      \"vega-lite\": \"https://cdn.jsdelivr.net/npm//vega-lite@4.8.1?noext\",\n",
       "      \"vega-embed\": \"https://cdn.jsdelivr.net/npm//vega-embed@6?noext\",\n",
       "    };\n",
       "\n",
       "    function loadScript(lib) {\n",
       "      return new Promise(function(resolve, reject) {\n",
       "        var s = document.createElement('script');\n",
       "        s.src = paths[lib];\n",
       "        s.async = true;\n",
       "        s.onload = () => resolve(paths[lib]);\n",
       "        s.onerror = () => reject(`Error loading script: ${paths[lib]}`);\n",
       "        document.getElementsByTagName(\"head\")[0].appendChild(s);\n",
       "      });\n",
       "    }\n",
       "\n",
       "    function showError(err) {\n",
       "      outputDiv.innerHTML = `<div class=\"error\" style=\"color:red;\">${err}</div>`;\n",
       "      throw err;\n",
       "    }\n",
       "\n",
       "    function displayChart(vegaEmbed) {\n",
       "      vegaEmbed(outputDiv, spec, embedOpt)\n",
       "        .catch(err => showError(`Javascript Error: ${err.message}<br>This usually means there's a typo in your chart specification. See the javascript console for the full traceback.`));\n",
       "    }\n",
       "\n",
       "    if(typeof define === \"function\" && define.amd) {\n",
       "      requirejs.config({paths});\n",
       "      require([\"vega-embed\"], displayChart, err => showError(`Error loading script: ${err.message}`));\n",
       "    } else if (typeof vegaEmbed === \"function\") {\n",
       "      displayChart(vegaEmbed);\n",
       "    } else {\n",
       "      loadScript(\"vega\")\n",
       "        .then(() => loadScript(\"vega-lite\"))\n",
       "        .then(() => loadScript(\"vega-embed\"))\n",
       "        .catch(showError)\n",
       "        .then(() => displayChart(vegaEmbed));\n",
       "    }\n",
       "  })({\"config\": {\"view\": {\"continuousWidth\": 400, \"continuousHeight\": 300}}, \"data\": {\"name\": \"data-90247f35efb014c7706cfdd66a0e9a4d\"}, \"mark\": \"area\", \"encoding\": {\"color\": {\"type\": \"nominal\", \"field\": \"country\"}, \"x\": {\"type\": \"ordinal\", \"field\": \"year\"}, \"y\": {\"type\": \"quantitative\", \"field\": \"pop\", \"stack\": \"center\"}}, \"$schema\": \"https://vega.github.io/schema/vega-lite/v4.8.1.json\", \"datasets\": {\"data-90247f35efb014c7706cfdd66a0e9a4d\": [{\"year\": 1955, \"country\": \"Canada\", \"cluster\": 3, \"pop\": 16050356, \"life_expect\": 69.96, \"fertility\": 3.882}, {\"year\": 1960, \"country\": \"Canada\", \"cluster\": 3, \"pop\": 18266765, \"life_expect\": 71.3, \"fertility\": 3.675}, {\"year\": 1965, \"country\": \"Canada\", \"cluster\": 3, \"pop\": 20071104, \"life_expect\": 72.13, \"fertility\": 2.61}, {\"year\": 1970, \"country\": \"Canada\", \"cluster\": 3, \"pop\": 21749986, \"life_expect\": 72.88, \"fertility\": 1.976}, {\"year\": 1975, \"country\": \"Canada\", \"cluster\": 3, \"pop\": 23209200, \"life_expect\": 74.21, \"fertility\": 1.734}, {\"year\": 1980, \"country\": \"Canada\", \"cluster\": 3, \"pop\": 24593300, \"life_expect\": 75.76, \"fertility\": 1.634}, {\"year\": 1985, \"country\": \"Canada\", \"cluster\": 3, \"pop\": 25941600, \"life_expect\": 76.86, \"fertility\": 1.616}, {\"year\": 1990, \"country\": \"Canada\", \"cluster\": 3, \"pop\": 27790600, \"life_expect\": 77.95, \"fertility\": 1.694}, {\"year\": 1995, \"country\": \"Canada\", \"cluster\": 3, \"pop\": 29619002, \"life_expect\": 78.61, \"fertility\": 1.564}, {\"year\": 2000, \"country\": \"Canada\", \"cluster\": 3, \"pop\": 31278097, \"life_expect\": 79.77, \"fertility\": 1.522}, {\"year\": 2005, \"country\": \"Canada\", \"cluster\": 3, \"pop\": 32805041, \"life_expect\": 80.653, \"fertility\": 1.5270000000000001}, {\"year\": 1955, \"country\": \"Mexico\", \"cluster\": 3, \"pop\": 32929914, \"life_expect\": 55.19, \"fertility\": 6.8}, {\"year\": 1960, \"country\": \"Mexico\", \"cluster\": 3, \"pop\": 38578505, \"life_expect\": 58.299, \"fertility\": 6.7495}, {\"year\": 1965, \"country\": \"Mexico\", \"cluster\": 3, \"pop\": 45142399, \"life_expect\": 60.11, \"fertility\": 6.7495}, {\"year\": 1970, \"country\": \"Mexico\", \"cluster\": 3, \"pop\": 52775158, \"life_expect\": 62.361, \"fertility\": 6.5}, {\"year\": 1975, \"country\": \"Mexico\", \"cluster\": 3, \"pop\": 60678045, \"life_expect\": 65.032, \"fertility\": 5.2505}, {\"year\": 1980, \"country\": \"Mexico\", \"cluster\": 3, \"pop\": 68347479, \"life_expect\": 67.405, \"fertility\": 4.25}, {\"year\": 1985, \"country\": \"Mexico\", \"cluster\": 3, \"pop\": 76767225, \"life_expect\": 69.498, \"fertility\": 3.6295}, {\"year\": 1990, \"country\": \"Mexico\", \"cluster\": 3, \"pop\": 84913652, \"life_expect\": 71.455, \"fertility\": 3.1905}, {\"year\": 1995, \"country\": \"Mexico\", \"cluster\": 3, \"pop\": 92880353, \"life_expect\": 73.67, \"fertility\": 2.6705}, {\"year\": 2000, \"country\": \"Mexico\", \"cluster\": 3, \"pop\": 99926620, \"life_expect\": 74.902, \"fertility\": 2.4005}, {\"year\": 2005, \"country\": \"Mexico\", \"cluster\": 3, \"pop\": 106202903, \"life_expect\": 76.195, \"fertility\": 2.211}, {\"year\": 1955, \"country\": \"United States\", \"cluster\": 3, \"pop\": 165931000, \"life_expect\": 69.49, \"fertility\": 3.706}, {\"year\": 1960, \"country\": \"United States\", \"cluster\": 3, \"pop\": 180671000, \"life_expect\": 70.21, \"fertility\": 3.314}, {\"year\": 1965, \"country\": \"United States\", \"cluster\": 3, \"pop\": 194303000, \"life_expect\": 70.76, \"fertility\": 2.545}, {\"year\": 1970, \"country\": \"United States\", \"cluster\": 3, \"pop\": 205052000, \"life_expect\": 71.34, \"fertility\": 2.016}, {\"year\": 1975, \"country\": \"United States\", \"cluster\": 3, \"pop\": 215973000, \"life_expect\": 73.38, \"fertility\": 1.788}, {\"year\": 1980, \"country\": \"United States\", \"cluster\": 3, \"pop\": 227726463, \"life_expect\": 74.65, \"fertility\": 1.8250000000000002}, {\"year\": 1985, \"country\": \"United States\", \"cluster\": 3, \"pop\": 238466283, \"life_expect\": 75.02, \"fertility\": 1.924}, {\"year\": 1990, \"country\": \"United States\", \"cluster\": 3, \"pop\": 250131894, \"life_expect\": 76.09, \"fertility\": 2.025}, {\"year\": 1995, \"country\": \"United States\", \"cluster\": 3, \"pop\": 266557091, \"life_expect\": 76.81, \"fertility\": 1.994}, {\"year\": 2000, \"country\": \"United States\", \"cluster\": 3, \"pop\": 282338631, \"life_expect\": 77.31, \"fertility\": 2.038}, {\"year\": 2005, \"country\": \"United States\", \"cluster\": 3, \"pop\": 295734134, \"life_expect\": 78.242, \"fertility\": 2.054}]}}, {\"mode\": \"vega-lite\"});\n",
       "</script>"
      ],
      "text/plain": [
       "alt.Chart(...)"
      ]
     },
     "execution_count": 37,
     "metadata": {},
     "output_type": "execute_result"
    }
   ],
   "source": [
    "alt.Chart(dataNA).mark_area().encode(\n",
    "    alt.X('year:O'),\n",
    "    alt.Y('pop:Q', stack='center'),\n",
    "    alt.Color('country:N')\n",
    ")"
   ]
  },
  {
   "cell_type": "markdown",
   "metadata": {
    "colab_type": "text",
    "id": "fQN5a3gfQFBW"
   },
   "source": [
    "\n",
    "Para desabilitar o empilhamento completamente, defina o atributo `stack` como `None`. Também podemos adicionar `opacity` como um parâmetro de marca padrão para garantir que veremos as áreas sobrepostas!"
   ]
  },
  {
   "cell_type": "code",
   "execution_count": 38,
   "metadata": {
    "colab": {
     "base_uri": "https://localhost:8080/",
     "height": 385
    },
    "colab_type": "code",
    "id": "MY8xDiqkKDMc",
    "outputId": "41345e53-eeaa-4c69-969d-738c1479ba26"
   },
   "outputs": [
    {
     "data": {
      "text/html": [
       "\n",
       "<div id=\"altair-viz-5ee3e1a0e151493aa82670a3cd588f53\"></div>\n",
       "<script type=\"text/javascript\">\n",
       "  (function(spec, embedOpt){\n",
       "    let outputDiv = document.currentScript.previousElementSibling;\n",
       "    if (outputDiv.id !== \"altair-viz-5ee3e1a0e151493aa82670a3cd588f53\") {\n",
       "      outputDiv = document.getElementById(\"altair-viz-5ee3e1a0e151493aa82670a3cd588f53\");\n",
       "    }\n",
       "    const paths = {\n",
       "      \"vega\": \"https://cdn.jsdelivr.net/npm//vega@5?noext\",\n",
       "      \"vega-lib\": \"https://cdn.jsdelivr.net/npm//vega-lib?noext\",\n",
       "      \"vega-lite\": \"https://cdn.jsdelivr.net/npm//vega-lite@4.8.1?noext\",\n",
       "      \"vega-embed\": \"https://cdn.jsdelivr.net/npm//vega-embed@6?noext\",\n",
       "    };\n",
       "\n",
       "    function loadScript(lib) {\n",
       "      return new Promise(function(resolve, reject) {\n",
       "        var s = document.createElement('script');\n",
       "        s.src = paths[lib];\n",
       "        s.async = true;\n",
       "        s.onload = () => resolve(paths[lib]);\n",
       "        s.onerror = () => reject(`Error loading script: ${paths[lib]}`);\n",
       "        document.getElementsByTagName(\"head\")[0].appendChild(s);\n",
       "      });\n",
       "    }\n",
       "\n",
       "    function showError(err) {\n",
       "      outputDiv.innerHTML = `<div class=\"error\" style=\"color:red;\">${err}</div>`;\n",
       "      throw err;\n",
       "    }\n",
       "\n",
       "    function displayChart(vegaEmbed) {\n",
       "      vegaEmbed(outputDiv, spec, embedOpt)\n",
       "        .catch(err => showError(`Javascript Error: ${err.message}<br>This usually means there's a typo in your chart specification. See the javascript console for the full traceback.`));\n",
       "    }\n",
       "\n",
       "    if(typeof define === \"function\" && define.amd) {\n",
       "      requirejs.config({paths});\n",
       "      require([\"vega-embed\"], displayChart, err => showError(`Error loading script: ${err.message}`));\n",
       "    } else if (typeof vegaEmbed === \"function\") {\n",
       "      displayChart(vegaEmbed);\n",
       "    } else {\n",
       "      loadScript(\"vega\")\n",
       "        .then(() => loadScript(\"vega-lite\"))\n",
       "        .then(() => loadScript(\"vega-embed\"))\n",
       "        .catch(showError)\n",
       "        .then(() => displayChart(vegaEmbed));\n",
       "    }\n",
       "  })({\"config\": {\"view\": {\"continuousWidth\": 400, \"continuousHeight\": 300}}, \"data\": {\"name\": \"data-90247f35efb014c7706cfdd66a0e9a4d\"}, \"mark\": {\"type\": \"area\", \"opacity\": 0.5}, \"encoding\": {\"color\": {\"type\": \"nominal\", \"field\": \"country\"}, \"x\": {\"type\": \"ordinal\", \"field\": \"year\"}, \"y\": {\"type\": \"quantitative\", \"field\": \"pop\", \"stack\": null}}, \"$schema\": \"https://vega.github.io/schema/vega-lite/v4.8.1.json\", \"datasets\": {\"data-90247f35efb014c7706cfdd66a0e9a4d\": [{\"year\": 1955, \"country\": \"Canada\", \"cluster\": 3, \"pop\": 16050356, \"life_expect\": 69.96, \"fertility\": 3.882}, {\"year\": 1960, \"country\": \"Canada\", \"cluster\": 3, \"pop\": 18266765, \"life_expect\": 71.3, \"fertility\": 3.675}, {\"year\": 1965, \"country\": \"Canada\", \"cluster\": 3, \"pop\": 20071104, \"life_expect\": 72.13, \"fertility\": 2.61}, {\"year\": 1970, \"country\": \"Canada\", \"cluster\": 3, \"pop\": 21749986, \"life_expect\": 72.88, \"fertility\": 1.976}, {\"year\": 1975, \"country\": \"Canada\", \"cluster\": 3, \"pop\": 23209200, \"life_expect\": 74.21, \"fertility\": 1.734}, {\"year\": 1980, \"country\": \"Canada\", \"cluster\": 3, \"pop\": 24593300, \"life_expect\": 75.76, \"fertility\": 1.634}, {\"year\": 1985, \"country\": \"Canada\", \"cluster\": 3, \"pop\": 25941600, \"life_expect\": 76.86, \"fertility\": 1.616}, {\"year\": 1990, \"country\": \"Canada\", \"cluster\": 3, \"pop\": 27790600, \"life_expect\": 77.95, \"fertility\": 1.694}, {\"year\": 1995, \"country\": \"Canada\", \"cluster\": 3, \"pop\": 29619002, \"life_expect\": 78.61, \"fertility\": 1.564}, {\"year\": 2000, \"country\": \"Canada\", \"cluster\": 3, \"pop\": 31278097, \"life_expect\": 79.77, \"fertility\": 1.522}, {\"year\": 2005, \"country\": \"Canada\", \"cluster\": 3, \"pop\": 32805041, \"life_expect\": 80.653, \"fertility\": 1.5270000000000001}, {\"year\": 1955, \"country\": \"Mexico\", \"cluster\": 3, \"pop\": 32929914, \"life_expect\": 55.19, \"fertility\": 6.8}, {\"year\": 1960, \"country\": \"Mexico\", \"cluster\": 3, \"pop\": 38578505, \"life_expect\": 58.299, \"fertility\": 6.7495}, {\"year\": 1965, \"country\": \"Mexico\", \"cluster\": 3, \"pop\": 45142399, \"life_expect\": 60.11, \"fertility\": 6.7495}, {\"year\": 1970, \"country\": \"Mexico\", \"cluster\": 3, \"pop\": 52775158, \"life_expect\": 62.361, \"fertility\": 6.5}, {\"year\": 1975, \"country\": \"Mexico\", \"cluster\": 3, \"pop\": 60678045, \"life_expect\": 65.032, \"fertility\": 5.2505}, {\"year\": 1980, \"country\": \"Mexico\", \"cluster\": 3, \"pop\": 68347479, \"life_expect\": 67.405, \"fertility\": 4.25}, {\"year\": 1985, \"country\": \"Mexico\", \"cluster\": 3, \"pop\": 76767225, \"life_expect\": 69.498, \"fertility\": 3.6295}, {\"year\": 1990, \"country\": \"Mexico\", \"cluster\": 3, \"pop\": 84913652, \"life_expect\": 71.455, \"fertility\": 3.1905}, {\"year\": 1995, \"country\": \"Mexico\", \"cluster\": 3, \"pop\": 92880353, \"life_expect\": 73.67, \"fertility\": 2.6705}, {\"year\": 2000, \"country\": \"Mexico\", \"cluster\": 3, \"pop\": 99926620, \"life_expect\": 74.902, \"fertility\": 2.4005}, {\"year\": 2005, \"country\": \"Mexico\", \"cluster\": 3, \"pop\": 106202903, \"life_expect\": 76.195, \"fertility\": 2.211}, {\"year\": 1955, \"country\": \"United States\", \"cluster\": 3, \"pop\": 165931000, \"life_expect\": 69.49, \"fertility\": 3.706}, {\"year\": 1960, \"country\": \"United States\", \"cluster\": 3, \"pop\": 180671000, \"life_expect\": 70.21, \"fertility\": 3.314}, {\"year\": 1965, \"country\": \"United States\", \"cluster\": 3, \"pop\": 194303000, \"life_expect\": 70.76, \"fertility\": 2.545}, {\"year\": 1970, \"country\": \"United States\", \"cluster\": 3, \"pop\": 205052000, \"life_expect\": 71.34, \"fertility\": 2.016}, {\"year\": 1975, \"country\": \"United States\", \"cluster\": 3, \"pop\": 215973000, \"life_expect\": 73.38, \"fertility\": 1.788}, {\"year\": 1980, \"country\": \"United States\", \"cluster\": 3, \"pop\": 227726463, \"life_expect\": 74.65, \"fertility\": 1.8250000000000002}, {\"year\": 1985, \"country\": \"United States\", \"cluster\": 3, \"pop\": 238466283, \"life_expect\": 75.02, \"fertility\": 1.924}, {\"year\": 1990, \"country\": \"United States\", \"cluster\": 3, \"pop\": 250131894, \"life_expect\": 76.09, \"fertility\": 2.025}, {\"year\": 1995, \"country\": \"United States\", \"cluster\": 3, \"pop\": 266557091, \"life_expect\": 76.81, \"fertility\": 1.994}, {\"year\": 2000, \"country\": \"United States\", \"cluster\": 3, \"pop\": 282338631, \"life_expect\": 77.31, \"fertility\": 2.038}, {\"year\": 2005, \"country\": \"United States\", \"cluster\": 3, \"pop\": 295734134, \"life_expect\": 78.242, \"fertility\": 2.054}]}}, {\"mode\": \"vega-lite\"});\n",
       "</script>"
      ],
      "text/plain": [
       "alt.Chart(...)"
      ]
     },
     "execution_count": 38,
     "metadata": {},
     "output_type": "execute_result"
    }
   ],
   "source": [
    "alt.Chart(dataNA).mark_area(opacity=0.5).encode(\n",
    "    alt.X('year:O'),\n",
    "    alt.Y('pop:Q', stack=None),\n",
    "    alt.Color('country:N')\n",
    ")"
   ]
  },
  {
   "cell_type": "markdown",
   "metadata": {
    "colab_type": "text",
    "id": "ro21p2rsQMl3"
   },
   "source": [
    "O tipo de marca `area` também suporta linhas de base orientadas por dados, com as séries superior e inferior determinadas por campos de dados. Assim como com marcas `bar`, podemos usar os canais `x` e `x2` (ou `y` e `y2`) para fornecer pontos finais para a marca de área.\n",
    "\n",
    "O gráfico abaixo visualiza a variação de fertilidade mínima e máxima, por ano, para os países da América do Norte:"
   ]
  },
  {
   "cell_type": "code",
   "execution_count": 39,
   "metadata": {
    "colab": {
     "base_uri": "https://localhost:8080/",
     "height": 385
    },
    "colab_type": "code",
    "id": "I084oc4aQeMw",
    "outputId": "fb6d0868-79f4-4f96-8f5d-aff6d504b3fe"
   },
   "outputs": [
    {
     "data": {
      "text/html": [
       "\n",
       "<div id=\"altair-viz-f382be61a8794126910735308b273beb\"></div>\n",
       "<script type=\"text/javascript\">\n",
       "  (function(spec, embedOpt){\n",
       "    let outputDiv = document.currentScript.previousElementSibling;\n",
       "    if (outputDiv.id !== \"altair-viz-f382be61a8794126910735308b273beb\") {\n",
       "      outputDiv = document.getElementById(\"altair-viz-f382be61a8794126910735308b273beb\");\n",
       "    }\n",
       "    const paths = {\n",
       "      \"vega\": \"https://cdn.jsdelivr.net/npm//vega@5?noext\",\n",
       "      \"vega-lib\": \"https://cdn.jsdelivr.net/npm//vega-lib?noext\",\n",
       "      \"vega-lite\": \"https://cdn.jsdelivr.net/npm//vega-lite@4.8.1?noext\",\n",
       "      \"vega-embed\": \"https://cdn.jsdelivr.net/npm//vega-embed@6?noext\",\n",
       "    };\n",
       "\n",
       "    function loadScript(lib) {\n",
       "      return new Promise(function(resolve, reject) {\n",
       "        var s = document.createElement('script');\n",
       "        s.src = paths[lib];\n",
       "        s.async = true;\n",
       "        s.onload = () => resolve(paths[lib]);\n",
       "        s.onerror = () => reject(`Error loading script: ${paths[lib]}`);\n",
       "        document.getElementsByTagName(\"head\")[0].appendChild(s);\n",
       "      });\n",
       "    }\n",
       "\n",
       "    function showError(err) {\n",
       "      outputDiv.innerHTML = `<div class=\"error\" style=\"color:red;\">${err}</div>`;\n",
       "      throw err;\n",
       "    }\n",
       "\n",
       "    function displayChart(vegaEmbed) {\n",
       "      vegaEmbed(outputDiv, spec, embedOpt)\n",
       "        .catch(err => showError(`Javascript Error: ${err.message}<br>This usually means there's a typo in your chart specification. See the javascript console for the full traceback.`));\n",
       "    }\n",
       "\n",
       "    if(typeof define === \"function\" && define.amd) {\n",
       "      requirejs.config({paths});\n",
       "      require([\"vega-embed\"], displayChart, err => showError(`Error loading script: ${err.message}`));\n",
       "    } else if (typeof vegaEmbed === \"function\") {\n",
       "      displayChart(vegaEmbed);\n",
       "    } else {\n",
       "      loadScript(\"vega\")\n",
       "        .then(() => loadScript(\"vega-lite\"))\n",
       "        .then(() => loadScript(\"vega-embed\"))\n",
       "        .catch(showError)\n",
       "        .then(() => displayChart(vegaEmbed));\n",
       "    }\n",
       "  })({\"config\": {\"view\": {\"continuousWidth\": 400, \"continuousHeight\": 300}}, \"data\": {\"name\": \"data-90247f35efb014c7706cfdd66a0e9a4d\"}, \"mark\": \"area\", \"encoding\": {\"x\": {\"type\": \"ordinal\", \"field\": \"year\"}, \"y\": {\"type\": \"quantitative\", \"aggregate\": \"min\", \"field\": \"fertility\"}, \"y2\": {\"aggregate\": \"max\", \"field\": \"fertility\"}}, \"width\": {\"step\": 40}, \"$schema\": \"https://vega.github.io/schema/vega-lite/v4.8.1.json\", \"datasets\": {\"data-90247f35efb014c7706cfdd66a0e9a4d\": [{\"year\": 1955, \"country\": \"Canada\", \"cluster\": 3, \"pop\": 16050356, \"life_expect\": 69.96, \"fertility\": 3.882}, {\"year\": 1960, \"country\": \"Canada\", \"cluster\": 3, \"pop\": 18266765, \"life_expect\": 71.3, \"fertility\": 3.675}, {\"year\": 1965, \"country\": \"Canada\", \"cluster\": 3, \"pop\": 20071104, \"life_expect\": 72.13, \"fertility\": 2.61}, {\"year\": 1970, \"country\": \"Canada\", \"cluster\": 3, \"pop\": 21749986, \"life_expect\": 72.88, \"fertility\": 1.976}, {\"year\": 1975, \"country\": \"Canada\", \"cluster\": 3, \"pop\": 23209200, \"life_expect\": 74.21, \"fertility\": 1.734}, {\"year\": 1980, \"country\": \"Canada\", \"cluster\": 3, \"pop\": 24593300, \"life_expect\": 75.76, \"fertility\": 1.634}, {\"year\": 1985, \"country\": \"Canada\", \"cluster\": 3, \"pop\": 25941600, \"life_expect\": 76.86, \"fertility\": 1.616}, {\"year\": 1990, \"country\": \"Canada\", \"cluster\": 3, \"pop\": 27790600, \"life_expect\": 77.95, \"fertility\": 1.694}, {\"year\": 1995, \"country\": \"Canada\", \"cluster\": 3, \"pop\": 29619002, \"life_expect\": 78.61, \"fertility\": 1.564}, {\"year\": 2000, \"country\": \"Canada\", \"cluster\": 3, \"pop\": 31278097, \"life_expect\": 79.77, \"fertility\": 1.522}, {\"year\": 2005, \"country\": \"Canada\", \"cluster\": 3, \"pop\": 32805041, \"life_expect\": 80.653, \"fertility\": 1.5270000000000001}, {\"year\": 1955, \"country\": \"Mexico\", \"cluster\": 3, \"pop\": 32929914, \"life_expect\": 55.19, \"fertility\": 6.8}, {\"year\": 1960, \"country\": \"Mexico\", \"cluster\": 3, \"pop\": 38578505, \"life_expect\": 58.299, \"fertility\": 6.7495}, {\"year\": 1965, \"country\": \"Mexico\", \"cluster\": 3, \"pop\": 45142399, \"life_expect\": 60.11, \"fertility\": 6.7495}, {\"year\": 1970, \"country\": \"Mexico\", \"cluster\": 3, \"pop\": 52775158, \"life_expect\": 62.361, \"fertility\": 6.5}, {\"year\": 1975, \"country\": \"Mexico\", \"cluster\": 3, \"pop\": 60678045, \"life_expect\": 65.032, \"fertility\": 5.2505}, {\"year\": 1980, \"country\": \"Mexico\", \"cluster\": 3, \"pop\": 68347479, \"life_expect\": 67.405, \"fertility\": 4.25}, {\"year\": 1985, \"country\": \"Mexico\", \"cluster\": 3, \"pop\": 76767225, \"life_expect\": 69.498, \"fertility\": 3.6295}, {\"year\": 1990, \"country\": \"Mexico\", \"cluster\": 3, \"pop\": 84913652, \"life_expect\": 71.455, \"fertility\": 3.1905}, {\"year\": 1995, \"country\": \"Mexico\", \"cluster\": 3, \"pop\": 92880353, \"life_expect\": 73.67, \"fertility\": 2.6705}, {\"year\": 2000, \"country\": \"Mexico\", \"cluster\": 3, \"pop\": 99926620, \"life_expect\": 74.902, \"fertility\": 2.4005}, {\"year\": 2005, \"country\": \"Mexico\", \"cluster\": 3, \"pop\": 106202903, \"life_expect\": 76.195, \"fertility\": 2.211}, {\"year\": 1955, \"country\": \"United States\", \"cluster\": 3, \"pop\": 165931000, \"life_expect\": 69.49, \"fertility\": 3.706}, {\"year\": 1960, \"country\": \"United States\", \"cluster\": 3, \"pop\": 180671000, \"life_expect\": 70.21, \"fertility\": 3.314}, {\"year\": 1965, \"country\": \"United States\", \"cluster\": 3, \"pop\": 194303000, \"life_expect\": 70.76, \"fertility\": 2.545}, {\"year\": 1970, \"country\": \"United States\", \"cluster\": 3, \"pop\": 205052000, \"life_expect\": 71.34, \"fertility\": 2.016}, {\"year\": 1975, \"country\": \"United States\", \"cluster\": 3, \"pop\": 215973000, \"life_expect\": 73.38, \"fertility\": 1.788}, {\"year\": 1980, \"country\": \"United States\", \"cluster\": 3, \"pop\": 227726463, \"life_expect\": 74.65, \"fertility\": 1.8250000000000002}, {\"year\": 1985, \"country\": \"United States\", \"cluster\": 3, \"pop\": 238466283, \"life_expect\": 75.02, \"fertility\": 1.924}, {\"year\": 1990, \"country\": \"United States\", \"cluster\": 3, \"pop\": 250131894, \"life_expect\": 76.09, \"fertility\": 2.025}, {\"year\": 1995, \"country\": \"United States\", \"cluster\": 3, \"pop\": 266557091, \"life_expect\": 76.81, \"fertility\": 1.994}, {\"year\": 2000, \"country\": \"United States\", \"cluster\": 3, \"pop\": 282338631, \"life_expect\": 77.31, \"fertility\": 2.038}, {\"year\": 2005, \"country\": \"United States\", \"cluster\": 3, \"pop\": 295734134, \"life_expect\": 78.242, \"fertility\": 2.054}]}}, {\"mode\": \"vega-lite\"});\n",
       "</script>"
      ],
      "text/plain": [
       "alt.Chart(...)"
      ]
     },
     "execution_count": 39,
     "metadata": {},
     "output_type": "execute_result"
    }
   ],
   "source": [
    "alt.Chart(dataNA).mark_area().encode(\n",
    "    alt.X('year:O'),\n",
    "    alt.Y('min(fertility):Q'),\n",
    "    alt.Y2('max(fertility):Q')\n",
    ").properties(\n",
    "    width={\"step\": 40}\n",
    ")"
   ]
  },
  {
   "cell_type": "markdown",
   "metadata": {
    "colab_type": "text",
    "id": "msL27DW2qoqJ"
   },
   "source": [
    "Podemos ver um alcance maior de valores em 1955, de pouco menos de 4 a pouco menos de 7. Em 2005, tanto os valores gerais de fertilidade quanto a variabilidade diminuíram, centralizados em torno de 2 filhos por família."
   ]
  },
  {
   "cell_type": "markdown",
   "metadata": {
    "colab_type": "text",
    "id": "5BoLjQCgrHZL"
   },
   "source": [
    "Todos os exemplos de marca `area` acima usam uma área orientada verticalmente. No entanto, Altair e Vega-Lite também suportam áreas horizontais. Vamos transpor o gŕafico acima, simplesmente trocando os canais `x` e `y`."
   ]
  },
  {
   "cell_type": "code",
   "execution_count": 40,
   "metadata": {
    "colab": {
     "base_uri": "https://localhost:8080/",
     "height": 506
    },
    "colab_type": "code",
    "id": "l_TDR4SNrStr",
    "outputId": "e7bf35e5-c94b-4316-9f8d-0dc68f242763"
   },
   "outputs": [
    {
     "data": {
      "text/html": [
       "\n",
       "<div id=\"altair-viz-328def616a5d4e6087f94dcecaa96dd9\"></div>\n",
       "<script type=\"text/javascript\">\n",
       "  (function(spec, embedOpt){\n",
       "    let outputDiv = document.currentScript.previousElementSibling;\n",
       "    if (outputDiv.id !== \"altair-viz-328def616a5d4e6087f94dcecaa96dd9\") {\n",
       "      outputDiv = document.getElementById(\"altair-viz-328def616a5d4e6087f94dcecaa96dd9\");\n",
       "    }\n",
       "    const paths = {\n",
       "      \"vega\": \"https://cdn.jsdelivr.net/npm//vega@5?noext\",\n",
       "      \"vega-lib\": \"https://cdn.jsdelivr.net/npm//vega-lib?noext\",\n",
       "      \"vega-lite\": \"https://cdn.jsdelivr.net/npm//vega-lite@4.8.1?noext\",\n",
       "      \"vega-embed\": \"https://cdn.jsdelivr.net/npm//vega-embed@6?noext\",\n",
       "    };\n",
       "\n",
       "    function loadScript(lib) {\n",
       "      return new Promise(function(resolve, reject) {\n",
       "        var s = document.createElement('script');\n",
       "        s.src = paths[lib];\n",
       "        s.async = true;\n",
       "        s.onload = () => resolve(paths[lib]);\n",
       "        s.onerror = () => reject(`Error loading script: ${paths[lib]}`);\n",
       "        document.getElementsByTagName(\"head\")[0].appendChild(s);\n",
       "      });\n",
       "    }\n",
       "\n",
       "    function showError(err) {\n",
       "      outputDiv.innerHTML = `<div class=\"error\" style=\"color:red;\">${err}</div>`;\n",
       "      throw err;\n",
       "    }\n",
       "\n",
       "    function displayChart(vegaEmbed) {\n",
       "      vegaEmbed(outputDiv, spec, embedOpt)\n",
       "        .catch(err => showError(`Javascript Error: ${err.message}<br>This usually means there's a typo in your chart specification. See the javascript console for the full traceback.`));\n",
       "    }\n",
       "\n",
       "    if(typeof define === \"function\" && define.amd) {\n",
       "      requirejs.config({paths});\n",
       "      require([\"vega-embed\"], displayChart, err => showError(`Error loading script: ${err.message}`));\n",
       "    } else if (typeof vegaEmbed === \"function\") {\n",
       "      displayChart(vegaEmbed);\n",
       "    } else {\n",
       "      loadScript(\"vega\")\n",
       "        .then(() => loadScript(\"vega-lite\"))\n",
       "        .then(() => loadScript(\"vega-embed\"))\n",
       "        .catch(showError)\n",
       "        .then(() => displayChart(vegaEmbed));\n",
       "    }\n",
       "  })({\"config\": {\"view\": {\"continuousWidth\": 400, \"continuousHeight\": 300}}, \"data\": {\"name\": \"data-90247f35efb014c7706cfdd66a0e9a4d\"}, \"mark\": \"area\", \"encoding\": {\"x\": {\"type\": \"quantitative\", \"aggregate\": \"min\", \"field\": \"fertility\"}, \"x2\": {\"aggregate\": \"max\", \"field\": \"fertility\"}, \"y\": {\"type\": \"ordinal\", \"field\": \"year\"}}, \"width\": {\"step\": 40}, \"$schema\": \"https://vega.github.io/schema/vega-lite/v4.8.1.json\", \"datasets\": {\"data-90247f35efb014c7706cfdd66a0e9a4d\": [{\"year\": 1955, \"country\": \"Canada\", \"cluster\": 3, \"pop\": 16050356, \"life_expect\": 69.96, \"fertility\": 3.882}, {\"year\": 1960, \"country\": \"Canada\", \"cluster\": 3, \"pop\": 18266765, \"life_expect\": 71.3, \"fertility\": 3.675}, {\"year\": 1965, \"country\": \"Canada\", \"cluster\": 3, \"pop\": 20071104, \"life_expect\": 72.13, \"fertility\": 2.61}, {\"year\": 1970, \"country\": \"Canada\", \"cluster\": 3, \"pop\": 21749986, \"life_expect\": 72.88, \"fertility\": 1.976}, {\"year\": 1975, \"country\": \"Canada\", \"cluster\": 3, \"pop\": 23209200, \"life_expect\": 74.21, \"fertility\": 1.734}, {\"year\": 1980, \"country\": \"Canada\", \"cluster\": 3, \"pop\": 24593300, \"life_expect\": 75.76, \"fertility\": 1.634}, {\"year\": 1985, \"country\": \"Canada\", \"cluster\": 3, \"pop\": 25941600, \"life_expect\": 76.86, \"fertility\": 1.616}, {\"year\": 1990, \"country\": \"Canada\", \"cluster\": 3, \"pop\": 27790600, \"life_expect\": 77.95, \"fertility\": 1.694}, {\"year\": 1995, \"country\": \"Canada\", \"cluster\": 3, \"pop\": 29619002, \"life_expect\": 78.61, \"fertility\": 1.564}, {\"year\": 2000, \"country\": \"Canada\", \"cluster\": 3, \"pop\": 31278097, \"life_expect\": 79.77, \"fertility\": 1.522}, {\"year\": 2005, \"country\": \"Canada\", \"cluster\": 3, \"pop\": 32805041, \"life_expect\": 80.653, \"fertility\": 1.5270000000000001}, {\"year\": 1955, \"country\": \"Mexico\", \"cluster\": 3, \"pop\": 32929914, \"life_expect\": 55.19, \"fertility\": 6.8}, {\"year\": 1960, \"country\": \"Mexico\", \"cluster\": 3, \"pop\": 38578505, \"life_expect\": 58.299, \"fertility\": 6.7495}, {\"year\": 1965, \"country\": \"Mexico\", \"cluster\": 3, \"pop\": 45142399, \"life_expect\": 60.11, \"fertility\": 6.7495}, {\"year\": 1970, \"country\": \"Mexico\", \"cluster\": 3, \"pop\": 52775158, \"life_expect\": 62.361, \"fertility\": 6.5}, {\"year\": 1975, \"country\": \"Mexico\", \"cluster\": 3, \"pop\": 60678045, \"life_expect\": 65.032, \"fertility\": 5.2505}, {\"year\": 1980, \"country\": \"Mexico\", \"cluster\": 3, \"pop\": 68347479, \"life_expect\": 67.405, \"fertility\": 4.25}, {\"year\": 1985, \"country\": \"Mexico\", \"cluster\": 3, \"pop\": 76767225, \"life_expect\": 69.498, \"fertility\": 3.6295}, {\"year\": 1990, \"country\": \"Mexico\", \"cluster\": 3, \"pop\": 84913652, \"life_expect\": 71.455, \"fertility\": 3.1905}, {\"year\": 1995, \"country\": \"Mexico\", \"cluster\": 3, \"pop\": 92880353, \"life_expect\": 73.67, \"fertility\": 2.6705}, {\"year\": 2000, \"country\": \"Mexico\", \"cluster\": 3, \"pop\": 99926620, \"life_expect\": 74.902, \"fertility\": 2.4005}, {\"year\": 2005, \"country\": \"Mexico\", \"cluster\": 3, \"pop\": 106202903, \"life_expect\": 76.195, \"fertility\": 2.211}, {\"year\": 1955, \"country\": \"United States\", \"cluster\": 3, \"pop\": 165931000, \"life_expect\": 69.49, \"fertility\": 3.706}, {\"year\": 1960, \"country\": \"United States\", \"cluster\": 3, \"pop\": 180671000, \"life_expect\": 70.21, \"fertility\": 3.314}, {\"year\": 1965, \"country\": \"United States\", \"cluster\": 3, \"pop\": 194303000, \"life_expect\": 70.76, \"fertility\": 2.545}, {\"year\": 1970, \"country\": \"United States\", \"cluster\": 3, \"pop\": 205052000, \"life_expect\": 71.34, \"fertility\": 2.016}, {\"year\": 1975, \"country\": \"United States\", \"cluster\": 3, \"pop\": 215973000, \"life_expect\": 73.38, \"fertility\": 1.788}, {\"year\": 1980, \"country\": \"United States\", \"cluster\": 3, \"pop\": 227726463, \"life_expect\": 74.65, \"fertility\": 1.8250000000000002}, {\"year\": 1985, \"country\": \"United States\", \"cluster\": 3, \"pop\": 238466283, \"life_expect\": 75.02, \"fertility\": 1.924}, {\"year\": 1990, \"country\": \"United States\", \"cluster\": 3, \"pop\": 250131894, \"life_expect\": 76.09, \"fertility\": 2.025}, {\"year\": 1995, \"country\": \"United States\", \"cluster\": 3, \"pop\": 266557091, \"life_expect\": 76.81, \"fertility\": 1.994}, {\"year\": 2000, \"country\": \"United States\", \"cluster\": 3, \"pop\": 282338631, \"life_expect\": 77.31, \"fertility\": 2.038}, {\"year\": 2005, \"country\": \"United States\", \"cluster\": 3, \"pop\": 295734134, \"life_expect\": 78.242, \"fertility\": 2.054}]}}, {\"mode\": \"vega-lite\"});\n",
       "</script>"
      ],
      "text/plain": [
       "alt.Chart(...)"
      ]
     },
     "execution_count": 40,
     "metadata": {},
     "output_type": "execute_result"
    }
   ],
   "source": [
    "alt.Chart(dataNA).mark_area().encode(\n",
    "    alt.Y('year:O'),\n",
    "    alt.X('min(fertility):Q'),\n",
    "    alt.X2('max(fertility):Q')\n",
    ").properties(\n",
    "    width={\"step\": 40}\n",
    ")"
   ]
  },
  {
   "cell_type": "markdown",
   "metadata": {
    "colab_type": "text",
    "id": "OAmIxLRarios"
   },
   "source": [
    "## 2.5. Resumo\n",
    "\n",
    "Concluímos nosso passeio pelos tipos de dados, canais de codificação e marcas gráficas! Agora você deve estar bem equipado para explorar ainda mais o espaço de codificações, tipos de marcas e parâmetros de marcas. Para uma referência abrangente - incluindo recursos que pulamos aqui! &ndash; consulte a documentação do Altair [marks](https://altair-viz.github.io/user_guide/marks.html) e [encoding](https://altair-viz.github.io/user_guide/encoding.html).\n",
    "\n",
    "No próximo módulo, veremos o uso de transformações de dados para criar gráficos que resumem dados ou visualizam novos campos derivados. Em um módulo posterior, examinaremos como personalizar ainda mais seus gráficos modificando escalas, eixos e legendas.\n",
    "\n",
    "Interessado em aprender mais sobre codificação visual?"
   ]
  },
  {
   "cell_type": "markdown",
   "metadata": {},
   "source": [
    "<img title=\"Bertin's Taxonomy canais de codificação visual\" src=\"https://cdn-images-1.medium.com/max/2000/1*jsb78Rr2cDy6zrE7j2IKig.png\" style=\"max-width: 650px;\"><br/>\n",
    "\n",
    "<small>Bertin's taxonomia de codificações visuais de<a href=\"https://books.google.com/books/about/Semiology_of_Graphics.html?id=X5caQwAACAAJ\"><em> Semiologia Gráfica</em></a>,  <a href=\"https://bost.ocks.org/mike/\">Mike Bostock</a>.</small>"
   ]
  },
  {
   "cell_type": "markdown",
   "metadata": {},
   "source": [
    "- O estudo sistemático das marcas, codificações visuais e tipos de dados subjacentes foi iniciado por [Jacques Bertin](https://en.wikipedia.org/wiki/Jacques_Bertin) em seu trabalho pioneiro de 1967, Sémiologie Graphique [_Sémiologie Graphique (The Semiology of Graphics)_](https://books.google.com/books/about/Semiology_of_Graphics.html?id=X5caQwAACAAJ). A imagem acima ilustra os canais de posição, tamanho, valor (brilho), textura, cor (matiz), orientação e forma, juntamente com as recomendações de Bertin sobre os tipos de dados que eles suportam.\n",
    "\n",
    "- A estrutura de tipos de dados, marcas e canais também orienta as ferramentas automatizadas de design de visualização, começando com [Mackinlay's APT (A Presentation Tool)](https://scholar.google.com/scholar?cluster=10191273548472217907) em 1986, e continuando em sistemas mais recentes, como [Voyager](http://idl.cs.washington.edu/papers/voyager/) e [Draco](http://idl.cs.washington.edu/papers/draco/).\n",
    "\n",
    "- A identificação de tipos nominais, ordinais, intervalares e proporcionais remonta, pelo menos, ao artigo de S. S. Stevens de 1947 [_On the theory of scales of measurement_](https://scholar.google.com/scholar?cluster=14356809180080326415)."
   ]
  }
 ],
 "metadata": {
  "kernelspec": {
   "display_name": "Python 3 (ipykernel)",
   "language": "python",
   "name": "python3"
  },
  "language_info": {
   "codemirror_mode": {
    "name": "ipython",
    "version": 3
   },
   "file_extension": ".py",
   "mimetype": "text/x-python",
   "name": "python",
   "nbconvert_exporter": "python",
   "pygments_lexer": "ipython3",
   "version": "3.11.1"
  }
 },
 "nbformat": 4,
 "nbformat_minor": 4
}
